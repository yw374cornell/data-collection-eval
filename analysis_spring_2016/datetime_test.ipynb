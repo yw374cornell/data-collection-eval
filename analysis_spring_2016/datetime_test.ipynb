{
 "cells": [
  {
   "cell_type": "code",
   "execution_count": 18,
   "metadata": {
    "collapsed": true
   },
   "outputs": [],
   "source": [
    "import sys\n",
    "import logging\n",
    "from uuid import UUID\n",
    "\n",
    "import emission.core.get_database as edb\n",
    "import pandas as pd\n",
    "import matplotlib.pyplot as plt\n",
    "%matplotlib inline\n",
    "import datetime as pydt\n",
    "import emission.storage.timeseries.abstract_timeseries as esta\n",
    "\n",
    "logging.getLogger().setLevel(logging.DEBUG)\n",
    "logging.debug(sys.path)\n",
    "\n",
    "iphone_ids = [UUID(\"079e0f1a-c440-3d7c-b0e7-de160f748e35\"), UUID(\"c76a0487-7e5a-3b17-a449-47be666b36f6\"), \n",
    "              UUID(\"c528bcd2-a88b-3e82-be62-ef4f2396967a\")]\n",
    "android_ids = [UUID(\"e471711e-bd14-3dbe-80b6-9c7d92ecc296\"), UUID(\"fd7b4c2e-2c8b-3bfa-94f0-d1e3ecbd5fb7\"),\n",
    "               UUID(\"86842c35-da28-32ed-a90e-2da6663c5c73\")]"
   ]
  },
  {
   "cell_type": "code",
   "execution_count": 19,
   "metadata": {
    "collapsed": false
   },
   "outputs": [
    {
     "data": {
      "text/plain": [
       "[]"
      ]
     },
     "execution_count": 19,
     "metadata": {},
     "output_type": "execute_result"
    }
   ],
   "source": [
    "list(edb.get_timeseries_db().find({\"metadata.key\": \"config/sensor_config\", \"data.battery_status\": {\"$exists\": True}}).sort(\"metadata.write_ts\").limit(10))"
   ]
  },
  {
   "cell_type": "code",
   "execution_count": 44,
   "metadata": {
    "collapsed": true
   },
   "outputs": [],
   "source": [
    "#type: list of emission.storage.timeseries.builtin_timeseries.BuiltinTimeSeries\n",
    "iphone_ts = map(lambda u: esta.TimeSeries.get_time_series(u), iphone_ids)\n",
    "android_ts = map(lambda u: esta.TimeSeries.get_time_series(u), android_ids)\n",
    "\n",
    "#BuiltinTimeSeries.get_data_df(key, time_query = None, geo_query = None, extra_query_list=None) \n",
    "#type: list of DataFrame objects (regarding state info)\n",
    "_iphone_state_df_list = map(lambda t:t.get_data_df(\"statemachine/transition\"), iphone_ts)\n",
    "_android_state_df_list = map(lambda t:t.get_data_df(\"statemachine/transition\"), android_ts)\n",
    "\n",
    "_iphone_battery_df_list = map(lambda t:t.get_data_df(\"background/battery\"), iphone_ts)\n",
    "_android_battery_df_list = map(lambda t:t.get_data_df(\"background/battery\"), android_ts)\n",
    "\n",
    "_iphone_config_df_list = map(lambda t:t.get_data_df(\"config/sensor_config\"), iphone_ts)\n",
    "_android_config_df_list = map(lambda t:t.get_data_df(\"config/sensor_config\"), android_ts)\n",
    "\n",
    "ts_to_dt = lambda t: pydt.datetime.fromtimestamp(t)\n",
    "\n",
    "i_config_df_list=[]\n",
    "for df in _iphone_config_df_list:\n",
    "    df['local_dt'] = df['metadata_write_ts'].apply(ts_to_dt)\n",
    "    df['ts'] = df['metadata_write_ts']\n",
    "    i_config_df_list.append(df)\n",
    "\n",
    "a_config_df_list=[]\n",
    "for df in _android_config_df_list:\n",
    "    df['local_dt'] = df['metadata_write_ts'].apply(ts_to_dt)\n",
    "    df['ts'] = df['metadata_write_ts'] #<class 'pandas.core.series.Series'>\n",
    "    a_config_df_list.append(df)"
   ]
  },
  {
   "cell_type": "code",
   "execution_count": 45,
   "metadata": {
    "collapsed": true
   },
   "outputs": [],
   "source": [
    "def local_dt_range(t):\n",
    "    #time range specification\n",
    "    dt1 = pydt.datetime(2016, 6, 24, 22, 0) #datetime.datetime(2016, 6, 24, 22, 0)\n",
    "    dt2 = pydt.datetime(2016, 6, 26, 23, 0)\n",
    "    dic = {}\n",
    "    if (type(t) == type(dic)):\n",
    "        y = t.get('year')\n",
    "        m = t.get('month')\n",
    "        d = t.get('day')\n",
    "        h = t.get('hour')\n",
    "        mi = t.get('minute')\n",
    "        dt = pydt.datetime(y, m, d, h, mi)\n",
    "        if dt1<=dt and dt<=dt2:\n",
    "            return True\n",
    "        else:\n",
    "            return False\n",
    "        \n",
    "    ts = pd.Timestamp(pydt.datetime(2012, 5, 1))\n",
    "    if (type(t) == type(ts)):\n",
    "        dt = t.to_datetime()\n",
    "        if dt1<=dt and dt<=dt2:\n",
    "            return True\n",
    "        else:\n",
    "            return False\n",
    "    return False"
   ]
  },
  {
   "cell_type": "code",
   "execution_count": 46,
   "metadata": {
    "collapsed": true
   },
   "outputs": [],
   "source": [
    "#query info from a specified time range\n",
    "#columns:_id|curr_state|fmt_time|local_dt|metadata_write_ts|transition|ts#\n",
    "#testified: pydt.datetime.fromtimestamp(ts/meta_ts) = fmt_time/local_dt#\n",
    "iphone_state_df_list = map(lambda t: t[t.local_dt.apply(local_dt_range)], _iphone_state_df_list)\n",
    "android_state_df_list = map(lambda t: t[t.local_dt.apply(local_dt_range)], _android_state_df_list)\n",
    "\n",
    "#columns: _id|battery_level_pct|battery_status|fmt_time|local_dt|metadata_write_ts|ts#\n",
    "#testified: pydt.datetime.fromtimestamp(ts/meta_ts) = fmt_time/local_dt#\n",
    "iphone_battery_df_list = map(lambda t: t[t.local_dt.apply(local_dt_range)], _iphone_battery_df_list)\n",
    "android_battery_df_list = map(lambda t: t[t.local_dt.apply(local_dt_range)], _android_battery_df_list)\n",
    "\n",
    "#_id|accuarcy|accuracy_threshold|android_geofence_responsiveness|filter_distance|filter_time|geofence_radius|\n",
    "#ios_use_remote_push_for_sync|ios_use_visit_noti_for_detection|is_duty_cycling|metadata_write_ts|simulate_user_inter|\n",
    "#trip_end_stationary_mins|\n",
    "#\"new_columns\": local_dt|ts|\n",
    "iphone_config_df_list = map(lambda t: t[t.local_dt.apply(local_dt_range)], i_config_df_list)\n",
    "android_config_df_list = map(lambda t: t[t.local_dt.apply(local_dt_range)], a_config_df_list)"
   ]
  },
  {
   "cell_type": "code",
   "execution_count": 47,
   "metadata": {
    "collapsed": false
   },
   "outputs": [],
   "source": [
    "ios1_s = iphone_state_df_list[0]\n",
    "ios1_s[0:1]\n",
    "ios1_b = iphone_battery_df_list[0]\n",
    "#ios1_b\n",
    "ios1_c = iphone_config_df_list[0]\n",
    "#ios1_c"
   ]
  },
  {
   "cell_type": "code",
   "execution_count": 51,
   "metadata": {
    "collapsed": false
   },
   "outputs": [
    {
     "data": {
      "text/html": [
       "<div>\n",
       "<table border=\"1\" class=\"dataframe\">\n",
       "  <thead>\n",
       "    <tr style=\"text-align: right;\">\n",
       "      <th></th>\n",
       "      <th>metadata_write_ts</th>\n",
       "      <th>local_dt</th>\n",
       "      <th>ts</th>\n",
       "    </tr>\n",
       "  </thead>\n",
       "  <tbody>\n",
       "    <tr>\n",
       "      <th>4</th>\n",
       "      <td>1.466831e+09</td>\n",
       "      <td>2016-06-24 22:01:39.626626</td>\n",
       "      <td>1.466831e+09</td>\n",
       "    </tr>\n",
       "    <tr>\n",
       "      <th>5</th>\n",
       "      <td>1.466831e+09</td>\n",
       "      <td>2016-06-24 22:07:36.299538</td>\n",
       "      <td>1.466831e+09</td>\n",
       "    </tr>\n",
       "    <tr>\n",
       "      <th>6</th>\n",
       "      <td>1.466831e+09</td>\n",
       "      <td>2016-06-24 22:07:36.855116</td>\n",
       "      <td>1.466831e+09</td>\n",
       "    </tr>\n",
       "    <tr>\n",
       "      <th>7</th>\n",
       "      <td>1.466833e+09</td>\n",
       "      <td>2016-06-24 22:35:24.139247</td>\n",
       "      <td>1.466833e+09</td>\n",
       "    </tr>\n",
       "    <tr>\n",
       "      <th>8</th>\n",
       "      <td>1.466834e+09</td>\n",
       "      <td>2016-06-24 22:46:34.723293</td>\n",
       "      <td>1.466834e+09</td>\n",
       "    </tr>\n",
       "    <tr>\n",
       "      <th>9</th>\n",
       "      <td>1.466994e+09</td>\n",
       "      <td>2016-06-26 19:18:16.027431</td>\n",
       "      <td>1.466994e+09</td>\n",
       "    </tr>\n",
       "    <tr>\n",
       "      <th>10</th>\n",
       "      <td>1.466994e+09</td>\n",
       "      <td>2016-06-26 19:25:11.911947</td>\n",
       "      <td>1.466994e+09</td>\n",
       "    </tr>\n",
       "    <tr>\n",
       "      <th>11</th>\n",
       "      <td>1.466994e+09</td>\n",
       "      <td>2016-06-26 19:25:16.285784</td>\n",
       "      <td>1.466994e+09</td>\n",
       "    </tr>\n",
       "  </tbody>\n",
       "</table>\n",
       "</div>"
      ],
      "text/plain": [
       "    metadata_write_ts                   local_dt            ts\n",
       "4        1.466831e+09 2016-06-24 22:01:39.626626  1.466831e+09\n",
       "5        1.466831e+09 2016-06-24 22:07:36.299538  1.466831e+09\n",
       "6        1.466831e+09 2016-06-24 22:07:36.855116  1.466831e+09\n",
       "7        1.466833e+09 2016-06-24 22:35:24.139247  1.466833e+09\n",
       "8        1.466834e+09 2016-06-24 22:46:34.723293  1.466834e+09\n",
       "9        1.466994e+09 2016-06-26 19:18:16.027431  1.466994e+09\n",
       "10       1.466994e+09 2016-06-26 19:25:11.911947  1.466994e+09\n",
       "11       1.466994e+09 2016-06-26 19:25:16.285784  1.466994e+09"
      ]
     },
     "execution_count": 51,
     "metadata": {},
     "output_type": "execute_result"
    }
   ],
   "source": [
    "ts_to_dt = lambda t: pydt.datetime.fromtimestamp(t)\n",
    "#ios1_b.loc[:,'dt'] = ios1_b['metadata_write_ts'].apply(ts_to_dt)\n",
    "ios1_c[['metadata_write_ts','local_dt','ts']]"
   ]
  },
  {
   "cell_type": "code",
   "execution_count": null,
   "metadata": {
    "collapsed": true
   },
   "outputs": [],
   "source": []
  },
  {
   "cell_type": "code",
   "execution_count": null,
   "metadata": {
    "collapsed": true
   },
   "outputs": [],
   "source": []
  }
 ],
 "metadata": {
  "kernelspec": {
   "display_name": "Python 2",
   "language": "python",
   "name": "python2"
  },
  "language_info": {
   "codemirror_mode": {
    "name": "ipython",
    "version": 2
   },
   "file_extension": ".py",
   "mimetype": "text/x-python",
   "name": "python",
   "nbconvert_exporter": "python",
   "pygments_lexer": "ipython2",
   "version": "2.7.11"
  }
 },
 "nbformat": 4,
 "nbformat_minor": 0
}
