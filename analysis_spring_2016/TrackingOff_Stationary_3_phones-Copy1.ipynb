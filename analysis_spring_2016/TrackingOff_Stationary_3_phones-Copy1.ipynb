{
 "cells": [
  {
   "cell_type": "code",
   "execution_count": 7,
   "metadata": {
    "collapsed": false
   },
   "outputs": [],
   "source": [
    "import sys\n",
    "import logging\n",
    "from uuid import UUID\n",
    "\n",
    "import emission.core.get_database as edb\n",
    "import pandas as pd\n",
    "import matplotlib.pyplot as plt\n",
    "%matplotlib inline\n",
    "import datetime as pydt\n",
    "import emission.storage.timeseries.abstract_timeseries as esta\n",
    "import emission.storage.timeseries.timequery as estt\n",
    "\n",
    "logging.getLogger().setLevel(logging.DEBUG)\n",
    "logging.debug(sys.path)\n",
    "\n",
    "#iphone_ids = [UUID(\"079e0f1a-c440-3d7c-b0e7-de160f748e35\"), UUID(\"c76a0487-7e5a-3b17-a449-47be666b36f6\"), \n",
    "#              UUID(\"c528bcd2-a88b-3e82-be62-ef4f2396967a\"), UUID(\"95e70727-a04e-3e33-b7fe-34ab19194f8b\")]\n",
    "android_ids = [UUID(\"e471711e-bd14-3dbe-80b6-9c7d92ecc296\"), UUID(\"fd7b4c2e-2c8b-3bfa-94f0-d1e3ecbd5fb7\"),\n",
    "               UUID(\"86842c35-da28-32ed-a90e-2da6663c5c73\"), UUID(\"3bc0f91f-7660-34a2-b005-5c399598a369\")]\n",
    "\n",
    "iphone_ids = [UUID(\"079e0f1a-c440-3d7c-b0e7-de160f748e35\"), UUID(\"c76a0487-7e5a-3b17-a449-47be666b36f6\"), \n",
    "              UUID(\"c528bcd2-a88b-3e82-be62-ef4f2396967a\")]\n",
    "#android_ids = [UUID(\"e471711e-bd14-3dbe-80b6-9c7d92ecc296\"), UUID(\"fd7b4c2e-2c8b-3bfa-94f0-d1e3ecbd5fb7\"),\n",
    "#               UUID(\"86842c35-da28-32ed-a90e-2da6663c5c73\")]"
   ]
  },
  {
   "cell_type": "code",
   "execution_count": null,
   "metadata": {
    "collapsed": false
   },
   "outputs": [],
   "source": [
    "list(edb.get_timeseries_db().find({\"metadata.key\": \"config/sensor_config\", \"data.battery_status\": {\"$exists\": True}}).sort(\"metadata.write_ts\").limit(10))"
   ]
  },
  {
   "cell_type": "code",
   "execution_count": null,
   "metadata": {
    "collapsed": false
   },
   "outputs": [],
   "source": [
    "#type: list of emission.storage.timeseries.builtin_timeseries.BuiltinTimeSeries\n",
    "iphone_ts = map(lambda u: esta.TimeSeries.get_time_series(u), iphone_ids)\n",
    "android_ts = map(lambda u: esta.TimeSeries.get_time_series(u), android_ids)\n",
    "\n",
    "#time query specification\n",
    "dt1 = pydt.datetime(2016, 7, 2, 16, 0) #datetime.datetime(2016, 6, 24, 22, 0)\n",
    "dt2 = pydt.datetime(2016, 7, 8, 0, 0)\n",
    "\n",
    "ts1 = int(dt1.strftime(\"%s\"))\n",
    "ts2 = int(dt2.strftime(\"%s\"))\n",
    "\n",
    "time_range = estt.TimeQuery(\"metadata.write_ts\", ts1, ts2)\n",
    "\n",
    "#BuiltinTimeSeries.get_data_df(key, time_query = None, geo_query = None, extra_query_list=None) \n",
    "#type: list of DataFrame objects (regarding state info)\n",
    "iphone_state_df_list = map(lambda t:t.get_data_df(\"statemachine/transition\", time_range), iphone_ts)\n",
    "android_state_df_list = map(lambda t:t.get_data_df(\"statemachine/transition\", time_range), android_ts)\n",
    "\n",
    "iphone_battery_df_list = map(lambda t:t.get_data_df(\"background/battery\", time_range), iphone_ts)\n",
    "android_battery_df_list = map(lambda t:t.get_data_df(\"background/battery\", time_range), android_ts)"
   ]
  },
  {
   "cell_type": "code",
   "execution_count": null,
   "metadata": {
    "collapsed": false
   },
   "outputs": [],
   "source": [
    "print type(iphone_ts[0])\n",
    "df = iphone_state_df_list[0]\n",
    "j = df.to_json\n",
    "type(j)\n",
    "type(df.to_json)"
   ]
  },
  {
   "cell_type": "code",
   "execution_count": null,
   "metadata": {
    "collapsed": true
   },
   "outputs": [],
   "source": []
  },
  {
   "cell_type": "code",
   "execution_count": null,
   "metadata": {
    "collapsed": true
   },
   "outputs": [],
   "source": []
  },
  {
   "cell_type": "code",
   "execution_count": null,
   "metadata": {
    "collapsed": true
   },
   "outputs": [],
   "source": [
    "def get_ranges_df(battery_df, state_df):\n",
    "    #find start_state_ts & end_state_ts for the period when state=3=tracking_stopped\n",
    "    tracking_stopped_df = state_df[state_df.curr_state == 3]\n",
    "    tracking_stopped_df.reset_index(inplace=True)\n",
    "    start_state_ts = battery_df.iloc[0].ts\n",
    "    #if len(tracking_stopped_df)==1:\n",
    "    #    end_state_ts = battery_df.iloc[-1].ts\n",
    "    #else:\n",
    "    #    end_state_ts = tracking_stopped_df.iloc[-1].ts\n",
    "    end_state_ts = battery_df.iloc[-1].ts\n",
    "    \n",
    "    discharging_df = battery_df[(battery_df.ts >= start_state_ts) & (battery_df.ts <= end_state_ts) \n",
    "                                  & ((battery_df.battery_status == 1) )]\n",
    "    discharging_df.reset_index(inplace=True)\n",
    "    #start_ts = discharging_df.iloc[0].ts\n",
    "    #end_ts = discharging_df.iloc[-1].ts\n",
    "    start_ts = start_state_ts\n",
    "    end_ts = end_state_ts \n",
    "    \n",
    "    ranges_df = pd.DataFrame({'start_ts': [start_ts], 'end_ts': [end_ts]})\n",
    "    return ranges_df"
   ]
  },
  {
   "cell_type": "code",
   "execution_count": null,
   "metadata": {
    "collapsed": false
   },
   "outputs": [],
   "source": [
    "def get_ranges_df_list(battery_df_list, state_df_list):\n",
    "    ranges_df_list = []\n",
    "    length = len(battery_df_list)\n",
    "    for i in range(0, length):\n",
    "        ranges_df_list.append(get_ranges_df(battery_df_list[i], state_df_list[i]))\n",
    "    return ranges_df_list"
   ]
  },
  {
   "cell_type": "code",
   "execution_count": null,
   "metadata": {
    "collapsed": false
   },
   "outputs": [],
   "source": [
    "iphone_ranges_df_list = get_ranges_df_list(iphone_battery_df_list, iphone_state_df_list)\n",
    "\n",
    "iphone_concat_ranges_df = pd.concat([iphone_ranges_df_list[0], iphone_ranges_df_list[1], iphone_ranges_df_list[2]])\n",
    "#iphone_concat_ranges_df = pd.concat([iphone_ranges_df_list[0], iphone_ranges_df_list[1], iphone_ranges_df_list[2], iphone_ranges_df_list[3]])\n",
    "iphone_concat_ranges_df\n",
    "\n",
    "ts_to_dt = lambda t: pydt.datetime.fromtimestamp(t)\n",
    "iphone_concat_ranges_df['start'] = iphone_concat_ranges_df.start_ts.apply(ts_to_dt)\n",
    "iphone_concat_ranges_df\n",
    "#concat_ranges_df = ranges_df_list[0]\n",
    "#concat_ranges_df.append(ranges_df_list[1])\n",
    "#for i in range(1,4):\n",
    "#    concat_ranges_df.append(ranges_df_list[i], ignore_index=True)"
   ]
  },
  {
   "cell_type": "code",
   "execution_count": null,
   "metadata": {
    "collapsed": false
   },
   "outputs": [],
   "source": [
    "n=2\n",
    "a0_b = android_battery_df_list[n]\n",
    "a0_s = android_state_df_list[n]\n",
    "a0_b[:1]\n",
    "get_ranges_df(a0_b, a0_s)\n",
    "len(android_battery_df_list)\n"
   ]
  },
  {
   "cell_type": "code",
   "execution_count": null,
   "metadata": {
    "collapsed": false
   },
   "outputs": [],
   "source": [
    "android_ranges_df_list = get_ranges_df_list(android_battery_df_list, android_state_df_list)\n",
    "print len(android_ranges_df_list)\n",
    "\n",
    "#android_concat_ranges_df = pd.concat([android_ranges_df_list[0], android_ranges_df_list[1], android_ranges_df_list[2]])\n",
    "android_concat_ranges_df = pd.concat([android_ranges_df_list[0], android_ranges_df_list[1], android_ranges_df_list[2], android_ranges_df_list[3]])\n",
    "android_concat_ranges_df"
   ]
  },
  {
   "cell_type": "code",
   "execution_count": null,
   "metadata": {
    "collapsed": false
   },
   "outputs": [],
   "source": [
    "###..testing..###\n",
    "battery_df = pd.DataFrame({'battery_status': [1, 1, 3, 1, 0],\n",
    "                         'ts': [2.5, 3, 3.5, 4, 4.1],\n",
    "                         'battery_level_pct': [100, 1, 1, 1, 100]})\n",
    "battery_df\n",
    "state_df = pd.DataFrame({'curr_state': [1, 3, 3, 3, 2, 1],\n",
    "                     'ts': [1, 2, 3, 4, 5, 6]})\n",
    "state_df\n",
    "#r = get_ranges_df(battery_df, state_df)\n",
    "#r\n",
    "print r\n",
    "###..testing..###"
   ]
  },
  {
   "cell_type": "code",
   "execution_count": null,
   "metadata": {
    "collapsed": false
   },
   "outputs": [],
   "source": [
    "iphone_max_start_ts = iphone_concat_ranges_df.start_ts.max() \n",
    "iphone_min_end_ts = iphone_concat_ranges_df.end_ts.min() \n",
    "print 'iphone_start_ts=' + str(iphone_max_start_ts) + '\\n' + 'iphone_end_ts=' + str(iphone_min_end_ts)\n",
    "print 'iphone_start_ts=' + str(ts_to_dt(iphone_max_start_ts)) + '\\n' + 'iphone_end_ts=' + str(iphone_min_end_ts)\n",
    "\n",
    "android_max_start_ts = android_concat_ranges_df.start_ts.max() \n",
    "android_min_end_ts = android_concat_ranges_df.end_ts.min() \n",
    "print 'android_start_ts=' + str(android_max_start_ts) + '\\n' + 'android_end_ts=' + str(android_min_end_ts)"
   ]
  },
  {
   "cell_type": "code",
   "execution_count": null,
   "metadata": {
    "collapsed": false
   },
   "outputs": [],
   "source": [
    "import numpy as np\n",
    "\n",
    "iphone_xnew = np.arange(iphone_max_start_ts, iphone_min_end_ts, 15 * 60) # 15 minutes\n",
    "print len(iphone_xnew)\n",
    "\n",
    "android_xnew = np.arange(android_max_start_ts, android_min_end_ts, 15 * 60) # 15 minutes\n",
    "print type(android_xnew)"
   ]
  },
  {
   "cell_type": "code",
   "execution_count": null,
   "metadata": {
    "collapsed": true
   },
   "outputs": [],
   "source": [
    "import scipy.interpolate as spi\n",
    "import numpy as np\n",
    "\n",
    "def get_interpolated(x, y, xnew):\n",
    "    # fn = spi.interp1d(x=x, y=y, bounds_error=False, fill_value=y.iloc[-1])\n",
    "    fn = spi.interp1d(x=x, y=y, bounds_error=False)\n",
    "    #This class returns a function whose call method uses interpolation to find the value of new points.\n",
    "    return fn(xnew)"
   ]
  },
  {
   "cell_type": "code",
   "execution_count": null,
   "metadata": {
    "collapsed": true
   },
   "outputs": [],
   "source": [
    "def get_interpolated_df(sensor_df, xnew):\n",
    "    local_dt_new = map(pydt.datetime.fromtimestamp, xnew)\n",
    "    fmt_time_new = map(lambda dt: dt.isoformat(), local_dt_new)\n",
    "    #date.isoformat() Return a string representing the date in ISO 8601 format, ‘YYYY-MM-DD’. \n",
    "    # -For example, date(2002, 12, 4).isoformat() == '2002-12-04'.\n",
    "    interpolated_series = get_interpolated(sensor_df.ts, sensor_df.battery_level_pct, xnew)\n",
    "    # print \"interpolated_series = %s\" % interpolated_series\n",
    "    interpolated_df = pd.DataFrame(data={'ts': xnew, 'metadata_write_ts': xnew, 'local_dt': local_dt_new, 'fmt_time': fmt_time_new, 'battery_level_pct': interpolated_series})\n",
    "    return interpolated_df"
   ]
  },
  {
   "cell_type": "code",
   "execution_count": null,
   "metadata": {
    "collapsed": false
   },
   "outputs": [],
   "source": [
    "iphone_battery_interp_df_list = map(lambda df: get_interpolated_df(df, iphone_xnew), iphone_battery_df_list)\n",
    "android_battery_interp_df_list = map(lambda df: get_interpolated_df(df, android_xnew), android_battery_df_list)"
   ]
  },
  {
   "cell_type": "code",
   "execution_count": null,
   "metadata": {
    "collapsed": false
   },
   "outputs": [],
   "source": [
    "#trying scatter plot with panda\n",
    "tmp = iphone_battery_df_list[1]\n",
    "tmp.plot(x='ts', y='battery_level_pct', kind='scatter')\n",
    "\n",
    "xnew = tmp['metadata_write_ts'].values\n",
    "local_dt_new = map(pydt.datetime.fromtimestamp, xnew)\n",
    "tmp_df = pd.DataFrame(data={'local_dt': local_dt_new, 'battery_level_pct': tmp.battery_level_pct})\n",
    "tmp_df.plot(x='local_dt', y='battery_level_pct', style=\".\")\n"
   ]
  },
  {
   "cell_type": "code",
   "execution_count": null,
   "metadata": {
    "collapsed": true
   },
   "outputs": [],
   "source": [
    "label = ['10m', '30m', '1h', 'None']"
   ]
  },
  {
   "cell_type": "code",
   "execution_count": null,
   "metadata": {
    "collapsed": false
   },
   "outputs": [],
   "source": [
    "a1 = iphone_battery_df_list[0]\n",
    "a1.ts.apply(ts_to_dt)"
   ]
  },
  {
   "cell_type": "code",
   "execution_count": null,
   "metadata": {
    "collapsed": false
   },
   "outputs": [],
   "source": [
    "#iOS: No interplation on battery data\n",
    "(afig, aaxes2d) = plt.subplots(ncols=1, nrows=3, sharex=True, sharey=True, figsize=(16,6))\n",
    "aaxes = aaxes2d.flatten()\n",
    "\n",
    "afig.suptitle('Overall_Jun_28-29 (iOS_remote_push)', fontsize=14, fontweight='bold')\n",
    "color = ['ob', 'og', 'or', 'oc']\n",
    "\n",
    "for i, df in enumerate(iphone_battery_df_list):\n",
    "    if i<>3: \n",
    "        print \"About to plot %d\" % i\n",
    "        ts_to_dt = lambda t: pydt.datetime.fromtimestamp(t)\n",
    "        df['dt'] = df.metadata_write_ts.apply(ts_to_dt)\n",
    "        df.plot(x='dt', y='battery_level_pct', style=color[i], ylim=(92, 102), ax=aaxes[i], title=\"iphone.%s\" % (i+1), label=label[i])\n",
    "        #df.plot(x='ts', y='battery_level_pct', kind='scatter', ax=aaxes[i], title=\"iphone.%s\" % (i+1), label=\"iphone-%s\" % (i+1), color=color[i])\n",
    "        aaxes[i].set_xlabel('time')\n",
    "        aaxes[i].set_ylabel('battery_level')\n",
    "afig.savefig('scatter_Jun28_29_iOS.png')"
   ]
  },
  {
   "cell_type": "code",
   "execution_count": null,
   "metadata": {
    "collapsed": false
   },
   "outputs": [],
   "source": [
    "#iOS: With interplation on battery data \n",
    "(ifig, iaxes2d) = plt.subplots(ncols=1, nrows=1, figsize=(16,6))\n",
    "iaxes = iaxes2d\n",
    "ifig.suptitle('No Tracking + Stationary_Jun_28-29 (iOS_interpolated)', fontsize=14, fontweight='bold')\n",
    "\n",
    "for i, df in enumerate(iphone_battery_interp_df_list):\n",
    "    print \"About to plot %d\" % i\n",
    "    df.plot(x='local_dt', y='battery_level_pct', ax=iaxes, label=(\"iphone-%s \" % (i+1))+'('+label[i]+')' )\n",
    "    #df.plot(x='ts', y='battery_level_pct', kind='scatter', ax=iaxes, label=\"iOS-%s\" % i, color=color[i])\n",
    "    #iaxes.set_xlabel('time')\n",
    "    iaxes.set_ylabel('batery_level')\n",
    "\n",
    "ifig.savefig('interp_Jun28_29_iOS.png')    "
   ]
  },
  {
   "cell_type": "code",
   "execution_count": null,
   "metadata": {
    "collapsed": false
   },
   "outputs": [],
   "source": [
    "(ifig, iaxes2d) = plt.subplots(ncols=1, nrows=1, figsize=(16,6))\n",
    "iaxes = iaxes2d\n",
    "color = ['ob', 'og', 'or', 'oc']\n",
    "ifig.suptitle('iOS_overlaid', fontsize=14, fontweight='bold')\n",
    "\n",
    "for i, df in enumerate(iphone_battery_interp_df_list):\n",
    "    print \"About to plot %d\" % i\n",
    "    df.plot(x='local_dt', y='battery_level_pct', ax=iaxes, label=(\"iphone-%s \" % (i+1)), legend=True)\n",
    "    #df.plot(x='ts', y='battery_level_pct', kind='scatter', ax=iaxes, label=\"iOS-%s\" % i, color=color[i])\n",
    "    #iaxes.set_xlabel('time')\n",
    "    iaxes.set_ylabel('batery_level')\n",
    "\n",
    "for i, df in enumerate(iphone_battery_df_list):\n",
    "    print \"About to plot %d\" % i\n",
    "    df['dt'] = df.ts.apply(ts_to_dt)\n",
    "    df.plot(x='dt', y='battery_level_pct', style=color[i], ax=iaxes, legend=False)\n",
    "    #df.plot(x='ts', y='battery_level_pct', kind='scatter', ax=aaxes[i], title=\"iphone.%s\" % (i+1), label=\"iphone-%s\" % (i+1), color=color[i])\n",
    "    \n",
    "ifig.savefig('overlaid_iOS.png')  "
   ]
  },
  {
   "cell_type": "code",
   "execution_count": null,
   "metadata": {
    "collapsed": false
   },
   "outputs": [],
   "source": [
    "#iOS\n",
    "#correlation analysis (tracking_off+stationary)\n",
    "#generate list of iphone battery series \n",
    "iphone_battery_series_list = map(lambda b: b.battery_level_pct, iphone_battery_interp_df_list)\n",
    "print np.corrcoef(iphone_battery_series_list)\n",
    "plt.matshow(np.corrcoef(iphone_battery_series_list), cmap=plt.cm.gray)\n",
    "plt.colorbar()"
   ]
  },
  {
   "cell_type": "code",
   "execution_count": null,
   "metadata": {
    "collapsed": false
   },
   "outputs": [],
   "source": [
    "first_android_df = android_battery_df_list[3]\n",
    "first_android_df\n",
    "first_android_df.plot(x='ts', y='battery_level_pct', kind='scatter')"
   ]
  },
  {
   "cell_type": "code",
   "execution_count": null,
   "metadata": {
    "collapsed": false,
    "scrolled": false
   },
   "outputs": [],
   "source": [
    "#Android: No interplation on battery data \n",
    "print len(android_battery_df_list)\n",
    "(afig, aaxes2d) = plt.subplots(ncols=1, nrows=4, sharex=True, sharey=True, figsize=(16,6))\n",
    "aaxes = aaxes2d.flatten()\n",
    "\n",
    "afig.suptitle('Overall_Jun_28-29 (Android)', fontsize=14, fontweight='bold')\n",
    "color = ['ob', 'og', 'or', 'oc']\n",
    "c = ['b', 'g', 'r', 'c']\n",
    "\n",
    "for i, df in enumerate(android_battery_df_list):\n",
    "    print \"About to plot %d\" % i\n",
    "    ts_to_dt = lambda t: pydt.datetime.fromtimestamp(t)\n",
    "    df['dt'] = df.metadata_write_ts.apply(ts_to_dt)\n",
    "    #df.plot(x='dt', y='battery_level_pct', style=color[i], ax=aaxes[i], title=\"android.%s\" % (i+1), label=label[i])\n",
    "    df.plot(x='ts', y='battery_level_pct', kind='scatter', ax=aaxes[i], title=\"android.%s\" % (i+1), label=\"android-%s\" % (i+1), color=c[i])\n",
    "    \n",
    "afig.savefig('scatter_Jun28_29_Android.png')"
   ]
  },
  {
   "cell_type": "code",
   "execution_count": null,
   "metadata": {
    "collapsed": false
   },
   "outputs": [],
   "source": [
    "#Android: With interplation on battery data \n",
    "(ifig, iaxes2d) = plt.subplots(ncols=1, nrows=1, figsize=(16,6))\n",
    "iaxes = iaxes2d\n",
    "color = ['red', 'yellow', 'blue', 'green']\n",
    "ifig.suptitle('No Tracking + Stationary_Jun_28-29 (Android_interpolated)', fontsize=14, fontweight='bold')\n",
    "\n",
    "for i, df in enumerate(android_battery_interp_df_list):\n",
    "    print \"About to plot %d\" % i\n",
    "    df.plot(x='local_dt', y='battery_level_pct', ax=iaxes, label=(\"android-%s \" % (i+1))+'('+label[i]+')')\n",
    "    #df.plot(x='ts', y='battery_level_pct', kind='scatter', ax=iaxes, label=\"Android-%s\" % i, color=color[i])\n",
    "    #iaxes.set_xlabel('time')\n",
    "    iaxes.set_ylabel('batery_level')\n",
    "    \n",
    "ifig.savefig('interp_Jun28_29_Android.png')    "
   ]
  },
  {
   "cell_type": "code",
   "execution_count": null,
   "metadata": {
    "collapsed": false
   },
   "outputs": [],
   "source": [
    "#Android: With interplation on battery data \n",
    "(ifig, iaxes2d) = plt.subplots(ncols=1, nrows=1, figsize=(16,6))\n",
    "iaxes = iaxes2d\n",
    "color = ['ob', 'og', 'or', 'oc']\n",
    "ifig.suptitle('Android_overlaid', fontsize=14, fontweight='bold')\n",
    "\n",
    "for i, df in enumerate(android_battery_interp_df_list):\n",
    "    print \"About to plot %d\" % i\n",
    "    df.plot(x='local_dt', y='battery_level_pct', ax=iaxes, label=(\"android-%s \" % (i+1)), legend=True)\n",
    "    #df.plot(x='ts', y='battery_level_pct', kind='scatter', ax=iaxes, label=\"Android-%s\" % i, color=color[i])\n",
    "    #iaxes.set_xlabel('time')\n",
    "    iaxes.set_ylabel('batery_level')\n",
    "\n",
    "for i, df in enumerate(android_battery_df_list):\n",
    "    if i!= 3:\n",
    "        print \"About to plot %d\" % i\n",
    "        df.plot(x='dt', y='battery_level_pct', style=color[i], ax=iaxes, legend=False)\n",
    "        #df.plot(x='ts', y='battery_level_pct', kind='scatter', ax=iaxes, label=\"Android-%s\" % i, color=color[i])\n",
    "        #iaxes.set_xlabel('time')\n",
    "        iaxes.set_ylabel('batery_level')\n",
    "\n",
    "ifig.savefig('overlaid_Android.png')    "
   ]
  },
  {
   "cell_type": "code",
   "execution_count": null,
   "metadata": {
    "collapsed": false
   },
   "outputs": [],
   "source": [
    "#Android \n",
    "#correlation analysis(tracking_off+stationary)\n",
    "#generate list of android battery series \n",
    "android_battery_series_list = map(lambda b: b.battery_level_pct, android_battery_interp_df_list)\n",
    "print np.corrcoef(android_battery_series_list)\n",
    "plt.matshow(np.corrcoef(android_battery_series_list), cmap=plt.cm.gray)\n",
    "plt.colorbar()"
   ]
  },
  {
   "cell_type": "code",
   "execution_count": null,
   "metadata": {
    "collapsed": true
   },
   "outputs": [],
   "source": []
  },
  {
   "cell_type": "code",
   "execution_count": null,
   "metadata": {
    "collapsed": true
   },
   "outputs": [],
   "source": []
  },
  {
   "cell_type": "code",
   "execution_count": null,
   "metadata": {
    "collapsed": true
   },
   "outputs": [],
   "source": []
  }
 ],
 "metadata": {
  "kernelspec": {
   "display_name": "Python 2",
   "language": "python",
   "name": "python2"
  },
  "language_info": {
   "codemirror_mode": {
    "name": "ipython",
    "version": 2
   },
   "file_extension": ".py",
   "mimetype": "text/x-python",
   "name": "python",
   "nbconvert_exporter": "python",
   "pygments_lexer": "ipython2",
   "version": "2.7.11"
  }
 },
 "nbformat": 4,
 "nbformat_minor": 0
}
