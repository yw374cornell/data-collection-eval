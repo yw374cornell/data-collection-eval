{
 "cells": [
  {
   "cell_type": "code",
   "execution_count": 1,
   "metadata": {
    "collapsed": false
   },
   "outputs": [],
   "source": [
    "import sys"
   ]
  },
  {
   "cell_type": "code",
   "execution_count": 2,
   "metadata": {
    "collapsed": false
   },
   "outputs": [],
   "source": [
    "sys.path.insert(0, \"../../src/\")"
   ]
  },
  {
   "cell_type": "code",
   "execution_count": 3,
   "metadata": {
    "collapsed": false
   },
   "outputs": [],
   "source": [
    "import analysis.common as ac\n",
    "import analysis.power_drain_manual as ap"
   ]
  },
  {
   "cell_type": "code",
   "execution_count": 4,
   "metadata": {
    "collapsed": false
   },
   "outputs": [
    {
     "data": {
      "text/plain": [
       "<module 'analysis.power_drain_manual' from '../../src/analysis/power_drain_manual.pyc'>"
      ]
     },
     "execution_count": 4,
     "metadata": {},
     "output_type": "execute_result"
    }
   ],
   "source": [
    "reload(ap)"
   ]
  },
  {
   "cell_type": "code",
   "execution_count": 5,
   "metadata": {
    "collapsed": false
   },
   "outputs": [],
   "source": [
    "(iphone_ids, android_ids, phone_labels) = ac.setupPaths()"
   ]
  },
  {
   "cell_type": "code",
   "execution_count": 6,
   "metadata": {
    "collapsed": false
   },
   "outputs": [],
   "source": [
    "import emission.core.get_database as edb\n",
    "import pandas as pd\n",
    "import matplotlib.pyplot as plt\n",
    "%matplotlib inline\n",
    "import datetime as pydt"
   ]
  },
  {
   "cell_type": "code",
   "execution_count": 7,
   "metadata": {
    "collapsed": false
   },
   "outputs": [],
   "source": [
    "display_names = [ac.get_display_name(label) for label in phone_labels]"
   ]
  },
  {
   "cell_type": "code",
   "execution_count": 8,
   "metadata": {
    "collapsed": false
   },
   "outputs": [],
   "source": [
    "drain_df_map = {}"
   ]
  },
  {
   "cell_type": "code",
   "execution_count": 9,
   "metadata": {
    "collapsed": false
   },
   "outputs": [],
   "source": [
    "drain_df_map[\"ios.1\"] = pd.read_csv(\"../../results_dec_2015/ucb.sdb.ios.1/power_logs/noha5m_1449240600.log\")\n",
    "drain_df_map[\"ios.2\"] = pd.read_csv(\"../../results_dec_2015/ucb.sdb.ios.2/power_logs/noma5m_1449240600.log\")\n",
    "drain_df_map[\"ios.3\"] = pd.read_csv(\"../../results_dec_2015/ucb.sdb.ios.3/power_logs/noma50m_1449240600.log\")"
   ]
  },
  {
   "cell_type": "code",
   "execution_count": 10,
   "metadata": {
    "collapsed": false
   },
   "outputs": [],
   "source": [
    "drain_df_map[\"android.1\"] = pd.read_csv(\"../../results_dec_2015/ucb.sdb.android.1/power_logs/noha2s_1449240600.log\")\n",
    "drain_df_map[\"android.2\"] = pd.read_csv(\"../../results_dec_2015/ucb.sdb.android.2/power_logs/noma2s_1449240600.log\")\n",
    "drain_df_map[\"android.3\"] = pd.read_csv(\"../../results_dec_2015/ucb.sdb.android.3/power_logs/noma30s_1449240600.log\")"
   ]
  },
  {
   "cell_type": "code",
   "execution_count": 11,
   "metadata": {
    "collapsed": false
   },
   "outputs": [],
   "source": [
    "regime_map = {}"
   ]
  },
  {
   "cell_type": "code",
   "execution_count": 22,
   "metadata": {
    "collapsed": false
   },
   "outputs": [],
   "source": [
    "regime_map[\"ios.1\"] = \"hafs\"\n",
    "regime_map[\"ios.2\"] = \"mafs\"\n",
    "regime_map[\"ios.3\"] = \"mass\""
   ]
  },
  {
   "cell_type": "code",
   "execution_count": 23,
   "metadata": {
    "collapsed": false
   },
   "outputs": [],
   "source": [
    "regime_map[\"android.1\"] = \"hafs\"\n",
    "regime_map[\"android.2\"] = \"mafs\"\n",
    "regime_map[\"android.3\"] = \"mass\""
   ]
  },
  {
   "cell_type": "code",
   "execution_count": 24,
   "metadata": {
    "collapsed": false
   },
   "outputs": [],
   "source": [
    "for drain_df in drain_df_map.values():\n",
    "    drain_df[\"fmt_time\"] = drain_df.ts.map(lambda(t): pydt.datetime.fromtimestamp(t))"
   ]
  },
  {
   "cell_type": "code",
   "execution_count": 25,
   "metadata": {
    "collapsed": false
   },
   "outputs": [
    {
     "data": {
      "text/html": [
       "<div style=\"max-width:1500px;overflow:auto;\">\n",
       "<table border=\"1\" class=\"dataframe\">\n",
       "  <thead>\n",
       "    <tr style=\"text-align: right;\">\n",
       "      <th></th>\n",
       "      <th>key</th>\n",
       "      <th>ts</th>\n",
       "      <th>value</th>\n",
       "      <th>fmt_time</th>\n",
       "    </tr>\n",
       "  </thead>\n",
       "  <tbody>\n",
       "    <tr>\n",
       "      <th>0</th>\n",
       "      <td>battery_level</td>\n",
       "      <td>1.449241e+09</td>\n",
       "      <td>100</td>\n",
       "      <td>2015-12-04 06:50:00.000</td>\n",
       "    </tr>\n",
       "    <tr>\n",
       "      <th>1</th>\n",
       "      <td>battery_level</td>\n",
       "      <td>1.449242e+09</td>\n",
       "      <td>100</td>\n",
       "      <td>2015-12-04 07:18:33.010</td>\n",
       "    </tr>\n",
       "    <tr>\n",
       "      <th>2</th>\n",
       "      <td>battery_level</td>\n",
       "      <td>1.449244e+09</td>\n",
       "      <td>100</td>\n",
       "      <td>2015-12-04 07:49:38.490</td>\n",
       "    </tr>\n",
       "    <tr>\n",
       "      <th>3</th>\n",
       "      <td>battery_level</td>\n",
       "      <td>1.449248e+09</td>\n",
       "      <td>98</td>\n",
       "      <td>2015-12-04 08:48:16.890</td>\n",
       "    </tr>\n",
       "    <tr>\n",
       "      <th>4</th>\n",
       "      <td>battery_level</td>\n",
       "      <td>1.449249e+09</td>\n",
       "      <td>97</td>\n",
       "      <td>2015-12-04 09:14:10.980</td>\n",
       "    </tr>\n",
       "  </tbody>\n",
       "</table>\n",
       "</div>"
      ],
      "text/plain": [
       "             key            ts  value                fmt_time\n",
       "0  battery_level  1.449241e+09    100 2015-12-04 06:50:00.000\n",
       "1  battery_level  1.449242e+09    100 2015-12-04 07:18:33.010\n",
       "2  battery_level  1.449244e+09    100 2015-12-04 07:49:38.490\n",
       "3  battery_level  1.449248e+09     98 2015-12-04 08:48:16.890\n",
       "4  battery_level  1.449249e+09     97 2015-12-04 09:14:10.980"
      ]
     },
     "execution_count": 25,
     "metadata": {},
     "output_type": "execute_result"
    }
   ],
   "source": [
    "drain_df.head()"
   ]
  },
  {
   "cell_type": "code",
   "execution_count": 26,
   "metadata": {
    "collapsed": false
   },
   "outputs": [],
   "source": [
    "ground_truth_df = ap.get_ground_truth_df(drain_df, [[0,4,17,22,23], [\"moving\", \"active\", \"moving\", \"passive\"]])\n",
    "ground_truth_df.to_csv(\"../../ground_truth/trip_to_berkeley.friday.2015-12-04/states.summary\")"
   ]
  },
  {
   "cell_type": "code",
   "execution_count": 27,
   "metadata": {
    "collapsed": false
   },
   "outputs": [
    {
     "data": {
      "text/html": [
       "<div style=\"max-width:1500px;overflow:auto;\">\n",
       "<table border=\"1\" class=\"dataframe\">\n",
       "  <thead>\n",
       "    <tr style=\"text-align: right;\">\n",
       "      <th></th>\n",
       "      <th>start_index</th>\n",
       "      <th>start_ts</th>\n",
       "      <th>start_fmt_time</th>\n",
       "      <th>start_value</th>\n",
       "      <th>end_index</th>\n",
       "      <th>end_ts</th>\n",
       "      <th>end_fmt_time</th>\n",
       "      <th>end_value</th>\n",
       "      <th>state</th>\n",
       "    </tr>\n",
       "  </thead>\n",
       "  <tbody>\n",
       "    <tr>\n",
       "      <th>0</th>\n",
       "      <td>0</td>\n",
       "      <td>1.449241e+09</td>\n",
       "      <td>2015-12-04 06:50:00.000</td>\n",
       "      <td>100</td>\n",
       "      <td>4</td>\n",
       "      <td>1.449249e+09</td>\n",
       "      <td>2015-12-04 09:14:10.980</td>\n",
       "      <td>97</td>\n",
       "      <td>moving</td>\n",
       "    </tr>\n",
       "    <tr>\n",
       "      <th>1</th>\n",
       "      <td>4</td>\n",
       "      <td>1.449249e+09</td>\n",
       "      <td>2015-12-04 09:14:10.980</td>\n",
       "      <td>97</td>\n",
       "      <td>17</td>\n",
       "      <td>1.449277e+09</td>\n",
       "      <td>2015-12-04 16:48:34.190</td>\n",
       "      <td>72</td>\n",
       "      <td>active</td>\n",
       "    </tr>\n",
       "    <tr>\n",
       "      <th>2</th>\n",
       "      <td>17</td>\n",
       "      <td>1.449277e+09</td>\n",
       "      <td>2015-12-04 16:48:34.190</td>\n",
       "      <td>72</td>\n",
       "      <td>22</td>\n",
       "      <td>1.449287e+09</td>\n",
       "      <td>2015-12-04 19:39:01.290</td>\n",
       "      <td>63</td>\n",
       "      <td>moving</td>\n",
       "    </tr>\n",
       "    <tr>\n",
       "      <th>3</th>\n",
       "      <td>22</td>\n",
       "      <td>1.449287e+09</td>\n",
       "      <td>2015-12-04 19:39:01.290</td>\n",
       "      <td>63</td>\n",
       "      <td>23</td>\n",
       "      <td>1.449328e+09</td>\n",
       "      <td>2015-12-05 07:03:22.210</td>\n",
       "      <td>41</td>\n",
       "      <td>passive</td>\n",
       "    </tr>\n",
       "  </tbody>\n",
       "</table>\n",
       "</div>"
      ],
      "text/plain": [
       "   start_index      start_ts          start_fmt_time  start_value  end_index  \\\n",
       "0            0  1.449241e+09 2015-12-04 06:50:00.000          100          4   \n",
       "1            4  1.449249e+09 2015-12-04 09:14:10.980           97         17   \n",
       "2           17  1.449277e+09 2015-12-04 16:48:34.190           72         22   \n",
       "3           22  1.449287e+09 2015-12-04 19:39:01.290           63         23   \n",
       "\n",
       "         end_ts            end_fmt_time  end_value    state  \n",
       "0  1.449249e+09 2015-12-04 09:14:10.980         97   moving  \n",
       "1  1.449277e+09 2015-12-04 16:48:34.190         72   active  \n",
       "2  1.449287e+09 2015-12-04 19:39:01.290         63   moving  \n",
       "3  1.449328e+09 2015-12-05 07:03:22.210         41  passive  "
      ]
     },
     "execution_count": 27,
     "metadata": {},
     "output_type": "execute_result"
    }
   ],
   "source": [
    "ground_truth_df"
   ]
  },
  {
   "cell_type": "code",
   "execution_count": 28,
   "metadata": {
    "collapsed": false
   },
   "outputs": [
    {
     "data": {
      "text/plain": [
       "['android.2', 'android.3', 'android.1', 'ios.1', 'ios.2', 'ios.3']"
      ]
     },
     "execution_count": 28,
     "metadata": {},
     "output_type": "execute_result"
    }
   ],
   "source": [
    "drain_df_map.keys()"
   ]
  },
  {
   "cell_type": "code",
   "execution_count": 29,
   "metadata": {
    "collapsed": false
   },
   "outputs": [
    {
     "name": "stdout",
     "output_type": "stream",
     "text": [
      "adding annotations for 0, 2015-12-04 06:50:00, 2015-12-04 09:14:10.980000\n",
      "adding annotations for 1, 2015-12-04 09:14:10.980000, 2015-12-04 16:48:34.190000\n",
      "adding annotations for 2, 2015-12-04 16:48:34.190000, 2015-12-04 19:39:01.290000\n",
      "adding annotations for 3, 2015-12-04 19:39:01.290000, 2015-12-05 07:03:22.210000\n",
      "adding annotations for 0, 2015-12-04 06:50:00, 2015-12-04 09:14:10.980000\n",
      "adding annotations for 1, 2015-12-04 09:14:10.980000, 2015-12-04 16:48:34.190000\n",
      "adding annotations for 2, 2015-12-04 16:48:34.190000, 2015-12-04 19:39:01.290000\n",
      "adding annotations for 3, 2015-12-04 19:39:01.290000, 2015-12-05 07:03:22.210000\n"
     ]
    },
    {
     "data": {
      "image/png": "[encoded data removed]",
      "text/plain": [
       "<matplotlib.figure.Figure at 0x10ad87590>"
      ]
     },
     "metadata": {},
     "output_type": "display_data"
    }
   ],
   "source": [
    "(fig, axes) = ap.display_drain_over_day(drain_df_map, ground_truth_df, regime_map)"
   ]
  },
  {
   "cell_type": "code",
   "execution_count": 30,
   "metadata": {
    "collapsed": false
   },
   "outputs": [
    {
     "name": "stdout",
     "output_type": "stream",
     "text": [
      "displaying 0, android.1 (hafs)\n",
      "displaying 1, android.2 (mafs)\n",
      "displaying 2, android.3 (mass)\n",
      "displaying 3, ios.1 (hafs)\n",
      "displaying 4, ios.2 (mafs)\n",
      "displaying 5, ios.3 (mass)\n"
     ]
    },
    {
     "data": {
      "text/plain": [
       "(<matplotlib.figure.Figure at 0x10b87ba50>,\n",
       " array([<matplotlib.axes.AxesSubplot object at 0x107910a50>,\n",
       "        <matplotlib.axes.AxesSubplot object at 0x10a06a050>,\n",
       "        <matplotlib.axes.AxesSubplot object at 0x109f613d0>,\n",
       "        <matplotlib.axes.AxesSubplot object at 0x109f34b50>,\n",
       "        <matplotlib.axes.AxesSubplot object at 0x109fc6e90>,\n",
       "        <matplotlib.axes.AxesSubplot object at 0x10a1e3ed0>], dtype=object))"
      ]
     },
     "execution_count": 30,
     "metadata": {},
     "output_type": "execute_result"
    },
    {
     "data": {
      "image/png": "[encoded data removed]",
      "text/plain": [
       "<matplotlib.figure.Figure at 0x10b87ba50>"
      ]
     },
     "metadata": {},
     "output_type": "display_data"
    }
   ],
   "source": [
    "ap.display_per_state_drain(drain_df_map, ground_truth_df, regime_map)"
   ]
  },
  {
   "cell_type": "code",
   "execution_count": 21,
   "metadata": {
    "collapsed": false
   },
   "outputs": [
    {
     "name": "stdout",
     "output_type": "stream",
     "text": [
      "displaying 0, android.1 (ha2s)\n",
      "state         \n",
      "active   count    13.000000\n",
      "         mean     -7.132685\n",
      "         std       1.867182\n",
      "         min     -10.853617\n",
      "         25%      -7.999467\n",
      "         50%      -6.719803\n",
      "         75%      -5.738744\n",
      "         max      -4.925165\n",
      "moving   count     8.000000\n",
      "         mean     -8.822846\n",
      "         std       2.086489\n",
      "         min     -11.408109\n",
      "         25%      -9.794724\n",
      "         50%      -9.499399\n",
      "         75%      -8.118630\n",
      "         max      -4.632936\n",
      "passive  count     1.000000\n",
      "         mean     -5.511918\n",
      "         std            NaN\n",
      "         min      -5.511918\n",
      "         25%      -5.511918\n",
      "         50%      -5.511918\n",
      "         75%      -5.511918\n",
      "         max      -5.511918\n",
      "dtype: float64\n",
      "displaying 1, android.2 (ma2s)\n",
      "state         \n",
      "active   count    12.000000\n",
      "         mean     -0.926580\n",
      "         std       1.030067\n",
      "         min      -2.869372\n",
      "         25%      -1.717881\n",
      "         50%      -0.671527\n",
      "         75%       0.000000\n",
      "         max       0.000000\n",
      "moving   count     9.000000\n",
      "         mean     -3.076365\n",
      "         std       0.943928\n",
      "         min      -4.802529\n",
      "         25%      -3.802703\n",
      "         50%      -2.953798\n",
      "         75%      -2.316468\n",
      "         max      -1.878748\n",
      "passive  count     1.000000\n",
      "         mean     -0.438373\n",
      "         std            NaN\n",
      "         min      -0.438373\n",
      "         25%      -0.438373\n",
      "         50%      -0.438373\n",
      "         75%      -0.438373\n",
      "         max      -0.438373\n",
      "dtype: float64\n",
      "displaying 2, android.3 (ma30s)\n",
      "state         \n",
      "active   count    12.000000\n",
      "         mean     -0.795273\n",
      "         std       1.035623\n",
      "         min      -2.869372\n",
      "         25%      -1.643872\n",
      "         50%       0.000000\n",
      "         75%       0.000000\n",
      "         max       0.000000\n",
      "moving   count     9.000000\n",
      "         mean     -1.616738\n",
      "         std       0.750244\n",
      "         min      -2.401265\n",
      "         25%      -2.101564\n",
      "         50%      -1.878748\n",
      "         75%      -1.451151\n",
      "         max       0.000000\n",
      "passive  count     1.000000\n",
      "         mean     -0.438373\n",
      "         std            NaN\n",
      "         min      -0.438373\n",
      "         25%      -0.438373\n",
      "         50%      -0.438373\n",
      "         75%      -0.438373\n",
      "         max      -0.438373\n",
      "dtype: float64\n",
      "displaying 3, ios.1 (ha5m)\n",
      "state         \n",
      "active   count    13.000000\n",
      "         mean     -5.079283\n",
      "         std       1.267599\n",
      "         min      -7.235745\n",
      "         25%      -5.260287\n",
      "         50%      -4.950972\n",
      "         75%      -4.479869\n",
      "         max      -2.869372\n",
      "moving   count     9.000000\n",
      "         mean     -5.717334\n",
      "         std       2.972454\n",
      "         min      -9.605059\n",
      "         25%      -7.514991\n",
      "         50%      -6.139154\n",
      "         75%      -5.804603\n",
      "         max       0.000000\n",
      "passive  count     1.000000\n",
      "         mean     -2.805587\n",
      "         std            NaN\n",
      "         min      -2.805587\n",
      "         25%      -2.805587\n",
      "         50%      -2.805587\n",
      "         75%      -2.805587\n",
      "         max      -2.805587\n",
      "dtype: float64\n",
      "displaying 4, ios.2 (ma5m)\n",
      "state         \n",
      "active   count    13.000000\n",
      "         mean     -3.348691\n",
      "         std       1.215112\n",
      "         min      -5.738744\n",
      "         25%      -3.617872\n",
      "         50%      -3.412064\n",
      "         75%      -2.686106\n",
      "         max      -1.617345\n",
      "moving   count     9.000000\n",
      "         mean     -2.766461\n",
      "         std       1.787593\n",
      "         min      -4.802529\n",
      "         25%      -3.802703\n",
      "         50%      -2.953798\n",
      "         75%      -2.046385\n",
      "         max       0.000000\n",
      "passive  count     1.000000\n",
      "         mean     -1.928841\n",
      "         std            NaN\n",
      "         min      -1.928841\n",
      "         25%      -1.928841\n",
      "         50%      -1.928841\n",
      "         75%      -1.928841\n",
      "         max      -1.928841\n",
      "dtype: float64\n",
      "displaying 5, ios.3 (ma50m)\n",
      "state         \n",
      "active   count    13.000000\n",
      "         mean     -3.299283\n",
      "         std       0.666501\n",
      "         min      -4.799680\n",
      "         25%      -3.506858\n",
      "         50%      -3.359901\n",
      "         75%      -3.234690\n",
      "         max      -1.796748\n",
      "moving   count     9.000000\n",
      "         mean     -2.344976\n",
      "         std       1.670019\n",
      "         min      -4.802529\n",
      "         25%      -3.757495\n",
      "         50%      -2.316468\n",
      "         75%      -1.476899\n",
      "         max       0.000000\n",
      "passive  count     1.000000\n",
      "         mean     -1.928841\n",
      "         std            NaN\n",
      "         min      -1.928841\n",
      "         25%      -1.928841\n",
      "         50%      -1.928841\n",
      "         75%      -1.928841\n",
      "         max      -1.928841\n",
      "dtype: float64\n"
     ]
    }
   ],
   "source": [
    "state_diff_df_map = {}\n",
    "for i, key in enumerate(sorted(drain_df_map.keys())):\n",
    "    print \"displaying %d, %s (%s)\" % (i, key, regime_map[key])\n",
    "    state_diff_df_map[key] = ap.get_state_diff_df(drain_df_map[key], ground_truth_df)\n",
    "    print state_diff_df_map[key].groupby('state').rate.describe()"
   ]
  },
  {
   "cell_type": "code",
   "execution_count": 21,
   "metadata": {
    "collapsed": false
   },
   "outputs": [],
   "source": []
  }
 ],
 "metadata": {
  "kernelspec": {
   "display_name": "Python 2",
   "language": "python",
   "name": "python2"
  },
  "language_info": {
   "codemirror_mode": {
    "name": "ipython",
    "version": 2
   },
   "file_extension": ".py",
   "mimetype": "text/x-python",
   "name": "python",
   "nbconvert_exporter": "python",
   "pygments_lexer": "ipython2",
   "version": "2.7.11"
  }
 },
 "nbformat": 4,
 "nbformat_minor": 0
}
