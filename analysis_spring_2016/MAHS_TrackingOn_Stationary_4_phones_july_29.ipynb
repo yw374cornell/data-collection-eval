{
 "cells": [
  {
   "cell_type": "code",
   "execution_count": 78,
   "metadata": {
    "collapsed": false
   },
   "outputs": [],
   "source": [
    "import sys\n",
    "import logging\n",
    "from uuid import UUID\n",
    "\n",
    "import emission.core.get_database as edb\n",
    "import pandas as pd\n",
    "import matplotlib.pyplot as plt\n",
    "%matplotlib inline\n",
    "import datetime as pydt\n",
    "import emission.storage.timeseries.abstract_timeseries as esta\n",
    "import emission.storage.timeseries.timequery as estt\n",
    "\n",
    "logging.getLogger().setLevel(logging.DEBUG)\n",
    "logging.debug(sys.path)\n",
    "#, UUID(\"95e70727-a04e-3e33-b7fe-34ab19194f8b\")\n",
    "iphone_ids = [UUID(\"079e0f1a-c440-3d7c-b0e7-de160f748e35\"), UUID(\"c76a0487-7e5a-3b17-a449-47be666b36f6\"),\n",
    "              UUID(\"c528bcd2-a88b-3e82-be62-ef4f2396967a\")]\n",
    "android_ids = [UUID(\"e471711e-bd14-3dbe-80b6-9c7d92ecc296\"), UUID(\"fd7b4c2e-2c8b-3bfa-94f0-d1e3ecbd5fb7\"),\n",
    "               UUID(\"86842c35-da28-32ed-a90e-2da6663c5c73\"), UUID(\"3bc0f91f-7660-34a2-b005-5c399598a369\")]"
   ]
  },
  {
   "cell_type": "code",
   "execution_count": 79,
   "metadata": {
    "collapsed": false
   },
   "outputs": [
    {
     "data": {
      "text/plain": [
       "[{u'_id': ObjectId('56fadecd88f66341cb3618c9'),\n",
       "  u'data': {u'android_health': u'GOOD',\n",
       "   u'android_plugged': u'USB',\n",
       "   u'android_technology': u'Li-ion',\n",
       "   u'android_temperature': 226,\n",
       "   u'android_voltage': 226,\n",
       "   u'battery_level_pct': 100,\n",
       "   u'battery_status': 5},\n",
       "  u'metadata': {u'key': u'config/sensor_config',\n",
       "   u'platform': u'android',\n",
       "   u'read_ts': 1459281599.629,\n",
       "   u'time_zone': u'America/Los_Angeles',\n",
       "   u'type': u'sensor-data',\n",
       "   u'write_fmt_time': u'2016-03-29T11:56:24.694000-07:00',\n",
       "   u'write_local_dt': datetime.datetime(2016, 3, 29, 11, 56, 24, 694000),\n",
       "   u'write_ts': 1459277784.694},\n",
       "  u'user_id': UUID('e471711e-bd14-3dbe-80b6-9c7d92ecc296')},\n",
       " {u'_id': ObjectId('56faecf288f66323bcc68ee9'),\n",
       "  u'data': {u'android_health': u'GOOD',\n",
       "   u'android_plugged': u'USB',\n",
       "   u'android_technology': u'Li-ion',\n",
       "   u'android_temperature': 197,\n",
       "   u'android_voltage': 197,\n",
       "   u'battery_level_pct': 100,\n",
       "   u'battery_status': 2},\n",
       "  u'metadata': {u'key': u'config/sensor_config',\n",
       "   u'platform': u'android',\n",
       "   u'read_ts': 1459282820.251,\n",
       "   u'time_zone': u'America/Los_Angeles',\n",
       "   u'type': u'sensor-data',\n",
       "   u'write_fmt_time': u'2016-03-29T12:04:25.743000-07:00',\n",
       "   u'write_local_dt': datetime.datetime(2016, 3, 29, 12, 4, 25, 743000),\n",
       "   u'write_ts': 1459278265.743},\n",
       "  u'user_id': UUID('fd7b4c2e-2c8b-3bfa-94f0-d1e3ecbd5fb7')},\n",
       " {u'_id': ObjectId('56faecdd88f66323bcc668cd'),\n",
       "  u'data': {u'android_health': u'GOOD',\n",
       "   u'android_plugged': u'USB',\n",
       "   u'android_technology': u'Li-ion',\n",
       "   u'android_temperature': 190,\n",
       "   u'android_voltage': 190,\n",
       "   u'battery_level_pct': 100,\n",
       "   u'battery_status': 2},\n",
       "  u'metadata': {u'key': u'config/sensor_config',\n",
       "   u'platform': u'android',\n",
       "   u'read_ts': 1459282145.521,\n",
       "   u'time_zone': u'America/Los_Angeles',\n",
       "   u'type': u'sensor-data',\n",
       "   u'write_fmt_time': u'2016-03-29T12:07:17.613000-07:00',\n",
       "   u'write_local_dt': datetime.datetime(2016, 3, 29, 12, 7, 17, 613000),\n",
       "   u'write_ts': 1459278437.613},\n",
       "  u'user_id': UUID('86842c35-da28-32ed-a90e-2da6663c5c73')},\n",
       " {u'_id': ObjectId('56faecd388f66323bcc6574f'),\n",
       "  u'data': {u'android_health': u'GOOD',\n",
       "   u'android_plugged': u'USB',\n",
       "   u'android_technology': u'Li-ion',\n",
       "   u'android_temperature': 190,\n",
       "   u'android_voltage': 190,\n",
       "   u'battery_level_pct': 100,\n",
       "   u'battery_status': 5},\n",
       "  u'metadata': {u'key': u'config/sensor_config',\n",
       "   u'platform': u'android',\n",
       "   u'read_ts': 1459282692.584,\n",
       "   u'time_zone': u'America/Los_Angeles',\n",
       "   u'type': u'sensor-data',\n",
       "   u'write_fmt_time': u'2016-03-29T12:13:22.162000-07:00',\n",
       "   u'write_local_dt': datetime.datetime(2016, 3, 29, 12, 13, 22, 162000),\n",
       "   u'write_ts': 1459278802.162},\n",
       "  u'user_id': UUID('3bc0f91f-7660-34a2-b005-5c399598a369')},\n",
       " {u'_id': ObjectId('56faeced88f66323bcc684f6'),\n",
       "  u'data': {u'android_health': u'GOOD',\n",
       "   u'android_plugged': u'UNKNOWN',\n",
       "   u'android_technology': u'Li-ion',\n",
       "   u'android_temperature': 322,\n",
       "   u'android_voltage': 322,\n",
       "   u'battery_level_pct': 96,\n",
       "   u'battery_status': 3},\n",
       "  u'metadata': {u'key': u'config/sensor_config',\n",
       "   u'platform': u'android',\n",
       "   u'read_ts': 1459285199.991,\n",
       "   u'time_zone': u'America/Los_Angeles',\n",
       "   u'type': u'sensor-data',\n",
       "   u'write_fmt_time': u'2016-03-29T13:00:28.078000-07:00',\n",
       "   u'write_local_dt': datetime.datetime(2016, 3, 29, 13, 0, 28, 78000),\n",
       "   u'write_ts': 1459281628.078},\n",
       "  u'user_id': UUID('e471711e-bd14-3dbe-80b6-9c7d92ecc296')},\n",
       " {u'_id': ObjectId('56fafaeb88f66366fd9ed82a'),\n",
       "  u'data': {u'android_health': u'GOOD',\n",
       "   u'android_plugged': u'UNKNOWN',\n",
       "   u'android_technology': u'Li-ion',\n",
       "   u'android_temperature': 321,\n",
       "   u'android_voltage': 321,\n",
       "   u'battery_level_pct': 98,\n",
       "   u'battery_status': 3},\n",
       "  u'metadata': {u'key': u'config/sensor_config',\n",
       "   u'platform': u'android',\n",
       "   u'read_ts': 1459286817.69,\n",
       "   u'time_zone': u'America/Los_Angeles',\n",
       "   u'type': u'sensor-data',\n",
       "   u'write_fmt_time': u'2016-03-29T13:09:35.170000-07:00',\n",
       "   u'write_local_dt': datetime.datetime(2016, 3, 29, 13, 9, 35, 170000),\n",
       "   u'write_ts': 1459282175.17},\n",
       "  u'user_id': UUID('86842c35-da28-32ed-a90e-2da6663c5c73')},\n",
       " {u'_id': ObjectId('56fafae388f66366fd9ecea6'),\n",
       "  u'data': {u'android_health': u'GOOD',\n",
       "   u'android_plugged': u'UNKNOWN',\n",
       "   u'android_technology': u'Li-ion',\n",
       "   u'android_temperature': 310,\n",
       "   u'android_voltage': 310,\n",
       "   u'battery_level_pct': 96,\n",
       "   u'battery_status': 3},\n",
       "  u'metadata': {u'key': u'config/sensor_config',\n",
       "   u'platform': u'android',\n",
       "   u'read_ts': 1459286821.157,\n",
       "   u'time_zone': u'America/Los_Angeles',\n",
       "   u'type': u'sensor-data',\n",
       "   u'write_fmt_time': u'2016-03-29T13:19:03.454000-07:00',\n",
       "   u'write_local_dt': datetime.datetime(2016, 3, 29, 13, 19, 3, 454000),\n",
       "   u'write_ts': 1459282743.454},\n",
       "  u'user_id': UUID('3bc0f91f-7660-34a2-b005-5c399598a369')},\n",
       " {u'_id': ObjectId('56fafaf388f66366fd9ee2c3'),\n",
       "  u'data': {u'android_health': u'GOOD',\n",
       "   u'android_plugged': u'UNKNOWN',\n",
       "   u'android_technology': u'Li-ion',\n",
       "   u'android_temperature': 353,\n",
       "   u'android_voltage': 353,\n",
       "   u'battery_level_pct': 96,\n",
       "   u'battery_status': 3},\n",
       "  u'metadata': {u'key': u'config/sensor_config',\n",
       "   u'platform': u'android',\n",
       "   u'read_ts': 1459286820.554,\n",
       "   u'time_zone': u'America/Los_Angeles',\n",
       "   u'type': u'sensor-data',\n",
       "   u'write_fmt_time': u'2016-03-29T13:20:45.541000-07:00',\n",
       "   u'write_local_dt': datetime.datetime(2016, 3, 29, 13, 20, 45, 541000),\n",
       "   u'write_ts': 1459282845.541},\n",
       "  u'user_id': UUID('fd7b4c2e-2c8b-3bfa-94f0-d1e3ecbd5fb7')},\n",
       " {u'_id': ObjectId('56fb6b9588f663182df8af24'),\n",
       "  u'data': {u'android_health': u'GOOD',\n",
       "   u'android_plugged': u'UNKNOWN',\n",
       "   u'android_technology': u'Li-ion',\n",
       "   u'android_temperature': 396,\n",
       "   u'android_voltage': 396,\n",
       "   u'battery_level_pct': 92,\n",
       "   u'battery_status': 3},\n",
       "  u'metadata': {u'key': u'config/sensor_config',\n",
       "   u'platform': u'android',\n",
       "   u'read_ts': 1459314419.602,\n",
       "   u'time_zone': u'America/Los_Angeles',\n",
       "   u'type': u'sensor-data',\n",
       "   u'write_fmt_time': u'2016-03-29T14:00:19.014000-07:00',\n",
       "   u'write_local_dt': datetime.datetime(2016, 3, 29, 14, 0, 19, 14000),\n",
       "   u'write_ts': 1459285219.014},\n",
       "  u'user_id': UUID('e471711e-bd14-3dbe-80b6-9c7d92ecc296')},\n",
       " {u'_id': ObjectId('56fb4f5a88f663293aca2daa'),\n",
       "  u'data': {u'android_health': u'GOOD',\n",
       "   u'android_plugged': u'UNKNOWN',\n",
       "   u'android_technology': u'Li-ion',\n",
       "   u'android_temperature': 387,\n",
       "   u'android_voltage': 387,\n",
       "   u'battery_level_pct': 93,\n",
       "   u'battery_status': 3},\n",
       "  u'metadata': {u'key': u'config/sensor_config',\n",
       "   u'platform': u'android',\n",
       "   u'read_ts': 1459310422.186005,\n",
       "   u'time_zone': u'America/Los_Angeles',\n",
       "   u'type': u'sensor-data',\n",
       "   u'write_fmt_time': u'2016-03-29T14:27:11.975000-07:00',\n",
       "   u'write_local_dt': datetime.datetime(2016, 3, 29, 14, 27, 11, 975000),\n",
       "   u'write_ts': 1459286831.975},\n",
       "  u'user_id': UUID('fd7b4c2e-2c8b-3bfa-94f0-d1e3ecbd5fb7')}]"
      ]
     },
     "execution_count": 79,
     "metadata": {},
     "output_type": "execute_result"
    }
   ],
   "source": [
    "list(edb.get_timeseries_db().find({\"metadata.key\": \"config/sensor_config\", \"data.battery_status\": {\"$exists\": True}}).sort(\"metadata.write_ts\").limit(10))"
   ]
  },
  {
   "cell_type": "code",
   "execution_count": 80,
   "metadata": {
    "collapsed": false
   },
   "outputs": [],
   "source": [
    "#type: list of emission.storage.timeseries.builtin_timeseries.BuiltinTimeSeries\n",
    "iphone_ts = map(lambda u: esta.TimeSeries.get_time_series(u), iphone_ids)\n",
    "android_ts = map(lambda u: esta.TimeSeries.get_time_series(u), android_ids)\n",
    "\n",
    "#time query specification\n",
    "dt1 = pydt.datetime(2016, 7, 29, 0, 0)\n",
    "dt2 = pydt.datetime(2016, 7, 29, 10, 0)\n",
    "\n",
    "ts1 = int(dt1.strftime(\"%s\"))\n",
    "ts2 = int(dt2.strftime(\"%s\"))\n",
    "\n",
    "time_range = estt.TimeQuery(\"metadata.write_ts\", ts1, ts2)\n",
    "\n",
    "#BuiltinTimeSeries.get_data_df(key, time_query = None, geo_query = None, extra_query_list=None) \n",
    "#type: list of DataFrame objects (regarding state info)\n",
    "iphone_state_df_list = map(lambda t:t.get_data_df(\"statemachine/transition\", time_range), iphone_ts)\n",
    "android_state_df_list = map(lambda t:t.get_data_df(\"statemachine/transition\", time_range), android_ts)\n",
    "\n",
    "iphone_battery_df_list = map(lambda t:t.get_data_df(\"background/battery\", time_range), iphone_ts)\n",
    "android_battery_df_list = map(lambda t:t.get_data_df(\"background/battery\", time_range), android_ts)"
   ]
  },
  {
   "cell_type": "code",
   "execution_count": 81,
   "metadata": {
    "collapsed": false
   },
   "outputs": [
    {
     "data": {
      "text/html": [
       "<div>\n",
       "<table border=\"1\" class=\"dataframe\">\n",
       "  <thead>\n",
       "    <tr style=\"text-align: right;\">\n",
       "      <th></th>\n",
       "      <th>fmt_time</th>\n",
       "      <th>battery_level_pct</th>\n",
       "      <th>battery_status</th>\n",
       "    </tr>\n",
       "  </thead>\n",
       "  <tbody>\n",
       "    <tr>\n",
       "      <th>0</th>\n",
       "      <td>2016-07-29T00:00:03.875019-07:00</td>\n",
       "      <td>100.0</td>\n",
       "      <td>1</td>\n",
       "    </tr>\n",
       "    <tr>\n",
       "      <th>1</th>\n",
       "      <td>2016-07-29T00:00:06.319080-07:00</td>\n",
       "      <td>100.0</td>\n",
       "      <td>1</td>\n",
       "    </tr>\n",
       "    <tr>\n",
       "      <th>2</th>\n",
       "      <td>2016-07-29T00:00:12.921758-07:00</td>\n",
       "      <td>100.0</td>\n",
       "      <td>1</td>\n",
       "    </tr>\n",
       "    <tr>\n",
       "      <th>3</th>\n",
       "      <td>2016-07-29T01:41:31.999170-07:00</td>\n",
       "      <td>100.0</td>\n",
       "      <td>1</td>\n",
       "    </tr>\n",
       "    <tr>\n",
       "      <th>4</th>\n",
       "      <td>2016-07-29T02:01:19.291428-07:00</td>\n",
       "      <td>100.0</td>\n",
       "      <td>1</td>\n",
       "    </tr>\n",
       "    <tr>\n",
       "      <th>5</th>\n",
       "      <td>2016-07-29T02:01:22.034936-07:00</td>\n",
       "      <td>100.0</td>\n",
       "      <td>1</td>\n",
       "    </tr>\n",
       "    <tr>\n",
       "      <th>6</th>\n",
       "      <td>2016-07-29T03:00:04.453194-07:00</td>\n",
       "      <td>100.0</td>\n",
       "      <td>1</td>\n",
       "    </tr>\n",
       "    <tr>\n",
       "      <th>7</th>\n",
       "      <td>2016-07-29T03:00:13.473964-07:00</td>\n",
       "      <td>100.0</td>\n",
       "      <td>1</td>\n",
       "    </tr>\n",
       "    <tr>\n",
       "      <th>8</th>\n",
       "      <td>2016-07-29T03:00:24.359295-07:00</td>\n",
       "      <td>100.0</td>\n",
       "      <td>1</td>\n",
       "    </tr>\n",
       "    <tr>\n",
       "      <th>9</th>\n",
       "      <td>2016-07-29T05:00:03.702815-07:00</td>\n",
       "      <td>98.0</td>\n",
       "      <td>1</td>\n",
       "    </tr>\n",
       "    <tr>\n",
       "      <th>10</th>\n",
       "      <td>2016-07-29T05:00:20.021110-07:00</td>\n",
       "      <td>98.0</td>\n",
       "      <td>1</td>\n",
       "    </tr>\n",
       "    <tr>\n",
       "      <th>11</th>\n",
       "      <td>2016-07-29T05:00:24.053610-07:00</td>\n",
       "      <td>98.0</td>\n",
       "      <td>1</td>\n",
       "    </tr>\n",
       "    <tr>\n",
       "      <th>12</th>\n",
       "      <td>2016-07-29T06:00:03.013834-07:00</td>\n",
       "      <td>96.0</td>\n",
       "      <td>1</td>\n",
       "    </tr>\n",
       "    <tr>\n",
       "      <th>13</th>\n",
       "      <td>2016-07-29T06:00:19.818256-07:00</td>\n",
       "      <td>96.0</td>\n",
       "      <td>1</td>\n",
       "    </tr>\n",
       "    <tr>\n",
       "      <th>14</th>\n",
       "      <td>2016-07-29T08:00:02.788162-07:00</td>\n",
       "      <td>93.0</td>\n",
       "      <td>1</td>\n",
       "    </tr>\n",
       "    <tr>\n",
       "      <th>15</th>\n",
       "      <td>2016-07-29T08:00:07.882768-07:00</td>\n",
       "      <td>93.0</td>\n",
       "      <td>1</td>\n",
       "    </tr>\n",
       "    <tr>\n",
       "      <th>16</th>\n",
       "      <td>2016-07-29T08:00:09.707869-07:00</td>\n",
       "      <td>93.0</td>\n",
       "      <td>1</td>\n",
       "    </tr>\n",
       "    <tr>\n",
       "      <th>17</th>\n",
       "      <td>2016-07-29T08:00:20.481545-07:00</td>\n",
       "      <td>93.0</td>\n",
       "      <td>1</td>\n",
       "    </tr>\n",
       "    <tr>\n",
       "      <th>18</th>\n",
       "      <td>2016-07-29T09:00:04.405463-07:00</td>\n",
       "      <td>91.0</td>\n",
       "      <td>1</td>\n",
       "    </tr>\n",
       "    <tr>\n",
       "      <th>19</th>\n",
       "      <td>2016-07-29T09:00:07.801250-07:00</td>\n",
       "      <td>91.0</td>\n",
       "      <td>1</td>\n",
       "    </tr>\n",
       "    <tr>\n",
       "      <th>20</th>\n",
       "      <td>2016-07-29T09:00:11.693784-07:00</td>\n",
       "      <td>91.0</td>\n",
       "      <td>1</td>\n",
       "    </tr>\n",
       "    <tr>\n",
       "      <th>21</th>\n",
       "      <td>2016-07-29T09:00:25.069175-07:00</td>\n",
       "      <td>91.0</td>\n",
       "      <td>1</td>\n",
       "    </tr>\n",
       "  </tbody>\n",
       "</table>\n",
       "</div>"
      ],
      "text/plain": [
       "                            fmt_time  battery_level_pct  battery_status\n",
       "0   2016-07-29T00:00:03.875019-07:00              100.0               1\n",
       "1   2016-07-29T00:00:06.319080-07:00              100.0               1\n",
       "2   2016-07-29T00:00:12.921758-07:00              100.0               1\n",
       "3   2016-07-29T01:41:31.999170-07:00              100.0               1\n",
       "4   2016-07-29T02:01:19.291428-07:00              100.0               1\n",
       "5   2016-07-29T02:01:22.034936-07:00              100.0               1\n",
       "6   2016-07-29T03:00:04.453194-07:00              100.0               1\n",
       "7   2016-07-29T03:00:13.473964-07:00              100.0               1\n",
       "8   2016-07-29T03:00:24.359295-07:00              100.0               1\n",
       "9   2016-07-29T05:00:03.702815-07:00               98.0               1\n",
       "10  2016-07-29T05:00:20.021110-07:00               98.0               1\n",
       "11  2016-07-29T05:00:24.053610-07:00               98.0               1\n",
       "12  2016-07-29T06:00:03.013834-07:00               96.0               1\n",
       "13  2016-07-29T06:00:19.818256-07:00               96.0               1\n",
       "14  2016-07-29T08:00:02.788162-07:00               93.0               1\n",
       "15  2016-07-29T08:00:07.882768-07:00               93.0               1\n",
       "16  2016-07-29T08:00:09.707869-07:00               93.0               1\n",
       "17  2016-07-29T08:00:20.481545-07:00               93.0               1\n",
       "18  2016-07-29T09:00:04.405463-07:00               91.0               1\n",
       "19  2016-07-29T09:00:07.801250-07:00               91.0               1\n",
       "20  2016-07-29T09:00:11.693784-07:00               91.0               1\n",
       "21  2016-07-29T09:00:25.069175-07:00               91.0               1"
      ]
     },
     "execution_count": 81,
     "metadata": {},
     "output_type": "execute_result"
    }
   ],
   "source": [
    "iphone_test = iphone_battery_df_list[0]\n",
    "iphone_test[['fmt_time', 'battery_level_pct', 'battery_status']]"
   ]
  },
  {
   "cell_type": "code",
   "execution_count": 82,
   "metadata": {
    "collapsed": false
   },
   "outputs": [
    {
     "data": {
      "text/html": [
       "<div>\n",
       "<table border=\"1\" class=\"dataframe\">\n",
       "  <thead>\n",
       "    <tr style=\"text-align: right;\">\n",
       "      <th></th>\n",
       "      <th>fmt_time</th>\n",
       "      <th>battery_level_pct</th>\n",
       "      <th>battery_status</th>\n",
       "    </tr>\n",
       "  </thead>\n",
       "  <tbody>\n",
       "    <tr>\n",
       "      <th>0</th>\n",
       "      <td>2016-07-29T00:12:02.201000-07:00</td>\n",
       "      <td>99</td>\n",
       "      <td>1</td>\n",
       "    </tr>\n",
       "    <tr>\n",
       "      <th>1</th>\n",
       "      <td>2016-07-29T01:24:15.959000-07:00</td>\n",
       "      <td>100</td>\n",
       "      <td>1</td>\n",
       "    </tr>\n",
       "    <tr>\n",
       "      <th>2</th>\n",
       "      <td>2016-07-29T04:15:01.957000-07:00</td>\n",
       "      <td>99</td>\n",
       "      <td>1</td>\n",
       "    </tr>\n",
       "  </tbody>\n",
       "</table>\n",
       "</div>"
      ],
      "text/plain": [
       "                           fmt_time  battery_level_pct  battery_status\n",
       "0  2016-07-29T00:12:02.201000-07:00                 99               1\n",
       "1  2016-07-29T01:24:15.959000-07:00                100               1\n",
       "2  2016-07-29T04:15:01.957000-07:00                 99               1"
      ]
     },
     "execution_count": 82,
     "metadata": {},
     "output_type": "execute_result"
    }
   ],
   "source": [
    "#android_battery_df_list[2].set_value(0, 'battery_level_pct', 100)\n",
    "#android_battery_df_list[2].set_value(0, 'battery_status', 1)\n",
    "\n",
    "android_test = android_battery_df_list[1]\n",
    "android_test[['fmt_time', 'battery_level_pct', 'battery_status']]"
   ]
  },
  {
   "cell_type": "code",
   "execution_count": 83,
   "metadata": {
    "collapsed": true
   },
   "outputs": [],
   "source": [
    "def get_ranges_df(battery_df, state_df):\n",
    "    #the experiment runs until the battery drains completely\n",
    "    #so start_ts should be the last time it was reported 100% battery level\n",
    "    full_df = battery_df[battery_df.battery_level_pct == 100]\n",
    "    if len(full_df) != 0:\n",
    "        last_full_ts = full_df.iloc[-1].ts \n",
    "        start_ts = last_full_ts\n",
    "    else: \n",
    "        start_ts = battery_df.iloc[0].ts\n",
    "        \n",
    "    charging_df = battery_df[battery_df.battery_status == 2]\n",
    "    if len(charging_df) != 0:\n",
    "        first_charging_ts = charging_df.iloc[0].ts\n",
    "        end_ts = first_charging_ts\n",
    "    else:\n",
    "        end_ts = battery_df.iloc[-1].ts\n",
    "    \n",
    "    #find start_ts & end_ts for the period when battery_status=1=discharging\n",
    "    #discharging_df = battery_df[battery_df.battery_status == 1]\n",
    "    #discharging_df.reset_index(inplace=True)\n",
    "    #start_ts = discharging_df.iloc[0].ts\n",
    "    #end_ts = discharging_df.iloc[-1].ts\n",
    "    \n",
    "    ranges_df = pd.DataFrame({'start_ts': [start_ts], 'end_ts': [end_ts]})\n",
    "    return ranges_df"
   ]
  },
  {
   "cell_type": "code",
   "execution_count": 84,
   "metadata": {
    "collapsed": true
   },
   "outputs": [],
   "source": [
    "def get_ranges_df_list(battery_df_list, state_df_list):\n",
    "    ranges_df_list = []\n",
    "    length = len(battery_df_list)\n",
    "    for i in range(0, length):\n",
    "        ranges_df_list.append(get_ranges_df(battery_df_list[i], state_df_list[i]))\n",
    "    return ranges_df_list"
   ]
  },
  {
   "cell_type": "code",
   "execution_count": 85,
   "metadata": {
    "collapsed": false
   },
   "outputs": [
    {
     "data": {
      "text/html": [
       "<div>\n",
       "<table border=\"1\" class=\"dataframe\">\n",
       "  <thead>\n",
       "    <tr style=\"text-align: right;\">\n",
       "      <th></th>\n",
       "      <th>end_ts</th>\n",
       "      <th>start_ts</th>\n",
       "      <th>start_dt</th>\n",
       "      <th>end_dt</th>\n",
       "    </tr>\n",
       "  </thead>\n",
       "  <tbody>\n",
       "    <tr>\n",
       "      <th>0</th>\n",
       "      <td>1.469808e+09</td>\n",
       "      <td>1.469786e+09</td>\n",
       "      <td>2016-07-29 03:00:24.359295</td>\n",
       "      <td>2016-07-29 09:00:25.069175</td>\n",
       "    </tr>\n",
       "    <tr>\n",
       "      <th>0</th>\n",
       "      <td>1.469808e+09</td>\n",
       "      <td>1.469786e+09</td>\n",
       "      <td>2016-07-29 03:00:18.939562</td>\n",
       "      <td>2016-07-29 09:00:20.812228</td>\n",
       "    </tr>\n",
       "    <tr>\n",
       "      <th>0</th>\n",
       "      <td>1.469808e+09</td>\n",
       "      <td>1.469786e+09</td>\n",
       "      <td>2016-07-29 03:00:25.998742</td>\n",
       "      <td>2016-07-29 09:00:24.976495</td>\n",
       "    </tr>\n",
       "  </tbody>\n",
       "</table>\n",
       "</div>"
      ],
      "text/plain": [
       "         end_ts      start_ts                   start_dt  \\\n",
       "0  1.469808e+09  1.469786e+09 2016-07-29 03:00:24.359295   \n",
       "0  1.469808e+09  1.469786e+09 2016-07-29 03:00:18.939562   \n",
       "0  1.469808e+09  1.469786e+09 2016-07-29 03:00:25.998742   \n",
       "\n",
       "                      end_dt  \n",
       "0 2016-07-29 09:00:25.069175  \n",
       "0 2016-07-29 09:00:20.812228  \n",
       "0 2016-07-29 09:00:24.976495  "
      ]
     },
     "execution_count": 85,
     "metadata": {},
     "output_type": "execute_result"
    }
   ],
   "source": [
    "iphone_ranges_df_list = get_ranges_df_list(iphone_battery_df_list, iphone_state_df_list)\n",
    "\n",
    "#iphone_concat_ranges_df = pd.concat([iphone_ranges_df_list[0], iphone_ranges_df_list[1], iphone_ranges_df_list[2], iphone_ranges_df_list[3]])\n",
    "#print iphone_concat_ranges_df\n",
    "\n",
    "iphone_ranges_df = pd.DataFrame()\n",
    "for df in iphone_ranges_df_list:\n",
    "    iphone_ranges_df = iphone_ranges_df.append(df)\n",
    "\n",
    "ts_to_dt = lambda t: pydt.datetime.fromtimestamp(t)\n",
    "iphone_ranges_df['start_dt'] = iphone_ranges_df.start_ts.apply(ts_to_dt)\n",
    "iphone_ranges_df['end_dt'] = iphone_ranges_df.end_ts.apply(ts_to_dt)\n",
    "\n",
    "iphone_ranges_df"
   ]
  },
  {
   "cell_type": "code",
   "execution_count": 86,
   "metadata": {
    "collapsed": false
   },
   "outputs": [
    {
     "data": {
      "text/html": [
       "<div>\n",
       "<table border=\"1\" class=\"dataframe\">\n",
       "  <thead>\n",
       "    <tr style=\"text-align: right;\">\n",
       "      <th></th>\n",
       "      <th>end_ts</th>\n",
       "      <th>start_ts</th>\n",
       "      <th>start_dt</th>\n",
       "      <th>end_dt</th>\n",
       "    </tr>\n",
       "  </thead>\n",
       "  <tbody>\n",
       "    <tr>\n",
       "      <th>0</th>\n",
       "      <td>1.469811e+09</td>\n",
       "      <td>1.469780e+09</td>\n",
       "      <td>2016-07-29 01:10:31.694</td>\n",
       "      <td>2016-07-29 09:49:14.072</td>\n",
       "    </tr>\n",
       "    <tr>\n",
       "      <th>0</th>\n",
       "      <td>1.469791e+09</td>\n",
       "      <td>1.469781e+09</td>\n",
       "      <td>2016-07-29 01:24:15.959</td>\n",
       "      <td>2016-07-29 04:15:01.957</td>\n",
       "    </tr>\n",
       "    <tr>\n",
       "      <th>0</th>\n",
       "      <td>1.469780e+09</td>\n",
       "      <td>1.469780e+09</td>\n",
       "      <td>2016-07-29 01:09:14.186</td>\n",
       "      <td>2016-07-29 01:09:14.186</td>\n",
       "    </tr>\n",
       "    <tr>\n",
       "      <th>0</th>\n",
       "      <td>1.469776e+09</td>\n",
       "      <td>1.469776e+09</td>\n",
       "      <td>2016-07-29 00:12:07.687</td>\n",
       "      <td>2016-07-29 00:12:07.687</td>\n",
       "    </tr>\n",
       "  </tbody>\n",
       "</table>\n",
       "</div>"
      ],
      "text/plain": [
       "         end_ts      start_ts                start_dt                  end_dt\n",
       "0  1.469811e+09  1.469780e+09 2016-07-29 01:10:31.694 2016-07-29 09:49:14.072\n",
       "0  1.469791e+09  1.469781e+09 2016-07-29 01:24:15.959 2016-07-29 04:15:01.957\n",
       "0  1.469780e+09  1.469780e+09 2016-07-29 01:09:14.186 2016-07-29 01:09:14.186\n",
       "0  1.469776e+09  1.469776e+09 2016-07-29 00:12:07.687 2016-07-29 00:12:07.687"
      ]
     },
     "execution_count": 86,
     "metadata": {},
     "output_type": "execute_result"
    }
   ],
   "source": [
    "android_ranges_df_list = get_ranges_df_list(android_battery_df_list, android_state_df_list)\n",
    "\n",
    "#android_concat_ranges_df = pd.concat([ranges_df_list[0], ranges_df_list[1], ranges_df_list[2], ranges_df_list[3]])\n",
    "#android_concat_ranges_df\n",
    "\n",
    "android_ranges_df = pd.DataFrame()\n",
    "for df in android_ranges_df_list:\n",
    "    android_ranges_df = android_ranges_df.append(df)\n",
    "    \n",
    "ts_to_dt = lambda t: pydt.datetime.fromtimestamp(t)\n",
    "android_ranges_df['start_dt'] = android_ranges_df.start_ts.apply(ts_to_dt)\n",
    "android_ranges_df['end_dt'] = android_ranges_df.end_ts.apply(ts_to_dt)\n",
    "    \n",
    "android_ranges_df"
   ]
  },
  {
   "cell_type": "code",
   "execution_count": 87,
   "metadata": {
    "collapsed": false
   },
   "outputs": [
    {
     "name": "stdout",
     "output_type": "stream",
     "text": [
      "iphone_start_ts=2016-07-29 03:00:25.998742\n",
      "iphone_end_ts=2016-07-29 10:00:25.069175\n",
      "6.99974178692\n"
     ]
    }
   ],
   "source": [
    "iphone_start_ts = iphone_ranges_df.start_ts.max() \n",
    "iphone_end_ts = iphone_ranges_df.end_ts.max() + 60*60\n",
    "i_t1 = pydt.datetime.fromtimestamp(iphone_start_ts)\n",
    "i_t2 = pydt.datetime.fromtimestamp(iphone_end_ts)\n",
    "print 'iphone_start_ts=' + str(i_t1) + '\\n' + 'iphone_end_ts=' + str(i_t2)\n",
    "print  (iphone_end_ts-iphone_start_ts)/3600.0"
   ]
  },
  {
   "cell_type": "code",
   "execution_count": 88,
   "metadata": {
    "collapsed": false
   },
   "outputs": [
    {
     "name": "stdout",
     "output_type": "stream",
     "text": [
      "android_start_ts=2016-07-29 01:24:15.959000\n",
      "android_end_ts=2016-07-29 09:49:14.072000\n",
      "8.41614249998\n"
     ]
    }
   ],
   "source": [
    "android_start_ts = android_ranges_df.start_ts.max() \n",
    "android_end_ts = android_ranges_df.end_ts.max() \n",
    "a_t1 = pydt.datetime.fromtimestamp(android_start_ts)\n",
    "a_t2 = pydt.datetime.fromtimestamp(android_end_ts)\n",
    "print 'android_start_ts=' + str(a_t1) + '\\n' + 'android_end_ts=' + str(a_t2)\n",
    "print  (android_end_ts-android_start_ts)/3600.0"
   ]
  },
  {
   "cell_type": "code",
   "execution_count": 89,
   "metadata": {
    "collapsed": false
   },
   "outputs": [
    {
     "name": "stdout",
     "output_type": "stream",
     "text": [
      "28\n"
     ]
    }
   ],
   "source": [
    "import numpy as np\n",
    "\n",
    "iphone_xnew = np.arange(iphone_start_ts, iphone_end_ts, 15 * 60) # 15 minutes\n",
    "print len(iphone_xnew)"
   ]
  },
  {
   "cell_type": "code",
   "execution_count": 90,
   "metadata": {
    "collapsed": false
   },
   "outputs": [
    {
     "name": "stdout",
     "output_type": "stream",
     "text": [
      "<type 'numpy.ndarray'>\n"
     ]
    }
   ],
   "source": [
    "android_xnew = np.arange(android_start_ts, android_end_ts, 15 * 60) # 15 minutes\n",
    "print type(android_xnew)"
   ]
  },
  {
   "cell_type": "code",
   "execution_count": 91,
   "metadata": {
    "collapsed": true
   },
   "outputs": [],
   "source": [
    "import scipy.interpolate as spi\n",
    "import numpy as np\n",
    "\n",
    "def get_interpolated(x, y, xnew):\n",
    "    # fn = spi.interp1d(x=x, y=y, bounds_error=False, fill_value=y.iloc[-1])\n",
    "    fn = spi.interp1d(x=x, y=y, bounds_error=False)\n",
    "    #This class returns a function whose call method uses interpolation to find the value of new points.\n",
    "    return fn(xnew)"
   ]
  },
  {
   "cell_type": "code",
   "execution_count": 92,
   "metadata": {
    "collapsed": true
   },
   "outputs": [],
   "source": [
    "def get_interpolated_df(sensor_df, xnew):\n",
    "    local_dt_new = map(pydt.datetime.fromtimestamp, xnew)\n",
    "    fmt_time_new = map(lambda dt: dt.isoformat(), local_dt_new)\n",
    "    #date.isoformat() Return a string representing the date in ISO 8601 format, ‘YYYY-MM-DD’. \n",
    "    # -For example, date(2002, 12, 4).isoformat() == '2002-12-04'.\n",
    "    interpolated_series = get_interpolated(sensor_df.ts, sensor_df.battery_level_pct, xnew)\n",
    "    # print \"interpolated_series = %s\" % interpolated_series\n",
    "    interpolated_df = pd.DataFrame(data={'ts': xnew, 'metadata_write_ts': xnew, 'local_dt': local_dt_new, 'fmt_time': fmt_time_new, 'battery_level_pct': interpolated_series})\n",
    "    return interpolated_df"
   ]
  },
  {
   "cell_type": "code",
   "execution_count": 93,
   "metadata": {
    "collapsed": false
   },
   "outputs": [],
   "source": [
    "iphone_battery_interp_df_list = map(lambda df: get_interpolated_df(df, iphone_xnew), iphone_battery_df_list)\n"
   ]
  },
  {
   "cell_type": "code",
   "execution_count": 94,
   "metadata": {
    "collapsed": false
   },
   "outputs": [
    {
     "ename": "ValueError",
     "evalue": "x and y arrays must have at least 2 entries",
     "output_type": "error",
     "traceback": [
      "\u001b[0;31m---------------------------------------------------------------------------\u001b[0m",
      "\u001b[0;31mValueError\u001b[0m                                Traceback (most recent call last)",
      "\u001b[0;32m<ipython-input-94-4d7e5c3468b3>\u001b[0m in \u001b[0;36m<module>\u001b[0;34m()\u001b[0m\n\u001b[0;32m----> 1\u001b[0;31m \u001b[0mandroid_battery_interp_df_list\u001b[0m \u001b[0;34m=\u001b[0m \u001b[0mmap\u001b[0m\u001b[0;34m(\u001b[0m\u001b[0;32mlambda\u001b[0m \u001b[0mdf\u001b[0m\u001b[0;34m:\u001b[0m \u001b[0mget_interpolated_df\u001b[0m\u001b[0;34m(\u001b[0m\u001b[0mdf\u001b[0m\u001b[0;34m,\u001b[0m \u001b[0mandroid_xnew\u001b[0m\u001b[0;34m)\u001b[0m\u001b[0;34m,\u001b[0m \u001b[0mandroid_battery_df_list\u001b[0m\u001b[0;34m)\u001b[0m\u001b[0;34m\u001b[0m\u001b[0m\n\u001b[0m",
      "\u001b[0;32m<ipython-input-94-4d7e5c3468b3>\u001b[0m in \u001b[0;36m<lambda>\u001b[0;34m(df)\u001b[0m\n\u001b[0;32m----> 1\u001b[0;31m \u001b[0mandroid_battery_interp_df_list\u001b[0m \u001b[0;34m=\u001b[0m \u001b[0mmap\u001b[0m\u001b[0;34m(\u001b[0m\u001b[0;32mlambda\u001b[0m \u001b[0mdf\u001b[0m\u001b[0;34m:\u001b[0m \u001b[0mget_interpolated_df\u001b[0m\u001b[0;34m(\u001b[0m\u001b[0mdf\u001b[0m\u001b[0;34m,\u001b[0m \u001b[0mandroid_xnew\u001b[0m\u001b[0;34m)\u001b[0m\u001b[0;34m,\u001b[0m \u001b[0mandroid_battery_df_list\u001b[0m\u001b[0;34m)\u001b[0m\u001b[0;34m\u001b[0m\u001b[0m\n\u001b[0m",
      "\u001b[0;32m<ipython-input-92-39c094637284>\u001b[0m in \u001b[0;36mget_interpolated_df\u001b[0;34m(sensor_df, xnew)\u001b[0m\n\u001b[1;32m      4\u001b[0m     \u001b[0;31m#date.isoformat() Return a string representing the date in ISO 8601 format, ‘YYYY-MM-DD’.\u001b[0m\u001b[0;34m\u001b[0m\u001b[0;34m\u001b[0m\u001b[0m\n\u001b[1;32m      5\u001b[0m     \u001b[0;31m# -For example, date(2002, 12, 4).isoformat() == '2002-12-04'.\u001b[0m\u001b[0;34m\u001b[0m\u001b[0;34m\u001b[0m\u001b[0m\n\u001b[0;32m----> 6\u001b[0;31m     \u001b[0minterpolated_series\u001b[0m \u001b[0;34m=\u001b[0m \u001b[0mget_interpolated\u001b[0m\u001b[0;34m(\u001b[0m\u001b[0msensor_df\u001b[0m\u001b[0;34m.\u001b[0m\u001b[0mts\u001b[0m\u001b[0;34m,\u001b[0m \u001b[0msensor_df\u001b[0m\u001b[0;34m.\u001b[0m\u001b[0mbattery_level_pct\u001b[0m\u001b[0;34m,\u001b[0m \u001b[0mxnew\u001b[0m\u001b[0;34m)\u001b[0m\u001b[0;34m\u001b[0m\u001b[0m\n\u001b[0m\u001b[1;32m      7\u001b[0m     \u001b[0;31m# print \"interpolated_series = %s\" % interpolated_series\u001b[0m\u001b[0;34m\u001b[0m\u001b[0;34m\u001b[0m\u001b[0m\n\u001b[1;32m      8\u001b[0m     \u001b[0minterpolated_df\u001b[0m \u001b[0;34m=\u001b[0m \u001b[0mpd\u001b[0m\u001b[0;34m.\u001b[0m\u001b[0mDataFrame\u001b[0m\u001b[0;34m(\u001b[0m\u001b[0mdata\u001b[0m\u001b[0;34m=\u001b[0m\u001b[0;34m{\u001b[0m\u001b[0;34m'ts'\u001b[0m\u001b[0;34m:\u001b[0m \u001b[0mxnew\u001b[0m\u001b[0;34m,\u001b[0m \u001b[0;34m'metadata_write_ts'\u001b[0m\u001b[0;34m:\u001b[0m \u001b[0mxnew\u001b[0m\u001b[0;34m,\u001b[0m \u001b[0;34m'local_dt'\u001b[0m\u001b[0;34m:\u001b[0m \u001b[0mlocal_dt_new\u001b[0m\u001b[0;34m,\u001b[0m \u001b[0;34m'fmt_time'\u001b[0m\u001b[0;34m:\u001b[0m \u001b[0mfmt_time_new\u001b[0m\u001b[0;34m,\u001b[0m \u001b[0;34m'battery_level_pct'\u001b[0m\u001b[0;34m:\u001b[0m \u001b[0minterpolated_series\u001b[0m\u001b[0;34m}\u001b[0m\u001b[0;34m)\u001b[0m\u001b[0;34m\u001b[0m\u001b[0m\n",
      "\u001b[0;32m<ipython-input-91-e2c79496da96>\u001b[0m in \u001b[0;36mget_interpolated\u001b[0;34m(x, y, xnew)\u001b[0m\n\u001b[1;32m      4\u001b[0m \u001b[0;32mdef\u001b[0m \u001b[0mget_interpolated\u001b[0m\u001b[0;34m(\u001b[0m\u001b[0mx\u001b[0m\u001b[0;34m,\u001b[0m \u001b[0my\u001b[0m\u001b[0;34m,\u001b[0m \u001b[0mxnew\u001b[0m\u001b[0;34m)\u001b[0m\u001b[0;34m:\u001b[0m\u001b[0;34m\u001b[0m\u001b[0m\n\u001b[1;32m      5\u001b[0m     \u001b[0;31m# fn = spi.interp1d(x=x, y=y, bounds_error=False, fill_value=y.iloc[-1])\u001b[0m\u001b[0;34m\u001b[0m\u001b[0;34m\u001b[0m\u001b[0m\n\u001b[0;32m----> 6\u001b[0;31m     \u001b[0mfn\u001b[0m \u001b[0;34m=\u001b[0m \u001b[0mspi\u001b[0m\u001b[0;34m.\u001b[0m\u001b[0minterp1d\u001b[0m\u001b[0;34m(\u001b[0m\u001b[0mx\u001b[0m\u001b[0;34m=\u001b[0m\u001b[0mx\u001b[0m\u001b[0;34m,\u001b[0m \u001b[0my\u001b[0m\u001b[0;34m=\u001b[0m\u001b[0my\u001b[0m\u001b[0;34m,\u001b[0m \u001b[0mbounds_error\u001b[0m\u001b[0;34m=\u001b[0m\u001b[0mFalse\u001b[0m\u001b[0;34m)\u001b[0m\u001b[0;34m\u001b[0m\u001b[0m\n\u001b[0m\u001b[1;32m      7\u001b[0m     \u001b[0;31m#This class returns a function whose call method uses interpolation to find the value of new points.\u001b[0m\u001b[0;34m\u001b[0m\u001b[0;34m\u001b[0m\u001b[0m\n\u001b[1;32m      8\u001b[0m     \u001b[0;32mreturn\u001b[0m \u001b[0mfn\u001b[0m\u001b[0;34m(\u001b[0m\u001b[0mxnew\u001b[0m\u001b[0;34m)\u001b[0m\u001b[0;34m\u001b[0m\u001b[0m\n",
      "\u001b[0;32m/Users/yawen/anaconda2/lib/python2.7/site-packages/scipy/interpolate/interpolate.pyc\u001b[0m in \u001b[0;36m__init__\u001b[0;34m(***failed resolving arguments***)\u001b[0m\n\u001b[1;32m    479\u001b[0m         \u001b[0;32mif\u001b[0m \u001b[0mlen\u001b[0m\u001b[0;34m(\u001b[0m\u001b[0mself\u001b[0m\u001b[0;34m.\u001b[0m\u001b[0mx\u001b[0m\u001b[0;34m)\u001b[0m \u001b[0;34m<\u001b[0m \u001b[0mminval\u001b[0m\u001b[0;34m:\u001b[0m\u001b[0;34m\u001b[0m\u001b[0m\n\u001b[1;32m    480\u001b[0m             raise ValueError(\"x and y arrays must have at \"\n\u001b[0;32m--> 481\u001b[0;31m                              \"least %d entries\" % minval)\n\u001b[0m\u001b[1;32m    482\u001b[0m \u001b[0;34m\u001b[0m\u001b[0m\n\u001b[1;32m    483\u001b[0m     \u001b[0;34m@\u001b[0m\u001b[0mproperty\u001b[0m\u001b[0;34m\u001b[0m\u001b[0m\n",
      "\u001b[0;31mValueError\u001b[0m: x and y arrays must have at least 2 entries"
     ]
    }
   ],
   "source": [
    "android_battery_interp_df_list = map(lambda df: get_interpolated_df(df, android_xnew), android_battery_df_list)"
   ]
  },
  {
   "cell_type": "code",
   "execution_count": 95,
   "metadata": {
    "collapsed": true
   },
   "outputs": [],
   "source": [
    "label = ['1hr', '1hr', '1hr', '1hr']\n",
    "style = ['ob', 'og', 'or', 'oc']\n",
    "title = \"TrackingOn_Stationary_HAFS \"\n",
    "\n",
    "ts_to_dt = lambda t: pydt.datetime.fromtimestamp(t)"
   ]
  },
  {
   "cell_type": "code",
   "execution_count": 96,
   "metadata": {
    "collapsed": false
   },
   "outputs": [
    {
     "name": "stdout",
     "output_type": "stream",
     "text": [
      "About to plot 0\n",
      "About to plot 1\n",
      "About to plot 2\n"
     ]
    },
    {
     "data": {
      "image/png": "[encoded data removed]",
      "text/plain": [
       "<matplotlib.figure.Figure at 0x114c9a790>"
      ]
     },
     "metadata": {},
     "output_type": "display_data"
    }
   ],
   "source": [
    "#iOS: No interplation on battery data\n",
    "(afig, aaxes2d) = plt.subplots(ncols=1, nrows=4, sharex=True, sharey=True, figsize=(16,6))\n",
    "aaxes = aaxes2d.flatten()\n",
    "\n",
    "afig.suptitle(title + '(raw iOS data)', fontsize=14, fontweight='bold')\n",
    "\n",
    "for i, df in enumerate(iphone_battery_df_list):\n",
    "    print \"About to plot %d\" % i\n",
    "    df['hr'] = (df.ts-iphone_start_ts)/3600.0\n",
    "    df.plot(x='hr', y='battery_level_pct', style=style[i], ax=aaxes[i], label=\"iphone-%s (1hr)\" % (i+1))\n",
    "    aaxes[i].set_xlabel('Hours')\n",
    "    aaxes[i].set_ylabel('Batery Level')\n",
    "    aaxes[i].set_xlim(left=0)\n",
    "    #plt.xticks(np.arange(0, max(df['hr'])+2, 2.0))\n",
    "    \n",
    "#afig.savefig('scatter_Apr_2-3_iOS.png')"
   ]
  },
  {
   "cell_type": "code",
   "execution_count": 97,
   "metadata": {
    "collapsed": false
   },
   "outputs": [
    {
     "name": "stdout",
     "output_type": "stream",
     "text": [
      "About to plot 0\n",
      "About to plot 1\n",
      "About to plot 2\n"
     ]
    },
    {
     "data": {
      "image/png": "[encoded data removed]",
      "text/plain": [
       "<matplotlib.figure.Figure at 0x116368950>"
      ]
     },
     "metadata": {},
     "output_type": "display_data"
    }
   ],
   "source": [
    "#iOS: With interplation on battery data \n",
    "(ifig, iaxes2d) = plt.subplots(ncols=1, nrows=1, figsize=(16,6))\n",
    "iaxes = iaxes2d\n",
    "ifig.suptitle(title + '(iOS_interpolated)', fontsize=14, fontweight='bold')\n",
    "\n",
    "for i, df in enumerate(iphone_battery_interp_df_list):\n",
    "    print \"About to plot %d\" % i\n",
    "    df['hr'] = (df.ts-iphone_start_ts)/3600.0\n",
    "    df.plot(x='hr', y='battery_level_pct', ax=iaxes, xlim=(0, 7), label=\"iphone-%s (1hr)\" % (i+1))\n",
    "    iaxes.set_xlabel('Hours')\n",
    "    iaxes.set_ylabel('Batery Level')\n",
    "    plt.xticks(np.arange(0, max(df['hr']), 2.0))\n",
    "\n",
    "#ifig.savefig('interp_Apr_2-3_iOS.png') "
   ]
  },
  {
   "cell_type": "code",
   "execution_count": 98,
   "metadata": {
    "collapsed": false
   },
   "outputs": [
    {
     "name": "stdout",
     "output_type": "stream",
     "text": [
      "About to plot 0\n",
      "About to plot 1\n",
      "About to plot 2\n",
      "About to plot 0\n",
      "About to plot 1\n",
      "About to plot 2\n"
     ]
    },
    {
     "data": {
      "image/png": "[encoded data removed]",
      "text/plain": [
       "<matplotlib.figure.Figure at 0x11b025cd0>"
      ]
     },
     "metadata": {},
     "output_type": "display_data"
    }
   ],
   "source": [
    "(ifig, iaxes2d) = plt.subplots(ncols=1, nrows=1, figsize=(16,6))\n",
    "iaxes = iaxes2d\n",
    "ifig.suptitle(title + '(iOS_overlaid)', fontsize=14, fontweight='bold')\n",
    "\n",
    "for i, df in enumerate(iphone_battery_interp_df_list):\n",
    "    print \"About to plot %d\" % i\n",
    "    df.plot(x='hr', y='battery_level_pct', ax=iaxes, xlim=(0, 22), label=\"iphone-%s (1hr)\" % (i+1), legend=True)\n",
    "\n",
    "for i, df in enumerate(iphone_battery_df_list):\n",
    "    print \"About to plot %d\" % i\n",
    "    df.plot(x='hr', y='battery_level_pct', style=style[i], ax=iaxes, xlim=(0, 22), legend=False)\n",
    "    iaxes.set_xlabel('Hours')\n",
    "    iaxes.set_ylabel('Batery Level')\n",
    "    plt.xticks(np.arange(0, 22, 2.0))\n",
    "\n",
    "    \n",
    "#ifig.savefig('overlaid_Apr_2-3_iOS.png')  "
   ]
  },
  {
   "cell_type": "code",
   "execution_count": 99,
   "metadata": {
    "collapsed": false
   },
   "outputs": [
    {
     "name": "stdout",
     "output_type": "stream",
     "text": [
      "[[ nan  nan  nan]\n",
      " [ nan  nan  nan]\n",
      " [ nan  nan  nan]]\n"
     ]
    },
    {
     "data": {
      "text/plain": [
       "<matplotlib.colorbar.Colorbar at 0x11b0516d0>"
      ]
     },
     "execution_count": 99,
     "metadata": {},
     "output_type": "execute_result"
    },
    {
     "data": {
      "image/png": "[encoded data removed]",
      "text/plain": [
       "<matplotlib.figure.Figure at 0x1197ffdd0>"
      ]
     },
     "metadata": {},
     "output_type": "display_data"
    }
   ],
   "source": [
    "#iOS\n",
    "#correlation analysis \n",
    "#generate list of iphone battery series \n",
    "iphone_battery_series_list = map(lambda b: b.battery_level_pct, iphone_battery_interp_df_list)\n",
    "print np.corrcoef(iphone_battery_series_list)\n",
    "plt.matshow(np.corrcoef(iphone_battery_series_list), cmap=plt.cm.gray)\n",
    "plt.colorbar()"
   ]
  },
  {
   "cell_type": "code",
   "execution_count": 100,
   "metadata": {
    "collapsed": false
   },
   "outputs": [
    {
     "name": "stdout",
     "output_type": "stream",
     "text": [
      "4\n",
      "About to plot 0\n",
      "About to plot 1\n",
      "About to plot 2\n",
      "About to plot 3\n"
     ]
    },
    {
     "data": {
      "image/png": "[encoded data removed]",
      "text/plain": [
       "<matplotlib.figure.Figure at 0x1194774d0>"
      ]
     },
     "metadata": {},
     "output_type": "display_data"
    }
   ],
   "source": [
    "#Android: No interplation on battery data \n",
    "print len(android_battery_df_list)\n",
    "(afig, aaxes2d) = plt.subplots(ncols=1, nrows=4, sharex=True, sharey=True, figsize=(16,6))\n",
    "aaxes = aaxes2d.flatten()\n",
    "\n",
    "afig.suptitle(title + '(raw Android data)', fontsize=14, fontweight='bold')\n",
    "\n",
    "for i, df in enumerate(android_battery_df_list):\n",
    "    print \"About to plot %d\" % i\n",
    "    df['dt'] = df.ts.apply(ts_to_dt)\n",
    "    df['hr'] = (df.ts-android_start_ts)/3600.0\n",
    "    df.plot(x='hr', y='battery_level_pct', style=style[i], ax=aaxes[i], label=\"android.%s (1hr)\" % (i+1))\n",
    "    aaxes[i].set_xlabel('Hours')\n",
    "    aaxes[i].set_ylabel('Batery Level')\n",
    "    aaxes[i].set_xlim(left=0)\n",
    "    #plt.xticks(np.arange(0, max(df['hr'])+2, 1))\n",
    "    \n",
    "#afig.savefig('scatter_Apr_2-3_Android.png')"
   ]
  },
  {
   "cell_type": "code",
   "execution_count": 101,
   "metadata": {
    "collapsed": false
   },
   "outputs": [
    {
     "ename": "NameError",
     "evalue": "name 'android_battery_interp_df_list' is not defined",
     "output_type": "error",
     "traceback": [
      "\u001b[0;31m---------------------------------------------------------------------------\u001b[0m",
      "\u001b[0;31mNameError\u001b[0m                                 Traceback (most recent call last)",
      "\u001b[0;32m<ipython-input-101-162b62f9cc24>\u001b[0m in \u001b[0;36m<module>\u001b[0;34m()\u001b[0m\n\u001b[1;32m      5\u001b[0m \u001b[0mifig\u001b[0m\u001b[0;34m.\u001b[0m\u001b[0msuptitle\u001b[0m\u001b[0;34m(\u001b[0m\u001b[0mtitle\u001b[0m \u001b[0;34m+\u001b[0m \u001b[0;34m'(Android_interpolated)'\u001b[0m\u001b[0;34m,\u001b[0m \u001b[0mfontsize\u001b[0m\u001b[0;34m=\u001b[0m\u001b[0;36m14\u001b[0m\u001b[0;34m,\u001b[0m \u001b[0mfontweight\u001b[0m\u001b[0;34m=\u001b[0m\u001b[0;34m'bold'\u001b[0m\u001b[0;34m)\u001b[0m\u001b[0;34m\u001b[0m\u001b[0m\n\u001b[1;32m      6\u001b[0m \u001b[0;34m\u001b[0m\u001b[0m\n\u001b[0;32m----> 7\u001b[0;31m \u001b[0;32mfor\u001b[0m \u001b[0mi\u001b[0m\u001b[0;34m,\u001b[0m \u001b[0mdf\u001b[0m \u001b[0;32min\u001b[0m \u001b[0menumerate\u001b[0m\u001b[0;34m(\u001b[0m\u001b[0mandroid_battery_interp_df_list\u001b[0m\u001b[0;34m)\u001b[0m\u001b[0;34m:\u001b[0m\u001b[0;34m\u001b[0m\u001b[0m\n\u001b[0m\u001b[1;32m      8\u001b[0m     \u001b[0;32mprint\u001b[0m \u001b[0;34m\"About to plot %d\"\u001b[0m \u001b[0;34m%\u001b[0m \u001b[0mi\u001b[0m\u001b[0;34m\u001b[0m\u001b[0m\n\u001b[1;32m      9\u001b[0m     \u001b[0mdf\u001b[0m\u001b[0;34m[\u001b[0m\u001b[0;34m'hr'\u001b[0m\u001b[0;34m]\u001b[0m \u001b[0;34m=\u001b[0m \u001b[0;34m(\u001b[0m\u001b[0mdf\u001b[0m\u001b[0;34m.\u001b[0m\u001b[0mts\u001b[0m\u001b[0;34m-\u001b[0m\u001b[0mandroid_start_ts\u001b[0m\u001b[0;34m)\u001b[0m\u001b[0;34m/\u001b[0m\u001b[0;36m3600.0\u001b[0m\u001b[0;34m\u001b[0m\u001b[0m\n",
      "\u001b[0;31mNameError\u001b[0m: name 'android_battery_interp_df_list' is not defined"
     ]
    },
    {
     "data": {
      "image/png": "[encoded data removed]",
      "text/plain": [
       "<matplotlib.figure.Figure at 0x1197e1a10>"
      ]
     },
     "metadata": {},
     "output_type": "display_data"
    }
   ],
   "source": [
    "#Android: With interplation on battery data \n",
    "(ifig, iaxes2d) = plt.subplots(ncols=1, nrows=1, figsize=(16,6))\n",
    "iaxes = iaxes2d\n",
    "\n",
    "ifig.suptitle(title + '(Android_interpolated)', fontsize=14, fontweight='bold')\n",
    "\n",
    "for i, df in enumerate(android_battery_interp_df_list):\n",
    "    print \"About to plot %d\" % i\n",
    "    df['hr'] = (df.ts-android_start_ts)/3600.0\n",
    "    df.plot(x='hr', y='battery_level_pct', ax=iaxes, xlim=(0, 20), label=\"android-%s (1hr)\" % (i+1))\n",
    "    iaxes.set_xlabel('Hours')\n",
    "    iaxes.set_ylabel('Batery Level')\n",
    "    plt.xticks(np.arange(0, 22, 2))\n",
    "    \n",
    "#ifig.savefig('interp_Apr_2-3_Android.png')    "
   ]
  },
  {
   "cell_type": "code",
   "execution_count": 102,
   "metadata": {
    "collapsed": false
   },
   "outputs": [
    {
     "ename": "NameError",
     "evalue": "name 'android_battery_interp_df_list' is not defined",
     "output_type": "error",
     "traceback": [
      "\u001b[0;31m---------------------------------------------------------------------------\u001b[0m",
      "\u001b[0;31mNameError\u001b[0m                                 Traceback (most recent call last)",
      "\u001b[0;32m<ipython-input-102-cf492c0e9d49>\u001b[0m in \u001b[0;36m<module>\u001b[0;34m()\u001b[0m\n\u001b[1;32m      5\u001b[0m \u001b[0mifig\u001b[0m\u001b[0;34m.\u001b[0m\u001b[0msuptitle\u001b[0m\u001b[0;34m(\u001b[0m\u001b[0mtitle\u001b[0m \u001b[0;34m+\u001b[0m \u001b[0;34m'(Android_overlaid)'\u001b[0m\u001b[0;34m,\u001b[0m \u001b[0mfontsize\u001b[0m\u001b[0;34m=\u001b[0m\u001b[0;36m14\u001b[0m\u001b[0;34m,\u001b[0m \u001b[0mfontweight\u001b[0m\u001b[0;34m=\u001b[0m\u001b[0;34m'bold'\u001b[0m\u001b[0;34m)\u001b[0m\u001b[0;34m\u001b[0m\u001b[0m\n\u001b[1;32m      6\u001b[0m \u001b[0;34m\u001b[0m\u001b[0m\n\u001b[0;32m----> 7\u001b[0;31m \u001b[0;32mfor\u001b[0m \u001b[0mi\u001b[0m\u001b[0;34m,\u001b[0m \u001b[0mdf\u001b[0m \u001b[0;32min\u001b[0m \u001b[0menumerate\u001b[0m\u001b[0;34m(\u001b[0m\u001b[0mandroid_battery_interp_df_list\u001b[0m\u001b[0;34m)\u001b[0m\u001b[0;34m:\u001b[0m\u001b[0;34m\u001b[0m\u001b[0m\n\u001b[0m\u001b[1;32m      8\u001b[0m     \u001b[0;32mprint\u001b[0m \u001b[0;34m\"About to plot %d\"\u001b[0m \u001b[0;34m%\u001b[0m \u001b[0mi\u001b[0m\u001b[0;34m\u001b[0m\u001b[0m\n\u001b[1;32m      9\u001b[0m     \u001b[0mdf\u001b[0m\u001b[0;34m.\u001b[0m\u001b[0mplot\u001b[0m\u001b[0;34m(\u001b[0m\u001b[0mx\u001b[0m\u001b[0;34m=\u001b[0m\u001b[0;34m'hr'\u001b[0m\u001b[0;34m,\u001b[0m \u001b[0my\u001b[0m\u001b[0;34m=\u001b[0m\u001b[0;34m'battery_level_pct'\u001b[0m\u001b[0;34m,\u001b[0m \u001b[0max\u001b[0m\u001b[0;34m=\u001b[0m\u001b[0miaxes\u001b[0m\u001b[0;34m,\u001b[0m \u001b[0mxlim\u001b[0m\u001b[0;34m=\u001b[0m\u001b[0;34m(\u001b[0m\u001b[0;36m0\u001b[0m\u001b[0;34m,\u001b[0m \u001b[0mmax\u001b[0m\u001b[0;34m(\u001b[0m\u001b[0mdf\u001b[0m\u001b[0;34m.\u001b[0m\u001b[0mhr\u001b[0m\u001b[0;34m)\u001b[0m\u001b[0;34m)\u001b[0m\u001b[0;34m,\u001b[0m \u001b[0mlabel\u001b[0m\u001b[0;34m=\u001b[0m\u001b[0;34m\"Android-%s (1hr)\"\u001b[0m \u001b[0;34m%\u001b[0m \u001b[0;34m(\u001b[0m\u001b[0mi\u001b[0m\u001b[0;34m+\u001b[0m\u001b[0;36m1\u001b[0m\u001b[0;34m)\u001b[0m\u001b[0;34m,\u001b[0m \u001b[0mlegend\u001b[0m\u001b[0;34m=\u001b[0m\u001b[0mTrue\u001b[0m\u001b[0;34m)\u001b[0m\u001b[0;34m\u001b[0m\u001b[0m\n",
      "\u001b[0;31mNameError\u001b[0m: name 'android_battery_interp_df_list' is not defined"
     ]
    },
    {
     "data": {
      "image/png": "[encoded data removed]",
      "text/plain": [
       "<matplotlib.figure.Figure at 0x1197e11d0>"
      ]
     },
     "metadata": {},
     "output_type": "display_data"
    }
   ],
   "source": [
    "#Android: With interplation on battery data \n",
    "(ifig, iaxes2d) = plt.subplots(ncols=1, nrows=1, figsize=(16,6))\n",
    "iaxes = iaxes2d\n",
    "\n",
    "ifig.suptitle(title + '(Android_overlaid)', fontsize=14, fontweight='bold')\n",
    "\n",
    "for i, df in enumerate(android_battery_interp_df_list):\n",
    "    print \"About to plot %d\" % i\n",
    "    df.plot(x='hr', y='battery_level_pct', ax=iaxes, xlim=(0, max(df.hr)), label=\"Android-%s (1hr)\" % (i+1), legend=True)\n",
    "\n",
    "\n",
    "for i, df in enumerate(android_battery_df_list):\n",
    "    print \"About to plot %d\" % i\n",
    "    df.plot(x='hr', y='battery_level_pct', style=style[i], ax=iaxes, xlim=(0, max(df.hr)), legend=False)\n",
    "    iaxes.set_xlabel('Hours')\n",
    "    iaxes.set_ylabel('Batery Level')\n",
    "    plt.xticks(np.arange(0, max(df['hr'])+1, 2))\n",
    "    #plt.xticks(np.arange(min(df.dt), max(df.dt), 1))\n",
    "    \n",
    "#ifig.savefig('overlaid_Apr_2-3_Android.png') "
   ]
  },
  {
   "cell_type": "code",
   "execution_count": 103,
   "metadata": {
    "collapsed": false
   },
   "outputs": [
    {
     "ename": "NameError",
     "evalue": "name 'android_battery_interp_df_list' is not defined",
     "output_type": "error",
     "traceback": [
      "\u001b[0;31m---------------------------------------------------------------------------\u001b[0m",
      "\u001b[0;31mNameError\u001b[0m                                 Traceback (most recent call last)",
      "\u001b[0;32m<ipython-input-103-e6531b9db235>\u001b[0m in \u001b[0;36m<module>\u001b[0;34m()\u001b[0m\n\u001b[1;32m      2\u001b[0m \u001b[0;31m#correlation analysis(tracking_off+stationary)\u001b[0m\u001b[0;34m\u001b[0m\u001b[0;34m\u001b[0m\u001b[0m\n\u001b[1;32m      3\u001b[0m \u001b[0;31m#generate list of android battery series\u001b[0m\u001b[0;34m\u001b[0m\u001b[0;34m\u001b[0m\u001b[0m\n\u001b[0;32m----> 4\u001b[0;31m \u001b[0mandroid_battery_series_list\u001b[0m \u001b[0;34m=\u001b[0m \u001b[0mmap\u001b[0m\u001b[0;34m(\u001b[0m\u001b[0;32mlambda\u001b[0m \u001b[0mb\u001b[0m\u001b[0;34m:\u001b[0m \u001b[0mb\u001b[0m\u001b[0;34m.\u001b[0m\u001b[0mbattery_level_pct\u001b[0m\u001b[0;34m,\u001b[0m \u001b[0mandroid_battery_interp_df_list\u001b[0m\u001b[0;34m)\u001b[0m\u001b[0;34m\u001b[0m\u001b[0m\n\u001b[0m\u001b[1;32m      5\u001b[0m \u001b[0;32mprint\u001b[0m \u001b[0mnp\u001b[0m\u001b[0;34m.\u001b[0m\u001b[0mcorrcoef\u001b[0m\u001b[0;34m(\u001b[0m\u001b[0mandroid_battery_series_list\u001b[0m\u001b[0;34m)\u001b[0m\u001b[0;34m\u001b[0m\u001b[0m\n\u001b[1;32m      6\u001b[0m \u001b[0mplt\u001b[0m\u001b[0;34m.\u001b[0m\u001b[0mmatshow\u001b[0m\u001b[0;34m(\u001b[0m\u001b[0mnp\u001b[0m\u001b[0;34m.\u001b[0m\u001b[0mcorrcoef\u001b[0m\u001b[0;34m(\u001b[0m\u001b[0mandroid_battery_series_list\u001b[0m\u001b[0;34m)\u001b[0m\u001b[0;34m,\u001b[0m \u001b[0mcmap\u001b[0m\u001b[0;34m=\u001b[0m\u001b[0mplt\u001b[0m\u001b[0;34m.\u001b[0m\u001b[0mcm\u001b[0m\u001b[0;34m.\u001b[0m\u001b[0mgray\u001b[0m\u001b[0;34m)\u001b[0m\u001b[0;34m\u001b[0m\u001b[0m\n",
      "\u001b[0;31mNameError\u001b[0m: name 'android_battery_interp_df_list' is not defined"
     ]
    }
   ],
   "source": [
    "#Android \n",
    "#correlation analysis(tracking_off+stationary)\n",
    "#generate list of android battery series \n",
    "android_battery_series_list = map(lambda b: b.battery_level_pct, android_battery_interp_df_list)\n",
    "print np.corrcoef(android_battery_series_list)\n",
    "plt.matshow(np.corrcoef(android_battery_series_list), cmap=plt.cm.gray)\n",
    "plt.colorbar()"
   ]
  },
  {
   "cell_type": "code",
   "execution_count": 104,
   "metadata": {
    "collapsed": false
   },
   "outputs": [
    {
     "data": {
      "text/plain": [
       "2"
      ]
     },
     "execution_count": 104,
     "metadata": {},
     "output_type": "execute_result"
    }
   ],
   "source": [
    "l = [1,2]\n",
    "len(l)"
   ]
  },
  {
   "cell_type": "code",
   "execution_count": 105,
   "metadata": {
    "collapsed": false
   },
   "outputs": [
    {
     "data": {
      "text/plain": [
       "3"
      ]
     },
     "execution_count": 105,
     "metadata": {},
     "output_type": "execute_result"
    }
   ],
   "source": [
    "l.append(3)\n",
    "l\n",
    "len(l)"
   ]
  },
  {
   "cell_type": "code",
   "execution_count": 106,
   "metadata": {
    "collapsed": true
   },
   "outputs": [],
   "source": [
    "iphone_ts = map(lambda u: esta.TimeSeries.get_time_series(u), iphone_ids)\n",
    "android_ts = map(lambda u: esta.TimeSeries.get_time_series(u), android_ids)\n",
    "\n",
    "iphone_time_range = estt.TimeQuery(\"metadata.write_ts\", iphone_start_ts, iphone_end_ts)\n",
    "android_time_range = estt.TimeQuery(\"metadata.write_ts\", android_start_ts, android_end_ts)\n",
    "\n",
    "iphone_battery_df_discharge_list = map(lambda t:t.get_data_df(\"background/battery\", iphone_time_range), iphone_ts)\n",
    "android_battery_df_discharge_list = map(lambda t:t.get_data_df(\"background/battery\", android_time_range), android_ts)"
   ]
  },
  {
   "cell_type": "code",
   "execution_count": 110,
   "metadata": {
    "collapsed": false
   },
   "outputs": [
    {
     "name": "stdout",
     "output_type": "stream",
     "text": [
      "<class 'pandas.core.series.Series'>\n",
      "[ 1. -1.  0. -1.  0.  0.  0. -2.  0.  0.  0. -3.  0.  0.  0. -1.  0.  0.\n",
      "  4.  0.]\n",
      "6\n",
      "6\n",
      "    delta_b   delta_t     slope            ts                   fmt_time     b\n",
      "1      -1.0  1.062651 -0.941043  1.469790e+09 2016-07-29 04:04:11.542977  99.0\n",
      "3      -1.0  0.931790 -1.073203  1.469794e+09 2016-07-29 05:00:05.988261  98.0\n",
      "7      -2.0  0.999572 -2.000855  1.469797e+09 2016-07-29 06:00:04.449023  96.0\n",
      "11     -3.0  2.000154 -1.499885  1.469804e+09 2016-07-29 08:00:05.002663  93.0\n",
      "15     -1.0  0.999915 -1.000085  1.469808e+09 2016-07-29 09:00:04.697392  92.0\n"
     ]
    },
    {
     "name": "stderr",
     "output_type": "stream",
     "text": [
      "/Users/yawen/anaconda2/lib/python2.7/site-packages/ipykernel/__main__.py:35: FutureWarning: \n",
      "The default value for 'return_type' will change to 'axes' in a future release.\n",
      " To use the future behavior now, set return_type='axes'.\n",
      " To keep the previous behavior and silence this warning, set return_type='dict'.\n"
     ]
    },
    {
     "data": {
      "text/plain": [
       "count    5.000000\n",
       "mean    -1.303014\n",
       "std      0.447589\n",
       "min     -2.000855\n",
       "25%     -1.499885\n",
       "50%     -1.073203\n",
       "75%     -1.000085\n",
       "max     -0.941043\n",
       "Name: slope, dtype: float64"
      ]
     },
     "execution_count": 110,
     "metadata": {},
     "output_type": "execute_result"
    },
    {
     "data": {
      "image/png": "[encoded data removed]",
      "text/plain": [
       "<matplotlib.figure.Figure at 0x119dc5e10>"
      ]
     },
     "metadata": {},
     "output_type": "display_data"
    }
   ],
   "source": [
    "import numpy as np\n",
    "itest = iphone_battery_df_discharge_list[2]\n",
    "#print itest.battery_level_pct\n",
    "print type(itest.battery_level_pct) #<class 'pandas.core.series.Series'>\n",
    "b = itest.battery_level_pct\n",
    "delta_b = np.diff(itest.battery_level_pct)\n",
    "delta_b = np.insert(delta_b, 0, 1)\n",
    "#print delta_b\n",
    "ts = itest.metadata_write_ts\n",
    "\n",
    "rate_df = pd.DataFrame({'delta_b':delta_b, 'ts':ts, 'b':b})\n",
    "rate_df = rate_df[rate_df.delta_b!=0]\n",
    "print delta_b\n",
    "delta_b = rate_df.delta_b[1:]\n",
    "delta_t = np.diff(rate_df.ts)/3600 #convert from seconds to hrs \n",
    "print len(delta_b)\n",
    "print len(delta_t)\n",
    "slope_df = pd.DataFrame({'delta_b':delta_b, 'delta_t':delta_t})\n",
    "slope_df['slope'] = delta_b/delta_t\n",
    "slope_df['ts'] = rate_df.ts[1:]\n",
    "slope_df['fmt_time'] = slope_df.ts.apply(ts_to_dt)\n",
    "slope_df['b'] = rate_df.b[1:]\n",
    "\n",
    "#remove outliners \n",
    "slope_df = slope_df[slope_df.slope<0 ]\n",
    "\n",
    "#slope_df = slope_df[slope_df.slope>-10 ]\n",
    "#slope_df = slope_df[slope_df.slope<-2 ]\n",
    "\n",
    "print slope_df\n",
    "\n",
    "#_, breaks=np.histogram(df.MAT,bins=1)\n",
    "#(ifig, iaxes2d) = plt.subplots(ncols=1, nrows=1, figsize=(16,6))\n",
    "#iaxes = iaxes2d\n",
    "ax = slope_df.boxplot(column='slope')\n",
    "slope_df.slope.describe()"
   ]
  },
  {
   "cell_type": "code",
   "execution_count": null,
   "metadata": {
    "collapsed": true
   },
   "outputs": [],
   "source": []
  },
  {
   "cell_type": "code",
   "execution_count": null,
   "metadata": {
    "collapsed": true
   },
   "outputs": [],
   "source": []
  },
  {
   "cell_type": "code",
   "execution_count": null,
   "metadata": {
    "collapsed": true
   },
   "outputs": [],
   "source": []
  },
  {
   "cell_type": "code",
   "execution_count": null,
   "metadata": {
    "collapsed": true
   },
   "outputs": [],
   "source": []
  },
  {
   "cell_type": "code",
   "execution_count": null,
   "metadata": {
    "collapsed": true
   },
   "outputs": [],
   "source": []
  }
 ],
 "metadata": {
  "kernelspec": {
   "display_name": "Python 2",
   "language": "python",
   "name": "python2"
  },
  "language_info": {
   "codemirror_mode": {
    "name": "ipython",
    "version": 2
   },
   "file_extension": ".py",
   "mimetype": "text/x-python",
   "name": "python",
   "nbconvert_exporter": "python",
   "pygments_lexer": "ipython2",
   "version": "2.7.11"
  }
 },
 "nbformat": 4,
 "nbformat_minor": 0
}
