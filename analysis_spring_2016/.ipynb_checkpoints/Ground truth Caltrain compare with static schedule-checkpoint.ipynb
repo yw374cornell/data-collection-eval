{
 "cells": [
  {
   "cell_type": "code",
   "execution_count": 1,
   "metadata": {
    "collapsed": false
   },
   "outputs": [
    {
     "name": "stderr",
     "output_type": "stream",
     "text": [
      "DEBUG:root:['', '/Users/shankari/OSS/anaconda/lib/python2.7/site-packages/pygmaps-0.1.1-py2.7.egg', '/Users/shankari/e-mission/e-mission-server', '/Users/shankari/e-mission/data-collection-eval/analysis_spring_2016', '/Users/shankari/OSS/anaconda/python.app/Contents/lib/python27.zip', '/Users/shankari/OSS/anaconda/python.app/Contents/lib/python2.7', '/Users/shankari/OSS/anaconda/python.app/Contents/lib/python2.7/plat-darwin', '/Users/shankari/OSS/anaconda/python.app/Contents/lib/python2.7/plat-mac', '/Users/shankari/OSS/anaconda/python.app/Contents/lib/python2.7/plat-mac/lib-scriptpackages', '/Users/shankari/OSS/anaconda/python.app/Contents/lib/python2.7/lib-tk', '/Users/shankari/OSS/anaconda/python.app/Contents/lib/python2.7/lib-old', '/Users/shankari/OSS/anaconda/python.app/Contents/lib/python2.7/lib-dynload', '/Users/shankari/OSS/anaconda/lib/python2.7/site-packages/runipy-0.1.0-py2.7.egg', '/Users/shankari/OSS/anaconda/lib/python2.7/site-packages', '/Users/shankari/OSS/anaconda/lib/python2.7/site-packages/PIL', '/Users/shankari/OSS/anaconda/lib/python2.7/site-packages/setuptools-20.6.7-py2.7.egg', '/Users/shankari/OSS/anaconda/lib/python2.7/site-packages/IPython/extensions']\n"
     ]
    }
   ],
   "source": [
    "import sys\n",
    "import logging\n",
    "from uuid import UUID\n",
    "\n",
    "import emission.core.get_database as edb\n",
    "import pandas as pd\n",
    "import matplotlib.pyplot as plt\n",
    "%matplotlib inline\n",
    "import datetime as pydt\n",
    "import emission.storage.timeseries.abstract_timeseries as esta\n",
    "import emission.net.usercache.abstract_usercache as enua\n",
    "import numpy as np\n",
    "\n",
    "logging.getLogger().setLevel(logging.DEBUG)\n",
    "logging.debug(sys.path)\n",
    "\n",
    "iphone_ids = [UUID(\"079e0f1a-c440-3d7c-b0e7-de160f748e35\"), UUID(\"c76a0487-7e5a-3b17-a449-47be666b36f6\"), \n",
    "              UUID(\"c528bcd2-a88b-3e82-be62-ef4f2396967a\"), UUID(\"95e70727-a04e-3e33-b7fe-34ab19194f8b\")]\n",
    "android_ids = [UUID(\"e471711e-bd14-3dbe-80b6-9c7d92ecc296\"), UUID(\"fd7b4c2e-2c8b-3bfa-94f0-d1e3ecbd5fb7\"),\n",
    "               UUID(\"86842c35-da28-32ed-a90e-2da6663c5c73\"), UUID(\"3bc0f91f-7660-34a2-b005-5c399598a369\")]"
   ]
  },
  {
   "cell_type": "code",
   "execution_count": 2,
   "metadata": {
    "collapsed": false
   },
   "outputs": [
    {
     "data": {
      "text/plain": [
       "[]"
      ]
     },
     "execution_count": 2,
     "metadata": {},
     "output_type": "execute_result"
    }
   ],
   "source": [
    "list(edb.get_timeseries_db().find({\"metadata.key\": \"config/sensor_config\", \"data.battery_status\": {\"$exists\": True}}).sort(\"metadata.write_ts\").limit(10))"
   ]
  },
  {
   "cell_type": "code",
   "execution_count": 3,
   "metadata": {
    "collapsed": false
   },
   "outputs": [],
   "source": [
    "iphone_ts = map(lambda u: esta.TimeSeries.get_time_series(u), iphone_ids)\n",
    "android_ts = map(lambda u: esta.TimeSeries.get_time_series(u), android_ids)"
   ]
  },
  {
   "cell_type": "code",
   "execution_count": 4,
   "metadata": {
    "collapsed": false
   },
   "outputs": [],
   "source": [
    "ranges_df = pd.read_csv(\"../results_spring_2016/ranges.csv\")"
   ]
  },
  {
   "cell_type": "code",
   "execution_count": 5,
   "metadata": {
    "collapsed": false
   },
   "outputs": [
    {
     "data": {
      "text/html": [
       "<div style=\"max-width:1500px;overflow:auto;\">\n",
       "<table border=\"1\" class=\"dataframe\">\n",
       "  <thead>\n",
       "    <tr style=\"text-align: right;\">\n",
       "      <th></th>\n",
       "      <th>start_ts</th>\n",
       "      <th>start_fmt_time</th>\n",
       "      <th>end_ts</th>\n",
       "      <th>end_fmt_time</th>\n",
       "      <th>state</th>\n",
       "      <th>android_regime</th>\n",
       "      <th>ios_regime</th>\n",
       "    </tr>\n",
       "  </thead>\n",
       "  <tbody>\n",
       "    <tr>\n",
       "      <th>0</th>\n",
       "      <td>1.459279e+09</td>\n",
       "      <td>2016-03-29T12:17:14.700000-07:00</td>\n",
       "      <td>1.459288e+09</td>\n",
       "      <td>2016-03-29T14:46:54.916000-07:00</td>\n",
       "      <td>moving</td>\n",
       "      <td>high+1sec</td>\n",
       "      <td>best+1m</td>\n",
       "    </tr>\n",
       "    <tr>\n",
       "      <th>1</th>\n",
       "      <td>1.459288e+09</td>\n",
       "      <td>2016-03-29T14:46:54.916000-07:00</td>\n",
       "      <td>1.459301e+09</td>\n",
       "      <td>2016-03-29T18:30:30.685000-07:00</td>\n",
       "      <td>loitering</td>\n",
       "      <td>high+1sec</td>\n",
       "      <td>best+1m</td>\n",
       "    </tr>\n",
       "    <tr>\n",
       "      <th>2</th>\n",
       "      <td>1.459301e+09</td>\n",
       "      <td>2016-03-29T18:30:54.916000-07:00</td>\n",
       "      <td>1.459302e+09</td>\n",
       "      <td>2016-03-29T18:42:30.685000-07:00</td>\n",
       "      <td>moving</td>\n",
       "      <td>high+1sec</td>\n",
       "      <td>best+1m</td>\n",
       "    </tr>\n",
       "    <tr>\n",
       "      <th>3</th>\n",
       "      <td>1.459302e+09</td>\n",
       "      <td>2016-03-29T18:42:30.685000-07:00</td>\n",
       "      <td>1.459311e+09</td>\n",
       "      <td>2016-03-29T21:06:30.275000-07:00</td>\n",
       "      <td>moving</td>\n",
       "      <td>high+1sec</td>\n",
       "      <td>best+1m</td>\n",
       "    </tr>\n",
       "    <tr>\n",
       "      <th>4</th>\n",
       "      <td>1.459311e+09</td>\n",
       "      <td>2016-03-29T21:06:30.275000-07:00</td>\n",
       "      <td>1.459343e+09</td>\n",
       "      <td>2016-03-30T06:00:09.654643-07:00</td>\n",
       "      <td>stationary</td>\n",
       "      <td>high+1sec</td>\n",
       "      <td>best+1m</td>\n",
       "    </tr>\n",
       "    <tr>\n",
       "      <th>5</th>\n",
       "      <td>1.459343e+09</td>\n",
       "      <td>2016-03-30T06:00:09.654643-07:00</td>\n",
       "      <td>1.459354e+09</td>\n",
       "      <td>2016-03-30T09:00:13.859000-07:00</td>\n",
       "      <td>charging-or-full</td>\n",
       "      <td>high+1sec</td>\n",
       "      <td>best+1m</td>\n",
       "    </tr>\n",
       "    <tr>\n",
       "      <th>6</th>\n",
       "      <td>1.459354e+09</td>\n",
       "      <td>2016-03-30T09:00:13.859000-07:00</td>\n",
       "      <td>1.459372e+09</td>\n",
       "      <td>2016-03-30T14:01:58.965395-07:00</td>\n",
       "      <td>charging-or-full</td>\n",
       "      <td>high-v-balanced+1sec-v-30sec</td>\n",
       "      <td>best-v-10m+1m-v-30m</td>\n",
       "    </tr>\n",
       "    <tr>\n",
       "      <th>7</th>\n",
       "      <td>1.459372e+09</td>\n",
       "      <td>2016-03-30T14:01:58.965395-07:00</td>\n",
       "      <td>1.459372e+09</td>\n",
       "      <td>2016-03-30T14:13:55.019000-07:00</td>\n",
       "      <td>loitering</td>\n",
       "      <td>high-v-balanced+1sec-v-30sec</td>\n",
       "      <td>best-v-10m+1m-v-30m</td>\n",
       "    </tr>\n",
       "    <tr>\n",
       "      <th>8</th>\n",
       "      <td>1.459372e+09</td>\n",
       "      <td>2016-03-30T14:13:55.019000-07:00</td>\n",
       "      <td>1.459373e+09</td>\n",
       "      <td>2016-03-30T14:24:42.464000-07:00</td>\n",
       "      <td>moving</td>\n",
       "      <td>high-v-balanced+1sec-v-30sec</td>\n",
       "      <td>best-v-10m+1m-v-30m</td>\n",
       "    </tr>\n",
       "    <tr>\n",
       "      <th>9</th>\n",
       "      <td>1.459373e+09</td>\n",
       "      <td>2016-03-30T14:24:42.464000-07:00</td>\n",
       "      <td>1.459376e+09</td>\n",
       "      <td>2016-03-30T15:21:27.670000-07:00</td>\n",
       "      <td>loitering</td>\n",
       "      <td>high-v-balanced+1sec-v-30sec</td>\n",
       "      <td>best-v-10m+1m-v-30m</td>\n",
       "    </tr>\n",
       "    <tr>\n",
       "      <th>10</th>\n",
       "      <td>1.459376e+09</td>\n",
       "      <td>2016-03-30T15:21:27.670000-07:00</td>\n",
       "      <td>1.459377e+09</td>\n",
       "      <td>2016-03-30T15:33:41.654000-07:00</td>\n",
       "      <td>moving</td>\n",
       "      <td>high-v-balanced+1sec-v-30sec</td>\n",
       "      <td>best-v-10m+1m-v-30m</td>\n",
       "    </tr>\n",
       "    <tr>\n",
       "      <th>11</th>\n",
       "      <td>1.459377e+09</td>\n",
       "      <td>2016-03-30T15:33:41.654000-07:00</td>\n",
       "      <td>1.459380e+09</td>\n",
       "      <td>2016-03-30T16:19:58.943000-07:00</td>\n",
       "      <td>loitering</td>\n",
       "      <td>high-v-balanced+1sec-v-30sec</td>\n",
       "      <td>best-v-10m+1m-v-30m</td>\n",
       "    </tr>\n",
       "    <tr>\n",
       "      <th>12</th>\n",
       "      <td>1.459380e+09</td>\n",
       "      <td>2016-03-30T16:19:58.943000-07:00</td>\n",
       "      <td>1.459381e+09</td>\n",
       "      <td>2016-03-30T16:37:41.978000-07:00</td>\n",
       "      <td>moving</td>\n",
       "      <td>high-v-balanced+1sec-v-30sec</td>\n",
       "      <td>best-v-10m+1m-v-30m</td>\n",
       "    </tr>\n",
       "    <tr>\n",
       "      <th>13</th>\n",
       "      <td>1.459381e+09</td>\n",
       "      <td>2016-03-30T16:37:41.978000-07:00</td>\n",
       "      <td>1.459386e+09</td>\n",
       "      <td>2016-03-30T17:57:23.050000-07:00</td>\n",
       "      <td>loitering</td>\n",
       "      <td>high-v-balanced+1sec-v-30sec</td>\n",
       "      <td>best-v-10m+1m-v-30m</td>\n",
       "    </tr>\n",
       "    <tr>\n",
       "      <th>14</th>\n",
       "      <td>1.459386e+09</td>\n",
       "      <td>2016-03-30T17:57:23.050000-07:00</td>\n",
       "      <td>1.459387e+09</td>\n",
       "      <td>2016-03-30T18:23:40.680000-07:00</td>\n",
       "      <td>moving</td>\n",
       "      <td>high-v-balanced+1sec-v-30sec</td>\n",
       "      <td>best-v-10m+1m-v-30m</td>\n",
       "    </tr>\n",
       "    <tr>\n",
       "      <th>15</th>\n",
       "      <td>1.459387e+09</td>\n",
       "      <td>2016-03-30T18:23:40.680000-07:00</td>\n",
       "      <td>1.459403e+09</td>\n",
       "      <td>2016-03-30T22:48:17.862000-07:00</td>\n",
       "      <td>loitering</td>\n",
       "      <td>high-v-balanced+1sec-v-30sec</td>\n",
       "      <td>best-v-10m+1m-v-30m</td>\n",
       "    </tr>\n",
       "    <tr>\n",
       "      <th>16</th>\n",
       "      <td>1.459403e+09</td>\n",
       "      <td>2016-03-30T22:48:17.862000-07:00</td>\n",
       "      <td>1.459404e+09</td>\n",
       "      <td>2016-03-30T22:57:33.392000-07:00</td>\n",
       "      <td>moving</td>\n",
       "      <td>high-v-balanced+1sec-v-30sec</td>\n",
       "      <td>best-v-10m+1m-v-30m</td>\n",
       "    </tr>\n",
       "    <tr>\n",
       "      <th>17</th>\n",
       "      <td>1.459404e+09</td>\n",
       "      <td>2016-03-30T22:57:33.392000-07:00</td>\n",
       "      <td>1.459411e+09</td>\n",
       "      <td>2016-03-31T01:00:10.330742-07:00</td>\n",
       "      <td>stationary</td>\n",
       "      <td>high-v-balanced+1sec-v-30sec</td>\n",
       "      <td>best-v-10m+1m-v-30m</td>\n",
       "    </tr>\n",
       "    <tr>\n",
       "      <th>18</th>\n",
       "      <td>1.459411e+09</td>\n",
       "      <td>2016-03-31T01:00:10.330742-07:00</td>\n",
       "      <td>1.459440e+09</td>\n",
       "      <td>2016-03-31T09:00:25.839312-07:00</td>\n",
       "      <td>charging-or-full</td>\n",
       "      <td>high-v-balanced+1sec-v-30sec</td>\n",
       "      <td>best-v-10m+1m-v-30m</td>\n",
       "    </tr>\n",
       "    <tr>\n",
       "      <th>19</th>\n",
       "      <td>1.459440e+09</td>\n",
       "      <td>2016-03-31T09:00:25.839312-07:00</td>\n",
       "      <td>1.459448e+09</td>\n",
       "      <td>2016-03-31T11:14:15.125000-07:00</td>\n",
       "      <td>loitering</td>\n",
       "      <td>high-v-balanced+1sec-v-30sec</td>\n",
       "      <td>best-v-10m+1m-v-30m</td>\n",
       "    </tr>\n",
       "    <tr>\n",
       "      <th>20</th>\n",
       "      <td>1.459448e+09</td>\n",
       "      <td>2016-03-31T11:14:15.125000-07:00</td>\n",
       "      <td>1.459456e+09</td>\n",
       "      <td>2016-03-31T13:32:48.010000-07:00</td>\n",
       "      <td>moving</td>\n",
       "      <td>high-v-balanced+1sec-v-30sec</td>\n",
       "      <td>best-v-10m+1m-v-30m</td>\n",
       "    </tr>\n",
       "    <tr>\n",
       "      <th>21</th>\n",
       "      <td>1.459456e+09</td>\n",
       "      <td>2016-03-31T13:32:48.010000-07:00</td>\n",
       "      <td>1.459471e+09</td>\n",
       "      <td>2016-03-31T17:44:00.045000-07:00</td>\n",
       "      <td>loitering</td>\n",
       "      <td>high-v-balanced+1sec-v-30sec</td>\n",
       "      <td>best-v-10m+1m-v-30m</td>\n",
       "    </tr>\n",
       "    <tr>\n",
       "      <th>22</th>\n",
       "      <td>1.459471e+09</td>\n",
       "      <td>2016-03-31T17:44:00.045000-07:00</td>\n",
       "      <td>1.459479e+09</td>\n",
       "      <td>2016-03-31T19:57:44.073000-07:00</td>\n",
       "      <td>moving</td>\n",
       "      <td>high-v-balanced+1sec-v-30sec</td>\n",
       "      <td>best-v-10m+1m-v-30m</td>\n",
       "    </tr>\n",
       "    <tr>\n",
       "      <th>23</th>\n",
       "      <td>1.459479e+09</td>\n",
       "      <td>2016-03-31T19:57:44.073000-07:00</td>\n",
       "      <td>1.459483e+09</td>\n",
       "      <td>2016-03-31T21:00:37.643000-07:00</td>\n",
       "      <td>stationary</td>\n",
       "      <td>high-v-balanced+1sec-v-30sec</td>\n",
       "      <td>best-v-10m+1m-v-30m</td>\n",
       "    </tr>\n",
       "    <tr>\n",
       "      <th>24</th>\n",
       "      <td>1.459483e+09</td>\n",
       "      <td>2016-03-31T21:00:37.643000-07:00</td>\n",
       "      <td>1.459487e+09</td>\n",
       "      <td>2016-03-31T22:00:37.643000-07:00</td>\n",
       "      <td>invalid</td>\n",
       "      <td>high-v-balanced+1sec-v-30sec</td>\n",
       "      <td>best-v-10m+1m-v-30m</td>\n",
       "    </tr>\n",
       "    <tr>\n",
       "      <th>25</th>\n",
       "      <td>1.459487e+09</td>\n",
       "      <td>2016-03-31T22:00:37.643000-07:00</td>\n",
       "      <td>1.459530e+09</td>\n",
       "      <td>2016-04-01T10:05:28.890454-07:00</td>\n",
       "      <td>charging-or-full</td>\n",
       "      <td>high-v-balanced+1sec-v-30sec</td>\n",
       "      <td>best-v-10m+1m-v-30m</td>\n",
       "    </tr>\n",
       "    <tr>\n",
       "      <th>26</th>\n",
       "      <td>1.459530e+09</td>\n",
       "      <td>2016-04-01T10:05:28.890454-07:00</td>\n",
       "      <td>1.459535e+09</td>\n",
       "      <td>2016-04-01T11:19:33.655000-07:00</td>\n",
       "      <td>stationary</td>\n",
       "      <td>high-v-balanced+1sec-v-15sec</td>\n",
       "      <td>best-v-100m+1m-v-30m</td>\n",
       "    </tr>\n",
       "    <tr>\n",
       "      <th>27</th>\n",
       "      <td>1.459535e+09</td>\n",
       "      <td>2016-04-01T11:19:33.655000-07:00</td>\n",
       "      <td>1.459543e+09</td>\n",
       "      <td>2016-04-01T13:31:02.998000-07:00</td>\n",
       "      <td>moving</td>\n",
       "      <td>high-v-balanced+1sec-v-15sec</td>\n",
       "      <td>best-v-100m+1m-v-30m</td>\n",
       "    </tr>\n",
       "    <tr>\n",
       "      <th>28</th>\n",
       "      <td>1.459542e+09</td>\n",
       "      <td>2016-04-01T13:14:35.602000-07:00</td>\n",
       "      <td>1.459558e+09</td>\n",
       "      <td>2016-04-01T17:48:05.806000-07:00</td>\n",
       "      <td>loitering</td>\n",
       "      <td>high-v-balanced+1sec-v-15sec</td>\n",
       "      <td>best-v-100m+1m-v-30m</td>\n",
       "    </tr>\n",
       "    <tr>\n",
       "      <th>29</th>\n",
       "      <td>1.459558e+09</td>\n",
       "      <td>2016-04-01T17:48:05.806000-07:00</td>\n",
       "      <td>1.459565e+09</td>\n",
       "      <td>2016-04-01T19:49:57.554000-07:00</td>\n",
       "      <td>moving</td>\n",
       "      <td>high-v-balanced+1sec-v-15sec</td>\n",
       "      <td>best-v-100m+1m-v-30m</td>\n",
       "    </tr>\n",
       "    <tr>\n",
       "      <th>30</th>\n",
       "      <td>1.459565e+09</td>\n",
       "      <td>2016-04-01T19:49:57.554000-07:00</td>\n",
       "      <td>1.459591e+09</td>\n",
       "      <td>2016-04-02T02:57:37.753000-07:00</td>\n",
       "      <td>stationary</td>\n",
       "      <td>high-v-balanced+1sec-v-15sec</td>\n",
       "      <td>best-v-100m+1m-v-30m</td>\n",
       "    </tr>\n",
       "    <tr>\n",
       "      <th>31</th>\n",
       "      <td>1.459591e+09</td>\n",
       "      <td>2016-04-02T02:57:37.753000-07:00</td>\n",
       "      <td>1.459609e+09</td>\n",
       "      <td>2016-04-02T07:57:37.753000-07:00</td>\n",
       "      <td>invalid</td>\n",
       "      <td>high-v-balanced+1sec-v-15sec</td>\n",
       "      <td>best-v-100m+1m-v-30m</td>\n",
       "    </tr>\n",
       "    <tr>\n",
       "      <th>32</th>\n",
       "      <td>1.459609e+09</td>\n",
       "      <td>2016-04-02T07:57:37.753000-07:00</td>\n",
       "      <td>1.459644e+09</td>\n",
       "      <td>2016-04-02T17:47:43.791000-07:00</td>\n",
       "      <td>charging</td>\n",
       "      <td>tracking-off</td>\n",
       "      <td>tracking-off</td>\n",
       "    </tr>\n",
       "    <tr>\n",
       "      <th>33</th>\n",
       "      <td>1.459644e+09</td>\n",
       "      <td>2016-04-02T17:47:43.791000-07:00</td>\n",
       "      <td>1.459721e+09</td>\n",
       "      <td>2016-04-03T15:00:35.358757-07:00</td>\n",
       "      <td>stationary</td>\n",
       "      <td>tracking-off</td>\n",
       "      <td>tracking-off</td>\n",
       "    </tr>\n",
       "    <tr>\n",
       "      <th>34</th>\n",
       "      <td>1.459721e+09</td>\n",
       "      <td>2016-04-03T15:00:35.358757-07:00</td>\n",
       "      <td>1.459729e+09</td>\n",
       "      <td>2016-04-03T17:18:29.931541-07:00</td>\n",
       "      <td>charging</td>\n",
       "      <td>tracking-off</td>\n",
       "      <td>tracking-off</td>\n",
       "    </tr>\n",
       "    <tr>\n",
       "      <th>35</th>\n",
       "      <td>1.459729e+09</td>\n",
       "      <td>2016-04-03T17:18:29.931541-07:00</td>\n",
       "      <td>1.459789e+09</td>\n",
       "      <td>2016-04-04T10:02:13.321972-07:00</td>\n",
       "      <td>stationary</td>\n",
       "      <td>high-v-balanced+1sec-v-15sec</td>\n",
       "      <td>best-v-100m+1m-v-30m</td>\n",
       "    </tr>\n",
       "    <tr>\n",
       "      <th>36</th>\n",
       "      <td>1.459789e+09</td>\n",
       "      <td>2016-04-04T10:02:13.321972-07:00</td>\n",
       "      <td>1.459800e+09</td>\n",
       "      <td>2016-04-04T12:59:12.753874-07:00</td>\n",
       "      <td>charging</td>\n",
       "      <td>tracking-off</td>\n",
       "      <td>tracking-off</td>\n",
       "    </tr>\n",
       "    <tr>\n",
       "      <th>37</th>\n",
       "      <td>1.459800e+09</td>\n",
       "      <td>2016-04-04T12:59:12.753874-07:00</td>\n",
       "      <td>1.459833e+09</td>\n",
       "      <td>2016-04-04T22:05:02.444129</td>\n",
       "      <td>loitering</td>\n",
       "      <td>high+1sec</td>\n",
       "      <td>best+1m</td>\n",
       "    </tr>\n",
       "    <tr>\n",
       "      <th>38</th>\n",
       "      <td>1.459833e+09</td>\n",
       "      <td>2016-04-04T22:05:02.444129</td>\n",
       "      <td>1.459866e+09</td>\n",
       "      <td>2016-04-05T07:20:38.395970-07:00</td>\n",
       "      <td>charging</td>\n",
       "      <td>tracking-off</td>\n",
       "      <td>tracking-off</td>\n",
       "    </tr>\n",
       "    <tr>\n",
       "      <th>39</th>\n",
       "      <td>1.459866e+09</td>\n",
       "      <td>2016-04-05T07:20:38.395970-07:00</td>\n",
       "      <td>1.459868e+09</td>\n",
       "      <td>2016-04-05T07:50:37.141000-07:00</td>\n",
       "      <td>stationary</td>\n",
       "      <td>high-v-balanced+1sec-v-30sec</td>\n",
       "      <td>best-v-10m+1m-v-30m</td>\n",
       "    </tr>\n",
       "    <tr>\n",
       "      <th>40</th>\n",
       "      <td>1.459868e+09</td>\n",
       "      <td>2016-04-05T07:50:37.141000-07:00</td>\n",
       "      <td>1.459875e+09</td>\n",
       "      <td>2016-04-05T09:48:39.276000-07:00</td>\n",
       "      <td>moving</td>\n",
       "      <td>high-v-balanced+1sec-v-30sec</td>\n",
       "      <td>best-v-10m+1m-v-30m</td>\n",
       "    </tr>\n",
       "    <tr>\n",
       "      <th>41</th>\n",
       "      <td>1.459875e+09</td>\n",
       "      <td>2016-04-05T09:48:39.276000-07:00</td>\n",
       "      <td>1.459900e+09</td>\n",
       "      <td>2016-04-05T16:50:31.349801-07:00</td>\n",
       "      <td>loitering</td>\n",
       "      <td>high-v-balanced+1sec-v-30sec</td>\n",
       "      <td>best-v-10m+1m-v-30m</td>\n",
       "    </tr>\n",
       "    <tr>\n",
       "      <th>42</th>\n",
       "      <td>1.459900e+09</td>\n",
       "      <td>2016-04-05T16:50:31.349801-07:00</td>\n",
       "      <td>1.459901e+09</td>\n",
       "      <td>2016-04-05T17:05:31.349801-07:00</td>\n",
       "      <td>loitering</td>\n",
       "      <td>high-v-balanced+1sec-v-15sec</td>\n",
       "      <td>best-v-100m+1m-v-30m</td>\n",
       "    </tr>\n",
       "  </tbody>\n",
       "</table>\n",
       "</div>"
      ],
      "text/plain": [
       "        start_ts                    start_fmt_time        end_ts  \\\n",
       "0   1.459279e+09  2016-03-29T12:17:14.700000-07:00  1.459288e+09   \n",
       "1   1.459288e+09  2016-03-29T14:46:54.916000-07:00  1.459301e+09   \n",
       "2   1.459301e+09  2016-03-29T18:30:54.916000-07:00  1.459302e+09   \n",
       "3   1.459302e+09  2016-03-29T18:42:30.685000-07:00  1.459311e+09   \n",
       "4   1.459311e+09  2016-03-29T21:06:30.275000-07:00  1.459343e+09   \n",
       "5   1.459343e+09  2016-03-30T06:00:09.654643-07:00  1.459354e+09   \n",
       "6   1.459354e+09  2016-03-30T09:00:13.859000-07:00  1.459372e+09   \n",
       "7   1.459372e+09  2016-03-30T14:01:58.965395-07:00  1.459372e+09   \n",
       "8   1.459372e+09  2016-03-30T14:13:55.019000-07:00  1.459373e+09   \n",
       "9   1.459373e+09  2016-03-30T14:24:42.464000-07:00  1.459376e+09   \n",
       "10  1.459376e+09  2016-03-30T15:21:27.670000-07:00  1.459377e+09   \n",
       "11  1.459377e+09  2016-03-30T15:33:41.654000-07:00  1.459380e+09   \n",
       "12  1.459380e+09  2016-03-30T16:19:58.943000-07:00  1.459381e+09   \n",
       "13  1.459381e+09  2016-03-30T16:37:41.978000-07:00  1.459386e+09   \n",
       "14  1.459386e+09  2016-03-30T17:57:23.050000-07:00  1.459387e+09   \n",
       "15  1.459387e+09  2016-03-30T18:23:40.680000-07:00  1.459403e+09   \n",
       "16  1.459403e+09  2016-03-30T22:48:17.862000-07:00  1.459404e+09   \n",
       "17  1.459404e+09  2016-03-30T22:57:33.392000-07:00  1.459411e+09   \n",
       "18  1.459411e+09  2016-03-31T01:00:10.330742-07:00  1.459440e+09   \n",
       "19  1.459440e+09  2016-03-31T09:00:25.839312-07:00  1.459448e+09   \n",
       "20  1.459448e+09  2016-03-31T11:14:15.125000-07:00  1.459456e+09   \n",
       "21  1.459456e+09  2016-03-31T13:32:48.010000-07:00  1.459471e+09   \n",
       "22  1.459471e+09  2016-03-31T17:44:00.045000-07:00  1.459479e+09   \n",
       "23  1.459479e+09  2016-03-31T19:57:44.073000-07:00  1.459483e+09   \n",
       "24  1.459483e+09  2016-03-31T21:00:37.643000-07:00  1.459487e+09   \n",
       "25  1.459487e+09  2016-03-31T22:00:37.643000-07:00  1.459530e+09   \n",
       "26  1.459530e+09  2016-04-01T10:05:28.890454-07:00  1.459535e+09   \n",
       "27  1.459535e+09  2016-04-01T11:19:33.655000-07:00  1.459543e+09   \n",
       "28  1.459542e+09  2016-04-01T13:14:35.602000-07:00  1.459558e+09   \n",
       "29  1.459558e+09  2016-04-01T17:48:05.806000-07:00  1.459565e+09   \n",
       "30  1.459565e+09  2016-04-01T19:49:57.554000-07:00  1.459591e+09   \n",
       "31  1.459591e+09  2016-04-02T02:57:37.753000-07:00  1.459609e+09   \n",
       "32  1.459609e+09  2016-04-02T07:57:37.753000-07:00  1.459644e+09   \n",
       "33  1.459644e+09  2016-04-02T17:47:43.791000-07:00  1.459721e+09   \n",
       "34  1.459721e+09  2016-04-03T15:00:35.358757-07:00  1.459729e+09   \n",
       "35  1.459729e+09  2016-04-03T17:18:29.931541-07:00  1.459789e+09   \n",
       "36  1.459789e+09  2016-04-04T10:02:13.321972-07:00  1.459800e+09   \n",
       "37  1.459800e+09  2016-04-04T12:59:12.753874-07:00  1.459833e+09   \n",
       "38  1.459833e+09        2016-04-04T22:05:02.444129  1.459866e+09   \n",
       "39  1.459866e+09  2016-04-05T07:20:38.395970-07:00  1.459868e+09   \n",
       "40  1.459868e+09  2016-04-05T07:50:37.141000-07:00  1.459875e+09   \n",
       "41  1.459875e+09  2016-04-05T09:48:39.276000-07:00  1.459900e+09   \n",
       "42  1.459900e+09  2016-04-05T16:50:31.349801-07:00  1.459901e+09   \n",
       "\n",
       "                        end_fmt_time             state  \\\n",
       "0   2016-03-29T14:46:54.916000-07:00            moving   \n",
       "1   2016-03-29T18:30:30.685000-07:00         loitering   \n",
       "2   2016-03-29T18:42:30.685000-07:00            moving   \n",
       "3   2016-03-29T21:06:30.275000-07:00            moving   \n",
       "4   2016-03-30T06:00:09.654643-07:00        stationary   \n",
       "5   2016-03-30T09:00:13.859000-07:00  charging-or-full   \n",
       "6   2016-03-30T14:01:58.965395-07:00  charging-or-full   \n",
       "7   2016-03-30T14:13:55.019000-07:00         loitering   \n",
       "8   2016-03-30T14:24:42.464000-07:00            moving   \n",
       "9   2016-03-30T15:21:27.670000-07:00         loitering   \n",
       "10  2016-03-30T15:33:41.654000-07:00            moving   \n",
       "11  2016-03-30T16:19:58.943000-07:00         loitering   \n",
       "12  2016-03-30T16:37:41.978000-07:00            moving   \n",
       "13  2016-03-30T17:57:23.050000-07:00         loitering   \n",
       "14  2016-03-30T18:23:40.680000-07:00            moving   \n",
       "15  2016-03-30T22:48:17.862000-07:00         loitering   \n",
       "16  2016-03-30T22:57:33.392000-07:00            moving   \n",
       "17  2016-03-31T01:00:10.330742-07:00        stationary   \n",
       "18  2016-03-31T09:00:25.839312-07:00  charging-or-full   \n",
       "19  2016-03-31T11:14:15.125000-07:00         loitering   \n",
       "20  2016-03-31T13:32:48.010000-07:00            moving   \n",
       "21  2016-03-31T17:44:00.045000-07:00         loitering   \n",
       "22  2016-03-31T19:57:44.073000-07:00            moving   \n",
       "23  2016-03-31T21:00:37.643000-07:00        stationary   \n",
       "24  2016-03-31T22:00:37.643000-07:00           invalid   \n",
       "25  2016-04-01T10:05:28.890454-07:00  charging-or-full   \n",
       "26  2016-04-01T11:19:33.655000-07:00        stationary   \n",
       "27  2016-04-01T13:31:02.998000-07:00            moving   \n",
       "28  2016-04-01T17:48:05.806000-07:00         loitering   \n",
       "29  2016-04-01T19:49:57.554000-07:00            moving   \n",
       "30  2016-04-02T02:57:37.753000-07:00        stationary   \n",
       "31  2016-04-02T07:57:37.753000-07:00           invalid   \n",
       "32  2016-04-02T17:47:43.791000-07:00          charging   \n",
       "33  2016-04-03T15:00:35.358757-07:00        stationary   \n",
       "34  2016-04-03T17:18:29.931541-07:00          charging   \n",
       "35  2016-04-04T10:02:13.321972-07:00        stationary   \n",
       "36  2016-04-04T12:59:12.753874-07:00          charging   \n",
       "37        2016-04-04T22:05:02.444129         loitering   \n",
       "38  2016-04-05T07:20:38.395970-07:00          charging   \n",
       "39  2016-04-05T07:50:37.141000-07:00        stationary   \n",
       "40  2016-04-05T09:48:39.276000-07:00            moving   \n",
       "41  2016-04-05T16:50:31.349801-07:00         loitering   \n",
       "42  2016-04-05T17:05:31.349801-07:00         loitering   \n",
       "\n",
       "                  android_regime            ios_regime  \n",
       "0                      high+1sec               best+1m  \n",
       "1                      high+1sec               best+1m  \n",
       "2                      high+1sec               best+1m  \n",
       "3                      high+1sec               best+1m  \n",
       "4                      high+1sec               best+1m  \n",
       "5                      high+1sec               best+1m  \n",
       "6   high-v-balanced+1sec-v-30sec   best-v-10m+1m-v-30m  \n",
       "7   high-v-balanced+1sec-v-30sec   best-v-10m+1m-v-30m  \n",
       "8   high-v-balanced+1sec-v-30sec   best-v-10m+1m-v-30m  \n",
       "9   high-v-balanced+1sec-v-30sec   best-v-10m+1m-v-30m  \n",
       "10  high-v-balanced+1sec-v-30sec   best-v-10m+1m-v-30m  \n",
       "11  high-v-balanced+1sec-v-30sec   best-v-10m+1m-v-30m  \n",
       "12  high-v-balanced+1sec-v-30sec   best-v-10m+1m-v-30m  \n",
       "13  high-v-balanced+1sec-v-30sec   best-v-10m+1m-v-30m  \n",
       "14  high-v-balanced+1sec-v-30sec   best-v-10m+1m-v-30m  \n",
       "15  high-v-balanced+1sec-v-30sec   best-v-10m+1m-v-30m  \n",
       "16  high-v-balanced+1sec-v-30sec   best-v-10m+1m-v-30m  \n",
       "17  high-v-balanced+1sec-v-30sec   best-v-10m+1m-v-30m  \n",
       "18  high-v-balanced+1sec-v-30sec   best-v-10m+1m-v-30m  \n",
       "19  high-v-balanced+1sec-v-30sec   best-v-10m+1m-v-30m  \n",
       "20  high-v-balanced+1sec-v-30sec   best-v-10m+1m-v-30m  \n",
       "21  high-v-balanced+1sec-v-30sec   best-v-10m+1m-v-30m  \n",
       "22  high-v-balanced+1sec-v-30sec   best-v-10m+1m-v-30m  \n",
       "23  high-v-balanced+1sec-v-30sec   best-v-10m+1m-v-30m  \n",
       "24  high-v-balanced+1sec-v-30sec   best-v-10m+1m-v-30m  \n",
       "25  high-v-balanced+1sec-v-30sec   best-v-10m+1m-v-30m  \n",
       "26  high-v-balanced+1sec-v-15sec  best-v-100m+1m-v-30m  \n",
       "27  high-v-balanced+1sec-v-15sec  best-v-100m+1m-v-30m  \n",
       "28  high-v-balanced+1sec-v-15sec  best-v-100m+1m-v-30m  \n",
       "29  high-v-balanced+1sec-v-15sec  best-v-100m+1m-v-30m  \n",
       "30  high-v-balanced+1sec-v-15sec  best-v-100m+1m-v-30m  \n",
       "31  high-v-balanced+1sec-v-15sec  best-v-100m+1m-v-30m  \n",
       "32                  tracking-off          tracking-off  \n",
       "33                  tracking-off          tracking-off  \n",
       "34                  tracking-off          tracking-off  \n",
       "35  high-v-balanced+1sec-v-15sec  best-v-100m+1m-v-30m  \n",
       "36                  tracking-off          tracking-off  \n",
       "37                     high+1sec               best+1m  \n",
       "38                  tracking-off          tracking-off  \n",
       "39  high-v-balanced+1sec-v-30sec   best-v-10m+1m-v-30m  \n",
       "40  high-v-balanced+1sec-v-30sec   best-v-10m+1m-v-30m  \n",
       "41  high-v-balanced+1sec-v-30sec   best-v-10m+1m-v-30m  \n",
       "42  high-v-balanced+1sec-v-15sec  best-v-100m+1m-v-30m  "
      ]
     },
     "execution_count": 5,
     "metadata": {},
     "output_type": "execute_result"
    }
   ],
   "source": [
    "ranges_df"
   ]
  },
  {
   "cell_type": "code",
   "execution_count": 6,
   "metadata": {
    "collapsed": false
   },
   "outputs": [],
   "source": [
    "regime_grouped_ranges_df = ranges_df.groupby(['state', 'android_regime', 'ios_regime'])"
   ]
  },
  {
   "cell_type": "code",
   "execution_count": 7,
   "metadata": {
    "collapsed": false
   },
   "outputs": [],
   "source": [
    "invalid_df = pd.read_csv(\"../results_spring_2016/invalid.csv\")"
   ]
  },
  {
   "cell_type": "code",
   "execution_count": 8,
   "metadata": {
    "collapsed": false
   },
   "outputs": [
    {
     "data": {
      "text/html": [
       "<div style=\"max-width:1500px;overflow:auto;\">\n",
       "<table border=\"1\" class=\"dataframe\">\n",
       "  <thead>\n",
       "    <tr style=\"text-align: right;\">\n",
       "      <th></th>\n",
       "      <th>platform</th>\n",
       "      <th>key</th>\n",
       "      <th>start_ts</th>\n",
       "      <th>start_fmt_time</th>\n",
       "      <th>end_ts</th>\n",
       "      <th>end_fmt_time</th>\n",
       "    </tr>\n",
       "  </thead>\n",
       "  <tbody>\n",
       "    <tr>\n",
       "      <th>0</th>\n",
       "      <td>android</td>\n",
       "      <td>background/battery</td>\n",
       "      <td>1.459354e+09</td>\n",
       "      <td>2016-03-30T09:00:08.640000-07:00</td>\n",
       "      <td>1.459436e+09</td>\n",
       "      <td>2016-03-31T07:57:22.005000-07:00</td>\n",
       "    </tr>\n",
       "  </tbody>\n",
       "</table>\n",
       "</div>"
      ],
      "text/plain": [
       "  platform                 key      start_ts  \\\n",
       "0  android  background/battery  1.459354e+09   \n",
       "\n",
       "                     start_fmt_time        end_ts  \\\n",
       "0  2016-03-30T09:00:08.640000-07:00  1.459436e+09   \n",
       "\n",
       "                       end_fmt_time  \n",
       "0  2016-03-31T07:57:22.005000-07:00  "
      ]
     },
     "execution_count": 8,
     "metadata": {},
     "output_type": "execute_result"
    }
   ],
   "source": [
    "invalid_df"
   ]
  },
  {
   "cell_type": "code",
   "execution_count": 9,
   "metadata": {
    "collapsed": false
   },
   "outputs": [],
   "source": [
    "caltrain_df = pd.read_csv(\"../results_spring_2016/caltrain_trips.csv\")"
   ]
  },
  {
   "cell_type": "code",
   "execution_count": 10,
   "metadata": {
    "collapsed": false
   },
   "outputs": [
    {
     "data": {
      "text/html": [
       "<div style=\"max-width:1500px;overflow:auto;\">\n",
       "<table border=\"1\" class=\"dataframe\">\n",
       "  <thead>\n",
       "    <tr style=\"text-align: right;\">\n",
       "      <th></th>\n",
       "      <th>start_ts</th>\n",
       "      <th>start_fmt_time</th>\n",
       "      <th>end_ts</th>\n",
       "      <th>end_fmt_time</th>\n",
       "    </tr>\n",
       "  </thead>\n",
       "  <tbody>\n",
       "    <tr>\n",
       "      <th>0</th>\n",
       "      <td>1.459307e+09</td>\n",
       "      <td>2016-03-29T19:57:30.275000-07:00</td>\n",
       "      <td>1.459309e+09</td>\n",
       "      <td>2016-03-29T20:43:30.275000-07:00</td>\n",
       "    </tr>\n",
       "    <tr>\n",
       "      <th>1</th>\n",
       "      <td>1.459449e+09</td>\n",
       "      <td>2016-03-31T11:31:30.275000-07:00</td>\n",
       "      <td>1.459452e+09</td>\n",
       "      <td>2016-03-31T12:17:30.275000-07:00</td>\n",
       "    </tr>\n",
       "    <tr>\n",
       "      <th>2</th>\n",
       "      <td>1.459476e+09</td>\n",
       "      <td>2016-03-31T18:57:30.275000-07:00</td>\n",
       "      <td>1.459478e+09</td>\n",
       "      <td>2016-03-31T19:38:30.275000-07:00</td>\n",
       "    </tr>\n",
       "  </tbody>\n",
       "</table>\n",
       "</div>"
      ],
      "text/plain": [
       "       start_ts                    start_fmt_time        end_ts  \\\n",
       "0  1.459307e+09  2016-03-29T19:57:30.275000-07:00  1.459309e+09   \n",
       "1  1.459449e+09  2016-03-31T11:31:30.275000-07:00  1.459452e+09   \n",
       "2  1.459476e+09  2016-03-31T18:57:30.275000-07:00  1.459478e+09   \n",
       "\n",
       "                       end_fmt_time  \n",
       "0  2016-03-29T20:43:30.275000-07:00  \n",
       "1  2016-03-31T12:17:30.275000-07:00  \n",
       "2  2016-03-31T19:38:30.275000-07:00  "
      ]
     },
     "execution_count": 10,
     "metadata": {},
     "output_type": "execute_result"
    }
   ],
   "source": [
    "caltrain_df"
   ]
  },
  {
   "cell_type": "code",
   "execution_count": 11,
   "metadata": {
    "collapsed": false
   },
   "outputs": [],
   "source": [
    "import geojson as gj"
   ]
  },
  {
   "cell_type": "code",
   "execution_count": 12,
   "metadata": {
    "collapsed": false
   },
   "outputs": [],
   "source": [
    "caltrain_routes = gj.load(open(\"../caltrain_routes.geojson\"))"
   ]
  },
  {
   "cell_type": "code",
   "execution_count": 13,
   "metadata": {
    "collapsed": false
   },
   "outputs": [
    {
     "data": {
      "text/plain": [
       "2"
      ]
     },
     "execution_count": 13,
     "metadata": {},
     "output_type": "execute_result"
    }
   ],
   "source": [
    "len(caltrain_routes)"
   ]
  },
  {
   "cell_type": "code",
   "execution_count": 14,
   "metadata": {
    "collapsed": false
   },
   "outputs": [
    {
     "data": {
      "text/plain": [
       "[{\"geometry\": {\"coordinates\": [[[-122.309097, 37.552181], [-122.32325, 37.567616], [-122.345145, 37.580246]], [[-122.345145, 37.580246], [-122.32325, 37.567616], [-122.309097, 37.552181]]], \"type\": \"MultiLineString\"}, \"id\": \"r-9q9j8-sx\", \"properties\": {\"color\": null, \"created_at\": \"2016-02-06T20:05:59.597Z\", \"identifiers\": [\"gtfs://f-9q9-caltrain/r/SX\"], \"name\": \"SX\", \"onestop_id\": \"r-9q9j8-sx\", \"operated_by_name\": \"Caltrain\", \"operated_by_onestop_id\": \"o-9q9-caltrain\", \"route_stop_patterns_by_onestop_id\": [\"r-9q9j8-sx-ba2f2c-4b6b4a\", \"r-9q9j8-sx-bb6713-e1aa8d\"], \"tags\": {\"route_desc\": null, \"route_long_name\": null, \"route_text_color\": null, \"route_url\": null}, \"title\": \"SX\", \"updated_at\": \"2016-02-06T20:05:59.597Z\", \"vehicle_type\": \"bus\"}, \"type\": \"Feature\"},\n",
       " {\"geometry\": {\"coordinates\": [[[-121.8827510483, 37.3103897344], [-121.9019291905, 37.3291912336]], [[-121.9019291905, 37.3291912336], [-121.8827510483, 37.3103897344]]], \"type\": \"MultiLineString\"}, \"id\": \"r-9q9k6-shuttle\", \"properties\": {\"color\": null, \"created_at\": \"2016-02-06T20:05:59.155Z\", \"identifiers\": [\"gtfs://f-9q9-caltrain/r/SHUTTLE\"], \"name\": \"SHUTTLE\", \"onestop_id\": \"r-9q9k6-shuttle\", \"operated_by_name\": \"Caltrain\", \"operated_by_onestop_id\": \"o-9q9-caltrain\", \"route_stop_patterns_by_onestop_id\": [\"r-9q9k6-shuttle-aa7144-9a837d\", \"r-9q9k6-shuttle-75b458-679c00\"], \"tags\": {\"route_desc\": null, \"route_long_name\": \"SHUTTLE\", \"route_text_color\": null, \"route_url\": null}, \"title\": \"SHUTTLE\", \"updated_at\": \"2016-02-06T20:05:59.155Z\", \"vehicle_type\": \"bus\"}, \"type\": \"Feature\"},\n",
       " {\"geometry\": {\"coordinates\": [[[-121.903447, 37.328642], [-122.075954, 37.394458], [-122.164182, 37.44334], [-122.297001, 37.537416], [-122.386097, 37.599223], [-122.395406, 37.776541]], [[-121.882759, 37.310346], [-121.903447, 37.328642], [-122.030683, 37.378613], [-122.164182, 37.44334], [-122.231594, 37.485892], [-122.32325, 37.567616], [-122.386097, 37.599223], [-122.395406, 37.776541]], [[-121.903447, 37.328642], [-122.075954, 37.394458], [-122.164182, 37.44334], [-122.182266, 37.454382], [-122.231594, 37.485892], [-122.386097, 37.599223], [-122.392318, 37.757692], [-122.395406, 37.776541]], [[-121.903447, 37.328642], [-122.075954, 37.394458], [-122.164182, 37.44334], [-122.297001, 37.537416], [-122.386097, 37.599223], [-122.392318, 37.757692], [-122.395406, 37.776541]], [[-122.395406, 37.776541], [-122.392318, 37.757692], [-122.386097, 37.599223], [-122.231594, 37.485892], [-122.182266, 37.454382], [-122.164182, 37.44334], [-122.075954, 37.394458], [-121.903447, 37.328642]], [[-122.395406, 37.776541], [-122.392318, 37.757692], [-122.386097, 37.599223], [-122.297001, 37.537416], [-122.164182, 37.44334], [-122.075954, 37.394458], [-121.903447, 37.328642]], [[-122.395406, 37.776541], [-122.386097, 37.599223], [-122.297001, 37.537416], [-122.164182, 37.44334], [-122.075954, 37.394458], [-121.903447, 37.328642]], [[-122.395406, 37.776541], [-122.386097, 37.599223], [-122.32325, 37.567616], [-122.231594, 37.485892], [-122.164182, 37.44334], [-122.030683, 37.378613], [-121.903447, 37.328642], [-121.882759, 37.310346]], [[-121.903447, 37.328642], [-122.030683, 37.378613], [-122.075954, 37.394458], [-122.164182, 37.44334], [-122.231594, 37.485892], [-122.297001, 37.537416], [-122.32325, 37.567616], [-122.386097, 37.599223], [-122.395406, 37.776541]], [[-122.395406, 37.776541], [-122.386097, 37.599223], [-122.32325, 37.567616], [-122.297001, 37.537416], [-122.231594, 37.485892], [-122.164182, 37.44334], [-122.075954, 37.394458], [-122.030683, 37.378613], [-121.903447, 37.328642]], [[-121.903447, 37.328642], [-122.030683, 37.378613], [-122.075954, 37.394458], [-122.164182, 37.44334], [-122.231594, 37.485892], [-122.297001, 37.537416], [-122.309097, 37.552181]], [[-122.345145, 37.580246], [-122.386097, 37.599223], [-122.395406, 37.776541]], [[-122.395406, 37.776541], [-122.386097, 37.599223], [-122.345145, 37.580246]], [[-122.309097, 37.552181], [-122.297001, 37.537416], [-122.231594, 37.485892], [-122.164182, 37.44334], [-122.075954, 37.394458], [-122.030683, 37.378613], [-121.903447, 37.328642]]], \"type\": \"MultiLineString\"}, \"id\": \"r-9q9j-babybullet\", \"properties\": {\"color\": null, \"created_at\": \"2016-02-06T20:05:59.528Z\", \"identifiers\": [\"gtfs://f-9q9-caltrain/r/BABY%20BULLET\"], \"name\": \"BABY BULLET\", \"onestop_id\": \"r-9q9j-babybullet\", \"operated_by_name\": \"Caltrain\", \"operated_by_onestop_id\": \"o-9q9-caltrain\", \"route_stop_patterns_by_onestop_id\": [\"r-9q9j-babybullet-6638e6-da667b\", \"r-9q9j-babybullet-0c1cb7-380619\", \"r-9q9j-babybullet-54d554-05c978\", \"r-9q9j-babybullet-dc6254-b9f675\", \"r-9q9j-babybullet-60f0be-a2dc9a\", \"r-9q9j-babybullet-273a1e-59a707\", \"r-9q9j-babybullet-d4cd8d-88bf99\", \"r-9q9j-babybullet-3a00a2-82757a\", \"r-9q9j-babybullet-330a25-a51b68\", \"r-9q9j-babybullet-3a59f1-b3f259\", \"r-9q9j-babybullet-3bd1fc-ea03df\", \"r-9q9j-babybullet-b734ab-ec108d\", \"r-9q9j-babybullet-1258e4-74252d\", \"r-9q9j-babybullet-5ae394-978212\"], \"tags\": {\"route_desc\": null, \"route_long_name\": \"BABY BULLET\", \"route_text_color\": null, \"route_url\": null}, \"title\": \"BABY BULLET\", \"updated_at\": \"2016-02-06T20:05:59.528Z\", \"vehicle_type\": \"rail\"}, \"type\": \"Feature\"},\n",
       " {\"geometry\": {\"coordinates\": [[[-121.903447, 37.328642], [-121.936346, 37.352892], [-121.996437, 37.370515], [-122.030683, 37.378613], [-122.075954, 37.394458], [-122.108158, 37.40796], [-122.142258, 37.42952], [-122.164182, 37.44334], [-122.182266, 37.454382], [-122.231594, 37.485892], [-122.259862, 37.507648], [-122.275574, 37.520713], [-122.297001, 37.537416], [-122.309097, 37.552181], [-122.32325, 37.567616], [-122.345145, 37.580246], [-122.386097, 37.599223], [-122.411291, 37.629831], [-122.405821, 37.654972], [-122.401366, 37.711202], [-122.392318, 37.757692], [-122.395406, 37.776541]], [[-121.882759, 37.310346], [-121.903447, 37.328642], [-121.936346, 37.352892], [-121.996437, 37.370515], [-122.030683, 37.378613], [-122.075954, 37.394458], [-122.108158, 37.40796], [-122.142258, 37.42952], [-122.164182, 37.44334], [-122.182266, 37.454382], [-122.231594, 37.485892], [-122.259862, 37.507648], [-122.275574, 37.520713], [-122.297001, 37.537416], [-122.309097, 37.552181], [-122.32325, 37.567616], [-122.345145, 37.580246], [-122.386097, 37.599223], [-122.411291, 37.629831], [-122.405821, 37.654972], [-122.401366, 37.711202], [-122.392318, 37.757692], [-122.395406, 37.776541]], [[-121.903447, 37.328642], [-121.91539, 37.342687], [-121.936346, 37.352892], [-121.996437, 37.370515], [-122.030683, 37.378613], [-122.075954, 37.394458], [-122.108158, 37.40796], [-122.142258, 37.42952], [-122.164182, 37.44334], [-122.182266, 37.454382], [-122.231594, 37.485892], [-122.259862, 37.507648], [-122.275574, 37.520713], [-122.297001, 37.537416], [-122.309097, 37.552181], [-122.32325, 37.567616], [-122.345145, 37.580246], [-122.386097, 37.599223], [-122.411291, 37.629831], [-122.405821, 37.654972], [-122.401366, 37.711202], [-122.392318, 37.757692], [-122.395406, 37.776541]], [[-122.395406, 37.776541], [-122.392318, 37.757692], [-122.401366, 37.711202], [-122.405821, 37.654972], [-122.411291, 37.629831], [-122.386097, 37.599223], [-122.345145, 37.580246], [-122.32325, 37.567616], [-122.309097, 37.552181], [-122.297001, 37.537416], [-122.275574, 37.520713], [-122.259862, 37.507648], [-122.231594, 37.485892], [-122.182266, 37.454382], [-122.164182, 37.44334], [-122.142258, 37.42952], [-122.108158, 37.40796], [-122.075954, 37.394458], [-122.030683, 37.378613], [-121.996437, 37.370515], [-121.936346, 37.352892], [-121.903447, 37.328642]], [[-122.395406, 37.776541], [-122.392318, 37.757692], [-122.401366, 37.711202], [-122.405821, 37.654972], [-122.411291, 37.629831], [-122.386097, 37.599223], [-122.345145, 37.580246], [-122.32325, 37.567616], [-122.309097, 37.552181], [-122.297001, 37.537416], [-122.275574, 37.520713], [-122.259862, 37.507648], [-122.231594, 37.485892], [-122.182266, 37.454382], [-122.164182, 37.44334], [-122.142258, 37.42952], [-122.108158, 37.40796], [-122.075954, 37.394458], [-122.030683, 37.378613], [-121.996437, 37.370515], [-121.936346, 37.352892], [-121.903447, 37.328642], [-121.882759, 37.310346]], [[-122.395406, 37.776541], [-122.392318, 37.757692], [-122.401366, 37.711202], [-122.405821, 37.654972], [-122.411291, 37.629831], [-122.386097, 37.599223], [-122.345145, 37.580246], [-122.32325, 37.567616], [-122.309097, 37.552181], [-122.297001, 37.537416], [-122.275574, 37.520713], [-122.259862, 37.507648], [-122.231594, 37.485892], [-122.182266, 37.454382], [-122.164182, 37.44334], [-122.142258, 37.42952], [-122.108158, 37.40796], [-122.075954, 37.394458], [-122.030683, 37.378613], [-121.996437, 37.370515], [-121.936346, 37.352892], [-121.91539, 37.342687], [-121.903447, 37.328642], [-121.882759, 37.310346], [-121.841793, 37.283864], [-121.797361, 37.252197], [-121.652744, 37.131693], [-121.609916, 37.085107], [-121.567076, 37.00545]], [[-121.903447, 37.328642], [-121.936346, 37.352892], [-121.996437, 37.370515], [-122.030683, 37.378613], [-122.075954, 37.394458], [-122.108158, 37.40796], [-122.142258, 37.42952], [-122.164182, 37.44334], [-122.182266, 37.454382], [-122.198152, 37.464458], [-122.231594, 37.485892], [-122.259862, 37.507648], [-122.275574, 37.520713], [-122.297001, 37.537416], [-122.309097, 37.552181], [-122.32325, 37.567616], [-122.345145, 37.580246], [-122.363405, 37.587878], [-122.386097, 37.599223], [-122.411291, 37.629831], [-122.405821, 37.654972], [-122.401366, 37.711202], [-122.392318, 37.757692], [-122.395406, 37.776541]], [[-122.395406, 37.776541], [-122.392318, 37.757692], [-122.401366, 37.711202], [-122.405821, 37.654972], [-122.411291, 37.629831], [-122.386097, 37.599223], [-122.363405, 37.587878], [-122.345145, 37.580246], [-122.32325, 37.567616], [-122.309097, 37.552181], [-122.297001, 37.537416], [-122.275574, 37.520713], [-122.259862, 37.507648], [-122.231594, 37.485892], [-122.198152, 37.464458], [-122.182266, 37.454382], [-122.164182, 37.44334], [-122.142258, 37.42952], [-122.108158, 37.40796], [-122.075954, 37.394458], [-122.030683, 37.378613], [-121.996437, 37.370515], [-121.936346, 37.352892], [-121.903447, 37.328642]], [[-122.309097, 37.552181], [-122.297001, 37.537416], [-122.275574, 37.520713], [-122.259862, 37.507648], [-122.231594, 37.485892], [-122.198152, 37.464458], [-122.182266, 37.454382], [-122.164182, 37.44334], [-122.142258, 37.42952], [-122.108158, 37.40796], [-122.075954, 37.394458], [-122.030683, 37.378613], [-121.996437, 37.370515], [-121.936346, 37.352892], [-121.903447, 37.328642]], [[-122.395406, 37.776541], [-122.386097, 37.599223], [-122.32325, 37.567616], [-122.297001, 37.537416], [-122.231594, 37.485892], [-122.164182, 37.44334], [-122.075954, 37.394458]], [[-121.903447, 37.328642], [-121.936346, 37.352892], [-121.996437, 37.370515], [-122.030683, 37.378613], [-122.075954, 37.394458], [-122.108158, 37.40796], [-122.142258, 37.42952], [-122.164182, 37.44334], [-122.182266, 37.454382], [-122.198152, 37.464458], [-122.231594, 37.485892], [-122.259862, 37.507648], [-122.275574, 37.520713], [-122.297001, 37.537416], [-122.309097, 37.552181]], [[-122.345145, 37.580246], [-122.363405, 37.587878], [-122.386097, 37.599223], [-122.411291, 37.629831], [-122.405821, 37.654972], [-122.401366, 37.711202], [-122.392318, 37.757692], [-122.395406, 37.776541]], [[-122.395406, 37.776541], [-122.392318, 37.757692], [-122.401366, 37.711202], [-122.405821, 37.654972], [-122.411291, 37.629831], [-122.386097, 37.599223], [-122.363405, 37.587878], [-122.345145, 37.580246]]], \"type\": \"MultiLineString\"}, \"id\": \"r-9q9-local\", \"properties\": {\"color\": null, \"created_at\": \"2016-02-06T20:05:59.188Z\", \"identifiers\": [\"gtfs://f-9q9-caltrain/r/LOCAL\"], \"name\": \"LOCAL\", \"onestop_id\": \"r-9q9-local\", \"operated_by_name\": \"Caltrain\", \"operated_by_onestop_id\": \"o-9q9-caltrain\", \"route_stop_patterns_by_onestop_id\": [\"r-9q9-local-f68455-dcd599\", \"r-9q9-local-86e6d7-d7a8b1\", \"r-9q9-local-4c0295-f95aca\", \"r-9q9-local-29481a-15de17\", \"r-9q9-local-d3fd16-4aec17\", \"r-9q9-local-2f62df-c7aa0f\", \"r-9q9-local-15a702-9a54c7\", \"r-9q9-local-5fab3d-17d3a0\", \"r-9q9-local-f88d23-5ed840\", \"r-9q9-local-339d43-a1f5af\", \"r-9q9-local-ede14c-faf31e\", \"r-9q9-local-dc712a-43afc5\", \"r-9q9-local-b85cfd-369a0a\"], \"tags\": {\"route_desc\": null, \"route_long_name\": null, \"route_text_color\": null, \"route_url\": null}, \"title\": \"LOCAL\", \"updated_at\": \"2016-02-06T20:05:59.188Z\", \"vehicle_type\": \"rail\"}, \"type\": \"Feature\"},\n",
       " {\"geometry\": {\"coordinates\": [[[-121.882759, 37.310346], [-121.903447, 37.328642], [-121.936346, 37.352892], [-121.996437, 37.370515], [-122.030683, 37.378613], [-122.075954, 37.394458], [-122.108158, 37.40796], [-122.142258, 37.42952], [-122.164182, 37.44334], [-122.182266, 37.454382], [-122.231594, 37.485892], [-122.297001, 37.537416], [-122.386097, 37.599223], [-122.405821, 37.654972], [-122.395406, 37.776541]], [[-121.903447, 37.328642], [-121.936346, 37.352892], [-122.030683, 37.378613], [-122.075954, 37.394458], [-122.182266, 37.454382], [-122.231594, 37.485892], [-122.259862, 37.507648], [-122.275574, 37.520713], [-122.297001, 37.537416], [-122.309097, 37.552181], [-122.32325, 37.567616], [-122.345145, 37.580246], [-122.386097, 37.599223], [-122.411291, 37.629831], [-122.405821, 37.654972], [-122.401366, 37.711202], [-122.392318, 37.757692], [-122.395406, 37.776541]], [[-121.903447, 37.328642], [-122.030683, 37.378613], [-122.075954, 37.394458], [-122.142258, 37.42952], [-122.164182, 37.44334], [-122.259862, 37.507648], [-122.297001, 37.537416], [-122.32325, 37.567616], [-122.345145, 37.580246], [-122.411291, 37.629831], [-122.395406, 37.776541]], [[-121.567076, 37.00545], [-121.609916, 37.085107], [-121.652744, 37.131693], [-121.797361, 37.252197], [-121.841793, 37.283864], [-121.882759, 37.310346], [-121.903447, 37.328642], [-121.936346, 37.352892], [-121.996437, 37.370515], [-122.030683, 37.378613], [-122.075954, 37.394458], [-122.108158, 37.40796], [-122.142258, 37.42952], [-122.164182, 37.44334], [-122.182266, 37.454382], [-122.231594, 37.485892], [-122.297001, 37.537416], [-122.386097, 37.599223], [-122.405821, 37.654972], [-122.395406, 37.776541]], [[-121.567076, 37.00545], [-121.609916, 37.085107], [-121.652744, 37.131693], [-121.797361, 37.252197], [-121.841793, 37.283864], [-121.882759, 37.310346], [-121.903447, 37.328642], [-121.936346, 37.352892], [-121.996437, 37.370515], [-122.030683, 37.378613], [-122.075954, 37.394458], [-122.182266, 37.454382], [-122.231594, 37.485892], [-122.259862, 37.507648], [-122.275574, 37.520713], [-122.297001, 37.537416], [-122.309097, 37.552181], [-122.32325, 37.567616], [-122.345145, 37.580246], [-122.386097, 37.599223], [-122.411291, 37.629831], [-122.405821, 37.654972], [-122.401366, 37.711202], [-122.392318, 37.757692], [-122.395406, 37.776541]], [[-121.567076, 37.00545], [-121.609916, 37.085107], [-121.652744, 37.131693], [-121.797361, 37.252197], [-121.841793, 37.283864], [-121.882759, 37.310346], [-121.903447, 37.328642], [-121.91539, 37.342687], [-121.936346, 37.352892], [-121.996437, 37.370515], [-122.030683, 37.378613], [-122.075954, 37.394458], [-122.108158, 37.40796], [-122.142258, 37.42952], [-122.164182, 37.44334], [-122.182266, 37.454382], [-122.231594, 37.485892], [-122.297001, 37.537416], [-122.386097, 37.599223], [-122.405821, 37.654972], [-122.395406, 37.776541]], [[-121.882759, 37.310346], [-121.903447, 37.328642], [-121.936346, 37.352892], [-121.996437, 37.370515], [-122.030683, 37.378613], [-122.075954, 37.394458], [-122.108158, 37.40796], [-122.142258, 37.42952], [-122.164182, 37.44334], [-122.182266, 37.454382], [-122.231594, 37.485892], [-122.259862, 37.507648], [-122.275574, 37.520713], [-122.297001, 37.537416], [-122.32325, 37.567616], [-122.345145, 37.580246], [-122.386097, 37.599223], [-122.411291, 37.629831], [-122.395406, 37.776541]], [[-121.882759, 37.310346], [-121.903447, 37.328642], [-121.936346, 37.352892], [-121.996437, 37.370515], [-122.030683, 37.378613], [-122.075954, 37.394458], [-122.108158, 37.40796], [-122.142258, 37.42952], [-122.164182, 37.44334], [-122.182266, 37.454382], [-122.231594, 37.485892], [-122.259862, 37.507648], [-122.32325, 37.567616], [-122.386097, 37.599223], [-122.392318, 37.757692], [-122.395406, 37.776541]], [[-121.903447, 37.328642], [-121.996437, 37.370515], [-122.075954, 37.394458], [-122.164182, 37.44334], [-122.182266, 37.454382], [-122.259862, 37.507648], [-122.297001, 37.537416], [-122.32325, 37.567616], [-122.345145, 37.580246], [-122.411291, 37.629831], [-122.392318, 37.757692], [-122.395406, 37.776541]], [[-121.882759, 37.310346], [-121.903447, 37.328642], [-121.936346, 37.352892], [-122.164182, 37.44334], [-122.231594, 37.485892], [-122.259862, 37.507648], [-122.275574, 37.520713], [-122.297001, 37.537416], [-122.309097, 37.552181], [-122.32325, 37.567616], [-122.345145, 37.580246], [-122.386097, 37.599223], [-122.411291, 37.629831], [-122.405821, 37.654972], [-122.401366, 37.711202], [-122.392318, 37.757692], [-122.395406, 37.776541]], [[-121.882759, 37.310346], [-121.903447, 37.328642], [-121.996437, 37.370515], [-122.075954, 37.394458], [-122.164182, 37.44334], [-122.182266, 37.454382], [-122.259862, 37.507648], [-122.297001, 37.537416], [-122.32325, 37.567616], [-122.345145, 37.580246], [-122.411291, 37.629831], [-122.392318, 37.757692], [-122.395406, 37.776541]], [[-121.903447, 37.328642], [-121.996437, 37.370515], [-122.075954, 37.394458], [-122.142258, 37.42952], [-122.164182, 37.44334], [-122.182266, 37.454382], [-122.231594, 37.485892], [-122.259862, 37.507648], [-122.297001, 37.537416], [-122.32325, 37.567616], [-122.345145, 37.580246], [-122.386097, 37.599223], [-122.392318, 37.757692], [-122.395406, 37.776541]], [[-122.395406, 37.776541], [-122.392318, 37.757692], [-122.386097, 37.599223], [-122.345145, 37.580246], [-122.32325, 37.567616], [-122.297001, 37.537416], [-122.259862, 37.507648], [-122.231594, 37.485892], [-122.182266, 37.454382], [-122.164182, 37.44334], [-122.142258, 37.42952], [-122.075954, 37.394458], [-121.996437, 37.370515], [-121.903447, 37.328642]], [[-122.395406, 37.776541], [-122.392318, 37.757692], [-122.401366, 37.711202], [-122.405821, 37.654972], [-122.411291, 37.629831], [-122.386097, 37.599223], [-122.345145, 37.580246], [-122.32325, 37.567616], [-122.309097, 37.552181], [-122.297001, 37.537416], [-122.275574, 37.520713], [-122.259862, 37.507648], [-122.231594, 37.485892], [-122.164182, 37.44334], [-121.936346, 37.352892], [-121.903447, 37.328642], [-121.882759, 37.310346]], [[-122.395406, 37.776541], [-122.411291, 37.629831], [-122.386097, 37.599223], [-122.345145, 37.580246], [-122.32325, 37.567616], [-122.297001, 37.537416], [-122.275574, 37.520713], [-122.259862, 37.507648], [-122.231594, 37.485892], [-122.182266, 37.454382], [-122.164182, 37.44334], [-122.142258, 37.42952], [-122.108158, 37.40796], [-122.075954, 37.394458], [-122.030683, 37.378613], [-121.996437, 37.370515], [-121.936346, 37.352892], [-121.903447, 37.328642], [-121.882759, 37.310346]], [[-122.395406, 37.776541], [-122.392318, 37.757692], [-122.386097, 37.599223], [-122.32325, 37.567616], [-122.259862, 37.507648], [-122.231594, 37.485892], [-122.182266, 37.454382], [-122.164182, 37.44334], [-122.142258, 37.42952], [-122.108158, 37.40796], [-122.075954, 37.394458], [-122.030683, 37.378613], [-121.996437, 37.370515], [-121.936346, 37.352892], [-121.91539, 37.342687], [-121.903447, 37.328642], [-121.882759, 37.310346]], [[-122.395406, 37.776541], [-122.392318, 37.757692], [-122.411291, 37.629831], [-122.345145, 37.580246], [-122.32325, 37.567616], [-122.297001, 37.537416], [-122.259862, 37.507648], [-122.182266, 37.454382], [-122.164182, 37.44334], [-122.075954, 37.394458], [-121.996437, 37.370515], [-121.903447, 37.328642]], [[-122.395406, 37.776541], [-122.392318, 37.757692], [-122.386097, 37.599223], [-122.32325, 37.567616], [-122.259862, 37.507648], [-122.231594, 37.485892], [-122.182266, 37.454382], [-122.164182, 37.44334], [-122.142258, 37.42952], [-122.108158, 37.40796], [-122.075954, 37.394458], [-122.030683, 37.378613], [-121.996437, 37.370515], [-121.936346, 37.352892], [-121.903447, 37.328642], [-121.882759, 37.310346]], [[-122.395406, 37.776541], [-122.411291, 37.629831], [-122.345145, 37.580246], [-122.32325, 37.567616], [-122.297001, 37.537416], [-122.259862, 37.507648], [-122.164182, 37.44334], [-122.142258, 37.42952], [-122.075954, 37.394458], [-122.030683, 37.378613], [-121.903447, 37.328642]], [[-122.395406, 37.776541], [-122.392318, 37.757692], [-122.401366, 37.711202], [-122.405821, 37.654972], [-122.411291, 37.629831], [-122.386097, 37.599223], [-122.345145, 37.580246], [-122.32325, 37.567616], [-122.309097, 37.552181], [-122.297001, 37.537416], [-122.275574, 37.520713], [-122.259862, 37.507648], [-122.231594, 37.485892], [-122.182266, 37.454382], [-122.075954, 37.394458], [-122.030683, 37.378613], [-121.936346, 37.352892], [-121.903447, 37.328642]], [[-122.395406, 37.776541], [-122.405821, 37.654972], [-122.386097, 37.599223], [-122.297001, 37.537416], [-122.231594, 37.485892], [-122.182266, 37.454382], [-122.164182, 37.44334], [-122.142258, 37.42952], [-122.108158, 37.40796], [-122.075954, 37.394458], [-122.030683, 37.378613], [-121.996437, 37.370515], [-121.936346, 37.352892], [-121.903447, 37.328642], [-121.882759, 37.310346], [-121.841793, 37.283864], [-121.797361, 37.252197], [-121.652744, 37.131693], [-121.609916, 37.085107], [-121.567076, 37.00545]], [[-122.395406, 37.776541], [-122.392318, 37.757692], [-122.401366, 37.711202], [-122.405821, 37.654972], [-122.411291, 37.629831], [-122.386097, 37.599223], [-122.345145, 37.580246], [-122.32325, 37.567616], [-122.309097, 37.552181], [-122.297001, 37.537416], [-122.275574, 37.520713], [-122.259862, 37.507648], [-122.231594, 37.485892], [-122.182266, 37.454382], [-122.075954, 37.394458], [-122.030683, 37.378613], [-121.996437, 37.370515], [-121.936346, 37.352892], [-121.903447, 37.328642], [-121.882759, 37.310346], [-121.841793, 37.283864], [-121.797361, 37.252197], [-121.652744, 37.131693], [-121.609916, 37.085107], [-121.567076, 37.00545]], [[-122.395406, 37.776541], [-122.405821, 37.654972], [-122.386097, 37.599223], [-122.297001, 37.537416], [-122.231594, 37.485892], [-122.182266, 37.454382], [-122.164182, 37.44334], [-122.142258, 37.42952], [-122.108158, 37.40796], [-122.075954, 37.394458], [-122.030683, 37.378613], [-121.996437, 37.370515], [-121.936346, 37.352892], [-121.903447, 37.328642], [-121.882759, 37.310346]]], \"type\": \"MultiLineString\"}, \"id\": \"r-9q9-limited\", \"properties\": {\"color\": null, \"created_at\": \"2016-02-06T20:05:59.390Z\", \"identifiers\": [\"gtfs://f-9q9-caltrain/r/LIMITED\"], \"name\": \"LIMITED\", \"onestop_id\": \"r-9q9-limited\", \"operated_by_name\": \"Caltrain\", \"operated_by_onestop_id\": \"o-9q9-caltrain\", \"route_stop_patterns_by_onestop_id\": [\"r-9q9-limited-67c786-4aa1f7\", \"r-9q9-limited-f1c44e-67ef7d\", \"r-9q9-limited-25828e-1798fb\", \"r-9q9-limited-d5f6b2-5529ed\", \"r-9q9-limited-4448e5-badd93\", \"r-9q9-limited-21a030-1d0cd8\", \"r-9q9-limited-f31237-c0d45a\", \"r-9q9-limited-4547e9-1e9798\", \"r-9q9-limited-479611-f761e1\", \"r-9q9-limited-283a79-8e2a3a\", \"r-9q9-limited-cb4ec5-8fbcc2\", \"r-9q9-limited-fbe8ba-890d77\", \"r-9q9-limited-a59a5a-4ccfc2\", \"r-9q9-limited-db4b4e-22924b\", \"r-9q9-limited-435ea9-f574a7\", \"r-9q9-limited-6fa58d-687578\", \"r-9q9-limited-c5b509-da8ea2\", \"r-9q9-limited-aa7bf7-e7afee\", \"r-9q9-limited-2341a5-950215\", \"r-9q9-limited-d28306-b4dbcf\", \"r-9q9-limited-5528a6-56b4c7\", \"r-9q9-limited-3b52b8-2cb092\", \"r-9q9-limited-98baaa-ad4666\"], \"tags\": {\"route_desc\": null, \"route_long_name\": \"LIMITED\", \"route_text_color\": null, \"route_url\": null}, \"title\": \"LIMITED\", \"updated_at\": \"2016-02-06T20:05:59.390Z\", \"vehicle_type\": \"rail\"}, \"type\": \"Feature\"}]"
      ]
     },
     "execution_count": 14,
     "metadata": {},
     "output_type": "execute_result"
    }
   ],
   "source": [
    "caltrain_routes[\"features\"]"
   ]
  },
  {
   "cell_type": "code",
   "execution_count": 15,
   "metadata": {
    "collapsed": false
   },
   "outputs": [],
   "source": [
    "local_route = caltrain_routes[\"features\"][3]"
   ]
  },
  {
   "cell_type": "code",
   "execution_count": 16,
   "metadata": {
    "collapsed": false
   },
   "outputs": [
    {
     "data": {
      "text/plain": [
       "{\"geometry\": {\"coordinates\": [[[-121.903447, 37.328642], [-121.936346, 37.352892], [-121.996437, 37.370515], [-122.030683, 37.378613], [-122.075954, 37.394458], [-122.108158, 37.40796], [-122.142258, 37.42952], [-122.164182, 37.44334], [-122.182266, 37.454382], [-122.231594, 37.485892], [-122.259862, 37.507648], [-122.275574, 37.520713], [-122.297001, 37.537416], [-122.309097, 37.552181], [-122.32325, 37.567616], [-122.345145, 37.580246], [-122.386097, 37.599223], [-122.411291, 37.629831], [-122.405821, 37.654972], [-122.401366, 37.711202], [-122.392318, 37.757692], [-122.395406, 37.776541]], [[-121.882759, 37.310346], [-121.903447, 37.328642], [-121.936346, 37.352892], [-121.996437, 37.370515], [-122.030683, 37.378613], [-122.075954, 37.394458], [-122.108158, 37.40796], [-122.142258, 37.42952], [-122.164182, 37.44334], [-122.182266, 37.454382], [-122.231594, 37.485892], [-122.259862, 37.507648], [-122.275574, 37.520713], [-122.297001, 37.537416], [-122.309097, 37.552181], [-122.32325, 37.567616], [-122.345145, 37.580246], [-122.386097, 37.599223], [-122.411291, 37.629831], [-122.405821, 37.654972], [-122.401366, 37.711202], [-122.392318, 37.757692], [-122.395406, 37.776541]], [[-121.903447, 37.328642], [-121.91539, 37.342687], [-121.936346, 37.352892], [-121.996437, 37.370515], [-122.030683, 37.378613], [-122.075954, 37.394458], [-122.108158, 37.40796], [-122.142258, 37.42952], [-122.164182, 37.44334], [-122.182266, 37.454382], [-122.231594, 37.485892], [-122.259862, 37.507648], [-122.275574, 37.520713], [-122.297001, 37.537416], [-122.309097, 37.552181], [-122.32325, 37.567616], [-122.345145, 37.580246], [-122.386097, 37.599223], [-122.411291, 37.629831], [-122.405821, 37.654972], [-122.401366, 37.711202], [-122.392318, 37.757692], [-122.395406, 37.776541]], [[-122.395406, 37.776541], [-122.392318, 37.757692], [-122.401366, 37.711202], [-122.405821, 37.654972], [-122.411291, 37.629831], [-122.386097, 37.599223], [-122.345145, 37.580246], [-122.32325, 37.567616], [-122.309097, 37.552181], [-122.297001, 37.537416], [-122.275574, 37.520713], [-122.259862, 37.507648], [-122.231594, 37.485892], [-122.182266, 37.454382], [-122.164182, 37.44334], [-122.142258, 37.42952], [-122.108158, 37.40796], [-122.075954, 37.394458], [-122.030683, 37.378613], [-121.996437, 37.370515], [-121.936346, 37.352892], [-121.903447, 37.328642]], [[-122.395406, 37.776541], [-122.392318, 37.757692], [-122.401366, 37.711202], [-122.405821, 37.654972], [-122.411291, 37.629831], [-122.386097, 37.599223], [-122.345145, 37.580246], [-122.32325, 37.567616], [-122.309097, 37.552181], [-122.297001, 37.537416], [-122.275574, 37.520713], [-122.259862, 37.507648], [-122.231594, 37.485892], [-122.182266, 37.454382], [-122.164182, 37.44334], [-122.142258, 37.42952], [-122.108158, 37.40796], [-122.075954, 37.394458], [-122.030683, 37.378613], [-121.996437, 37.370515], [-121.936346, 37.352892], [-121.903447, 37.328642], [-121.882759, 37.310346]], [[-122.395406, 37.776541], [-122.392318, 37.757692], [-122.401366, 37.711202], [-122.405821, 37.654972], [-122.411291, 37.629831], [-122.386097, 37.599223], [-122.345145, 37.580246], [-122.32325, 37.567616], [-122.309097, 37.552181], [-122.297001, 37.537416], [-122.275574, 37.520713], [-122.259862, 37.507648], [-122.231594, 37.485892], [-122.182266, 37.454382], [-122.164182, 37.44334], [-122.142258, 37.42952], [-122.108158, 37.40796], [-122.075954, 37.394458], [-122.030683, 37.378613], [-121.996437, 37.370515], [-121.936346, 37.352892], [-121.91539, 37.342687], [-121.903447, 37.328642], [-121.882759, 37.310346], [-121.841793, 37.283864], [-121.797361, 37.252197], [-121.652744, 37.131693], [-121.609916, 37.085107], [-121.567076, 37.00545]], [[-121.903447, 37.328642], [-121.936346, 37.352892], [-121.996437, 37.370515], [-122.030683, 37.378613], [-122.075954, 37.394458], [-122.108158, 37.40796], [-122.142258, 37.42952], [-122.164182, 37.44334], [-122.182266, 37.454382], [-122.198152, 37.464458], [-122.231594, 37.485892], [-122.259862, 37.507648], [-122.275574, 37.520713], [-122.297001, 37.537416], [-122.309097, 37.552181], [-122.32325, 37.567616], [-122.345145, 37.580246], [-122.363405, 37.587878], [-122.386097, 37.599223], [-122.411291, 37.629831], [-122.405821, 37.654972], [-122.401366, 37.711202], [-122.392318, 37.757692], [-122.395406, 37.776541]], [[-122.395406, 37.776541], [-122.392318, 37.757692], [-122.401366, 37.711202], [-122.405821, 37.654972], [-122.411291, 37.629831], [-122.386097, 37.599223], [-122.363405, 37.587878], [-122.345145, 37.580246], [-122.32325, 37.567616], [-122.309097, 37.552181], [-122.297001, 37.537416], [-122.275574, 37.520713], [-122.259862, 37.507648], [-122.231594, 37.485892], [-122.198152, 37.464458], [-122.182266, 37.454382], [-122.164182, 37.44334], [-122.142258, 37.42952], [-122.108158, 37.40796], [-122.075954, 37.394458], [-122.030683, 37.378613], [-121.996437, 37.370515], [-121.936346, 37.352892], [-121.903447, 37.328642]], [[-122.309097, 37.552181], [-122.297001, 37.537416], [-122.275574, 37.520713], [-122.259862, 37.507648], [-122.231594, 37.485892], [-122.198152, 37.464458], [-122.182266, 37.454382], [-122.164182, 37.44334], [-122.142258, 37.42952], [-122.108158, 37.40796], [-122.075954, 37.394458], [-122.030683, 37.378613], [-121.996437, 37.370515], [-121.936346, 37.352892], [-121.903447, 37.328642]], [[-122.395406, 37.776541], [-122.386097, 37.599223], [-122.32325, 37.567616], [-122.297001, 37.537416], [-122.231594, 37.485892], [-122.164182, 37.44334], [-122.075954, 37.394458]], [[-121.903447, 37.328642], [-121.936346, 37.352892], [-121.996437, 37.370515], [-122.030683, 37.378613], [-122.075954, 37.394458], [-122.108158, 37.40796], [-122.142258, 37.42952], [-122.164182, 37.44334], [-122.182266, 37.454382], [-122.198152, 37.464458], [-122.231594, 37.485892], [-122.259862, 37.507648], [-122.275574, 37.520713], [-122.297001, 37.537416], [-122.309097, 37.552181]], [[-122.345145, 37.580246], [-122.363405, 37.587878], [-122.386097, 37.599223], [-122.411291, 37.629831], [-122.405821, 37.654972], [-122.401366, 37.711202], [-122.392318, 37.757692], [-122.395406, 37.776541]], [[-122.395406, 37.776541], [-122.392318, 37.757692], [-122.401366, 37.711202], [-122.405821, 37.654972], [-122.411291, 37.629831], [-122.386097, 37.599223], [-122.363405, 37.587878], [-122.345145, 37.580246]]], \"type\": \"MultiLineString\"}, \"id\": \"r-9q9-local\", \"properties\": {\"color\": null, \"created_at\": \"2016-02-06T20:05:59.188Z\", \"identifiers\": [\"gtfs://f-9q9-caltrain/r/LOCAL\"], \"name\": \"LOCAL\", \"onestop_id\": \"r-9q9-local\", \"operated_by_name\": \"Caltrain\", \"operated_by_onestop_id\": \"o-9q9-caltrain\", \"route_stop_patterns_by_onestop_id\": [\"r-9q9-local-f68455-dcd599\", \"r-9q9-local-86e6d7-d7a8b1\", \"r-9q9-local-4c0295-f95aca\", \"r-9q9-local-29481a-15de17\", \"r-9q9-local-d3fd16-4aec17\", \"r-9q9-local-2f62df-c7aa0f\", \"r-9q9-local-15a702-9a54c7\", \"r-9q9-local-5fab3d-17d3a0\", \"r-9q9-local-f88d23-5ed840\", \"r-9q9-local-339d43-a1f5af\", \"r-9q9-local-ede14c-faf31e\", \"r-9q9-local-dc712a-43afc5\", \"r-9q9-local-b85cfd-369a0a\"], \"tags\": {\"route_desc\": null, \"route_long_name\": null, \"route_text_color\": null, \"route_url\": null}, \"title\": \"LOCAL\", \"updated_at\": \"2016-02-06T20:05:59.188Z\", \"vehicle_type\": \"rail\"}, \"type\": \"Feature\"}"
      ]
     },
     "execution_count": 16,
     "metadata": {},
     "output_type": "execute_result"
    }
   ],
   "source": [
    "local_route"
   ]
  },
  {
   "cell_type": "code",
   "execution_count": 17,
   "metadata": {
    "collapsed": false
   },
   "outputs": [],
   "source": [
    "baby_bullet_stops_sj_2_sf = [[-121.903447, 37.328642], [-122.075954, 37.394458], [-122.164182, 37.44334], [-122.297001, 37.537416], [-122.386097, 37.599223], [-122.395406, 37.776541]]"
   ]
  },
  {
   "cell_type": "code",
   "execution_count": 18,
   "metadata": {
    "collapsed": false
   },
   "outputs": [],
   "source": [
    "def get_points_from_ts_for_range(ts, start_ts, end_ts):\n",
    "    return ts.get_data_df(\"background/location\", enua.UserCache.TimeQuery('write_ts', start_ts, end_ts))"
   ]
  },
  {
   "cell_type": "code",
   "execution_count": 19,
   "metadata": {
    "collapsed": false
   },
   "outputs": [],
   "source": [
    "def get_points_for_range(ts, range_df):\n",
    "    points_range_df = map(lambda row: get_points_from_ts_for_range(ts, row['start_ts'], row['end_ts']), range_df.to_dict('records'))\n",
    "    return points_range_df"
   ]
  },
  {
   "cell_type": "code",
   "execution_count": 20,
   "metadata": {
    "collapsed": false
   },
   "outputs": [],
   "source": [
    "def get_points_for_group(ts_list, range_df):\n",
    "    return map(lambda ts: get_points_for_range(ts, range_df), ts_list)"
   ]
  },
  {
   "cell_type": "code",
   "execution_count": 21,
   "metadata": {
    "collapsed": false
   },
   "outputs": [],
   "source": [
    "schedule_csv = pd.read_csv('../mtv_millbrae_local_times.csv')"
   ]
  },
  {
   "cell_type": "code",
   "execution_count": 22,
   "metadata": {
    "collapsed": false
   },
   "outputs": [],
   "source": [
    "import emission.analysis.plotting.geojson.geojson_feature_converter as gfc\n",
    "import emission.analysis.plotting.leaflet_osm.our_plotter as lo\n",
    "import emission.analysis.plotting.leaflet_osm.ipython_helper as ipy"
   ]
  },
  {
   "cell_type": "code",
   "execution_count": 23,
   "metadata": {
    "collapsed": false
   },
   "outputs": [],
   "source": [
    "coordinate_array = local_route[\"geometry\"][\"coordinates\"][0][4:17]"
   ]
  },
  {
   "cell_type": "code",
   "execution_count": 24,
   "metadata": {
    "collapsed": false
   },
   "outputs": [
    {
     "name": "stdout",
     "output_type": "stream",
     "text": [
      "13\n"
     ]
    },
    {
     "data": {
      "text/plain": [
       "[[-122.075954, 37.394458],\n",
       " [-122.108158, 37.40796],\n",
       " [-122.142258, 37.42952],\n",
       " [-122.164182, 37.44334],\n",
       " [-122.182266, 37.454382],\n",
       " [-122.231594, 37.485892],\n",
       " [-122.259862, 37.507648],\n",
       " [-122.275574, 37.520713],\n",
       " [-122.297001, 37.537416],\n",
       " [-122.309097, 37.552181],\n",
       " [-122.32325, 37.567616],\n",
       " [-122.345145, 37.580246],\n",
       " [-122.386097, 37.599223]]"
      ]
     },
     "execution_count": 24,
     "metadata": {},
     "output_type": "execute_result"
    }
   ],
   "source": [
    "print len(coordinate_array)\n",
    "coordinate_array"
   ]
  },
  {
   "cell_type": "code",
   "execution_count": 51,
   "metadata": {
    "collapsed": false
   },
   "outputs": [],
   "source": [
    "coordinate_dict = map(lambda c: {'longitude': c[0], 'latitude': c[1]}, coordinate_array)"
   ]
  },
  {
   "cell_type": "code",
   "execution_count": 52,
   "metadata": {
    "collapsed": false
   },
   "outputs": [],
   "source": [
    "ground_truth = pd.DataFrame(coordinate_dict)"
   ]
  },
  {
   "cell_type": "code",
   "execution_count": 53,
   "metadata": {
    "collapsed": false
   },
   "outputs": [
    {
     "data": {
      "text/plain": [
       "1459506540"
      ]
     },
     "execution_count": 53,
     "metadata": {},
     "output_type": "execute_result"
    }
   ],
   "source": [
    "import arrow\n",
    "\n",
    "arrow.get('2016-04-01T'+schedule_csv.arrival_time.iloc[0]).timestamp"
   ]
  },
  {
   "cell_type": "code",
   "execution_count": 54,
   "metadata": {
    "collapsed": false
   },
   "outputs": [],
   "source": [
    "ground_truth['ts'] = schedule_csv.arrival_time.apply(lambda tstr: arrow.get('2016-04-01T'+tstr).timestamp)"
   ]
  },
  {
   "cell_type": "code",
   "execution_count": 55,
   "metadata": {
    "collapsed": false
   },
   "outputs": [],
   "source": [
    "ground_truth['ts_delta'] = ground_truth.ts - ground_truth.ts.iloc[0]"
   ]
  },
  {
   "cell_type": "code",
   "execution_count": 56,
   "metadata": {
    "collapsed": false
   },
   "outputs": [
    {
     "data": {
      "text/html": [
       "<div style=\"max-width:1500px;overflow:auto;\">\n",
       "<table border=\"1\" class=\"dataframe\">\n",
       "  <thead>\n",
       "    <tr style=\"text-align: right;\">\n",
       "      <th></th>\n",
       "      <th>latitude</th>\n",
       "      <th>longitude</th>\n",
       "      <th>ts</th>\n",
       "      <th>ts_delta</th>\n",
       "    </tr>\n",
       "  </thead>\n",
       "  <tbody>\n",
       "    <tr>\n",
       "      <th>0</th>\n",
       "      <td>37.394</td>\n",
       "      <td>-122.076</td>\n",
       "      <td>1459506540</td>\n",
       "      <td>0</td>\n",
       "    </tr>\n",
       "    <tr>\n",
       "      <th>1</th>\n",
       "      <td>37.408</td>\n",
       "      <td>-122.108</td>\n",
       "      <td>1459506780</td>\n",
       "      <td>240</td>\n",
       "    </tr>\n",
       "    <tr>\n",
       "      <th>2</th>\n",
       "      <td>37.430</td>\n",
       "      <td>-122.142</td>\n",
       "      <td>1459507020</td>\n",
       "      <td>480</td>\n",
       "    </tr>\n",
       "    <tr>\n",
       "      <th>3</th>\n",
       "      <td>37.443</td>\n",
       "      <td>-122.164</td>\n",
       "      <td>1459507260</td>\n",
       "      <td>720</td>\n",
       "    </tr>\n",
       "    <tr>\n",
       "      <th>4</th>\n",
       "      <td>37.454</td>\n",
       "      <td>-122.182</td>\n",
       "      <td>1459507440</td>\n",
       "      <td>900</td>\n",
       "    </tr>\n",
       "    <tr>\n",
       "      <th>5</th>\n",
       "      <td>37.486</td>\n",
       "      <td>-122.232</td>\n",
       "      <td>1459507740</td>\n",
       "      <td>1200</td>\n",
       "    </tr>\n",
       "    <tr>\n",
       "      <th>6</th>\n",
       "      <td>37.508</td>\n",
       "      <td>-122.260</td>\n",
       "      <td>1459507980</td>\n",
       "      <td>1440</td>\n",
       "    </tr>\n",
       "    <tr>\n",
       "      <th>7</th>\n",
       "      <td>37.521</td>\n",
       "      <td>-122.276</td>\n",
       "      <td>1459508160</td>\n",
       "      <td>1620</td>\n",
       "    </tr>\n",
       "    <tr>\n",
       "      <th>8</th>\n",
       "      <td>37.537</td>\n",
       "      <td>-122.297</td>\n",
       "      <td>1459508340</td>\n",
       "      <td>1800</td>\n",
       "    </tr>\n",
       "    <tr>\n",
       "      <th>9</th>\n",
       "      <td>37.552</td>\n",
       "      <td>-122.309</td>\n",
       "      <td>1459508520</td>\n",
       "      <td>1980</td>\n",
       "    </tr>\n",
       "    <tr>\n",
       "      <th>10</th>\n",
       "      <td>37.568</td>\n",
       "      <td>-122.323</td>\n",
       "      <td>1459508700</td>\n",
       "      <td>2160</td>\n",
       "    </tr>\n",
       "    <tr>\n",
       "      <th>11</th>\n",
       "      <td>37.580</td>\n",
       "      <td>-122.345</td>\n",
       "      <td>1459508880</td>\n",
       "      <td>2340</td>\n",
       "    </tr>\n",
       "    <tr>\n",
       "      <th>12</th>\n",
       "      <td>37.599</td>\n",
       "      <td>-122.386</td>\n",
       "      <td>1459509180</td>\n",
       "      <td>2640</td>\n",
       "    </tr>\n",
       "  </tbody>\n",
       "</table>\n",
       "</div>"
      ],
      "text/plain": [
       "    latitude  longitude          ts  ts_delta\n",
       "0     37.394   -122.076  1459506540         0\n",
       "1     37.408   -122.108  1459506780       240\n",
       "2     37.430   -122.142  1459507020       480\n",
       "3     37.443   -122.164  1459507260       720\n",
       "4     37.454   -122.182  1459507440       900\n",
       "5     37.486   -122.232  1459507740      1200\n",
       "6     37.508   -122.260  1459507980      1440\n",
       "7     37.521   -122.276  1459508160      1620\n",
       "8     37.537   -122.297  1459508340      1800\n",
       "9     37.552   -122.309  1459508520      1980\n",
       "10    37.568   -122.323  1459508700      2160\n",
       "11    37.580   -122.345  1459508880      2340\n",
       "12    37.599   -122.386  1459509180      2640"
      ]
     },
     "execution_count": 56,
     "metadata": {},
     "output_type": "execute_result"
    }
   ],
   "source": [
    "ground_truth"
   ]
  },
  {
   "cell_type": "code",
   "execution_count": 57,
   "metadata": {
    "collapsed": false
   },
   "outputs": [],
   "source": [
    "import scipy.interpolate as spi\n",
    "import numpy as np"
   ]
  },
  {
   "cell_type": "code",
   "execution_count": 61,
   "metadata": {
    "collapsed": false
   },
   "outputs": [],
   "source": [
    "def move_ground_truth(gt_df, start_ts):\n",
    "    gt_df.ts = gt_df.ts_delta + start_ts\n",
    "    return gt_df"
   ]
  },
  {
   "cell_type": "code",
   "execution_count": 62,
   "metadata": {
    "collapsed": false
   },
   "outputs": [],
   "source": [
    "pd.options.display.float_format = '{:.3f}'.format"
   ]
  },
  {
   "cell_type": "code",
   "execution_count": 167,
   "metadata": {
    "collapsed": false
   },
   "outputs": [
    {
     "data": {
      "text/html": [
       "<div style=\"max-width:1500px;overflow:auto;\">\n",
       "<table border=\"1\" class=\"dataframe\">\n",
       "  <thead>\n",
       "    <tr style=\"text-align: right;\">\n",
       "      <th></th>\n",
       "      <th>latitude</th>\n",
       "      <th>longitude</th>\n",
       "      <th>ts</th>\n",
       "      <th>ts_delta</th>\n",
       "    </tr>\n",
       "  </thead>\n",
       "  <tbody>\n",
       "    <tr>\n",
       "      <th>0</th>\n",
       "      <td>37.394</td>\n",
       "      <td>-122.076</td>\n",
       "      <td>1459449090.275</td>\n",
       "      <td>0</td>\n",
       "    </tr>\n",
       "    <tr>\n",
       "      <th>1</th>\n",
       "      <td>37.408</td>\n",
       "      <td>-122.108</td>\n",
       "      <td>1459449330.275</td>\n",
       "      <td>240</td>\n",
       "    </tr>\n",
       "    <tr>\n",
       "      <th>2</th>\n",
       "      <td>37.430</td>\n",
       "      <td>-122.142</td>\n",
       "      <td>1459449570.275</td>\n",
       "      <td>480</td>\n",
       "    </tr>\n",
       "    <tr>\n",
       "      <th>3</th>\n",
       "      <td>37.443</td>\n",
       "      <td>-122.164</td>\n",
       "      <td>1459449810.275</td>\n",
       "      <td>720</td>\n",
       "    </tr>\n",
       "    <tr>\n",
       "      <th>4</th>\n",
       "      <td>37.454</td>\n",
       "      <td>-122.182</td>\n",
       "      <td>1459449990.275</td>\n",
       "      <td>900</td>\n",
       "    </tr>\n",
       "    <tr>\n",
       "      <th>5</th>\n",
       "      <td>37.486</td>\n",
       "      <td>-122.232</td>\n",
       "      <td>1459450290.275</td>\n",
       "      <td>1200</td>\n",
       "    </tr>\n",
       "    <tr>\n",
       "      <th>6</th>\n",
       "      <td>37.508</td>\n",
       "      <td>-122.260</td>\n",
       "      <td>1459450530.275</td>\n",
       "      <td>1440</td>\n",
       "    </tr>\n",
       "    <tr>\n",
       "      <th>7</th>\n",
       "      <td>37.521</td>\n",
       "      <td>-122.276</td>\n",
       "      <td>1459450710.275</td>\n",
       "      <td>1620</td>\n",
       "    </tr>\n",
       "    <tr>\n",
       "      <th>8</th>\n",
       "      <td>37.537</td>\n",
       "      <td>-122.297</td>\n",
       "      <td>1459450890.275</td>\n",
       "      <td>1800</td>\n",
       "    </tr>\n",
       "    <tr>\n",
       "      <th>9</th>\n",
       "      <td>37.552</td>\n",
       "      <td>-122.309</td>\n",
       "      <td>1459451070.275</td>\n",
       "      <td>1980</td>\n",
       "    </tr>\n",
       "    <tr>\n",
       "      <th>10</th>\n",
       "      <td>37.568</td>\n",
       "      <td>-122.323</td>\n",
       "      <td>1459451250.275</td>\n",
       "      <td>2160</td>\n",
       "    </tr>\n",
       "    <tr>\n",
       "      <th>11</th>\n",
       "      <td>37.580</td>\n",
       "      <td>-122.345</td>\n",
       "      <td>1459451430.275</td>\n",
       "      <td>2340</td>\n",
       "    </tr>\n",
       "    <tr>\n",
       "      <th>12</th>\n",
       "      <td>37.599</td>\n",
       "      <td>-122.386</td>\n",
       "      <td>1459451730.275</td>\n",
       "      <td>2640</td>\n",
       "    </tr>\n",
       "  </tbody>\n",
       "</table>\n",
       "</div>"
      ],
      "text/plain": [
       "    latitude  longitude             ts  ts_delta\n",
       "0     37.394   -122.076 1459449090.275         0\n",
       "1     37.408   -122.108 1459449330.275       240\n",
       "2     37.430   -122.142 1459449570.275       480\n",
       "3     37.443   -122.164 1459449810.275       720\n",
       "4     37.454   -122.182 1459449990.275       900\n",
       "5     37.486   -122.232 1459450290.275      1200\n",
       "6     37.508   -122.260 1459450530.275      1440\n",
       "7     37.521   -122.276 1459450710.275      1620\n",
       "8     37.537   -122.297 1459450890.275      1800\n",
       "9     37.552   -122.309 1459451070.275      1980\n",
       "10    37.568   -122.323 1459451250.275      2160\n",
       "11    37.580   -122.345 1459451430.275      2340\n",
       "12    37.599   -122.386 1459451730.275      2640"
      ]
     },
     "execution_count": 167,
     "metadata": {},
     "output_type": "execute_result"
    }
   ],
   "source": [
    "move_ground_truth(ground_truth, 1459449090.275)"
   ]
  },
  {
   "cell_type": "code",
   "execution_count": 168,
   "metadata": {
    "collapsed": false
   },
   "outputs": [],
   "source": [
    "def get_interp_df(raw_df):\n",
    "    start_ts = raw_df.ts.iloc[0]\n",
    "    end_ts = raw_df.ts.iloc[-1]\n",
    "    latf = spi.interp1d(x=raw_df.ts, y=raw_df.latitude, bounds_error=False)\n",
    "    lngf = spi.interp1d(x=raw_df.ts, y=raw_df.longitude, bounds_error=False)\n",
    "    ts_new = np.arange(int(start_ts), int(end_ts), 1)\n",
    "    fmt_time_new = map(lambda ts: pydt.datetime.fromtimestamp(ts).isoformat(), ts_new)\n",
    "    interp_df = pd.DataFrame({\"ts\": ts_new, \"fmt_time\": fmt_time_new,\n",
    "                            \"latitude\": latf(ts_new), \"longitude\": lngf(ts_new)}, index=ts_new)\n",
    "    interp_df = interp_df.dropna()\n",
    "    return interp_df"
   ]
  },
  {
   "cell_type": "code",
   "execution_count": 169,
   "metadata": {
    "collapsed": false
   },
   "outputs": [],
   "source": [
    "ground_truth_df = get_interp_df(ground_truth)"
   ]
  },
  {
   "cell_type": "code",
   "execution_count": 170,
   "metadata": {
    "collapsed": false
   },
   "outputs": [
    {
     "data": {
      "text/plain": [
       "2639"
      ]
     },
     "execution_count": 170,
     "metadata": {},
     "output_type": "execute_result"
    }
   ],
   "source": [
    "len(ground_truth_df)"
   ]
  },
  {
   "cell_type": "code",
   "execution_count": 171,
   "metadata": {
    "collapsed": false
   },
   "outputs": [],
   "source": [
    "import emission.analysis.point_features as pf\n",
    "import attrdict as ad"
   ]
  },
  {
   "cell_type": "code",
   "execution_count": 172,
   "metadata": {
    "collapsed": false
   },
   "outputs": [],
   "source": [
    "def calDistance(row):\n",
    "    return pf.calDistance(ad.AttrDict({\"latitude\": row['latitude_android'], \"longitude\": row['longitude_android']}),\n",
    "                          ad.AttrDict({\"latitude\": row['latitude_ios'], \"longitude\": row['longitude_ios']}))"
   ]
  },
  {
   "cell_type": "code",
   "execution_count": 173,
   "metadata": {
    "collapsed": false
   },
   "outputs": [],
   "source": [
    "def get_ground_truth(android_ts, ios_ts, start_ts, end_ts):\n",
    "    android_df = get_interp_df(android_ts.get_data_df(\"background/location\", enua.UserCache.TimeQuery(\"write_ts\", start_ts, end_ts)))\n",
    "    ios_df = get_interp_df(ios_ts.get_data_df(\"background/location\", enua.UserCache.TimeQuery(\"write_ts\", start_ts, end_ts)))\n",
    "    joined_df = android_df.join(ios_df, how='inner', lsuffix=\"_android\", rsuffix=\"_ios\")\n",
    "    # joined_df.drop(['fmt_time_ios', 'ts_ios'], axis=1, inplace=True)\n",
    "    # joined_df.rename(columns={\"fmt_time_android\": \"fmt_time\", \"ts_android\": \"ts\"}, inplace=True)\n",
    "    joined_df['same_point_distances'] = joined_df.apply(calDistance, axis=1)\n",
    "    filtered_df = joined_df[joined_df.same_point_distances < 40]\n",
    "    combined_df = pd.DataFrame({\"ts\": filtered_df.ts_android, \"fmt_time\": filtered_df.fmt_time_android,\n",
    "                            \"latitude\": (filtered_df.latitude_android + filtered_df.latitude_ios)/2,\n",
    "                            \"longitude\": (filtered_df.longitude_android + filtered_df.longitude_ios)/2,\n",
    "                            \"same_point_distances\": filtered_df.same_point_distances}, index=np.array(filtered_df.ts_android))\n",
    "    return combined_df"
   ]
  },
  {
   "cell_type": "code",
   "execution_count": 174,
   "metadata": {
    "collapsed": false
   },
   "outputs": [
    {
     "data": {
      "text/plain": [
       "start_ts                            1459448055.125\n",
       "start_fmt_time    2016-03-31T11:14:15.125000-07:00\n",
       "end_ts                              1459456368.010\n",
       "end_fmt_time      2016-03-31T13:32:48.010000-07:00\n",
       "state                                       moving\n",
       "android_regime        high-v-balanced+1sec-v-30sec\n",
       "ios_regime                     best-v-10m+1m-v-30m\n",
       "Name: 20, dtype: object"
      ]
     },
     "execution_count": 174,
     "metadata": {},
     "output_type": "execute_result"
    }
   ],
   "source": [
    "ranges_df.iloc[20]"
   ]
  },
  {
   "cell_type": "code",
   "execution_count": 175,
   "metadata": {
    "collapsed": false
   },
   "outputs": [
    {
     "name": "stderr",
     "output_type": "stream",
     "text": [
      "DEBUG:root:curr_query = {'$or': [{'metadata.key': 'background/location'}], 'metadata.write_ts': {'$gte': 1459449090.2750001, '$lt': 1459451850.2750001}, 'user_id': UUID('e471711e-bd14-3dbe-80b6-9c7d92ecc296')}, sort_key = metadata.write_ts\n",
      "DEBUG:root:Found 2408 results\n",
      "DEBUG:root:curr_query = {'$or': [{'metadata.key': 'background/location'}], 'metadata.write_ts': {'$gte': 1459449090.2750001, '$lt': 1459451850.2750001}, 'user_id': UUID('079e0f1a-c440-3d7c-b0e7-de160f748e35')}, sort_key = metadata.write_ts\n",
      "DEBUG:root:Found 1216 results\n"
     ]
    }
   ],
   "source": [
    "potential_ground_truth_31_out = get_ground_truth(android_ts[0], iphone_ts[0], caltrain_df.iloc[1].start_ts, caltrain_df.iloc[1].end_ts)"
   ]
  },
  {
   "cell_type": "code",
   "execution_count": 176,
   "metadata": {
    "collapsed": false
   },
   "outputs": [],
   "source": [
    "def calDistanceGround(row):\n",
    "    return pf.calDistance(ad.AttrDict({\"latitude\": row['latitude_ground'], \"longitude\": row['longitude_ground']}),\n",
    "                          ad.AttrDict({\"latitude\": row['latitude_compare'], \"longitude\": row['longitude_compare']}))"
   ]
  },
  {
   "cell_type": "code",
   "execution_count": 177,
   "metadata": {
    "collapsed": false
   },
   "outputs": [],
   "source": [
    "def compare_trajectories(ground_truth_df, compare_df):\n",
    "    joined_df = ground_truth_df.join(compare_df, how='inner', lsuffix=\"_ground\", rsuffix=\"_compare\")\n",
    "    joined_df['compare_distance'] = joined_df.apply(calDistanceGround, axis=1)\n",
    "    return joined_df"
   ]
  },
  {
   "cell_type": "code",
   "execution_count": 178,
   "metadata": {
    "collapsed": false
   },
   "outputs": [
    {
     "data": {
      "text/html": [
       "<div style=\"max-width:1500px;overflow:auto;\">\n",
       "<table border=\"1\" class=\"dataframe\">\n",
       "  <thead>\n",
       "    <tr style=\"text-align: right;\">\n",
       "      <th></th>\n",
       "      <th>fmt_time_ground</th>\n",
       "      <th>latitude_ground</th>\n",
       "      <th>longitude_ground</th>\n",
       "      <th>ts_ground</th>\n",
       "      <th>fmt_time_compare</th>\n",
       "      <th>latitude_compare</th>\n",
       "      <th>longitude_compare</th>\n",
       "      <th>same_point_distances</th>\n",
       "      <th>ts_compare</th>\n",
       "      <th>compare_distance</th>\n",
       "    </tr>\n",
       "  </thead>\n",
       "  <tbody>\n",
       "    <tr>\n",
       "      <th>1459449178</th>\n",
       "      <td>2016-03-31T11:32:58</td>\n",
       "      <td>37.399</td>\n",
       "      <td>-122.088</td>\n",
       "      <td>1459449178</td>\n",
       "      <td>2016-03-31T11:32:58</td>\n",
       "      <td>37.406</td>\n",
       "      <td>-122.104</td>\n",
       "      <td>18.290</td>\n",
       "      <td>1459449178</td>\n",
       "      <td>1609.836</td>\n",
       "    </tr>\n",
       "    <tr>\n",
       "      <th>1459449179</th>\n",
       "      <td>2016-03-31T11:32:59</td>\n",
       "      <td>37.399</td>\n",
       "      <td>-122.088</td>\n",
       "      <td>1459449179</td>\n",
       "      <td>2016-03-31T11:32:59</td>\n",
       "      <td>37.406</td>\n",
       "      <td>-122.104</td>\n",
       "      <td>32.845</td>\n",
       "      <td>1459449179</td>\n",
       "      <td>1605.123</td>\n",
       "    </tr>\n",
       "    <tr>\n",
       "      <th>1459449237</th>\n",
       "      <td>2016-03-31T11:33:57</td>\n",
       "      <td>37.403</td>\n",
       "      <td>-122.096</td>\n",
       "      <td>1459449237</td>\n",
       "      <td>2016-03-31T11:33:57</td>\n",
       "      <td>37.408</td>\n",
       "      <td>-122.108</td>\n",
       "      <td>35.773</td>\n",
       "      <td>1459449237</td>\n",
       "      <td>1214.160</td>\n",
       "    </tr>\n",
       "    <tr>\n",
       "      <th>1459449238</th>\n",
       "      <td>2016-03-31T11:33:58</td>\n",
       "      <td>37.403</td>\n",
       "      <td>-122.096</td>\n",
       "      <td>1459449238</td>\n",
       "      <td>2016-03-31T11:33:58</td>\n",
       "      <td>37.408</td>\n",
       "      <td>-122.108</td>\n",
       "      <td>20.886</td>\n",
       "      <td>1459449238</td>\n",
       "      <td>1217.326</td>\n",
       "    </tr>\n",
       "    <tr>\n",
       "      <th>1459449239</th>\n",
       "      <td>2016-03-31T11:33:59</td>\n",
       "      <td>37.403</td>\n",
       "      <td>-122.096</td>\n",
       "      <td>1459449239</td>\n",
       "      <td>2016-03-31T11:33:59</td>\n",
       "      <td>37.408</td>\n",
       "      <td>-122.108</td>\n",
       "      <td>21.112</td>\n",
       "      <td>1459449239</td>\n",
       "      <td>1204.081</td>\n",
       "    </tr>\n",
       "  </tbody>\n",
       "</table>\n",
       "</div>"
      ],
      "text/plain": [
       "                fmt_time_ground  latitude_ground  longitude_ground  \\\n",
       "1459449178  2016-03-31T11:32:58           37.399          -122.088   \n",
       "1459449179  2016-03-31T11:32:59           37.399          -122.088   \n",
       "1459449237  2016-03-31T11:33:57           37.403          -122.096   \n",
       "1459449238  2016-03-31T11:33:58           37.403          -122.096   \n",
       "1459449239  2016-03-31T11:33:59           37.403          -122.096   \n",
       "\n",
       "             ts_ground     fmt_time_compare  latitude_compare  \\\n",
       "1459449178  1459449178  2016-03-31T11:32:58            37.406   \n",
       "1459449179  1459449179  2016-03-31T11:32:59            37.406   \n",
       "1459449237  1459449237  2016-03-31T11:33:57            37.408   \n",
       "1459449238  1459449238  2016-03-31T11:33:58            37.408   \n",
       "1459449239  1459449239  2016-03-31T11:33:59            37.408   \n",
       "\n",
       "            longitude_compare  same_point_distances  ts_compare  \\\n",
       "1459449178           -122.104                18.290  1459449178   \n",
       "1459449179           -122.104                32.845  1459449179   \n",
       "1459449237           -122.108                35.773  1459449237   \n",
       "1459449238           -122.108                20.886  1459449238   \n",
       "1459449239           -122.108                21.112  1459449239   \n",
       "\n",
       "            compare_distance  \n",
       "1459449178          1609.836  \n",
       "1459449179          1605.123  \n",
       "1459449237          1214.160  \n",
       "1459449238          1217.326  \n",
       "1459449239          1204.081  "
      ]
     },
     "execution_count": 178,
     "metadata": {},
     "output_type": "execute_result"
    }
   ],
   "source": [
    "compare_ground_truth_31_out = compare_trajectories(ground_truth_df, potential_ground_truth_31_out)\n",
    "compare_ground_truth_31_out.head()"
   ]
  },
  {
   "cell_type": "code",
   "execution_count": 179,
   "metadata": {
    "collapsed": false
   },
   "outputs": [
    {
     "data": {
      "image/png": "[encoded data removed]",
      "text/plain": [
       "<matplotlib.figure.Figure at 0x114305b50>"
      ]
     },
     "metadata": {},
     "output_type": "display_data"
    }
   ],
   "source": [
    "ax = compare_ground_truth_31_out.compare_distance.plot(kind='hist', bins=100, figsize=(16,4))\n",
    "ticks_list = ax.set_xticks(np.arange(0,1800,50))"
   ]
  },
  {
   "cell_type": "code",
   "execution_count": 181,
   "metadata": {
    "collapsed": false
   },
   "outputs": [],
   "source": [
    "import emission.analysis.plotting.leaflet_osm.our_plotter as lo\n",
    "import emission.analysis.plotting.geojson.geojson_feature_converter as gfc\n",
    "import emission.analysis.plotting.leaflet_osm.ipython_helper as ipy"
   ]
  },
  {
   "cell_type": "code",
   "execution_count": 192,
   "metadata": {
    "collapsed": false
   },
   "outputs": [
    {
     "data": {
      "text/plain": [
       "<module 'emission.analysis.plotting.geojson.geojson_feature_converter' from '/Users/shankari/e-mission/e-mission-server/emission/analysis/plotting/geojson/geojson_feature_converter.py'>"
      ]
     },
     "execution_count": 192,
     "metadata": {},
     "output_type": "execute_result"
    }
   ],
   "source": [
    "reload(gfc)"
   ]
  },
  {
   "cell_type": "code",
   "execution_count": 193,
   "metadata": {
    "collapsed": false
   },
   "outputs": [
    {
     "name": "stderr",
     "output_type": "stream",
     "text": [
      "DEBUG:root:Getting midpoint of (-122.08772523290386, 37.3993932622863) and (-122.14360312874129, 37.430367914577836)\n"
     ]
    },
    {
     "name": "stdout",
     "output_type": "stream",
     "text": [
      "Found 100 points\n",
      "Found 100 points"
     ]
    },
    {
     "name": "stderr",
     "output_type": "stream",
     "text": [
      "DEBUG:root:Getting midpoint of (-122.10409144304808, 37.40576289625469) and (-122.14161997783795, 37.42910881912644)\n"
     ]
    },
    {
     "name": "stdout",
     "output_type": "stream",
     "text": [
      "\n"
     ]
    },
    {
     "data": {
      "text/html": [
       "<iframe srcdoc=\"<table width=&quot;100%&quot;>\n",
       "<tr><td>&lt;iframe srcdoc=&quot;&lt;!DOCTYPE html&gt;\n",
       "&lt;head&gt;\n",
       "   &lt;meta http-equiv=&amp;quot;content-type&amp;quot; content=&amp;quot;text/html; charset=UTF-8&amp;quot; /&gt;\n",
       "   &lt;link rel=&amp;quot;stylesheet&amp;quot; href=&amp;quot;https://cdnjs.cloudflare.com/ajax/libs/leaflet/0.7.3/leaflet.css&amp;quot; /&gt;\n",
       "   &lt;script src=&amp;quot;https://cdnjs.cloudflare.com/ajax/libs/leaflet/0.7.3/leaflet.js&amp;quot;&gt;&lt;/script&gt;\n",
       "\n",
       "   &lt;script src=&amp;quot;https://ajax.googleapis.com/ajax/libs/jquery/1.11.1/jquery.min.js&amp;quot;&gt;&lt;/script&gt;\n",
       "\n",
       "   &lt;link rel=&amp;quot;stylesheet&amp;quot; href=&amp;quot;https://maxcdn.bootstrapcdn.com/bootstrap/3.2.0/css/bootstrap.min.css&amp;quot;&gt;\n",
       "   &lt;link rel=&amp;quot;stylesheet&amp;quot; href=&amp;quot;https://maxcdn.bootstrapcdn.com/bootstrap/3.2.0/css/bootstrap-theme.min.css&amp;quot;&gt;\n",
       "   &lt;script src=&amp;quot;https://maxcdn.bootstrapcdn.com/bootstrap/3.2.0/js/bootstrap.min.js&amp;quot;&gt;&lt;/script&gt;\n",
       "\n",
       "   &lt;link href=&amp;quot;https://maxcdn.bootstrapcdn.com/font-awesome/4.1.0/css/font-awesome.min.css&amp;quot; rel=&amp;quot;stylesheet&amp;quot;&gt;\n",
       "\n",
       "   &lt;link rel=&amp;quot;stylesheet&amp;quot; href=&amp;quot;https://rawgit.com/lvoogdt/Leaflet.awesome-markers/2.0/develop/dist/leaflet.awesome-markers.css&amp;quot;&gt;\n",
       "   &lt;script src=&amp;quot;https://rawgithub.com/lvoogdt/Leaflet.awesome-markers/2.0/develop/dist/leaflet.awesome-markers.js&amp;quot;&gt;&lt;/script&gt;\n",
       "\n",
       "\n",
       "   &lt;link rel=&amp;quot;stylesheet&amp;quot; href=&amp;quot;https://cdnjs.cloudflare.com/ajax/libs/leaflet.markercluster/0.4.0/MarkerCluster.Default.css&amp;quot;&gt;\n",
       "   &lt;link rel=&amp;quot;stylesheet&amp;quot; href=&amp;quot;https://cdnjs.cloudflare.com/ajax/libs/leaflet.markercluster/0.4.0/MarkerCluster.css&amp;quot;&gt;\n",
       "   &lt;script src=&amp;quot;https://cdnjs.cloudflare.com/ajax/libs/leaflet.markercluster/0.4.0/leaflet.markercluster-src.js&amp;quot;&gt;&lt;/script&gt;\n",
       "   &lt;script src=&amp;quot;https://cdnjs.cloudflare.com/ajax/libs/leaflet.markercluster/0.4.0/leaflet.markercluster.js&amp;quot;&gt;&lt;/script&gt;\n",
       "\n",
       "   &lt;link rel=&amp;quot;stylesheet&amp;quot; href=&amp;quot;https://raw.githubusercontent.com/python-visualization/folium/master/folium/templates/leaflet.awesome.rotate.css&amp;quot;&gt;\n",
       "\n",
       "    \n",
       "        \n",
       "        \n",
       "            \n",
       "    \n",
       "        &lt;link rel=&amp;quot;stylesheet&amp;quot; href=&amp;quot;http://code.ionicframework.com/ionicons/1.5.2/css/ionicons.min.css&amp;quot;&gt;\n",
       "    \n",
       "\n",
       "            \n",
       "        \n",
       "    \n",
       "\n",
       "   \n",
       "   \n",
       "   \n",
       "   \n",
       "\n",
       "   &lt;style&gt;\n",
       "\n",
       "      html, body {\n",
       "        width: 100%;\n",
       "        height: 100%;\n",
       "        margin: 0;\n",
       "        padding: 0;\n",
       "      }\n",
       "\n",
       "      #map {\n",
       "        position:absolute;\n",
       "        top:0;\n",
       "        bottom:0;\n",
       "        right:0;\n",
       "        left:0;\n",
       "      }\n",
       "\n",
       "    \n",
       "        \n",
       "        \n",
       "            \n",
       "            \n",
       "        \n",
       "    \n",
       "\n",
       "   &lt;/style&gt;\n",
       "&lt;/head&gt;\n",
       "\n",
       "&lt;body&gt;\n",
       "\n",
       "   &lt;div class=&amp;quot;folium-map&amp;quot; id=&amp;quot;folium_b067f358c12f468aad8ff53de6544199&amp;quot; style=&amp;quot;width: 100%; height: 100%&amp;quot;&gt;&lt;/div&gt;\n",
       "\n",
       "    \n",
       "        \n",
       "        \n",
       "            \n",
       "            \n",
       "        \n",
       "    \n",
       "\n",
       "   &lt;script&gt;\n",
       "\n",
       "      \n",
       "\n",
       "      var base_tile = L.tileLayer('https://{s}.tile.openstreetmap.org/{z}/{x}/{y}.png', {\n",
       "          maxZoom: 18,\n",
       "          minZoom: 1,\n",
       "          attribution: 'Map data (c) &lt;a href=&amp;quot;http://openstreetmap.org&amp;quot;&gt;OpenStreetMap&lt;/a&gt; contributors'\n",
       "      });\n",
       "\n",
       "      var baseLayer = {\n",
       "        &amp;quot;Base Layer&amp;quot;: base_tile\n",
       "      };\n",
       "\n",
       "      /*\n",
       "      addition of the wms layers\n",
       "      */\n",
       "\n",
       "      \n",
       "\n",
       "      /*\n",
       "      addition of the tile layers\n",
       "      */\n",
       "      \n",
       "\n",
       "      /*\n",
       "      list of layers to be added\n",
       "      */\n",
       "      var layer_list = {\n",
       "      \n",
       "      };\n",
       "\n",
       "      /*\n",
       "      Bounding box.\n",
       "      */\n",
       "      var southWest = L.latLng(-90, -180),\n",
       "          northEast = L.latLng(90, 180),\n",
       "          bounds = L.latLngBounds(southWest, northEast);\n",
       "\n",
       "      /*\n",
       "      Creates the map and adds the selected layers\n",
       "      */\n",
       "      var map = L.map('folium_b067f358c12f468aad8ff53de6544199', {\n",
       "                                       center:[37.4148805884, -122.115664181],\n",
       "                                       zoom: 10,\n",
       "                                       maxBounds: bounds,\n",
       "                                       layers: [base_tile]\n",
       "                                     });\n",
       "\n",
       "      // L.control.layers(baseLayer, layer_list).addTo(map);\n",
       "\n",
       "      /*\n",
       "      addition of the image layers\n",
       "      */\n",
       "      \n",
       "\n",
       "      //cluster group\n",
       "      var clusteredmarkers = L.markerClusterGroup();\n",
       "      //section for adding clustered markers\n",
       "      \n",
       "      //add the clustered markers to the group anyway\n",
       "      map.addLayer(clusteredmarkers);\n",
       "\n",
       "      \n",
       "\n",
       "      \n",
       "\n",
       "      \n",
       "\n",
       "      \n",
       "\n",
       "      \n",
       "\n",
       "      \n",
       "\n",
       "      \n",
       "\n",
       "\n",
       "\n",
       "    \n",
       "        \n",
       "        \n",
       "            \n",
       "    \n",
       "          function style_feature(feature) {\n",
       "            switch(feature.properties.feature_type) {\n",
       "                case &amp;quot;section&amp;quot;: return style_section(feature);\n",
       "                case &amp;quot;stop&amp;quot;: return style_stop(feature);\n",
       "                default: return {}\n",
       "            }\n",
       "          }\n",
       "\n",
       "          function onEachFeature(feature, layer) {\n",
       "            switch(feature.properties.feature_type) {\n",
       "                case &amp;quot;stop&amp;quot;: layer.bindPopup(&amp;quot;&amp;quot;+feature.properties.duration); break;\n",
       "                case &amp;quot;start_place&amp;quot;: layer.bindPopup(feature.properties.exit_fmt_time); break;\n",
       "                case &amp;quot;end_place&amp;quot;: layer.bindPopup(feature.properties.enter_fmt_time); break;\n",
       "                case &amp;quot;section&amp;quot;: layer.bindPopup(getHumanReadable(feature.properties.sensed_mode)); break;\n",
       "                case &amp;quot;location&amp;quot;: layer.bindPopup(JSON.stringify(feature.properties)); break\n",
       "            }\n",
       "          }\n",
       "\n",
       "          function getHumanReadable(sensed_mode) {\n",
       "            ret_string = sensed_mode.split('.')[1]\n",
       "            if(ret_string == 'ON_FOOT') {\n",
       "                return 'WALKING';\n",
       "            } else {\n",
       "                return ret_string;\n",
       "            }\n",
       "          }\n",
       "\n",
       "          function getColoredStyle(baseDict, color) {\n",
       "            baseDict.color = color\n",
       "            return baseDict\n",
       "          }\n",
       "\n",
       "          function style_section(feature) {\n",
       "            var baseDict = {\n",
       "                    weight: 5,\n",
       "                    opacity: 1,\n",
       "            };\n",
       "            mode_string = getHumanReadable(feature.properties.sensed_mode);\n",
       "            switch(mode_string) {\n",
       "                case &amp;quot;WALKING&amp;quot;: return getColoredStyle(baseDict, 'brown');\n",
       "                case &amp;quot;BICYCLING&amp;quot;: return getColoredStyle(baseDict, 'green');\n",
       "                case &amp;quot;TRANSPORT&amp;quot;: return getColoredStyle(baseDict, 'red');\n",
       "                default: return getColoredStyle(baseDict, 'black');\n",
       "            }\n",
       "          }\n",
       "\n",
       "          function style_stop(feature) {\n",
       "            return {fillColor: 'yellow', fillOpacity: 0.8};\n",
       "          }\n",
       "\n",
       "          var pointIcon = L.divIcon({className: 'leaflet-div-icon', iconSize: [5, 5]});\n",
       "\n",
       "          var startMarker = L.AwesomeMarkers.icon({\n",
       "            icon: 'play',\n",
       "            prefix: 'ion',\n",
       "            markerColor: 'green'\n",
       "          });\n",
       "\n",
       "          var stopMarker = L.AwesomeMarkers.icon({\n",
       "            icon: 'stop',\n",
       "            prefix: 'ion',\n",
       "            markerColor: 'red'\n",
       "          });\n",
       "\n",
       "          function pointFormat(feature, latlng) {\n",
       "            switch(feature.properties.feature_type) {\n",
       "                case &amp;quot;start_place&amp;quot;: return L.marker(latlng, {icon: startMarker})\n",
       "                case &amp;quot;end_place&amp;quot;: return L.marker(latlng, {icon: stopMarker})\n",
       "                case &amp;quot;stop&amp;quot;: return L.circleMarker(latlng)\n",
       "                case &amp;quot;location&amp;quot;: return L.marker(latlng, {icon: pointIcon})\n",
       "                default: alert(&amp;quot;Found unknown type in feature&amp;quot;  + feature); return L.marker(latlng)\n",
       "            }\n",
       "          }\n",
       "    \n",
       "\n",
       "    var gjson_layer_0 = L.geoJson({&amp;quot;type&amp;quot;: &amp;quot;FeatureCollection&amp;quot;, &amp;quot;features&amp;quot;: [{&amp;quot;type&amp;quot;: &amp;quot;FeatureCollection&amp;quot;, &amp;quot;features&amp;quot;: [{&amp;quot;geometry&amp;quot;: {&amp;quot;type&amp;quot;: &amp;quot;Point&amp;quot;, &amp;quot;coordinates&amp;quot;: [-122.08772523290386, 37.3993932622863]}, &amp;quot;type&amp;quot;: &amp;quot;Feature&amp;quot;, &amp;quot;id&amp;quot;: &amp;quot;1459449178&amp;quot;, &amp;quot;properties&amp;quot;: {&amp;quot;feature_type&amp;quot;: &amp;quot;location&amp;quot;, &amp;quot;fmt_time&amp;quot;: &amp;quot;2016-03-31T11:32:58&amp;quot;, &amp;quot;latitude&amp;quot;: 37.3993932622863, &amp;quot;ts&amp;quot;: 1459449178, &amp;quot;longitude&amp;quot;: -122.08772523290386}}, {&amp;quot;geometry&amp;quot;: {&amp;quot;type&amp;quot;: &amp;quot;Point&amp;quot;, &amp;quot;coordinates&amp;quot;: [-122.08785941623721, 37.39944952061963]}, &amp;quot;type&amp;quot;: &amp;quot;Feature&amp;quot;, &amp;quot;id&amp;quot;: &amp;quot;1459449179&amp;quot;, &amp;quot;properties&amp;quot;: {&amp;quot;feature_type&amp;quot;: &amp;quot;location&amp;quot;, &amp;quot;fmt_time&amp;quot;: &amp;quot;2016-03-31T11:32:59&amp;quot;, &amp;quot;latitude&amp;quot;: 37.39944952061963, &amp;quot;ts&amp;quot;: 1459449179, &amp;quot;longitude&amp;quot;: -122.08785941623721}}, {&amp;quot;geometry&amp;quot;: {&amp;quot;type&amp;quot;: &amp;quot;Point&amp;quot;, &amp;quot;coordinates&amp;quot;: [-122.09564204957054, 37.40271250395297]}, &amp;quot;type&amp;quot;: &amp;quot;Feature&amp;quot;, &amp;quot;id&amp;quot;: &amp;quot;1459449237&amp;quot;, &amp;quot;properties&amp;quot;: {&amp;quot;feature_type&amp;quot;: &amp;quot;location&amp;quot;, &amp;quot;fmt_time&amp;quot;: &amp;quot;2016-03-31T11:33:57&amp;quot;, &amp;quot;latitude&amp;quot;: 37.40271250395297, &amp;quot;ts&amp;quot;: 1459449237, &amp;quot;longitude&amp;quot;: -122.09564204957054}}, {&amp;quot;geometry&amp;quot;: {&amp;quot;type&amp;quot;: &amp;quot;Point&amp;quot;, &amp;quot;coordinates&amp;quot;: [-122.09577623290387, 37.4027687622863]}, &amp;quot;type&amp;quot;: &amp;quot;Feature&amp;quot;, &amp;quot;id&amp;quot;: &amp;quot;1459449238&amp;quot;, &amp;quot;properties&amp;quot;: {&amp;quot;feature_type&amp;quot;: &amp;quot;location&amp;quot;, &amp;quot;fmt_time&amp;quot;: &amp;quot;2016-03-31T11:33:58&amp;quot;, &amp;quot;latitude&amp;quot;: 37.4027687622863, &amp;quot;ts&amp;quot;: 1459449238, &amp;quot;longitude&amp;quot;: -122.09577623290387}}, {&amp;quot;geometry&amp;quot;: {&amp;quot;type&amp;quot;: &amp;quot;Point&amp;quot;, &amp;quot;coordinates&amp;quot;: [-122.0959104162372, 37.40282502061964]}, &amp;quot;type&amp;quot;: &amp;quot;Feature&amp;quot;, &amp;quot;id&amp;quot;: &amp;quot;1459449239&amp;quot;, &amp;quot;properties&amp;quot;: {&amp;quot;feature_type&amp;quot;: &amp;quot;location&amp;quot;, &amp;quot;fmt_time&amp;quot;: &amp;quot;2016-03-31T11:33:59&amp;quot;, &amp;quot;latitude&amp;quot;: 37.40282502061964, &amp;quot;ts&amp;quot;: 1459449239, &amp;quot;longitude&amp;quot;: -122.0959104162372}}, {&amp;quot;geometry&amp;quot;: {&amp;quot;type&amp;quot;: &amp;quot;Point&amp;quot;, &amp;quot;coordinates&amp;quot;: [-122.09604459957053, 37.40288127895297]}, &amp;quot;type&amp;quot;: &amp;quot;Feature&amp;quot;, &amp;quot;id&amp;quot;: &amp;quot;1459449240&amp;quot;, &amp;quot;properties&amp;quot;: {&amp;quot;feature_type&amp;quot;: &amp;quot;location&amp;quot;, &amp;quot;fmt_time&amp;quot;: &amp;quot;2016-03-31T11:34:00&amp;quot;, &amp;quot;latitude&amp;quot;: 37.40288127895297, &amp;quot;ts&amp;quot;: 1459449240, &amp;quot;longitude&amp;quot;: -122.09604459957053}}, {&amp;quot;geometry&amp;quot;: {&amp;quot;type&amp;quot;: &amp;quot;Point&amp;quot;, &amp;quot;coordinates&amp;quot;: [-122.09617878290388, 37.402937537286306]}, &amp;quot;type&amp;quot;: &amp;quot;Feature&amp;quot;, &amp;quot;id&amp;quot;: &amp;quot;1459449241&amp;quot;, &amp;quot;properties&amp;quot;: {&amp;quot;feature_type&amp;quot;: &amp;quot;location&amp;quot;, &amp;quot;fmt_time&amp;quot;: &amp;quot;2016-03-31T11:34:01&amp;quot;, &amp;quot;latitude&amp;quot;: 37.402937537286306, &amp;quot;ts&amp;quot;: 1459449241, &amp;quot;longitude&amp;quot;: -122.09617878290388}}, {&amp;quot;geometry&amp;quot;: {&amp;quot;type&amp;quot;: &amp;quot;Point&amp;quot;, &amp;quot;coordinates&amp;quot;: [-122.0963129662372, 37.402993795619636]}, &amp;quot;type&amp;quot;: &amp;quot;Feature&amp;quot;, &amp;quot;id&amp;quot;: &amp;quot;1459449242&amp;quot;, &amp;quot;properties&amp;quot;: {&amp;quot;feature_type&amp;quot;: &amp;quot;location&amp;quot;, &amp;quot;fmt_time&amp;quot;: &amp;quot;2016-03-31T11:34:02&amp;quot;, &amp;quot;latitude&amp;quot;: 37.402993795619636, &amp;quot;ts&amp;quot;: 1459449242, &amp;quot;longitude&amp;quot;: -122.0963129662372}}, {&amp;quot;geometry&amp;quot;: {&amp;quot;type&amp;quot;: &amp;quot;Point&amp;quot;, &amp;quot;coordinates&amp;quot;: [-122.09644714957054, 37.40305005395297]}, &amp;quot;type&amp;quot;: &amp;quot;Feature&amp;quot;, &amp;quot;id&amp;quot;: &amp;quot;1459449243&amp;quot;, &amp;quot;properties&amp;quot;: {&amp;quot;feature_type&amp;quot;: &amp;quot;location&amp;quot;, &amp;quot;fmt_time&amp;quot;: &amp;quot;2016-03-31T11:34:03&amp;quot;, &amp;quot;latitude&amp;quot;: 37.40305005395297, &amp;quot;ts&amp;quot;: 1459449243, &amp;quot;longitude&amp;quot;: -122.09644714957054}}, {&amp;quot;geometry&amp;quot;: {&amp;quot;type&amp;quot;: &amp;quot;Point&amp;quot;, &amp;quot;coordinates&amp;quot;: [-122.09658133290387, 37.403106312286305]}, &amp;quot;type&amp;quot;: &amp;quot;Feature&amp;quot;, &amp;quot;id&amp;quot;: &amp;quot;1459449244&amp;quot;, &amp;quot;properties&amp;quot;: {&amp;quot;feature_type&amp;quot;: &amp;quot;location&amp;quot;, &amp;quot;fmt_time&amp;quot;: &amp;quot;2016-03-31T11:34:04&amp;quot;, &amp;quot;latitude&amp;quot;: 37.403106312286305, &amp;quot;ts&amp;quot;: 1459449244, &amp;quot;longitude&amp;quot;: -122.09658133290387}}, {&amp;quot;geometry&amp;quot;: {&amp;quot;type&amp;quot;: &amp;quot;Point&amp;quot;, &amp;quot;coordinates&amp;quot;: [-122.09671551623721, 37.403162570619635]}, &amp;quot;type&amp;quot;: &amp;quot;Feature&amp;quot;, &amp;quot;id&amp;quot;: &amp;quot;1459449245&amp;quot;, &amp;quot;properties&amp;quot;: {&amp;quot;feature_type&amp;quot;: &amp;quot;location&amp;quot;, &amp;quot;fmt_time&amp;quot;: &amp;quot;2016-03-31T11:34:05&amp;quot;, &amp;quot;latitude&amp;quot;: 37.403162570619635, &amp;quot;ts&amp;quot;: 1459449245, &amp;quot;longitude&amp;quot;: -122.09671551623721}}, {&amp;quot;geometry&amp;quot;: {&amp;quot;type&amp;quot;: &amp;quot;Point&amp;quot;, &amp;quot;coordinates&amp;quot;: [-122.09684969957054, 37.40321882895297]}, &amp;quot;type&amp;quot;: &amp;quot;Feature&amp;quot;, &amp;quot;id&amp;quot;: &amp;quot;1459449246&amp;quot;, &amp;quot;properties&amp;quot;: {&amp;quot;feature_type&amp;quot;: &amp;quot;location&amp;quot;, &amp;quot;fmt_time&amp;quot;: &amp;quot;2016-03-31T11:34:06&amp;quot;, &amp;quot;latitude&amp;quot;: 37.40321882895297, &amp;quot;ts&amp;quot;: 1459449246, &amp;quot;longitude&amp;quot;: -122.09684969957054}}, {&amp;quot;geometry&amp;quot;: {&amp;quot;type&amp;quot;: &amp;quot;Point&amp;quot;, &amp;quot;coordinates&amp;quot;: [-122.09698388290387, 37.4032750872863]}, &amp;quot;type&amp;quot;: &amp;quot;Feature&amp;quot;, &amp;quot;id&amp;quot;: &amp;quot;1459449247&amp;quot;, &amp;quot;properties&amp;quot;: {&amp;quot;feature_type&amp;quot;: &amp;quot;location&amp;quot;, &amp;quot;fmt_time&amp;quot;: &amp;quot;2016-03-31T11:34:07&amp;quot;, &amp;quot;latitude&amp;quot;: 37.4032750872863, &amp;quot;ts&amp;quot;: 1459449247, &amp;quot;longitude&amp;quot;: -122.09698388290387}}, {&amp;quot;geometry&amp;quot;: {&amp;quot;type&amp;quot;: &amp;quot;Point&amp;quot;, &amp;quot;coordinates&amp;quot;: [-122.0971180662372, 37.403331345619634]}, &amp;quot;type&amp;quot;: &amp;quot;Feature&amp;quot;, &amp;quot;id&amp;quot;: &amp;quot;1459449248&amp;quot;, &amp;quot;properties&amp;quot;: {&amp;quot;feature_type&amp;quot;: &amp;quot;location&amp;quot;, &amp;quot;fmt_time&amp;quot;: &amp;quot;2016-03-31T11:34:08&amp;quot;, &amp;quot;latitude&amp;quot;: 37.403331345619634, &amp;quot;ts&amp;quot;: 1459449248, &amp;quot;longitude&amp;quot;: -122.0971180662372}}, {&amp;quot;geometry&amp;quot;: {&amp;quot;type&amp;quot;: &amp;quot;Point&amp;quot;, &amp;quot;coordinates&amp;quot;: [-122.09725224957053, 37.40338760395297]}, &amp;quot;type&amp;quot;: &amp;quot;Feature&amp;quot;, &amp;quot;id&amp;quot;: &amp;quot;1459449249&amp;quot;, &amp;quot;properties&amp;quot;: {&amp;quot;feature_type&amp;quot;: &amp;quot;location&amp;quot;, &amp;quot;fmt_time&amp;quot;: &amp;quot;2016-03-31T11:34:09&amp;quot;, &amp;quot;latitude&amp;quot;: 37.40338760395297, &amp;quot;ts&amp;quot;: 1459449249, &amp;quot;longitude&amp;quot;: -122.09725224957053}}, {&amp;quot;geometry&amp;quot;: {&amp;quot;type&amp;quot;: &amp;quot;Point&amp;quot;, &amp;quot;coordinates&amp;quot;: [-122.09738643290387, 37.4034438622863]}, &amp;quot;type&amp;quot;: &amp;quot;Feature&amp;quot;, &amp;quot;id&amp;quot;: &amp;quot;1459449250&amp;quot;, &amp;quot;properties&amp;quot;: {&amp;quot;feature_type&amp;quot;: &amp;quot;location&amp;quot;, &amp;quot;fmt_time&amp;quot;: &amp;quot;2016-03-31T11:34:10&amp;quot;, &amp;quot;latitude&amp;quot;: 37.4034438622863, &amp;quot;ts&amp;quot;: 1459449250, &amp;quot;longitude&amp;quot;: -122.09738643290387}}, {&amp;quot;geometry&amp;quot;: {&amp;quot;type&amp;quot;: &amp;quot;Point&amp;quot;, &amp;quot;coordinates&amp;quot;: [-122.0975206162372, 37.40350012061964]}, &amp;quot;type&amp;quot;: &amp;quot;Feature&amp;quot;, &amp;quot;id&amp;quot;: &amp;quot;1459449251&amp;quot;, &amp;quot;properties&amp;quot;: {&amp;quot;feature_type&amp;quot;: &amp;quot;location&amp;quot;, &amp;quot;fmt_time&amp;quot;: &amp;quot;2016-03-31T11:34:11&amp;quot;, &amp;quot;latitude&amp;quot;: 37.40350012061964, &amp;quot;ts&amp;quot;: 1459449251, &amp;quot;longitude&amp;quot;: -122.0975206162372}}, {&amp;quot;geometry&amp;quot;: {&amp;quot;type&amp;quot;: &amp;quot;Point&amp;quot;, &amp;quot;coordinates&amp;quot;: [-122.09765479957053, 37.40355637895297]}, &amp;quot;type&amp;quot;: &amp;quot;Feature&amp;quot;, &amp;quot;id&amp;quot;: &amp;quot;1459449252&amp;quot;, &amp;quot;properties&amp;quot;: {&amp;quot;feature_type&amp;quot;: &amp;quot;location&amp;quot;, &amp;quot;fmt_time&amp;quot;: &amp;quot;2016-03-31T11:34:12&amp;quot;, &amp;quot;latitude&amp;quot;: 37.40355637895297, &amp;quot;ts&amp;quot;: 1459449252, &amp;quot;longitude&amp;quot;: -122.09765479957053}}, {&amp;quot;geometry&amp;quot;: {&amp;quot;type&amp;quot;: &amp;quot;Point&amp;quot;, &amp;quot;coordinates&amp;quot;: [-122.09778898290386, 37.4036126372863]}, &amp;quot;type&amp;quot;: &amp;quot;Feature&amp;quot;, &amp;quot;id&amp;quot;: &amp;quot;1459449253&amp;quot;, &amp;quot;properties&amp;quot;: {&amp;quot;feature_type&amp;quot;: &amp;quot;location&amp;quot;, &amp;quot;fmt_time&amp;quot;: &amp;quot;2016-03-31T11:34:13&amp;quot;, &amp;quot;latitude&amp;quot;: 37.4036126372863, &amp;quot;ts&amp;quot;: 1459449253, &amp;quot;longitude&amp;quot;: -122.09778898290386}}, {&amp;quot;geometry&amp;quot;: {&amp;quot;type&amp;quot;: &amp;quot;Point&amp;quot;, &amp;quot;coordinates&amp;quot;: [-122.09792316623721, 37.40366889561964]}, &amp;quot;type&amp;quot;: &amp;quot;Feature&amp;quot;, &amp;quot;id&amp;quot;: &amp;quot;1459449254&amp;quot;, &amp;quot;properties&amp;quot;: {&amp;quot;feature_type&amp;quot;: &amp;quot;location&amp;quot;, &amp;quot;fmt_time&amp;quot;: &amp;quot;2016-03-31T11:34:14&amp;quot;, &amp;quot;latitude&amp;quot;: 37.40366889561964, &amp;quot;ts&amp;quot;: 1459449254, &amp;quot;longitude&amp;quot;: -122.09792316623721}}, {&amp;quot;geometry&amp;quot;: {&amp;quot;type&amp;quot;: &amp;quot;Point&amp;quot;, &amp;quot;coordinates&amp;quot;: [-122.09805734957054, 37.40372515395297]}, &amp;quot;type&amp;quot;: &amp;quot;Feature&amp;quot;, &amp;quot;id&amp;quot;: &amp;quot;1459449255&amp;quot;, &amp;quot;properties&amp;quot;: {&amp;quot;feature_type&amp;quot;: &amp;quot;location&amp;quot;, &amp;quot;fmt_time&amp;quot;: &amp;quot;2016-03-31T11:34:15&amp;quot;, &amp;quot;latitude&amp;quot;: 37.40372515395297, &amp;quot;ts&amp;quot;: 1459449255, &amp;quot;longitude&amp;quot;: -122.09805734957054}}, {&amp;quot;geometry&amp;quot;: {&amp;quot;type&amp;quot;: &amp;quot;Point&amp;quot;, &amp;quot;coordinates&amp;quot;: [-122.09819153290387, 37.40378141228631]}, &amp;quot;type&amp;quot;: &amp;quot;Feature&amp;quot;, &amp;quot;id&amp;quot;: &amp;quot;1459449256&amp;quot;, &amp;quot;properties&amp;quot;: {&amp;quot;feature_type&amp;quot;: &amp;quot;location&amp;quot;, &amp;quot;fmt_time&amp;quot;: &amp;quot;2016-03-31T11:34:16&amp;quot;, &amp;quot;latitude&amp;quot;: 37.40378141228631, &amp;quot;ts&amp;quot;: 1459449256, &amp;quot;longitude&amp;quot;: -122.09819153290387}}, {&amp;quot;geometry&amp;quot;: {&amp;quot;type&amp;quot;: &amp;quot;Point&amp;quot;, &amp;quot;coordinates&amp;quot;: [-122.0983257162372, 37.40383767061964]}, &amp;quot;type&amp;quot;: &amp;quot;Feature&amp;quot;, &amp;quot;id&amp;quot;: &amp;quot;1459449257&amp;quot;, &amp;quot;properties&amp;quot;: {&amp;quot;feature_type&amp;quot;: &amp;quot;location&amp;quot;, &amp;quot;fmt_time&amp;quot;: &amp;quot;2016-03-31T11:34:17&amp;quot;, &amp;quot;latitude&amp;quot;: 37.40383767061964, &amp;quot;ts&amp;quot;: 1459449257, &amp;quot;longitude&amp;quot;: -122.0983257162372}}, {&amp;quot;geometry&amp;quot;: {&amp;quot;type&amp;quot;: &amp;quot;Point&amp;quot;, &amp;quot;coordinates&amp;quot;: [-122.09845989957054, 37.40389392895297]}, &amp;quot;type&amp;quot;: &amp;quot;Feature&amp;quot;, &amp;quot;id&amp;quot;: &amp;quot;1459449258&amp;quot;, &amp;quot;properties&amp;quot;: {&amp;quot;feature_type&amp;quot;: &amp;quot;location&amp;quot;, &amp;quot;fmt_time&amp;quot;: &amp;quot;2016-03-31T11:34:18&amp;quot;, &amp;quot;latitude&amp;quot;: 37.40389392895297, &amp;quot;ts&amp;quot;: 1459449258, &amp;quot;longitude&amp;quot;: -122.09845989957054}}, {&amp;quot;geometry&amp;quot;: {&amp;quot;type&amp;quot;: &amp;quot;Point&amp;quot;, &amp;quot;coordinates&amp;quot;: [-122.09859408290387, 37.403950187286306]}, &amp;quot;type&amp;quot;: &amp;quot;Feature&amp;quot;, &amp;quot;id&amp;quot;: &amp;quot;1459449259&amp;quot;, &amp;quot;properties&amp;quot;: {&amp;quot;feature_type&amp;quot;: &amp;quot;location&amp;quot;, &amp;quot;fmt_time&amp;quot;: &amp;quot;2016-03-31T11:34:19&amp;quot;, &amp;quot;latitude&amp;quot;: 37.403950187286306, &amp;quot;ts&amp;quot;: 1459449259, &amp;quot;longitude&amp;quot;: -122.09859408290387}}, {&amp;quot;geometry&amp;quot;: {&amp;quot;type&amp;quot;: &amp;quot;Point&amp;quot;, &amp;quot;coordinates&amp;quot;: [-122.0987282662372, 37.404006445619636]}, &amp;quot;type&amp;quot;: &amp;quot;Feature&amp;quot;, &amp;quot;id&amp;quot;: &amp;quot;1459449260&amp;quot;, &amp;quot;properties&amp;quot;: {&amp;quot;feature_type&amp;quot;: &amp;quot;location&amp;quot;, &amp;quot;fmt_time&amp;quot;: &amp;quot;2016-03-31T11:34:20&amp;quot;, &amp;quot;latitude&amp;quot;: 37.404006445619636, &amp;quot;ts&amp;quot;: 1459449260, &amp;quot;longitude&amp;quot;: -122.0987282662372}}, {&amp;quot;geometry&amp;quot;: {&amp;quot;type&amp;quot;: &amp;quot;Point&amp;quot;, &amp;quot;coordinates&amp;quot;: [-122.09886244957053, 37.40406270395297]}, &amp;quot;type&amp;quot;: &amp;quot;Feature&amp;quot;, &amp;quot;id&amp;quot;: &amp;quot;1459449261&amp;quot;, &amp;quot;properties&amp;quot;: {&amp;quot;feature_type&amp;quot;: &amp;quot;location&amp;quot;, &amp;quot;fmt_time&amp;quot;: &amp;quot;2016-03-31T11:34:21&amp;quot;, &amp;quot;latitude&amp;quot;: 37.40406270395297, &amp;quot;ts&amp;quot;: 1459449261, &amp;quot;longitude&amp;quot;: -122.09886244957053}}, {&amp;quot;geometry&amp;quot;: {&amp;quot;type&amp;quot;: &amp;quot;Point&amp;quot;, &amp;quot;coordinates&amp;quot;: [-122.09899663290388, 37.404118962286304]}, &amp;quot;type&amp;quot;: &amp;quot;Feature&amp;quot;, &amp;quot;id&amp;quot;: &amp;quot;1459449262&amp;quot;, &amp;quot;properties&amp;quot;: {&amp;quot;feature_type&amp;quot;: &amp;quot;location&amp;quot;, &amp;quot;fmt_time&amp;quot;: &amp;quot;2016-03-31T11:34:22&amp;quot;, &amp;quot;latitude&amp;quot;: 37.404118962286304, &amp;quot;ts&amp;quot;: 1459449262, &amp;quot;longitude&amp;quot;: -122.09899663290388}}, {&amp;quot;geometry&amp;quot;: {&amp;quot;type&amp;quot;: &amp;quot;Point&amp;quot;, &amp;quot;coordinates&amp;quot;: [-122.0991308162372, 37.404175220619635]}, &amp;quot;type&amp;quot;: &amp;quot;Feature&amp;quot;, &amp;quot;id&amp;quot;: &amp;quot;1459449263&amp;quot;, &amp;quot;properties&amp;quot;: {&amp;quot;feature_type&amp;quot;: &amp;quot;location&amp;quot;, &amp;quot;fmt_time&amp;quot;: &amp;quot;2016-03-31T11:34:23&amp;quot;, &amp;quot;latitude&amp;quot;: 37.404175220619635, &amp;quot;ts&amp;quot;: 1459449263, &amp;quot;longitude&amp;quot;: -122.0991308162372}}, {&amp;quot;geometry&amp;quot;: {&amp;quot;type&amp;quot;: &amp;quot;Point&amp;quot;, &amp;quot;coordinates&amp;quot;: [-122.09926499957054, 37.40423147895297]}, &amp;quot;type&amp;quot;: &amp;quot;Feature&amp;quot;, &amp;quot;id&amp;quot;: &amp;quot;1459449264&amp;quot;, &amp;quot;properties&amp;quot;: {&amp;quot;feature_type&amp;quot;: &amp;quot;location&amp;quot;, &amp;quot;fmt_time&amp;quot;: &amp;quot;2016-03-31T11:34:24&amp;quot;, &amp;quot;latitude&amp;quot;: 37.40423147895297, &amp;quot;ts&amp;quot;: 1459449264, &amp;quot;longitude&amp;quot;: -122.09926499957054}}, {&amp;quot;geometry&amp;quot;: {&amp;quot;type&amp;quot;: &amp;quot;Point&amp;quot;, &amp;quot;coordinates&amp;quot;: [-122.09939918290387, 37.4042877372863]}, &amp;quot;type&amp;quot;: &amp;quot;Feature&amp;quot;, &amp;quot;id&amp;quot;: &amp;quot;1459449265&amp;quot;, &amp;quot;properties&amp;quot;: {&amp;quot;feature_type&amp;quot;: &amp;quot;location&amp;quot;, &amp;quot;fmt_time&amp;quot;: &amp;quot;2016-03-31T11:34:25&amp;quot;, &amp;quot;latitude&amp;quot;: 37.4042877372863, &amp;quot;ts&amp;quot;: 1459449265, &amp;quot;longitude&amp;quot;: -122.09939918290387}}, {&amp;quot;geometry&amp;quot;: {&amp;quot;type&amp;quot;: &amp;quot;Point&amp;quot;, &amp;quot;coordinates&amp;quot;: [-122.09953336623721, 37.404343995619634]}, &amp;quot;type&amp;quot;: &amp;quot;Feature&amp;quot;, &amp;quot;id&amp;quot;: &amp;quot;1459449266&amp;quot;, &amp;quot;properties&amp;quot;: {&amp;quot;feature_type&amp;quot;: &amp;quot;location&amp;quot;, &amp;quot;fmt_time&amp;quot;: &amp;quot;2016-03-31T11:34:26&amp;quot;, &amp;quot;latitude&amp;quot;: 37.404343995619634, &amp;quot;ts&amp;quot;: 1459449266, &amp;quot;longitude&amp;quot;: -122.09953336623721}}, {&amp;quot;geometry&amp;quot;: {&amp;quot;type&amp;quot;: &amp;quot;Point&amp;quot;, &amp;quot;coordinates&amp;quot;: [-122.09966754957054, 37.40440025395297]}, &amp;quot;type&amp;quot;: &amp;quot;Feature&amp;quot;, &amp;quot;id&amp;quot;: &amp;quot;1459449267&amp;quot;, &amp;quot;properties&amp;quot;: {&amp;quot;feature_type&amp;quot;: &amp;quot;location&amp;quot;, &amp;quot;fmt_time&amp;quot;: &amp;quot;2016-03-31T11:34:27&amp;quot;, &amp;quot;latitude&amp;quot;: 37.40440025395297, &amp;quot;ts&amp;quot;: 1459449267, &amp;quot;longitude&amp;quot;: -122.09966754957054}}, {&amp;quot;geometry&amp;quot;: {&amp;quot;type&amp;quot;: &amp;quot;Point&amp;quot;, &amp;quot;coordinates&amp;quot;: [-122.09980173290387, 37.4044565122863]}, &amp;quot;type&amp;quot;: &amp;quot;Feature&amp;quot;, &amp;quot;id&amp;quot;: &amp;quot;1459449268&amp;quot;, &amp;quot;properties&amp;quot;: {&amp;quot;feature_type&amp;quot;: &amp;quot;location&amp;quot;, &amp;quot;fmt_time&amp;quot;: &amp;quot;2016-03-31T11:34:28&amp;quot;, &amp;quot;latitude&amp;quot;: 37.4044565122863, &amp;quot;ts&amp;quot;: 1459449268, &amp;quot;longitude&amp;quot;: -122.09980173290387}}, {&amp;quot;geometry&amp;quot;: {&amp;quot;type&amp;quot;: &amp;quot;Point&amp;quot;, &amp;quot;coordinates&amp;quot;: [-122.0999359162372, 37.40451277061964]}, &amp;quot;type&amp;quot;: &amp;quot;Feature&amp;quot;, &amp;quot;id&amp;quot;: &amp;quot;1459449269&amp;quot;, &amp;quot;properties&amp;quot;: {&amp;quot;feature_type&amp;quot;: &amp;quot;location&amp;quot;, &amp;quot;fmt_time&amp;quot;: &amp;quot;2016-03-31T11:34:29&amp;quot;, &amp;quot;latitude&amp;quot;: 37.40451277061964, &amp;quot;ts&amp;quot;: 1459449269, &amp;quot;longitude&amp;quot;: -122.0999359162372}}, {&amp;quot;geometry&amp;quot;: {&amp;quot;type&amp;quot;: &amp;quot;Point&amp;quot;, &amp;quot;coordinates&amp;quot;: [-122.10007009957054, 37.40456902895297]}, &amp;quot;type&amp;quot;: &amp;quot;Feature&amp;quot;, &amp;quot;id&amp;quot;: &amp;quot;1459449270&amp;quot;, &amp;quot;properties&amp;quot;: {&amp;quot;feature_type&amp;quot;: &amp;quot;location&amp;quot;, &amp;quot;fmt_time&amp;quot;: &amp;quot;2016-03-31T11:34:30&amp;quot;, &amp;quot;latitude&amp;quot;: 37.40456902895297, &amp;quot;ts&amp;quot;: 1459449270, &amp;quot;longitude&amp;quot;: -122.10007009957054}}, {&amp;quot;geometry&amp;quot;: {&amp;quot;type&amp;quot;: &amp;quot;Point&amp;quot;, &amp;quot;coordinates&amp;quot;: [-122.11238142706979, 37.41063029582477]}, &amp;quot;type&amp;quot;: &amp;quot;Feature&amp;quot;, &amp;quot;id&amp;quot;: &amp;quot;1459449360&amp;quot;, &amp;quot;properties&amp;quot;: {&amp;quot;feature_type&amp;quot;: &amp;quot;location&amp;quot;, &amp;quot;fmt_time&amp;quot;: &amp;quot;2016-03-31T11:36:00&amp;quot;, &amp;quot;latitude&amp;quot;: 37.41063029582477, &amp;quot;ts&amp;quot;: 1459449360, &amp;quot;longitude&amp;quot;: -122.11238142706979}}, {&amp;quot;geometry&amp;quot;: {&amp;quot;type&amp;quot;: &amp;quot;Point&amp;quot;, &amp;quot;coordinates&amp;quot;: [-122.12701601040311, 37.4198831291581]}, &amp;quot;type&amp;quot;: &amp;quot;Feature&amp;quot;, &amp;quot;id&amp;quot;: &amp;quot;1459449463&amp;quot;, &amp;quot;properties&amp;quot;: {&amp;quot;feature_type&amp;quot;: &amp;quot;location&amp;quot;, &amp;quot;fmt_time&amp;quot;: &amp;quot;2016-03-31T11:37:43&amp;quot;, &amp;quot;latitude&amp;quot;: 37.4198831291581, &amp;quot;ts&amp;quot;: 1459449463, &amp;quot;longitude&amp;quot;: -122.12701601040311}}, {&amp;quot;geometry&amp;quot;: {&amp;quot;type&amp;quot;: &amp;quot;Point&amp;quot;, &amp;quot;coordinates&amp;quot;: [-122.13568309373645, 37.425362962491434]}, &amp;quot;type&amp;quot;: &amp;quot;Feature&amp;quot;, &amp;quot;id&amp;quot;: &amp;quot;1459449524&amp;quot;, &amp;quot;properties&amp;quot;: {&amp;quot;feature_type&amp;quot;: &amp;quot;location&amp;quot;, &amp;quot;fmt_time&amp;quot;: &amp;quot;2016-03-31T11:38:44&amp;quot;, &amp;quot;latitude&amp;quot;: 37.425362962491434, &amp;quot;ts&amp;quot;: 1459449524, &amp;quot;longitude&amp;quot;: -122.13568309373645}}, {&amp;quot;geometry&amp;quot;: {&amp;quot;type&amp;quot;: &amp;quot;Point&amp;quot;, &amp;quot;coordinates&amp;quot;: [-122.13582517706978, 37.42545279582476]}, &amp;quot;type&amp;quot;: &amp;quot;Feature&amp;quot;, &amp;quot;id&amp;quot;: &amp;quot;1459449525&amp;quot;, &amp;quot;properties&amp;quot;: {&amp;quot;feature_type&amp;quot;: &amp;quot;location&amp;quot;, &amp;quot;fmt_time&amp;quot;: &amp;quot;2016-03-31T11:38:45&amp;quot;, &amp;quot;latitude&amp;quot;: 37.42545279582476, &amp;quot;ts&amp;quot;: 1459449525, &amp;quot;longitude&amp;quot;: -122.13582517706978}}, {&amp;quot;geometry&amp;quot;: {&amp;quot;type&amp;quot;: &amp;quot;Point&amp;quot;, &amp;quot;coordinates&amp;quot;: [-122.13596726040312, 37.425542629158095]}, &amp;quot;type&amp;quot;: &amp;quot;Feature&amp;quot;, &amp;quot;id&amp;quot;: &amp;quot;1459449526&amp;quot;, &amp;quot;properties&amp;quot;: {&amp;quot;feature_type&amp;quot;: &amp;quot;location&amp;quot;, &amp;quot;fmt_time&amp;quot;: &amp;quot;2016-03-31T11:38:46&amp;quot;, &amp;quot;latitude&amp;quot;: 37.425542629158095, &amp;quot;ts&amp;quot;: 1459449526, &amp;quot;longitude&amp;quot;: -122.13596726040312}}, {&amp;quot;geometry&amp;quot;: {&amp;quot;type&amp;quot;: &amp;quot;Point&amp;quot;, &amp;quot;coordinates&amp;quot;: [-122.13610934373645, 37.42563246249143]}, &amp;quot;type&amp;quot;: &amp;quot;Feature&amp;quot;, &amp;quot;id&amp;quot;: &amp;quot;1459449527&amp;quot;, &amp;quot;properties&amp;quot;: {&amp;quot;feature_type&amp;quot;: &amp;quot;location&amp;quot;, &amp;quot;fmt_time&amp;quot;: &amp;quot;2016-03-31T11:38:47&amp;quot;, &amp;quot;latitude&amp;quot;: 37.42563246249143, &amp;quot;ts&amp;quot;: 1459449527, &amp;quot;longitude&amp;quot;: -122.13610934373645}}, {&amp;quot;geometry&amp;quot;: {&amp;quot;type&amp;quot;: &amp;quot;Point&amp;quot;, &amp;quot;coordinates&amp;quot;: [-122.13625142706978, 37.42572229582476]}, &amp;quot;type&amp;quot;: &amp;quot;Feature&amp;quot;, &amp;quot;id&amp;quot;: &amp;quot;1459449528&amp;quot;, &amp;quot;properties&amp;quot;: {&amp;quot;feature_type&amp;quot;: &amp;quot;location&amp;quot;, &amp;quot;fmt_time&amp;quot;: &amp;quot;2016-03-31T11:38:48&amp;quot;, &amp;quot;latitude&amp;quot;: 37.42572229582476, &amp;quot;ts&amp;quot;: 1459449528, &amp;quot;longitude&amp;quot;: -122.13625142706978}}, {&amp;quot;geometry&amp;quot;: {&amp;quot;type&amp;quot;: &amp;quot;Point&amp;quot;, &amp;quot;coordinates&amp;quot;: [-122.13639351040311, 37.425812129158096]}, &amp;quot;type&amp;quot;: &amp;quot;Feature&amp;quot;, &amp;quot;id&amp;quot;: &amp;quot;1459449529&amp;quot;, &amp;quot;properties&amp;quot;: {&amp;quot;feature_type&amp;quot;: &amp;quot;location&amp;quot;, &amp;quot;fmt_time&amp;quot;: &amp;quot;2016-03-31T11:38:49&amp;quot;, &amp;quot;latitude&amp;quot;: 37.425812129158096, &amp;quot;ts&amp;quot;: 1459449529, &amp;quot;longitude&amp;quot;: -122.13639351040311}}, {&amp;quot;geometry&amp;quot;: {&amp;quot;type&amp;quot;: &amp;quot;Point&amp;quot;, &amp;quot;coordinates&amp;quot;: [-122.13653559373645, 37.42590196249143]}, &amp;quot;type&amp;quot;: &amp;quot;Feature&amp;quot;, &amp;quot;id&amp;quot;: &amp;quot;1459449530&amp;quot;, &amp;quot;properties&amp;quot;: {&amp;quot;feature_type&amp;quot;: &amp;quot;location&amp;quot;, &amp;quot;fmt_time&amp;quot;: &amp;quot;2016-03-31T11:38:50&amp;quot;, &amp;quot;latitude&amp;quot;: 37.42590196249143, &amp;quot;ts&amp;quot;: 1459449530, &amp;quot;longitude&amp;quot;: -122.13653559373645}}, {&amp;quot;geometry&amp;quot;: {&amp;quot;type&amp;quot;: &amp;quot;Point&amp;quot;, &amp;quot;coordinates&amp;quot;: [-122.13667767706978, 37.425991795824764]}, &amp;quot;type&amp;quot;: &amp;quot;Feature&amp;quot;, &amp;quot;id&amp;quot;: &amp;quot;1459449531&amp;quot;, &amp;quot;properties&amp;quot;: {&amp;quot;feature_type&amp;quot;: &amp;quot;location&amp;quot;, &amp;quot;fmt_time&amp;quot;: &amp;quot;2016-03-31T11:38:51&amp;quot;, &amp;quot;latitude&amp;quot;: 37.425991795824764, &amp;quot;ts&amp;quot;: 1459449531, &amp;quot;longitude&amp;quot;: -122.13667767706978}}, {&amp;quot;geometry&amp;quot;: {&amp;quot;type&amp;quot;: &amp;quot;Point&amp;quot;, &amp;quot;coordinates&amp;quot;: [-122.13681976040311, 37.4260816291581]}, &amp;quot;type&amp;quot;: &amp;quot;Feature&amp;quot;, &amp;quot;id&amp;quot;: &amp;quot;1459449532&amp;quot;, &amp;quot;properties&amp;quot;: {&amp;quot;feature_type&amp;quot;: &amp;quot;location&amp;quot;, &amp;quot;fmt_time&amp;quot;: &amp;quot;2016-03-31T11:38:52&amp;quot;, &amp;quot;latitude&amp;quot;: 37.4260816291581, &amp;quot;ts&amp;quot;: 1459449532, &amp;quot;longitude&amp;quot;: -122.13681976040311}}, {&amp;quot;geometry&amp;quot;: {&amp;quot;type&amp;quot;: &amp;quot;Point&amp;quot;, &amp;quot;coordinates&amp;quot;: [-122.13696184373644, 37.42617146249143]}, &amp;quot;type&amp;quot;: &amp;quot;Feature&amp;quot;, &amp;quot;id&amp;quot;: &amp;quot;1459449533&amp;quot;, &amp;quot;properties&amp;quot;: {&amp;quot;feature_type&amp;quot;: &amp;quot;location&amp;quot;, &amp;quot;fmt_time&amp;quot;: &amp;quot;2016-03-31T11:38:53&amp;quot;, &amp;quot;latitude&amp;quot;: 37.42617146249143, &amp;quot;ts&amp;quot;: 1459449533, &amp;quot;longitude&amp;quot;: -122.13696184373644}}, {&amp;quot;geometry&amp;quot;: {&amp;quot;type&amp;quot;: &amp;quot;Point&amp;quot;, &amp;quot;coordinates&amp;quot;: [-122.13710392706979, 37.426261295824766]}, &amp;quot;type&amp;quot;: &amp;quot;Feature&amp;quot;, &amp;quot;id&amp;quot;: &amp;quot;1459449534&amp;quot;, &amp;quot;properties&amp;quot;: {&amp;quot;feature_type&amp;quot;: &amp;quot;location&amp;quot;, &amp;quot;fmt_time&amp;quot;: &amp;quot;2016-03-31T11:38:54&amp;quot;, &amp;quot;latitude&amp;quot;: 37.426261295824766, &amp;quot;ts&amp;quot;: 1459449534, &amp;quot;longitude&amp;quot;: -122.13710392706979}}, {&amp;quot;geometry&amp;quot;: {&amp;quot;type&amp;quot;: &amp;quot;Point&amp;quot;, &amp;quot;coordinates&amp;quot;: [-122.13724601040312, 37.4263511291581]}, &amp;quot;type&amp;quot;: &amp;quot;Feature&amp;quot;, &amp;quot;id&amp;quot;: &amp;quot;1459449535&amp;quot;, &amp;quot;properties&amp;quot;: {&amp;quot;feature_type&amp;quot;: &amp;quot;location&amp;quot;, &amp;quot;fmt_time&amp;quot;: &amp;quot;2016-03-31T11:38:55&amp;quot;, &amp;quot;latitude&amp;quot;: 37.4263511291581, &amp;quot;ts&amp;quot;: 1459449535, &amp;quot;longitude&amp;quot;: -122.13724601040312}}, {&amp;quot;geometry&amp;quot;: {&amp;quot;type&amp;quot;: &amp;quot;Point&amp;quot;, &amp;quot;coordinates&amp;quot;: [-122.13738809373645, 37.426440962491434]}, &amp;quot;type&amp;quot;: &amp;quot;Feature&amp;quot;, &amp;quot;id&amp;quot;: &amp;quot;1459449536&amp;quot;, &amp;quot;properties&amp;quot;: {&amp;quot;feature_type&amp;quot;: &amp;quot;location&amp;quot;, &amp;quot;fmt_time&amp;quot;: &amp;quot;2016-03-31T11:38:56&amp;quot;, &amp;quot;latitude&amp;quot;: 37.426440962491434, &amp;quot;ts&amp;quot;: 1459449536, &amp;quot;longitude&amp;quot;: -122.13738809373645}}, {&amp;quot;geometry&amp;quot;: {&amp;quot;type&amp;quot;: &amp;quot;Point&amp;quot;, &amp;quot;coordinates&amp;quot;: [-122.13753017706978, 37.42653079582476]}, &amp;quot;type&amp;quot;: &amp;quot;Feature&amp;quot;, &amp;quot;id&amp;quot;: &amp;quot;1459449537&amp;quot;, &amp;quot;properties&amp;quot;: {&amp;quot;feature_type&amp;quot;: &amp;quot;location&amp;quot;, &amp;quot;fmt_time&amp;quot;: &amp;quot;2016-03-31T11:38:57&amp;quot;, &amp;quot;latitude&amp;quot;: 37.42653079582476, &amp;quot;ts&amp;quot;: 1459449537, &amp;quot;longitude&amp;quot;: -122.13753017706978}}, {&amp;quot;geometry&amp;quot;: {&amp;quot;type&amp;quot;: &amp;quot;Point&amp;quot;, &amp;quot;coordinates&amp;quot;: [-122.13767226040312, 37.426620629158094]}, &amp;quot;type&amp;quot;: &amp;quot;Feature&amp;quot;, &amp;quot;id&amp;quot;: &amp;quot;1459449538&amp;quot;, &amp;quot;properties&amp;quot;: {&amp;quot;feature_type&amp;quot;: &amp;quot;location&amp;quot;, &amp;quot;fmt_time&amp;quot;: &amp;quot;2016-03-31T11:38:58&amp;quot;, &amp;quot;latitude&amp;quot;: 37.426620629158094, &amp;quot;ts&amp;quot;: 1459449538, &amp;quot;longitude&amp;quot;: -122.13767226040312}}, {&amp;quot;geometry&amp;quot;: {&amp;quot;type&amp;quot;: &amp;quot;Point&amp;quot;, &amp;quot;coordinates&amp;quot;: [-122.13781434373645, 37.42671046249143]}, &amp;quot;type&amp;quot;: &amp;quot;Feature&amp;quot;, &amp;quot;id&amp;quot;: &amp;quot;1459449539&amp;quot;, &amp;quot;properties&amp;quot;: {&amp;quot;feature_type&amp;quot;: &amp;quot;location&amp;quot;, &amp;quot;fmt_time&amp;quot;: &amp;quot;2016-03-31T11:38:59&amp;quot;, &amp;quot;latitude&amp;quot;: 37.42671046249143, &amp;quot;ts&amp;quot;: 1459449539, &amp;quot;longitude&amp;quot;: -122.13781434373645}}, {&amp;quot;geometry&amp;quot;: {&amp;quot;type&amp;quot;: &amp;quot;Point&amp;quot;, &amp;quot;coordinates&amp;quot;: [-122.13795642706978, 37.42680029582476]}, &amp;quot;type&amp;quot;: &amp;quot;Feature&amp;quot;, &amp;quot;id&amp;quot;: &amp;quot;1459449540&amp;quot;, &amp;quot;properties&amp;quot;: {&amp;quot;feature_type&amp;quot;: &amp;quot;location&amp;quot;, &amp;quot;fmt_time&amp;quot;: &amp;quot;2016-03-31T11:39:00&amp;quot;, &amp;quot;latitude&amp;quot;: 37.42680029582476, &amp;quot;ts&amp;quot;: 1459449540, &amp;quot;longitude&amp;quot;: -122.13795642706978}}, {&amp;quot;geometry&amp;quot;: {&amp;quot;type&amp;quot;: &amp;quot;Point&amp;quot;, &amp;quot;coordinates&amp;quot;: [-122.13809851040311, 37.426890129158096]}, &amp;quot;type&amp;quot;: &amp;quot;Feature&amp;quot;, &amp;quot;id&amp;quot;: &amp;quot;1459449541&amp;quot;, &amp;quot;properties&amp;quot;: {&amp;quot;feature_type&amp;quot;: &amp;quot;location&amp;quot;, &amp;quot;fmt_time&amp;quot;: &amp;quot;2016-03-31T11:39:01&amp;quot;, &amp;quot;latitude&amp;quot;: 37.426890129158096, &amp;quot;ts&amp;quot;: 1459449541, &amp;quot;longitude&amp;quot;: -122.13809851040311}}, {&amp;quot;geometry&amp;quot;: {&amp;quot;type&amp;quot;: &amp;quot;Point&amp;quot;, &amp;quot;coordinates&amp;quot;: [-122.13824059373646, 37.42697996249143]}, &amp;quot;type&amp;quot;: &amp;quot;Feature&amp;quot;, &amp;quot;id&amp;quot;: &amp;quot;1459449542&amp;quot;, &amp;quot;properties&amp;quot;: {&amp;quot;feature_type&amp;quot;: &amp;quot;location&amp;quot;, &amp;quot;fmt_time&amp;quot;: &amp;quot;2016-03-31T11:39:02&amp;quot;, &amp;quot;latitude&amp;quot;: 37.42697996249143, &amp;quot;ts&amp;quot;: 1459449542, &amp;quot;longitude&amp;quot;: -122.13824059373646}}, {&amp;quot;geometry&amp;quot;: {&amp;quot;type&amp;quot;: &amp;quot;Point&amp;quot;, &amp;quot;coordinates&amp;quot;: [-122.13838267706979, 37.427069795824764]}, &amp;quot;type&amp;quot;: &amp;quot;Feature&amp;quot;, &amp;quot;id&amp;quot;: &amp;quot;1459449543&amp;quot;, &amp;quot;properties&amp;quot;: {&amp;quot;feature_type&amp;quot;: &amp;quot;location&amp;quot;, &amp;quot;fmt_time&amp;quot;: &amp;quot;2016-03-31T11:39:03&amp;quot;, &amp;quot;latitude&amp;quot;: 37.427069795824764, &amp;quot;ts&amp;quot;: 1459449543, &amp;quot;longitude&amp;quot;: -122.13838267706979}}, {&amp;quot;geometry&amp;quot;: {&amp;quot;type&amp;quot;: &amp;quot;Point&amp;quot;, &amp;quot;coordinates&amp;quot;: [-122.13852476040312, 37.4271596291581]}, &amp;quot;type&amp;quot;: &amp;quot;Feature&amp;quot;, &amp;quot;id&amp;quot;: &amp;quot;1459449544&amp;quot;, &amp;quot;properties&amp;quot;: {&amp;quot;feature_type&amp;quot;: &amp;quot;location&amp;quot;, &amp;quot;fmt_time&amp;quot;: &amp;quot;2016-03-31T11:39:04&amp;quot;, &amp;quot;latitude&amp;quot;: 37.4271596291581, &amp;quot;ts&amp;quot;: 1459449544, &amp;quot;longitude&amp;quot;: -122.13852476040312}}, {&amp;quot;geometry&amp;quot;: {&amp;quot;type&amp;quot;: &amp;quot;Point&amp;quot;, &amp;quot;coordinates&amp;quot;: [-122.13866684373644, 37.42724946249143]}, &amp;quot;type&amp;quot;: &amp;quot;Feature&amp;quot;, &amp;quot;id&amp;quot;: &amp;quot;1459449545&amp;quot;, &amp;quot;properties&amp;quot;: {&amp;quot;feature_type&amp;quot;: &amp;quot;location&amp;quot;, &amp;quot;fmt_time&amp;quot;: &amp;quot;2016-03-31T11:39:05&amp;quot;, &amp;quot;latitude&amp;quot;: 37.42724946249143, &amp;quot;ts&amp;quot;: 1459449545, &amp;quot;longitude&amp;quot;: -122.13866684373644}}, {&amp;quot;geometry&amp;quot;: {&amp;quot;type&amp;quot;: &amp;quot;Point&amp;quot;, &amp;quot;coordinates&amp;quot;: [-122.13880892706979, 37.427339295824765]}, &amp;quot;type&amp;quot;: &amp;quot;Feature&amp;quot;, &amp;quot;id&amp;quot;: &amp;quot;1459449546&amp;quot;, &amp;quot;properties&amp;quot;: {&amp;quot;feature_type&amp;quot;: &amp;quot;location&amp;quot;, &amp;quot;fmt_time&amp;quot;: &amp;quot;2016-03-31T11:39:06&amp;quot;, &amp;quot;latitude&amp;quot;: 37.427339295824765, &amp;quot;ts&amp;quot;: 1459449546, &amp;quot;longitude&amp;quot;: -122.13880892706979}}, {&amp;quot;geometry&amp;quot;: {&amp;quot;type&amp;quot;: &amp;quot;Point&amp;quot;, &amp;quot;coordinates&amp;quot;: [-122.13895101040312, 37.4274291291581]}, &amp;quot;type&amp;quot;: &amp;quot;Feature&amp;quot;, &amp;quot;id&amp;quot;: &amp;quot;1459449547&amp;quot;, &amp;quot;properties&amp;quot;: {&amp;quot;feature_type&amp;quot;: &amp;quot;location&amp;quot;, &amp;quot;fmt_time&amp;quot;: &amp;quot;2016-03-31T11:39:07&amp;quot;, &amp;quot;latitude&amp;quot;: 37.4274291291581, &amp;quot;ts&amp;quot;: 1459449547, &amp;quot;longitude&amp;quot;: -122.13895101040312}}, {&amp;quot;geometry&amp;quot;: {&amp;quot;type&amp;quot;: &amp;quot;Point&amp;quot;, &amp;quot;coordinates&amp;quot;: [-122.13909309373645, 37.42751896249143]}, &amp;quot;type&amp;quot;: &amp;quot;Feature&amp;quot;, &amp;quot;id&amp;quot;: &amp;quot;1459449548&amp;quot;, &amp;quot;properties&amp;quot;: {&amp;quot;feature_type&amp;quot;: &amp;quot;location&amp;quot;, &amp;quot;fmt_time&amp;quot;: &amp;quot;2016-03-31T11:39:08&amp;quot;, &amp;quot;latitude&amp;quot;: 37.42751896249143, &amp;quot;ts&amp;quot;: 1459449548, &amp;quot;longitude&amp;quot;: -122.13909309373645}}, {&amp;quot;geometry&amp;quot;: {&amp;quot;type&amp;quot;: &amp;quot;Point&amp;quot;, &amp;quot;coordinates&amp;quot;: [-122.13923517706978, 37.42760879582476]}, &amp;quot;type&amp;quot;: &amp;quot;Feature&amp;quot;, &amp;quot;id&amp;quot;: &amp;quot;1459449549&amp;quot;, &amp;quot;properties&amp;quot;: {&amp;quot;feature_type&amp;quot;: &amp;quot;location&amp;quot;, &amp;quot;fmt_time&amp;quot;: &amp;quot;2016-03-31T11:39:09&amp;quot;, &amp;quot;latitude&amp;quot;: 37.42760879582476, &amp;quot;ts&amp;quot;: 1459449549, &amp;quot;longitude&amp;quot;: -122.13923517706978}}, {&amp;quot;geometry&amp;quot;: {&amp;quot;type&amp;quot;: &amp;quot;Point&amp;quot;, &amp;quot;coordinates&amp;quot;: [-122.13937726040311, 37.427698629158094]}, &amp;quot;type&amp;quot;: &amp;quot;Feature&amp;quot;, &amp;quot;id&amp;quot;: &amp;quot;1459449550&amp;quot;, &amp;quot;properties&amp;quot;: {&amp;quot;feature_type&amp;quot;: &amp;quot;location&amp;quot;, &amp;quot;fmt_time&amp;quot;: &amp;quot;2016-03-31T11:39:10&amp;quot;, &amp;quot;latitude&amp;quot;: 37.427698629158094, &amp;quot;ts&amp;quot;: 1459449550, &amp;quot;longitude&amp;quot;: -122.13937726040311}}, {&amp;quot;geometry&amp;quot;: {&amp;quot;type&amp;quot;: &amp;quot;Point&amp;quot;, &amp;quot;coordinates&amp;quot;: [-122.13951934373645, 37.42778846249143]}, &amp;quot;type&amp;quot;: &amp;quot;Feature&amp;quot;, &amp;quot;id&amp;quot;: &amp;quot;1459449551&amp;quot;, &amp;quot;properties&amp;quot;: {&amp;quot;feature_type&amp;quot;: &amp;quot;location&amp;quot;, &amp;quot;fmt_time&amp;quot;: &amp;quot;2016-03-31T11:39:11&amp;quot;, &amp;quot;latitude&amp;quot;: 37.42778846249143, &amp;quot;ts&amp;quot;: 1459449551, &amp;quot;longitude&amp;quot;: -122.13951934373645}}, {&amp;quot;geometry&amp;quot;: {&amp;quot;type&amp;quot;: &amp;quot;Point&amp;quot;, &amp;quot;coordinates&amp;quot;: [-122.13966142706978, 37.42787829582476]}, &amp;quot;type&amp;quot;: &amp;quot;Feature&amp;quot;, &amp;quot;id&amp;quot;: &amp;quot;1459449552&amp;quot;, &amp;quot;properties&amp;quot;: {&amp;quot;feature_type&amp;quot;: &amp;quot;location&amp;quot;, &amp;quot;fmt_time&amp;quot;: &amp;quot;2016-03-31T11:39:12&amp;quot;, &amp;quot;latitude&amp;quot;: 37.42787829582476, &amp;quot;ts&amp;quot;: 1459449552, &amp;quot;longitude&amp;quot;: -122.13966142706978}}, {&amp;quot;geometry&amp;quot;: {&amp;quot;type&amp;quot;: &amp;quot;Point&amp;quot;, &amp;quot;coordinates&amp;quot;: [-122.13980351040311, 37.427968129158096]}, &amp;quot;type&amp;quot;: &amp;quot;Feature&amp;quot;, &amp;quot;id&amp;quot;: &amp;quot;1459449553&amp;quot;, &amp;quot;properties&amp;quot;: {&amp;quot;feature_type&amp;quot;: &amp;quot;location&amp;quot;, &amp;quot;fmt_time&amp;quot;: &amp;quot;2016-03-31T11:39:13&amp;quot;, &amp;quot;latitude&amp;quot;: 37.427968129158096, &amp;quot;ts&amp;quot;: 1459449553, &amp;quot;longitude&amp;quot;: -122.13980351040311}}, {&amp;quot;geometry&amp;quot;: {&amp;quot;type&amp;quot;: &amp;quot;Point&amp;quot;, &amp;quot;coordinates&amp;quot;: [-122.13994559373644, 37.42805796249143]}, &amp;quot;type&amp;quot;: &amp;quot;Feature&amp;quot;, &amp;quot;id&amp;quot;: &amp;quot;1459449554&amp;quot;, &amp;quot;properties&amp;quot;: {&amp;quot;feature_type&amp;quot;: &amp;quot;location&amp;quot;, &amp;quot;fmt_time&amp;quot;: &amp;quot;2016-03-31T11:39:14&amp;quot;, &amp;quot;latitude&amp;quot;: 37.42805796249143, &amp;quot;ts&amp;quot;: 1459449554, &amp;quot;longitude&amp;quot;: -122.13994559373644}}, {&amp;quot;geometry&amp;quot;: {&amp;quot;type&amp;quot;: &amp;quot;Point&amp;quot;, &amp;quot;coordinates&amp;quot;: [-122.14008767706979, 37.42814779582476]}, &amp;quot;type&amp;quot;: &amp;quot;Feature&amp;quot;, &amp;quot;id&amp;quot;: &amp;quot;1459449555&amp;quot;, &amp;quot;properties&amp;quot;: {&amp;quot;feature_type&amp;quot;: &amp;quot;location&amp;quot;, &amp;quot;fmt_time&amp;quot;: &amp;quot;2016-03-31T11:39:15&amp;quot;, &amp;quot;latitude&amp;quot;: 37.42814779582476, &amp;quot;ts&amp;quot;: 1459449555, &amp;quot;longitude&amp;quot;: -122.14008767706979}}, {&amp;quot;geometry&amp;quot;: {&amp;quot;type&amp;quot;: &amp;quot;Point&amp;quot;, &amp;quot;coordinates&amp;quot;: [-122.14022976040312, 37.4282376291581]}, &amp;quot;type&amp;quot;: &amp;quot;Feature&amp;quot;, &amp;quot;id&amp;quot;: &amp;quot;1459449556&amp;quot;, &amp;quot;properties&amp;quot;: {&amp;quot;feature_type&amp;quot;: &amp;quot;location&amp;quot;, &amp;quot;fmt_time&amp;quot;: &amp;quot;2016-03-31T11:39:16&amp;quot;, &amp;quot;latitude&amp;quot;: 37.4282376291581, &amp;quot;ts&amp;quot;: 1459449556, &amp;quot;longitude&amp;quot;: -122.14022976040312}}, {&amp;quot;geometry&amp;quot;: {&amp;quot;type&amp;quot;: &amp;quot;Point&amp;quot;, &amp;quot;coordinates&amp;quot;: [-122.14037184373645, 37.42832746249143]}, &amp;quot;type&amp;quot;: &amp;quot;Feature&amp;quot;, &amp;quot;id&amp;quot;: &amp;quot;1459449557&amp;quot;, &amp;quot;properties&amp;quot;: {&amp;quot;feature_type&amp;quot;: &amp;quot;location&amp;quot;, &amp;quot;fmt_time&amp;quot;: &amp;quot;2016-03-31T11:39:17&amp;quot;, &amp;quot;latitude&amp;quot;: 37.42832746249143, &amp;quot;ts&amp;quot;: 1459449557, &amp;quot;longitude&amp;quot;: -122.14037184373645}}, {&amp;quot;geometry&amp;quot;: {&amp;quot;type&amp;quot;: &amp;quot;Point&amp;quot;, &amp;quot;coordinates&amp;quot;: [-122.14051392706978, 37.428417295824765]}, &amp;quot;type&amp;quot;: &amp;quot;Feature&amp;quot;, &amp;quot;id&amp;quot;: &amp;quot;1459449558&amp;quot;, &amp;quot;properties&amp;quot;: {&amp;quot;feature_type&amp;quot;: &amp;quot;location&amp;quot;, &amp;quot;fmt_time&amp;quot;: &amp;quot;2016-03-31T11:39:18&amp;quot;, &amp;quot;latitude&amp;quot;: 37.428417295824765, &amp;quot;ts&amp;quot;: 1459449558, &amp;quot;longitude&amp;quot;: -122.14051392706978}}, {&amp;quot;geometry&amp;quot;: {&amp;quot;type&amp;quot;: &amp;quot;Point&amp;quot;, &amp;quot;coordinates&amp;quot;: [-122.14065601040312, 37.4285071291581]}, &amp;quot;type&amp;quot;: &amp;quot;Feature&amp;quot;, &amp;quot;id&amp;quot;: &amp;quot;1459449559&amp;quot;, &amp;quot;properties&amp;quot;: {&amp;quot;feature_type&amp;quot;: &amp;quot;location&amp;quot;, &amp;quot;fmt_time&amp;quot;: &amp;quot;2016-03-31T11:39:19&amp;quot;, &amp;quot;latitude&amp;quot;: 37.4285071291581, &amp;quot;ts&amp;quot;: 1459449559, &amp;quot;longitude&amp;quot;: -122.14065601040312}}, {&amp;quot;geometry&amp;quot;: {&amp;quot;type&amp;quot;: &amp;quot;Point&amp;quot;, &amp;quot;coordinates&amp;quot;: [-122.14079809373645, 37.42859696249143]}, &amp;quot;type&amp;quot;: &amp;quot;Feature&amp;quot;, &amp;quot;id&amp;quot;: &amp;quot;1459449560&amp;quot;, &amp;quot;properties&amp;quot;: {&amp;quot;feature_type&amp;quot;: &amp;quot;location&amp;quot;, &amp;quot;fmt_time&amp;quot;: &amp;quot;2016-03-31T11:39:20&amp;quot;, &amp;quot;latitude&amp;quot;: 37.42859696249143, &amp;quot;ts&amp;quot;: 1459449560, &amp;quot;longitude&amp;quot;: -122.14079809373645}}, {&amp;quot;geometry&amp;quot;: {&amp;quot;type&amp;quot;: &amp;quot;Point&amp;quot;, &amp;quot;coordinates&amp;quot;: [-122.14094017706978, 37.42868679582476]}, &amp;quot;type&amp;quot;: &amp;quot;Feature&amp;quot;, &amp;quot;id&amp;quot;: &amp;quot;1459449561&amp;quot;, &amp;quot;properties&amp;quot;: {&amp;quot;feature_type&amp;quot;: &amp;quot;location&amp;quot;, &amp;quot;fmt_time&amp;quot;: &amp;quot;2016-03-31T11:39:21&amp;quot;, &amp;quot;latitude&amp;quot;: 37.42868679582476, &amp;quot;ts&amp;quot;: 1459449561, &amp;quot;longitude&amp;quot;: -122.14094017706978}}, {&amp;quot;geometry&amp;quot;: {&amp;quot;type&amp;quot;: &amp;quot;Point&amp;quot;, &amp;quot;coordinates&amp;quot;: [-122.14108226040311, 37.428776629158094]}, &amp;quot;type&amp;quot;: &amp;quot;Feature&amp;quot;, &amp;quot;id&amp;quot;: &amp;quot;1459449562&amp;quot;, &amp;quot;properties&amp;quot;: {&amp;quot;feature_type&amp;quot;: &amp;quot;location&amp;quot;, &amp;quot;fmt_time&amp;quot;: &amp;quot;2016-03-31T11:39:22&amp;quot;, &amp;quot;latitude&amp;quot;: 37.428776629158094, &amp;quot;ts&amp;quot;: 1459449562, &amp;quot;longitude&amp;quot;: -122.14108226040311}}, {&amp;quot;geometry&amp;quot;: {&amp;quot;type&amp;quot;: &amp;quot;Point&amp;quot;, &amp;quot;coordinates&amp;quot;: [-122.14122434373645, 37.42886646249143]}, &amp;quot;type&amp;quot;: &amp;quot;Feature&amp;quot;, &amp;quot;id&amp;quot;: &amp;quot;1459449563&amp;quot;, &amp;quot;properties&amp;quot;: {&amp;quot;feature_type&amp;quot;: &amp;quot;location&amp;quot;, &amp;quot;fmt_time&amp;quot;: &amp;quot;2016-03-31T11:39:23&amp;quot;, &amp;quot;latitude&amp;quot;: 37.42886646249143, &amp;quot;ts&amp;quot;: 1459449563, &amp;quot;longitude&amp;quot;: -122.14122434373645}}, {&amp;quot;geometry&amp;quot;: {&amp;quot;type&amp;quot;: &amp;quot;Point&amp;quot;, &amp;quot;coordinates&amp;quot;: [-122.14136642706978, 37.42895629582476]}, &amp;quot;type&amp;quot;: &amp;quot;Feature&amp;quot;, &amp;quot;id&amp;quot;: &amp;quot;1459449564&amp;quot;, &amp;quot;properties&amp;quot;: {&amp;quot;feature_type&amp;quot;: &amp;quot;location&amp;quot;, &amp;quot;fmt_time&amp;quot;: &amp;quot;2016-03-31T11:39:24&amp;quot;, &amp;quot;latitude&amp;quot;: 37.42895629582476, &amp;quot;ts&amp;quot;: 1459449564, &amp;quot;longitude&amp;quot;: -122.14136642706978}}, {&amp;quot;geometry&amp;quot;: {&amp;quot;type&amp;quot;: &amp;quot;Point&amp;quot;, &amp;quot;coordinates&amp;quot;: [-122.14150851040311, 37.429046129158095]}, &amp;quot;type&amp;quot;: &amp;quot;Feature&amp;quot;, &amp;quot;id&amp;quot;: &amp;quot;1459449565&amp;quot;, &amp;quot;properties&amp;quot;: {&amp;quot;feature_type&amp;quot;: &amp;quot;location&amp;quot;, &amp;quot;fmt_time&amp;quot;: &amp;quot;2016-03-31T11:39:25&amp;quot;, &amp;quot;latitude&amp;quot;: 37.429046129158095, &amp;quot;ts&amp;quot;: 1459449565, &amp;quot;longitude&amp;quot;: -122.14150851040311}}, {&amp;quot;geometry&amp;quot;: {&amp;quot;type&amp;quot;: &amp;quot;Point&amp;quot;, &amp;quot;coordinates&amp;quot;: [-122.14165059373644, 37.42913596249143]}, &amp;quot;type&amp;quot;: &amp;quot;Feature&amp;quot;, &amp;quot;id&amp;quot;: &amp;quot;1459449566&amp;quot;, &amp;quot;properties&amp;quot;: {&amp;quot;feature_type&amp;quot;: &amp;quot;location&amp;quot;, &amp;quot;fmt_time&amp;quot;: &amp;quot;2016-03-31T11:39:26&amp;quot;, &amp;quot;latitude&amp;quot;: 37.42913596249143, &amp;quot;ts&amp;quot;: 1459449566, &amp;quot;longitude&amp;quot;: -122.14165059373644}}, {&amp;quot;geometry&amp;quot;: {&amp;quot;type&amp;quot;: &amp;quot;Point&amp;quot;, &amp;quot;coordinates&amp;quot;: [-122.14179267706979, 37.42922579582476]}, &amp;quot;type&amp;quot;: &amp;quot;Feature&amp;quot;, &amp;quot;id&amp;quot;: &amp;quot;1459449567&amp;quot;, &amp;quot;properties&amp;quot;: {&amp;quot;feature_type&amp;quot;: &amp;quot;location&amp;quot;, &amp;quot;fmt_time&amp;quot;: &amp;quot;2016-03-31T11:39:27&amp;quot;, &amp;quot;latitude&amp;quot;: 37.42922579582476, &amp;quot;ts&amp;quot;: 1459449567, &amp;quot;longitude&amp;quot;: -122.14179267706979}}, {&amp;quot;geometry&amp;quot;: {&amp;quot;type&amp;quot;: &amp;quot;Point&amp;quot;, &amp;quot;coordinates&amp;quot;: [-122.14193476040312, 37.4293156291581]}, &amp;quot;type&amp;quot;: &amp;quot;Feature&amp;quot;, &amp;quot;id&amp;quot;: &amp;quot;1459449568&amp;quot;, &amp;quot;properties&amp;quot;: {&amp;quot;feature_type&amp;quot;: &amp;quot;location&amp;quot;, &amp;quot;fmt_time&amp;quot;: &amp;quot;2016-03-31T11:39:28&amp;quot;, &amp;quot;latitude&amp;quot;: 37.4293156291581, &amp;quot;ts&amp;quot;: 1459449568, &amp;quot;longitude&amp;quot;: -122.14193476040312}}, {&amp;quot;geometry&amp;quot;: {&amp;quot;type&amp;quot;: &amp;quot;Point&amp;quot;, &amp;quot;coordinates&amp;quot;: [-122.14207684373645, 37.42940546249143]}, &amp;quot;type&amp;quot;: &amp;quot;Feature&amp;quot;, &amp;quot;id&amp;quot;: &amp;quot;1459449569&amp;quot;, &amp;quot;properties&amp;quot;: {&amp;quot;feature_type&amp;quot;: &amp;quot;location&amp;quot;, &amp;quot;fmt_time&amp;quot;: &amp;quot;2016-03-31T11:39:29&amp;quot;, &amp;quot;latitude&amp;quot;: 37.42940546249143, &amp;quot;ts&amp;quot;: 1459449569, &amp;quot;longitude&amp;quot;: -122.14207684373645}}, {&amp;quot;geometry&amp;quot;: {&amp;quot;type&amp;quot;: &amp;quot;Point&amp;quot;, &amp;quot;coordinates&amp;quot;: [-122.14221892706978, 37.429495295824765]}, &amp;quot;type&amp;quot;: &amp;quot;Feature&amp;quot;, &amp;quot;id&amp;quot;: &amp;quot;1459449570&amp;quot;, &amp;quot;properties&amp;quot;: {&amp;quot;feature_type&amp;quot;: &amp;quot;location&amp;quot;, &amp;quot;fmt_time&amp;quot;: &amp;quot;2016-03-31T11:39:30&amp;quot;, &amp;quot;latitude&amp;quot;: 37.429495295824765, &amp;quot;ts&amp;quot;: 1459449570, &amp;quot;longitude&amp;quot;: -122.14221892706978}}, {&amp;quot;geometry&amp;quot;: {&amp;quot;type&amp;quot;: &amp;quot;Point&amp;quot;, &amp;quot;coordinates&amp;quot;: [-122.14232422874129, 37.42956174791117]}, &amp;quot;type&amp;quot;: &amp;quot;Feature&amp;quot;, &amp;quot;id&amp;quot;: &amp;quot;1459449571&amp;quot;, &amp;quot;properties&amp;quot;: {&amp;quot;feature_type&amp;quot;: &amp;quot;location&amp;quot;, &amp;quot;fmt_time&amp;quot;: &amp;quot;2016-03-31T11:39:31&amp;quot;, &amp;quot;latitude&amp;quot;: 37.42956174791117, &amp;quot;ts&amp;quot;: 1459449571, &amp;quot;longitude&amp;quot;: -122.14232422874129}}, {&amp;quot;geometry&amp;quot;: {&amp;quot;type&amp;quot;: &amp;quot;Point&amp;quot;, &amp;quot;coordinates&amp;quot;: [-122.14241557874129, 37.4296193312445]}, &amp;quot;type&amp;quot;: &amp;quot;Feature&amp;quot;, &amp;quot;id&amp;quot;: &amp;quot;1459449572&amp;quot;, &amp;quot;properties&amp;quot;: {&amp;quot;feature_type&amp;quot;: &amp;quot;location&amp;quot;, &amp;quot;fmt_time&amp;quot;: &amp;quot;2016-03-31T11:39:32&amp;quot;, &amp;quot;latitude&amp;quot;: 37.4296193312445, &amp;quot;ts&amp;quot;: 1459449572, &amp;quot;longitude&amp;quot;: -122.14241557874129}}, {&amp;quot;geometry&amp;quot;: {&amp;quot;type&amp;quot;: &amp;quot;Point&amp;quot;, &amp;quot;coordinates&amp;quot;: [-122.14250692874128, 37.42967691457784]}, &amp;quot;type&amp;quot;: &amp;quot;Feature&amp;quot;, &amp;quot;id&amp;quot;: &amp;quot;1459449573&amp;quot;, &amp;quot;properties&amp;quot;: {&amp;quot;feature_type&amp;quot;: &amp;quot;location&amp;quot;, &amp;quot;fmt_time&amp;quot;: &amp;quot;2016-03-31T11:39:33&amp;quot;, &amp;quot;latitude&amp;quot;: 37.42967691457784, &amp;quot;ts&amp;quot;: 1459449573, &amp;quot;longitude&amp;quot;: -122.14250692874128}}, {&amp;quot;geometry&amp;quot;: {&amp;quot;type&amp;quot;: &amp;quot;Point&amp;quot;, &amp;quot;coordinates&amp;quot;: [-122.14259827874129, 37.42973449791117]}, &amp;quot;type&amp;quot;: &amp;quot;Feature&amp;quot;, &amp;quot;id&amp;quot;: &amp;quot;1459449574&amp;quot;, &amp;quot;properties&amp;quot;: {&amp;quot;feature_type&amp;quot;: &amp;quot;location&amp;quot;, &amp;quot;fmt_time&amp;quot;: &amp;quot;2016-03-31T11:39:34&amp;quot;, &amp;quot;latitude&amp;quot;: 37.42973449791117, &amp;quot;ts&amp;quot;: 1459449574, &amp;quot;longitude&amp;quot;: -122.14259827874129}}, {&amp;quot;geometry&amp;quot;: {&amp;quot;type&amp;quot;: &amp;quot;Point&amp;quot;, &amp;quot;coordinates&amp;quot;: [-122.14268962874128, 37.42979208124451]}, &amp;quot;type&amp;quot;: &amp;quot;Feature&amp;quot;, &amp;quot;id&amp;quot;: &amp;quot;1459449575&amp;quot;, &amp;quot;properties&amp;quot;: {&amp;quot;feature_type&amp;quot;: &amp;quot;location&amp;quot;, &amp;quot;fmt_time&amp;quot;: &amp;quot;2016-03-31T11:39:35&amp;quot;, &amp;quot;latitude&amp;quot;: 37.42979208124451, &amp;quot;ts&amp;quot;: 1459449575, &amp;quot;longitude&amp;quot;: -122.14268962874128}}, {&amp;quot;geometry&amp;quot;: {&amp;quot;type&amp;quot;: &amp;quot;Point&amp;quot;, &amp;quot;coordinates&amp;quot;: [-122.14278097874129, 37.42984966457784]}, &amp;quot;type&amp;quot;: &amp;quot;Feature&amp;quot;, &amp;quot;id&amp;quot;: &amp;quot;1459449576&amp;quot;, &amp;quot;properties&amp;quot;: {&amp;quot;feature_type&amp;quot;: &amp;quot;location&amp;quot;, &amp;quot;fmt_time&amp;quot;: &amp;quot;2016-03-31T11:39:36&amp;quot;, &amp;quot;latitude&amp;quot;: 37.42984966457784, &amp;quot;ts&amp;quot;: 1459449576, &amp;quot;longitude&amp;quot;: -122.14278097874129}}, {&amp;quot;geometry&amp;quot;: {&amp;quot;type&amp;quot;: &amp;quot;Point&amp;quot;, &amp;quot;coordinates&amp;quot;: [-122.14287232874129, 37.429907247911174]}, &amp;quot;type&amp;quot;: &amp;quot;Feature&amp;quot;, &amp;quot;id&amp;quot;: &amp;quot;1459449577&amp;quot;, &amp;quot;properties&amp;quot;: {&amp;quot;feature_type&amp;quot;: &amp;quot;location&amp;quot;, &amp;quot;fmt_time&amp;quot;: &amp;quot;2016-03-31T11:39:37&amp;quot;, &amp;quot;latitude&amp;quot;: 37.429907247911174, &amp;quot;ts&amp;quot;: 1459449577, &amp;quot;longitude&amp;quot;: -122.14287232874129}}, {&amp;quot;geometry&amp;quot;: {&amp;quot;type&amp;quot;: &amp;quot;Point&amp;quot;, &amp;quot;coordinates&amp;quot;: [-122.14296367874128, 37.429964831244504]}, &amp;quot;type&amp;quot;: &amp;quot;Feature&amp;quot;, &amp;quot;id&amp;quot;: &amp;quot;1459449578&amp;quot;, &amp;quot;properties&amp;quot;: {&amp;quot;feature_type&amp;quot;: &amp;quot;location&amp;quot;, &amp;quot;fmt_time&amp;quot;: &amp;quot;2016-03-31T11:39:38&amp;quot;, &amp;quot;latitude&amp;quot;: 37.429964831244504, &amp;quot;ts&amp;quot;: 1459449578, &amp;quot;longitude&amp;quot;: -122.14296367874128}}, {&amp;quot;geometry&amp;quot;: {&amp;quot;type&amp;quot;: &amp;quot;Point&amp;quot;, &amp;quot;coordinates&amp;quot;: [-122.14305502874129, 37.43002241457784]}, &amp;quot;type&amp;quot;: &amp;quot;Feature&amp;quot;, &amp;quot;id&amp;quot;: &amp;quot;1459449579&amp;quot;, &amp;quot;properties&amp;quot;: {&amp;quot;feature_type&amp;quot;: &amp;quot;location&amp;quot;, &amp;quot;fmt_time&amp;quot;: &amp;quot;2016-03-31T11:39:39&amp;quot;, &amp;quot;latitude&amp;quot;: 37.43002241457784, &amp;quot;ts&amp;quot;: 1459449579, &amp;quot;longitude&amp;quot;: -122.14305502874129}}, {&amp;quot;geometry&amp;quot;: {&amp;quot;type&amp;quot;: &amp;quot;Point&amp;quot;, &amp;quot;coordinates&amp;quot;: [-122.14314637874129, 37.43007999791117]}, &amp;quot;type&amp;quot;: &amp;quot;Feature&amp;quot;, &amp;quot;id&amp;quot;: &amp;quot;1459449580&amp;quot;, &amp;quot;properties&amp;quot;: {&amp;quot;feature_type&amp;quot;: &amp;quot;location&amp;quot;, &amp;quot;fmt_time&amp;quot;: &amp;quot;2016-03-31T11:39:40&amp;quot;, &amp;quot;latitude&amp;quot;: 37.43007999791117, &amp;quot;ts&amp;quot;: 1459449580, &amp;quot;longitude&amp;quot;: -122.14314637874129}}, {&amp;quot;geometry&amp;quot;: {&amp;quot;type&amp;quot;: &amp;quot;Point&amp;quot;, &amp;quot;coordinates&amp;quot;: [-122.14323772874128, 37.4301375812445]}, &amp;quot;type&amp;quot;: &amp;quot;Feature&amp;quot;, &amp;quot;id&amp;quot;: &amp;quot;1459449581&amp;quot;, &amp;quot;properties&amp;quot;: {&amp;quot;feature_type&amp;quot;: &amp;quot;location&amp;quot;, &amp;quot;fmt_time&amp;quot;: &amp;quot;2016-03-31T11:39:41&amp;quot;, &amp;quot;latitude&amp;quot;: 37.4301375812445, &amp;quot;ts&amp;quot;: 1459449581, &amp;quot;longitude&amp;quot;: -122.14323772874128}}, {&amp;quot;geometry&amp;quot;: {&amp;quot;type&amp;quot;: &amp;quot;Point&amp;quot;, &amp;quot;coordinates&amp;quot;: [-122.14332907874129, 37.43019516457784]}, &amp;quot;type&amp;quot;: &amp;quot;Feature&amp;quot;, &amp;quot;id&amp;quot;: &amp;quot;1459449582&amp;quot;, &amp;quot;properties&amp;quot;: {&amp;quot;feature_type&amp;quot;: &amp;quot;location&amp;quot;, &amp;quot;fmt_time&amp;quot;: &amp;quot;2016-03-31T11:39:42&amp;quot;, &amp;quot;latitude&amp;quot;: 37.43019516457784, &amp;quot;ts&amp;quot;: 1459449582, &amp;quot;longitude&amp;quot;: -122.14332907874129}}, {&amp;quot;geometry&amp;quot;: {&amp;quot;type&amp;quot;: &amp;quot;Point&amp;quot;, &amp;quot;coordinates&amp;quot;: [-122.14342042874128, 37.43025274791117]}, &amp;quot;type&amp;quot;: &amp;quot;Feature&amp;quot;, &amp;quot;id&amp;quot;: &amp;quot;1459449583&amp;quot;, &amp;quot;properties&amp;quot;: {&amp;quot;feature_type&amp;quot;: &amp;quot;location&amp;quot;, &amp;quot;fmt_time&amp;quot;: &amp;quot;2016-03-31T11:39:43&amp;quot;, &amp;quot;latitude&amp;quot;: 37.43025274791117, &amp;quot;ts&amp;quot;: 1459449583, &amp;quot;longitude&amp;quot;: -122.14342042874128}}, {&amp;quot;geometry&amp;quot;: {&amp;quot;type&amp;quot;: &amp;quot;Point&amp;quot;, &amp;quot;coordinates&amp;quot;: [-122.14351177874128, 37.430310331244506]}, &amp;quot;type&amp;quot;: &amp;quot;Feature&amp;quot;, &amp;quot;id&amp;quot;: &amp;quot;1459449584&amp;quot;, &amp;quot;properties&amp;quot;: {&amp;quot;feature_type&amp;quot;: &amp;quot;location&amp;quot;, &amp;quot;fmt_time&amp;quot;: &amp;quot;2016-03-31T11:39:44&amp;quot;, &amp;quot;latitude&amp;quot;: 37.430310331244506, &amp;quot;ts&amp;quot;: 1459449584, &amp;quot;longitude&amp;quot;: -122.14351177874128}}, {&amp;quot;geometry&amp;quot;: {&amp;quot;type&amp;quot;: &amp;quot;Point&amp;quot;, &amp;quot;coordinates&amp;quot;: [-122.14360312874129, 37.430367914577836]}, &amp;quot;type&amp;quot;: &amp;quot;Feature&amp;quot;, &amp;quot;id&amp;quot;: &amp;quot;1459449585&amp;quot;, &amp;quot;properties&amp;quot;: {&amp;quot;feature_type&amp;quot;: &amp;quot;location&amp;quot;, &amp;quot;fmt_time&amp;quot;: &amp;quot;2016-03-31T11:39:45&amp;quot;, &amp;quot;latitude&amp;quot;: 37.430367914577836, &amp;quot;ts&amp;quot;: 1459449585, &amp;quot;longitude&amp;quot;: -122.14360312874129}}]}, {&amp;quot;geometry&amp;quot;: {&amp;quot;type&amp;quot;: &amp;quot;LineString&amp;quot;, &amp;quot;coordinates&amp;quot;: [[-122.08772523290386, 37.3993932622863], [-122.08785941623721, 37.39944952061963], [-122.09564204957054, 37.40271250395297], [-122.09577623290387, 37.4027687622863], [-122.0959104162372, 37.40282502061964], [-122.09604459957053, 37.40288127895297], [-122.09617878290388, 37.402937537286306], [-122.0963129662372, 37.402993795619636], [-122.09644714957054, 37.40305005395297], [-122.09658133290387, 37.403106312286305], [-122.09671551623721, 37.403162570619635], [-122.09684969957054, 37.40321882895297], [-122.09698388290387, 37.4032750872863], [-122.0971180662372, 37.403331345619634], [-122.09725224957053, 37.40338760395297], [-122.09738643290387, 37.4034438622863], [-122.0975206162372, 37.40350012061964], [-122.09765479957053, 37.40355637895297], [-122.09778898290386, 37.4036126372863], [-122.09792316623721, 37.40366889561964], [-122.09805734957054, 37.40372515395297], [-122.09819153290387, 37.40378141228631], [-122.0983257162372, 37.40383767061964], [-122.09845989957054, 37.40389392895297], [-122.09859408290387, 37.403950187286306], [-122.0987282662372, 37.404006445619636], [-122.09886244957053, 37.40406270395297], [-122.09899663290388, 37.404118962286304], [-122.0991308162372, 37.404175220619635], [-122.09926499957054, 37.40423147895297], [-122.09939918290387, 37.4042877372863], [-122.09953336623721, 37.404343995619634], [-122.09966754957054, 37.40440025395297], [-122.09980173290387, 37.4044565122863], [-122.0999359162372, 37.40451277061964], [-122.10007009957054, 37.40456902895297], [-122.11238142706979, 37.41063029582477], [-122.12701601040311, 37.4198831291581], [-122.13568309373645, 37.425362962491434], [-122.13582517706978, 37.42545279582476], [-122.13596726040312, 37.425542629158095], [-122.13610934373645, 37.42563246249143], [-122.13625142706978, 37.42572229582476], [-122.13639351040311, 37.425812129158096], [-122.13653559373645, 37.42590196249143], [-122.13667767706978, 37.425991795824764], [-122.13681976040311, 37.4260816291581], [-122.13696184373644, 37.42617146249143], [-122.13710392706979, 37.426261295824766], [-122.13724601040312, 37.4263511291581], [-122.13738809373645, 37.426440962491434], [-122.13753017706978, 37.42653079582476], [-122.13767226040312, 37.426620629158094], [-122.13781434373645, 37.42671046249143], [-122.13795642706978, 37.42680029582476], [-122.13809851040311, 37.426890129158096], [-122.13824059373646, 37.42697996249143], [-122.13838267706979, 37.427069795824764], [-122.13852476040312, 37.4271596291581], [-122.13866684373644, 37.42724946249143], [-122.13880892706979, 37.427339295824765], [-122.13895101040312, 37.4274291291581], [-122.13909309373645, 37.42751896249143], [-122.13923517706978, 37.42760879582476], [-122.13937726040311, 37.427698629158094], [-122.13951934373645, 37.42778846249143], [-122.13966142706978, 37.42787829582476], [-122.13980351040311, 37.427968129158096], [-122.13994559373644, 37.42805796249143], [-122.14008767706979, 37.42814779582476], [-122.14022976040312, 37.4282376291581], [-122.14037184373645, 37.42832746249143], [-122.14051392706978, 37.428417295824765], [-122.14065601040312, 37.4285071291581], [-122.14079809373645, 37.42859696249143], [-122.14094017706978, 37.42868679582476], [-122.14108226040311, 37.428776629158094], [-122.14122434373645, 37.42886646249143], [-122.14136642706978, 37.42895629582476], [-122.14150851040311, 37.429046129158095], [-122.14165059373644, 37.42913596249143], [-122.14179267706979, 37.42922579582476], [-122.14193476040312, 37.4293156291581], [-122.14207684373645, 37.42940546249143], [-122.14221892706978, 37.429495295824765], [-122.14232422874129, 37.42956174791117], [-122.14241557874129, 37.4296193312445], [-122.14250692874128, 37.42967691457784], [-122.14259827874129, 37.42973449791117], [-122.14268962874128, 37.42979208124451], [-122.14278097874129, 37.42984966457784], [-122.14287232874129, 37.429907247911174], [-122.14296367874128, 37.429964831244504], [-122.14305502874129, 37.43002241457784], [-122.14314637874129, 37.43007999791117], [-122.14323772874128, 37.4301375812445], [-122.14332907874129, 37.43019516457784], [-122.14342042874128, 37.43025274791117], [-122.14351177874128, 37.430310331244506], [-122.14360312874129, 37.430367914577836]]}, &amp;quot;type&amp;quot;: &amp;quot;Feature&amp;quot;, &amp;quot;id&amp;quot;: null, &amp;quot;properties&amp;quot;: {}}]}, \n",
       "        {style: style_feature,\n",
       "         onEachFeature: onEachFeature,\n",
       "         pointToLayer: pointFormat}).addTo(map)\n",
       "\n",
       "    var autobounds_0 = L.featureGroup([gjson_layer_0]).getBounds()\n",
       "    map.fitBounds(autobounds_0, {&amp;quot;padding&amp;quot;: [5, 5]});\n",
       "    \n",
       "\n",
       "            \n",
       "        \n",
       "    \n",
       "\n",
       "   &lt;/script&gt;\n",
       "\n",
       "&lt;/body&gt;&quot; style=&quot;width: 100%; height: 510px; border: none&quot;&gt;&lt;/iframe&gt;</td><td>&lt;iframe srcdoc=&quot;&lt;!DOCTYPE html&gt;\n",
       "&lt;head&gt;\n",
       "   &lt;meta http-equiv=&amp;quot;content-type&amp;quot; content=&amp;quot;text/html; charset=UTF-8&amp;quot; /&gt;\n",
       "   &lt;link rel=&amp;quot;stylesheet&amp;quot; href=&amp;quot;https://cdnjs.cloudflare.com/ajax/libs/leaflet/0.7.3/leaflet.css&amp;quot; /&gt;\n",
       "   &lt;script src=&amp;quot;https://cdnjs.cloudflare.com/ajax/libs/leaflet/0.7.3/leaflet.js&amp;quot;&gt;&lt;/script&gt;\n",
       "\n",
       "   &lt;script src=&amp;quot;https://ajax.googleapis.com/ajax/libs/jquery/1.11.1/jquery.min.js&amp;quot;&gt;&lt;/script&gt;\n",
       "\n",
       "   &lt;link rel=&amp;quot;stylesheet&amp;quot; href=&amp;quot;https://maxcdn.bootstrapcdn.com/bootstrap/3.2.0/css/bootstrap.min.css&amp;quot;&gt;\n",
       "   &lt;link rel=&amp;quot;stylesheet&amp;quot; href=&amp;quot;https://maxcdn.bootstrapcdn.com/bootstrap/3.2.0/css/bootstrap-theme.min.css&amp;quot;&gt;\n",
       "   &lt;script src=&amp;quot;https://maxcdn.bootstrapcdn.com/bootstrap/3.2.0/js/bootstrap.min.js&amp;quot;&gt;&lt;/script&gt;\n",
       "\n",
       "   &lt;link href=&amp;quot;https://maxcdn.bootstrapcdn.com/font-awesome/4.1.0/css/font-awesome.min.css&amp;quot; rel=&amp;quot;stylesheet&amp;quot;&gt;\n",
       "\n",
       "   &lt;link rel=&amp;quot;stylesheet&amp;quot; href=&amp;quot;https://rawgit.com/lvoogdt/Leaflet.awesome-markers/2.0/develop/dist/leaflet.awesome-markers.css&amp;quot;&gt;\n",
       "   &lt;script src=&amp;quot;https://rawgithub.com/lvoogdt/Leaflet.awesome-markers/2.0/develop/dist/leaflet.awesome-markers.js&amp;quot;&gt;&lt;/script&gt;\n",
       "\n",
       "\n",
       "   &lt;link rel=&amp;quot;stylesheet&amp;quot; href=&amp;quot;https://cdnjs.cloudflare.com/ajax/libs/leaflet.markercluster/0.4.0/MarkerCluster.Default.css&amp;quot;&gt;\n",
       "   &lt;link rel=&amp;quot;stylesheet&amp;quot; href=&amp;quot;https://cdnjs.cloudflare.com/ajax/libs/leaflet.markercluster/0.4.0/MarkerCluster.css&amp;quot;&gt;\n",
       "   &lt;script src=&amp;quot;https://cdnjs.cloudflare.com/ajax/libs/leaflet.markercluster/0.4.0/leaflet.markercluster-src.js&amp;quot;&gt;&lt;/script&gt;\n",
       "   &lt;script src=&amp;quot;https://cdnjs.cloudflare.com/ajax/libs/leaflet.markercluster/0.4.0/leaflet.markercluster.js&amp;quot;&gt;&lt;/script&gt;\n",
       "\n",
       "   &lt;link rel=&amp;quot;stylesheet&amp;quot; href=&amp;quot;https://raw.githubusercontent.com/python-visualization/folium/master/folium/templates/leaflet.awesome.rotate.css&amp;quot;&gt;\n",
       "\n",
       "    \n",
       "        \n",
       "        \n",
       "            \n",
       "    \n",
       "        &lt;link rel=&amp;quot;stylesheet&amp;quot; href=&amp;quot;http://code.ionicframework.com/ionicons/1.5.2/css/ionicons.min.css&amp;quot;&gt;\n",
       "    \n",
       "\n",
       "            \n",
       "        \n",
       "    \n",
       "\n",
       "   \n",
       "   \n",
       "   \n",
       "   \n",
       "\n",
       "   &lt;style&gt;\n",
       "\n",
       "      html, body {\n",
       "        width: 100%;\n",
       "        height: 100%;\n",
       "        margin: 0;\n",
       "        padding: 0;\n",
       "      }\n",
       "\n",
       "      #map {\n",
       "        position:absolute;\n",
       "        top:0;\n",
       "        bottom:0;\n",
       "        right:0;\n",
       "        left:0;\n",
       "      }\n",
       "\n",
       "    \n",
       "        \n",
       "        \n",
       "            \n",
       "            \n",
       "        \n",
       "    \n",
       "\n",
       "   &lt;/style&gt;\n",
       "&lt;/head&gt;\n",
       "\n",
       "&lt;body&gt;\n",
       "\n",
       "   &lt;div class=&amp;quot;folium-map&amp;quot; id=&amp;quot;folium_43261aede66d4a3ab155b4b24a037906&amp;quot; style=&amp;quot;width: 100%; height: 100%&amp;quot;&gt;&lt;/div&gt;\n",
       "\n",
       "    \n",
       "        \n",
       "        \n",
       "            \n",
       "            \n",
       "        \n",
       "    \n",
       "\n",
       "   &lt;script&gt;\n",
       "\n",
       "      \n",
       "\n",
       "      var base_tile = L.tileLayer('https://{s}.tile.openstreetmap.org/{z}/{x}/{y}.png', {\n",
       "          maxZoom: 18,\n",
       "          minZoom: 1,\n",
       "          attribution: 'Map data (c) &lt;a href=&amp;quot;http://openstreetmap.org&amp;quot;&gt;OpenStreetMap&lt;/a&gt; contributors'\n",
       "      });\n",
       "\n",
       "      var baseLayer = {\n",
       "        &amp;quot;Base Layer&amp;quot;: base_tile\n",
       "      };\n",
       "\n",
       "      /*\n",
       "      addition of the wms layers\n",
       "      */\n",
       "\n",
       "      \n",
       "\n",
       "      /*\n",
       "      addition of the tile layers\n",
       "      */\n",
       "      \n",
       "\n",
       "      /*\n",
       "      list of layers to be added\n",
       "      */\n",
       "      var layer_list = {\n",
       "      \n",
       "      };\n",
       "\n",
       "      /*\n",
       "      Bounding box.\n",
       "      */\n",
       "      var southWest = L.latLng(-90, -180),\n",
       "          northEast = L.latLng(90, 180),\n",
       "          bounds = L.latLngBounds(southWest, northEast);\n",
       "\n",
       "      /*\n",
       "      Creates the map and adds the selected layers\n",
       "      */\n",
       "      var map = L.map('folium_43261aede66d4a3ab155b4b24a037906', {\n",
       "                                       center:[37.4174358577, -122.12285571],\n",
       "                                       zoom: 10,\n",
       "                                       maxBounds: bounds,\n",
       "                                       layers: [base_tile]\n",
       "                                     });\n",
       "\n",
       "      // L.control.layers(baseLayer, layer_list).addTo(map);\n",
       "\n",
       "      /*\n",
       "      addition of the image layers\n",
       "      */\n",
       "      \n",
       "\n",
       "      //cluster group\n",
       "      var clusteredmarkers = L.markerClusterGroup();\n",
       "      //section for adding clustered markers\n",
       "      \n",
       "      //add the clustered markers to the group anyway\n",
       "      map.addLayer(clusteredmarkers);\n",
       "\n",
       "      \n",
       "\n",
       "      \n",
       "\n",
       "      \n",
       "\n",
       "      \n",
       "\n",
       "      \n",
       "\n",
       "      \n",
       "\n",
       "      \n",
       "\n",
       "\n",
       "\n",
       "    \n",
       "        \n",
       "        \n",
       "            \n",
       "    \n",
       "          function style_feature(feature) {\n",
       "            switch(feature.properties.feature_type) {\n",
       "                case &amp;quot;section&amp;quot;: return style_section(feature);\n",
       "                case &amp;quot;stop&amp;quot;: return style_stop(feature);\n",
       "                default: return {}\n",
       "            }\n",
       "          }\n",
       "\n",
       "          function onEachFeature(feature, layer) {\n",
       "            switch(feature.properties.feature_type) {\n",
       "                case &amp;quot;stop&amp;quot;: layer.bindPopup(&amp;quot;&amp;quot;+feature.properties.duration); break;\n",
       "                case &amp;quot;start_place&amp;quot;: layer.bindPopup(feature.properties.exit_fmt_time); break;\n",
       "                case &amp;quot;end_place&amp;quot;: layer.bindPopup(feature.properties.enter_fmt_time); break;\n",
       "                case &amp;quot;section&amp;quot;: layer.bindPopup(getHumanReadable(feature.properties.sensed_mode)); break;\n",
       "                case &amp;quot;location&amp;quot;: layer.bindPopup(JSON.stringify(feature.properties)); break\n",
       "            }\n",
       "          }\n",
       "\n",
       "          function getHumanReadable(sensed_mode) {\n",
       "            ret_string = sensed_mode.split('.')[1]\n",
       "            if(ret_string == 'ON_FOOT') {\n",
       "                return 'WALKING';\n",
       "            } else {\n",
       "                return ret_string;\n",
       "            }\n",
       "          }\n",
       "\n",
       "          function getColoredStyle(baseDict, color) {\n",
       "            baseDict.color = color\n",
       "            return baseDict\n",
       "          }\n",
       "\n",
       "          function style_section(feature) {\n",
       "            var baseDict = {\n",
       "                    weight: 5,\n",
       "                    opacity: 1,\n",
       "            };\n",
       "            mode_string = getHumanReadable(feature.properties.sensed_mode);\n",
       "            switch(mode_string) {\n",
       "                case &amp;quot;WALKING&amp;quot;: return getColoredStyle(baseDict, 'brown');\n",
       "                case &amp;quot;BICYCLING&amp;quot;: return getColoredStyle(baseDict, 'green');\n",
       "                case &amp;quot;TRANSPORT&amp;quot;: return getColoredStyle(baseDict, 'red');\n",
       "                default: return getColoredStyle(baseDict, 'black');\n",
       "            }\n",
       "          }\n",
       "\n",
       "          function style_stop(feature) {\n",
       "            return {fillColor: 'yellow', fillOpacity: 0.8};\n",
       "          }\n",
       "\n",
       "          var pointIcon = L.divIcon({className: 'leaflet-div-icon', iconSize: [5, 5]});\n",
       "\n",
       "          var startMarker = L.AwesomeMarkers.icon({\n",
       "            icon: 'play',\n",
       "            prefix: 'ion',\n",
       "            markerColor: 'green'\n",
       "          });\n",
       "\n",
       "          var stopMarker = L.AwesomeMarkers.icon({\n",
       "            icon: 'stop',\n",
       "            prefix: 'ion',\n",
       "            markerColor: 'red'\n",
       "          });\n",
       "\n",
       "          function pointFormat(feature, latlng) {\n",
       "            switch(feature.properties.feature_type) {\n",
       "                case &amp;quot;start_place&amp;quot;: return L.marker(latlng, {icon: startMarker})\n",
       "                case &amp;quot;end_place&amp;quot;: return L.marker(latlng, {icon: stopMarker})\n",
       "                case &amp;quot;stop&amp;quot;: return L.circleMarker(latlng)\n",
       "                case &amp;quot;location&amp;quot;: return L.marker(latlng, {icon: pointIcon})\n",
       "                default: alert(&amp;quot;Found unknown type in feature&amp;quot;  + feature); return L.marker(latlng)\n",
       "            }\n",
       "          }\n",
       "    \n",
       "\n",
       "    var gjson_layer_0 = L.geoJson({&amp;quot;type&amp;quot;: &amp;quot;FeatureCollection&amp;quot;, &amp;quot;features&amp;quot;: [{&amp;quot;type&amp;quot;: &amp;quot;FeatureCollection&amp;quot;, &amp;quot;features&amp;quot;: [{&amp;quot;geometry&amp;quot;: {&amp;quot;type&amp;quot;: &amp;quot;Point&amp;quot;, &amp;quot;coordinates&amp;quot;: [-122.10409144304808, 37.40576289625469]}, &amp;quot;type&amp;quot;: &amp;quot;Feature&amp;quot;, &amp;quot;id&amp;quot;: &amp;quot;1459449178&amp;quot;, &amp;quot;properties&amp;quot;: {&amp;quot;feature_type&amp;quot;: &amp;quot;location&amp;quot;, &amp;quot;fmt_time&amp;quot;: &amp;quot;2016-03-31T11:32:58&amp;quot;, &amp;quot;latitude&amp;quot;: 37.40576289625469, &amp;quot;ts&amp;quot;: 1459449178, &amp;quot;longitude&amp;quot;: -122.10409144304808}}, {&amp;quot;geometry&amp;quot;: {&amp;quot;type&amp;quot;: &amp;quot;Point&amp;quot;, &amp;quot;coordinates&amp;quot;: [-122.104177324695, 37.40580114779718]}, &amp;quot;type&amp;quot;: &amp;quot;Feature&amp;quot;, &amp;quot;id&amp;quot;: &amp;quot;1459449179&amp;quot;, &amp;quot;properties&amp;quot;: {&amp;quot;feature_type&amp;quot;: &amp;quot;location&amp;quot;, &amp;quot;fmt_time&amp;quot;: &amp;quot;2016-03-31T11:32:59&amp;quot;, &amp;quot;latitude&amp;quot;: 37.40580114779718, &amp;quot;ts&amp;quot;: 1459449179, &amp;quot;longitude&amp;quot;: -122.104177324695}}, {&amp;quot;geometry&amp;quot;: {&amp;quot;type&amp;quot;: &amp;quot;Point&amp;quot;, &amp;quot;coordinates&amp;quot;: [-122.10777053581725, 37.407851366801495]}, &amp;quot;type&amp;quot;: &amp;quot;Feature&amp;quot;, &amp;quot;id&amp;quot;: &amp;quot;1459449237&amp;quot;, &amp;quot;properties&amp;quot;: {&amp;quot;feature_type&amp;quot;: &amp;quot;location&amp;quot;, &amp;quot;fmt_time&amp;quot;: &amp;quot;2016-03-31T11:33:57&amp;quot;, &amp;quot;latitude&amp;quot;: 37.407851366801495, &amp;quot;ts&amp;quot;: 1459449237, &amp;quot;longitude&amp;quot;: -122.10777053581725}}, {&amp;quot;geometry&amp;quot;: {&amp;quot;type&amp;quot;: &amp;quot;Point&amp;quot;, &amp;quot;coordinates&amp;quot;: [-122.10791952834887, 37.40794601679331]}, &amp;quot;type&amp;quot;: &amp;quot;Feature&amp;quot;, &amp;quot;id&amp;quot;: &amp;quot;1459449238&amp;quot;, &amp;quot;properties&amp;quot;: {&amp;quot;feature_type&amp;quot;: &amp;quot;location&amp;quot;, &amp;quot;fmt_time&amp;quot;: &amp;quot;2016-03-31T11:33:58&amp;quot;, &amp;quot;latitude&amp;quot;: 37.40794601679331, &amp;quot;ts&amp;quot;: 1459449238, &amp;quot;longitude&amp;quot;: -122.10791952834887}}, {&amp;quot;geometry&amp;quot;: {&amp;quot;type&amp;quot;: &amp;quot;Point&amp;quot;, &amp;quot;coordinates&amp;quot;: [-122.10792051725547, 37.407947537870584]}, &amp;quot;type&amp;quot;: &amp;quot;Feature&amp;quot;, &amp;quot;id&amp;quot;: &amp;quot;1459449239&amp;quot;, &amp;quot;properties&amp;quot;: {&amp;quot;feature_type&amp;quot;: &amp;quot;location&amp;quot;, &amp;quot;fmt_time&amp;quot;: &amp;quot;2016-03-31T11:33:59&amp;quot;, &amp;quot;latitude&amp;quot;: 37.407947537870584, &amp;quot;ts&amp;quot;: 1459449239, &amp;quot;longitude&amp;quot;: -122.10792051725547}}, {&amp;quot;geometry&amp;quot;: {&amp;quot;type&amp;quot;: &amp;quot;Point&amp;quot;, &amp;quot;coordinates&amp;quot;: [-122.10791661347, 37.407945980299615]}, &amp;quot;type&amp;quot;: &amp;quot;Feature&amp;quot;, &amp;quot;id&amp;quot;: &amp;quot;1459449240&amp;quot;, &amp;quot;properties&amp;quot;: {&amp;quot;feature_type&amp;quot;: &amp;quot;location&amp;quot;, &amp;quot;fmt_time&amp;quot;: &amp;quot;2016-03-31T11:34:00&amp;quot;, &amp;quot;latitude&amp;quot;: 37.407945980299615, &amp;quot;ts&amp;quot;: 1459449240, &amp;quot;longitude&amp;quot;: -122.10791661347}}, {&amp;quot;geometry&amp;quot;: {&amp;quot;type&amp;quot;: &amp;quot;Point&amp;quot;, &amp;quot;coordinates&amp;quot;: [-122.10791270968453, 37.40794442272865]}, &amp;quot;type&amp;quot;: &amp;quot;Feature&amp;quot;, &amp;quot;id&amp;quot;: &amp;quot;1459449241&amp;quot;, &amp;quot;properties&amp;quot;: {&amp;quot;feature_type&amp;quot;: &amp;quot;location&amp;quot;, &amp;quot;fmt_time&amp;quot;: &amp;quot;2016-03-31T11:34:01&amp;quot;, &amp;quot;latitude&amp;quot;: 37.40794442272865, &amp;quot;ts&amp;quot;: 1459449241, &amp;quot;longitude&amp;quot;: -122.10791270968453}}, {&amp;quot;geometry&amp;quot;: {&amp;quot;type&amp;quot;: &amp;quot;Point&amp;quot;, &amp;quot;coordinates&amp;quot;: [-122.10790880589906, 37.40794286515768]}, &amp;quot;type&amp;quot;: &amp;quot;Feature&amp;quot;, &amp;quot;id&amp;quot;: &amp;quot;1459449242&amp;quot;, &amp;quot;properties&amp;quot;: {&amp;quot;feature_type&amp;quot;: &amp;quot;location&amp;quot;, &amp;quot;fmt_time&amp;quot;: &amp;quot;2016-03-31T11:34:02&amp;quot;, &amp;quot;latitude&amp;quot;: 37.40794286515768, &amp;quot;ts&amp;quot;: 1459449242, &amp;quot;longitude&amp;quot;: -122.10790880589906}}, {&amp;quot;geometry&amp;quot;: {&amp;quot;type&amp;quot;: &amp;quot;Point&amp;quot;, &amp;quot;coordinates&amp;quot;: [-122.10790490211359, 37.40794130758671]}, &amp;quot;type&amp;quot;: &amp;quot;Feature&amp;quot;, &amp;quot;id&amp;quot;: &amp;quot;1459449243&amp;quot;, &amp;quot;properties&amp;quot;: {&amp;quot;feature_type&amp;quot;: &amp;quot;location&amp;quot;, &amp;quot;fmt_time&amp;quot;: &amp;quot;2016-03-31T11:34:03&amp;quot;, &amp;quot;latitude&amp;quot;: 37.40794130758671, &amp;quot;ts&amp;quot;: 1459449243, &amp;quot;longitude&amp;quot;: -122.10790490211359}}, {&amp;quot;geometry&amp;quot;: {&amp;quot;type&amp;quot;: &amp;quot;Point&amp;quot;, &amp;quot;coordinates&amp;quot;: [-122.10790357796441, 37.407940566550224]}, &amp;quot;type&amp;quot;: &amp;quot;Feature&amp;quot;, &amp;quot;id&amp;quot;: &amp;quot;1459449244&amp;quot;, &amp;quot;properties&amp;quot;: {&amp;quot;feature_type&amp;quot;: &amp;quot;location&amp;quot;, &amp;quot;fmt_time&amp;quot;: &amp;quot;2016-03-31T11:34:04&amp;quot;, &amp;quot;latitude&amp;quot;: 37.407940566550224, &amp;quot;ts&amp;quot;: 1459449244, &amp;quot;longitude&amp;quot;: -122.10790357796441}}, {&amp;quot;geometry&amp;quot;: {&amp;quot;type&amp;quot;: &amp;quot;Point&amp;quot;, &amp;quot;coordinates&amp;quot;: [-122.10790265973856, 37.40793998745666]}, &amp;quot;type&amp;quot;: &amp;quot;Feature&amp;quot;, &amp;quot;id&amp;quot;: &amp;quot;1459449245&amp;quot;, &amp;quot;properties&amp;quot;: {&amp;quot;feature_type&amp;quot;: &amp;quot;location&amp;quot;, &amp;quot;fmt_time&amp;quot;: &amp;quot;2016-03-31T11:34:05&amp;quot;, &amp;quot;latitude&amp;quot;: 37.40793998745666, &amp;quot;ts&amp;quot;: 1459449245, &amp;quot;longitude&amp;quot;: -122.10790265973856}}, {&amp;quot;geometry&amp;quot;: {&amp;quot;type&amp;quot;: &amp;quot;Point&amp;quot;, &amp;quot;coordinates&amp;quot;: [-122.1079017415127, 37.407939408363106]}, &amp;quot;type&amp;quot;: &amp;quot;Feature&amp;quot;, &amp;quot;id&amp;quot;: &amp;quot;1459449246&amp;quot;, &amp;quot;properties&amp;quot;: {&amp;quot;feature_type&amp;quot;: &amp;quot;location&amp;quot;, &amp;quot;fmt_time&amp;quot;: &amp;quot;2016-03-31T11:34:06&amp;quot;, &amp;quot;latitude&amp;quot;: 37.407939408363106, &amp;quot;ts&amp;quot;: 1459449246, &amp;quot;longitude&amp;quot;: -122.1079017415127}}, {&amp;quot;geometry&amp;quot;: {&amp;quot;type&amp;quot;: &amp;quot;Point&amp;quot;, &amp;quot;coordinates&amp;quot;: [-122.10790082328685, 37.40793882926954]}, &amp;quot;type&amp;quot;: &amp;quot;Feature&amp;quot;, &amp;quot;id&amp;quot;: &amp;quot;1459449247&amp;quot;, &amp;quot;properties&amp;quot;: {&amp;quot;feature_type&amp;quot;: &amp;quot;location&amp;quot;, &amp;quot;fmt_time&amp;quot;: &amp;quot;2016-03-31T11:34:07&amp;quot;, &amp;quot;latitude&amp;quot;: 37.40793882926954, &amp;quot;ts&amp;quot;: 1459449247, &amp;quot;longitude&amp;quot;: -122.10790082328685}}, {&amp;quot;geometry&amp;quot;: {&amp;quot;type&amp;quot;: &amp;quot;Point&amp;quot;, &amp;quot;coordinates&amp;quot;: [-122.107899905061, 37.40793825017598]}, &amp;quot;type&amp;quot;: &amp;quot;Feature&amp;quot;, &amp;quot;id&amp;quot;: &amp;quot;1459449248&amp;quot;, &amp;quot;properties&amp;quot;: {&amp;quot;feature_type&amp;quot;: &amp;quot;location&amp;quot;, &amp;quot;fmt_time&amp;quot;: &amp;quot;2016-03-31T11:34:08&amp;quot;, &amp;quot;latitude&amp;quot;: 37.40793825017598, &amp;quot;ts&amp;quot;: 1459449248, &amp;quot;longitude&amp;quot;: -122.107899905061}}, {&amp;quot;geometry&amp;quot;: {&amp;quot;type&amp;quot;: &amp;quot;Point&amp;quot;, &amp;quot;coordinates&amp;quot;: [-122.10789898683515, 37.40793767108242]}, &amp;quot;type&amp;quot;: &amp;quot;Feature&amp;quot;, &amp;quot;id&amp;quot;: &amp;quot;1459449249&amp;quot;, &amp;quot;properties&amp;quot;: {&amp;quot;feature_type&amp;quot;: &amp;quot;location&amp;quot;, &amp;quot;fmt_time&amp;quot;: &amp;quot;2016-03-31T11:34:09&amp;quot;, &amp;quot;latitude&amp;quot;: 37.40793767108242, &amp;quot;ts&amp;quot;: 1459449249, &amp;quot;longitude&amp;quot;: -122.10789898683515}}, {&amp;quot;geometry&amp;quot;: {&amp;quot;type&amp;quot;: &amp;quot;Point&amp;quot;, &amp;quot;coordinates&amp;quot;: [-122.1078980686093, 37.407937091988856]}, &amp;quot;type&amp;quot;: &amp;quot;Feature&amp;quot;, &amp;quot;id&amp;quot;: &amp;quot;1459449250&amp;quot;, &amp;quot;properties&amp;quot;: {&amp;quot;feature_type&amp;quot;: &amp;quot;location&amp;quot;, &amp;quot;fmt_time&amp;quot;: &amp;quot;2016-03-31T11:34:10&amp;quot;, &amp;quot;latitude&amp;quot;: 37.407937091988856, &amp;quot;ts&amp;quot;: 1459449250, &amp;quot;longitude&amp;quot;: -122.1078980686093}}, {&amp;quot;geometry&amp;quot;: {&amp;quot;type&amp;quot;: &amp;quot;Point&amp;quot;, &amp;quot;coordinates&amp;quot;: [-122.10789715038347, 37.407936512895304]}, &amp;quot;type&amp;quot;: &amp;quot;Feature&amp;quot;, &amp;quot;id&amp;quot;: &amp;quot;1459449251&amp;quot;, &amp;quot;properties&amp;quot;: {&amp;quot;feature_type&amp;quot;: &amp;quot;location&amp;quot;, &amp;quot;fmt_time&amp;quot;: &amp;quot;2016-03-31T11:34:11&amp;quot;, &amp;quot;latitude&amp;quot;: 37.407936512895304, &amp;quot;ts&amp;quot;: 1459449251, &amp;quot;longitude&amp;quot;: -122.10789715038347}}, {&amp;quot;geometry&amp;quot;: {&amp;quot;type&amp;quot;: &amp;quot;Point&amp;quot;, &amp;quot;coordinates&amp;quot;: [-122.10789623215761, 37.40793593380174]}, &amp;quot;type&amp;quot;: &amp;quot;Feature&amp;quot;, &amp;quot;id&amp;quot;: &amp;quot;1459449252&amp;quot;, &amp;quot;properties&amp;quot;: {&amp;quot;feature_type&amp;quot;: &amp;quot;location&amp;quot;, &amp;quot;fmt_time&amp;quot;: &amp;quot;2016-03-31T11:34:12&amp;quot;, &amp;quot;latitude&amp;quot;: 37.40793593380174, &amp;quot;ts&amp;quot;: 1459449252, &amp;quot;longitude&amp;quot;: -122.10789623215761}}, {&amp;quot;geometry&amp;quot;: {&amp;quot;type&amp;quot;: &amp;quot;Point&amp;quot;, &amp;quot;coordinates&amp;quot;: [-122.10786982452811, 37.40791877372514]}, &amp;quot;type&amp;quot;: &amp;quot;Feature&amp;quot;, &amp;quot;id&amp;quot;: &amp;quot;1459449253&amp;quot;, &amp;quot;properties&amp;quot;: {&amp;quot;feature_type&amp;quot;: &amp;quot;location&amp;quot;, &amp;quot;fmt_time&amp;quot;: &amp;quot;2016-03-31T11:34:13&amp;quot;, &amp;quot;latitude&amp;quot;: 37.40791877372514, &amp;quot;ts&amp;quot;: 1459449253, &amp;quot;longitude&amp;quot;: -122.10786982452811}}, {&amp;quot;geometry&amp;quot;: {&amp;quot;type&amp;quot;: &amp;quot;Point&amp;quot;, &amp;quot;coordinates&amp;quot;: [-122.10784527894995, 37.407902248538775]}, &amp;quot;type&amp;quot;: &amp;quot;Feature&amp;quot;, &amp;quot;id&amp;quot;: &amp;quot;1459449254&amp;quot;, &amp;quot;properties&amp;quot;: {&amp;quot;feature_type&amp;quot;: &amp;quot;location&amp;quot;, &amp;quot;fmt_time&amp;quot;: &amp;quot;2016-03-31T11:34:14&amp;quot;, &amp;quot;latitude&amp;quot;: 37.407902248538775, &amp;quot;ts&amp;quot;: 1459449254, &amp;quot;longitude&amp;quot;: -122.10784527894995}}, {&amp;quot;geometry&amp;quot;: {&amp;quot;type&amp;quot;: &amp;quot;Point&amp;quot;, &amp;quot;coordinates&amp;quot;: [-122.10784526566007, 37.40790119476365]}, &amp;quot;type&amp;quot;: &amp;quot;Feature&amp;quot;, &amp;quot;id&amp;quot;: &amp;quot;1459449255&amp;quot;, &amp;quot;properties&amp;quot;: {&amp;quot;feature_type&amp;quot;: &amp;quot;location&amp;quot;, &amp;quot;fmt_time&amp;quot;: &amp;quot;2016-03-31T11:34:15&amp;quot;, &amp;quot;latitude&amp;quot;: 37.40790119476365, &amp;quot;ts&amp;quot;: 1459449255, &amp;quot;longitude&amp;quot;: -122.10784526566007}}, {&amp;quot;geometry&amp;quot;: {&amp;quot;type&amp;quot;: &amp;quot;Point&amp;quot;, &amp;quot;coordinates&amp;quot;: [-122.10784525428298, 37.40790014219482]}, &amp;quot;type&amp;quot;: &amp;quot;Feature&amp;quot;, &amp;quot;id&amp;quot;: &amp;quot;1459449256&amp;quot;, &amp;quot;properties&amp;quot;: {&amp;quot;feature_type&amp;quot;: &amp;quot;location&amp;quot;, &amp;quot;fmt_time&amp;quot;: &amp;quot;2016-03-31T11:34:16&amp;quot;, &amp;quot;latitude&amp;quot;: 37.40790014219482, &amp;quot;ts&amp;quot;: 1459449256, &amp;quot;longitude&amp;quot;: -122.10784525428298}}, {&amp;quot;geometry&amp;quot;: {&amp;quot;type&amp;quot;: &amp;quot;Point&amp;quot;, &amp;quot;coordinates&amp;quot;: [-122.10784524290585, 37.40789908962598]}, &amp;quot;type&amp;quot;: &amp;quot;Feature&amp;quot;, &amp;quot;id&amp;quot;: &amp;quot;1459449257&amp;quot;, &amp;quot;properties&amp;quot;: {&amp;quot;feature_type&amp;quot;: &amp;quot;location&amp;quot;, &amp;quot;fmt_time&amp;quot;: &amp;quot;2016-03-31T11:34:17&amp;quot;, &amp;quot;latitude&amp;quot;: 37.40789908962598, &amp;quot;ts&amp;quot;: 1459449257, &amp;quot;longitude&amp;quot;: -122.10784524290585}}, {&amp;quot;geometry&amp;quot;: {&amp;quot;type&amp;quot;: &amp;quot;Point&amp;quot;, &amp;quot;coordinates&amp;quot;: [-122.10784523152876, 37.40789803705714]}, &amp;quot;type&amp;quot;: &amp;quot;Feature&amp;quot;, &amp;quot;id&amp;quot;: &amp;quot;1459449258&amp;quot;, &amp;quot;properties&amp;quot;: {&amp;quot;feature_type&amp;quot;: &amp;quot;location&amp;quot;, &amp;quot;fmt_time&amp;quot;: &amp;quot;2016-03-31T11:34:18&amp;quot;, &amp;quot;latitude&amp;quot;: 37.40789803705714, &amp;quot;ts&amp;quot;: 1459449258, &amp;quot;longitude&amp;quot;: -122.10784523152876}}, {&amp;quot;geometry&amp;quot;: {&amp;quot;type&amp;quot;: &amp;quot;Point&amp;quot;, &amp;quot;coordinates&amp;quot;: [-122.10787892486822, 37.407918956769535]}, &amp;quot;type&amp;quot;: &amp;quot;Feature&amp;quot;, &amp;quot;id&amp;quot;: &amp;quot;1459449259&amp;quot;, &amp;quot;properties&amp;quot;: {&amp;quot;feature_type&amp;quot;: &amp;quot;location&amp;quot;, &amp;quot;fmt_time&amp;quot;: &amp;quot;2016-03-31T11:34:19&amp;quot;, &amp;quot;latitude&amp;quot;: 37.407918956769535, &amp;quot;ts&amp;quot;: 1459449259, &amp;quot;longitude&amp;quot;: -122.10787892486822}}, {&amp;quot;geometry&amp;quot;: {&amp;quot;type&amp;quot;: &amp;quot;Point&amp;quot;, &amp;quot;coordinates&amp;quot;: [-122.10789547576013, 37.40792939462119]}, &amp;quot;type&amp;quot;: &amp;quot;Feature&amp;quot;, &amp;quot;id&amp;quot;: &amp;quot;1459449260&amp;quot;, &amp;quot;properties&amp;quot;: {&amp;quot;feature_type&amp;quot;: &amp;quot;location&amp;quot;, &amp;quot;fmt_time&amp;quot;: &amp;quot;2016-03-31T11:34:20&amp;quot;, &amp;quot;latitude&amp;quot;: 37.40792939462119, &amp;quot;ts&amp;quot;: 1459449260, &amp;quot;longitude&amp;quot;: -122.10789547576013}}, {&amp;quot;geometry&amp;quot;: {&amp;quot;type&amp;quot;: &amp;quot;Point&amp;quot;, &amp;quot;coordinates&amp;quot;: [-122.10790694561197, 37.40793662817449]}, &amp;quot;type&amp;quot;: &amp;quot;Feature&amp;quot;, &amp;quot;id&amp;quot;: &amp;quot;1459449261&amp;quot;, &amp;quot;properties&amp;quot;: {&amp;quot;feature_type&amp;quot;: &amp;quot;location&amp;quot;, &amp;quot;fmt_time&amp;quot;: &amp;quot;2016-03-31T11:34:21&amp;quot;, &amp;quot;latitude&amp;quot;: 37.40793662817449, &amp;quot;ts&amp;quot;: 1459449261, &amp;quot;longitude&amp;quot;: -122.10790694561197}}, {&amp;quot;geometry&amp;quot;: {&amp;quot;type&amp;quot;: &amp;quot;Point&amp;quot;, &amp;quot;coordinates&amp;quot;: [-122.10791841506776, 37.40794386147802]}, &amp;quot;type&amp;quot;: &amp;quot;Feature&amp;quot;, &amp;quot;id&amp;quot;: &amp;quot;1459449262&amp;quot;, &amp;quot;properties&amp;quot;: {&amp;quot;feature_type&amp;quot;: &amp;quot;location&amp;quot;, &amp;quot;fmt_time&amp;quot;: &amp;quot;2016-03-31T11:34:22&amp;quot;, &amp;quot;latitude&amp;quot;: 37.40794386147802, &amp;quot;ts&amp;quot;: 1459449262, &amp;quot;longitude&amp;quot;: -122.10791841506776}}, {&amp;quot;geometry&amp;quot;: {&amp;quot;type&amp;quot;: &amp;quot;Point&amp;quot;, &amp;quot;coordinates&amp;quot;: [-122.10792521362032, 37.4079481489749]}, &amp;quot;type&amp;quot;: &amp;quot;Feature&amp;quot;, &amp;quot;id&amp;quot;: &amp;quot;1459449263&amp;quot;, &amp;quot;properties&amp;quot;: {&amp;quot;feature_type&amp;quot;: &amp;quot;location&amp;quot;, &amp;quot;fmt_time&amp;quot;: &amp;quot;2016-03-31T11:34:23&amp;quot;, &amp;quot;latitude&amp;quot;: 37.4079481489749, &amp;quot;ts&amp;quot;: 1459449263, &amp;quot;longitude&amp;quot;: -122.10792521362032}}, {&amp;quot;geometry&amp;quot;: {&amp;quot;type&amp;quot;: &amp;quot;Point&amp;quot;, &amp;quot;coordinates&amp;quot;: [-122.10792521414385, 37.407948149305064]}, &amp;quot;type&amp;quot;: &amp;quot;Feature&amp;quot;, &amp;quot;id&amp;quot;: &amp;quot;1459449264&amp;quot;, &amp;quot;properties&amp;quot;: {&amp;quot;feature_type&amp;quot;: &amp;quot;location&amp;quot;, &amp;quot;fmt_time&amp;quot;: &amp;quot;2016-03-31T11:34:24&amp;quot;, &amp;quot;latitude&amp;quot;: 37.407948149305064, &amp;quot;ts&amp;quot;: 1459449264, &amp;quot;longitude&amp;quot;: -122.10792521414385}}, {&amp;quot;geometry&amp;quot;: {&amp;quot;type&amp;quot;: &amp;quot;Point&amp;quot;, &amp;quot;coordinates&amp;quot;: [-122.10795714558975, 37.407968287052014]}, &amp;quot;type&amp;quot;: &amp;quot;Feature&amp;quot;, &amp;quot;id&amp;quot;: &amp;quot;1459449265&amp;quot;, &amp;quot;properties&amp;quot;: {&amp;quot;feature_type&amp;quot;: &amp;quot;location&amp;quot;, &amp;quot;fmt_time&amp;quot;: &amp;quot;2016-03-31T11:34:25&amp;quot;, &amp;quot;latitude&amp;quot;: 37.407968287052014, &amp;quot;ts&amp;quot;: 1459449265, &amp;quot;longitude&amp;quot;: -122.10795714558975}}, {&amp;quot;geometry&amp;quot;: {&amp;quot;type&amp;quot;: &amp;quot;Point&amp;quot;, &amp;quot;coordinates&amp;quot;: [-122.1079822234806, 37.40797577014192]}, &amp;quot;type&amp;quot;: &amp;quot;Feature&amp;quot;, &amp;quot;id&amp;quot;: &amp;quot;1459449266&amp;quot;, &amp;quot;properties&amp;quot;: {&amp;quot;feature_type&amp;quot;: &amp;quot;location&amp;quot;, &amp;quot;fmt_time&amp;quot;: &amp;quot;2016-03-31T11:34:26&amp;quot;, &amp;quot;latitude&amp;quot;: 37.40797577014192, &amp;quot;ts&amp;quot;: 1459449266, &amp;quot;longitude&amp;quot;: -122.1079822234806}}, {&amp;quot;geometry&amp;quot;: {&amp;quot;type&amp;quot;: &amp;quot;Point&amp;quot;, &amp;quot;coordinates&amp;quot;: [-122.10800730084344, 37.40798325225708]}, &amp;quot;type&amp;quot;: &amp;quot;Feature&amp;quot;, &amp;quot;id&amp;quot;: &amp;quot;1459449267&amp;quot;, &amp;quot;properties&amp;quot;: {&amp;quot;feature_type&amp;quot;: &amp;quot;location&amp;quot;, &amp;quot;fmt_time&amp;quot;: &amp;quot;2016-03-31T11:34:27&amp;quot;, &amp;quot;latitude&amp;quot;: 37.40798325225708, &amp;quot;ts&amp;quot;: 1459449267, &amp;quot;longitude&amp;quot;: -122.10800730084344}}, {&amp;quot;geometry&amp;quot;: {&amp;quot;type&amp;quot;: &amp;quot;Point&amp;quot;, &amp;quot;coordinates&amp;quot;: [-122.10803237820627, 37.40799073437226]}, &amp;quot;type&amp;quot;: &amp;quot;Feature&amp;quot;, &amp;quot;id&amp;quot;: &amp;quot;1459449268&amp;quot;, &amp;quot;properties&amp;quot;: {&amp;quot;feature_type&amp;quot;: &amp;quot;location&amp;quot;, &amp;quot;fmt_time&amp;quot;: &amp;quot;2016-03-31T11:34:28&amp;quot;, &amp;quot;latitude&amp;quot;: 37.40799073437226, &amp;quot;ts&amp;quot;: 1459449268, &amp;quot;longitude&amp;quot;: -122.10803237820627}}, {&amp;quot;geometry&amp;quot;: {&amp;quot;type&amp;quot;: &amp;quot;Point&amp;quot;, &amp;quot;coordinates&amp;quot;: [-122.10805745556912, 37.40799821648743]}, &amp;quot;type&amp;quot;: &amp;quot;Feature&amp;quot;, &amp;quot;id&amp;quot;: &amp;quot;1459449269&amp;quot;, &amp;quot;properties&amp;quot;: {&amp;quot;feature_type&amp;quot;: &amp;quot;location&amp;quot;, &amp;quot;fmt_time&amp;quot;: &amp;quot;2016-03-31T11:34:29&amp;quot;, &amp;quot;latitude&amp;quot;: 37.40799821648743, &amp;quot;ts&amp;quot;: 1459449269, &amp;quot;longitude&amp;quot;: -122.10805745556912}}, {&amp;quot;geometry&amp;quot;: {&amp;quot;type&amp;quot;: &amp;quot;Point&amp;quot;, &amp;quot;coordinates&amp;quot;: [-122.10808253293197, 37.40800569860261]}, &amp;quot;type&amp;quot;: &amp;quot;Feature&amp;quot;, &amp;quot;id&amp;quot;: &amp;quot;1459449270&amp;quot;, &amp;quot;properties&amp;quot;: {&amp;quot;feature_type&amp;quot;: &amp;quot;location&amp;quot;, &amp;quot;fmt_time&amp;quot;: &amp;quot;2016-03-31T11:34:30&amp;quot;, &amp;quot;latitude&amp;quot;: 37.40800569860261, &amp;quot;ts&amp;quot;: 1459449270, &amp;quot;longitude&amp;quot;: -122.10808253293197}}, {&amp;quot;geometry&amp;quot;: {&amp;quot;type&amp;quot;: &amp;quot;Point&amp;quot;, &amp;quot;coordinates&amp;quot;: [-122.12414213346455, 37.41820695387801]}, &amp;quot;type&amp;quot;: &amp;quot;Feature&amp;quot;, &amp;quot;id&amp;quot;: &amp;quot;1459449360&amp;quot;, &amp;quot;properties&amp;quot;: {&amp;quot;feature_type&amp;quot;: &amp;quot;location&amp;quot;, &amp;quot;fmt_time&amp;quot;: &amp;quot;2016-03-31T11:36:00&amp;quot;, &amp;quot;latitude&amp;quot;: 37.41820695387801, &amp;quot;ts&amp;quot;: 1459449360, &amp;quot;longitude&amp;quot;: -122.12414213346455}}, {&amp;quot;geometry&amp;quot;: {&amp;quot;type&amp;quot;: &amp;quot;Point&amp;quot;, &amp;quot;coordinates&amp;quot;: [-122.1410894639435, 37.42882704358978]}, &amp;quot;type&amp;quot;: &amp;quot;Feature&amp;quot;, &amp;quot;id&amp;quot;: &amp;quot;1459449463&amp;quot;, &amp;quot;properties&amp;quot;: {&amp;quot;feature_type&amp;quot;: &amp;quot;location&amp;quot;, &amp;quot;fmt_time&amp;quot;: &amp;quot;2016-03-31T11:37:43&amp;quot;, &amp;quot;latitude&amp;quot;: 37.42882704358978, &amp;quot;ts&amp;quot;: 1459449463, &amp;quot;longitude&amp;quot;: -122.1410894639435}}, {&amp;quot;geometry&amp;quot;: {&amp;quot;type&amp;quot;: &amp;quot;Point&amp;quot;, &amp;quot;coordinates&amp;quot;: [-122.14159192928965, 37.42911693498216]}, &amp;quot;type&amp;quot;: &amp;quot;Feature&amp;quot;, &amp;quot;id&amp;quot;: &amp;quot;1459449524&amp;quot;, &amp;quot;properties&amp;quot;: {&amp;quot;feature_type&amp;quot;: &amp;quot;location&amp;quot;, &amp;quot;fmt_time&amp;quot;: &amp;quot;2016-03-31T11:38:44&amp;quot;, &amp;quot;latitude&amp;quot;: 37.42911693498216, &amp;quot;ts&amp;quot;: 1459449524, &amp;quot;longitude&amp;quot;: -122.14159192928965}}, {&amp;quot;geometry&amp;quot;: {&amp;quot;type&amp;quot;: &amp;quot;Point&amp;quot;, &amp;quot;coordinates&amp;quot;: [-122.14157924866463, 37.42912505001074]}, &amp;quot;type&amp;quot;: &amp;quot;Feature&amp;quot;, &amp;quot;id&amp;quot;: &amp;quot;1459449525&amp;quot;, &amp;quot;properties&amp;quot;: {&amp;quot;feature_type&amp;quot;: &amp;quot;location&amp;quot;, &amp;quot;fmt_time&amp;quot;: &amp;quot;2016-03-31T11:38:45&amp;quot;, &amp;quot;latitude&amp;quot;: 37.42912505001074, &amp;quot;ts&amp;quot;: 1459449525, &amp;quot;longitude&amp;quot;: -122.14157924866463}}, {&amp;quot;geometry&amp;quot;: {&amp;quot;type&amp;quot;: &amp;quot;Point&amp;quot;, &amp;quot;coordinates&amp;quot;: [-122.1415826861292, 37.429118644381035]}, &amp;quot;type&amp;quot;: &amp;quot;Feature&amp;quot;, &amp;quot;id&amp;quot;: &amp;quot;1459449526&amp;quot;, &amp;quot;properties&amp;quot;: {&amp;quot;feature_type&amp;quot;: &amp;quot;location&amp;quot;, &amp;quot;fmt_time&amp;quot;: &amp;quot;2016-03-31T11:38:46&amp;quot;, &amp;quot;latitude&amp;quot;: 37.429118644381035, &amp;quot;ts&amp;quot;: 1459449526, &amp;quot;longitude&amp;quot;: -122.1415826861292}}, {&amp;quot;geometry&amp;quot;: {&amp;quot;type&amp;quot;: &amp;quot;Point&amp;quot;, &amp;quot;coordinates&amp;quot;: [-122.14158311598543, 37.429114778569904]}, &amp;quot;type&amp;quot;: &amp;quot;Feature&amp;quot;, &amp;quot;id&amp;quot;: &amp;quot;1459449527&amp;quot;, &amp;quot;properties&amp;quot;: {&amp;quot;feature_type&amp;quot;: &amp;quot;location&amp;quot;, &amp;quot;fmt_time&amp;quot;: &amp;quot;2016-03-31T11:38:47&amp;quot;, &amp;quot;latitude&amp;quot;: 37.429114778569904, &amp;quot;ts&amp;quot;: 1459449527, &amp;quot;longitude&amp;quot;: -122.14158311598543}}, {&amp;quot;geometry&amp;quot;: {&amp;quot;type&amp;quot;: &amp;quot;Point&amp;quot;, &amp;quot;coordinates&amp;quot;: [-122.14158141115428, 37.42911447648376]}, &amp;quot;type&amp;quot;: &amp;quot;Feature&amp;quot;, &amp;quot;id&amp;quot;: &amp;quot;1459449528&amp;quot;, &amp;quot;properties&amp;quot;: {&amp;quot;feature_type&amp;quot;: &amp;quot;location&amp;quot;, &amp;quot;fmt_time&amp;quot;: &amp;quot;2016-03-31T11:38:48&amp;quot;, &amp;quot;latitude&amp;quot;: 37.42911447648376, &amp;quot;ts&amp;quot;: 1459449528, &amp;quot;longitude&amp;quot;: -122.14158141115428}}, {&amp;quot;geometry&amp;quot;: {&amp;quot;type&amp;quot;: &amp;quot;Point&amp;quot;, &amp;quot;coordinates&amp;quot;: [-122.14157708014883, 37.4291150887723]}, &amp;quot;type&amp;quot;: &amp;quot;Feature&amp;quot;, &amp;quot;id&amp;quot;: &amp;quot;1459449529&amp;quot;, &amp;quot;properties&amp;quot;: {&amp;quot;feature_type&amp;quot;: &amp;quot;location&amp;quot;, &amp;quot;fmt_time&amp;quot;: &amp;quot;2016-03-31T11:38:49&amp;quot;, &amp;quot;latitude&amp;quot;: 37.4291150887723, &amp;quot;ts&amp;quot;: 1459449529, &amp;quot;longitude&amp;quot;: -122.14157708014883}}, {&amp;quot;geometry&amp;quot;: {&amp;quot;type&amp;quot;: &amp;quot;Point&amp;quot;, &amp;quot;coordinates&amp;quot;: [-122.14157317252685, 37.42911536024599]}, &amp;quot;type&amp;quot;: &amp;quot;Feature&amp;quot;, &amp;quot;id&amp;quot;: &amp;quot;1459449530&amp;quot;, &amp;quot;properties&amp;quot;: {&amp;quot;feature_type&amp;quot;: &amp;quot;location&amp;quot;, &amp;quot;fmt_time&amp;quot;: &amp;quot;2016-03-31T11:38:50&amp;quot;, &amp;quot;latitude&amp;quot;: 37.42911536024599, &amp;quot;ts&amp;quot;: 1459449530, &amp;quot;longitude&amp;quot;: -122.14157317252685}}, {&amp;quot;geometry&amp;quot;: {&amp;quot;type&amp;quot;: &amp;quot;Point&amp;quot;, &amp;quot;coordinates&amp;quot;: [-122.14157456257635, 37.429114727563814]}, &amp;quot;type&amp;quot;: &amp;quot;Feature&amp;quot;, &amp;quot;id&amp;quot;: &amp;quot;1459449531&amp;quot;, &amp;quot;properties&amp;quot;: {&amp;quot;feature_type&amp;quot;: &amp;quot;location&amp;quot;, &amp;quot;fmt_time&amp;quot;: &amp;quot;2016-03-31T11:38:51&amp;quot;, &amp;quot;latitude&amp;quot;: 37.429114727563814, &amp;quot;ts&amp;quot;: 1459449531, &amp;quot;longitude&amp;quot;: -122.14157456257635}}, {&amp;quot;geometry&amp;quot;: {&amp;quot;type&amp;quot;: &amp;quot;Point&amp;quot;, &amp;quot;coordinates&amp;quot;: [-122.14157573277538, 37.42911206250943]}, &amp;quot;type&amp;quot;: &amp;quot;Feature&amp;quot;, &amp;quot;id&amp;quot;: &amp;quot;1459449532&amp;quot;, &amp;quot;properties&amp;quot;: {&amp;quot;feature_type&amp;quot;: &amp;quot;location&amp;quot;, &amp;quot;fmt_time&amp;quot;: &amp;quot;2016-03-31T11:38:52&amp;quot;, &amp;quot;latitude&amp;quot;: 37.42911206250943, &amp;quot;ts&amp;quot;: 1459449532, &amp;quot;longitude&amp;quot;: -122.14157573277538}}, {&amp;quot;geometry&amp;quot;: {&amp;quot;type&amp;quot;: &amp;quot;Point&amp;quot;, &amp;quot;coordinates&amp;quot;: [-122.14157669507028, 37.42911031563638]}, &amp;quot;type&amp;quot;: &amp;quot;Feature&amp;quot;, &amp;quot;id&amp;quot;: &amp;quot;1459449533&amp;quot;, &amp;quot;properties&amp;quot;: {&amp;quot;feature_type&amp;quot;: &amp;quot;location&amp;quot;, &amp;quot;fmt_time&amp;quot;: &amp;quot;2016-03-31T11:38:53&amp;quot;, &amp;quot;latitude&amp;quot;: 37.42911031563638, &amp;quot;ts&amp;quot;: 1459449533, &amp;quot;longitude&amp;quot;: -122.14157669507028}}, {&amp;quot;geometry&amp;quot;: {&amp;quot;type&amp;quot;: &amp;quot;Point&amp;quot;, &amp;quot;coordinates&amp;quot;: [-122.14157810414517, 37.42911044750335]}, &amp;quot;type&amp;quot;: &amp;quot;Feature&amp;quot;, &amp;quot;id&amp;quot;: &amp;quot;1459449534&amp;quot;, &amp;quot;properties&amp;quot;: {&amp;quot;feature_type&amp;quot;: &amp;quot;location&amp;quot;, &amp;quot;fmt_time&amp;quot;: &amp;quot;2016-03-31T11:38:54&amp;quot;, &amp;quot;latitude&amp;quot;: 37.42911044750335, &amp;quot;ts&amp;quot;: 1459449534, &amp;quot;longitude&amp;quot;: -122.14157810414517}}, {&amp;quot;geometry&amp;quot;: {&amp;quot;type&amp;quot;: &amp;quot;Point&amp;quot;, &amp;quot;coordinates&amp;quot;: [-122.14157876670888, 37.429110296222944]}, &amp;quot;type&amp;quot;: &amp;quot;Feature&amp;quot;, &amp;quot;id&amp;quot;: &amp;quot;1459449535&amp;quot;, &amp;quot;properties&amp;quot;: {&amp;quot;feature_type&amp;quot;: &amp;quot;location&amp;quot;, &amp;quot;fmt_time&amp;quot;: &amp;quot;2016-03-31T11:38:55&amp;quot;, &amp;quot;latitude&amp;quot;: 37.429110296222944, &amp;quot;ts&amp;quot;: 1459449535, &amp;quot;longitude&amp;quot;: -122.14157876670888}}, {&amp;quot;geometry&amp;quot;: {&amp;quot;type&amp;quot;: &amp;quot;Point&amp;quot;, &amp;quot;coordinates&amp;quot;: [-122.14157929209728, 37.4291097190042]}, &amp;quot;type&amp;quot;: &amp;quot;Feature&amp;quot;, &amp;quot;id&amp;quot;: &amp;quot;1459449536&amp;quot;, &amp;quot;properties&amp;quot;: {&amp;quot;feature_type&amp;quot;: &amp;quot;location&amp;quot;, &amp;quot;fmt_time&amp;quot;: &amp;quot;2016-03-31T11:38:56&amp;quot;, &amp;quot;latitude&amp;quot;: 37.4291097190042, &amp;quot;ts&amp;quot;: 1459449536, &amp;quot;longitude&amp;quot;: -122.14157929209728}}, {&amp;quot;geometry&amp;quot;: {&amp;quot;type&amp;quot;: &amp;quot;Point&amp;quot;, &amp;quot;coordinates&amp;quot;: [-122.1415796657883, 37.42910927902305]}, &amp;quot;type&amp;quot;: &amp;quot;Feature&amp;quot;, &amp;quot;id&amp;quot;: &amp;quot;1459449537&amp;quot;, &amp;quot;properties&amp;quot;: {&amp;quot;feature_type&amp;quot;: &amp;quot;location&amp;quot;, &amp;quot;fmt_time&amp;quot;: &amp;quot;2016-03-31T11:38:57&amp;quot;, &amp;quot;latitude&amp;quot;: 37.42910927902305, &amp;quot;ts&amp;quot;: 1459449537, &amp;quot;longitude&amp;quot;: -122.1415796657883}}, {&amp;quot;geometry&amp;quot;: {&amp;quot;type&amp;quot;: &amp;quot;Point&amp;quot;, &amp;quot;coordinates&amp;quot;: [-122.14158010840667, 37.42910889401237]}, &amp;quot;type&amp;quot;: &amp;quot;Feature&amp;quot;, &amp;quot;id&amp;quot;: &amp;quot;1459449538&amp;quot;, &amp;quot;properties&amp;quot;: {&amp;quot;feature_type&amp;quot;: &amp;quot;location&amp;quot;, &amp;quot;fmt_time&amp;quot;: &amp;quot;2016-03-31T11:38:58&amp;quot;, &amp;quot;latitude&amp;quot;: 37.42910889401237, &amp;quot;ts&amp;quot;: 1459449538, &amp;quot;longitude&amp;quot;: -122.14158010840667}}, {&amp;quot;geometry&amp;quot;: {&amp;quot;type&amp;quot;: &amp;quot;Point&amp;quot;, &amp;quot;coordinates&amp;quot;: [-122.14158061991782, 37.42910845987292]}, &amp;quot;type&amp;quot;: &amp;quot;Feature&amp;quot;, &amp;quot;id&amp;quot;: &amp;quot;1459449539&amp;quot;, &amp;quot;properties&amp;quot;: {&amp;quot;feature_type&amp;quot;: &amp;quot;location&amp;quot;, &amp;quot;fmt_time&amp;quot;: &amp;quot;2016-03-31T11:38:59&amp;quot;, &amp;quot;latitude&amp;quot;: 37.42910845987292, &amp;quot;ts&amp;quot;: 1459449539, &amp;quot;longitude&amp;quot;: -122.14158061991782}}, {&amp;quot;geometry&amp;quot;: {&amp;quot;type&amp;quot;: &amp;quot;Point&amp;quot;, &amp;quot;coordinates&amp;quot;: [-122.14158116064692, 37.429108054951385]}, &amp;quot;type&amp;quot;: &amp;quot;Feature&amp;quot;, &amp;quot;id&amp;quot;: &amp;quot;1459449540&amp;quot;, &amp;quot;properties&amp;quot;: {&amp;quot;feature_type&amp;quot;: &amp;quot;location&amp;quot;, &amp;quot;fmt_time&amp;quot;: &amp;quot;2016-03-31T11:39:00&amp;quot;, &amp;quot;latitude&amp;quot;: 37.429108054951385, &amp;quot;ts&amp;quot;: 1459449540, &amp;quot;longitude&amp;quot;: -122.14158116064692}}, {&amp;quot;geometry&amp;quot;: {&amp;quot;type&amp;quot;: &amp;quot;Point&amp;quot;, &amp;quot;coordinates&amp;quot;: [-122.14158174440863, 37.42910767239273]}, &amp;quot;type&amp;quot;: &amp;quot;Feature&amp;quot;, &amp;quot;id&amp;quot;: &amp;quot;1459449541&amp;quot;, &amp;quot;properties&amp;quot;: {&amp;quot;feature_type&amp;quot;: &amp;quot;location&amp;quot;, &amp;quot;fmt_time&amp;quot;: &amp;quot;2016-03-31T11:39:01&amp;quot;, &amp;quot;latitude&amp;quot;: 37.42910767239273, &amp;quot;ts&amp;quot;: 1459449541, &amp;quot;longitude&amp;quot;: -122.14158174440863}}, {&amp;quot;geometry&amp;quot;: {&amp;quot;type&amp;quot;: &amp;quot;Point&amp;quot;, &amp;quot;coordinates&amp;quot;: [-122.14158232032597, 37.42910728983407]}, &amp;quot;type&amp;quot;: &amp;quot;Feature&amp;quot;, &amp;quot;id&amp;quot;: &amp;quot;1459449542&amp;quot;, &amp;quot;properties&amp;quot;: {&amp;quot;feature_type&amp;quot;: &amp;quot;location&amp;quot;, &amp;quot;fmt_time&amp;quot;: &amp;quot;2016-03-31T11:39:02&amp;quot;, &amp;quot;latitude&amp;quot;: 37.42910728983407, &amp;quot;ts&amp;quot;: 1459449542, &amp;quot;longitude&amp;quot;: -122.14158232032597}}, {&amp;quot;geometry&amp;quot;: {&amp;quot;type&amp;quot;: &amp;quot;Point&amp;quot;, &amp;quot;coordinates&amp;quot;: [-122.14158284992278, 37.42910690727541]}, &amp;quot;type&amp;quot;: &amp;quot;Feature&amp;quot;, &amp;quot;id&amp;quot;: &amp;quot;1459449543&amp;quot;, &amp;quot;properties&amp;quot;: {&amp;quot;feature_type&amp;quot;: &amp;quot;location&amp;quot;, &amp;quot;fmt_time&amp;quot;: &amp;quot;2016-03-31T11:39:03&amp;quot;, &amp;quot;latitude&amp;quot;: 37.42910690727541, &amp;quot;ts&amp;quot;: 1459449543, &amp;quot;longitude&amp;quot;: -122.14158284992278}}, {&amp;quot;geometry&amp;quot;: {&amp;quot;type&amp;quot;: &amp;quot;Point&amp;quot;, &amp;quot;coordinates&amp;quot;: [-122.14158343894641, 37.42910652471676]}, &amp;quot;type&amp;quot;: &amp;quot;Feature&amp;quot;, &amp;quot;id&amp;quot;: &amp;quot;1459449544&amp;quot;, &amp;quot;properties&amp;quot;: {&amp;quot;feature_type&amp;quot;: &amp;quot;location&amp;quot;, &amp;quot;fmt_time&amp;quot;: &amp;quot;2016-03-31T11:39:04&amp;quot;, &amp;quot;latitude&amp;quot;: 37.42910652471676, &amp;quot;ts&amp;quot;: 1459449544, &amp;quot;longitude&amp;quot;: -122.14158343894641}}, {&amp;quot;geometry&amp;quot;: {&amp;quot;type&amp;quot;: &amp;quot;Point&amp;quot;, &amp;quot;coordinates&amp;quot;: [-122.1415840261067, 37.429106115000735]}, &amp;quot;type&amp;quot;: &amp;quot;Feature&amp;quot;, &amp;quot;id&amp;quot;: &amp;quot;1459449545&amp;quot;, &amp;quot;properties&amp;quot;: {&amp;quot;feature_type&amp;quot;: &amp;quot;location&amp;quot;, &amp;quot;fmt_time&amp;quot;: &amp;quot;2016-03-31T11:39:05&amp;quot;, &amp;quot;latitude&amp;quot;: 37.429106115000735, &amp;quot;ts&amp;quot;: 1459449545, &amp;quot;longitude&amp;quot;: -122.1415840261067}}, {&amp;quot;geometry&amp;quot;: {&amp;quot;type&amp;quot;: &amp;quot;Point&amp;quot;, &amp;quot;coordinates&amp;quot;: [-122.14158458919866, 37.429105681961246]}, &amp;quot;type&amp;quot;: &amp;quot;Feature&amp;quot;, &amp;quot;id&amp;quot;: &amp;quot;1459449546&amp;quot;, &amp;quot;properties&amp;quot;: {&amp;quot;feature_type&amp;quot;: &amp;quot;location&amp;quot;, &amp;quot;fmt_time&amp;quot;: &amp;quot;2016-03-31T11:39:06&amp;quot;, &amp;quot;latitude&amp;quot;: 37.429105681961246, &amp;quot;ts&amp;quot;: 1459449546, &amp;quot;longitude&amp;quot;: -122.14158458919866}}, {&amp;quot;geometry&amp;quot;: {&amp;quot;type&amp;quot;: &amp;quot;Point&amp;quot;, &amp;quot;coordinates&amp;quot;: [-122.14158515229062, 37.42910527704078]}, &amp;quot;type&amp;quot;: &amp;quot;Feature&amp;quot;, &amp;quot;id&amp;quot;: &amp;quot;1459449547&amp;quot;, &amp;quot;properties&amp;quot;: {&amp;quot;feature_type&amp;quot;: &amp;quot;location&amp;quot;, &amp;quot;fmt_time&amp;quot;: &amp;quot;2016-03-31T11:39:07&amp;quot;, &amp;quot;latitude&amp;quot;: 37.42910527704078, &amp;quot;ts&amp;quot;: 1459449547, &amp;quot;longitude&amp;quot;: -122.14158515229062}}, {&amp;quot;geometry&amp;quot;: {&amp;quot;type&amp;quot;: &amp;quot;Point&amp;quot;, &amp;quot;coordinates&amp;quot;: [-122.14158571538256, 37.429104873633136]}, &amp;quot;type&amp;quot;: &amp;quot;Feature&amp;quot;, &amp;quot;id&amp;quot;: &amp;quot;1459449548&amp;quot;, &amp;quot;properties&amp;quot;: {&amp;quot;feature_type&amp;quot;: &amp;quot;location&amp;quot;, &amp;quot;fmt_time&amp;quot;: &amp;quot;2016-03-31T11:39:08&amp;quot;, &amp;quot;latitude&amp;quot;: 37.429104873633136, &amp;quot;ts&amp;quot;: 1459449548, &amp;quot;longitude&amp;quot;: -122.14158571538256}}, {&amp;quot;geometry&amp;quot;: {&amp;quot;type&amp;quot;: &amp;quot;Point&amp;quot;, &amp;quot;coordinates&amp;quot;: [-122.14158629477728, 37.42910446192347]}, &amp;quot;type&amp;quot;: &amp;quot;Feature&amp;quot;, &amp;quot;id&amp;quot;: &amp;quot;1459449549&amp;quot;, &amp;quot;properties&amp;quot;: {&amp;quot;feature_type&amp;quot;: &amp;quot;location&amp;quot;, &amp;quot;fmt_time&amp;quot;: &amp;quot;2016-03-31T11:39:09&amp;quot;, &amp;quot;latitude&amp;quot;: 37.42910446192347, &amp;quot;ts&amp;quot;: 1459449549, &amp;quot;longitude&amp;quot;: -122.14158629477728}}, {&amp;quot;geometry&amp;quot;: {&amp;quot;type&amp;quot;: &amp;quot;Point&amp;quot;, &amp;quot;coordinates&amp;quot;: [-122.14158689156648, 37.4291040526484]}, &amp;quot;type&amp;quot;: &amp;quot;Feature&amp;quot;, &amp;quot;id&amp;quot;: &amp;quot;1459449550&amp;quot;, &amp;quot;properties&amp;quot;: {&amp;quot;feature_type&amp;quot;: &amp;quot;location&amp;quot;, &amp;quot;fmt_time&amp;quot;: &amp;quot;2016-03-31T11:39:10&amp;quot;, &amp;quot;latitude&amp;quot;: 37.4291040526484, &amp;quot;ts&amp;quot;: 1459449550, &amp;quot;longitude&amp;quot;: -122.14158689156648}}, {&amp;quot;geometry&amp;quot;: {&amp;quot;type&amp;quot;: &amp;quot;Point&amp;quot;, &amp;quot;coordinates&amp;quot;: [-122.14158745465843, 37.429103646806155]}, &amp;quot;type&amp;quot;: &amp;quot;Feature&amp;quot;, &amp;quot;id&amp;quot;: &amp;quot;1459449551&amp;quot;, &amp;quot;properties&amp;quot;: {&amp;quot;feature_type&amp;quot;: &amp;quot;location&amp;quot;, &amp;quot;fmt_time&amp;quot;: &amp;quot;2016-03-31T11:39:11&amp;quot;, &amp;quot;latitude&amp;quot;: 37.429103646806155, &amp;quot;ts&amp;quot;: 1459449551, &amp;quot;longitude&amp;quot;: -122.14158745465843}}, {&amp;quot;geometry&amp;quot;: {&amp;quot;type&amp;quot;: &amp;quot;Point&amp;quot;, &amp;quot;coordinates&amp;quot;: [-122.1415880177504, 37.42910324099169]}, &amp;quot;type&amp;quot;: &amp;quot;Feature&amp;quot;, &amp;quot;id&amp;quot;: &amp;quot;1459449552&amp;quot;, &amp;quot;properties&amp;quot;: {&amp;quot;feature_type&amp;quot;: &amp;quot;location&amp;quot;, &amp;quot;fmt_time&amp;quot;: &amp;quot;2016-03-31T11:39:12&amp;quot;, &amp;quot;latitude&amp;quot;: 37.42910324099169, &amp;quot;ts&amp;quot;: 1459449552, &amp;quot;longitude&amp;quot;: -122.1415880177504}}, {&amp;quot;geometry&amp;quot;: {&amp;quot;type&amp;quot;: &amp;quot;Point&amp;quot;, &amp;quot;coordinates&amp;quot;: [-122.14158860367368, 37.42910283168884]}, &amp;quot;type&amp;quot;: &amp;quot;Feature&amp;quot;, &amp;quot;id&amp;quot;: &amp;quot;1459449553&amp;quot;, &amp;quot;properties&amp;quot;: {&amp;quot;feature_type&amp;quot;: &amp;quot;location&amp;quot;, &amp;quot;fmt_time&amp;quot;: &amp;quot;2016-03-31T11:39:13&amp;quot;, &amp;quot;latitude&amp;quot;: 37.42910283168884, &amp;quot;ts&amp;quot;: 1459449553, &amp;quot;longitude&amp;quot;: -122.14158860367368}}, {&amp;quot;geometry&amp;quot;: {&amp;quot;type&amp;quot;: &amp;quot;Point&amp;quot;, &amp;quot;coordinates&amp;quot;: [-122.1415891939343, 37.429102422005684]}, &amp;quot;type&amp;quot;: &amp;quot;Feature&amp;quot;, &amp;quot;id&amp;quot;: &amp;quot;1459449554&amp;quot;, &amp;quot;properties&amp;quot;: {&amp;quot;feature_type&amp;quot;: &amp;quot;location&amp;quot;, &amp;quot;fmt_time&amp;quot;: &amp;quot;2016-03-31T11:39:14&amp;quot;, &amp;quot;latitude&amp;quot;: 37.429102422005684, &amp;quot;ts&amp;quot;: 1459449554, &amp;quot;longitude&amp;quot;: -122.1415891939343}}, {&amp;quot;geometry&amp;quot;: {&amp;quot;type&amp;quot;: &amp;quot;Point&amp;quot;, &amp;quot;coordinates&amp;quot;: [-122.14158978376929, 37.42910201657152]}, &amp;quot;type&amp;quot;: &amp;quot;Feature&amp;quot;, &amp;quot;id&amp;quot;: &amp;quot;1459449555&amp;quot;, &amp;quot;properties&amp;quot;: {&amp;quot;feature_type&amp;quot;: &amp;quot;location&amp;quot;, &amp;quot;fmt_time&amp;quot;: &amp;quot;2016-03-31T11:39:15&amp;quot;, &amp;quot;latitude&amp;quot;: 37.42910201657152, &amp;quot;ts&amp;quot;: 1459449555, &amp;quot;longitude&amp;quot;: -122.14158978376929}}, {&amp;quot;geometry&amp;quot;: {&amp;quot;type&amp;quot;: &amp;quot;Point&amp;quot;, &amp;quot;coordinates&amp;quot;: [-122.14159037011822, 37.429101607442576]}, &amp;quot;type&amp;quot;: &amp;quot;Feature&amp;quot;, &amp;quot;id&amp;quot;: &amp;quot;1459449556&amp;quot;, &amp;quot;properties&amp;quot;: {&amp;quot;feature_type&amp;quot;: &amp;quot;location&amp;quot;, &amp;quot;fmt_time&amp;quot;: &amp;quot;2016-03-31T11:39:16&amp;quot;, &amp;quot;latitude&amp;quot;: 37.429101607442576, &amp;quot;ts&amp;quot;: 1459449556, &amp;quot;longitude&amp;quot;: -122.14159037011822}}, {&amp;quot;geometry&amp;quot;: {&amp;quot;type&amp;quot;: &amp;quot;Point&amp;quot;, &amp;quot;coordinates&amp;quot;: [-122.1415909543089, 37.42910120145421]}, &amp;quot;type&amp;quot;: &amp;quot;Feature&amp;quot;, &amp;quot;id&amp;quot;: &amp;quot;1459449557&amp;quot;, &amp;quot;properties&amp;quot;: {&amp;quot;feature_type&amp;quot;: &amp;quot;location&amp;quot;, &amp;quot;fmt_time&amp;quot;: &amp;quot;2016-03-31T11:39:17&amp;quot;, &amp;quot;latitude&amp;quot;: 37.42910120145421, &amp;quot;ts&amp;quot;: 1459449557, &amp;quot;longitude&amp;quot;: -122.1415909543089}}, {&amp;quot;geometry&amp;quot;: {&amp;quot;type&amp;quot;: &amp;quot;Point&amp;quot;, &amp;quot;coordinates&amp;quot;: [-122.14159151043826, 37.42910076509975]}, &amp;quot;type&amp;quot;: &amp;quot;Feature&amp;quot;, &amp;quot;id&amp;quot;: &amp;quot;1459449558&amp;quot;, &amp;quot;properties&amp;quot;: {&amp;quot;feature_type&amp;quot;: &amp;quot;location&amp;quot;, &amp;quot;fmt_time&amp;quot;: &amp;quot;2016-03-31T11:39:18&amp;quot;, &amp;quot;latitude&amp;quot;: 37.42910076509975, &amp;quot;ts&amp;quot;: 1459449558, &amp;quot;longitude&amp;quot;: -122.14159151043826}}, {&amp;quot;geometry&amp;quot;: {&amp;quot;type&amp;quot;: &amp;quot;Point&amp;quot;, &amp;quot;coordinates&amp;quot;: [-122.14159203489409, 37.42910026083689]}, &amp;quot;type&amp;quot;: &amp;quot;Feature&amp;quot;, &amp;quot;id&amp;quot;: &amp;quot;1459449559&amp;quot;, &amp;quot;properties&amp;quot;: {&amp;quot;feature_type&amp;quot;: &amp;quot;location&amp;quot;, &amp;quot;fmt_time&amp;quot;: &amp;quot;2016-03-31T11:39:19&amp;quot;, &amp;quot;latitude&amp;quot;: 37.42910026083689, &amp;quot;ts&amp;quot;: 1459449559, &amp;quot;longitude&amp;quot;: -122.14159203489409}}, {&amp;quot;geometry&amp;quot;: {&amp;quot;type&amp;quot;: &amp;quot;Point&amp;quot;, &amp;quot;coordinates&amp;quot;: [-122.1415926481658, 37.42909982809848]}, &amp;quot;type&amp;quot;: &amp;quot;Feature&amp;quot;, &amp;quot;id&amp;quot;: &amp;quot;1459449560&amp;quot;, &amp;quot;properties&amp;quot;: {&amp;quot;feature_type&amp;quot;: &amp;quot;location&amp;quot;, &amp;quot;fmt_time&amp;quot;: &amp;quot;2016-03-31T11:39:20&amp;quot;, &amp;quot;latitude&amp;quot;: 37.42909982809848, &amp;quot;ts&amp;quot;: 1459449560, &amp;quot;longitude&amp;quot;: -122.1415926481658}}, {&amp;quot;geometry&amp;quot;: {&amp;quot;type&amp;quot;: &amp;quot;Point&amp;quot;, &amp;quot;coordinates&amp;quot;: [-122.14159326158403, 37.42909939521354]}, &amp;quot;type&amp;quot;: &amp;quot;Feature&amp;quot;, &amp;quot;id&amp;quot;: &amp;quot;1459449561&amp;quot;, &amp;quot;properties&amp;quot;: {&amp;quot;feature_type&amp;quot;: &amp;quot;location&amp;quot;, &amp;quot;fmt_time&amp;quot;: &amp;quot;2016-03-31T11:39:21&amp;quot;, &amp;quot;latitude&amp;quot;: 37.42909939521354, &amp;quot;ts&amp;quot;: 1459449561, &amp;quot;longitude&amp;quot;: -122.14159326158403}}, {&amp;quot;geometry&amp;quot;: {&amp;quot;type&amp;quot;: &amp;quot;Point&amp;quot;, &amp;quot;coordinates&amp;quot;: [-122.14159384866997, 37.429098988660925]}, &amp;quot;type&amp;quot;: &amp;quot;Feature&amp;quot;, &amp;quot;id&amp;quot;: &amp;quot;1459449562&amp;quot;, &amp;quot;properties&amp;quot;: {&amp;quot;feature_type&amp;quot;: &amp;quot;location&amp;quot;, &amp;quot;fmt_time&amp;quot;: &amp;quot;2016-03-31T11:39:22&amp;quot;, &amp;quot;latitude&amp;quot;: 37.429098988660925, &amp;quot;ts&amp;quot;: 1459449562, &amp;quot;longitude&amp;quot;: -122.14159384866997}}, {&amp;quot;geometry&amp;quot;: {&amp;quot;type&amp;quot;: &amp;quot;Point&amp;quot;, &amp;quot;coordinates&amp;quot;: [-122.14159441176191, 37.42909860610226]}, &amp;quot;type&amp;quot;: &amp;quot;Feature&amp;quot;, &amp;quot;id&amp;quot;: &amp;quot;1459449563&amp;quot;, &amp;quot;properties&amp;quot;: {&amp;quot;feature_type&amp;quot;: &amp;quot;location&amp;quot;, &amp;quot;fmt_time&amp;quot;: &amp;quot;2016-03-31T11:39:23&amp;quot;, &amp;quot;latitude&amp;quot;: 37.42909860610226, &amp;quot;ts&amp;quot;: 1459449563, &amp;quot;longitude&amp;quot;: -122.14159441176191}}, {&amp;quot;geometry&amp;quot;: {&amp;quot;type&amp;quot;: &amp;quot;Point&amp;quot;, &amp;quot;coordinates&amp;quot;: [-122.14160300268246, 37.42910384442051]}, &amp;quot;type&amp;quot;: &amp;quot;Feature&amp;quot;, &amp;quot;id&amp;quot;: &amp;quot;1459449564&amp;quot;, &amp;quot;properties&amp;quot;: {&amp;quot;feature_type&amp;quot;: &amp;quot;location&amp;quot;, &amp;quot;fmt_time&amp;quot;: &amp;quot;2016-03-31T11:39:24&amp;quot;, &amp;quot;latitude&amp;quot;: 37.42910384442051, &amp;quot;ts&amp;quot;: 1459449564, &amp;quot;longitude&amp;quot;: -122.14160300268246}}, {&amp;quot;geometry&amp;quot;: {&amp;quot;type&amp;quot;: &amp;quot;Point&amp;quot;, &amp;quot;coordinates&amp;quot;: [-122.14161674866322, 37.42910510196892]}, &amp;quot;type&amp;quot;: &amp;quot;Feature&amp;quot;, &amp;quot;id&amp;quot;: &amp;quot;1459449565&amp;quot;, &amp;quot;properties&amp;quot;: {&amp;quot;feature_type&amp;quot;: &amp;quot;location&amp;quot;, &amp;quot;fmt_time&amp;quot;: &amp;quot;2016-03-31T11:39:25&amp;quot;, &amp;quot;latitude&amp;quot;: 37.42910510196892, &amp;quot;ts&amp;quot;: 1459449565, &amp;quot;longitude&amp;quot;: -122.14161674866322}}, {&amp;quot;geometry&amp;quot;: {&amp;quot;type&amp;quot;: &amp;quot;Point&amp;quot;, &amp;quot;coordinates&amp;quot;: [-122.14161689831289, 37.42910528523202]}, &amp;quot;type&amp;quot;: &amp;quot;Feature&amp;quot;, &amp;quot;id&amp;quot;: &amp;quot;1459449566&amp;quot;, &amp;quot;properties&amp;quot;: {&amp;quot;feature_type&amp;quot;: &amp;quot;location&amp;quot;, &amp;quot;fmt_time&amp;quot;: &amp;quot;2016-03-31T11:39:26&amp;quot;, &amp;quot;latitude&amp;quot;: 37.42910528523202, &amp;quot;ts&amp;quot;: 1459449566, &amp;quot;longitude&amp;quot;: -122.14161689831289}}, {&amp;quot;geometry&amp;quot;: {&amp;quot;type&amp;quot;: &amp;quot;Point&amp;quot;, &amp;quot;coordinates&amp;quot;: [-122.14161703475105, 37.42910544374776]}, &amp;quot;type&amp;quot;: &amp;quot;Feature&amp;quot;, &amp;quot;id&amp;quot;: &amp;quot;1459449567&amp;quot;, &amp;quot;properties&amp;quot;: {&amp;quot;feature_type&amp;quot;: &amp;quot;location&amp;quot;, &amp;quot;fmt_time&amp;quot;: &amp;quot;2016-03-31T11:39:27&amp;quot;, &amp;quot;latitude&amp;quot;: 37.42910544374776, &amp;quot;ts&amp;quot;: 1459449567, &amp;quot;longitude&amp;quot;: -122.14161703475105}}, {&amp;quot;geometry&amp;quot;: {&amp;quot;type&amp;quot;: &amp;quot;Point&amp;quot;, &amp;quot;coordinates&amp;quot;: [-122.14161721704417, 37.42910558932856]}, &amp;quot;type&amp;quot;: &amp;quot;Feature&amp;quot;, &amp;quot;id&amp;quot;: &amp;quot;1459449568&amp;quot;, &amp;quot;properties&amp;quot;: {&amp;quot;feature_type&amp;quot;: &amp;quot;location&amp;quot;, &amp;quot;fmt_time&amp;quot;: &amp;quot;2016-03-31T11:39:28&amp;quot;, &amp;quot;latitude&amp;quot;: 37.42910558932856, &amp;quot;ts&amp;quot;: 1459449568, &amp;quot;longitude&amp;quot;: -122.14161721704417}}, {&amp;quot;geometry&amp;quot;: {&amp;quot;type&amp;quot;: &amp;quot;Point&amp;quot;, &amp;quot;coordinates&amp;quot;: [-122.1416173452159, 37.42910571110521]}, &amp;quot;type&amp;quot;: &amp;quot;Feature&amp;quot;, &amp;quot;id&amp;quot;: &amp;quot;1459449569&amp;quot;, &amp;quot;properties&amp;quot;: {&amp;quot;feature_type&amp;quot;: &amp;quot;location&amp;quot;, &amp;quot;fmt_time&amp;quot;: &amp;quot;2016-03-31T11:39:29&amp;quot;, &amp;quot;latitude&amp;quot;: 37.42910571110521, &amp;quot;ts&amp;quot;: 1459449569, &amp;quot;longitude&amp;quot;: -122.1416173452159}}, {&amp;quot;geometry&amp;quot;: {&amp;quot;type&amp;quot;: &amp;quot;Point&amp;quot;, &amp;quot;coordinates&amp;quot;: [-122.14161750662979, 37.42910593131088]}, &amp;quot;type&amp;quot;: &amp;quot;Feature&amp;quot;, &amp;quot;id&amp;quot;: &amp;quot;1459449570&amp;quot;, &amp;quot;properties&amp;quot;: {&amp;quot;feature_type&amp;quot;: &amp;quot;location&amp;quot;, &amp;quot;fmt_time&amp;quot;: &amp;quot;2016-03-31T11:39:30&amp;quot;, &amp;quot;latitude&amp;quot;: 37.42910593131088, &amp;quot;ts&amp;quot;: 1459449570, &amp;quot;longitude&amp;quot;: -122.14161750662979}}, {&amp;quot;geometry&amp;quot;: {&amp;quot;type&amp;quot;: &amp;quot;Point&amp;quot;, &amp;quot;coordinates&amp;quot;: [-122.14161766804366, 37.429106127165255]}, &amp;quot;type&amp;quot;: &amp;quot;Feature&amp;quot;, &amp;quot;id&amp;quot;: &amp;quot;1459449571&amp;quot;, &amp;quot;properties&amp;quot;: {&amp;quot;feature_type&amp;quot;: &amp;quot;location&amp;quot;, &amp;quot;fmt_time&amp;quot;: &amp;quot;2016-03-31T11:39:31&amp;quot;, &amp;quot;latitude&amp;quot;: 37.429106127165255, &amp;quot;ts&amp;quot;: 1459449571, &amp;quot;longitude&amp;quot;: -122.14161766804366}}, {&amp;quot;geometry&amp;quot;: {&amp;quot;type&amp;quot;: &amp;quot;Point&amp;quot;, &amp;quot;coordinates&amp;quot;: [-122.14161782945754, 37.429106323019624]}, &amp;quot;type&amp;quot;: &amp;quot;Feature&amp;quot;, &amp;quot;id&amp;quot;: &amp;quot;1459449572&amp;quot;, &amp;quot;properties&amp;quot;: {&amp;quot;feature_type&amp;quot;: &amp;quot;location&amp;quot;, &amp;quot;fmt_time&amp;quot;: &amp;quot;2016-03-31T11:39:32&amp;quot;, &amp;quot;latitude&amp;quot;: 37.429106323019624, &amp;quot;ts&amp;quot;: 1459449572, &amp;quot;longitude&amp;quot;: -122.14161782945754}}, {&amp;quot;geometry&amp;quot;: {&amp;quot;type&amp;quot;: &amp;quot;Point&amp;quot;, &amp;quot;coordinates&amp;quot;: [-122.14161799087142, 37.42910651887399]}, &amp;quot;type&amp;quot;: &amp;quot;Feature&amp;quot;, &amp;quot;id&amp;quot;: &amp;quot;1459449573&amp;quot;, &amp;quot;properties&amp;quot;: {&amp;quot;feature_type&amp;quot;: &amp;quot;location&amp;quot;, &amp;quot;fmt_time&amp;quot;: &amp;quot;2016-03-31T11:39:33&amp;quot;, &amp;quot;latitude&amp;quot;: 37.42910651887399, &amp;quot;ts&amp;quot;: 1459449573, &amp;quot;longitude&amp;quot;: -122.14161799087142}}, {&amp;quot;geometry&amp;quot;: {&amp;quot;type&amp;quot;: &amp;quot;Point&amp;quot;, &amp;quot;coordinates&amp;quot;: [-122.14161815228529, 37.42910671472836]}, &amp;quot;type&amp;quot;: &amp;quot;Feature&amp;quot;, &amp;quot;id&amp;quot;: &amp;quot;1459449574&amp;quot;, &amp;quot;properties&amp;quot;: {&amp;quot;feature_type&amp;quot;: &amp;quot;location&amp;quot;, &amp;quot;fmt_time&amp;quot;: &amp;quot;2016-03-31T11:39:34&amp;quot;, &amp;quot;latitude&amp;quot;: 37.42910671472836, &amp;quot;ts&amp;quot;: 1459449574, &amp;quot;longitude&amp;quot;: -122.14161815228529}}, {&amp;quot;geometry&amp;quot;: {&amp;quot;type&amp;quot;: &amp;quot;Point&amp;quot;, &amp;quot;coordinates&amp;quot;: [-122.14161832491551, 37.42910691058273]}, &amp;quot;type&amp;quot;: &amp;quot;Feature&amp;quot;, &amp;quot;id&amp;quot;: &amp;quot;1459449575&amp;quot;, &amp;quot;properties&amp;quot;: {&amp;quot;feature_type&amp;quot;: &amp;quot;location&amp;quot;, &amp;quot;fmt_time&amp;quot;: &amp;quot;2016-03-31T11:39:35&amp;quot;, &amp;quot;latitude&amp;quot;: 37.42910691058273, &amp;quot;ts&amp;quot;: 1459449575, &amp;quot;longitude&amp;quot;: -122.14161832491551}}, {&amp;quot;geometry&amp;quot;: {&amp;quot;type&amp;quot;: &amp;quot;Point&amp;quot;, &amp;quot;coordinates&amp;quot;: [-122.14161852511305, 37.429107090113575]}, &amp;quot;type&amp;quot;: &amp;quot;Feature&amp;quot;, &amp;quot;id&amp;quot;: &amp;quot;1459449576&amp;quot;, &amp;quot;properties&amp;quot;: {&amp;quot;feature_type&amp;quot;: &amp;quot;location&amp;quot;, &amp;quot;fmt_time&amp;quot;: &amp;quot;2016-03-31T11:39:36&amp;quot;, &amp;quot;latitude&amp;quot;: 37.429107090113575, &amp;quot;ts&amp;quot;: 1459449576, &amp;quot;longitude&amp;quot;: -122.14161852511305}}, {&amp;quot;geometry&amp;quot;: {&amp;quot;type&amp;quot;: &amp;quot;Point&amp;quot;, &amp;quot;coordinates&amp;quot;: [-122.14161868652693, 37.42910725229147]}, &amp;quot;type&amp;quot;: &amp;quot;Feature&amp;quot;, &amp;quot;id&amp;quot;: &amp;quot;1459449577&amp;quot;, &amp;quot;properties&amp;quot;: {&amp;quot;feature_type&amp;quot;: &amp;quot;location&amp;quot;, &amp;quot;fmt_time&amp;quot;: &amp;quot;2016-03-31T11:39:37&amp;quot;, &amp;quot;latitude&amp;quot;: 37.42910725229147, &amp;quot;ts&amp;quot;: 1459449577, &amp;quot;longitude&amp;quot;: -122.14161868652693}}, {&amp;quot;geometry&amp;quot;: {&amp;quot;type&amp;quot;: &amp;quot;Point&amp;quot;, &amp;quot;coordinates&amp;quot;: [-122.1416188479408, 37.42910744814584]}, &amp;quot;type&amp;quot;: &amp;quot;Feature&amp;quot;, &amp;quot;id&amp;quot;: &amp;quot;1459449578&amp;quot;, &amp;quot;properties&amp;quot;: {&amp;quot;feature_type&amp;quot;: &amp;quot;location&amp;quot;, &amp;quot;fmt_time&amp;quot;: &amp;quot;2016-03-31T11:39:38&amp;quot;, &amp;quot;latitude&amp;quot;: 37.42910744814584, &amp;quot;ts&amp;quot;: 1459449578, &amp;quot;longitude&amp;quot;: -122.1416188479408}}, {&amp;quot;geometry&amp;quot;: {&amp;quot;type&amp;quot;: &amp;quot;Point&amp;quot;, &amp;quot;coordinates&amp;quot;: [-122.14161900935468, 37.42910764400022]}, &amp;quot;type&amp;quot;: &amp;quot;Feature&amp;quot;, &amp;quot;id&amp;quot;: &amp;quot;1459449579&amp;quot;, &amp;quot;properties&amp;quot;: {&amp;quot;feature_type&amp;quot;: &amp;quot;location&amp;quot;, &amp;quot;fmt_time&amp;quot;: &amp;quot;2016-03-31T11:39:39&amp;quot;, &amp;quot;latitude&amp;quot;: 37.42910764400022, &amp;quot;ts&amp;quot;: 1459449579, &amp;quot;longitude&amp;quot;: -122.14161900935468}}, {&amp;quot;geometry&amp;quot;: {&amp;quot;type&amp;quot;: &amp;quot;Point&amp;quot;, &amp;quot;coordinates&amp;quot;: [-122.14161917076856, 37.429107839854595]}, &amp;quot;type&amp;quot;: &amp;quot;Feature&amp;quot;, &amp;quot;id&amp;quot;: &amp;quot;1459449580&amp;quot;, &amp;quot;properties&amp;quot;: {&amp;quot;feature_type&amp;quot;: &amp;quot;location&amp;quot;, &amp;quot;fmt_time&amp;quot;: &amp;quot;2016-03-31T11:39:40&amp;quot;, &amp;quot;latitude&amp;quot;: 37.429107839854595, &amp;quot;ts&amp;quot;: 1459449580, &amp;quot;longitude&amp;quot;: -122.14161917076856}}, {&amp;quot;geometry&amp;quot;: {&amp;quot;type&amp;quot;: &amp;quot;Point&amp;quot;, &amp;quot;coordinates&amp;quot;: [-122.14161933218244, 37.429108035708964]}, &amp;quot;type&amp;quot;: &amp;quot;Feature&amp;quot;, &amp;quot;id&amp;quot;: &amp;quot;1459449581&amp;quot;, &amp;quot;properties&amp;quot;: {&amp;quot;feature_type&amp;quot;: &amp;quot;location&amp;quot;, &amp;quot;fmt_time&amp;quot;: &amp;quot;2016-03-31T11:39:41&amp;quot;, &amp;quot;latitude&amp;quot;: 37.429108035708964, &amp;quot;ts&amp;quot;: 1459449581, &amp;quot;longitude&amp;quot;: -122.14161933218244}}, {&amp;quot;geometry&amp;quot;: {&amp;quot;type&amp;quot;: &amp;quot;Point&amp;quot;, &amp;quot;coordinates&amp;quot;: [-122.14161949359632, 37.42910823156333]}, &amp;quot;type&amp;quot;: &amp;quot;Feature&amp;quot;, &amp;quot;id&amp;quot;: &amp;quot;1459449582&amp;quot;, &amp;quot;properties&amp;quot;: {&amp;quot;feature_type&amp;quot;: &amp;quot;location&amp;quot;, &amp;quot;fmt_time&amp;quot;: &amp;quot;2016-03-31T11:39:42&amp;quot;, &amp;quot;latitude&amp;quot;: 37.42910823156333, &amp;quot;ts&amp;quot;: 1459449582, &amp;quot;longitude&amp;quot;: -122.14161949359632}}, {&amp;quot;geometry&amp;quot;: {&amp;quot;type&amp;quot;: &amp;quot;Point&amp;quot;, &amp;quot;coordinates&amp;quot;: [-122.1416196550102, 37.4291084274177]}, &amp;quot;type&amp;quot;: &amp;quot;Feature&amp;quot;, &amp;quot;id&amp;quot;: &amp;quot;1459449583&amp;quot;, &amp;quot;properties&amp;quot;: {&amp;quot;feature_type&amp;quot;: &amp;quot;location&amp;quot;, &amp;quot;fmt_time&amp;quot;: &amp;quot;2016-03-31T11:39:43&amp;quot;, &amp;quot;latitude&amp;quot;: 37.4291084274177, &amp;quot;ts&amp;quot;: 1459449583, &amp;quot;longitude&amp;quot;: -122.1416196550102}}, {&amp;quot;geometry&amp;quot;: {&amp;quot;type&amp;quot;: &amp;quot;Point&amp;quot;, &amp;quot;coordinates&amp;quot;: [-122.14161981642408, 37.42910862327207]}, &amp;quot;type&amp;quot;: &amp;quot;Feature&amp;quot;, &amp;quot;id&amp;quot;: &amp;quot;1459449584&amp;quot;, &amp;quot;properties&amp;quot;: {&amp;quot;feature_type&amp;quot;: &amp;quot;location&amp;quot;, &amp;quot;fmt_time&amp;quot;: &amp;quot;2016-03-31T11:39:44&amp;quot;, &amp;quot;latitude&amp;quot;: 37.42910862327207, &amp;quot;ts&amp;quot;: 1459449584, &amp;quot;longitude&amp;quot;: -122.14161981642408}}, {&amp;quot;geometry&amp;quot;: {&amp;quot;type&amp;quot;: &amp;quot;Point&amp;quot;, &amp;quot;coordinates&amp;quot;: [-122.14161997783795, 37.42910881912644]}, &amp;quot;type&amp;quot;: &amp;quot;Feature&amp;quot;, &amp;quot;id&amp;quot;: &amp;quot;1459449585&amp;quot;, &amp;quot;properties&amp;quot;: {&amp;quot;feature_type&amp;quot;: &amp;quot;location&amp;quot;, &amp;quot;fmt_time&amp;quot;: &amp;quot;2016-03-31T11:39:45&amp;quot;, &amp;quot;latitude&amp;quot;: 37.42910881912644, &amp;quot;ts&amp;quot;: 1459449585, &amp;quot;longitude&amp;quot;: -122.14161997783795}}]}, {&amp;quot;geometry&amp;quot;: {&amp;quot;type&amp;quot;: &amp;quot;LineString&amp;quot;, &amp;quot;coordinates&amp;quot;: [[-122.10409144304808, 37.40576289625469], [-122.104177324695, 37.40580114779718], [-122.10777053581725, 37.407851366801495], [-122.10791952834887, 37.40794601679331], [-122.10792051725547, 37.407947537870584], [-122.10791661347, 37.407945980299615], [-122.10791270968453, 37.40794442272865], [-122.10790880589906, 37.40794286515768], [-122.10790490211359, 37.40794130758671], [-122.10790357796441, 37.407940566550224], [-122.10790265973856, 37.40793998745666], [-122.1079017415127, 37.407939408363106], [-122.10790082328685, 37.40793882926954], [-122.107899905061, 37.40793825017598], [-122.10789898683515, 37.40793767108242], [-122.1078980686093, 37.407937091988856], [-122.10789715038347, 37.407936512895304], [-122.10789623215761, 37.40793593380174], [-122.10786982452811, 37.40791877372514], [-122.10784527894995, 37.407902248538775], [-122.10784526566007, 37.40790119476365], [-122.10784525428298, 37.40790014219482], [-122.10784524290585, 37.40789908962598], [-122.10784523152876, 37.40789803705714], [-122.10787892486822, 37.407918956769535], [-122.10789547576013, 37.40792939462119], [-122.10790694561197, 37.40793662817449], [-122.10791841506776, 37.40794386147802], [-122.10792521362032, 37.4079481489749], [-122.10792521414385, 37.407948149305064], [-122.10795714558975, 37.407968287052014], [-122.1079822234806, 37.40797577014192], [-122.10800730084344, 37.40798325225708], [-122.10803237820627, 37.40799073437226], [-122.10805745556912, 37.40799821648743], [-122.10808253293197, 37.40800569860261], [-122.12414213346455, 37.41820695387801], [-122.1410894639435, 37.42882704358978], [-122.14159192928965, 37.42911693498216], [-122.14157924866463, 37.42912505001074], [-122.1415826861292, 37.429118644381035], [-122.14158311598543, 37.429114778569904], [-122.14158141115428, 37.42911447648376], [-122.14157708014883, 37.4291150887723], [-122.14157317252685, 37.42911536024599], [-122.14157456257635, 37.429114727563814], [-122.14157573277538, 37.42911206250943], [-122.14157669507028, 37.42911031563638], [-122.14157810414517, 37.42911044750335], [-122.14157876670888, 37.429110296222944], [-122.14157929209728, 37.4291097190042], [-122.1415796657883, 37.42910927902305], [-122.14158010840667, 37.42910889401237], [-122.14158061991782, 37.42910845987292], [-122.14158116064692, 37.429108054951385], [-122.14158174440863, 37.42910767239273], [-122.14158232032597, 37.42910728983407], [-122.14158284992278, 37.42910690727541], [-122.14158343894641, 37.42910652471676], [-122.1415840261067, 37.429106115000735], [-122.14158458919866, 37.429105681961246], [-122.14158515229062, 37.42910527704078], [-122.14158571538256, 37.429104873633136], [-122.14158629477728, 37.42910446192347], [-122.14158689156648, 37.4291040526484], [-122.14158745465843, 37.429103646806155], [-122.1415880177504, 37.42910324099169], [-122.14158860367368, 37.42910283168884], [-122.1415891939343, 37.429102422005684], [-122.14158978376929, 37.42910201657152], [-122.14159037011822, 37.429101607442576], [-122.1415909543089, 37.42910120145421], [-122.14159151043826, 37.42910076509975], [-122.14159203489409, 37.42910026083689], [-122.1415926481658, 37.42909982809848], [-122.14159326158403, 37.42909939521354], [-122.14159384866997, 37.429098988660925], [-122.14159441176191, 37.42909860610226], [-122.14160300268246, 37.42910384442051], [-122.14161674866322, 37.42910510196892], [-122.14161689831289, 37.42910528523202], [-122.14161703475105, 37.42910544374776], [-122.14161721704417, 37.42910558932856], [-122.1416173452159, 37.42910571110521], [-122.14161750662979, 37.42910593131088], [-122.14161766804366, 37.429106127165255], [-122.14161782945754, 37.429106323019624], [-122.14161799087142, 37.42910651887399], [-122.14161815228529, 37.42910671472836], [-122.14161832491551, 37.42910691058273], [-122.14161852511305, 37.429107090113575], [-122.14161868652693, 37.42910725229147], [-122.1416188479408, 37.42910744814584], [-122.14161900935468, 37.42910764400022], [-122.14161917076856, 37.429107839854595], [-122.14161933218244, 37.429108035708964], [-122.14161949359632, 37.42910823156333], [-122.1416196550102, 37.4291084274177], [-122.14161981642408, 37.42910862327207], [-122.14161997783795, 37.42910881912644]]}, &amp;quot;type&amp;quot;: &amp;quot;Feature&amp;quot;, &amp;quot;id&amp;quot;: null, &amp;quot;properties&amp;quot;: {}}]}, \n",
       "        {style: style_feature,\n",
       "         onEachFeature: onEachFeature,\n",
       "         pointToLayer: pointFormat}).addTo(map)\n",
       "\n",
       "    var autobounds_0 = L.featureGroup([gjson_layer_0]).getBounds()\n",
       "    map.fitBounds(autobounds_0, {&amp;quot;padding&amp;quot;: [5, 5]});\n",
       "    \n",
       "\n",
       "            \n",
       "        \n",
       "    \n",
       "\n",
       "   &lt;/script&gt;\n",
       "\n",
       "&lt;/body&gt;&quot; style=&quot;width: 100%; height: 510px; border: none&quot;&gt;&lt;/iframe&gt;</td></tr>\n",
       "</table>\" style=\"width: 100%; height: 510px; border: none\"></iframe>"
      ],
      "text/plain": [
       "<IPython.core.display.HTML at 0x112adac50>"
      ]
     },
     "execution_count": 193,
     "metadata": {},
     "output_type": "execute_result"
    }
   ],
   "source": [
    "ipy.inline_maps([lo.get_maps_for_geojson_unsectioned([gfc.get_feature_list_from_df(compare_ground_truth_31_out.head(n=100), \n",
    "                    ts=\"ts_ground\", latitude=\"latitude_ground\", longitude=\"longitude_ground\", fmt_time=\"fmt_time_ground\")]) +\n",
    "lo.get_maps_for_geojson_unsectioned([gfc.get_feature_list_from_df(compare_ground_truth_31_out.head(n=100),\n",
    "                    ts=\"ts_compare\", latitude=\"latitude_compare\", longitude=\"longitude_compare\", fmt_time=\"fmt_time_compare\")])])"
   ]
  },
  {
   "cell_type": "code",
   "execution_count": null,
   "metadata": {
    "collapsed": false
   },
   "outputs": [],
   "source": []
  }
 ],
 "metadata": {
  "kernelspec": {
   "display_name": "Python 2",
   "language": "python",
   "name": "python2"
  },
  "language_info": {
   "codemirror_mode": {
    "name": "ipython",
    "version": 2
   },
   "file_extension": ".py",
   "mimetype": "text/x-python",
   "name": "python",
   "nbconvert_exporter": "python",
   "pygments_lexer": "ipython2",
   "version": "2.7.11"
  }
 },
 "nbformat": 4,
 "nbformat_minor": 0
}
