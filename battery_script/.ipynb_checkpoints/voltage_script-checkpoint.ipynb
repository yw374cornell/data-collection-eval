{
 "cells": [
  {
   "cell_type": "code",
   "execution_count": null,
   "metadata": {
    "collapsed": true
   },
   "outputs": [],
   "source": [
    "import time\n",
    "import re\n",
    "import datetime as pydt\n",
    "import pandas as pd\n",
    "%matplotlib inline"
   ]
  },
  {
   "cell_type": "code",
   "execution_count": null,
   "metadata": {
    "collapsed": true
   },
   "outputs": [],
   "source": [
    "filename = 'voltage.txt'\n",
    "\n",
    "with open(filename) as file_object: \n",
    "    lines = file_object.readlines() #returns list of strings \n",
    "    \n",
    "voltage_list = [] \n",
    "ts_list = []\n",
    "dt_list = []\n",
    "\n",
    "time_offset = 12*3600 \n",
    "date = '2016:08:01'\n",
    "for i, line in enumerate(lines): \n",
    "    data = line.split()\n",
    "    line_time = date + data[0] #append date to time like '7:18:30' (string)\n",
    "    line_voltage_level = float(data[1]) #voltage in V (float)\n",
    "\n",
    "    st = time.strptime(line_time, \"%Y:%m:%d:%H:%M:%S\")\n",
    "    ts = time.mktime(st) + time_offset      \n",
    "    local_time = pydt.datetime.fromtimestamp(ts) #local time (datetime)\n",
    "\n",
    "    voltage_list.append(line_voltage_level)\n",
    "    ts_list.append(ts)\n",
    "    dt_list.append(local_time)"
   ]
  }
 ],
 "metadata": {
  "kernelspec": {
   "display_name": "Python 2",
   "language": "python",
   "name": "python2"
  },
  "language_info": {
   "codemirror_mode": {
    "name": "ipython",
    "version": 2
   },
   "file_extension": ".py",
   "mimetype": "text/x-python",
   "name": "python",
   "nbconvert_exporter": "python",
   "pygments_lexer": "ipython2",
   "version": "2.7.11"
  }
 },
 "nbformat": 4,
 "nbformat_minor": 0
}
