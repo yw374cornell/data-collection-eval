{
 "cells": [
  {
   "cell_type": "code",
   "execution_count": 156,
   "metadata": {
    "collapsed": false
   },
   "outputs": [],
   "source": [
    "import sys\n",
    "import logging\n",
    "from uuid import UUID\n",
    "\n",
    "import emission.core.get_database as edb\n",
    "import pandas as pd\n",
    "import matplotlib.pyplot as plt\n",
    "%matplotlib inline\n",
    "import datetime as pydt\n",
    "import emission.storage.timeseries.abstract_timeseries as esta\n",
    "import emission.net.usercache.abstract_usercache as enua\n",
    "import numpy as np\n",
    "\n",
    "logging.getLogger().setLevel(logging.DEBUG)\n",
    "logging.debug(sys.path)\n",
    "\n",
    "iphone_ids = [UUID(\"079e0f1a-c440-3d7c-b0e7-de160f748e35\"), UUID(\"c76a0487-7e5a-3b17-a449-47be666b36f6\"), \n",
    "              UUID(\"c528bcd2-a88b-3e82-be62-ef4f2396967a\"), UUID(\"95e70727-a04e-3e33-b7fe-34ab19194f8b\")]\n",
    "android_ids = [UUID(\"e471711e-bd14-3dbe-80b6-9c7d92ecc296\"), UUID(\"fd7b4c2e-2c8b-3bfa-94f0-d1e3ecbd5fb7\"),\n",
    "               UUID(\"86842c35-da28-32ed-a90e-2da6663c5c73\"), UUID(\"3bc0f91f-7660-34a2-b005-5c399598a369\")]"
   ]
  },
  {
   "cell_type": "code",
   "execution_count": 157,
   "metadata": {
    "collapsed": false
   },
   "outputs": [
    {
     "data": {
      "text/plain": [
       "[{u'_id': ObjectId('56fadecd88f66341cb3618c9'),\n",
       "  u'data': {u'android_health': u'GOOD',\n",
       "   u'android_plugged': u'USB',\n",
       "   u'android_technology': u'Li-ion',\n",
       "   u'android_temperature': 226,\n",
       "   u'android_voltage': 226,\n",
       "   u'battery_level_pct': 100,\n",
       "   u'battery_status': 5},\n",
       "  u'metadata': {u'key': u'config/sensor_config',\n",
       "   u'platform': u'android',\n",
       "   u'read_ts': 1459281599.629,\n",
       "   u'time_zone': u'America/Los_Angeles',\n",
       "   u'type': u'sensor-data',\n",
       "   u'write_fmt_time': u'2016-03-29T11:56:24.694000-07:00',\n",
       "   u'write_local_dt': datetime.datetime(2016, 3, 29, 11, 56, 24, 694000),\n",
       "   u'write_ts': 1459277784.694},\n",
       "  u'user_id': UUID('e471711e-bd14-3dbe-80b6-9c7d92ecc296')},\n",
       " {u'_id': ObjectId('56faecf288f66323bcc68ee9'),\n",
       "  u'data': {u'android_health': u'GOOD',\n",
       "   u'android_plugged': u'USB',\n",
       "   u'android_technology': u'Li-ion',\n",
       "   u'android_temperature': 197,\n",
       "   u'android_voltage': 197,\n",
       "   u'battery_level_pct': 100,\n",
       "   u'battery_status': 2},\n",
       "  u'metadata': {u'key': u'config/sensor_config',\n",
       "   u'platform': u'android',\n",
       "   u'read_ts': 1459282820.251,\n",
       "   u'time_zone': u'America/Los_Angeles',\n",
       "   u'type': u'sensor-data',\n",
       "   u'write_fmt_time': u'2016-03-29T12:04:25.743000-07:00',\n",
       "   u'write_local_dt': datetime.datetime(2016, 3, 29, 12, 4, 25, 743000),\n",
       "   u'write_ts': 1459278265.743},\n",
       "  u'user_id': UUID('fd7b4c2e-2c8b-3bfa-94f0-d1e3ecbd5fb7')},\n",
       " {u'_id': ObjectId('56faecdd88f66323bcc668cd'),\n",
       "  u'data': {u'android_health': u'GOOD',\n",
       "   u'android_plugged': u'USB',\n",
       "   u'android_technology': u'Li-ion',\n",
       "   u'android_temperature': 190,\n",
       "   u'android_voltage': 190,\n",
       "   u'battery_level_pct': 100,\n",
       "   u'battery_status': 2},\n",
       "  u'metadata': {u'key': u'config/sensor_config',\n",
       "   u'platform': u'android',\n",
       "   u'read_ts': 1459282145.521,\n",
       "   u'time_zone': u'America/Los_Angeles',\n",
       "   u'type': u'sensor-data',\n",
       "   u'write_fmt_time': u'2016-03-29T12:07:17.613000-07:00',\n",
       "   u'write_local_dt': datetime.datetime(2016, 3, 29, 12, 7, 17, 613000),\n",
       "   u'write_ts': 1459278437.613},\n",
       "  u'user_id': UUID('86842c35-da28-32ed-a90e-2da6663c5c73')},\n",
       " {u'_id': ObjectId('56faecd388f66323bcc6574f'),\n",
       "  u'data': {u'android_health': u'GOOD',\n",
       "   u'android_plugged': u'USB',\n",
       "   u'android_technology': u'Li-ion',\n",
       "   u'android_temperature': 190,\n",
       "   u'android_voltage': 190,\n",
       "   u'battery_level_pct': 100,\n",
       "   u'battery_status': 5},\n",
       "  u'metadata': {u'key': u'config/sensor_config',\n",
       "   u'platform': u'android',\n",
       "   u'read_ts': 1459282692.584,\n",
       "   u'time_zone': u'America/Los_Angeles',\n",
       "   u'type': u'sensor-data',\n",
       "   u'write_fmt_time': u'2016-03-29T12:13:22.162000-07:00',\n",
       "   u'write_local_dt': datetime.datetime(2016, 3, 29, 12, 13, 22, 162000),\n",
       "   u'write_ts': 1459278802.162},\n",
       "  u'user_id': UUID('3bc0f91f-7660-34a2-b005-5c399598a369')},\n",
       " {u'_id': ObjectId('56faeced88f66323bcc684f6'),\n",
       "  u'data': {u'android_health': u'GOOD',\n",
       "   u'android_plugged': u'UNKNOWN',\n",
       "   u'android_technology': u'Li-ion',\n",
       "   u'android_temperature': 322,\n",
       "   u'android_voltage': 322,\n",
       "   u'battery_level_pct': 96,\n",
       "   u'battery_status': 3},\n",
       "  u'metadata': {u'key': u'config/sensor_config',\n",
       "   u'platform': u'android',\n",
       "   u'read_ts': 1459285199.991,\n",
       "   u'time_zone': u'America/Los_Angeles',\n",
       "   u'type': u'sensor-data',\n",
       "   u'write_fmt_time': u'2016-03-29T13:00:28.078000-07:00',\n",
       "   u'write_local_dt': datetime.datetime(2016, 3, 29, 13, 0, 28, 78000),\n",
       "   u'write_ts': 1459281628.078},\n",
       "  u'user_id': UUID('e471711e-bd14-3dbe-80b6-9c7d92ecc296')},\n",
       " {u'_id': ObjectId('56fafaeb88f66366fd9ed82a'),\n",
       "  u'data': {u'android_health': u'GOOD',\n",
       "   u'android_plugged': u'UNKNOWN',\n",
       "   u'android_technology': u'Li-ion',\n",
       "   u'android_temperature': 321,\n",
       "   u'android_voltage': 321,\n",
       "   u'battery_level_pct': 98,\n",
       "   u'battery_status': 3},\n",
       "  u'metadata': {u'key': u'config/sensor_config',\n",
       "   u'platform': u'android',\n",
       "   u'read_ts': 1459286817.69,\n",
       "   u'time_zone': u'America/Los_Angeles',\n",
       "   u'type': u'sensor-data',\n",
       "   u'write_fmt_time': u'2016-03-29T13:09:35.170000-07:00',\n",
       "   u'write_local_dt': datetime.datetime(2016, 3, 29, 13, 9, 35, 170000),\n",
       "   u'write_ts': 1459282175.17},\n",
       "  u'user_id': UUID('86842c35-da28-32ed-a90e-2da6663c5c73')},\n",
       " {u'_id': ObjectId('56fafae388f66366fd9ecea6'),\n",
       "  u'data': {u'android_health': u'GOOD',\n",
       "   u'android_plugged': u'UNKNOWN',\n",
       "   u'android_technology': u'Li-ion',\n",
       "   u'android_temperature': 310,\n",
       "   u'android_voltage': 310,\n",
       "   u'battery_level_pct': 96,\n",
       "   u'battery_status': 3},\n",
       "  u'metadata': {u'key': u'config/sensor_config',\n",
       "   u'platform': u'android',\n",
       "   u'read_ts': 1459286821.157,\n",
       "   u'time_zone': u'America/Los_Angeles',\n",
       "   u'type': u'sensor-data',\n",
       "   u'write_fmt_time': u'2016-03-29T13:19:03.454000-07:00',\n",
       "   u'write_local_dt': datetime.datetime(2016, 3, 29, 13, 19, 3, 454000),\n",
       "   u'write_ts': 1459282743.454},\n",
       "  u'user_id': UUID('3bc0f91f-7660-34a2-b005-5c399598a369')},\n",
       " {u'_id': ObjectId('56fafaf388f66366fd9ee2c3'),\n",
       "  u'data': {u'android_health': u'GOOD',\n",
       "   u'android_plugged': u'UNKNOWN',\n",
       "   u'android_technology': u'Li-ion',\n",
       "   u'android_temperature': 353,\n",
       "   u'android_voltage': 353,\n",
       "   u'battery_level_pct': 96,\n",
       "   u'battery_status': 3},\n",
       "  u'metadata': {u'key': u'config/sensor_config',\n",
       "   u'platform': u'android',\n",
       "   u'read_ts': 1459286820.554,\n",
       "   u'time_zone': u'America/Los_Angeles',\n",
       "   u'type': u'sensor-data',\n",
       "   u'write_fmt_time': u'2016-03-29T13:20:45.541000-07:00',\n",
       "   u'write_local_dt': datetime.datetime(2016, 3, 29, 13, 20, 45, 541000),\n",
       "   u'write_ts': 1459282845.541},\n",
       "  u'user_id': UUID('fd7b4c2e-2c8b-3bfa-94f0-d1e3ecbd5fb7')},\n",
       " {u'_id': ObjectId('56fb6b9588f663182df8af24'),\n",
       "  u'data': {u'android_health': u'GOOD',\n",
       "   u'android_plugged': u'UNKNOWN',\n",
       "   u'android_technology': u'Li-ion',\n",
       "   u'android_temperature': 396,\n",
       "   u'android_voltage': 396,\n",
       "   u'battery_level_pct': 92,\n",
       "   u'battery_status': 3},\n",
       "  u'metadata': {u'key': u'config/sensor_config',\n",
       "   u'platform': u'android',\n",
       "   u'read_ts': 1459314419.602,\n",
       "   u'time_zone': u'America/Los_Angeles',\n",
       "   u'type': u'sensor-data',\n",
       "   u'write_fmt_time': u'2016-03-29T14:00:19.014000-07:00',\n",
       "   u'write_local_dt': datetime.datetime(2016, 3, 29, 14, 0, 19, 14000),\n",
       "   u'write_ts': 1459285219.014},\n",
       "  u'user_id': UUID('e471711e-bd14-3dbe-80b6-9c7d92ecc296')},\n",
       " {u'_id': ObjectId('56fb4f5a88f663293aca2daa'),\n",
       "  u'data': {u'android_health': u'GOOD',\n",
       "   u'android_plugged': u'UNKNOWN',\n",
       "   u'android_technology': u'Li-ion',\n",
       "   u'android_temperature': 387,\n",
       "   u'android_voltage': 387,\n",
       "   u'battery_level_pct': 93,\n",
       "   u'battery_status': 3},\n",
       "  u'metadata': {u'key': u'config/sensor_config',\n",
       "   u'platform': u'android',\n",
       "   u'read_ts': 1459310422.186005,\n",
       "   u'time_zone': u'America/Los_Angeles',\n",
       "   u'type': u'sensor-data',\n",
       "   u'write_fmt_time': u'2016-03-29T14:27:11.975000-07:00',\n",
       "   u'write_local_dt': datetime.datetime(2016, 3, 29, 14, 27, 11, 975000),\n",
       "   u'write_ts': 1459286831.975},\n",
       "  u'user_id': UUID('fd7b4c2e-2c8b-3bfa-94f0-d1e3ecbd5fb7')}]"
      ]
     },
     "execution_count": 157,
     "metadata": {},
     "output_type": "execute_result"
    }
   ],
   "source": [
    "list(edb.get_timeseries_db().find({\"metadata.key\": \"config/sensor_config\", \"data.battery_status\": {\"$exists\": True}}).sort(\"metadata.write_ts\").limit(10))\n",
    "#edb.get_timeseries_db --> returns timeseries=MongoClient().Stage_database.Stage_timeseries"
   ]
  },
  {
   "cell_type": "code",
   "execution_count": 158,
   "metadata": {
    "collapsed": false
   },
   "outputs": [],
   "source": [
    "#type: list of emission.storage.timeseries.builtin_timeseries.BuiltinTimeSeries\n",
    "iphone_ts = map(lambda u: esta.TimeSeries.get_time_series(u), iphone_ids)\n",
    "android_ts = map(lambda u: esta.TimeSeries.get_time_series(u), android_ids)"
   ]
  },
  {
   "cell_type": "code",
   "execution_count": 159,
   "metadata": {
    "collapsed": false
   },
   "outputs": [],
   "source": [
    "ranges_df = pd.read_csv(\"../results_spring_2016/ranges.csv\", error_bad_lines=False)"
   ]
  },
  {
   "cell_type": "code",
   "execution_count": 160,
   "metadata": {
    "collapsed": false
   },
   "outputs": [
    {
     "data": {
      "text/html": [
       "<div>\n",
       "<table border=\"1\" class=\"dataframe\">\n",
       "  <thead>\n",
       "    <tr style=\"text-align: right;\">\n",
       "      <th></th>\n",
       "      <th>start_ts</th>\n",
       "      <th>start_fmt_time</th>\n",
       "      <th>end_ts</th>\n",
       "      <th>end_fmt_time</th>\n",
       "      <th>state</th>\n",
       "      <th>android_regime</th>\n",
       "      <th>ios_regime</th>\n",
       "    </tr>\n",
       "  </thead>\n",
       "  <tbody>\n",
       "    <tr>\n",
       "      <th>0</th>\n",
       "      <td>1459302151</td>\n",
       "      <td>2016-03-29T18:42:30.685000-07:00</td>\n",
       "      <td>1459310790</td>\n",
       "      <td>2016-03-29T21:06:30.275000-07:00</td>\n",
       "      <td>moving</td>\n",
       "      <td>high+1sec</td>\n",
       "      <td>best+1m</td>\n",
       "    </tr>\n",
       "    <tr>\n",
       "      <th>1</th>\n",
       "      <td>1459310790</td>\n",
       "      <td>2016-03-29T21:06:30.275000-07:00</td>\n",
       "      <td>1459342810</td>\n",
       "      <td>2016-03-30T06:00:09.654643-07:00</td>\n",
       "      <td>stationary</td>\n",
       "      <td>high+1sec</td>\n",
       "      <td>best+1m</td>\n",
       "    </tr>\n",
       "    <tr>\n",
       "      <th>2</th>\n",
       "      <td>1459342810</td>\n",
       "      <td>2016-03-30T06:00:09.654643-07:00</td>\n",
       "      <td>1459353614</td>\n",
       "      <td>2016-03-30T09:00:13.859000-07:00</td>\n",
       "      <td>charging-or-full</td>\n",
       "      <td>high+1sec</td>\n",
       "      <td>best+1m</td>\n",
       "    </tr>\n",
       "    <tr>\n",
       "      <th>3</th>\n",
       "      <td>1459353614</td>\n",
       "      <td>2016-03-30T09:00:13.859000-07:00</td>\n",
       "      <td>1459371719</td>\n",
       "      <td>2016-03-30T14:01:58.965395-07:00</td>\n",
       "      <td>charging-or-full</td>\n",
       "      <td>high-v-balanced+1sec-v-30sec</td>\n",
       "      <td>best-v-10m+1m-v-30m</td>\n",
       "    </tr>\n",
       "    <tr>\n",
       "      <th>4</th>\n",
       "      <td>1459371719</td>\n",
       "      <td>2016-03-30T14:01:58.965395-07:00</td>\n",
       "      <td>1459372435</td>\n",
       "      <td>2016-03-30T14:13:55.019000-07:00</td>\n",
       "      <td>loitering</td>\n",
       "      <td>high-v-balanced+1sec-v-30sec</td>\n",
       "      <td>best-v-10m+1m-v-30m</td>\n",
       "    </tr>\n",
       "    <tr>\n",
       "      <th>5</th>\n",
       "      <td>1459372435</td>\n",
       "      <td>2016-03-30T14:13:55.019000-07:00</td>\n",
       "      <td>1459373082</td>\n",
       "      <td>2016-03-30T14:24:42.464000-07:00</td>\n",
       "      <td>moving</td>\n",
       "      <td>high-v-balanced+1sec-v-30sec</td>\n",
       "      <td>best-v-10m+1m-v-30m</td>\n",
       "    </tr>\n",
       "    <tr>\n",
       "      <th>6</th>\n",
       "      <td>1459373082</td>\n",
       "      <td>2016-03-30T14:24:42.464000-07:00</td>\n",
       "      <td>1459376488</td>\n",
       "      <td>2016-03-30T15:21:27.670000-07:00</td>\n",
       "      <td>loitering</td>\n",
       "      <td>high-v-balanced+1sec-v-30sec</td>\n",
       "      <td>best-v-10m+1m-v-30m</td>\n",
       "    </tr>\n",
       "    <tr>\n",
       "      <th>7</th>\n",
       "      <td>1459376488</td>\n",
       "      <td>2016-03-30T15:21:27.670000-07:00</td>\n",
       "      <td>1459377222</td>\n",
       "      <td>2016-03-30T15:33:41.654000-07:00</td>\n",
       "      <td>moving</td>\n",
       "      <td>high-v-balanced+1sec-v-30sec</td>\n",
       "      <td>best-v-10m+1m-v-30m</td>\n",
       "    </tr>\n",
       "    <tr>\n",
       "      <th>8</th>\n",
       "      <td>1459377222</td>\n",
       "      <td>2016-03-30T15:33:41.654000-07:00</td>\n",
       "      <td>1459379999</td>\n",
       "      <td>2016-03-30T16:19:58.943000-07:00</td>\n",
       "      <td>loitering</td>\n",
       "      <td>high-v-balanced+1sec-v-30sec</td>\n",
       "      <td>best-v-10m+1m-v-30m</td>\n",
       "    </tr>\n",
       "    <tr>\n",
       "      <th>9</th>\n",
       "      <td>1459379999</td>\n",
       "      <td>2016-03-30T16:19:58.943000-07:00</td>\n",
       "      <td>1459381062</td>\n",
       "      <td>2016-03-30T16:37:41.978000-07:00</td>\n",
       "      <td>moving</td>\n",
       "      <td>high-v-balanced+1sec-v-30sec</td>\n",
       "      <td>best-v-10m+1m-v-30m</td>\n",
       "    </tr>\n",
       "    <tr>\n",
       "      <th>10</th>\n",
       "      <td>1459381062</td>\n",
       "      <td>2016-03-30T16:37:41.978000-07:00</td>\n",
       "      <td>1459385843</td>\n",
       "      <td>2016-03-30T17:57:23.050000-07:00</td>\n",
       "      <td>loitering</td>\n",
       "      <td>high-v-balanced+1sec-v-30sec</td>\n",
       "      <td>best-v-10m+1m-v-30m</td>\n",
       "    </tr>\n",
       "    <tr>\n",
       "      <th>11</th>\n",
       "      <td>1459385843</td>\n",
       "      <td>2016-03-30T17:57:23.050000-07:00</td>\n",
       "      <td>1459387421</td>\n",
       "      <td>2016-03-30T18:23:40.680000-07:00</td>\n",
       "      <td>moving</td>\n",
       "      <td>high-v-balanced+1sec-v-30sec</td>\n",
       "      <td>best-v-10m+1m-v-30m</td>\n",
       "    </tr>\n",
       "    <tr>\n",
       "      <th>12</th>\n",
       "      <td>1459387421</td>\n",
       "      <td>2016-03-30T18:23:40.680000-07:00</td>\n",
       "      <td>1459403298</td>\n",
       "      <td>2016-03-30T22:48:17.862000-07:00</td>\n",
       "      <td>loitering</td>\n",
       "      <td>high-v-balanced+1sec-v-30sec</td>\n",
       "      <td>best-v-10m+1m-v-30m</td>\n",
       "    </tr>\n",
       "    <tr>\n",
       "      <th>13</th>\n",
       "      <td>1459403298</td>\n",
       "      <td>2016-03-30T22:48:17.862000-07:00</td>\n",
       "      <td>1459403853</td>\n",
       "      <td>2016-03-30T22:57:33.392000-07:00</td>\n",
       "      <td>moving</td>\n",
       "      <td>high-v-balanced+1sec-v-30sec</td>\n",
       "      <td>best-v-10m+1m-v-30m</td>\n",
       "    </tr>\n",
       "  </tbody>\n",
       "</table>\n",
       "</div>"
      ],
      "text/plain": [
       "      start_ts                    start_fmt_time      end_ts  \\\n",
       "0   1459302151  2016-03-29T18:42:30.685000-07:00  1459310790   \n",
       "1   1459310790  2016-03-29T21:06:30.275000-07:00  1459342810   \n",
       "2   1459342810  2016-03-30T06:00:09.654643-07:00  1459353614   \n",
       "3   1459353614  2016-03-30T09:00:13.859000-07:00  1459371719   \n",
       "4   1459371719  2016-03-30T14:01:58.965395-07:00  1459372435   \n",
       "5   1459372435  2016-03-30T14:13:55.019000-07:00  1459373082   \n",
       "6   1459373082  2016-03-30T14:24:42.464000-07:00  1459376488   \n",
       "7   1459376488  2016-03-30T15:21:27.670000-07:00  1459377222   \n",
       "8   1459377222  2016-03-30T15:33:41.654000-07:00  1459379999   \n",
       "9   1459379999  2016-03-30T16:19:58.943000-07:00  1459381062   \n",
       "10  1459381062  2016-03-30T16:37:41.978000-07:00  1459385843   \n",
       "11  1459385843  2016-03-30T17:57:23.050000-07:00  1459387421   \n",
       "12  1459387421  2016-03-30T18:23:40.680000-07:00  1459403298   \n",
       "13  1459403298  2016-03-30T22:48:17.862000-07:00  1459403853   \n",
       "\n",
       "                        end_fmt_time             state  \\\n",
       "0   2016-03-29T21:06:30.275000-07:00            moving   \n",
       "1   2016-03-30T06:00:09.654643-07:00        stationary   \n",
       "2   2016-03-30T09:00:13.859000-07:00  charging-or-full   \n",
       "3   2016-03-30T14:01:58.965395-07:00  charging-or-full   \n",
       "4   2016-03-30T14:13:55.019000-07:00         loitering   \n",
       "5   2016-03-30T14:24:42.464000-07:00            moving   \n",
       "6   2016-03-30T15:21:27.670000-07:00         loitering   \n",
       "7   2016-03-30T15:33:41.654000-07:00            moving   \n",
       "8   2016-03-30T16:19:58.943000-07:00         loitering   \n",
       "9   2016-03-30T16:37:41.978000-07:00            moving   \n",
       "10  2016-03-30T17:57:23.050000-07:00         loitering   \n",
       "11  2016-03-30T18:23:40.680000-07:00            moving   \n",
       "12  2016-03-30T22:48:17.862000-07:00         loitering   \n",
       "13  2016-03-30T22:57:33.392000-07:00            moving   \n",
       "\n",
       "                  android_regime           ios_regime  \n",
       "0                      high+1sec              best+1m  \n",
       "1                      high+1sec              best+1m  \n",
       "2                      high+1sec              best+1m  \n",
       "3   high-v-balanced+1sec-v-30sec  best-v-10m+1m-v-30m  \n",
       "4   high-v-balanced+1sec-v-30sec  best-v-10m+1m-v-30m  \n",
       "5   high-v-balanced+1sec-v-30sec  best-v-10m+1m-v-30m  \n",
       "6   high-v-balanced+1sec-v-30sec  best-v-10m+1m-v-30m  \n",
       "7   high-v-balanced+1sec-v-30sec  best-v-10m+1m-v-30m  \n",
       "8   high-v-balanced+1sec-v-30sec  best-v-10m+1m-v-30m  \n",
       "9   high-v-balanced+1sec-v-30sec  best-v-10m+1m-v-30m  \n",
       "10  high-v-balanced+1sec-v-30sec  best-v-10m+1m-v-30m  \n",
       "11  high-v-balanced+1sec-v-30sec  best-v-10m+1m-v-30m  \n",
       "12  high-v-balanced+1sec-v-30sec  best-v-10m+1m-v-30m  \n",
       "13  high-v-balanced+1sec-v-30sec  best-v-10m+1m-v-30m  "
      ]
     },
     "execution_count": 160,
     "metadata": {},
     "output_type": "execute_result"
    }
   ],
   "source": [
    "ranges_df"
   ]
  },
  {
   "cell_type": "code",
   "execution_count": 161,
   "metadata": {
    "collapsed": false
   },
   "outputs": [],
   "source": [
    "regime_grouped_ranges_df = ranges_df.groupby(['state', 'android_regime', 'ios_regime'])"
   ]
  },
  {
   "cell_type": "code",
   "execution_count": 162,
   "metadata": {
    "collapsed": false
   },
   "outputs": [],
   "source": [
    "#invalid_df = pd.read_csv(\"../results_spring_2016/invalid.csv\")"
   ]
  },
  {
   "cell_type": "code",
   "execution_count": 163,
   "metadata": {
    "collapsed": false
   },
   "outputs": [],
   "source": [
    "#invalid_df"
   ]
  },
  {
   "cell_type": "code",
   "execution_count": 164,
   "metadata": {
    "collapsed": false
   },
   "outputs": [],
   "source": [
    "# *the following 3 functions are not called in this notebook*\n",
    "#arguments: ts=BuiltinTimeSeries, start_ts&end_ts=timestamp in sec\n",
    "#returns: DataFrame object (regarding location info) \n",
    "def get_points_from_ts_for_range(ts, start_ts, end_ts):\n",
    "    return ts.get_data_df(\"background/location\", enua.UserCache.TimeQuery('write_ts', start_ts, end_ts))"
   ]
  },
  {
   "cell_type": "code",
   "execution_count": 165,
   "metadata": {
    "collapsed": false
   },
   "outputs": [],
   "source": [
    "def get_points_for_range(ts, range_df):\n",
    "    points_range_df = map(lambda row: get_points_from_ts_for_range(ts, row['start_ts'], row['end_ts']), range_df.to_dict('records'))\n",
    "    return points_range_df"
   ]
  },
  {
   "cell_type": "code",
   "execution_count": 166,
   "metadata": {
    "collapsed": false
   },
   "outputs": [],
   "source": [
    "def get_points_for_group(ts_list, range_df):\n",
    "    return map(lambda ts: get_points_for_range(ts, range_df), ts_list)"
   ]
  },
  {
   "cell_type": "code",
   "execution_count": 167,
   "metadata": {
    "collapsed": false
   },
   "outputs": [
    {
     "ename": "ImportError",
     "evalue": "No module named folium.folium",
     "output_type": "error",
     "traceback": [
      "\u001b[0;31m---------------------------------------------------------------------------\u001b[0m",
      "\u001b[0;31mImportError\u001b[0m                               Traceback (most recent call last)",
      "\u001b[0;32m<ipython-input-167-aa97dd47d93a>\u001b[0m in \u001b[0;36m<module>\u001b[0;34m()\u001b[0m\n\u001b[1;32m      1\u001b[0m \u001b[0;32mimport\u001b[0m \u001b[0memission\u001b[0m\u001b[0;34m.\u001b[0m\u001b[0manalysis\u001b[0m\u001b[0;34m.\u001b[0m\u001b[0mplotting\u001b[0m\u001b[0;34m.\u001b[0m\u001b[0mgeojson\u001b[0m\u001b[0;34m.\u001b[0m\u001b[0mgeojson_feature_converter\u001b[0m \u001b[0;32mas\u001b[0m \u001b[0mgfc\u001b[0m\u001b[0;34m\u001b[0m\u001b[0m\n\u001b[0;32m----> 2\u001b[0;31m \u001b[0;32mimport\u001b[0m \u001b[0memission\u001b[0m\u001b[0;34m.\u001b[0m\u001b[0manalysis\u001b[0m\u001b[0;34m.\u001b[0m\u001b[0mplotting\u001b[0m\u001b[0;34m.\u001b[0m\u001b[0mleaflet_osm\u001b[0m\u001b[0;34m.\u001b[0m\u001b[0mour_plotter\u001b[0m \u001b[0;32mas\u001b[0m \u001b[0mlo\u001b[0m\u001b[0;34m\u001b[0m\u001b[0m\n\u001b[0m\u001b[1;32m      3\u001b[0m \u001b[0;32mimport\u001b[0m \u001b[0memission\u001b[0m\u001b[0;34m.\u001b[0m\u001b[0manalysis\u001b[0m\u001b[0;34m.\u001b[0m\u001b[0mplotting\u001b[0m\u001b[0;34m.\u001b[0m\u001b[0mleaflet_osm\u001b[0m\u001b[0;34m.\u001b[0m\u001b[0mipython_helper\u001b[0m \u001b[0;32mas\u001b[0m \u001b[0mipy\u001b[0m\u001b[0;34m\u001b[0m\u001b[0m\n",
      "\u001b[0;32m/Users/yawen/Desktop/E-mission/e-mission-server/emission/analysis/plotting/leaflet_osm/our_plotter.py\u001b[0m in \u001b[0;36m<module>\u001b[0;34m()\u001b[0m\n\u001b[1;32m      1\u001b[0m \u001b[0;32mimport\u001b[0m \u001b[0mpandas\u001b[0m \u001b[0;32mas\u001b[0m \u001b[0mpd\u001b[0m\u001b[0;34m\u001b[0m\u001b[0m\n\u001b[0;32m----> 2\u001b[0;31m \u001b[0;32mimport\u001b[0m \u001b[0mfolium\u001b[0m\u001b[0;34m.\u001b[0m\u001b[0mfolium\u001b[0m \u001b[0;32mas\u001b[0m \u001b[0mfolium\u001b[0m\u001b[0;34m\u001b[0m\u001b[0m\n\u001b[0m\u001b[1;32m      3\u001b[0m \u001b[0;32mimport\u001b[0m \u001b[0mitertools\u001b[0m\u001b[0;34m\u001b[0m\u001b[0m\n\u001b[1;32m      4\u001b[0m \u001b[0;32mimport\u001b[0m \u001b[0mnumpy\u001b[0m \u001b[0;32mas\u001b[0m \u001b[0mnp\u001b[0m\u001b[0;34m\u001b[0m\u001b[0m\n\u001b[1;32m      5\u001b[0m \u001b[0;32mimport\u001b[0m \u001b[0mlogging\u001b[0m\u001b[0;34m\u001b[0m\u001b[0m\n",
      "\u001b[0;31mImportError\u001b[0m: No module named folium.folium"
     ]
    }
   ],
   "source": [
    "import emission.analysis.plotting.geojson.geojson_feature_converter as gfc\n",
    "import emission.analysis.plotting.leaflet_osm.our_plotter as lo\n",
    "import emission.analysis.plotting.leaflet_osm.ipython_helper as ipy"
   ]
  },
  {
   "cell_type": "code",
   "execution_count": 168,
   "metadata": {
    "collapsed": false
   },
   "outputs": [],
   "source": [
    "import scipy.interpolate as spi\n",
    "import numpy as np"
   ]
  },
  {
   "cell_type": "code",
   "execution_count": 169,
   "metadata": {
    "collapsed": false
   },
   "outputs": [],
   "source": [
    "pd.options.display.float_format = '{:.3f}'.format #Limit output to 3 decimal "
   ]
  },
  {
   "cell_type": "code",
   "execution_count": 170,
   "metadata": {
    "collapsed": false
   },
   "outputs": [],
   "source": [
    "#input: a df with columns ['ts', 'latitude', 'longitude']\n",
    "#return: an interplacted (1s time resolution) df with columns ['ts', 'fmt_time', 'latitude', 'longitude']\n",
    "def get_interp_df(raw_df):\n",
    "    start_ts = raw_df.ts.iloc[0]\n",
    "    end_ts = raw_df.ts.iloc[-1]\n",
    "    #spi.interp1d() returns a function whose call method uses interpolation to find the value of new points.\n",
    "    latf = spi.interp1d(x=raw_df.ts, y=raw_df.latitude, bounds_error=False)\n",
    "    lngf = spi.interp1d(x=raw_df.ts, y=raw_df.longitude, bounds_error=False)\n",
    "    ts_new = np.arange(int(start_ts), int(end_ts), 1)\n",
    "    fmt_time_new = map(lambda ts: pydt.datetime.fromtimestamp(ts).isoformat(), ts_new)\n",
    "    interp_df = pd.DataFrame({\"ts\": ts_new, \"fmt_time\": fmt_time_new,\n",
    "                            \"latitude\": latf(ts_new), \"longitude\": lngf(ts_new)}, index=ts_new)\n",
    "    interp_df = interp_df.dropna() #drop all rows that have any NaN values\n",
    "    return interp_df"
   ]
  },
  {
   "cell_type": "code",
   "execution_count": 171,
   "metadata": {
    "collapsed": false
   },
   "outputs": [],
   "source": [
    "import emission.analysis.point_features as pf\n",
    "import attrdict as ad"
   ]
  },
  {
   "cell_type": "code",
   "execution_count": 172,
   "metadata": {
    "collapsed": false
   },
   "outputs": [],
   "source": [
    "#input: \n",
    "#return: \n",
    "def calDistance(row):\n",
    "    return pf.calDistance(ad.AttrDict({\"latitude\": row['latitude_android'], \"longitude\": row['longitude_android']}),\n",
    "                          ad.AttrDict({\"latitude\": row['latitude_ios'], \"longitude\": row['longitude_ios']}))"
   ]
  },
  {
   "cell_type": "code",
   "execution_count": 173,
   "metadata": {
    "collapsed": false
   },
   "outputs": [],
   "source": [
    "import emission.storage.timeseries.timequery as estt\n",
    "\n",
    "#input: android_ts/ios_ts=type \"BuiltinTimeSeries\", start_ts/end_ts=type \"float\" (unix time in seconds)\n",
    "\n",
    "#return: \n",
    "# *a tuple (pct_retained, ground_truth_df) \n",
    "#   -pct_retained: percentage of location data with high accuracy\n",
    "#   -ground_truth_df: df with location data of high accuracy (similar on ios1&iphone1-\"high accuracy+fast sampling\") as ground truth\n",
    "# *if no location data logged --> (0, None)\n",
    "def get_ground_truth(android_ts, ios_ts, start_ts, end_ts):\n",
    "    # get ground truth from hafs phones !!!!!\n",
    "    \n",
    "    # get time-queried location data (in df) for both phones\n",
    "    # ios_location_data:\n",
    "    #   _id|accuracy|altitude|filter|floor|fmt_time|heading|latitude|loc|local_dt|longitude|metadata_write_ts|sensed_speed|ts|vaccuracy\n",
    "    # android_location_data:\n",
    "    #   _id|accuracy|altitude|elapsedRealtimeNanos|filter|fmt_time|heading|latitude|loc|local_dt|longitude|metadata_write_ts|sensed_speed|ts\n",
    "    time_range = estt.TimeQuery(\"metadata.write_ts\", start_ts, end_ts)\n",
    "    ios_raw_df = ios_ts.get_data_df(\"background/location\", time_range)\n",
    "    android_raw_df = android_ts.get_data_df(\"background/location\", time_range)\n",
    "    \n",
    "    #ios_raw_df = ios_ts.get_data_df(\"background/location\", enua.UserCache.TimeQuery(\"write_ts\", start_ts, end_ts))\n",
    "    #android_raw_df = android_ts.get_data_df(\"background/location\", enua.UserCache.TimeQuery(\"write_ts\", start_ts, end_ts))\n",
    "    \n",
    "    if len(ios_raw_df) == 0 or len(android_raw_df) == 0:\n",
    "        return (0, None)\n",
    "   \n",
    "    android_df = get_interp_df(android_raw_df)\n",
    "    ios_df = get_interp_df(ios_raw_df)\n",
    "    \n",
    "    #joine_df = joined (interpolated) location data from ios & android\n",
    "    #   *df.join: if there are columns of the same name in both dfs, suffix will be added to respective columns\n",
    "    joined_df = android_df.join(ios_df, how='inner', lsuffix=\"_android\", rsuffix=\"_ios\") \n",
    "    \n",
    "    # joined_df.drop(['fmt_time_ios', 'ts_ios'], axis=1, inplace=True)\n",
    "    # joined_df.rename(columns={\"fmt_time_android\": \"fmt_time\", \"ts_android\": \"ts\"}, inplace=True)\n",
    "   \n",
    "    #adding a new column to joined_df of location from both ios & android\n",
    "    joined_df['same_point_distances'] = joined_df.apply(calDistance, axis=1)\n",
    "    \n",
    "    # filtered_df = only contain highly resemblant location data from ios&android\n",
    "    filtered_df = joined_df[joined_df.same_point_distances < 40]\n",
    "    \n",
    "    # combined_df = get the average coordinates (of filtered/accurate locations) from both android & ios \n",
    "    combined_df = pd.DataFrame({\"ts\": filtered_df.ts_android, \"fmt_time\": filtered_df.fmt_time_android,\n",
    "                            \"latitude\": (filtered_df.latitude_android + filtered_df.latitude_ios)/2,\n",
    "                            \"longitude\": (filtered_df.longitude_android + filtered_df.longitude_ios)/2,\n",
    "                            \"same_point_distances\": filtered_df.same_point_distances}, index=np.array(filtered_df.ts_android))\n",
    "    \n",
    "    # pct_retained = percentage of location data of high accuracy  \n",
    "    #  *interpolated data has time interval of 1s \n",
    "    pct_retained = float(len(combined_df) * 100) / (int(end_ts) - int(start_ts))\n",
    "    return pct_retained, combined_df"
   ]
  },
  {
   "cell_type": "code",
   "execution_count": 174,
   "metadata": {
    "collapsed": false
   },
   "outputs": [],
   "source": [
    "#input: \n",
    "#return: \n",
    "def calDistanceGround(row):\n",
    "    return pf.calDistance(ad.AttrDict({\"latitude\": row['latitude_ground'], \"longitude\": row['longitude_ground']}),\n",
    "                          ad.AttrDict({\"latitude\": row['latitude_compare'], \"longitude\": row['longitude_compare']}))"
   ]
  },
  {
   "cell_type": "code",
   "execution_count": 175,
   "metadata": {
    "collapsed": false
   },
   "outputs": [],
   "source": [
    "#input: ground_truth_df \n",
    "#       compare_df = interpolated phone location df \n",
    "#return: df \n",
    "def compare_trajectories(ground_truth_df, compare_df):\n",
    "    #joining \"ground_truth_df\" with \"compare_df\" on indices (the index of the two dfs must be the same)\n",
    "    joined_df = ground_truth_df.join(compare_df, how='inner', lsuffix=\"_ground\", rsuffix=\"_compare\")\n",
    "    joined_df['compare_distance'] = joined_df.apply(calDistanceGround, axis=1)\n",
    "    return joined_df"
   ]
  },
  {
   "cell_type": "code",
   "execution_count": 176,
   "metadata": {
    "collapsed": false
   },
   "outputs": [
    {
     "ename": "ImportError",
     "evalue": "No module named folium.folium",
     "output_type": "error",
     "traceback": [
      "\u001b[0;31m---------------------------------------------------------------------------\u001b[0m",
      "\u001b[0;31mImportError\u001b[0m                               Traceback (most recent call last)",
      "\u001b[0;32m<ipython-input-176-7ab020ebd347>\u001b[0m in \u001b[0;36m<module>\u001b[0;34m()\u001b[0m\n\u001b[0;32m----> 1\u001b[0;31m \u001b[0;32mimport\u001b[0m \u001b[0memission\u001b[0m\u001b[0;34m.\u001b[0m\u001b[0manalysis\u001b[0m\u001b[0;34m.\u001b[0m\u001b[0mplotting\u001b[0m\u001b[0;34m.\u001b[0m\u001b[0mleaflet_osm\u001b[0m\u001b[0;34m.\u001b[0m\u001b[0mour_plotter\u001b[0m \u001b[0;32mas\u001b[0m \u001b[0mlo\u001b[0m\u001b[0;34m\u001b[0m\u001b[0m\n\u001b[0m\u001b[1;32m      2\u001b[0m \u001b[0;32mimport\u001b[0m \u001b[0memission\u001b[0m\u001b[0;34m.\u001b[0m\u001b[0manalysis\u001b[0m\u001b[0;34m.\u001b[0m\u001b[0mplotting\u001b[0m\u001b[0;34m.\u001b[0m\u001b[0mgeojson\u001b[0m\u001b[0;34m.\u001b[0m\u001b[0mgeojson_feature_converter\u001b[0m \u001b[0;32mas\u001b[0m \u001b[0mgfc\u001b[0m\u001b[0;34m\u001b[0m\u001b[0m\n\u001b[1;32m      3\u001b[0m \u001b[0;32mimport\u001b[0m \u001b[0memission\u001b[0m\u001b[0;34m.\u001b[0m\u001b[0manalysis\u001b[0m\u001b[0;34m.\u001b[0m\u001b[0mplotting\u001b[0m\u001b[0;34m.\u001b[0m\u001b[0mleaflet_osm\u001b[0m\u001b[0;34m.\u001b[0m\u001b[0mipython_helper\u001b[0m \u001b[0;32mas\u001b[0m \u001b[0mipy\u001b[0m\u001b[0;34m\u001b[0m\u001b[0m\n",
      "\u001b[0;32m/Users/yawen/Desktop/E-mission/e-mission-server/emission/analysis/plotting/leaflet_osm/our_plotter.py\u001b[0m in \u001b[0;36m<module>\u001b[0;34m()\u001b[0m\n\u001b[1;32m      1\u001b[0m \u001b[0;32mimport\u001b[0m \u001b[0mpandas\u001b[0m \u001b[0;32mas\u001b[0m \u001b[0mpd\u001b[0m\u001b[0;34m\u001b[0m\u001b[0m\n\u001b[0;32m----> 2\u001b[0;31m \u001b[0;32mimport\u001b[0m \u001b[0mfolium\u001b[0m\u001b[0;34m.\u001b[0m\u001b[0mfolium\u001b[0m \u001b[0;32mas\u001b[0m \u001b[0mfolium\u001b[0m\u001b[0;34m\u001b[0m\u001b[0m\n\u001b[0m\u001b[1;32m      3\u001b[0m \u001b[0;32mimport\u001b[0m \u001b[0mitertools\u001b[0m\u001b[0;34m\u001b[0m\u001b[0m\n\u001b[1;32m      4\u001b[0m \u001b[0;32mimport\u001b[0m \u001b[0mnumpy\u001b[0m \u001b[0;32mas\u001b[0m \u001b[0mnp\u001b[0m\u001b[0;34m\u001b[0m\u001b[0m\n\u001b[1;32m      5\u001b[0m \u001b[0;32mimport\u001b[0m \u001b[0mlogging\u001b[0m\u001b[0;34m\u001b[0m\u001b[0m\n",
      "\u001b[0;31mImportError\u001b[0m: No module named folium.folium"
     ]
    }
   ],
   "source": [
    "import emission.analysis.plotting.leaflet_osm.our_plotter as lo\n",
    "import emission.analysis.plotting.geojson.geojson_feature_converter as gfc\n",
    "import emission.analysis.plotting.leaflet_osm.ipython_helper as ipy"
   ]
  },
  {
   "cell_type": "code",
   "execution_count": 177,
   "metadata": {
    "collapsed": false
   },
   "outputs": [
    {
     "data": {
      "text/plain": [
       "<module 'emission.analysis.plotting.geojson.geojson_feature_converter' from '/Users/yawen/Desktop/E-mission/e-mission-server/emission/analysis/plotting/geojson/geojson_feature_converter.pyc'>"
      ]
     },
     "execution_count": 177,
     "metadata": {},
     "output_type": "execute_result"
    }
   ],
   "source": [
    "reload(gfc)"
   ]
  },
  {
   "cell_type": "code",
   "execution_count": 178,
   "metadata": {
    "collapsed": false
   },
   "outputs": [],
   "source": [
    "import copy\n",
    "\n",
    "#input: a row(type \"dict\") from ranges.csv (where phones are discharging & tracking location)\n",
    "# -|start_ts|start_fmt_time|end_ts|end_fmt_time|state|android_regime|ios_regime|\n",
    "\n",
    "#return: a tuple (retained, result_list) \n",
    "# -retained = type \"dict\": ios_regime, android_regime, state, retained=pct_retained  \n",
    "# -result_list = type \"list of dicts\": trajectory_compare_to_ground_truth results for 3 sets of phones (ios+android) for the experiment row\n",
    "\n",
    "def compare_accuracy(range_row):\n",
    "    start_ts = range_row['start_ts']\n",
    "    end_ts = range_row['end_ts']\n",
    "    # First, get ground truth from hafs phones !!!!! which is iphone1*android1\n",
    "    # anroid_ts[0] --> type \"BuiltinTimeSeries\" \n",
    "    (pct_retained, ground_truth_df) = get_ground_truth(android_ts[0], iphone_ts[0], start_ts, end_ts)\n",
    "    \n",
    "    \n",
    "    \n",
    "    print \"Retained %s percent\" % pct_retained\n",
    "    if (ground_truth_df is None):\n",
    "        print \"Unable to calculate ground truth for row %s, skipping...\"\n",
    "        return (None, None)\n",
    "    result_list = []\n",
    "    for i in range(1,4): #i=1,2,3\n",
    "        \n",
    "        time_range = estt.TimeQuery(\"metadata.write_ts\", start_ts, end_ts)\n",
    "\n",
    "        print \"Checking ios phone-%s\" % i\n",
    "        #ios_raw_df --> dataframe containing time-queried location information\n",
    "        ios_raw_df = iphone_ts[i].get_data_df(\"background/location\", time_range)\n",
    "        \n",
    "        print \"Checking android phone-%s\" % i\n",
    "        #android_raw_df --> dataframe containing time-queried location information\n",
    "        android_raw_df = android_ts[i].get_data_df(\"background/location\", time_range)\n",
    "\n",
    "        if len(ios_raw_df) > 5 and len(android_raw_df):\n",
    "            # ios length > 5 & android length > 0\n",
    "            # range_row = input row(dict) from csv\n",
    "            curr_range_row = copy.copy(range_row)\n",
    "            \n",
    "            #ground_truth_df = \n",
    "            #get_interp_df(ios_raw_df) = interpolated lat & long\n",
    "            compare_raw_trajectory_ios = compare_trajectories(ground_truth_df,\n",
    "                                    get_interp_df(ios_raw_df)) #returns a df \n",
    "        \n",
    "            compare_raw_trajectory_android = compare_trajectories(ground_truth_df,\n",
    "                                    get_interp_df(android_raw_df)) #returns a df\n",
    "            \n",
    "            # curr_range_row = row(dict) from csv\n",
    "            #  - add more keys to curr_range_row\n",
    "            curr_range_row['ios_compare'] = compare_raw_trajectory_ios #value is a df \n",
    "            curr_range_row['android_compare'] = compare_raw_trajectory_android #value is a df \n",
    "            curr_range_row['phone'] = i\n",
    "            \n",
    "            result_list.append(curr_range_row)\n",
    "        else:\n",
    "            print (\"Skipping entry for phone-%s because len(ios_raw_df) = %d and len(android_raw_df) = %d\" %\n",
    "                   (i, len(ios_raw_df), len(android_raw_df)))\n",
    "\n",
    "    return ({\"ios_regime\": range_row['ios_regime'], \"android_regime\": range_row['android_regime'],\n",
    "             \"state\": range_row[\"state\"], \"retained\": pct_retained},\n",
    "            result_list)"
   ]
  },
  {
   "cell_type": "code",
   "execution_count": 179,
   "metadata": {
    "collapsed": false
   },
   "outputs": [],
   "source": [
    "retained_list = [] #(type \"dict\") containing percentage of retained location data \n",
    "result_list = [] #(type list of list) containing comparison of phone2,3,4 with ground truth "
   ]
  },
  {
   "cell_type": "code",
   "execution_count": 180,
   "metadata": {
    "collapsed": false
   },
   "outputs": [],
   "source": [
    "#input: a row(type \"dict\") from ranges.csv \n",
    "#return: TRUE if the row contains info for the phones discharging (stationary/loitering/moving) & tracking(a regime) \n",
    "def is_valid_row(row):\n",
    "    return row['state'] != 'charging' and row['state'] != 'charging-or-full' and row['state'] != 'invalid' and row['ios_regime'] != 'tracking_off' and row['ios_regime'] != 'tracking_off'"
   ]
  },
  {
   "cell_type": "code",
   "execution_count": 181,
   "metadata": {
    "collapsed": false
   },
   "outputs": [
    {
     "name": "stdout",
     "output_type": "stream",
     "text": [
      "Comparing accuracy for range {'ios_regime': 'best+1m', 'end_ts': 1459342810, 'start_ts': 1459310790, 'start_fmt_time': '2016-03-29T21:06:30.275000-07:00', 'android_regime': 'high+1sec', 'state': 'stationary', 'end_fmt_time': '2016-03-30T06:00:09.654643-07:00'}\n",
      "Retained 0 percent\n",
      "Unable to calculate ground truth for row %s, skipping...\n",
      "Comparing accuracy for range {'ios_regime': 'best+1m', 'end_ts': 1459353614, 'start_ts': 1459342810, 'start_fmt_time': '2016-03-30T06:00:09.654643-07:00', 'android_regime': 'high+1sec', 'state': 'charging-or-full', 'end_fmt_time': '2016-03-30T09:00:13.859000-07:00'}\n",
      "Comparing accuracy for range {'ios_regime': 'best-v-10m+1m-v-30m', 'end_ts': 1459371719, 'start_ts': 1459353614, 'start_fmt_time': '2016-03-30T09:00:13.859000-07:00', 'android_regime': 'high-v-balanced+1sec-v-30sec', 'state': 'charging-or-full', 'end_fmt_time': '2016-03-30T14:01:58.965395-07:00'}\n",
      "Comparing accuracy for range {'ios_regime': 'best-v-10m+1m-v-30m', 'end_ts': 1459372435, 'start_ts': 1459371719, 'start_fmt_time': '2016-03-30T14:01:58.965395-07:00', 'android_regime': 'high-v-balanced+1sec-v-30sec', 'state': 'loitering', 'end_fmt_time': '2016-03-30T14:13:55.019000-07:00'}\n",
      "Retained 26.6759776536 percent\n",
      "Checking ios phone-1\n",
      "Checking android phone-1\n",
      "Checking ios phone-2\n",
      "Checking android phone-2\n",
      "Skipping entry for phone-2 because len(ios_raw_df) = 4 and len(android_raw_df) = 54\n",
      "Checking ios phone-3\n",
      "Checking android phone-3\n",
      "Skipping entry for phone-3 because len(ios_raw_df) = 5 and len(android_raw_df) = 24\n",
      "Comparing accuracy for range {'ios_regime': 'best-v-10m+1m-v-30m', 'end_ts': 1459373082, 'start_ts': 1459372435, 'start_fmt_time': '2016-03-30T14:13:55.019000-07:00', 'android_regime': 'high-v-balanced+1sec-v-30sec', 'state': 'moving', 'end_fmt_time': '2016-03-30T14:24:42.464000-07:00'}\n",
      "Retained 99.227202473 percent\n",
      "Checking ios phone-1\n",
      "Checking android phone-1\n",
      "Checking ios phone-2\n",
      "Checking android phone-2\n",
      "Checking ios phone-3\n",
      "Checking android phone-3\n",
      "Comparing accuracy for range {'ios_regime': 'best-v-10m+1m-v-30m', 'end_ts': 1459376488, 'start_ts': 1459373082, 'start_fmt_time': '2016-03-30T14:24:42.464000-07:00', 'android_regime': 'high-v-balanced+1sec-v-30sec', 'state': 'loitering', 'end_fmt_time': '2016-03-30T15:21:27.670000-07:00'}\n",
      "Retained 99.6183206107 percent\n",
      "Checking ios phone-1\n",
      "Checking android phone-1\n",
      "Checking ios phone-2\n",
      "Checking android phone-2\n",
      "Skipping entry for phone-2 because len(ios_raw_df) = 2 and len(android_raw_df) = 151\n",
      "Checking ios phone-3\n",
      "Checking android phone-3\n",
      "Skipping entry for phone-3 because len(ios_raw_df) = 2 and len(android_raw_df) = 107\n",
      "Comparing accuracy for range {'ios_regime': 'best-v-10m+1m-v-30m', 'end_ts': 1459377222, 'start_ts': 1459376488, 'start_fmt_time': '2016-03-30T15:21:27.670000-07:00', 'android_regime': 'high-v-balanced+1sec-v-30sec', 'state': 'moving', 'end_fmt_time': '2016-03-30T15:33:41.654000-07:00'}\n",
      "Retained 87.4659400545 percent\n",
      "Checking ios phone-1\n",
      "Checking android phone-1\n",
      "Checking ios phone-2\n",
      "Checking android phone-2\n",
      "Checking ios phone-3\n",
      "Checking android phone-3\n",
      "Comparing accuracy for range {'ios_regime': 'best-v-10m+1m-v-30m', 'end_ts': 1459379999, 'start_ts': 1459377222, 'start_fmt_time': '2016-03-30T15:33:41.654000-07:00', 'android_regime': 'high-v-balanced+1sec-v-30sec', 'state': 'loitering', 'end_fmt_time': '2016-03-30T16:19:58.943000-07:00'}\n",
      "Retained 1.5484335614 percent\n",
      "Checking ios phone-1\n",
      "Checking android phone-1\n",
      "Checking ios phone-2\n",
      "Checking android phone-2\n",
      "Skipping entry for phone-2 because len(ios_raw_df) = 3 and len(android_raw_df) = 104\n",
      "Checking ios phone-3\n",
      "Checking android phone-3\n",
      "Skipping entry for phone-3 because len(ios_raw_df) = 5 and len(android_raw_df) = 93\n",
      "Comparing accuracy for range {'ios_regime': 'best-v-10m+1m-v-30m', 'end_ts': 1459381062, 'start_ts': 1459379999, 'start_fmt_time': '2016-03-30T16:19:58.943000-07:00', 'android_regime': 'high-v-balanced+1sec-v-30sec', 'state': 'moving', 'end_fmt_time': '2016-03-30T16:37:41.978000-07:00'}\n",
      "Retained 92.380056444 percent\n",
      "Checking ios phone-1\n",
      "Checking android phone-1\n",
      "Checking ios phone-2\n",
      "Checking android phone-2\n",
      "Checking ios phone-3\n",
      "Checking android phone-3\n",
      "Comparing accuracy for range {'ios_regime': 'best-v-10m+1m-v-30m', 'end_ts': 1459385843, 'start_ts': 1459381062, 'start_fmt_time': '2016-03-30T16:37:41.978000-07:00', 'android_regime': 'high-v-balanced+1sec-v-30sec', 'state': 'loitering', 'end_fmt_time': '2016-03-30T17:57:23.050000-07:00'}\n",
      "Retained 8.59652792303 percent\n",
      "Checking ios phone-1\n",
      "Checking android phone-1\n",
      "Checking ios phone-2\n",
      "Checking android phone-2\n",
      "Checking ios phone-3\n",
      "Checking android phone-3\n",
      "Comparing accuracy for range {'ios_regime': 'best-v-10m+1m-v-30m', 'end_ts': 1459387421, 'start_ts': 1459385843, 'start_fmt_time': '2016-03-30T17:57:23.050000-07:00', 'android_regime': 'high-v-balanced+1sec-v-30sec', 'state': 'moving', 'end_fmt_time': '2016-03-30T18:23:40.680000-07:00'}\n",
      "Retained 96.6413181242 percent\n",
      "Checking ios phone-1\n",
      "Checking android phone-1\n",
      "Checking ios phone-2\n",
      "Checking android phone-2\n",
      "Checking ios phone-3\n",
      "Checking android phone-3\n",
      "Comparing accuracy for range {'ios_regime': 'best-v-10m+1m-v-30m', 'end_ts': 1459403298, 'start_ts': 1459387421, 'start_fmt_time': '2016-03-30T18:23:40.680000-07:00', 'android_regime': 'high-v-balanced+1sec-v-30sec', 'state': 'loitering', 'end_fmt_time': '2016-03-30T22:48:17.862000-07:00'}\n",
      "Retained 88.5305788247 percent\n",
      "Checking ios phone-1\n",
      "Checking android phone-1\n",
      "Checking ios phone-2\n",
      "Checking android phone-2\n",
      "Checking ios phone-3\n",
      "Checking android phone-3\n",
      "Skipping entry for phone-3 because len(ios_raw_df) = 4 and len(android_raw_df) = 126\n",
      "Comparing accuracy for range {'ios_regime': 'best-v-10m+1m-v-30m', 'end_ts': 1459403853, 'start_ts': 1459403298, 'start_fmt_time': '2016-03-30T22:48:17.862000-07:00', 'android_regime': 'high-v-balanced+1sec-v-30sec', 'state': 'moving', 'end_fmt_time': '2016-03-30T22:57:33.392000-07:00'}\n",
      "Retained 97.4774774775 percent\n",
      "Checking ios phone-1\n",
      "Checking android phone-1\n",
      "Checking ios phone-2\n",
      "Checking android phone-2\n",
      "Checking ios phone-3\n",
      "Checking android phone-3\n"
     ]
    }
   ],
   "source": [
    "for row in ranges_df.iloc[1:].to_dict('records'):\n",
    "    #ranges_df.iloc[1:] --> row 1 through n (ignored 1st row)\n",
    "    #ranges_df.iloc[1:].to_dict('records') --> returns a list of dict\n",
    "    #row is of type \"dict\"\n",
    "    print \"Comparing accuracy for range %s\" % row\n",
    "    if is_valid_row(row):\n",
    "        (ret, res) = compare_accuracy(row)\n",
    "        if ret is not None:\n",
    "            retained_list.append(ret)\n",
    "        if res is not None:\n",
    "            result_list.extend(res)"
   ]
  },
  {
   "cell_type": "code",
   "execution_count": 182,
   "metadata": {
    "collapsed": false
   },
   "outputs": [
    {
     "name": "stdout",
     "output_type": "stream",
     "text": [
      "loitering\n",
      "moving\n"
     ]
    },
    {
     "data": {
      "image/png": "[encoded data removed]",
      "text/plain": [
       "<matplotlib.figure.Figure at 0x12f416550>"
      ]
     },
     "metadata": {},
     "output_type": "display_data"
    }
   ],
   "source": [
    "#show how effective the \"ground truth\" is \n",
    "#  -higher retained percentage --> more effective\n",
    "(ret_fig, ret_axes) = plt.subplots(nrows=1, ncols=3, figsize=(16,3), sharex=True, sharey=True)\n",
    "for i, (key, df) in enumerate(pd.DataFrame(retained_list).groupby('state')):\n",
    "    print key\n",
    "    df.plot(kind='hist', title=key, bins=10, ax=ret_axes[i], cumulative=True, normed=True)"
   ]
  },
  {
   "cell_type": "code",
   "execution_count": 83,
   "metadata": {
    "collapsed": false
   },
   "outputs": [],
   "source": [
    "# distance in meters??? \n",
    "all_compare_dists = pd.concat(map(lambda row: pd.concat([row['ios_compare'].compare_distance, row['android_compare'].compare_distance]), result_list))"
   ]
  },
  {
   "cell_type": "code",
   "execution_count": 84,
   "metadata": {
    "collapsed": false
   },
   "outputs": [
    {
     "data": {
      "text/plain": [
       "1459372436   10.305\n",
       "1459372437   10.562\n",
       "1459372438   10.823\n",
       "1459372439   11.725\n",
       "1459372440   11.430\n",
       "Name: compare_distance, dtype: float64"
      ]
     },
     "execution_count": 84,
     "metadata": {},
     "output_type": "execute_result"
    }
   ],
   "source": [
    "all_compare_dists.head()"
   ]
  },
  {
   "cell_type": "code",
   "execution_count": 85,
   "metadata": {
    "collapsed": false
   },
   "outputs": [
    {
     "data": {
      "text/plain": [
       "76480"
      ]
     },
     "execution_count": 85,
     "metadata": {},
     "output_type": "execute_result"
    }
   ],
   "source": [
    "len(all_compare_dists)"
   ]
  },
  {
   "cell_type": "code",
   "execution_count": 86,
   "metadata": {
    "collapsed": false
   },
   "outputs": [
    {
     "data": {
      "text/plain": [
       "count   76480.000\n",
       "mean       87.393\n",
       "std       227.932\n",
       "min         0.026\n",
       "25%         5.372\n",
       "50%        11.657\n",
       "75%        19.171\n",
       "max      2475.454\n",
       "Name: compare_distance, dtype: float64"
      ]
     },
     "execution_count": 86,
     "metadata": {},
     "output_type": "execute_result"
    }
   ],
   "source": [
    "all_compare_dists.describe()"
   ]
  },
  {
   "cell_type": "code",
   "execution_count": 87,
   "metadata": {
    "collapsed": false
   },
   "outputs": [
    {
     "data": {
      "text/plain": [
       "<matplotlib.axes._subplots.AxesSubplot at 0x118c71850>"
      ]
     },
     "execution_count": 87,
     "metadata": {},
     "output_type": "execute_result"
    },
    {
     "data": {
      "image/png": "[encoded data removed]",
      "text/plain": [
       "<matplotlib.figure.Figure at 0x118c463d0>"
      ]
     },
     "metadata": {},
     "output_type": "display_data"
    }
   ],
   "source": [
    "all_compare_dists.plot(kind='hist', figsize=(16,4), bins=1000)"
   ]
  },
  {
   "cell_type": "code",
   "execution_count": 88,
   "metadata": {
    "collapsed": false
   },
   "outputs": [
    {
     "data": {
      "text/plain": [
       "<matplotlib.axes._subplots.AxesSubplot at 0x1189fbc50>"
      ]
     },
     "execution_count": 88,
     "metadata": {},
     "output_type": "execute_result"
    },
    {
     "data": {
      "image/png": "[encoded data removed]",
      "text/plain": [
       "<matplotlib.figure.Figure at 0x118c71fd0>"
      ]
     },
     "metadata": {},
     "output_type": "display_data"
    }
   ],
   "source": [
    "all_compare_dists.plot.box(vert=False, figsize=(16,4))"
   ]
  },
  {
   "cell_type": "code",
   "execution_count": 89,
   "metadata": {
    "collapsed": false
   },
   "outputs": [],
   "source": [
    "#1. valid: less than 5000 distance difference \n",
    "valid_compare_dists = all_compare_dists[all_compare_dists < 5000]"
   ]
  },
  {
   "cell_type": "code",
   "execution_count": 90,
   "metadata": {
    "collapsed": false
   },
   "outputs": [
    {
     "data": {
      "text/plain": [
       "<matplotlib.axes._subplots.AxesSubplot at 0x11987f350>"
      ]
     },
     "execution_count": 90,
     "metadata": {},
     "output_type": "execute_result"
    },
    {
     "data": {
      "image/png": "[encoded data removed]",
      "text/plain": [
       "<matplotlib.figure.Figure at 0x119870d90>"
      ]
     },
     "metadata": {},
     "output_type": "display_data"
    }
   ],
   "source": [
    "valid_compare_dists.plot(kind='hist', figsize=(16,4), bins=1000)"
   ]
  },
  {
   "cell_type": "code",
   "execution_count": 91,
   "metadata": {
    "collapsed": false
   },
   "outputs": [
    {
     "data": {
      "text/plain": [
       "<matplotlib.axes._subplots.AxesSubplot at 0x11b588fd0>"
      ]
     },
     "execution_count": 91,
     "metadata": {},
     "output_type": "execute_result"
    },
    {
     "data": {
      "image/png": "[encoded data removed]",
      "text/plain": [
       "<matplotlib.figure.Figure at 0x1182b2c50>"
      ]
     },
     "metadata": {},
     "output_type": "display_data"
    }
   ],
   "source": [
    "valid_compare_dists.plot.box(vert=False, figsize=(16,4))"
   ]
  },
  {
   "cell_type": "code",
   "execution_count": 92,
   "metadata": {
    "collapsed": false
   },
   "outputs": [],
   "source": [
    "#2. valid: less than 1000 distance difference \n",
    "valid_compare_dists = all_compare_dists[all_compare_dists < 1000]"
   ]
  },
  {
   "cell_type": "code",
   "execution_count": 93,
   "metadata": {
    "collapsed": false
   },
   "outputs": [
    {
     "data": {
      "text/plain": [
       "<matplotlib.axes._subplots.AxesSubplot at 0x118a24790>"
      ]
     },
     "execution_count": 93,
     "metadata": {},
     "output_type": "execute_result"
    },
    {
     "data": {
      "image/png": "[encoded data removed]",
      "text/plain": [
       "<matplotlib.figure.Figure at 0x120522fd0>"
      ]
     },
     "metadata": {},
     "output_type": "display_data"
    }
   ],
   "source": [
    "valid_compare_dists.plot(kind='hist', figsize=(16,4), bins=1000)"
   ]
  },
  {
   "cell_type": "code",
   "execution_count": 94,
   "metadata": {
    "collapsed": false
   },
   "outputs": [
    {
     "data": {
      "text/plain": [
       "<matplotlib.axes._subplots.AxesSubplot at 0x121000c10>"
      ]
     },
     "execution_count": 94,
     "metadata": {},
     "output_type": "execute_result"
    },
    {
     "data": {
      "image/png": "[encoded data removed]",
      "text/plain": [
       "<matplotlib.figure.Figure at 0x1189fe4d0>"
      ]
     },
     "metadata": {},
     "output_type": "display_data"
    }
   ],
   "source": [
    "valid_compare_dists.plot.box(vert=False, figsize=(16,4))"
   ]
  },
  {
   "cell_type": "code",
   "execution_count": 95,
   "metadata": {
    "collapsed": false
   },
   "outputs": [],
   "source": [
    "#3. valid: less than 200 distance difference \n",
    "valid_compare_dists = all_compare_dists[all_compare_dists < 200]"
   ]
  },
  {
   "cell_type": "code",
   "execution_count": 96,
   "metadata": {
    "collapsed": false
   },
   "outputs": [
    {
     "data": {
      "text/plain": [
       "<matplotlib.axes._subplots.AxesSubplot at 0x121f0dad0>"
      ]
     },
     "execution_count": 96,
     "metadata": {},
     "output_type": "execute_result"
    },
    {
     "data": {
      "image/png": "[encoded data removed]",
      "text/plain": [
       "<matplotlib.figure.Figure at 0x118c469d0>"
      ]
     },
     "metadata": {},
     "output_type": "display_data"
    }
   ],
   "source": [
    "valid_compare_dists.plot(kind='hist', figsize=(16,4), bins=1000)"
   ]
  },
  {
   "cell_type": "code",
   "execution_count": 97,
   "metadata": {
    "collapsed": false
   },
   "outputs": [
    {
     "data": {
      "image/png": "[encoded data removed]",
      "text/plain": [
       "<matplotlib.figure.Figure at 0x121f9ad10>"
      ]
     },
     "metadata": {},
     "output_type": "display_data"
    }
   ],
   "source": [
    "ax = valid_compare_dists.plot.box(vert=False, figsize=(16,4))\n",
    "tick_list = ax.set_xticks(np.arange(0,valid_compare_dists.max(),10))"
   ]
  },
  {
   "cell_type": "code",
   "execution_count": 98,
   "metadata": {
    "collapsed": false
   },
   "outputs": [],
   "source": [
    "def exp_smaller_plots(df, title):\n",
    "    plt.figure()\n",
    "    df.plot(kind='hist', figsize=(16,4), bins=1000, title=title)\n",
    "    plt.figure()\n",
    "    df.plot.box(vert=False, figsize=(16,4), title=title)\n",
    "    plt.figure()\n",
    "    df[df < 5000].plot(kind='hist', figsize=(16,4), bins=1000, title=title)\n",
    "    plt.figure()\n",
    "    df[df < 5000].plot.box(vert=False, figsize=(16,4), title=title)\n",
    "    plt.figure()\n",
    "    df[df < 1000].plot(kind='hist', figsize=(16,4), bins=1000, title=title)\n",
    "    plt.figure()\n",
    "    df[df < 1000].plot.box(vert=False, figsize=(16,4), title=title)\n",
    "    plt.figure()\n",
    "    df[df < 200].plot(kind='hist', figsize=(16,4), bins=1000, title=title)    \n",
    "    plt.figure()\n",
    "    ax = df[df < 200].plot.box(vert=False, figsize=(16,4), title=title)    \n",
    "    tick_list = ax.set_xticks(np.arange(0,df[df < 200].max(),10))"
   ]
  },
  {
   "cell_type": "code",
   "execution_count": 99,
   "metadata": {
    "collapsed": false
   },
   "outputs": [
    {
     "data": {
      "image/png": "[encoded data removed]",
      "text/plain": [
       "<matplotlib.figure.Figure at 0x124379f90>"
      ]
     },
     "metadata": {},
     "output_type": "display_data"
    },
    {
     "data": {
      "image/png": "[encoded data removed]",
      "text/plain": [
       "<matplotlib.figure.Figure at 0x1243756d0>"
      ]
     },
     "metadata": {},
     "output_type": "display_data"
    },
    {
     "data": {
      "image/png": "[encoded data removed]",
      "text/plain": [
       "<matplotlib.figure.Figure at 0x11c4aed10>"
      ]
     },
     "metadata": {},
     "output_type": "display_data"
    },
    {
     "data": {
      "image/png": "[encoded data removed]",
      "text/plain": [
       "<matplotlib.figure.Figure at 0x124b98390>"
      ]
     },
     "metadata": {},
     "output_type": "display_data"
    },
    {
     "data": {
      "image/png": "[encoded data removed]",
      "text/plain": [
       "<matplotlib.figure.Figure at 0x129610d10>"
      ]
     },
     "metadata": {},
     "output_type": "display_data"
    },
    {
     "data": {
      "image/png": "[encoded data removed]",
      "text/plain": [
       "<matplotlib.figure.Figure at 0x12b50f510>"
      ]
     },
     "metadata": {},
     "output_type": "display_data"
    },
    {
     "data": {
      "image/png": "[encoded data removed]",
      "text/plain": [
       "<matplotlib.figure.Figure at 0x12b26c8d0>"
      ]
     },
     "metadata": {},
     "output_type": "display_data"
    },
    {
     "data": {
      "image/png": "[encoded data removed]",
      "text/plain": [
       "<matplotlib.figure.Figure at 0x12d244190>"
      ]
     },
     "metadata": {},
     "output_type": "display_data"
    }
   ],
   "source": [
    "exp_smaller_plots(all_compare_dists, \"all data\")"
   ]
  },
  {
   "cell_type": "code",
   "execution_count": 100,
   "metadata": {
    "collapsed": false
   },
   "outputs": [],
   "source": [
    "moving_compare_dists = pd.concat(map(lambda row: pd.concat([row['ios_compare'].compare_distance, row['android_compare'].compare_distance]),\n",
    "                                  filter(lambda row: row['state'] == 'moving', result_list)))"
   ]
  },
  {
   "cell_type": "code",
   "execution_count": 101,
   "metadata": {
    "collapsed": false
   },
   "outputs": [
    {
     "data": {
      "image/png": "[encoded data removed]",
      "text/plain": [
       "<matplotlib.figure.Figure at 0x129610c90>"
      ]
     },
     "metadata": {},
     "output_type": "display_data"
    },
    {
     "data": {
      "image/png": "[encoded data removed]",
      "text/plain": [
       "<matplotlib.figure.Figure at 0x12e685e90>"
      ]
     },
     "metadata": {},
     "output_type": "display_data"
    },
    {
     "data": {
      "image/png": "[encoded data removed]",
      "text/plain": [
       "<matplotlib.figure.Figure at 0x12ee90150>"
      ]
     },
     "metadata": {},
     "output_type": "display_data"
    },
    {
     "data": {
      "image/png": "[encoded data removed]",
      "text/plain": [
       "<matplotlib.figure.Figure at 0x12935ff10>"
      ]
     },
     "metadata": {},
     "output_type": "display_data"
    },
    {
     "data": {
      "image/png": "[encoded data removed]",
      "text/plain": [
       "<matplotlib.figure.Figure at 0x12af58b10>"
      ]
     },
     "metadata": {},
     "output_type": "display_data"
    },
    {
     "data": {
      "image/png": "[encoded data removed]",
      "text/plain": [
       "<matplotlib.figure.Figure at 0x12bec5490>"
      ]
     },
     "metadata": {},
     "output_type": "display_data"
    },
    {
     "data": {
      "image/png": "[encoded data removed]",
      "text/plain": [
       "<matplotlib.figure.Figure at 0x12a61d210>"
      ]
     },
     "metadata": {},
     "output_type": "display_data"
    },
    {
     "data": {
      "image/png": "[encoded data removed]",
      "text/plain": [
       "<matplotlib.figure.Figure at 0x12a491050>"
      ]
     },
     "metadata": {},
     "output_type": "display_data"
    }
   ],
   "source": [
    "exp_smaller_plots(moving_compare_dists, \"moving only\")"
   ]
  },
  {
   "cell_type": "code",
   "execution_count": 113,
   "metadata": {
    "collapsed": false
   },
   "outputs": [
    {
     "ename": "ValueError",
     "evalue": "No objects to concatenate",
     "output_type": "error",
     "traceback": [
      "\u001b[0;31m---------------------------------------------------------------------------\u001b[0m",
      "\u001b[0;31mValueError\u001b[0m                                Traceback (most recent call last)",
      "\u001b[0;32m<ipython-input-113-9495ca4805eb>\u001b[0m in \u001b[0;36m<module>\u001b[0;34m()\u001b[0m\n\u001b[1;32m      1\u001b[0m stationary_compare_dists = pd.concat(map(lambda row: pd.concat([row['ios_compare'].compare_distance, row['android_compare'].compare_distance]),\n\u001b[0;32m----> 2\u001b[0;31m                                   filter(lambda row: row['state'] == 'stationary', result_list)))\n\u001b[0m",
      "\u001b[0;32m/Users/yawen/anaconda2/lib/python2.7/site-packages/pandas/tools/merge.pyc\u001b[0m in \u001b[0;36mconcat\u001b[0;34m(objs, axis, join, join_axes, ignore_index, keys, levels, names, verify_integrity, copy)\u001b[0m\n\u001b[1;32m    832\u001b[0m                        \u001b[0mkeys\u001b[0m\u001b[0;34m=\u001b[0m\u001b[0mkeys\u001b[0m\u001b[0;34m,\u001b[0m \u001b[0mlevels\u001b[0m\u001b[0;34m=\u001b[0m\u001b[0mlevels\u001b[0m\u001b[0;34m,\u001b[0m \u001b[0mnames\u001b[0m\u001b[0;34m=\u001b[0m\u001b[0mnames\u001b[0m\u001b[0;34m,\u001b[0m\u001b[0;34m\u001b[0m\u001b[0m\n\u001b[1;32m    833\u001b[0m                        \u001b[0mverify_integrity\u001b[0m\u001b[0;34m=\u001b[0m\u001b[0mverify_integrity\u001b[0m\u001b[0;34m,\u001b[0m\u001b[0;34m\u001b[0m\u001b[0m\n\u001b[0;32m--> 834\u001b[0;31m                        copy=copy)\n\u001b[0m\u001b[1;32m    835\u001b[0m     \u001b[0;32mreturn\u001b[0m \u001b[0mop\u001b[0m\u001b[0;34m.\u001b[0m\u001b[0mget_result\u001b[0m\u001b[0;34m(\u001b[0m\u001b[0;34m)\u001b[0m\u001b[0;34m\u001b[0m\u001b[0m\n\u001b[1;32m    836\u001b[0m \u001b[0;34m\u001b[0m\u001b[0m\n",
      "\u001b[0;32m/Users/yawen/anaconda2/lib/python2.7/site-packages/pandas/tools/merge.pyc\u001b[0m in \u001b[0;36m__init__\u001b[0;34m(self, objs, axis, join, join_axes, keys, levels, names, ignore_index, verify_integrity, copy)\u001b[0m\n\u001b[1;32m    865\u001b[0m \u001b[0;34m\u001b[0m\u001b[0m\n\u001b[1;32m    866\u001b[0m         \u001b[0;32mif\u001b[0m \u001b[0mlen\u001b[0m\u001b[0;34m(\u001b[0m\u001b[0mobjs\u001b[0m\u001b[0;34m)\u001b[0m \u001b[0;34m==\u001b[0m \u001b[0;36m0\u001b[0m\u001b[0;34m:\u001b[0m\u001b[0;34m\u001b[0m\u001b[0m\n\u001b[0;32m--> 867\u001b[0;31m             \u001b[0;32mraise\u001b[0m \u001b[0mValueError\u001b[0m\u001b[0;34m(\u001b[0m\u001b[0;34m'No objects to concatenate'\u001b[0m\u001b[0;34m)\u001b[0m\u001b[0;34m\u001b[0m\u001b[0m\n\u001b[0m\u001b[1;32m    868\u001b[0m \u001b[0;34m\u001b[0m\u001b[0m\n\u001b[1;32m    869\u001b[0m         \u001b[0;32mif\u001b[0m \u001b[0mkeys\u001b[0m \u001b[0;32mis\u001b[0m \u001b[0mNone\u001b[0m\u001b[0;34m:\u001b[0m\u001b[0;34m\u001b[0m\u001b[0m\n",
      "\u001b[0;31mValueError\u001b[0m: No objects to concatenate"
     ]
    }
   ],
   "source": [
    "stationary_compare_dists = pd.concat(map(lambda row: pd.concat([row['ios_compare'].compare_distance, row['android_compare'].compare_distance]),\n",
    "                                  filter(lambda row: row['state'] == 'stationary', result_list)))"
   ]
  },
  {
   "cell_type": "code",
   "execution_count": 114,
   "metadata": {
    "collapsed": false
   },
   "outputs": [
    {
     "ename": "NameError",
     "evalue": "name 'stationary_compare_dists' is not defined",
     "output_type": "error",
     "traceback": [
      "\u001b[0;31m---------------------------------------------------------------------------\u001b[0m",
      "\u001b[0;31mNameError\u001b[0m                                 Traceback (most recent call last)",
      "\u001b[0;32m<ipython-input-114-0f1db9c6e52e>\u001b[0m in \u001b[0;36m<module>\u001b[0;34m()\u001b[0m\n\u001b[0;32m----> 1\u001b[0;31m \u001b[0mexp_smaller_plots\u001b[0m\u001b[0;34m(\u001b[0m\u001b[0mstationary_compare_dists\u001b[0m\u001b[0;34m,\u001b[0m \u001b[0;34m\"stationary only\"\u001b[0m\u001b[0;34m)\u001b[0m\u001b[0;34m\u001b[0m\u001b[0m\n\u001b[0m",
      "\u001b[0;31mNameError\u001b[0m: name 'stationary_compare_dists' is not defined"
     ]
    }
   ],
   "source": [
    "exp_smaller_plots(stationary_compare_dists, \"stationary only\")"
   ]
  },
  {
   "cell_type": "code",
   "execution_count": 115,
   "metadata": {
    "collapsed": false
   },
   "outputs": [],
   "source": [
    "loitering_compare_dists = pd.concat(map(lambda row: pd.concat([row['ios_compare'].compare_distance, row['android_compare'].compare_distance]),\n",
    "                                  filter(lambda row: row['state'] == 'loitering', result_list)))"
   ]
  },
  {
   "cell_type": "code",
   "execution_count": 116,
   "metadata": {
    "collapsed": false
   },
   "outputs": [
    {
     "data": {
      "image/png": "[encoded data removed]",
      "text/plain": [
       "<matplotlib.figure.Figure at 0x128098a50>"
      ]
     },
     "metadata": {},
     "output_type": "display_data"
    },
    {
     "data": {
      "image/png": "[encoded data removed]",
      "text/plain": [
       "<matplotlib.figure.Figure at 0x1281bce90>"
      ]
     },
     "metadata": {},
     "output_type": "display_data"
    },
    {
     "data": {
      "image/png": "[encoded data removed]",
      "text/plain": [
       "<matplotlib.figure.Figure at 0x128a73c10>"
      ]
     },
     "metadata": {},
     "output_type": "display_data"
    },
    {
     "data": {
      "image/png": "[encoded data removed]",
      "text/plain": [
       "<matplotlib.figure.Figure at 0x128af4850>"
      ]
     },
     "metadata": {},
     "output_type": "display_data"
    },
    {
     "data": {
      "image/png": "[encoded data removed]",
      "text/plain": [
       "<matplotlib.figure.Figure at 0x12be65350>"
      ]
     },
     "metadata": {},
     "output_type": "display_data"
    },
    {
     "data": {
      "image/png": "[encoded data removed]",
      "text/plain": [
       "<matplotlib.figure.Figure at 0x12f6f9990>"
      ]
     },
     "metadata": {},
     "output_type": "display_data"
    },
    {
     "data": {
      "image/png": "[encoded data removed]",
      "text/plain": [
       "<matplotlib.figure.Figure at 0x12bf26350>"
      ]
     },
     "metadata": {},
     "output_type": "display_data"
    },
    {
     "data": {
      "image/png": "[encoded data removed]",
      "text/plain": [
       "<matplotlib.figure.Figure at 0x12cb96a90>"
      ]
     },
     "metadata": {},
     "output_type": "display_data"
    }
   ],
   "source": [
    "exp_smaller_plots(loitering_compare_dists, \"loitering only\")"
   ]
  },
  {
   "cell_type": "code",
   "execution_count": 117,
   "metadata": {
    "collapsed": false
   },
   "outputs": [],
   "source": [
    "import emission.analysis.intake.cleaning.cleaning_methods.speed_outlier_detection as eaics"
   ]
  },
  {
   "cell_type": "code",
   "execution_count": 118,
   "metadata": {
    "collapsed": false
   },
   "outputs": [],
   "source": [
    "#return outlier threshold: Q3+3*iqr\n",
    "def get_major_threshold(value_series):\n",
    "    quartile_vals = value_series.quantile([0.25, 0.75])\n",
    "    logging.debug(\"quartile values are %s\" % quartile_vals)\n",
    "    iqr = quartile_vals.iloc[1] - quartile_vals.iloc[0]\n",
    "    logging.debug(\"iqr %s\" % iqr) #inter-quartile-range\n",
    "    return quartile_vals.iloc[1] + 3 * iqr"
   ]
  },
  {
   "cell_type": "code",
   "execution_count": 119,
   "metadata": {
    "collapsed": false
   },
   "outputs": [
    {
     "ename": "NameError",
     "evalue": "name 'stationary_compare_dists' is not defined",
     "output_type": "error",
     "traceback": [
      "\u001b[0;31m---------------------------------------------------------------------------\u001b[0m",
      "\u001b[0;31mNameError\u001b[0m                                 Traceback (most recent call last)",
      "\u001b[0;32m<ipython-input-119-c3bb22b82ade>\u001b[0m in \u001b[0;36m<module>\u001b[0;34m()\u001b[0m\n\u001b[1;32m      1\u001b[0m \u001b[0moutliers\u001b[0m \u001b[0;34m=\u001b[0m \u001b[0;34m{\u001b[0m\u001b[0;34m}\u001b[0m\u001b[0;34m\u001b[0m\u001b[0m\n\u001b[1;32m      2\u001b[0m \u001b[0moutliers\u001b[0m\u001b[0;34m[\u001b[0m\u001b[0;34m\"moving\"\u001b[0m\u001b[0;34m]\u001b[0m \u001b[0;34m=\u001b[0m \u001b[0mget_major_threshold\u001b[0m\u001b[0;34m(\u001b[0m\u001b[0mmoving_compare_dists\u001b[0m\u001b[0;34m)\u001b[0m\u001b[0;34m\u001b[0m\u001b[0m\n\u001b[0;32m----> 3\u001b[0;31m \u001b[0moutliers\u001b[0m\u001b[0;34m[\u001b[0m\u001b[0;34m\"stationary\"\u001b[0m\u001b[0;34m]\u001b[0m \u001b[0;34m=\u001b[0m \u001b[0mget_major_threshold\u001b[0m\u001b[0;34m(\u001b[0m\u001b[0mstationary_compare_dists\u001b[0m\u001b[0;34m)\u001b[0m\u001b[0;34m\u001b[0m\u001b[0m\n\u001b[0m\u001b[1;32m      4\u001b[0m \u001b[0moutliers\u001b[0m\u001b[0;34m[\u001b[0m\u001b[0;34m\"loitering\"\u001b[0m\u001b[0;34m]\u001b[0m \u001b[0;34m=\u001b[0m \u001b[0mget_major_threshold\u001b[0m\u001b[0;34m(\u001b[0m\u001b[0mloitering_compare_dists\u001b[0m\u001b[0;34m)\u001b[0m\u001b[0;34m\u001b[0m\u001b[0m\n",
      "\u001b[0;31mNameError\u001b[0m: name 'stationary_compare_dists' is not defined"
     ]
    }
   ],
   "source": [
    "outliers = {}\n",
    "outliers[\"moving\"] = get_major_threshold(moving_compare_dists)\n",
    "outliers[\"stationary\"] = get_major_threshold(stationary_compare_dists)\n",
    "outliers[\"loitering\"] = get_major_threshold(loitering_compare_dists)"
   ]
  },
  {
   "cell_type": "code",
   "execution_count": 120,
   "metadata": {
    "collapsed": false
   },
   "outputs": [],
   "source": [
    "def get_accuracy(regime, phone):\n",
    "    if regime == \"high+1sec\":\n",
    "        return \"high\"\n",
    "    elif regime == \"best+1m\":\n",
    "        return \"best\"\n",
    "    elif regime == \"high-v-balanced+1sec-v-30sec\":\n",
    "        if phone == 1:\n",
    "            return \"balanced\"\n",
    "        elif phone == 2:\n",
    "            return \"high\"\n",
    "        elif phone == 3:\n",
    "            return \"balanced\"\n",
    "    elif regime == \"best-v-10m+1m-v-30m\":\n",
    "        if phone == 1:\n",
    "            return \"10m\"\n",
    "        elif phone == 2:\n",
    "            return \"best\"\n",
    "        elif phone == 3:\n",
    "            return \"10m\"\n",
    "    elif regime == \"high-v-balanced+1sec-v-15sec\":\n",
    "        if phone == 1:\n",
    "            return \"balanced\"\n",
    "        elif phone == 2:\n",
    "            return \"high\"\n",
    "        elif phone == 3:\n",
    "            return \"balanced\"\n",
    "    elif regime == \"best-v-100m+1m-v-30m\":\n",
    "        if phone == 1:\n",
    "            return \"100m\"\n",
    "        elif phone == 2:\n",
    "            return \"best\"\n",
    "        elif phone == 3:\n",
    "            return \"100m\"    \n",
    "    return \"unknown\""
   ]
  },
  {
   "cell_type": "code",
   "execution_count": 121,
   "metadata": {
    "collapsed": false
   },
   "outputs": [
    {
     "data": {
      "text/plain": [
       "{'moving': 42.249854509242745}"
      ]
     },
     "execution_count": 121,
     "metadata": {},
     "output_type": "execute_result"
    }
   ],
   "source": [
    "outliers"
   ]
  },
  {
   "cell_type": "code",
   "execution_count": 122,
   "metadata": {
    "collapsed": false
   },
   "outputs": [],
   "source": [
    "#creating a \"dict\" = moving_accuracy_distance_series\n",
    "# with keys = [\"high\", \"balanced\", \"best\", \"10m\", \"100m\"]\n",
    "moving_accuracy_distance_series = {}\n",
    "for acc in [\"high\", \"balanced\", \"best\", \"10m\", \"100m\"]:\n",
    "    moving_accuracy_distance_series[acc] =[]\n",
    "    \n",
    "stationary_accuracy_distance_series = {}\n",
    "for acc in [\"high\", \"balanced\", \"best\", \"10m\", \"100m\"]:\n",
    "    stationary_accuracy_distance_series[acc] =[]\n",
    "\n",
    "loitering_accuracy_distance_series = {}\n",
    "for acc in [\"high\", \"balanced\", \"best\", \"10m\", \"100m\"]:\n",
    "    loitering_accuracy_distance_series[acc] =[]"
   ]
  },
  {
   "cell_type": "code",
   "execution_count": 123,
   "metadata": {
    "collapsed": false
   },
   "outputs": [],
   "source": [
    "#result_list: list of dicts\n",
    "for entry in result_list:\n",
    "    if entry['state'] == 'moving':\n",
    "        moving_accuracy_distance_series[get_accuracy(entry['ios_regime'], entry['phone'])].append(entry['ios_compare'].compare_distance)\n",
    "        moving_accuracy_distance_series[get_accuracy(entry['android_regime'], entry['phone'])].append(entry['android_compare'].compare_distance)\n",
    "    elif entry['state'] == 'stationary':\n",
    "        stationary_accuracy_distance_series[get_accuracy(entry['ios_regime'], entry['phone'])].append(entry['ios_compare'].compare_distance)\n",
    "        stationary_accuracy_distance_series[get_accuracy(entry['android_regime'], entry['phone'])].append(entry['android_compare'].compare_distance)\n",
    "    elif entry['state'] == 'loitering':\n",
    "        loitering_accuracy_distance_series[get_accuracy(entry['ios_regime'], entry['phone'])].append(entry['ios_compare'].compare_distance)\n",
    "        loitering_accuracy_distance_series[get_accuracy(entry['android_regime'], entry['phone'])].append(entry['android_compare'].compare_distance)        "
   ]
  },
  {
   "cell_type": "code",
   "execution_count": 124,
   "metadata": {
    "collapsed": false
   },
   "outputs": [],
   "source": [
    "def compareState(accuracy_distance_series):\n",
    "    nOutliers = {}\n",
    "    outlierPct = {}\n",
    "    nonOutlierMean = {}\n",
    "    nonOutlierMedian = {}\n",
    "    for accuracy in moving_accuracy_distance_series:\n",
    "        curr_accuracy_list = accuracy_distance_series[accuracy]\n",
    "        curr_accuracy_merged = pd.concat(curr_accuracy_list)\n",
    "        curr_non_outliers_merged = curr_accuracy_merged[curr_accuracy_merged < outliers['moving']]\n",
    "        nOutliers[accuracy] = np.count_nonzero(curr_accuracy_merged > outliers['moving'])\n",
    "        outlierPct[accuracy] = float(nOutliers[accuracy] * 100) / len(curr_accuracy_merged)\n",
    "        nonOutlierMean[accuracy] = curr_non_outliers_merged.mean()\n",
    "        nonOutlierMedian[accuracy] = curr_non_outliers_merged.median()\n",
    "    return pd.DataFrame(data={\"outlierPct\": outlierPct, \"nonOutlierMean\": nonOutlierMean, \"nonOutlierMedian\": nonOutlierMedian})"
   ]
  },
  {
   "cell_type": "code",
   "execution_count": 125,
   "metadata": {
    "collapsed": false
   },
   "outputs": [
    {
     "ename": "ValueError",
     "evalue": "No objects to concatenate",
     "output_type": "error",
     "traceback": [
      "\u001b[0;31m---------------------------------------------------------------------------\u001b[0m",
      "\u001b[0;31mValueError\u001b[0m                                Traceback (most recent call last)",
      "\u001b[0;32m<ipython-input-125-8b93068c150f>\u001b[0m in \u001b[0;36m<module>\u001b[0;34m()\u001b[0m\n\u001b[0;32m----> 1\u001b[0;31m \u001b[0mmoving_accuracy_results\u001b[0m \u001b[0;34m=\u001b[0m \u001b[0mcompareState\u001b[0m\u001b[0;34m(\u001b[0m\u001b[0mmoving_accuracy_distance_series\u001b[0m\u001b[0;34m)\u001b[0m\u001b[0;34m\u001b[0m\u001b[0m\n\u001b[0m\u001b[1;32m      2\u001b[0m \u001b[0mstationary_accuracy_results\u001b[0m \u001b[0;34m=\u001b[0m \u001b[0mcompareState\u001b[0m\u001b[0;34m(\u001b[0m\u001b[0mstationary_accuracy_distance_series\u001b[0m\u001b[0;34m)\u001b[0m\u001b[0;34m\u001b[0m\u001b[0m\n\u001b[1;32m      3\u001b[0m \u001b[0mloitering_accuracy_results\u001b[0m \u001b[0;34m=\u001b[0m \u001b[0mcompareState\u001b[0m\u001b[0;34m(\u001b[0m\u001b[0mloitering_accuracy_distance_series\u001b[0m\u001b[0;34m)\u001b[0m\u001b[0;34m\u001b[0m\u001b[0m\n",
      "\u001b[0;32m<ipython-input-124-1d747332f1c3>\u001b[0m in \u001b[0;36mcompareState\u001b[0;34m(accuracy_distance_series)\u001b[0m\n\u001b[1;32m      6\u001b[0m     \u001b[0;32mfor\u001b[0m \u001b[0maccuracy\u001b[0m \u001b[0;32min\u001b[0m \u001b[0mmoving_accuracy_distance_series\u001b[0m\u001b[0;34m:\u001b[0m\u001b[0;34m\u001b[0m\u001b[0m\n\u001b[1;32m      7\u001b[0m         \u001b[0mcurr_accuracy_list\u001b[0m \u001b[0;34m=\u001b[0m \u001b[0maccuracy_distance_series\u001b[0m\u001b[0;34m[\u001b[0m\u001b[0maccuracy\u001b[0m\u001b[0;34m]\u001b[0m\u001b[0;34m\u001b[0m\u001b[0m\n\u001b[0;32m----> 8\u001b[0;31m         \u001b[0mcurr_accuracy_merged\u001b[0m \u001b[0;34m=\u001b[0m \u001b[0mpd\u001b[0m\u001b[0;34m.\u001b[0m\u001b[0mconcat\u001b[0m\u001b[0;34m(\u001b[0m\u001b[0mcurr_accuracy_list\u001b[0m\u001b[0;34m)\u001b[0m\u001b[0;34m\u001b[0m\u001b[0m\n\u001b[0m\u001b[1;32m      9\u001b[0m         \u001b[0mcurr_non_outliers_merged\u001b[0m \u001b[0;34m=\u001b[0m \u001b[0mcurr_accuracy_merged\u001b[0m\u001b[0;34m[\u001b[0m\u001b[0mcurr_accuracy_merged\u001b[0m \u001b[0;34m<\u001b[0m \u001b[0moutliers\u001b[0m\u001b[0;34m[\u001b[0m\u001b[0;34m'moving'\u001b[0m\u001b[0;34m]\u001b[0m\u001b[0;34m]\u001b[0m\u001b[0;34m\u001b[0m\u001b[0m\n\u001b[1;32m     10\u001b[0m         \u001b[0mnOutliers\u001b[0m\u001b[0;34m[\u001b[0m\u001b[0maccuracy\u001b[0m\u001b[0;34m]\u001b[0m \u001b[0;34m=\u001b[0m \u001b[0mnp\u001b[0m\u001b[0;34m.\u001b[0m\u001b[0mcount_nonzero\u001b[0m\u001b[0;34m(\u001b[0m\u001b[0mcurr_accuracy_merged\u001b[0m \u001b[0;34m>\u001b[0m \u001b[0moutliers\u001b[0m\u001b[0;34m[\u001b[0m\u001b[0;34m'moving'\u001b[0m\u001b[0;34m]\u001b[0m\u001b[0;34m)\u001b[0m\u001b[0;34m\u001b[0m\u001b[0m\n",
      "\u001b[0;32m/Users/yawen/anaconda2/lib/python2.7/site-packages/pandas/tools/merge.pyc\u001b[0m in \u001b[0;36mconcat\u001b[0;34m(objs, axis, join, join_axes, ignore_index, keys, levels, names, verify_integrity, copy)\u001b[0m\n\u001b[1;32m    832\u001b[0m                        \u001b[0mkeys\u001b[0m\u001b[0;34m=\u001b[0m\u001b[0mkeys\u001b[0m\u001b[0;34m,\u001b[0m \u001b[0mlevels\u001b[0m\u001b[0;34m=\u001b[0m\u001b[0mlevels\u001b[0m\u001b[0;34m,\u001b[0m \u001b[0mnames\u001b[0m\u001b[0;34m=\u001b[0m\u001b[0mnames\u001b[0m\u001b[0;34m,\u001b[0m\u001b[0;34m\u001b[0m\u001b[0m\n\u001b[1;32m    833\u001b[0m                        \u001b[0mverify_integrity\u001b[0m\u001b[0;34m=\u001b[0m\u001b[0mverify_integrity\u001b[0m\u001b[0;34m,\u001b[0m\u001b[0;34m\u001b[0m\u001b[0m\n\u001b[0;32m--> 834\u001b[0;31m                        copy=copy)\n\u001b[0m\u001b[1;32m    835\u001b[0m     \u001b[0;32mreturn\u001b[0m \u001b[0mop\u001b[0m\u001b[0;34m.\u001b[0m\u001b[0mget_result\u001b[0m\u001b[0;34m(\u001b[0m\u001b[0;34m)\u001b[0m\u001b[0;34m\u001b[0m\u001b[0m\n\u001b[1;32m    836\u001b[0m \u001b[0;34m\u001b[0m\u001b[0m\n",
      "\u001b[0;32m/Users/yawen/anaconda2/lib/python2.7/site-packages/pandas/tools/merge.pyc\u001b[0m in \u001b[0;36m__init__\u001b[0;34m(self, objs, axis, join, join_axes, keys, levels, names, ignore_index, verify_integrity, copy)\u001b[0m\n\u001b[1;32m    865\u001b[0m \u001b[0;34m\u001b[0m\u001b[0m\n\u001b[1;32m    866\u001b[0m         \u001b[0;32mif\u001b[0m \u001b[0mlen\u001b[0m\u001b[0;34m(\u001b[0m\u001b[0mobjs\u001b[0m\u001b[0;34m)\u001b[0m \u001b[0;34m==\u001b[0m \u001b[0;36m0\u001b[0m\u001b[0;34m:\u001b[0m\u001b[0;34m\u001b[0m\u001b[0m\n\u001b[0;32m--> 867\u001b[0;31m             \u001b[0;32mraise\u001b[0m \u001b[0mValueError\u001b[0m\u001b[0;34m(\u001b[0m\u001b[0;34m'No objects to concatenate'\u001b[0m\u001b[0;34m)\u001b[0m\u001b[0;34m\u001b[0m\u001b[0m\n\u001b[0m\u001b[1;32m    868\u001b[0m \u001b[0;34m\u001b[0m\u001b[0m\n\u001b[1;32m    869\u001b[0m         \u001b[0;32mif\u001b[0m \u001b[0mkeys\u001b[0m \u001b[0;32mis\u001b[0m \u001b[0mNone\u001b[0m\u001b[0;34m:\u001b[0m\u001b[0;34m\u001b[0m\u001b[0m\n",
      "\u001b[0;31mValueError\u001b[0m: No objects to concatenate"
     ]
    }
   ],
   "source": [
    "moving_accuracy_results = compareState(moving_accuracy_distance_series)\n",
    "stationary_accuracy_results = compareState(stationary_accuracy_distance_series)\n",
    "loitering_accuracy_results = compareState(loitering_accuracy_distance_series)"
   ]
  },
  {
   "cell_type": "code",
   "execution_count": 126,
   "metadata": {
    "collapsed": false
   },
   "outputs": [
    {
     "ename": "NameError",
     "evalue": "name 'moving_accuracy_results' is not defined",
     "output_type": "error",
     "traceback": [
      "\u001b[0;31m---------------------------------------------------------------------------\u001b[0m",
      "\u001b[0;31mNameError\u001b[0m                                 Traceback (most recent call last)",
      "\u001b[0;32m<ipython-input-126-8c60a7b069c1>\u001b[0m in \u001b[0;36m<module>\u001b[0;34m()\u001b[0m\n\u001b[1;32m      1\u001b[0m \u001b[0;34m(\u001b[0m\u001b[0mfig\u001b[0m\u001b[0;34m,\u001b[0m \u001b[0maxes\u001b[0m\u001b[0;34m)\u001b[0m \u001b[0;34m=\u001b[0m \u001b[0mplt\u001b[0m\u001b[0;34m.\u001b[0m\u001b[0msubplots\u001b[0m\u001b[0;34m(\u001b[0m\u001b[0mnrows\u001b[0m\u001b[0;34m=\u001b[0m\u001b[0;36m1\u001b[0m\u001b[0;34m,\u001b[0m \u001b[0mncols\u001b[0m\u001b[0;34m=\u001b[0m\u001b[0;36m3\u001b[0m\u001b[0;34m,\u001b[0m \u001b[0mfigsize\u001b[0m\u001b[0;34m=\u001b[0m\u001b[0;34m(\u001b[0m\u001b[0;36m16\u001b[0m\u001b[0;34m,\u001b[0m\u001b[0;36m5\u001b[0m\u001b[0;34m)\u001b[0m\u001b[0;34m,\u001b[0m \u001b[0msharey\u001b[0m\u001b[0;34m=\u001b[0m\u001b[0mTrue\u001b[0m\u001b[0;34m)\u001b[0m\u001b[0;34m\u001b[0m\u001b[0m\n\u001b[0;32m----> 2\u001b[0;31m \u001b[0mmoving_accuracy_results\u001b[0m\u001b[0;34m.\u001b[0m\u001b[0mplot\u001b[0m\u001b[0;34m(\u001b[0m\u001b[0mkind\u001b[0m\u001b[0;34m=\u001b[0m\u001b[0;34m'bar'\u001b[0m\u001b[0;34m,\u001b[0m \u001b[0max\u001b[0m\u001b[0;34m=\u001b[0m\u001b[0maxes\u001b[0m\u001b[0;34m[\u001b[0m\u001b[0;36m0\u001b[0m\u001b[0;34m]\u001b[0m\u001b[0;34m,\u001b[0m \u001b[0mtitle\u001b[0m\u001b[0;34m=\u001b[0m\u001b[0;34m\"moving\"\u001b[0m\u001b[0;34m)\u001b[0m\u001b[0;34m\u001b[0m\u001b[0m\n\u001b[0m\u001b[1;32m      3\u001b[0m \u001b[0mstationary_accuracy_results\u001b[0m\u001b[0;34m.\u001b[0m\u001b[0mplot\u001b[0m\u001b[0;34m(\u001b[0m\u001b[0mkind\u001b[0m\u001b[0;34m=\u001b[0m\u001b[0;34m'bar'\u001b[0m\u001b[0;34m,\u001b[0m \u001b[0max\u001b[0m\u001b[0;34m=\u001b[0m\u001b[0maxes\u001b[0m\u001b[0;34m[\u001b[0m\u001b[0;36m1\u001b[0m\u001b[0;34m]\u001b[0m\u001b[0;34m,\u001b[0m \u001b[0mtitle\u001b[0m\u001b[0;34m=\u001b[0m\u001b[0;34m\"stationary\"\u001b[0m\u001b[0;34m)\u001b[0m\u001b[0;34m\u001b[0m\u001b[0m\n\u001b[1;32m      4\u001b[0m \u001b[0mloitering_accuracy_results\u001b[0m\u001b[0;34m.\u001b[0m\u001b[0mplot\u001b[0m\u001b[0;34m(\u001b[0m\u001b[0mkind\u001b[0m\u001b[0;34m=\u001b[0m\u001b[0;34m'bar'\u001b[0m\u001b[0;34m,\u001b[0m \u001b[0max\u001b[0m\u001b[0;34m=\u001b[0m\u001b[0maxes\u001b[0m\u001b[0;34m[\u001b[0m\u001b[0;36m2\u001b[0m\u001b[0;34m]\u001b[0m\u001b[0;34m,\u001b[0m \u001b[0mtitle\u001b[0m\u001b[0;34m=\u001b[0m\u001b[0;34m\"loitering\"\u001b[0m\u001b[0;34m)\u001b[0m\u001b[0;34m\u001b[0m\u001b[0m\n",
      "\u001b[0;31mNameError\u001b[0m: name 'moving_accuracy_results' is not defined"
     ]
    },
    {
     "data": {
      "image/png": "[encoded data removed]",
      "text/plain": [
       "<matplotlib.figure.Figure at 0x12cb2dfd0>"
      ]
     },
     "metadata": {},
     "output_type": "display_data"
    }
   ],
   "source": [
    "(fig, axes) = plt.subplots(nrows=1, ncols=3, figsize=(16,5), sharey=True)\n",
    "moving_accuracy_results.plot(kind='bar', ax=axes[0], title=\"moving\")\n",
    "stationary_accuracy_results.plot(kind='bar', ax=axes[1], title=\"stationary\")\n",
    "loitering_accuracy_results.plot(kind='bar', ax=axes[2], title=\"loitering\")"
   ]
  },
  {
   "cell_type": "code",
   "execution_count": 127,
   "metadata": {
    "collapsed": false
   },
   "outputs": [],
   "source": [
    "all_threshold = get_major_threshold(all_compare_dists)"
   ]
  },
  {
   "cell_type": "code",
   "execution_count": 128,
   "metadata": {
    "collapsed": false
   },
   "outputs": [
    {
     "data": {
      "text/plain": [
       "60.566564246021144"
      ]
     },
     "execution_count": 128,
     "metadata": {},
     "output_type": "execute_result"
    }
   ],
   "source": [
    "all_threshold"
   ]
  },
  {
   "cell_type": "code",
   "execution_count": null,
   "metadata": {
    "collapsed": false
   },
   "outputs": [],
   "source": [
    "all_accuracy_distance_series = {}\n",
    "for acc in [\"high\", \"balanced\", \"best\", \"10m\", \"100m\"]:\n",
    "    all_accuracy_distance_series[acc] =[]"
   ]
  },
  {
   "cell_type": "code",
   "execution_count": null,
   "metadata": {
    "collapsed": false
   },
   "outputs": [],
   "source": [
    "for entry in result_list:\n",
    "    all_accuracy_distance_series[get_accuracy(entry['ios_regime'], entry['phone'])].append(entry['ios_compare'].compare_distance)\n",
    "    all_accuracy_distance_series[get_accuracy(entry['android_regime'], entry['phone'])].append(entry['android_compare'].compare_distance)"
   ]
  },
  {
   "cell_type": "code",
   "execution_count": 103,
   "metadata": {
    "collapsed": false
   },
   "outputs": [
    {
     "ename": "NameError",
     "evalue": "name 'compareState' is not defined",
     "output_type": "error",
     "traceback": [
      "\u001b[0;31m---------------------------------------------------------------------------\u001b[0m",
      "\u001b[0;31mNameError\u001b[0m                                 Traceback (most recent call last)",
      "\u001b[0;32m<ipython-input-103-b87b99b0d709>\u001b[0m in \u001b[0;36m<module>\u001b[0;34m()\u001b[0m\n\u001b[0;32m----> 1\u001b[0;31m \u001b[0mall_accuracy_results\u001b[0m \u001b[0;34m=\u001b[0m \u001b[0mcompareState\u001b[0m\u001b[0;34m(\u001b[0m\u001b[0mall_accuracy_distance_series\u001b[0m\u001b[0;34m)\u001b[0m\u001b[0;34m\u001b[0m\u001b[0m\n\u001b[0m",
      "\u001b[0;31mNameError\u001b[0m: name 'compareState' is not defined"
     ]
    }
   ],
   "source": [
    "all_accuracy_results = compareState(all_accuracy_distance_series)"
   ]
  },
  {
   "cell_type": "code",
   "execution_count": 104,
   "metadata": {
    "collapsed": false
   },
   "outputs": [
    {
     "ename": "NameError",
     "evalue": "name 'all_accuracy_results' is not defined",
     "output_type": "error",
     "traceback": [
      "\u001b[0;31m---------------------------------------------------------------------------\u001b[0m",
      "\u001b[0;31mNameError\u001b[0m                                 Traceback (most recent call last)",
      "\u001b[0;32m<ipython-input-104-e0de6f65354f>\u001b[0m in \u001b[0;36m<module>\u001b[0;34m()\u001b[0m\n\u001b[0;32m----> 1\u001b[0;31m \u001b[0mall_accuracy_results\u001b[0m\u001b[0;34m.\u001b[0m\u001b[0mplot\u001b[0m\u001b[0;34m(\u001b[0m\u001b[0mkind\u001b[0m\u001b[0;34m=\u001b[0m\u001b[0;34m'bar'\u001b[0m\u001b[0;34m,\u001b[0m \u001b[0mtitle\u001b[0m\u001b[0;34m=\u001b[0m\u001b[0;34m\"all data\"\u001b[0m\u001b[0;34m)\u001b[0m\u001b[0;34m\u001b[0m\u001b[0m\n\u001b[0m",
      "\u001b[0;31mNameError\u001b[0m: name 'all_accuracy_results' is not defined"
     ]
    }
   ],
   "source": [
    "all_accuracy_results.plot(kind='bar', title=\"all data\")"
   ]
  },
  {
   "cell_type": "code",
   "execution_count": 105,
   "metadata": {
    "collapsed": false
   },
   "outputs": [],
   "source": [
    "def get_accuracy(regime, phone):\n",
    "    if regime == \"high+1sec\":\n",
    "        return \"high-1\"\n",
    "    elif regime == \"best+1m\":\n",
    "        return \"best\"\n",
    "    elif regime == \"high-v-balanced+1sec-v-30sec\":\n",
    "        if phone == 1:\n",
    "            return \"balanced-1\"\n",
    "        elif phone == 2:\n",
    "            return \"high-30\"\n",
    "        elif phone == 3:\n",
    "            return \"balanced-30\"\n",
    "    elif regime == \"best-v-10m+1m-v-30m\":\n",
    "        if phone == 1:\n",
    "            return \"10m\"\n",
    "        elif phone == 2:\n",
    "            return \"best\"\n",
    "        elif phone == 3:\n",
    "            return \"10m\"\n",
    "    elif regime == \"high-v-balanced+1sec-v-15sec\":\n",
    "        if phone == 1:\n",
    "            return \"balanced-1\"\n",
    "        elif phone == 2:\n",
    "            return \"high-15\"\n",
    "        elif phone == 3:\n",
    "            return \"balanced-15\"\n",
    "    elif regime == \"best-v-100m+1m-v-30m\":\n",
    "        if phone == 1:\n",
    "            return \"100m\"\n",
    "        elif phone == 2:\n",
    "            return \"best\"\n",
    "        elif phone == 3:\n",
    "            return \"100m\"    \n",
    "    return \"unknown\""
   ]
  },
  {
   "cell_type": "code",
   "execution_count": 106,
   "metadata": {
    "collapsed": false
   },
   "outputs": [],
   "source": [
    "moving_accuracy_distance_series = {}\n",
    "for acc in [\"high-1\", \"balanced-1\", \"high-15\", \"balanced-15\", \"high-30\", \"balanced-30\", \"best\", \"10m\", \"100m\"]:\n",
    "    moving_accuracy_distance_series[acc] =[]\n",
    "    \n",
    "stationary_accuracy_distance_series = {}\n",
    "for acc in [\"high-1\", \"balanced-1\", \"high-15\", \"balanced-15\", \"high-30\", \"balanced-30\",  \"best\", \"10m\", \"100m\"]:\n",
    "    stationary_accuracy_distance_series[acc] =[]\n",
    "\n",
    "loitering_accuracy_distance_series = {}\n",
    "for acc in [\"high-1\", \"balanced-1\", \"high-15\", \"balanced-15\", \"high-30\", \"balanced-30\", \"best\", \"10m\", \"100m\"]:\n",
    "    loitering_accuracy_distance_series[acc] =[]\n",
    "    \n",
    "all_accuracy_distance_series = {}\n",
    "for acc in [\"high-1\", \"balanced-1\", \"high-15\", \"balanced-15\", \"high-30\", \"balanced-30\",  \"best\", \"10m\", \"100m\"]:\n",
    "    all_accuracy_distance_series[acc] =[]"
   ]
  },
  {
   "cell_type": "code",
   "execution_count": 107,
   "metadata": {
    "collapsed": false
   },
   "outputs": [],
   "source": [
    "for entry in result_list:\n",
    "    # print \"For entry %s %s %s accuracies are %s and %s\" % (entry['ios_regime'], entry['android_regime'], entry['phone'],\n",
    "    #                                                  get_accuracy(entry['ios_regime'], entry['phone']), get_accuracy(entry['android_regime'], entry['phone']))\n",
    "    all_accuracy_distance_series[get_accuracy(entry['ios_regime'], entry['phone'])].append(entry['ios_compare'].compare_distance)\n",
    "    all_accuracy_distance_series[get_accuracy(entry['android_regime'], entry['phone'])].append(entry['android_compare'].compare_distance)"
   ]
  },
  {
   "cell_type": "code",
   "execution_count": 108,
   "metadata": {
    "collapsed": false
   },
   "outputs": [
    {
     "name": "stdout",
     "output_type": "stream",
     "text": [
      "['100m', 'high-1', '10m', 'balanced-1', 'high-30', 'balanced-15', 'high-15', 'balanced-30', 'best']\n",
      "[0, 0, 15, 9, 7, 0, 0, 6, 7]\n"
     ]
    }
   ],
   "source": [
    "print all_accuracy_distance_series.keys()\n",
    "print map(lambda key: len(all_accuracy_distance_series[key]), all_accuracy_distance_series.keys())"
   ]
  },
  {
   "cell_type": "code",
   "execution_count": 109,
   "metadata": {
    "collapsed": false
   },
   "outputs": [
    {
     "ename": "NameError",
     "evalue": "name 'compareState' is not defined",
     "output_type": "error",
     "traceback": [
      "\u001b[0;31m---------------------------------------------------------------------------\u001b[0m",
      "\u001b[0;31mNameError\u001b[0m                                 Traceback (most recent call last)",
      "\u001b[0;32m<ipython-input-109-b87b99b0d709>\u001b[0m in \u001b[0;36m<module>\u001b[0;34m()\u001b[0m\n\u001b[0;32m----> 1\u001b[0;31m \u001b[0mall_accuracy_results\u001b[0m \u001b[0;34m=\u001b[0m \u001b[0mcompareState\u001b[0m\u001b[0;34m(\u001b[0m\u001b[0mall_accuracy_distance_series\u001b[0m\u001b[0;34m)\u001b[0m\u001b[0;34m\u001b[0m\u001b[0m\n\u001b[0m",
      "\u001b[0;31mNameError\u001b[0m: name 'compareState' is not defined"
     ]
    }
   ],
   "source": [
    "all_accuracy_results = compareState(all_accuracy_distance_series)"
   ]
  },
  {
   "cell_type": "code",
   "execution_count": 110,
   "metadata": {
    "collapsed": false
   },
   "outputs": [
    {
     "data": {
      "text/plain": [
       "0"
      ]
     },
     "execution_count": 110,
     "metadata": {},
     "output_type": "execute_result"
    }
   ],
   "source": [
    "len(all_accuracy_distance_series['high-15'])"
   ]
  },
  {
   "cell_type": "code",
   "execution_count": 111,
   "metadata": {
    "collapsed": false
   },
   "outputs": [
    {
     "ename": "NameError",
     "evalue": "name 'all_accuracy_results' is not defined",
     "output_type": "error",
     "traceback": [
      "\u001b[0;31m---------------------------------------------------------------------------\u001b[0m",
      "\u001b[0;31mNameError\u001b[0m                                 Traceback (most recent call last)",
      "\u001b[0;32m<ipython-input-111-e0de6f65354f>\u001b[0m in \u001b[0;36m<module>\u001b[0;34m()\u001b[0m\n\u001b[0;32m----> 1\u001b[0;31m \u001b[0mall_accuracy_results\u001b[0m\u001b[0;34m.\u001b[0m\u001b[0mplot\u001b[0m\u001b[0;34m(\u001b[0m\u001b[0mkind\u001b[0m\u001b[0;34m=\u001b[0m\u001b[0;34m'bar'\u001b[0m\u001b[0;34m,\u001b[0m \u001b[0mtitle\u001b[0m\u001b[0;34m=\u001b[0m\u001b[0;34m\"all data\"\u001b[0m\u001b[0;34m)\u001b[0m\u001b[0;34m\u001b[0m\u001b[0m\n\u001b[0m",
      "\u001b[0;31mNameError\u001b[0m: name 'all_accuracy_results' is not defined"
     ]
    }
   ],
   "source": [
    "all_accuracy_results.plot(kind='bar', title=\"all data\")"
   ]
  },
  {
   "cell_type": "code",
   "execution_count": 112,
   "metadata": {
    "collapsed": false
   },
   "outputs": [
    {
     "ename": "NameError",
     "evalue": "name 'all_accuracy_results' is not defined",
     "output_type": "error",
     "traceback": [
      "\u001b[0;31m---------------------------------------------------------------------------\u001b[0m",
      "\u001b[0;31mNameError\u001b[0m                                 Traceback (most recent call last)",
      "\u001b[0;32m<ipython-input-112-bc84073189b3>\u001b[0m in \u001b[0;36m<module>\u001b[0;34m()\u001b[0m\n\u001b[0;32m----> 1\u001b[0;31m \u001b[0mall_accuracy_results\u001b[0m\u001b[0;34m.\u001b[0m\u001b[0mto_csv\u001b[0m\u001b[0;34m(\u001b[0m\u001b[0mopen\u001b[0m\u001b[0;34m(\u001b[0m\u001b[0;34m\"/tmp/accuracy_results.csv\"\u001b[0m\u001b[0;34m,\u001b[0m \u001b[0;34m\"w\"\u001b[0m\u001b[0;34m)\u001b[0m\u001b[0;34m)\u001b[0m\u001b[0;34m\u001b[0m\u001b[0m\n\u001b[0m",
      "\u001b[0;31mNameError\u001b[0m: name 'all_accuracy_results' is not defined"
     ]
    }
   ],
   "source": [
    "all_accuracy_results.to_csv(open(\"/tmp/accuracy_results.csv\", \"w\"))"
   ]
  },
  {
   "cell_type": "code",
   "execution_count": null,
   "metadata": {
    "collapsed": false
   },
   "outputs": [],
   "source": []
  },
  {
   "cell_type": "code",
   "execution_count": null,
   "metadata": {
    "collapsed": true
   },
   "outputs": [],
   "source": []
  }
 ],
 "metadata": {
  "kernelspec": {
   "display_name": "Python 2",
   "language": "python",
   "name": "python2"
  },
  "language_info": {
   "codemirror_mode": {
    "name": "ipython",
    "version": 2
   },
   "file_extension": ".py",
   "mimetype": "text/x-python",
   "name": "python",
   "nbconvert_exporter": "python",
   "pygments_lexer": "ipython2",
   "version": "2.7.11"
  }
 },
 "nbformat": 4,
 "nbformat_minor": 0
}
