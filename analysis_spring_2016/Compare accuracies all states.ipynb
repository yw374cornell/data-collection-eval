{
 "cells": [
  {
   "cell_type": "code",
   "execution_count": 1,
   "metadata": {
    "collapsed": false
   },
   "outputs": [
    {
     "name": "stderr",
     "output_type": "stream",
     "text": [
      "DEBUG:root:['', '/Users/shankari/OSS/anaconda/lib/python2.7/site-packages/pygmaps-0.1.1-py2.7.egg', '/Users/shankari/e-mission/e-mission-server', '/Users/shankari/e-mission/data-collection-eval/analysis_spring_2016', '/Users/shankari/OSS/anaconda/python.app/Contents/lib/python27.zip', '/Users/shankari/OSS/anaconda/python.app/Contents/lib/python2.7', '/Users/shankari/OSS/anaconda/python.app/Contents/lib/python2.7/plat-darwin', '/Users/shankari/OSS/anaconda/python.app/Contents/lib/python2.7/plat-mac', '/Users/shankari/OSS/anaconda/python.app/Contents/lib/python2.7/plat-mac/lib-scriptpackages', '/Users/shankari/OSS/anaconda/python.app/Contents/lib/python2.7/lib-tk', '/Users/shankari/OSS/anaconda/python.app/Contents/lib/python2.7/lib-old', '/Users/shankari/OSS/anaconda/python.app/Contents/lib/python2.7/lib-dynload', '/Users/shankari/OSS/anaconda/lib/python2.7/site-packages/runipy-0.1.0-py2.7.egg', '/Users/shankari/OSS/anaconda/lib/python2.7/site-packages', '/Users/shankari/OSS/anaconda/lib/python2.7/site-packages/PIL', '/Users/shankari/OSS/anaconda/lib/python2.7/site-packages/setuptools-20.6.7-py2.7.egg', '/Users/shankari/OSS/anaconda/lib/python2.7/site-packages/IPython/extensions']\n"
     ]
    }
   ],
   "source": [
    "import sys\n",
    "import logging\n",
    "from uuid import UUID\n",
    "\n",
    "import emission.core.get_database as edb\n",
    "import pandas as pd\n",
    "import matplotlib.pyplot as plt\n",
    "%matplotlib inline\n",
    "import datetime as pydt\n",
    "import emission.storage.timeseries.abstract_timeseries as esta\n",
    "import emission.net.usercache.abstract_usercache as enua\n",
    "import numpy as np\n",
    "\n",
    "logging.getLogger().setLevel(logging.DEBUG)\n",
    "logging.debug(sys.path)\n",
    "\n",
    "iphone_ids = [UUID(\"079e0f1a-c440-3d7c-b0e7-de160f748e35\"), UUID(\"c76a0487-7e5a-3b17-a449-47be666b36f6\"), \n",
    "              UUID(\"c528bcd2-a88b-3e82-be62-ef4f2396967a\"), UUID(\"95e70727-a04e-3e33-b7fe-34ab19194f8b\")]\n",
    "android_ids = [UUID(\"e471711e-bd14-3dbe-80b6-9c7d92ecc296\"), UUID(\"fd7b4c2e-2c8b-3bfa-94f0-d1e3ecbd5fb7\"),\n",
    "               UUID(\"86842c35-da28-32ed-a90e-2da6663c5c73\"), UUID(\"3bc0f91f-7660-34a2-b005-5c399598a369\")]"
   ]
  },
  {
   "cell_type": "code",
   "execution_count": 2,
   "metadata": {
    "collapsed": false
   },
   "outputs": [
    {
     "data": {
      "text/plain": [
       "[]"
      ]
     },
     "execution_count": 2,
     "metadata": {},
     "output_type": "execute_result"
    }
   ],
   "source": [
    "list(edb.get_timeseries_db().find({\"metadata.key\": \"config/sensor_config\", \"data.battery_status\": {\"$exists\": True}}).sort(\"metadata.write_ts\").limit(10))"
   ]
  },
  {
   "cell_type": "code",
   "execution_count": 3,
   "metadata": {
    "collapsed": false
   },
   "outputs": [],
   "source": [
    "iphone_ts = map(lambda u: esta.TimeSeries.get_time_series(u), iphone_ids)\n",
    "android_ts = map(lambda u: esta.TimeSeries.get_time_series(u), android_ids)"
   ]
  },
  {
   "cell_type": "code",
   "execution_count": 4,
   "metadata": {
    "collapsed": false
   },
   "outputs": [],
   "source": [
    "ranges_df = pd.read_csv(\"../results_spring_2016/ranges.csv\")"
   ]
  },
  {
   "cell_type": "code",
   "execution_count": 5,
   "metadata": {
    "collapsed": false
   },
   "outputs": [
    {
     "data": {
      "text/html": [
       "<div style=\"max-width:1500px;overflow:auto;\">\n",
       "<table border=\"1\" class=\"dataframe\">\n",
       "  <thead>\n",
       "    <tr style=\"text-align: right;\">\n",
       "      <th></th>\n",
       "      <th>start_ts</th>\n",
       "      <th>start_fmt_time</th>\n",
       "      <th>end_ts</th>\n",
       "      <th>end_fmt_time</th>\n",
       "      <th>state</th>\n",
       "      <th>android_regime</th>\n",
       "      <th>ios_regime</th>\n",
       "    </tr>\n",
       "  </thead>\n",
       "  <tbody>\n",
       "    <tr>\n",
       "      <th>0</th>\n",
       "      <td>1.459279e+09</td>\n",
       "      <td>2016-03-29T12:17:14.700000-07:00</td>\n",
       "      <td>1.459288e+09</td>\n",
       "      <td>2016-03-29T14:46:54.916000-07:00</td>\n",
       "      <td>moving</td>\n",
       "      <td>high+1sec</td>\n",
       "      <td>best+1m</td>\n",
       "    </tr>\n",
       "    <tr>\n",
       "      <th>1</th>\n",
       "      <td>1.459288e+09</td>\n",
       "      <td>2016-03-29T14:46:54.916000-07:00</td>\n",
       "      <td>1.459301e+09</td>\n",
       "      <td>2016-03-29T18:30:30.685000-07:00</td>\n",
       "      <td>loitering</td>\n",
       "      <td>high+1sec</td>\n",
       "      <td>best+1m</td>\n",
       "    </tr>\n",
       "    <tr>\n",
       "      <th>2</th>\n",
       "      <td>1.459301e+09</td>\n",
       "      <td>2016-03-29T18:30:54.916000-07:00</td>\n",
       "      <td>1.459302e+09</td>\n",
       "      <td>2016-03-29T18:42:30.685000-07:00</td>\n",
       "      <td>moving</td>\n",
       "      <td>high+1sec</td>\n",
       "      <td>best+1m</td>\n",
       "    </tr>\n",
       "    <tr>\n",
       "      <th>3</th>\n",
       "      <td>1.459302e+09</td>\n",
       "      <td>2016-03-29T18:42:30.685000-07:00</td>\n",
       "      <td>1.459311e+09</td>\n",
       "      <td>2016-03-29T21:06:30.275000-07:00</td>\n",
       "      <td>moving</td>\n",
       "      <td>high+1sec</td>\n",
       "      <td>best+1m</td>\n",
       "    </tr>\n",
       "    <tr>\n",
       "      <th>4</th>\n",
       "      <td>1.459311e+09</td>\n",
       "      <td>2016-03-29T21:06:30.275000-07:00</td>\n",
       "      <td>1.459343e+09</td>\n",
       "      <td>2016-03-30T06:00:09.654643-07:00</td>\n",
       "      <td>stationary</td>\n",
       "      <td>high+1sec</td>\n",
       "      <td>best+1m</td>\n",
       "    </tr>\n",
       "    <tr>\n",
       "      <th>5</th>\n",
       "      <td>1.459343e+09</td>\n",
       "      <td>2016-03-30T06:00:09.654643-07:00</td>\n",
       "      <td>1.459354e+09</td>\n",
       "      <td>2016-03-30T09:00:13.859000-07:00</td>\n",
       "      <td>charging-or-full</td>\n",
       "      <td>high+1sec</td>\n",
       "      <td>best+1m</td>\n",
       "    </tr>\n",
       "    <tr>\n",
       "      <th>6</th>\n",
       "      <td>1.459354e+09</td>\n",
       "      <td>2016-03-30T09:00:13.859000-07:00</td>\n",
       "      <td>1.459372e+09</td>\n",
       "      <td>2016-03-30T14:01:58.965395-07:00</td>\n",
       "      <td>charging-or-full</td>\n",
       "      <td>high-v-balanced+1sec-v-30sec</td>\n",
       "      <td>best-v-10m+1m-v-30m</td>\n",
       "    </tr>\n",
       "    <tr>\n",
       "      <th>7</th>\n",
       "      <td>1.459372e+09</td>\n",
       "      <td>2016-03-30T14:01:58.965395-07:00</td>\n",
       "      <td>1.459372e+09</td>\n",
       "      <td>2016-03-30T14:13:55.019000-07:00</td>\n",
       "      <td>loitering</td>\n",
       "      <td>high-v-balanced+1sec-v-30sec</td>\n",
       "      <td>best-v-10m+1m-v-30m</td>\n",
       "    </tr>\n",
       "    <tr>\n",
       "      <th>8</th>\n",
       "      <td>1.459372e+09</td>\n",
       "      <td>2016-03-30T14:13:55.019000-07:00</td>\n",
       "      <td>1.459373e+09</td>\n",
       "      <td>2016-03-30T14:24:42.464000-07:00</td>\n",
       "      <td>moving</td>\n",
       "      <td>high-v-balanced+1sec-v-30sec</td>\n",
       "      <td>best-v-10m+1m-v-30m</td>\n",
       "    </tr>\n",
       "    <tr>\n",
       "      <th>9</th>\n",
       "      <td>1.459373e+09</td>\n",
       "      <td>2016-03-30T14:24:42.464000-07:00</td>\n",
       "      <td>1.459376e+09</td>\n",
       "      <td>2016-03-30T15:21:27.670000-07:00</td>\n",
       "      <td>loitering</td>\n",
       "      <td>high-v-balanced+1sec-v-30sec</td>\n",
       "      <td>best-v-10m+1m-v-30m</td>\n",
       "    </tr>\n",
       "    <tr>\n",
       "      <th>10</th>\n",
       "      <td>1.459376e+09</td>\n",
       "      <td>2016-03-30T15:21:27.670000-07:00</td>\n",
       "      <td>1.459377e+09</td>\n",
       "      <td>2016-03-30T15:33:41.654000-07:00</td>\n",
       "      <td>moving</td>\n",
       "      <td>high-v-balanced+1sec-v-30sec</td>\n",
       "      <td>best-v-10m+1m-v-30m</td>\n",
       "    </tr>\n",
       "    <tr>\n",
       "      <th>11</th>\n",
       "      <td>1.459377e+09</td>\n",
       "      <td>2016-03-30T15:33:41.654000-07:00</td>\n",
       "      <td>1.459380e+09</td>\n",
       "      <td>2016-03-30T16:19:58.943000-07:00</td>\n",
       "      <td>loitering</td>\n",
       "      <td>high-v-balanced+1sec-v-30sec</td>\n",
       "      <td>best-v-10m+1m-v-30m</td>\n",
       "    </tr>\n",
       "    <tr>\n",
       "      <th>12</th>\n",
       "      <td>1.459380e+09</td>\n",
       "      <td>2016-03-30T16:19:58.943000-07:00</td>\n",
       "      <td>1.459381e+09</td>\n",
       "      <td>2016-03-30T16:37:41.978000-07:00</td>\n",
       "      <td>moving</td>\n",
       "      <td>high-v-balanced+1sec-v-30sec</td>\n",
       "      <td>best-v-10m+1m-v-30m</td>\n",
       "    </tr>\n",
       "    <tr>\n",
       "      <th>13</th>\n",
       "      <td>1.459381e+09</td>\n",
       "      <td>2016-03-30T16:37:41.978000-07:00</td>\n",
       "      <td>1.459386e+09</td>\n",
       "      <td>2016-03-30T17:57:23.050000-07:00</td>\n",
       "      <td>loitering</td>\n",
       "      <td>high-v-balanced+1sec-v-30sec</td>\n",
       "      <td>best-v-10m+1m-v-30m</td>\n",
       "    </tr>\n",
       "    <tr>\n",
       "      <th>14</th>\n",
       "      <td>1.459386e+09</td>\n",
       "      <td>2016-03-30T17:57:23.050000-07:00</td>\n",
       "      <td>1.459387e+09</td>\n",
       "      <td>2016-03-30T18:23:40.680000-07:00</td>\n",
       "      <td>moving</td>\n",
       "      <td>high-v-balanced+1sec-v-30sec</td>\n",
       "      <td>best-v-10m+1m-v-30m</td>\n",
       "    </tr>\n",
       "    <tr>\n",
       "      <th>15</th>\n",
       "      <td>1.459387e+09</td>\n",
       "      <td>2016-03-30T18:23:40.680000-07:00</td>\n",
       "      <td>1.459403e+09</td>\n",
       "      <td>2016-03-30T22:48:17.862000-07:00</td>\n",
       "      <td>loitering</td>\n",
       "      <td>high-v-balanced+1sec-v-30sec</td>\n",
       "      <td>best-v-10m+1m-v-30m</td>\n",
       "    </tr>\n",
       "    <tr>\n",
       "      <th>16</th>\n",
       "      <td>1.459403e+09</td>\n",
       "      <td>2016-03-30T22:48:17.862000-07:00</td>\n",
       "      <td>1.459404e+09</td>\n",
       "      <td>2016-03-30T22:57:33.392000-07:00</td>\n",
       "      <td>moving</td>\n",
       "      <td>high-v-balanced+1sec-v-30sec</td>\n",
       "      <td>best-v-10m+1m-v-30m</td>\n",
       "    </tr>\n",
       "    <tr>\n",
       "      <th>17</th>\n",
       "      <td>1.459404e+09</td>\n",
       "      <td>2016-03-30T22:57:33.392000-07:00</td>\n",
       "      <td>1.459411e+09</td>\n",
       "      <td>2016-03-31T01:00:10.330742-07:00</td>\n",
       "      <td>stationary</td>\n",
       "      <td>high-v-balanced+1sec-v-30sec</td>\n",
       "      <td>best-v-10m+1m-v-30m</td>\n",
       "    </tr>\n",
       "    <tr>\n",
       "      <th>18</th>\n",
       "      <td>1.459411e+09</td>\n",
       "      <td>2016-03-31T01:00:10.330742-07:00</td>\n",
       "      <td>1.459440e+09</td>\n",
       "      <td>2016-03-31T09:00:25.839312-07:00</td>\n",
       "      <td>charging-or-full</td>\n",
       "      <td>high-v-balanced+1sec-v-30sec</td>\n",
       "      <td>best-v-10m+1m-v-30m</td>\n",
       "    </tr>\n",
       "    <tr>\n",
       "      <th>19</th>\n",
       "      <td>1.459440e+09</td>\n",
       "      <td>2016-03-31T09:00:25.839312-07:00</td>\n",
       "      <td>1.459448e+09</td>\n",
       "      <td>2016-03-31T11:14:15.125000-07:00</td>\n",
       "      <td>loitering</td>\n",
       "      <td>high-v-balanced+1sec-v-30sec</td>\n",
       "      <td>best-v-10m+1m-v-30m</td>\n",
       "    </tr>\n",
       "    <tr>\n",
       "      <th>20</th>\n",
       "      <td>1.459448e+09</td>\n",
       "      <td>2016-03-31T11:14:15.125000-07:00</td>\n",
       "      <td>1.459456e+09</td>\n",
       "      <td>2016-03-31T13:32:48.010000-07:00</td>\n",
       "      <td>moving</td>\n",
       "      <td>high-v-balanced+1sec-v-30sec</td>\n",
       "      <td>best-v-10m+1m-v-30m</td>\n",
       "    </tr>\n",
       "    <tr>\n",
       "      <th>21</th>\n",
       "      <td>1.459456e+09</td>\n",
       "      <td>2016-03-31T13:32:48.010000-07:00</td>\n",
       "      <td>1.459471e+09</td>\n",
       "      <td>2016-03-31T17:44:00.045000-07:00</td>\n",
       "      <td>loitering</td>\n",
       "      <td>high-v-balanced+1sec-v-30sec</td>\n",
       "      <td>best-v-10m+1m-v-30m</td>\n",
       "    </tr>\n",
       "    <tr>\n",
       "      <th>22</th>\n",
       "      <td>1.459471e+09</td>\n",
       "      <td>2016-03-31T17:44:00.045000-07:00</td>\n",
       "      <td>1.459479e+09</td>\n",
       "      <td>2016-03-31T19:57:44.073000-07:00</td>\n",
       "      <td>moving</td>\n",
       "      <td>high-v-balanced+1sec-v-30sec</td>\n",
       "      <td>best-v-10m+1m-v-30m</td>\n",
       "    </tr>\n",
       "    <tr>\n",
       "      <th>23</th>\n",
       "      <td>1.459479e+09</td>\n",
       "      <td>2016-03-31T19:57:44.073000-07:00</td>\n",
       "      <td>1.459483e+09</td>\n",
       "      <td>2016-03-31T21:00:37.643000-07:00</td>\n",
       "      <td>stationary</td>\n",
       "      <td>high-v-balanced+1sec-v-30sec</td>\n",
       "      <td>best-v-10m+1m-v-30m</td>\n",
       "    </tr>\n",
       "    <tr>\n",
       "      <th>24</th>\n",
       "      <td>1.459483e+09</td>\n",
       "      <td>2016-03-31T21:00:37.643000-07:00</td>\n",
       "      <td>1.459487e+09</td>\n",
       "      <td>2016-03-31T22:00:37.643000-07:00</td>\n",
       "      <td>invalid</td>\n",
       "      <td>high-v-balanced+1sec-v-30sec</td>\n",
       "      <td>best-v-10m+1m-v-30m</td>\n",
       "    </tr>\n",
       "    <tr>\n",
       "      <th>25</th>\n",
       "      <td>1.459487e+09</td>\n",
       "      <td>2016-03-31T22:00:37.643000-07:00</td>\n",
       "      <td>1.459530e+09</td>\n",
       "      <td>2016-04-01T10:05:28.890454-07:00</td>\n",
       "      <td>charging-or-full</td>\n",
       "      <td>high-v-balanced+1sec-v-30sec</td>\n",
       "      <td>best-v-10m+1m-v-30m</td>\n",
       "    </tr>\n",
       "    <tr>\n",
       "      <th>26</th>\n",
       "      <td>1.459530e+09</td>\n",
       "      <td>2016-04-01T10:05:28.890454-07:00</td>\n",
       "      <td>1.459535e+09</td>\n",
       "      <td>2016-04-01T11:19:33.655000-07:00</td>\n",
       "      <td>stationary</td>\n",
       "      <td>high-v-balanced+1sec-v-15sec</td>\n",
       "      <td>best-v-100m+1m-v-30m</td>\n",
       "    </tr>\n",
       "    <tr>\n",
       "      <th>27</th>\n",
       "      <td>1.459535e+09</td>\n",
       "      <td>2016-04-01T11:19:33.655000-07:00</td>\n",
       "      <td>1.459543e+09</td>\n",
       "      <td>2016-04-01T13:31:02.998000-07:00</td>\n",
       "      <td>moving</td>\n",
       "      <td>high-v-balanced+1sec-v-15sec</td>\n",
       "      <td>best-v-100m+1m-v-30m</td>\n",
       "    </tr>\n",
       "    <tr>\n",
       "      <th>28</th>\n",
       "      <td>1.459542e+09</td>\n",
       "      <td>2016-04-01T13:14:35.602000-07:00</td>\n",
       "      <td>1.459558e+09</td>\n",
       "      <td>2016-04-01T17:48:05.806000-07:00</td>\n",
       "      <td>loitering</td>\n",
       "      <td>high-v-balanced+1sec-v-15sec</td>\n",
       "      <td>best-v-100m+1m-v-30m</td>\n",
       "    </tr>\n",
       "    <tr>\n",
       "      <th>29</th>\n",
       "      <td>1.459558e+09</td>\n",
       "      <td>2016-04-01T17:48:05.806000-07:00</td>\n",
       "      <td>1.459565e+09</td>\n",
       "      <td>2016-04-01T19:49:57.554000-07:00</td>\n",
       "      <td>moving</td>\n",
       "      <td>high-v-balanced+1sec-v-15sec</td>\n",
       "      <td>best-v-100m+1m-v-30m</td>\n",
       "    </tr>\n",
       "    <tr>\n",
       "      <th>30</th>\n",
       "      <td>1.459565e+09</td>\n",
       "      <td>2016-04-01T19:49:57.554000-07:00</td>\n",
       "      <td>1.459591e+09</td>\n",
       "      <td>2016-04-02T02:57:37.753000-07:00</td>\n",
       "      <td>stationary</td>\n",
       "      <td>high-v-balanced+1sec-v-15sec</td>\n",
       "      <td>best-v-100m+1m-v-30m</td>\n",
       "    </tr>\n",
       "    <tr>\n",
       "      <th>31</th>\n",
       "      <td>1.459591e+09</td>\n",
       "      <td>2016-04-02T02:57:37.753000-07:00</td>\n",
       "      <td>1.459609e+09</td>\n",
       "      <td>2016-04-02T07:57:37.753000-07:00</td>\n",
       "      <td>invalid</td>\n",
       "      <td>high-v-balanced+1sec-v-15sec</td>\n",
       "      <td>best-v-100m+1m-v-30m</td>\n",
       "    </tr>\n",
       "    <tr>\n",
       "      <th>32</th>\n",
       "      <td>1.459609e+09</td>\n",
       "      <td>2016-04-02T07:57:37.753000-07:00</td>\n",
       "      <td>1.459644e+09</td>\n",
       "      <td>2016-04-02T17:47:43.791000-07:00</td>\n",
       "      <td>charging</td>\n",
       "      <td>tracking-off</td>\n",
       "      <td>tracking-off</td>\n",
       "    </tr>\n",
       "    <tr>\n",
       "      <th>33</th>\n",
       "      <td>1.459644e+09</td>\n",
       "      <td>2016-04-02T17:47:43.791000-07:00</td>\n",
       "      <td>1.459721e+09</td>\n",
       "      <td>2016-04-03T15:00:35.358757-07:00</td>\n",
       "      <td>stationary</td>\n",
       "      <td>tracking-off</td>\n",
       "      <td>tracking-off</td>\n",
       "    </tr>\n",
       "    <tr>\n",
       "      <th>34</th>\n",
       "      <td>1.459721e+09</td>\n",
       "      <td>2016-04-03T15:00:35.358757-07:00</td>\n",
       "      <td>1.459729e+09</td>\n",
       "      <td>2016-04-03T17:18:29.931541-07:00</td>\n",
       "      <td>charging</td>\n",
       "      <td>tracking-off</td>\n",
       "      <td>tracking-off</td>\n",
       "    </tr>\n",
       "    <tr>\n",
       "      <th>35</th>\n",
       "      <td>1.459729e+09</td>\n",
       "      <td>2016-04-03T17:18:29.931541-07:00</td>\n",
       "      <td>1.459789e+09</td>\n",
       "      <td>2016-04-04T10:02:13.321972-07:00</td>\n",
       "      <td>stationary</td>\n",
       "      <td>high-v-balanced+1sec-v-15sec</td>\n",
       "      <td>best-v-100m+1m-v-30m</td>\n",
       "    </tr>\n",
       "    <tr>\n",
       "      <th>36</th>\n",
       "      <td>1.459789e+09</td>\n",
       "      <td>2016-04-04T10:02:13.321972-07:00</td>\n",
       "      <td>1.459800e+09</td>\n",
       "      <td>2016-04-04T12:59:12.753874-07:00</td>\n",
       "      <td>charging</td>\n",
       "      <td>tracking-off</td>\n",
       "      <td>tracking-off</td>\n",
       "    </tr>\n",
       "    <tr>\n",
       "      <th>37</th>\n",
       "      <td>1.459800e+09</td>\n",
       "      <td>2016-04-04T12:59:12.753874-07:00</td>\n",
       "      <td>1.459833e+09</td>\n",
       "      <td>2016-04-04T22:05:02.444129</td>\n",
       "      <td>loitering</td>\n",
       "      <td>high+1sec</td>\n",
       "      <td>best+1m</td>\n",
       "    </tr>\n",
       "    <tr>\n",
       "      <th>38</th>\n",
       "      <td>1.459833e+09</td>\n",
       "      <td>2016-04-04T22:05:02.444129</td>\n",
       "      <td>1.459866e+09</td>\n",
       "      <td>2016-04-05T07:20:38.395970-07:00</td>\n",
       "      <td>charging</td>\n",
       "      <td>tracking-off</td>\n",
       "      <td>tracking-off</td>\n",
       "    </tr>\n",
       "    <tr>\n",
       "      <th>39</th>\n",
       "      <td>1.459866e+09</td>\n",
       "      <td>2016-04-05T07:20:38.395970-07:00</td>\n",
       "      <td>1.459868e+09</td>\n",
       "      <td>2016-04-05T07:50:37.141000-07:00</td>\n",
       "      <td>stationary</td>\n",
       "      <td>high-v-balanced+1sec-v-30sec</td>\n",
       "      <td>best-v-10m+1m-v-30m</td>\n",
       "    </tr>\n",
       "    <tr>\n",
       "      <th>40</th>\n",
       "      <td>1.459868e+09</td>\n",
       "      <td>2016-04-05T07:50:37.141000-07:00</td>\n",
       "      <td>1.459875e+09</td>\n",
       "      <td>2016-04-05T09:48:39.276000-07:00</td>\n",
       "      <td>moving</td>\n",
       "      <td>high-v-balanced+1sec-v-30sec</td>\n",
       "      <td>best-v-10m+1m-v-30m</td>\n",
       "    </tr>\n",
       "    <tr>\n",
       "      <th>41</th>\n",
       "      <td>1.459875e+09</td>\n",
       "      <td>2016-04-05T09:48:39.276000-07:00</td>\n",
       "      <td>1.459900e+09</td>\n",
       "      <td>2016-04-05T16:50:31.349801-07:00</td>\n",
       "      <td>loitering</td>\n",
       "      <td>high-v-balanced+1sec-v-30sec</td>\n",
       "      <td>best-v-10m+1m-v-30m</td>\n",
       "    </tr>\n",
       "    <tr>\n",
       "      <th>42</th>\n",
       "      <td>1.459900e+09</td>\n",
       "      <td>2016-04-05T16:50:31.349801-07:00</td>\n",
       "      <td>1.459901e+09</td>\n",
       "      <td>2016-04-05T17:05:31.349801-07:00</td>\n",
       "      <td>invalid</td>\n",
       "      <td>high-v-balanced+1sec-v-15sec</td>\n",
       "      <td>best-v-100m+1m-v-30m</td>\n",
       "    </tr>\n",
       "  </tbody>\n",
       "</table>\n",
       "</div>"
      ],
      "text/plain": [
       "        start_ts                    start_fmt_time        end_ts  \\\n",
       "0   1.459279e+09  2016-03-29T12:17:14.700000-07:00  1.459288e+09   \n",
       "1   1.459288e+09  2016-03-29T14:46:54.916000-07:00  1.459301e+09   \n",
       "2   1.459301e+09  2016-03-29T18:30:54.916000-07:00  1.459302e+09   \n",
       "3   1.459302e+09  2016-03-29T18:42:30.685000-07:00  1.459311e+09   \n",
       "4   1.459311e+09  2016-03-29T21:06:30.275000-07:00  1.459343e+09   \n",
       "5   1.459343e+09  2016-03-30T06:00:09.654643-07:00  1.459354e+09   \n",
       "6   1.459354e+09  2016-03-30T09:00:13.859000-07:00  1.459372e+09   \n",
       "7   1.459372e+09  2016-03-30T14:01:58.965395-07:00  1.459372e+09   \n",
       "8   1.459372e+09  2016-03-30T14:13:55.019000-07:00  1.459373e+09   \n",
       "9   1.459373e+09  2016-03-30T14:24:42.464000-07:00  1.459376e+09   \n",
       "10  1.459376e+09  2016-03-30T15:21:27.670000-07:00  1.459377e+09   \n",
       "11  1.459377e+09  2016-03-30T15:33:41.654000-07:00  1.459380e+09   \n",
       "12  1.459380e+09  2016-03-30T16:19:58.943000-07:00  1.459381e+09   \n",
       "13  1.459381e+09  2016-03-30T16:37:41.978000-07:00  1.459386e+09   \n",
       "14  1.459386e+09  2016-03-30T17:57:23.050000-07:00  1.459387e+09   \n",
       "15  1.459387e+09  2016-03-30T18:23:40.680000-07:00  1.459403e+09   \n",
       "16  1.459403e+09  2016-03-30T22:48:17.862000-07:00  1.459404e+09   \n",
       "17  1.459404e+09  2016-03-30T22:57:33.392000-07:00  1.459411e+09   \n",
       "18  1.459411e+09  2016-03-31T01:00:10.330742-07:00  1.459440e+09   \n",
       "19  1.459440e+09  2016-03-31T09:00:25.839312-07:00  1.459448e+09   \n",
       "20  1.459448e+09  2016-03-31T11:14:15.125000-07:00  1.459456e+09   \n",
       "21  1.459456e+09  2016-03-31T13:32:48.010000-07:00  1.459471e+09   \n",
       "22  1.459471e+09  2016-03-31T17:44:00.045000-07:00  1.459479e+09   \n",
       "23  1.459479e+09  2016-03-31T19:57:44.073000-07:00  1.459483e+09   \n",
       "24  1.459483e+09  2016-03-31T21:00:37.643000-07:00  1.459487e+09   \n",
       "25  1.459487e+09  2016-03-31T22:00:37.643000-07:00  1.459530e+09   \n",
       "26  1.459530e+09  2016-04-01T10:05:28.890454-07:00  1.459535e+09   \n",
       "27  1.459535e+09  2016-04-01T11:19:33.655000-07:00  1.459543e+09   \n",
       "28  1.459542e+09  2016-04-01T13:14:35.602000-07:00  1.459558e+09   \n",
       "29  1.459558e+09  2016-04-01T17:48:05.806000-07:00  1.459565e+09   \n",
       "30  1.459565e+09  2016-04-01T19:49:57.554000-07:00  1.459591e+09   \n",
       "31  1.459591e+09  2016-04-02T02:57:37.753000-07:00  1.459609e+09   \n",
       "32  1.459609e+09  2016-04-02T07:57:37.753000-07:00  1.459644e+09   \n",
       "33  1.459644e+09  2016-04-02T17:47:43.791000-07:00  1.459721e+09   \n",
       "34  1.459721e+09  2016-04-03T15:00:35.358757-07:00  1.459729e+09   \n",
       "35  1.459729e+09  2016-04-03T17:18:29.931541-07:00  1.459789e+09   \n",
       "36  1.459789e+09  2016-04-04T10:02:13.321972-07:00  1.459800e+09   \n",
       "37  1.459800e+09  2016-04-04T12:59:12.753874-07:00  1.459833e+09   \n",
       "38  1.459833e+09        2016-04-04T22:05:02.444129  1.459866e+09   \n",
       "39  1.459866e+09  2016-04-05T07:20:38.395970-07:00  1.459868e+09   \n",
       "40  1.459868e+09  2016-04-05T07:50:37.141000-07:00  1.459875e+09   \n",
       "41  1.459875e+09  2016-04-05T09:48:39.276000-07:00  1.459900e+09   \n",
       "42  1.459900e+09  2016-04-05T16:50:31.349801-07:00  1.459901e+09   \n",
       "\n",
       "                        end_fmt_time             state  \\\n",
       "0   2016-03-29T14:46:54.916000-07:00            moving   \n",
       "1   2016-03-29T18:30:30.685000-07:00         loitering   \n",
       "2   2016-03-29T18:42:30.685000-07:00            moving   \n",
       "3   2016-03-29T21:06:30.275000-07:00            moving   \n",
       "4   2016-03-30T06:00:09.654643-07:00        stationary   \n",
       "5   2016-03-30T09:00:13.859000-07:00  charging-or-full   \n",
       "6   2016-03-30T14:01:58.965395-07:00  charging-or-full   \n",
       "7   2016-03-30T14:13:55.019000-07:00         loitering   \n",
       "8   2016-03-30T14:24:42.464000-07:00            moving   \n",
       "9   2016-03-30T15:21:27.670000-07:00         loitering   \n",
       "10  2016-03-30T15:33:41.654000-07:00            moving   \n",
       "11  2016-03-30T16:19:58.943000-07:00         loitering   \n",
       "12  2016-03-30T16:37:41.978000-07:00            moving   \n",
       "13  2016-03-30T17:57:23.050000-07:00         loitering   \n",
       "14  2016-03-30T18:23:40.680000-07:00            moving   \n",
       "15  2016-03-30T22:48:17.862000-07:00         loitering   \n",
       "16  2016-03-30T22:57:33.392000-07:00            moving   \n",
       "17  2016-03-31T01:00:10.330742-07:00        stationary   \n",
       "18  2016-03-31T09:00:25.839312-07:00  charging-or-full   \n",
       "19  2016-03-31T11:14:15.125000-07:00         loitering   \n",
       "20  2016-03-31T13:32:48.010000-07:00            moving   \n",
       "21  2016-03-31T17:44:00.045000-07:00         loitering   \n",
       "22  2016-03-31T19:57:44.073000-07:00            moving   \n",
       "23  2016-03-31T21:00:37.643000-07:00        stationary   \n",
       "24  2016-03-31T22:00:37.643000-07:00           invalid   \n",
       "25  2016-04-01T10:05:28.890454-07:00  charging-or-full   \n",
       "26  2016-04-01T11:19:33.655000-07:00        stationary   \n",
       "27  2016-04-01T13:31:02.998000-07:00            moving   \n",
       "28  2016-04-01T17:48:05.806000-07:00         loitering   \n",
       "29  2016-04-01T19:49:57.554000-07:00            moving   \n",
       "30  2016-04-02T02:57:37.753000-07:00        stationary   \n",
       "31  2016-04-02T07:57:37.753000-07:00           invalid   \n",
       "32  2016-04-02T17:47:43.791000-07:00          charging   \n",
       "33  2016-04-03T15:00:35.358757-07:00        stationary   \n",
       "34  2016-04-03T17:18:29.931541-07:00          charging   \n",
       "35  2016-04-04T10:02:13.321972-07:00        stationary   \n",
       "36  2016-04-04T12:59:12.753874-07:00          charging   \n",
       "37        2016-04-04T22:05:02.444129         loitering   \n",
       "38  2016-04-05T07:20:38.395970-07:00          charging   \n",
       "39  2016-04-05T07:50:37.141000-07:00        stationary   \n",
       "40  2016-04-05T09:48:39.276000-07:00            moving   \n",
       "41  2016-04-05T16:50:31.349801-07:00         loitering   \n",
       "42  2016-04-05T17:05:31.349801-07:00           invalid   \n",
       "\n",
       "                  android_regime            ios_regime  \n",
       "0                      high+1sec               best+1m  \n",
       "1                      high+1sec               best+1m  \n",
       "2                      high+1sec               best+1m  \n",
       "3                      high+1sec               best+1m  \n",
       "4                      high+1sec               best+1m  \n",
       "5                      high+1sec               best+1m  \n",
       "6   high-v-balanced+1sec-v-30sec   best-v-10m+1m-v-30m  \n",
       "7   high-v-balanced+1sec-v-30sec   best-v-10m+1m-v-30m  \n",
       "8   high-v-balanced+1sec-v-30sec   best-v-10m+1m-v-30m  \n",
       "9   high-v-balanced+1sec-v-30sec   best-v-10m+1m-v-30m  \n",
       "10  high-v-balanced+1sec-v-30sec   best-v-10m+1m-v-30m  \n",
       "11  high-v-balanced+1sec-v-30sec   best-v-10m+1m-v-30m  \n",
       "12  high-v-balanced+1sec-v-30sec   best-v-10m+1m-v-30m  \n",
       "13  high-v-balanced+1sec-v-30sec   best-v-10m+1m-v-30m  \n",
       "14  high-v-balanced+1sec-v-30sec   best-v-10m+1m-v-30m  \n",
       "15  high-v-balanced+1sec-v-30sec   best-v-10m+1m-v-30m  \n",
       "16  high-v-balanced+1sec-v-30sec   best-v-10m+1m-v-30m  \n",
       "17  high-v-balanced+1sec-v-30sec   best-v-10m+1m-v-30m  \n",
       "18  high-v-balanced+1sec-v-30sec   best-v-10m+1m-v-30m  \n",
       "19  high-v-balanced+1sec-v-30sec   best-v-10m+1m-v-30m  \n",
       "20  high-v-balanced+1sec-v-30sec   best-v-10m+1m-v-30m  \n",
       "21  high-v-balanced+1sec-v-30sec   best-v-10m+1m-v-30m  \n",
       "22  high-v-balanced+1sec-v-30sec   best-v-10m+1m-v-30m  \n",
       "23  high-v-balanced+1sec-v-30sec   best-v-10m+1m-v-30m  \n",
       "24  high-v-balanced+1sec-v-30sec   best-v-10m+1m-v-30m  \n",
       "25  high-v-balanced+1sec-v-30sec   best-v-10m+1m-v-30m  \n",
       "26  high-v-balanced+1sec-v-15sec  best-v-100m+1m-v-30m  \n",
       "27  high-v-balanced+1sec-v-15sec  best-v-100m+1m-v-30m  \n",
       "28  high-v-balanced+1sec-v-15sec  best-v-100m+1m-v-30m  \n",
       "29  high-v-balanced+1sec-v-15sec  best-v-100m+1m-v-30m  \n",
       "30  high-v-balanced+1sec-v-15sec  best-v-100m+1m-v-30m  \n",
       "31  high-v-balanced+1sec-v-15sec  best-v-100m+1m-v-30m  \n",
       "32                  tracking-off          tracking-off  \n",
       "33                  tracking-off          tracking-off  \n",
       "34                  tracking-off          tracking-off  \n",
       "35  high-v-balanced+1sec-v-15sec  best-v-100m+1m-v-30m  \n",
       "36                  tracking-off          tracking-off  \n",
       "37                     high+1sec               best+1m  \n",
       "38                  tracking-off          tracking-off  \n",
       "39  high-v-balanced+1sec-v-30sec   best-v-10m+1m-v-30m  \n",
       "40  high-v-balanced+1sec-v-30sec   best-v-10m+1m-v-30m  \n",
       "41  high-v-balanced+1sec-v-30sec   best-v-10m+1m-v-30m  \n",
       "42  high-v-balanced+1sec-v-15sec  best-v-100m+1m-v-30m  "
      ]
     },
     "execution_count": 5,
     "metadata": {},
     "output_type": "execute_result"
    }
   ],
   "source": [
    "ranges_df"
   ]
  },
  {
   "cell_type": "code",
   "execution_count": 6,
   "metadata": {
    "collapsed": false
   },
   "outputs": [],
   "source": [
    "regime_grouped_ranges_df = ranges_df.groupby(['state', 'android_regime', 'ios_regime'])"
   ]
  },
  {
   "cell_type": "code",
   "execution_count": 7,
   "metadata": {
    "collapsed": false
   },
   "outputs": [],
   "source": [
    "invalid_df = pd.read_csv(\"../results_spring_2016/invalid.csv\")"
   ]
  },
  {
   "cell_type": "code",
   "execution_count": 8,
   "metadata": {
    "collapsed": false
   },
   "outputs": [
    {
     "data": {
      "text/html": [
       "<div style=\"max-width:1500px;overflow:auto;\">\n",
       "<table border=\"1\" class=\"dataframe\">\n",
       "  <thead>\n",
       "    <tr style=\"text-align: right;\">\n",
       "      <th></th>\n",
       "      <th>platform</th>\n",
       "      <th>key</th>\n",
       "      <th>start_ts</th>\n",
       "      <th>start_fmt_time</th>\n",
       "      <th>end_ts</th>\n",
       "      <th>end_fmt_time</th>\n",
       "    </tr>\n",
       "  </thead>\n",
       "  <tbody>\n",
       "    <tr>\n",
       "      <th>0</th>\n",
       "      <td>android</td>\n",
       "      <td>background/battery</td>\n",
       "      <td>1.459354e+09</td>\n",
       "      <td>2016-03-30T09:00:08.640000-07:00</td>\n",
       "      <td>1.459436e+09</td>\n",
       "      <td>2016-03-31T07:57:22.005000-07:00</td>\n",
       "    </tr>\n",
       "  </tbody>\n",
       "</table>\n",
       "</div>"
      ],
      "text/plain": [
       "  platform                 key      start_ts  \\\n",
       "0  android  background/battery  1.459354e+09   \n",
       "\n",
       "                     start_fmt_time        end_ts  \\\n",
       "0  2016-03-30T09:00:08.640000-07:00  1.459436e+09   \n",
       "\n",
       "                       end_fmt_time  \n",
       "0  2016-03-31T07:57:22.005000-07:00  "
      ]
     },
     "execution_count": 8,
     "metadata": {},
     "output_type": "execute_result"
    }
   ],
   "source": [
    "invalid_df"
   ]
  },
  {
   "cell_type": "code",
   "execution_count": 11,
   "metadata": {
    "collapsed": false
   },
   "outputs": [],
   "source": [
    "def get_points_from_ts_for_range(ts, start_ts, end_ts):\n",
    "    return ts.get_data_df(\"background/location\", enua.UserCache.TimeQuery('write_ts', start_ts, end_ts))"
   ]
  },
  {
   "cell_type": "code",
   "execution_count": 12,
   "metadata": {
    "collapsed": false
   },
   "outputs": [],
   "source": [
    "def get_points_for_range(ts, range_df):\n",
    "    points_range_df = map(lambda row: get_points_from_ts_for_range(ts, row['start_ts'], row['end_ts']), range_df.to_dict('records'))\n",
    "    return points_range_df"
   ]
  },
  {
   "cell_type": "code",
   "execution_count": 13,
   "metadata": {
    "collapsed": false
   },
   "outputs": [],
   "source": [
    "def get_points_for_group(ts_list, range_df):\n",
    "    return map(lambda ts: get_points_for_range(ts, range_df), ts_list)"
   ]
  },
  {
   "cell_type": "code",
   "execution_count": 14,
   "metadata": {
    "collapsed": false
   },
   "outputs": [],
   "source": [
    "import emission.analysis.plotting.geojson.geojson_feature_converter as gfc\n",
    "import emission.analysis.plotting.leaflet_osm.our_plotter as lo\n",
    "import emission.analysis.plotting.leaflet_osm.ipython_helper as ipy"
   ]
  },
  {
   "cell_type": "code",
   "execution_count": 15,
   "metadata": {
    "collapsed": false
   },
   "outputs": [],
   "source": [
    "import scipy.interpolate as spi\n",
    "import numpy as np"
   ]
  },
  {
   "cell_type": "code",
   "execution_count": 16,
   "metadata": {
    "collapsed": false
   },
   "outputs": [],
   "source": [
    "pd.options.display.float_format = '{:.3f}'.format"
   ]
  },
  {
   "cell_type": "code",
   "execution_count": 17,
   "metadata": {
    "collapsed": false
   },
   "outputs": [],
   "source": [
    "def get_interp_df(raw_df):\n",
    "    start_ts = raw_df.ts.iloc[0]\n",
    "    end_ts = raw_df.ts.iloc[-1]\n",
    "    latf = spi.interp1d(x=raw_df.ts, y=raw_df.latitude, bounds_error=False)\n",
    "    lngf = spi.interp1d(x=raw_df.ts, y=raw_df.longitude, bounds_error=False)\n",
    "    ts_new = np.arange(int(start_ts), int(end_ts), 1)\n",
    "    fmt_time_new = map(lambda ts: pydt.datetime.fromtimestamp(ts).isoformat(), ts_new)\n",
    "    interp_df = pd.DataFrame({\"ts\": ts_new, \"fmt_time\": fmt_time_new,\n",
    "                            \"latitude\": latf(ts_new), \"longitude\": lngf(ts_new)}, index=ts_new)\n",
    "    interp_df = interp_df.dropna()\n",
    "    return interp_df"
   ]
  },
  {
   "cell_type": "code",
   "execution_count": 18,
   "metadata": {
    "collapsed": false
   },
   "outputs": [],
   "source": [
    "import emission.analysis.point_features as pf\n",
    "import attrdict as ad"
   ]
  },
  {
   "cell_type": "code",
   "execution_count": 19,
   "metadata": {
    "collapsed": false
   },
   "outputs": [],
   "source": [
    "def calDistance(row):\n",
    "    return pf.calDistance(ad.AttrDict({\"latitude\": row['latitude_android'], \"longitude\": row['longitude_android']}),\n",
    "                          ad.AttrDict({\"latitude\": row['latitude_ios'], \"longitude\": row['longitude_ios']}))"
   ]
  },
  {
   "cell_type": "code",
   "execution_count": 51,
   "metadata": {
    "collapsed": false
   },
   "outputs": [],
   "source": [
    "def get_ground_truth(android_ts, ios_ts, start_ts, end_ts):\n",
    "    ios_raw_df = ios_ts.get_data_df(\"background/location\", enua.UserCache.TimeQuery(\"write_ts\", start_ts, end_ts))\n",
    "    android_raw_df = android_ts.get_data_df(\"background/location\", enua.UserCache.TimeQuery(\"write_ts\", start_ts, end_ts))\n",
    "    if len(ios_raw_df) == 0 or len(android_raw_df) == 0:\n",
    "        return (0, None)\n",
    "    android_df = get_interp_df(android_raw_df)\n",
    "    ios_df = get_interp_df(ios_raw_df)\n",
    "    joined_df = android_df.join(ios_df, how='inner', lsuffix=\"_android\", rsuffix=\"_ios\")\n",
    "    # joined_df.drop(['fmt_time_ios', 'ts_ios'], axis=1, inplace=True)\n",
    "    # joined_df.rename(columns={\"fmt_time_android\": \"fmt_time\", \"ts_android\": \"ts\"}, inplace=True)\n",
    "    joined_df['same_point_distances'] = joined_df.apply(calDistance, axis=1)\n",
    "    filtered_df = joined_df[joined_df.same_point_distances < 40]\n",
    "    combined_df = pd.DataFrame({\"ts\": filtered_df.ts_android, \"fmt_time\": filtered_df.fmt_time_android,\n",
    "                            \"latitude\": (filtered_df.latitude_android + filtered_df.latitude_ios)/2,\n",
    "                            \"longitude\": (filtered_df.longitude_android + filtered_df.longitude_ios)/2,\n",
    "                            \"same_point_distances\": filtered_df.same_point_distances}, index=np.array(filtered_df.ts_android))\n",
    "    pct_retained = float(len(combined_df) * 100) / (int(end_ts) - int(start_ts))\n",
    "    return pct_retained, combined_df"
   ]
  },
  {
   "cell_type": "code",
   "execution_count": 52,
   "metadata": {
    "collapsed": false
   },
   "outputs": [],
   "source": [
    "def calDistanceGround(row):\n",
    "    return pf.calDistance(ad.AttrDict({\"latitude\": row['latitude_ground'], \"longitude\": row['longitude_ground']}),\n",
    "                          ad.AttrDict({\"latitude\": row['latitude_compare'], \"longitude\": row['longitude_compare']}))"
   ]
  },
  {
   "cell_type": "code",
   "execution_count": 53,
   "metadata": {
    "collapsed": false
   },
   "outputs": [],
   "source": [
    "def compare_trajectories(ground_truth_df, compare_df):\n",
    "    joined_df = ground_truth_df.join(compare_df, how='inner', lsuffix=\"_ground\", rsuffix=\"_compare\")\n",
    "    joined_df['compare_distance'] = joined_df.apply(calDistanceGround, axis=1)\n",
    "    return joined_df"
   ]
  },
  {
   "cell_type": "code",
   "execution_count": 54,
   "metadata": {
    "collapsed": false
   },
   "outputs": [],
   "source": [
    "import emission.analysis.plotting.leaflet_osm.our_plotter as lo\n",
    "import emission.analysis.plotting.geojson.geojson_feature_converter as gfc\n",
    "import emission.analysis.plotting.leaflet_osm.ipython_helper as ipy"
   ]
  },
  {
   "cell_type": "code",
   "execution_count": 55,
   "metadata": {
    "collapsed": false
   },
   "outputs": [
    {
     "data": {
      "text/plain": [
       "<module 'emission.analysis.plotting.geojson.geojson_feature_converter' from '/Users/shankari/e-mission/e-mission-server/emission/analysis/plotting/geojson/geojson_feature_converter.pyc'>"
      ]
     },
     "execution_count": 55,
     "metadata": {},
     "output_type": "execute_result"
    }
   ],
   "source": [
    "reload(gfc)"
   ]
  },
  {
   "cell_type": "code",
   "execution_count": 367,
   "metadata": {
    "collapsed": false
   },
   "outputs": [],
   "source": [
    "import copy\n",
    "\n",
    "def compare_accuracy(range_row):\n",
    "    start_ts = range_row['start_ts']\n",
    "    end_ts = range_row['end_ts']\n",
    "    # First, get ground truth from hafs phones\n",
    "    (pct_retained, ground_truth_df) = get_ground_truth(android_ts[0], iphone_ts[0], start_ts, end_ts)\n",
    "    print \"Retained %s percent\" % pct_retained\n",
    "    if (ground_truth_df is None):\n",
    "        print \"Unable to calculate ground truth for row %s, skipping...\"\n",
    "        return (None, None)\n",
    "    result_list = []\n",
    "    for i in range(1,4):\n",
    "        print \"Checking ios phone-%s\" % i\n",
    "        ios_raw_df = iphone_ts[i].get_data_df(\"background/location\", \n",
    "                                            enua.UserCache.TimeQuery(\"write_ts\", start_ts, end_ts))\n",
    "        \n",
    "        print \"Checking android phone-%s\" % i\n",
    "        android_raw_df = android_ts[i].get_data_df(\"background/location\", \n",
    "                                            enua.UserCache.TimeQuery(\"write_ts\", start_ts, end_ts))\n",
    "\n",
    "        if len(ios_raw_df) > 5 and len(android_raw_df):\n",
    "            curr_range_row = copy.copy(range_row)\n",
    "            compare_raw_trajectory_ios = compare_trajectories(ground_truth_df,\n",
    "                                    get_interp_df(ios_raw_df))\n",
    "        \n",
    "            compare_raw_trajectory_android = compare_trajectories(ground_truth_df,\n",
    "                                    get_interp_df(android_raw_df))\n",
    "            curr_range_row['ios_compare'] = compare_raw_trajectory_ios\n",
    "            curr_range_row['android_compare'] = compare_raw_trajectory_android\n",
    "            curr_range_row['phone'] = i\n",
    "            result_list.append(curr_range_row)\n",
    "        else:\n",
    "            print (\"Skipping entry for phone-%s because len(ios_raw_df) = %d and len(android_raw_df) = %d\" %\n",
    "                   (i, len(ios_raw_df), len(android_raw_df)))\n",
    "\n",
    "    return ({\"ios_regime\": range_row['ios_regime'], \"android_regime\": range_row['android_regime'],\n",
    "             \"state\": range_row[\"state\"], \"retained\": pct_retained},\n",
    "            result_list)"
   ]
  },
  {
   "cell_type": "code",
   "execution_count": 368,
   "metadata": {
    "collapsed": false
   },
   "outputs": [],
   "source": [
    "retained_list = []\n",
    "result_list = []"
   ]
  },
  {
   "cell_type": "code",
   "execution_count": 369,
   "metadata": {
    "collapsed": false
   },
   "outputs": [],
   "source": [
    "def is_valid_row(row):\n",
    "    return row['state'] != 'charging' and row['state'] != 'charging-or-full' and row['state'] != 'invalid' and row['ios_regime'] != 'tracking_off' and row['ios_regime'] != 'tracking_off'"
   ]
  },
  {
   "cell_type": "code",
   "execution_count": 370,
   "metadata": {
    "collapsed": false
   },
   "outputs": [
    {
     "name": "stderr",
     "output_type": "stream",
     "text": [
      "DEBUG:root:curr_query = {'$or': [{'metadata.key': 'background/location'}], 'metadata.write_ts': {'$gte': 1459288014.9160001, '$lt': 1459301430.685}, 'user_id': UUID('079e0f1a-c440-3d7c-b0e7-de160f748e35')}, sort_key = metadata.write_ts\n",
      "DEBUG:root:Found 180 results\n",
      "DEBUG:root:curr_query = {'$or': [{'metadata.key': 'background/location'}], 'metadata.write_ts': {'$gte': 1459288014.9160001, '$lt': 1459301430.685}, 'user_id': UUID('e471711e-bd14-3dbe-80b6-9c7d92ecc296')}, sort_key = metadata.write_ts\n",
      "DEBUG:root:Found 9763 results\n"
     ]
    },
    {
     "name": "stdout",
     "output_type": "stream",
     "text": [
      "Comparing accuracy for range {'ios_regime': 'best+1m', 'end_ts': 1459301430.685, 'start_ts': 1459288014.9160001, 'start_fmt_time': '2016-03-29T14:46:54.916000-07:00', 'android_regime': 'high+1sec', 'state': 'loitering', 'end_fmt_time': '2016-03-29T18:30:30.685000-07:00'}\n",
      "Retained 93.9102564103 percent"
     ]
    },
    {
     "name": "stderr",
     "output_type": "stream",
     "text": [
      "DEBUG:root:curr_query = {'$or': [{'metadata.key': 'background/location'}], 'metadata.write_ts': {'$gte': 1459288014.9160001, '$lt': 1459301430.685}, 'user_id': UUID('c76a0487-7e5a-3b17-a449-47be666b36f6')}, sort_key = metadata.write_ts\n",
      "DEBUG:root:Found 131 results\n"
     ]
    },
    {
     "name": "stdout",
     "output_type": "stream",
     "text": [
      "\n",
      "Checking ios phone-1\n",
      "Checking android phone-1"
     ]
    },
    {
     "name": "stderr",
     "output_type": "stream",
     "text": [
      "DEBUG:root:curr_query = {'$or': [{'metadata.key': 'background/location'}], 'metadata.write_ts': {'$gte': 1459288014.9160001, '$lt': 1459301430.685}, 'user_id': UUID('fd7b4c2e-2c8b-3bfa-94f0-d1e3ecbd5fb7')}, sort_key = metadata.write_ts\n",
      "DEBUG:root:Found 9355 results\n"
     ]
    },
    {
     "name": "stdout",
     "output_type": "stream",
     "text": [
      "\n",
      "Checking ios phone-2"
     ]
    },
    {
     "name": "stderr",
     "output_type": "stream",
     "text": [
      "DEBUG:root:curr_query = {'$or': [{'metadata.key': 'background/location'}], 'metadata.write_ts': {'$gte': 1459288014.9160001, '$lt': 1459301430.685}, 'user_id': UUID('c528bcd2-a88b-3e82-be62-ef4f2396967a')}, sort_key = metadata.write_ts\n",
      "DEBUG:root:Found 116 results\n"
     ]
    },
    {
     "name": "stdout",
     "output_type": "stream",
     "text": [
      "\n",
      "Checking android phone-2"
     ]
    },
    {
     "name": "stderr",
     "output_type": "stream",
     "text": [
      "DEBUG:root:curr_query = {'$or': [{'metadata.key': 'background/location'}], 'metadata.write_ts': {'$gte': 1459288014.9160001, '$lt': 1459301430.685}, 'user_id': UUID('86842c35-da28-32ed-a90e-2da6663c5c73')}, sort_key = metadata.write_ts\n",
      "DEBUG:root:Found 9528 results\n"
     ]
    },
    {
     "name": "stdout",
     "output_type": "stream",
     "text": [
      "\n",
      "Checking ios phone-3"
     ]
    },
    {
     "name": "stderr",
     "output_type": "stream",
     "text": [
      "DEBUG:root:curr_query = {'$or': [{'metadata.key': 'background/location'}], 'metadata.write_ts': {'$gte': 1459288014.9160001, '$lt': 1459301430.685}, 'user_id': UUID('95e70727-a04e-3e33-b7fe-34ab19194f8b')}, sort_key = metadata.write_ts\n",
      "DEBUG:root:Found 152 results\n"
     ]
    },
    {
     "name": "stdout",
     "output_type": "stream",
     "text": [
      "\n",
      "Checking android phone-3"
     ]
    },
    {
     "name": "stderr",
     "output_type": "stream",
     "text": [
      "DEBUG:root:curr_query = {'$or': [{'metadata.key': 'background/location'}], 'metadata.write_ts': {'$gte': 1459288014.9160001, '$lt': 1459301430.685}, 'user_id': UUID('3bc0f91f-7660-34a2-b005-5c399598a369')}, sort_key = metadata.write_ts\n",
      "DEBUG:root:Found 10447 results\n"
     ]
    },
    {
     "name": "stdout",
     "output_type": "stream",
     "text": [
      "\n",
      "Comparing accuracy for range {'ios_regime': 'best+1m', 'end_ts': 1459302150.685, 'start_ts': 1459301430.685, 'start_fmt_time': '2016-03-29T18:30:54.916000-07:00', 'android_regime': 'high+1sec', 'state': 'moving', 'end_fmt_time': '2016-03-29T18:42:30.685000-07:00'}"
     ]
    },
    {
     "name": "stderr",
     "output_type": "stream",
     "text": [
      "DEBUG:root:curr_query = {'$or': [{'metadata.key': 'background/location'}], 'metadata.write_ts': {'$gte': 1459301430.685, '$lt': 1459302150.685}, 'user_id': UUID('079e0f1a-c440-3d7c-b0e7-de160f748e35')}, sort_key = metadata.write_ts\n",
      "DEBUG:root:Found 410 results\n",
      "DEBUG:root:curr_query = {'$or': [{'metadata.key': 'background/location'}], 'metadata.write_ts': {'$gte': 1459301430.685, '$lt': 1459302150.685}, 'user_id': UUID('e471711e-bd14-3dbe-80b6-9c7d92ecc296')}, sort_key = metadata.write_ts\n",
      "DEBUG:root:Found 745 results\n"
     ]
    },
    {
     "name": "stdout",
     "output_type": "stream",
     "text": [
      "\n",
      "Retained 70.9722222222 percent"
     ]
    },
    {
     "name": "stderr",
     "output_type": "stream",
     "text": [
      "DEBUG:root:curr_query = {'$or': [{'metadata.key': 'background/location'}], 'metadata.write_ts': {'$gte': 1459301430.685, '$lt': 1459302150.685}, 'user_id': UUID('c76a0487-7e5a-3b17-a449-47be666b36f6')}, sort_key = metadata.write_ts\n",
      "DEBUG:root:Found 438 results\n",
      "DEBUG:root:curr_query = {'$or': [{'metadata.key': 'background/location'}], 'metadata.write_ts': {'$gte': 1459301430.685, '$lt': 1459302150.685}, 'user_id': UUID('fd7b4c2e-2c8b-3bfa-94f0-d1e3ecbd5fb7')}, sort_key = metadata.write_ts\n",
      "DEBUG:root:Found 588 results\n"
     ]
    },
    {
     "name": "stdout",
     "output_type": "stream",
     "text": [
      "\n",
      "Checking ios phone-1\n",
      "Checking android phone-1\n",
      "Checking ios phone-2"
     ]
    },
    {
     "name": "stderr",
     "output_type": "stream",
     "text": [
      "DEBUG:root:curr_query = {'$or': [{'metadata.key': 'background/location'}], 'metadata.write_ts': {'$gte': 1459301430.685, '$lt': 1459302150.685}, 'user_id': UUID('c528bcd2-a88b-3e82-be62-ef4f2396967a')}, sort_key = metadata.write_ts\n",
      "DEBUG:root:Found 431 results\n",
      "DEBUG:root:curr_query = {'$or': [{'metadata.key': 'background/location'}], 'metadata.write_ts': {'$gte': 1459301430.685, '$lt': 1459302150.685}, 'user_id': UUID('86842c35-da28-32ed-a90e-2da6663c5c73')}, sort_key = metadata.write_ts\n",
      "DEBUG:root:Found 749 results\n"
     ]
    },
    {
     "name": "stdout",
     "output_type": "stream",
     "text": [
      "\n",
      "Checking android phone-2\n",
      "Checking ios phone-3"
     ]
    },
    {
     "name": "stderr",
     "output_type": "stream",
     "text": [
      "DEBUG:root:curr_query = {'$or': [{'metadata.key': 'background/location'}], 'metadata.write_ts': {'$gte': 1459301430.685, '$lt': 1459302150.685}, 'user_id': UUID('95e70727-a04e-3e33-b7fe-34ab19194f8b')}, sort_key = metadata.write_ts\n",
      "DEBUG:root:Found 415 results\n",
      "DEBUG:root:curr_query = {'$or': [{'metadata.key': 'background/location'}], 'metadata.write_ts': {'$gte': 1459301430.685, '$lt': 1459302150.685}, 'user_id': UUID('3bc0f91f-7660-34a2-b005-5c399598a369')}, sort_key = metadata.write_ts\n",
      "DEBUG:root:Found 739 results\n"
     ]
    },
    {
     "name": "stdout",
     "output_type": "stream",
     "text": [
      "\n",
      "Checking android phone-3\n",
      "Comparing accuracy for range {'ios_regime': 'best+1m', 'end_ts': 1459310790.275, 'start_ts': 1459302150.685, 'start_fmt_time': '2016-03-29T18:42:30.685000-07:00', 'android_regime': 'high+1sec', 'state': 'moving', 'end_fmt_time': '2016-03-29T21:06:30.275000-07:00'}"
     ]
    },
    {
     "name": "stderr",
     "output_type": "stream",
     "text": [
      "DEBUG:root:curr_query = {'$or': [{'metadata.key': 'background/location'}], 'metadata.write_ts': {'$gte': 1459302150.685, '$lt': 1459310790.275}, 'user_id': UUID('079e0f1a-c440-3d7c-b0e7-de160f748e35')}, sort_key = metadata.write_ts\n",
      "DEBUG:root:Found 4625 results\n",
      "DEBUG:root:curr_query = {'$or': [{'metadata.key': 'background/location'}], 'metadata.write_ts': {'$gte': 1459302150.685, '$lt': 1459310790.275}, 'user_id': UUID('e471711e-bd14-3dbe-80b6-9c7d92ecc296')}, sort_key = metadata.write_ts\n",
      "DEBUG:root:Found 6437 results\n"
     ]
    },
    {
     "name": "stdout",
     "output_type": "stream",
     "text": [
      "\n",
      "Retained 66.3541666667 percent"
     ]
    },
    {
     "name": "stderr",
     "output_type": "stream",
     "text": [
      "DEBUG:root:curr_query = {'$or': [{'metadata.key': 'background/location'}], 'metadata.write_ts': {'$gte': 1459302150.685, '$lt': 1459310790.275}, 'user_id': UUID('c76a0487-7e5a-3b17-a449-47be666b36f6')}, sort_key = metadata.write_ts\n",
      "DEBUG:root:Found 4635 results\n"
     ]
    },
    {
     "name": "stdout",
     "output_type": "stream",
     "text": [
      "\n",
      "Checking ios phone-1\n",
      "Checking android phone-1"
     ]
    },
    {
     "name": "stderr",
     "output_type": "stream",
     "text": [
      "DEBUG:root:curr_query = {'$or': [{'metadata.key': 'background/location'}], 'metadata.write_ts': {'$gte': 1459302150.685, '$lt': 1459310790.275}, 'user_id': UUID('fd7b4c2e-2c8b-3bfa-94f0-d1e3ecbd5fb7')}, sort_key = metadata.write_ts\n",
      "DEBUG:root:Found 6397 results\n"
     ]
    },
    {
     "name": "stdout",
     "output_type": "stream",
     "text": [
      "\n",
      "Checking ios phone-2"
     ]
    },
    {
     "name": "stderr",
     "output_type": "stream",
     "text": [
      "DEBUG:root:curr_query = {'$or': [{'metadata.key': 'background/location'}], 'metadata.write_ts': {'$gte': 1459302150.685, '$lt': 1459310790.275}, 'user_id': UUID('c528bcd2-a88b-3e82-be62-ef4f2396967a')}, sort_key = metadata.write_ts\n",
      "DEBUG:root:Found 4732 results\n"
     ]
    },
    {
     "name": "stdout",
     "output_type": "stream",
     "text": [
      "\n",
      "Checking android phone-2"
     ]
    },
    {
     "name": "stderr",
     "output_type": "stream",
     "text": [
      "DEBUG:root:curr_query = {'$or': [{'metadata.key': 'background/location'}], 'metadata.write_ts': {'$gte': 1459302150.685, '$lt': 1459310790.275}, 'user_id': UUID('86842c35-da28-32ed-a90e-2da6663c5c73')}, sort_key = metadata.write_ts\n",
      "DEBUG:root:Found 6440 results\n"
     ]
    },
    {
     "name": "stdout",
     "output_type": "stream",
     "text": [
      "\n",
      "Checking ios phone-3"
     ]
    },
    {
     "name": "stderr",
     "output_type": "stream",
     "text": [
      "DEBUG:root:curr_query = {'$or': [{'metadata.key': 'background/location'}], 'metadata.write_ts': {'$gte': 1459302150.685, '$lt': 1459310790.275}, 'user_id': UUID('95e70727-a04e-3e33-b7fe-34ab19194f8b')}, sort_key = metadata.write_ts\n",
      "DEBUG:root:Found 4789 results\n"
     ]
    },
    {
     "name": "stdout",
     "output_type": "stream",
     "text": [
      "\n",
      "Checking android phone-3"
     ]
    },
    {
     "name": "stderr",
     "output_type": "stream",
     "text": [
      "DEBUG:root:curr_query = {'$or': [{'metadata.key': 'background/location'}], 'metadata.write_ts': {'$gte': 1459302150.685, '$lt': 1459310790.275}, 'user_id': UUID('3bc0f91f-7660-34a2-b005-5c399598a369')}, sort_key = metadata.write_ts\n",
      "DEBUG:root:Found 6456 results\n"
     ]
    },
    {
     "name": "stdout",
     "output_type": "stream",
     "text": [
      "\n",
      "Comparing accuracy for range {'ios_regime': 'best+1m', 'end_ts': 1459342809.654, 'start_ts': 1459310790.275, 'start_fmt_time': '2016-03-29T21:06:30.275000-07:00', 'android_regime': 'high+1sec', 'state': 'stationary', 'end_fmt_time': '2016-03-30T06:00:09.654643-07:00'}"
     ]
    },
    {
     "name": "stderr",
     "output_type": "stream",
     "text": [
      "DEBUG:root:curr_query = {'$or': [{'metadata.key': 'background/location'}], 'metadata.write_ts': {'$gte': 1459310790.275, '$lt': 1459342809.654}, 'user_id': UUID('079e0f1a-c440-3d7c-b0e7-de160f748e35')}, sort_key = metadata.write_ts\n",
      "DEBUG:root:Found 42 results\n",
      "DEBUG:root:curr_query = {'$or': [{'metadata.key': 'background/location'}], 'metadata.write_ts': {'$gte': 1459310790.275, '$lt': 1459342809.654}, 'user_id': UUID('e471711e-bd14-3dbe-80b6-9c7d92ecc296')}, sort_key = metadata.write_ts\n",
      "DEBUG:root:Found 32006 results\n"
     ]
    },
    {
     "name": "stdout",
     "output_type": "stream",
     "text": [
      "\n",
      "Retained 18.3422342984 percent"
     ]
    },
    {
     "name": "stderr",
     "output_type": "stream",
     "text": [
      "DEBUG:root:curr_query = {'$or': [{'metadata.key': 'background/location'}], 'metadata.write_ts': {'$gte': 1459310790.275, '$lt': 1459342809.654}, 'user_id': UUID('c76a0487-7e5a-3b17-a449-47be666b36f6')}, sort_key = metadata.write_ts\n",
      "DEBUG:root:Found 41 results\n"
     ]
    },
    {
     "name": "stdout",
     "output_type": "stream",
     "text": [
      "\n",
      "Checking ios phone-1\n",
      "Checking android phone-1"
     ]
    },
    {
     "name": "stderr",
     "output_type": "stream",
     "text": [
      "DEBUG:root:curr_query = {'$or': [{'metadata.key': 'background/location'}], 'metadata.write_ts': {'$gte': 1459310790.275, '$lt': 1459342809.654}, 'user_id': UUID('fd7b4c2e-2c8b-3bfa-94f0-d1e3ecbd5fb7')}, sort_key = metadata.write_ts\n",
      "DEBUG:root:Found 32002 results\n"
     ]
    },
    {
     "name": "stdout",
     "output_type": "stream",
     "text": [
      "\n",
      "Checking ios phone-2"
     ]
    },
    {
     "name": "stderr",
     "output_type": "stream",
     "text": [
      "DEBUG:root:curr_query = {'$or': [{'metadata.key': 'background/location'}], 'metadata.write_ts': {'$gte': 1459310790.275, '$lt': 1459342809.654}, 'user_id': UUID('c528bcd2-a88b-3e82-be62-ef4f2396967a')}, sort_key = metadata.write_ts\n",
      "DEBUG:root:Found 79 results\n"
     ]
    },
    {
     "name": "stdout",
     "output_type": "stream",
     "text": [
      "\n",
      "Checking android phone-2"
     ]
    },
    {
     "name": "stderr",
     "output_type": "stream",
     "text": [
      "DEBUG:root:curr_query = {'$or': [{'metadata.key': 'background/location'}], 'metadata.write_ts': {'$gte': 1459310790.275, '$lt': 1459342809.654}, 'user_id': UUID('86842c35-da28-32ed-a90e-2da6663c5c73')}, sort_key = metadata.write_ts\n",
      "DEBUG:root:Found 32003 results\n"
     ]
    },
    {
     "name": "stdout",
     "output_type": "stream",
     "text": [
      "\n",
      "Checking ios phone-3"
     ]
    },
    {
     "name": "stderr",
     "output_type": "stream",
     "text": [
      "DEBUG:root:curr_query = {'$or': [{'metadata.key': 'background/location'}], 'metadata.write_ts': {'$gte': 1459310790.275, '$lt': 1459342809.654}, 'user_id': UUID('95e70727-a04e-3e33-b7fe-34ab19194f8b')}, sort_key = metadata.write_ts\n",
      "DEBUG:root:Found 9 results\n"
     ]
    },
    {
     "name": "stdout",
     "output_type": "stream",
     "text": [
      "\n",
      "Checking android phone-3"
     ]
    },
    {
     "name": "stderr",
     "output_type": "stream",
     "text": [
      "DEBUG:root:curr_query = {'$or': [{'metadata.key': 'background/location'}], 'metadata.write_ts': {'$gte': 1459310790.275, '$lt': 1459342809.654}, 'user_id': UUID('3bc0f91f-7660-34a2-b005-5c399598a369')}, sort_key = metadata.write_ts\n",
      "DEBUG:root:Found 32004 results\n"
     ]
    },
    {
     "name": "stdout",
     "output_type": "stream",
     "text": [
      "\n",
      "Comparing accuracy for range {'ios_regime': 'best+1m', 'end_ts': 1459353613.859, 'start_ts': 1459342809.654, 'start_fmt_time': '2016-03-30T06:00:09.654643-07:00', 'android_regime': 'high+1sec', 'state': 'charging-or-full', 'end_fmt_time': '2016-03-30T09:00:13.859000-07:00'}"
     ]
    },
    {
     "name": "stderr",
     "output_type": "stream",
     "text": [
      "DEBUG:root:curr_query = {'$or': [{'metadata.key': 'background/location'}], 'metadata.write_ts': {'$gte': 1459371718.965, '$lt': 1459372435.019}, 'user_id': UUID('079e0f1a-c440-3d7c-b0e7-de160f748e35')}, sort_key = metadata.write_ts\n",
      "DEBUG:root:Found 89 results\n",
      "DEBUG:root:curr_query = {'$or': [{'metadata.key': 'background/location'}], 'metadata.write_ts': {'$gte': 1459371718.965, '$lt': 1459372435.019}, 'user_id': UUID('e471711e-bd14-3dbe-80b6-9c7d92ecc296')}, sort_key = metadata.write_ts\n",
      "DEBUG:root:Found 717 results\n"
     ]
    },
    {
     "name": "stdout",
     "output_type": "stream",
     "text": [
      "\n",
      "Comparing accuracy for range {'ios_regime': 'best-v-10m+1m-v-30m', 'end_ts': 1459371718.965, 'start_ts': 1459353613.859, 'start_fmt_time': '2016-03-30T09:00:13.859000-07:00', 'android_regime': 'high-v-balanced+1sec-v-30sec', 'state': 'charging-or-full', 'end_fmt_time': '2016-03-30T14:01:58.965395-07:00'}\n",
      "Comparing accuracy for range {'ios_regime': 'best-v-10m+1m-v-30m', 'end_ts': 1459372435.019, 'start_ts': 1459371718.965, 'start_fmt_time': '2016-03-30T14:01:58.965395-07:00', 'android_regime': 'high-v-balanced+1sec-v-30sec', 'state': 'loitering', 'end_fmt_time': '2016-03-30T14:13:55.019000-07:00'}\n",
      "Retained 26.6387726639 percent"
     ]
    },
    {
     "name": "stderr",
     "output_type": "stream",
     "text": [
      "DEBUG:root:curr_query = {'$or': [{'metadata.key': 'background/location'}], 'metadata.write_ts': {'$gte': 1459371718.965, '$lt': 1459372435.019}, 'user_id': UUID('c76a0487-7e5a-3b17-a449-47be666b36f6')}, sort_key = metadata.write_ts\n",
      "DEBUG:root:Found 113 results\n",
      "DEBUG:root:curr_query = {'$or': [{'metadata.key': 'background/location'}], 'metadata.write_ts': {'$gte': 1459371718.965, '$lt': 1459372435.019}, 'user_id': UUID('fd7b4c2e-2c8b-3bfa-94f0-d1e3ecbd5fb7')}, sort_key = metadata.write_ts\n",
      "DEBUG:root:Found 309 results\n"
     ]
    },
    {
     "name": "stdout",
     "output_type": "stream",
     "text": [
      "\n",
      "Checking ios phone-1\n",
      "Checking android phone-1\n",
      "Checking ios phone-2"
     ]
    },
    {
     "name": "stderr",
     "output_type": "stream",
     "text": [
      "DEBUG:root:curr_query = {'$or': [{'metadata.key': 'background/location'}], 'metadata.write_ts': {'$gte': 1459371718.965, '$lt': 1459372435.019}, 'user_id': UUID('c528bcd2-a88b-3e82-be62-ef4f2396967a')}, sort_key = metadata.write_ts\n",
      "DEBUG:root:Found 4 results\n",
      "DEBUG:root:curr_query = {'$or': [{'metadata.key': 'background/location'}], 'metadata.write_ts': {'$gte': 1459371718.965, '$lt': 1459372435.019}, 'user_id': UUID('86842c35-da28-32ed-a90e-2da6663c5c73')}, sort_key = metadata.write_ts\n",
      "DEBUG:root:Found 54 results\n",
      "DEBUG:root:curr_query = {'$or': [{'metadata.key': 'background/location'}], 'metadata.write_ts': {'$gte': 1459371718.965, '$lt': 1459372435.019}, 'user_id': UUID('95e70727-a04e-3e33-b7fe-34ab19194f8b')}, sort_key = metadata.write_ts\n",
      "DEBUG:root:Found 5 results\n",
      "DEBUG:root:curr_query = {'$or': [{'metadata.key': 'background/location'}], 'metadata.write_ts': {'$gte': 1459371718.965, '$lt': 1459372435.019}, 'user_id': UUID('3bc0f91f-7660-34a2-b005-5c399598a369')}, sort_key = metadata.write_ts\n",
      "DEBUG:root:Found 24 results\n",
      "DEBUG:root:curr_query = {'$or': [{'metadata.key': 'background/location'}], 'metadata.write_ts': {'$gte': 1459372435.019, '$lt': 1459373082.464}, 'user_id': UUID('079e0f1a-c440-3d7c-b0e7-de160f748e35')}, sort_key = metadata.write_ts\n",
      "DEBUG:root:Found 462 results\n",
      "DEBUG:root:curr_query = {'$or': [{'metadata.key': 'background/location'}], 'metadata.write_ts': {'$gte': 1459372435.019, '$lt': 1459373082.464}, 'user_id': UUID('e471711e-bd14-3dbe-80b6-9c7d92ecc296')}, sort_key = metadata.write_ts\n",
      "DEBUG:root:Found 648 results\n"
     ]
    },
    {
     "name": "stdout",
     "output_type": "stream",
     "text": [
      "\n",
      "Checking android phone-2\n",
      "Skipping entry for phone-2 because len(ios_raw_df) = 4 and len(android_raw_df) = 54\n",
      "Checking ios phone-3\n",
      "Checking android phone-3\n",
      "Skipping entry for phone-3 because len(ios_raw_df) = 5 and len(android_raw_df) = 24\n",
      "Comparing accuracy for range {'ios_regime': 'best-v-10m+1m-v-30m', 'end_ts': 1459373082.464, 'start_ts': 1459372435.019, 'start_fmt_time': '2016-03-30T14:13:55.019000-07:00', 'android_regime': 'high-v-balanced+1sec-v-30sec', 'state': 'moving', 'end_fmt_time': '2016-03-30T14:24:42.464000-07:00'}\n",
      "Retained 99.227202473 percent"
     ]
    },
    {
     "name": "stderr",
     "output_type": "stream",
     "text": [
      "DEBUG:root:curr_query = {'$or': [{'metadata.key': 'background/location'}], 'metadata.write_ts': {'$gte': 1459372435.019, '$lt': 1459373082.464}, 'user_id': UUID('c76a0487-7e5a-3b17-a449-47be666b36f6')}, sort_key = metadata.write_ts\n",
      "DEBUG:root:Found 484 results\n",
      "DEBUG:root:curr_query = {'$or': [{'metadata.key': 'background/location'}], 'metadata.write_ts': {'$gte': 1459372435.019, '$lt': 1459373082.464}, 'user_id': UUID('fd7b4c2e-2c8b-3bfa-94f0-d1e3ecbd5fb7')}, sort_key = metadata.write_ts\n",
      "DEBUG:root:Found 373 results\n"
     ]
    },
    {
     "name": "stdout",
     "output_type": "stream",
     "text": [
      "\n",
      "Checking ios phone-1\n",
      "Checking android phone-1\n",
      "Checking ios phone-2"
     ]
    },
    {
     "name": "stderr",
     "output_type": "stream",
     "text": [
      "DEBUG:root:curr_query = {'$or': [{'metadata.key': 'background/location'}], 'metadata.write_ts': {'$gte': 1459372435.019, '$lt': 1459373082.464}, 'user_id': UUID('c528bcd2-a88b-3e82-be62-ef4f2396967a')}, sort_key = metadata.write_ts\n",
      "DEBUG:root:Found 55 results\n",
      "DEBUG:root:curr_query = {'$or': [{'metadata.key': 'background/location'}], 'metadata.write_ts': {'$gte': 1459372435.019, '$lt': 1459373082.464}, 'user_id': UUID('86842c35-da28-32ed-a90e-2da6663c5c73')}, sort_key = metadata.write_ts\n",
      "DEBUG:root:Found 42 results\n"
     ]
    },
    {
     "name": "stdout",
     "output_type": "stream",
     "text": [
      "\n",
      "Checking android phone-2\n",
      "Checking ios phone-3"
     ]
    },
    {
     "name": "stderr",
     "output_type": "stream",
     "text": [
      "DEBUG:root:curr_query = {'$or': [{'metadata.key': 'background/location'}], 'metadata.write_ts': {'$gte': 1459372435.019, '$lt': 1459373082.464}, 'user_id': UUID('95e70727-a04e-3e33-b7fe-34ab19194f8b')}, sort_key = metadata.write_ts\n",
      "DEBUG:root:Found 53 results\n",
      "DEBUG:root:curr_query = {'$or': [{'metadata.key': 'background/location'}], 'metadata.write_ts': {'$gte': 1459372435.019, '$lt': 1459373082.464}, 'user_id': UUID('3bc0f91f-7660-34a2-b005-5c399598a369')}, sort_key = metadata.write_ts\n",
      "DEBUG:root:Found 20 results\n"
     ]
    },
    {
     "name": "stdout",
     "output_type": "stream",
     "text": [
      "\n",
      "Checking android phone-3\n",
      "Comparing accuracy for range {'ios_regime': 'best-v-10m+1m-v-30m', 'end_ts': 1459376487.67, 'start_ts': 1459373082.464, 'start_fmt_time': '2016-03-30T14:24:42.464000-07:00', 'android_regime': 'high-v-balanced+1sec-v-30sec', 'state': 'loitering', 'end_fmt_time': '2016-03-30T15:21:27.670000-07:00'}"
     ]
    },
    {
     "name": "stderr",
     "output_type": "stream",
     "text": [
      "DEBUG:root:curr_query = {'$or': [{'metadata.key': 'background/location'}], 'metadata.write_ts': {'$gte': 1459373082.464, '$lt': 1459376487.67}, 'user_id': UUID('079e0f1a-c440-3d7c-b0e7-de160f748e35')}, sort_key = metadata.write_ts\n",
      "DEBUG:root:Found 427 results\n",
      "DEBUG:root:curr_query = {'$or': [{'metadata.key': 'background/location'}], 'metadata.write_ts': {'$gte': 1459373082.464, '$lt': 1459376487.67}, 'user_id': UUID('e471711e-bd14-3dbe-80b6-9c7d92ecc296')}, sort_key = metadata.write_ts\n",
      "DEBUG:root:Found 3404 results\n"
     ]
    },
    {
     "name": "stdout",
     "output_type": "stream",
     "text": [
      "\n",
      "Retained 99.6475770925 percent"
     ]
    },
    {
     "name": "stderr",
     "output_type": "stream",
     "text": [
      "DEBUG:root:curr_query = {'$or': [{'metadata.key': 'background/location'}], 'metadata.write_ts': {'$gte': 1459373082.464, '$lt': 1459376487.67}, 'user_id': UUID('c76a0487-7e5a-3b17-a449-47be666b36f6')}, sort_key = metadata.write_ts\n",
      "DEBUG:root:Found 746 results\n"
     ]
    },
    {
     "name": "stdout",
     "output_type": "stream",
     "text": [
      "\n",
      "Checking ios phone-1\n",
      "Checking android phone-1"
     ]
    },
    {
     "name": "stderr",
     "output_type": "stream",
     "text": [
      "DEBUG:root:curr_query = {'$or': [{'metadata.key': 'background/location'}], 'metadata.write_ts': {'$gte': 1459373082.464, '$lt': 1459376487.67}, 'user_id': UUID('fd7b4c2e-2c8b-3bfa-94f0-d1e3ecbd5fb7')}, sort_key = metadata.write_ts\n",
      "DEBUG:root:Found 689 results\n"
     ]
    },
    {
     "name": "stdout",
     "output_type": "stream",
     "text": [
      "\n",
      "Checking ios phone-2"
     ]
    },
    {
     "name": "stderr",
     "output_type": "stream",
     "text": [
      "DEBUG:root:curr_query = {'$or': [{'metadata.key': 'background/location'}], 'metadata.write_ts': {'$gte': 1459373082.464, '$lt': 1459376487.67}, 'user_id': UUID('c528bcd2-a88b-3e82-be62-ef4f2396967a')}, sort_key = metadata.write_ts\n",
      "DEBUG:root:Found 2 results\n",
      "DEBUG:root:curr_query = {'$or': [{'metadata.key': 'background/location'}], 'metadata.write_ts': {'$gte': 1459373082.464, '$lt': 1459376487.67}, 'user_id': UUID('86842c35-da28-32ed-a90e-2da6663c5c73')}, sort_key = metadata.write_ts\n",
      "DEBUG:root:Found 151 results\n"
     ]
    },
    {
     "name": "stdout",
     "output_type": "stream",
     "text": [
      "\n",
      "Checking android phone-2\n",
      "Skipping entry for phone-2 because len(ios_raw_df) = 2 and len(android_raw_df) = 151"
     ]
    },
    {
     "name": "stderr",
     "output_type": "stream",
     "text": [
      "DEBUG:root:curr_query = {'$or': [{'metadata.key': 'background/location'}], 'metadata.write_ts': {'$gte': 1459373082.464, '$lt': 1459376487.67}, 'user_id': UUID('95e70727-a04e-3e33-b7fe-34ab19194f8b')}, sort_key = metadata.write_ts\n",
      "DEBUG:root:Found 2 results\n",
      "DEBUG:root:curr_query = {'$or': [{'metadata.key': 'background/location'}], 'metadata.write_ts': {'$gte': 1459373082.464, '$lt': 1459376487.67}, 'user_id': UUID('3bc0f91f-7660-34a2-b005-5c399598a369')}, sort_key = metadata.write_ts\n",
      "DEBUG:root:Found 107 results\n"
     ]
    },
    {
     "name": "stdout",
     "output_type": "stream",
     "text": [
      "\n",
      "Checking ios phone-3\n",
      "Checking android phone-3\n",
      "Skipping entry for phone-3 because len(ios_raw_df) = 2 and len(android_raw_df) = 107"
     ]
    },
    {
     "name": "stderr",
     "output_type": "stream",
     "text": [
      "DEBUG:root:curr_query = {'$or': [{'metadata.key': 'background/location'}], 'metadata.write_ts': {'$gte': 1459376487.67, '$lt': 1459377221.654}, 'user_id': UUID('079e0f1a-c440-3d7c-b0e7-de160f748e35')}, sort_key = metadata.write_ts\n",
      "DEBUG:root:Found 578 results\n",
      "DEBUG:root:curr_query = {'$or': [{'metadata.key': 'background/location'}], 'metadata.write_ts': {'$gte': 1459376487.67, '$lt': 1459377221.654}, 'user_id': UUID('e471711e-bd14-3dbe-80b6-9c7d92ecc296')}, sort_key = metadata.write_ts\n",
      "DEBUG:root:Found 734 results\n"
     ]
    },
    {
     "name": "stdout",
     "output_type": "stream",
     "text": [
      "\n",
      "Comparing accuracy for range {'ios_regime': 'best-v-10m+1m-v-30m', 'end_ts': 1459377221.654, 'start_ts': 1459376487.67, 'start_fmt_time': '2016-03-30T15:21:27.670000-07:00', 'android_regime': 'high-v-balanced+1sec-v-30sec', 'state': 'moving', 'end_fmt_time': '2016-03-30T15:33:41.654000-07:00'}\n",
      "Retained 87.4659400545 percent"
     ]
    },
    {
     "name": "stderr",
     "output_type": "stream",
     "text": [
      "DEBUG:root:curr_query = {'$or': [{'metadata.key': 'background/location'}], 'metadata.write_ts': {'$gte': 1459376487.67, '$lt': 1459377221.654}, 'user_id': UUID('c76a0487-7e5a-3b17-a449-47be666b36f6')}, sort_key = metadata.write_ts\n",
      "DEBUG:root:Found 591 results\n",
      "DEBUG:root:curr_query = {'$or': [{'metadata.key': 'background/location'}], 'metadata.write_ts': {'$gte': 1459376487.67, '$lt': 1459377221.654}, 'user_id': UUID('fd7b4c2e-2c8b-3bfa-94f0-d1e3ecbd5fb7')}, sort_key = metadata.write_ts\n",
      "DEBUG:root:Found 707 results\n"
     ]
    },
    {
     "name": "stdout",
     "output_type": "stream",
     "text": [
      "\n",
      "Checking ios phone-1\n",
      "Checking android phone-1\n",
      "Checking ios phone-2"
     ]
    },
    {
     "name": "stderr",
     "output_type": "stream",
     "text": [
      "DEBUG:root:curr_query = {'$or': [{'metadata.key': 'background/location'}], 'metadata.write_ts': {'$gte': 1459376487.67, '$lt': 1459377221.654}, 'user_id': UUID('c528bcd2-a88b-3e82-be62-ef4f2396967a')}, sort_key = metadata.write_ts\n",
      "DEBUG:root:Found 58 results\n",
      "DEBUG:root:curr_query = {'$or': [{'metadata.key': 'background/location'}], 'metadata.write_ts': {'$gte': 1459376487.67, '$lt': 1459377221.654}, 'user_id': UUID('86842c35-da28-32ed-a90e-2da6663c5c73')}, sort_key = metadata.write_ts\n",
      "DEBUG:root:Found 29 results\n"
     ]
    },
    {
     "name": "stdout",
     "output_type": "stream",
     "text": [
      "\n",
      "Checking android phone-2\n",
      "Checking ios phone-3"
     ]
    },
    {
     "name": "stderr",
     "output_type": "stream",
     "text": [
      "DEBUG:root:curr_query = {'$or': [{'metadata.key': 'background/location'}], 'metadata.write_ts': {'$gte': 1459376487.67, '$lt': 1459377221.654}, 'user_id': UUID('95e70727-a04e-3e33-b7fe-34ab19194f8b')}, sort_key = metadata.write_ts\n",
      "DEBUG:root:Found 58 results\n",
      "DEBUG:root:curr_query = {'$or': [{'metadata.key': 'background/location'}], 'metadata.write_ts': {'$gte': 1459376487.67, '$lt': 1459377221.654}, 'user_id': UUID('3bc0f91f-7660-34a2-b005-5c399598a369')}, sort_key = metadata.write_ts\n",
      "DEBUG:root:Found 24 results\n"
     ]
    },
    {
     "name": "stdout",
     "output_type": "stream",
     "text": [
      "\n",
      "Checking android phone-3\n",
      "Comparing accuracy for range {'ios_regime': 'best-v-10m+1m-v-30m', 'end_ts': 1459379998.9429998, 'start_ts': 1459377221.654, 'start_fmt_time': '2016-03-30T15:33:41.654000-07:00', 'android_regime': 'high-v-balanced+1sec-v-30sec', 'state': 'loitering', 'end_fmt_time': '2016-03-30T16:19:58.943000-07:00'}"
     ]
    },
    {
     "name": "stderr",
     "output_type": "stream",
     "text": [
      "DEBUG:root:curr_query = {'$or': [{'metadata.key': 'background/location'}], 'metadata.write_ts': {'$gte': 1459377221.654, '$lt': 1459379998.9429998}, 'user_id': UUID('079e0f1a-c440-3d7c-b0e7-de160f748e35')}, sort_key = metadata.write_ts\n",
      "DEBUG:root:Found 43 results\n",
      "DEBUG:root:curr_query = {'$or': [{'metadata.key': 'background/location'}], 'metadata.write_ts': {'$gte': 1459377221.654, '$lt': 1459379998.9429998}, 'user_id': UUID('e471711e-bd14-3dbe-80b6-9c7d92ecc296')}, sort_key = metadata.write_ts\n",
      "DEBUG:root:Found 2777 results\n"
     ]
    },
    {
     "name": "stdout",
     "output_type": "stream",
     "text": [
      "\n",
      "Retained 1.5484335614 percent"
     ]
    },
    {
     "name": "stderr",
     "output_type": "stream",
     "text": [
      "DEBUG:root:curr_query = {'$or': [{'metadata.key': 'background/location'}], 'metadata.write_ts': {'$gte': 1459377221.654, '$lt': 1459379998.9429998}, 'user_id': UUID('c76a0487-7e5a-3b17-a449-47be666b36f6')}, sort_key = metadata.write_ts\n",
      "DEBUG:root:Found 43 results\n",
      "DEBUG:root:curr_query = {'$or': [{'metadata.key': 'background/location'}], 'metadata.write_ts': {'$gte': 1459377221.654, '$lt': 1459379998.9429998}, 'user_id': UUID('fd7b4c2e-2c8b-3bfa-94f0-d1e3ecbd5fb7')}, sort_key = metadata.write_ts\n",
      "DEBUG:root:Found 2242 results\n"
     ]
    },
    {
     "name": "stdout",
     "output_type": "stream",
     "text": [
      "\n",
      "Checking ios phone-1\n",
      "Checking android phone-1\n",
      "Checking ios phone-2"
     ]
    },
    {
     "name": "stderr",
     "output_type": "stream",
     "text": [
      "DEBUG:root:curr_query = {'$or': [{'metadata.key': 'background/location'}], 'metadata.write_ts': {'$gte': 1459377221.654, '$lt': 1459379998.9429998}, 'user_id': UUID('c528bcd2-a88b-3e82-be62-ef4f2396967a')}, sort_key = metadata.write_ts\n",
      "DEBUG:root:Found 3 results\n",
      "DEBUG:root:curr_query = {'$or': [{'metadata.key': 'background/location'}], 'metadata.write_ts': {'$gte': 1459377221.654, '$lt': 1459379998.9429998}, 'user_id': UUID('86842c35-da28-32ed-a90e-2da6663c5c73')}, sort_key = metadata.write_ts\n",
      "DEBUG:root:Found 104 results\n"
     ]
    },
    {
     "name": "stdout",
     "output_type": "stream",
     "text": [
      "\n",
      "Checking android phone-2\n",
      "Skipping entry for phone-2 because len(ios_raw_df) = 3 and len(android_raw_df) = 104"
     ]
    },
    {
     "name": "stderr",
     "output_type": "stream",
     "text": [
      "DEBUG:root:curr_query = {'$or': [{'metadata.key': 'background/location'}], 'metadata.write_ts': {'$gte': 1459377221.654, '$lt': 1459379998.9429998}, 'user_id': UUID('95e70727-a04e-3e33-b7fe-34ab19194f8b')}, sort_key = metadata.write_ts\n",
      "DEBUG:root:Found 5 results\n",
      "DEBUG:root:curr_query = {'$or': [{'metadata.key': 'background/location'}], 'metadata.write_ts': {'$gte': 1459377221.654, '$lt': 1459379998.9429998}, 'user_id': UUID('3bc0f91f-7660-34a2-b005-5c399598a369')}, sort_key = metadata.write_ts\n",
      "DEBUG:root:Found 93 results\n"
     ]
    },
    {
     "name": "stdout",
     "output_type": "stream",
     "text": [
      "\n",
      "Checking ios phone-3\n",
      "Checking android phone-3\n",
      "Skipping entry for phone-3 because len(ios_raw_df) = 5 and len(android_raw_df) = 93"
     ]
    },
    {
     "name": "stderr",
     "output_type": "stream",
     "text": [
      "DEBUG:root:curr_query = {'$or': [{'metadata.key': 'background/location'}], 'metadata.write_ts': {'$gte': 1459379998.9429998, '$lt': 1459381061.978}, 'user_id': UUID('079e0f1a-c440-3d7c-b0e7-de160f748e35')}, sort_key = metadata.write_ts\n",
      "DEBUG:root:Found 867 results\n",
      "DEBUG:root:curr_query = {'$or': [{'metadata.key': 'background/location'}], 'metadata.write_ts': {'$gte': 1459379998.9429998, '$lt': 1459381061.978}, 'user_id': UUID('e471711e-bd14-3dbe-80b6-9c7d92ecc296')}, sort_key = metadata.write_ts\n",
      "DEBUG:root:Found 1064 results\n"
     ]
    },
    {
     "name": "stdout",
     "output_type": "stream",
     "text": [
      "\n",
      "Comparing accuracy for range {'ios_regime': 'best-v-10m+1m-v-30m', 'end_ts': 1459381061.978, 'start_ts': 1459379998.9429998, 'start_fmt_time': '2016-03-30T16:19:58.943000-07:00', 'android_regime': 'high-v-balanced+1sec-v-30sec', 'state': 'moving', 'end_fmt_time': '2016-03-30T16:37:41.978000-07:00'}\n",
      "Retained 92.380056444 percent"
     ]
    },
    {
     "name": "stderr",
     "output_type": "stream",
     "text": [
      "DEBUG:root:curr_query = {'$or': [{'metadata.key': 'background/location'}], 'metadata.write_ts': {'$gte': 1459379998.9429998, '$lt': 1459381061.978}, 'user_id': UUID('c76a0487-7e5a-3b17-a449-47be666b36f6')}, sort_key = metadata.write_ts\n",
      "DEBUG:root:Found 951 results\n"
     ]
    },
    {
     "name": "stdout",
     "output_type": "stream",
     "text": [
      "\n",
      "Checking ios phone-1\n",
      "Checking android phone-1"
     ]
    },
    {
     "name": "stderr",
     "output_type": "stream",
     "text": [
      "DEBUG:root:curr_query = {'$or': [{'metadata.key': 'background/location'}], 'metadata.write_ts': {'$gte': 1459379998.9429998, '$lt': 1459381061.978}, 'user_id': UUID('fd7b4c2e-2c8b-3bfa-94f0-d1e3ecbd5fb7')}, sort_key = metadata.write_ts\n",
      "DEBUG:root:Found 1061 results\n"
     ]
    },
    {
     "name": "stdout",
     "output_type": "stream",
     "text": [
      "\n",
      "Checking ios phone-2"
     ]
    },
    {
     "name": "stderr",
     "output_type": "stream",
     "text": [
      "DEBUG:root:curr_query = {'$or': [{'metadata.key': 'background/location'}], 'metadata.write_ts': {'$gte': 1459379998.9429998, '$lt': 1459381061.978}, 'user_id': UUID('c528bcd2-a88b-3e82-be62-ef4f2396967a')}, sort_key = metadata.write_ts\n",
      "DEBUG:root:Found 109 results\n",
      "DEBUG:root:curr_query = {'$or': [{'metadata.key': 'background/location'}], 'metadata.write_ts': {'$gte': 1459379998.9429998, '$lt': 1459381061.978}, 'user_id': UUID('86842c35-da28-32ed-a90e-2da6663c5c73')}, sort_key = metadata.write_ts\n",
      "DEBUG:root:Found 66 results\n"
     ]
    },
    {
     "name": "stdout",
     "output_type": "stream",
     "text": [
      "\n",
      "Checking android phone-2\n",
      "Checking ios phone-3"
     ]
    },
    {
     "name": "stderr",
     "output_type": "stream",
     "text": [
      "DEBUG:root:curr_query = {'$or': [{'metadata.key': 'background/location'}], 'metadata.write_ts': {'$gte': 1459379998.9429998, '$lt': 1459381061.978}, 'user_id': UUID('95e70727-a04e-3e33-b7fe-34ab19194f8b')}, sort_key = metadata.write_ts\n",
      "DEBUG:root:Found 103 results\n",
      "DEBUG:root:curr_query = {'$or': [{'metadata.key': 'background/location'}], 'metadata.write_ts': {'$gte': 1459379998.9429998, '$lt': 1459381061.978}, 'user_id': UUID('3bc0f91f-7660-34a2-b005-5c399598a369')}, sort_key = metadata.write_ts\n",
      "DEBUG:root:Found 36 results\n"
     ]
    },
    {
     "name": "stdout",
     "output_type": "stream",
     "text": [
      "\n",
      "Checking android phone-3\n",
      "Comparing accuracy for range {'ios_regime': 'best-v-10m+1m-v-30m', 'end_ts': 1459385843.05, 'start_ts': 1459381061.978, 'start_fmt_time': '2016-03-30T16:37:41.978000-07:00', 'android_regime': 'high-v-balanced+1sec-v-30sec', 'state': 'loitering', 'end_fmt_time': '2016-03-30T17:57:23.050000-07:00'}"
     ]
    },
    {
     "name": "stderr",
     "output_type": "stream",
     "text": [
      "DEBUG:root:curr_query = {'$or': [{'metadata.key': 'background/location'}], 'metadata.write_ts': {'$gte': 1459381061.978, '$lt': 1459385843.05}, 'user_id': UUID('079e0f1a-c440-3d7c-b0e7-de160f748e35')}, sort_key = metadata.write_ts\n",
      "DEBUG:root:Found 115 results\n",
      "DEBUG:root:curr_query = {'$or': [{'metadata.key': 'background/location'}], 'metadata.write_ts': {'$gte': 1459381061.978, '$lt': 1459385843.05}, 'user_id': UUID('e471711e-bd14-3dbe-80b6-9c7d92ecc296')}, sort_key = metadata.write_ts\n",
      "DEBUG:root:Found 4778 results\n"
     ]
    },
    {
     "name": "stdout",
     "output_type": "stream",
     "text": [
      "\n",
      "Retained 8.59473023839 percent"
     ]
    },
    {
     "name": "stderr",
     "output_type": "stream",
     "text": [
      "DEBUG:root:curr_query = {'$or': [{'metadata.key': 'background/location'}], 'metadata.write_ts': {'$gte': 1459381061.978, '$lt': 1459385843.05}, 'user_id': UUID('c76a0487-7e5a-3b17-a449-47be666b36f6')}, sort_key = metadata.write_ts\n",
      "DEBUG:root:Found 115 results\n",
      "DEBUG:root:curr_query = {'$or': [{'metadata.key': 'background/location'}], 'metadata.write_ts': {'$gte': 1459381061.978, '$lt': 1459385843.05}, 'user_id': UUID('fd7b4c2e-2c8b-3bfa-94f0-d1e3ecbd5fb7')}, sort_key = metadata.write_ts\n",
      "DEBUG:root:Found 2256 results\n"
     ]
    },
    {
     "name": "stdout",
     "output_type": "stream",
     "text": [
      "\n",
      "Checking ios phone-1\n",
      "Checking android phone-1\n",
      "Checking ios phone-2"
     ]
    },
    {
     "name": "stderr",
     "output_type": "stream",
     "text": [
      "DEBUG:root:curr_query = {'$or': [{'metadata.key': 'background/location'}], 'metadata.write_ts': {'$gte': 1459381061.978, '$lt': 1459385843.05}, 'user_id': UUID('c528bcd2-a88b-3e82-be62-ef4f2396967a')}, sort_key = metadata.write_ts\n",
      "DEBUG:root:Found 7 results\n",
      "DEBUG:root:curr_query = {'$or': [{'metadata.key': 'background/location'}], 'metadata.write_ts': {'$gte': 1459381061.978, '$lt': 1459385843.05}, 'user_id': UUID('86842c35-da28-32ed-a90e-2da6663c5c73')}, sort_key = metadata.write_ts\n",
      "DEBUG:root:Found 168 results\n"
     ]
    },
    {
     "name": "stdout",
     "output_type": "stream",
     "text": [
      "\n",
      "Checking android phone-2\n",
      "Checking ios phone-3"
     ]
    },
    {
     "name": "stderr",
     "output_type": "stream",
     "text": [
      "DEBUG:root:curr_query = {'$or': [{'metadata.key': 'background/location'}], 'metadata.write_ts': {'$gte': 1459381061.978, '$lt': 1459385843.05}, 'user_id': UUID('95e70727-a04e-3e33-b7fe-34ab19194f8b')}, sort_key = metadata.write_ts\n",
      "DEBUG:root:Found 7 results\n",
      "DEBUG:root:curr_query = {'$or': [{'metadata.key': 'background/location'}], 'metadata.write_ts': {'$gte': 1459381061.978, '$lt': 1459385843.05}, 'user_id': UUID('3bc0f91f-7660-34a2-b005-5c399598a369')}, sort_key = metadata.write_ts\n",
      "DEBUG:root:Found 86 results\n"
     ]
    },
    {
     "name": "stdout",
     "output_type": "stream",
     "text": [
      "\n",
      "Checking android phone-3\n",
      "Comparing accuracy for range {'ios_regime': 'best-v-10m+1m-v-30m', 'end_ts': 1459387420.68, 'start_ts': 1459385843.05, 'start_fmt_time': '2016-03-30T17:57:23.050000-07:00', 'android_regime': 'high-v-balanced+1sec-v-30sec', 'state': 'moving', 'end_fmt_time': '2016-03-30T18:23:40.680000-07:00'}"
     ]
    },
    {
     "name": "stderr",
     "output_type": "stream",
     "text": [
      "DEBUG:root:curr_query = {'$or': [{'metadata.key': 'background/location'}], 'metadata.write_ts': {'$gte': 1459385843.05, '$lt': 1459387420.68}, 'user_id': UUID('079e0f1a-c440-3d7c-b0e7-de160f748e35')}, sort_key = metadata.write_ts\n",
      "DEBUG:root:Found 1140 results\n",
      "DEBUG:root:curr_query = {'$or': [{'metadata.key': 'background/location'}], 'metadata.write_ts': {'$gte': 1459385843.05, '$lt': 1459387420.68}, 'user_id': UUID('e471711e-bd14-3dbe-80b6-9c7d92ecc296')}, sort_key = metadata.write_ts\n",
      "DEBUG:root:Found 1577 results\n"
     ]
    },
    {
     "name": "stdout",
     "output_type": "stream",
     "text": [
      "\n",
      "Retained 96.7025998732 percent"
     ]
    },
    {
     "name": "stderr",
     "output_type": "stream",
     "text": [
      "DEBUG:root:curr_query = {'$or': [{'metadata.key': 'background/location'}], 'metadata.write_ts': {'$gte': 1459385843.05, '$lt': 1459387420.68}, 'user_id': UUID('c76a0487-7e5a-3b17-a449-47be666b36f6')}, sort_key = metadata.write_ts\n",
      "DEBUG:root:Found 1172 results\n"
     ]
    },
    {
     "name": "stdout",
     "output_type": "stream",
     "text": [
      "\n",
      "Checking ios phone-1\n",
      "Checking android phone-1"
     ]
    },
    {
     "name": "stderr",
     "output_type": "stream",
     "text": [
      "DEBUG:root:curr_query = {'$or': [{'metadata.key': 'background/location'}], 'metadata.write_ts': {'$gte': 1459385843.05, '$lt': 1459387420.68}, 'user_id': UUID('fd7b4c2e-2c8b-3bfa-94f0-d1e3ecbd5fb7')}, sort_key = metadata.write_ts\n",
      "DEBUG:root:Found 1475 results\n"
     ]
    },
    {
     "name": "stdout",
     "output_type": "stream",
     "text": [
      "\n",
      "Checking ios phone-2"
     ]
    },
    {
     "name": "stderr",
     "output_type": "stream",
     "text": [
      "DEBUG:root:curr_query = {'$or': [{'metadata.key': 'background/location'}], 'metadata.write_ts': {'$gte': 1459385843.05, '$lt': 1459387420.68}, 'user_id': UUID('c528bcd2-a88b-3e82-be62-ef4f2396967a')}, sort_key = metadata.write_ts\n",
      "DEBUG:root:Found 126 results\n",
      "DEBUG:root:curr_query = {'$or': [{'metadata.key': 'background/location'}], 'metadata.write_ts': {'$gte': 1459385843.05, '$lt': 1459387420.68}, 'user_id': UUID('86842c35-da28-32ed-a90e-2da6663c5c73')}, sort_key = metadata.write_ts\n",
      "DEBUG:root:Found 65 results\n"
     ]
    },
    {
     "name": "stdout",
     "output_type": "stream",
     "text": [
      "\n",
      "Checking android phone-2\n",
      "Checking ios phone-3"
     ]
    },
    {
     "name": "stderr",
     "output_type": "stream",
     "text": [
      "DEBUG:root:curr_query = {'$or': [{'metadata.key': 'background/location'}], 'metadata.write_ts': {'$gte': 1459385843.05, '$lt': 1459387420.68}, 'user_id': UUID('95e70727-a04e-3e33-b7fe-34ab19194f8b')}, sort_key = metadata.write_ts\n",
      "DEBUG:root:Found 124 results\n",
      "DEBUG:root:curr_query = {'$or': [{'metadata.key': 'background/location'}], 'metadata.write_ts': {'$gte': 1459385843.05, '$lt': 1459387420.68}, 'user_id': UUID('3bc0f91f-7660-34a2-b005-5c399598a369')}, sort_key = metadata.write_ts\n",
      "DEBUG:root:Found 52 results\n"
     ]
    },
    {
     "name": "stdout",
     "output_type": "stream",
     "text": [
      "\n",
      "Checking android phone-3\n",
      "Comparing accuracy for range {'ios_regime': 'best-v-10m+1m-v-30m', 'end_ts': 1459403297.8620002, 'start_ts': 1459387420.68, 'start_fmt_time': '2016-03-30T18:23:40.680000-07:00', 'android_regime': 'high-v-balanced+1sec-v-30sec', 'state': 'loitering', 'end_fmt_time': '2016-03-30T22:48:17.862000-07:00'}"
     ]
    },
    {
     "name": "stderr",
     "output_type": "stream",
     "text": [
      "DEBUG:root:curr_query = {'$or': [{'metadata.key': 'background/location'}], 'metadata.write_ts': {'$gte': 1459387420.68, '$lt': 1459403297.8620002}, 'user_id': UUID('079e0f1a-c440-3d7c-b0e7-de160f748e35')}, sort_key = metadata.write_ts\n",
      "DEBUG:root:Found 358 results\n",
      "DEBUG:root:curr_query = {'$or': [{'metadata.key': 'background/location'}], 'metadata.write_ts': {'$gte': 1459387420.68, '$lt': 1459403297.8620002}, 'user_id': UUID('e471711e-bd14-3dbe-80b6-9c7d92ecc296')}, sort_key = metadata.write_ts\n",
      "DEBUG:root:Found 15831 results\n"
     ]
    },
    {
     "name": "stdout",
     "output_type": "stream",
     "text": [
      "\n",
      "Retained 88.5305788247 percent"
     ]
    },
    {
     "name": "stderr",
     "output_type": "stream",
     "text": [
      "DEBUG:root:curr_query = {'$or': [{'metadata.key': 'background/location'}], 'metadata.write_ts': {'$gte': 1459387420.68, '$lt': 1459403297.8620002}, 'user_id': UUID('c76a0487-7e5a-3b17-a449-47be666b36f6')}, sort_key = metadata.write_ts\n",
      "DEBUG:root:Found 243 results\n"
     ]
    },
    {
     "name": "stdout",
     "output_type": "stream",
     "text": [
      "\n",
      "Checking ios phone-1\n",
      "Checking android phone-1"
     ]
    },
    {
     "name": "stderr",
     "output_type": "stream",
     "text": [
      "DEBUG:root:curr_query = {'$or': [{'metadata.key': 'background/location'}], 'metadata.write_ts': {'$gte': 1459387420.68, '$lt': 1459403297.8620002}, 'user_id': UUID('fd7b4c2e-2c8b-3bfa-94f0-d1e3ecbd5fb7')}, sort_key = metadata.write_ts\n",
      "DEBUG:root:Found 2504 results\n"
     ]
    },
    {
     "name": "stdout",
     "output_type": "stream",
     "text": [
      "\n",
      "Checking ios phone-2"
     ]
    },
    {
     "name": "stderr",
     "output_type": "stream",
     "text": [
      "DEBUG:root:curr_query = {'$or': [{'metadata.key': 'background/location'}], 'metadata.write_ts': {'$gte': 1459387420.68, '$lt': 1459403297.8620002}, 'user_id': UUID('c528bcd2-a88b-3e82-be62-ef4f2396967a')}, sort_key = metadata.write_ts\n",
      "DEBUG:root:Found 6 results\n"
     ]
    },
    {
     "name": "stdout",
     "output_type": "stream",
     "text": [
      "\n",
      "Checking android phone-2"
     ]
    },
    {
     "name": "stderr",
     "output_type": "stream",
     "text": [
      "DEBUG:root:curr_query = {'$or': [{'metadata.key': 'background/location'}], 'metadata.write_ts': {'$gte': 1459387420.68, '$lt': 1459403297.8620002}, 'user_id': UUID('86842c35-da28-32ed-a90e-2da6663c5c73')}, sort_key = metadata.write_ts\n",
      "DEBUG:root:Found 631 results\n"
     ]
    },
    {
     "name": "stdout",
     "output_type": "stream",
     "text": [
      "\n",
      "Checking ios phone-3"
     ]
    },
    {
     "name": "stderr",
     "output_type": "stream",
     "text": [
      "DEBUG:root:curr_query = {'$or': [{'metadata.key': 'background/location'}], 'metadata.write_ts': {'$gte': 1459387420.68, '$lt': 1459403297.8620002}, 'user_id': UUID('95e70727-a04e-3e33-b7fe-34ab19194f8b')}, sort_key = metadata.write_ts\n",
      "DEBUG:root:Found 4 results\n"
     ]
    },
    {
     "name": "stdout",
     "output_type": "stream",
     "text": [
      "\n",
      "Checking android phone-3"
     ]
    },
    {
     "name": "stderr",
     "output_type": "stream",
     "text": [
      "DEBUG:root:curr_query = {'$or': [{'metadata.key': 'background/location'}], 'metadata.write_ts': {'$gte': 1459387420.68, '$lt': 1459403297.8620002}, 'user_id': UUID('3bc0f91f-7660-34a2-b005-5c399598a369')}, sort_key = metadata.write_ts\n",
      "DEBUG:root:Found 126 results\n"
     ]
    },
    {
     "name": "stdout",
     "output_type": "stream",
     "text": [
      "\n",
      "Skipping entry for phone-3 because len(ios_raw_df) = 4 and len(android_raw_df) = 126"
     ]
    },
    {
     "name": "stderr",
     "output_type": "stream",
     "text": [
      "DEBUG:root:curr_query = {'$or': [{'metadata.key': 'background/location'}], 'metadata.write_ts': {'$gte': 1459403297.8620002, '$lt': 1459403853.3920002}, 'user_id': UUID('079e0f1a-c440-3d7c-b0e7-de160f748e35')}, sort_key = metadata.write_ts\n",
      "DEBUG:root:Found 393 results\n",
      "DEBUG:root:curr_query = {'$or': [{'metadata.key': 'background/location'}], 'metadata.write_ts': {'$gte': 1459403297.8620002, '$lt': 1459403853.3920002}, 'user_id': UUID('e471711e-bd14-3dbe-80b6-9c7d92ecc296')}, sort_key = metadata.write_ts\n",
      "DEBUG:root:Found 556 results\n"
     ]
    },
    {
     "name": "stdout",
     "output_type": "stream",
     "text": [
      "\n",
      "Comparing accuracy for range {'ios_regime': 'best-v-10m+1m-v-30m', 'end_ts': 1459403853.3920002, 'start_ts': 1459403297.8620002, 'start_fmt_time': '2016-03-30T22:48:17.862000-07:00', 'android_regime': 'high-v-balanced+1sec-v-30sec', 'state': 'moving', 'end_fmt_time': '2016-03-30T22:57:33.392000-07:00'}\n",
      "Retained 97.3021582734 percent"
     ]
    },
    {
     "name": "stderr",
     "output_type": "stream",
     "text": [
      "DEBUG:root:curr_query = {'$or': [{'metadata.key': 'background/location'}], 'metadata.write_ts': {'$gte': 1459403297.8620002, '$lt': 1459403853.3920002}, 'user_id': UUID('c76a0487-7e5a-3b17-a449-47be666b36f6')}, sort_key = metadata.write_ts\n",
      "DEBUG:root:Found 382 results\n",
      "DEBUG:root:curr_query = {'$or': [{'metadata.key': 'background/location'}], 'metadata.write_ts': {'$gte': 1459403297.8620002, '$lt': 1459403853.3920002}, 'user_id': UUID('fd7b4c2e-2c8b-3bfa-94f0-d1e3ecbd5fb7')}, sort_key = metadata.write_ts\n",
      "DEBUG:root:Found 166 results\n"
     ]
    },
    {
     "name": "stdout",
     "output_type": "stream",
     "text": [
      "\n",
      "Checking ios phone-1\n",
      "Checking android phone-1\n",
      "Checking ios phone-2"
     ]
    },
    {
     "name": "stderr",
     "output_type": "stream",
     "text": [
      "DEBUG:root:curr_query = {'$or': [{'metadata.key': 'background/location'}], 'metadata.write_ts': {'$gte': 1459403297.8620002, '$lt': 1459403853.3920002}, 'user_id': UUID('c528bcd2-a88b-3e82-be62-ef4f2396967a')}, sort_key = metadata.write_ts\n",
      "DEBUG:root:Found 16 results\n",
      "DEBUG:root:curr_query = {'$or': [{'metadata.key': 'background/location'}], 'metadata.write_ts': {'$gte': 1459403297.8620002, '$lt': 1459403853.3920002}, 'user_id': UUID('86842c35-da28-32ed-a90e-2da6663c5c73')}, sort_key = metadata.write_ts\n",
      "DEBUG:root:Found 22 results\n"
     ]
    },
    {
     "name": "stdout",
     "output_type": "stream",
     "text": [
      "\n",
      "Checking android phone-2\n",
      "Checking ios phone-3"
     ]
    },
    {
     "name": "stderr",
     "output_type": "stream",
     "text": [
      "DEBUG:root:curr_query = {'$or': [{'metadata.key': 'background/location'}], 'metadata.write_ts': {'$gte': 1459403297.8620002, '$lt': 1459403853.3920002}, 'user_id': UUID('95e70727-a04e-3e33-b7fe-34ab19194f8b')}, sort_key = metadata.write_ts\n",
      "DEBUG:root:Found 16 results\n",
      "DEBUG:root:curr_query = {'$or': [{'metadata.key': 'background/location'}], 'metadata.write_ts': {'$gte': 1459403297.8620002, '$lt': 1459403853.3920002}, 'user_id': UUID('3bc0f91f-7660-34a2-b005-5c399598a369')}, sort_key = metadata.write_ts\n",
      "DEBUG:root:Found 19 results\n"
     ]
    },
    {
     "name": "stdout",
     "output_type": "stream",
     "text": [
      "\n",
      "Checking android phone-3\n",
      "Comparing accuracy for range {'ios_regime': 'best-v-10m+1m-v-30m', 'end_ts': 1459411210.33, 'start_ts': 1459403853.3920002, 'start_fmt_time': '2016-03-30T22:57:33.392000-07:00', 'android_regime': 'high-v-balanced+1sec-v-30sec', 'state': 'stationary', 'end_fmt_time': '2016-03-31T01:00:10.330742-07:00'}"
     ]
    },
    {
     "name": "stderr",
     "output_type": "stream",
     "text": [
      "DEBUG:root:curr_query = {'$or': [{'metadata.key': 'background/location'}], 'metadata.write_ts': {'$gte': 1459403853.3920002, '$lt': 1459411210.33}, 'user_id': UUID('079e0f1a-c440-3d7c-b0e7-de160f748e35')}, sort_key = metadata.write_ts\n",
      "DEBUG:root:Found 27 results\n",
      "DEBUG:root:curr_query = {'$or': [{'metadata.key': 'background/location'}], 'metadata.write_ts': {'$gte': 1459403853.3920002, '$lt': 1459411210.33}, 'user_id': UUID('e471711e-bd14-3dbe-80b6-9c7d92ecc296')}, sort_key = metadata.write_ts\n",
      "DEBUG:root:Found 7353 results\n"
     ]
    },
    {
     "name": "stdout",
     "output_type": "stream",
     "text": [
      "\n",
      "Retained 0.992252276743 percent"
     ]
    },
    {
     "name": "stderr",
     "output_type": "stream",
     "text": [
      "DEBUG:root:curr_query = {'$or': [{'metadata.key': 'background/location'}], 'metadata.write_ts': {'$gte': 1459403853.3920002, '$lt': 1459411210.33}, 'user_id': UUID('c76a0487-7e5a-3b17-a449-47be666b36f6')}, sort_key = metadata.write_ts\n",
      "DEBUG:root:Found 53 results\n",
      "DEBUG:root:curr_query = {'$or': [{'metadata.key': 'background/location'}], 'metadata.write_ts': {'$gte': 1459403853.3920002, '$lt': 1459411210.33}, 'user_id': UUID('fd7b4c2e-2c8b-3bfa-94f0-d1e3ecbd5fb7')}, sort_key = metadata.write_ts\n",
      "DEBUG:root:Found 2285 results\n"
     ]
    },
    {
     "name": "stdout",
     "output_type": "stream",
     "text": [
      "\n",
      "Checking ios phone-1\n",
      "Checking android phone-1\n",
      "Checking ios phone-2"
     ]
    },
    {
     "name": "stderr",
     "output_type": "stream",
     "text": [
      "DEBUG:root:curr_query = {'$or': [{'metadata.key': 'background/location'}], 'metadata.write_ts': {'$gte': 1459403853.3920002, '$lt': 1459411210.33}, 'user_id': UUID('c528bcd2-a88b-3e82-be62-ef4f2396967a')}, sort_key = metadata.write_ts\n",
      "DEBUG:root:Found 0 results\n",
      "DEBUG:root:curr_query = {'$or': [{'metadata.key': 'background/location'}], 'metadata.write_ts': {'$gte': 1459403853.3920002, '$lt': 1459411210.33}, 'user_id': UUID('86842c35-da28-32ed-a90e-2da6663c5c73')}, sort_key = metadata.write_ts\n",
      "DEBUG:root:Found 256 results\n"
     ]
    },
    {
     "name": "stdout",
     "output_type": "stream",
     "text": [
      "\n",
      "Checking android phone-2\n",
      "Skipping entry for phone-2 because len(ios_raw_df) = 0 and len(android_raw_df) = 256"
     ]
    },
    {
     "name": "stderr",
     "output_type": "stream",
     "text": [
      "DEBUG:root:curr_query = {'$or': [{'metadata.key': 'background/location'}], 'metadata.write_ts': {'$gte': 1459403853.3920002, '$lt': 1459411210.33}, 'user_id': UUID('95e70727-a04e-3e33-b7fe-34ab19194f8b')}, sort_key = metadata.write_ts\n",
      "DEBUG:root:Found 0 results\n",
      "DEBUG:root:curr_query = {'$or': [{'metadata.key': 'background/location'}], 'metadata.write_ts': {'$gte': 1459403853.3920002, '$lt': 1459411210.33}, 'user_id': UUID('3bc0f91f-7660-34a2-b005-5c399598a369')}, sort_key = metadata.write_ts\n",
      "DEBUG:root:Found 84 results\n"
     ]
    },
    {
     "name": "stdout",
     "output_type": "stream",
     "text": [
      "\n",
      "Checking ios phone-3\n",
      "Checking android phone-3\n",
      "Skipping entry for phone-3 because len(ios_raw_df) = 0 and len(android_raw_df) = 84"
     ]
    },
    {
     "name": "stderr",
     "output_type": "stream",
     "text": [
      "DEBUG:root:curr_query = {'$or': [{'metadata.key': 'background/location'}], 'metadata.write_ts': {'$gte': 1459440025.839, '$lt': 1459448055.125}, 'user_id': UUID('079e0f1a-c440-3d7c-b0e7-de160f748e35')}, sort_key = metadata.write_ts\n",
      "DEBUG:root:Found 113 results\n",
      "DEBUG:root:curr_query = {'$or': [{'metadata.key': 'background/location'}], 'metadata.write_ts': {'$gte': 1459440025.839, '$lt': 1459448055.125}, 'user_id': UUID('e471711e-bd14-3dbe-80b6-9c7d92ecc296')}, sort_key = metadata.write_ts\n",
      "DEBUG:root:Found 4484 results\n"
     ]
    },
    {
     "name": "stdout",
     "output_type": "stream",
     "text": [
      "\n",
      "Comparing accuracy for range {'ios_regime': 'best-v-10m+1m-v-30m', 'end_ts': 1459440025.839, 'start_ts': 1459411210.33, 'start_fmt_time': '2016-03-31T01:00:10.330742-07:00', 'android_regime': 'high-v-balanced+1sec-v-30sec', 'state': 'charging-or-full', 'end_fmt_time': '2016-03-31T09:00:25.839312-07:00'}\n",
      "Comparing accuracy for range {'ios_regime': 'best-v-10m+1m-v-30m', 'end_ts': 1459448055.125, 'start_ts': 1459440025.839, 'start_fmt_time': '2016-03-31T09:00:25.839312-07:00', 'android_regime': 'high-v-balanced+1sec-v-30sec', 'state': 'loitering', 'end_fmt_time': '2016-03-31T11:14:15.125000-07:00'}\n",
      "Retained 55.803237858 percent"
     ]
    },
    {
     "name": "stderr",
     "output_type": "stream",
     "text": [
      "DEBUG:root:curr_query = {'$or': [{'metadata.key': 'background/location'}], 'metadata.write_ts': {'$gte': 1459440025.839, '$lt': 1459448055.125}, 'user_id': UUID('c76a0487-7e5a-3b17-a449-47be666b36f6')}, sort_key = metadata.write_ts\n",
      "DEBUG:root:Found 128 results\n",
      "DEBUG:root:curr_query = {'$or': [{'metadata.key': 'background/location'}], 'metadata.write_ts': {'$gte': 1459440025.839, '$lt': 1459448055.125}, 'user_id': UUID('fd7b4c2e-2c8b-3bfa-94f0-d1e3ecbd5fb7')}, sort_key = metadata.write_ts\n",
      "DEBUG:root:Found 1026 results\n"
     ]
    },
    {
     "name": "stdout",
     "output_type": "stream",
     "text": [
      "\n",
      "Checking ios phone-1\n",
      "Checking android phone-1\n",
      "Checking ios phone-2"
     ]
    },
    {
     "name": "stderr",
     "output_type": "stream",
     "text": [
      "DEBUG:root:curr_query = {'$or': [{'metadata.key': 'background/location'}], 'metadata.write_ts': {'$gte': 1459440025.839, '$lt': 1459448055.125}, 'user_id': UUID('c528bcd2-a88b-3e82-be62-ef4f2396967a')}, sort_key = metadata.write_ts\n",
      "DEBUG:root:Found 9 results\n",
      "DEBUG:root:curr_query = {'$or': [{'metadata.key': 'background/location'}], 'metadata.write_ts': {'$gte': 1459440025.839, '$lt': 1459448055.125}, 'user_id': UUID('86842c35-da28-32ed-a90e-2da6663c5c73')}, sort_key = metadata.write_ts\n",
      "DEBUG:root:Found 189 results\n"
     ]
    },
    {
     "name": "stdout",
     "output_type": "stream",
     "text": [
      "\n",
      "Checking android phone-2\n",
      "Checking ios phone-3"
     ]
    },
    {
     "name": "stderr",
     "output_type": "stream",
     "text": [
      "DEBUG:root:curr_query = {'$or': [{'metadata.key': 'background/location'}], 'metadata.write_ts': {'$gte': 1459440025.839, '$lt': 1459448055.125}, 'user_id': UUID('95e70727-a04e-3e33-b7fe-34ab19194f8b')}, sort_key = metadata.write_ts\n",
      "DEBUG:root:Found 8 results\n",
      "DEBUG:root:curr_query = {'$or': [{'metadata.key': 'background/location'}], 'metadata.write_ts': {'$gte': 1459440025.839, '$lt': 1459448055.125}, 'user_id': UUID('3bc0f91f-7660-34a2-b005-5c399598a369')}, sort_key = metadata.write_ts\n",
      "DEBUG:root:Found 217 results\n"
     ]
    },
    {
     "name": "stdout",
     "output_type": "stream",
     "text": [
      "\n",
      "Checking android phone-3\n",
      "Comparing accuracy for range {'ios_regime': 'best-v-10m+1m-v-30m', 'end_ts': 1459456368.01, 'start_ts': 1459448055.125, 'start_fmt_time': '2016-03-31T11:14:15.125000-07:00', 'android_regime': 'high-v-balanced+1sec-v-30sec', 'state': 'moving', 'end_fmt_time': '2016-03-31T13:32:48.010000-07:00'}"
     ]
    },
    {
     "name": "stderr",
     "output_type": "stream",
     "text": [
      "DEBUG:root:curr_query = {'$or': [{'metadata.key': 'background/location'}], 'metadata.write_ts': {'$gte': 1459448055.125, '$lt': 1459456368.01}, 'user_id': UUID('079e0f1a-c440-3d7c-b0e7-de160f748e35')}, sort_key = metadata.write_ts\n",
      "DEBUG:root:Found 3595 results\n",
      "DEBUG:root:curr_query = {'$or': [{'metadata.key': 'background/location'}], 'metadata.write_ts': {'$gte': 1459448055.125, '$lt': 1459456368.01}, 'user_id': UUID('e471711e-bd14-3dbe-80b6-9c7d92ecc296')}, sort_key = metadata.write_ts\n",
      "DEBUG:root:Found 5500 results\n"
     ]
    },
    {
     "name": "stdout",
     "output_type": "stream",
     "text": [
      "\n",
      "Retained 37.8082521352 percent"
     ]
    },
    {
     "name": "stderr",
     "output_type": "stream",
     "text": [
      "DEBUG:root:curr_query = {'$or': [{'metadata.key': 'background/location'}], 'metadata.write_ts': {'$gte': 1459448055.125, '$lt': 1459456368.01}, 'user_id': UUID('c76a0487-7e5a-3b17-a449-47be666b36f6')}, sort_key = metadata.write_ts\n",
      "DEBUG:root:Found 2814 results\n"
     ]
    },
    {
     "name": "stdout",
     "output_type": "stream",
     "text": [
      "\n",
      "Checking ios phone-1\n",
      "Checking android phone-1"
     ]
    },
    {
     "name": "stderr",
     "output_type": "stream",
     "text": [
      "DEBUG:root:curr_query = {'$or': [{'metadata.key': 'background/location'}], 'metadata.write_ts': {'$gte': 1459448055.125, '$lt': 1459456368.01}, 'user_id': UUID('fd7b4c2e-2c8b-3bfa-94f0-d1e3ecbd5fb7')}, sort_key = metadata.write_ts\n",
      "DEBUG:root:Found 2809 results\n"
     ]
    },
    {
     "name": "stdout",
     "output_type": "stream",
     "text": [
      "\n",
      "Checking ios phone-2"
     ]
    },
    {
     "name": "stderr",
     "output_type": "stream",
     "text": [
      "DEBUG:root:curr_query = {'$or': [{'metadata.key': 'background/location'}], 'metadata.write_ts': {'$gte': 1459448055.125, '$lt': 1459456368.01}, 'user_id': UUID('c528bcd2-a88b-3e82-be62-ef4f2396967a')}, sort_key = metadata.write_ts\n",
      "DEBUG:root:Found 1156 results\n"
     ]
    },
    {
     "name": "stdout",
     "output_type": "stream",
     "text": [
      "\n",
      "Checking android phone-2"
     ]
    },
    {
     "name": "stderr",
     "output_type": "stream",
     "text": [
      "DEBUG:root:curr_query = {'$or': [{'metadata.key': 'background/location'}], 'metadata.write_ts': {'$gte': 1459448055.125, '$lt': 1459456368.01}, 'user_id': UUID('86842c35-da28-32ed-a90e-2da6663c5c73')}, sort_key = metadata.write_ts\n",
      "DEBUG:root:Found 376 results\n"
     ]
    },
    {
     "name": "stdout",
     "output_type": "stream",
     "text": [
      "\n",
      "Checking ios phone-3"
     ]
    },
    {
     "name": "stderr",
     "output_type": "stream",
     "text": [
      "DEBUG:root:curr_query = {'$or': [{'metadata.key': 'background/location'}], 'metadata.write_ts': {'$gte': 1459448055.125, '$lt': 1459456368.01}, 'user_id': UUID('95e70727-a04e-3e33-b7fe-34ab19194f8b')}, sort_key = metadata.write_ts\n",
      "DEBUG:root:Found 685 results\n"
     ]
    },
    {
     "name": "stdout",
     "output_type": "stream",
     "text": [
      "\n",
      "Checking android phone-3"
     ]
    },
    {
     "name": "stderr",
     "output_type": "stream",
     "text": [
      "DEBUG:root:curr_query = {'$or': [{'metadata.key': 'background/location'}], 'metadata.write_ts': {'$gte': 1459448055.125, '$lt': 1459456368.01}, 'user_id': UUID('3bc0f91f-7660-34a2-b005-5c399598a369')}, sort_key = metadata.write_ts\n",
      "DEBUG:root:Found 252 results\n"
     ]
    },
    {
     "name": "stdout",
     "output_type": "stream",
     "text": [
      "\n",
      "Comparing accuracy for range {'ios_regime': 'best-v-10m+1m-v-30m', 'end_ts': 1459471440.045, 'start_ts': 1459456368.01, 'start_fmt_time': '2016-03-31T13:32:48.010000-07:00', 'android_regime': 'high-v-balanced+1sec-v-30sec', 'state': 'loitering', 'end_fmt_time': '2016-03-31T17:44:00.045000-07:00'}"
     ]
    },
    {
     "name": "stderr",
     "output_type": "stream",
     "text": [
      "DEBUG:root:curr_query = {'$or': [{'metadata.key': 'background/location'}], 'metadata.write_ts': {'$gte': 1459456368.01, '$lt': 1459471440.045}, 'user_id': UUID('079e0f1a-c440-3d7c-b0e7-de160f748e35')}, sort_key = metadata.write_ts\n",
      "DEBUG:root:Found 791 results\n",
      "DEBUG:root:curr_query = {'$or': [{'metadata.key': 'background/location'}], 'metadata.write_ts': {'$gte': 1459456368.01, '$lt': 1459471440.045}, 'user_id': UUID('e471711e-bd14-3dbe-80b6-9c7d92ecc296')}, sort_key = metadata.write_ts\n",
      "DEBUG:root:Found 6695 results\n"
     ]
    },
    {
     "name": "stdout",
     "output_type": "stream",
     "text": [
      "\n",
      "Retained 62.6658704883 percent"
     ]
    },
    {
     "name": "stderr",
     "output_type": "stream",
     "text": [
      "DEBUG:root:curr_query = {'$or': [{'metadata.key': 'background/location'}], 'metadata.write_ts': {'$gte': 1459456368.01, '$lt': 1459471440.045}, 'user_id': UUID('c76a0487-7e5a-3b17-a449-47be666b36f6')}, sort_key = metadata.write_ts\n",
      "DEBUG:root:Found 964 results\n"
     ]
    },
    {
     "name": "stdout",
     "output_type": "stream",
     "text": [
      "\n",
      "Checking ios phone-1\n",
      "Checking android phone-1"
     ]
    },
    {
     "name": "stderr",
     "output_type": "stream",
     "text": [
      "DEBUG:root:curr_query = {'$or': [{'metadata.key': 'background/location'}], 'metadata.write_ts': {'$gte': 1459456368.01, '$lt': 1459471440.045}, 'user_id': UUID('fd7b4c2e-2c8b-3bfa-94f0-d1e3ecbd5fb7')}, sort_key = metadata.write_ts\n",
      "DEBUG:root:Found 1812 results\n"
     ]
    },
    {
     "name": "stdout",
     "output_type": "stream",
     "text": [
      "\n",
      "Checking ios phone-2"
     ]
    },
    {
     "name": "stderr",
     "output_type": "stream",
     "text": [
      "DEBUG:root:curr_query = {'$or': [{'metadata.key': 'background/location'}], 'metadata.write_ts': {'$gte': 1459456368.01, '$lt': 1459471440.045}, 'user_id': UUID('c528bcd2-a88b-3e82-be62-ef4f2396967a')}, sort_key = metadata.write_ts\n",
      "DEBUG:root:Found 16 results\n"
     ]
    },
    {
     "name": "stdout",
     "output_type": "stream",
     "text": [
      "\n",
      "Checking android phone-2"
     ]
    },
    {
     "name": "stderr",
     "output_type": "stream",
     "text": [
      "DEBUG:root:curr_query = {'$or': [{'metadata.key': 'background/location'}], 'metadata.write_ts': {'$gte': 1459456368.01, '$lt': 1459471440.045}, 'user_id': UUID('86842c35-da28-32ed-a90e-2da6663c5c73')}, sort_key = metadata.write_ts\n",
      "DEBUG:root:Found 412 results\n"
     ]
    },
    {
     "name": "stdout",
     "output_type": "stream",
     "text": [
      "\n",
      "Checking ios phone-3"
     ]
    },
    {
     "name": "stderr",
     "output_type": "stream",
     "text": [
      "DEBUG:root:curr_query = {'$or': [{'metadata.key': 'background/location'}], 'metadata.write_ts': {'$gte': 1459456368.01, '$lt': 1459471440.045}, 'user_id': UUID('95e70727-a04e-3e33-b7fe-34ab19194f8b')}, sort_key = metadata.write_ts\n",
      "DEBUG:root:Found 20 results\n"
     ]
    },
    {
     "name": "stdout",
     "output_type": "stream",
     "text": [
      "\n",
      "Checking android phone-3"
     ]
    },
    {
     "name": "stderr",
     "output_type": "stream",
     "text": [
      "DEBUG:root:curr_query = {'$or': [{'metadata.key': 'background/location'}], 'metadata.write_ts': {'$gte': 1459456368.01, '$lt': 1459471440.045}, 'user_id': UUID('3bc0f91f-7660-34a2-b005-5c399598a369')}, sort_key = metadata.write_ts\n",
      "DEBUG:root:Found 301 results\n"
     ]
    },
    {
     "name": "stdout",
     "output_type": "stream",
     "text": [
      "\n",
      "Comparing accuracy for range {'ios_regime': 'best-v-10m+1m-v-30m', 'end_ts': 1459479464.073, 'start_ts': 1459471440.045, 'start_fmt_time': '2016-03-31T17:44:00.045000-07:00', 'android_regime': 'high-v-balanced+1sec-v-30sec', 'state': 'moving', 'end_fmt_time': '2016-03-31T19:57:44.073000-07:00'}"
     ]
    },
    {
     "name": "stderr",
     "output_type": "stream",
     "text": [
      "DEBUG:root:curr_query = {'$or': [{'metadata.key': 'background/location'}], 'metadata.write_ts': {'$gte': 1459471440.045, '$lt': 1459479464.073}, 'user_id': UUID('079e0f1a-c440-3d7c-b0e7-de160f748e35')}, sort_key = metadata.write_ts\n",
      "DEBUG:root:Found 3414 results\n",
      "DEBUG:root:curr_query = {'$or': [{'metadata.key': 'background/location'}], 'metadata.write_ts': {'$gte': 1459471440.045, '$lt': 1459479464.073}, 'user_id': UUID('e471711e-bd14-3dbe-80b6-9c7d92ecc296')}, sort_key = metadata.write_ts\n",
      "DEBUG:root:Found 5957 results\n"
     ]
    },
    {
     "name": "stdout",
     "output_type": "stream",
     "text": [
      "\n",
      "Retained 44.4416749751 percent"
     ]
    },
    {
     "name": "stderr",
     "output_type": "stream",
     "text": [
      "DEBUG:root:curr_query = {'$or': [{'metadata.key': 'background/location'}], 'metadata.write_ts': {'$gte': 1459471440.045, '$lt': 1459479464.073}, 'user_id': UUID('c76a0487-7e5a-3b17-a449-47be666b36f6')}, sort_key = metadata.write_ts\n",
      "DEBUG:root:Found 4590 results\n"
     ]
    },
    {
     "name": "stdout",
     "output_type": "stream",
     "text": [
      "\n",
      "Checking ios phone-1\n",
      "Checking android phone-1"
     ]
    },
    {
     "name": "stderr",
     "output_type": "stream",
     "text": [
      "DEBUG:root:curr_query = {'$or': [{'metadata.key': 'background/location'}], 'metadata.write_ts': {'$gte': 1459471440.045, '$lt': 1459479464.073}, 'user_id': UUID('fd7b4c2e-2c8b-3bfa-94f0-d1e3ecbd5fb7')}, sort_key = metadata.write_ts\n",
      "DEBUG:root:Found 3871 results\n"
     ]
    },
    {
     "name": "stdout",
     "output_type": "stream",
     "text": [
      "\n",
      "Checking ios phone-2"
     ]
    },
    {
     "name": "stderr",
     "output_type": "stream",
     "text": [
      "DEBUG:root:curr_query = {'$or': [{'metadata.key': 'background/location'}], 'metadata.write_ts': {'$gte': 1459471440.045, '$lt': 1459479464.073}, 'user_id': UUID('c528bcd2-a88b-3e82-be62-ef4f2396967a')}, sort_key = metadata.write_ts\n",
      "DEBUG:root:Found 1366 results\n"
     ]
    },
    {
     "name": "stdout",
     "output_type": "stream",
     "text": [
      "\n",
      "Checking android phone-2"
     ]
    },
    {
     "name": "stderr",
     "output_type": "stream",
     "text": [
      "DEBUG:root:curr_query = {'$or': [{'metadata.key': 'background/location'}], 'metadata.write_ts': {'$gte': 1459471440.045, '$lt': 1459479464.073}, 'user_id': UUID('86842c35-da28-32ed-a90e-2da6663c5c73')}, sort_key = metadata.write_ts\n",
      "DEBUG:root:Found 363 results\n"
     ]
    },
    {
     "name": "stdout",
     "output_type": "stream",
     "text": [
      "\n",
      "Checking ios phone-3"
     ]
    },
    {
     "name": "stderr",
     "output_type": "stream",
     "text": [
      "DEBUG:root:curr_query = {'$or': [{'metadata.key': 'background/location'}], 'metadata.write_ts': {'$gte': 1459471440.045, '$lt': 1459479464.073}, 'user_id': UUID('95e70727-a04e-3e33-b7fe-34ab19194f8b')}, sort_key = metadata.write_ts\n",
      "DEBUG:root:Found 1398 results\n"
     ]
    },
    {
     "name": "stdout",
     "output_type": "stream",
     "text": [
      "\n",
      "Checking android phone-3"
     ]
    },
    {
     "name": "stderr",
     "output_type": "stream",
     "text": [
      "DEBUG:root:curr_query = {'$or': [{'metadata.key': 'background/location'}], 'metadata.write_ts': {'$gte': 1459471440.045, '$lt': 1459479464.073}, 'user_id': UUID('3bc0f91f-7660-34a2-b005-5c399598a369')}, sort_key = metadata.write_ts\n",
      "DEBUG:root:Found 268 results\n"
     ]
    },
    {
     "name": "stdout",
     "output_type": "stream",
     "text": [
      "\n",
      "Comparing accuracy for range {'ios_regime': 'best-v-10m+1m-v-30m', 'end_ts': 1459483237.643, 'start_ts': 1459479464.073, 'start_fmt_time': '2016-03-31T19:57:44.073000-07:00', 'android_regime': 'high-v-balanced+1sec-v-30sec', 'state': 'stationary', 'end_fmt_time': '2016-03-31T21:00:37.643000-07:00'}"
     ]
    },
    {
     "name": "stderr",
     "output_type": "stream",
     "text": [
      "DEBUG:root:curr_query = {'$or': [{'metadata.key': 'background/location'}], 'metadata.write_ts': {'$gte': 1459479464.073, '$lt': 1459483237.643}, 'user_id': UUID('079e0f1a-c440-3d7c-b0e7-de160f748e35')}, sort_key = metadata.write_ts\n",
      "DEBUG:root:Found 0 results\n",
      "DEBUG:root:curr_query = {'$or': [{'metadata.key': 'background/location'}], 'metadata.write_ts': {'$gte': 1459479464.073, '$lt': 1459483237.643}, 'user_id': UUID('e471711e-bd14-3dbe-80b6-9c7d92ecc296')}, sort_key = metadata.write_ts\n",
      "DEBUG:root:Found 3764 results\n"
     ]
    },
    {
     "name": "stdout",
     "output_type": "stream",
     "text": [
      "\n",
      "Retained 0 percent"
     ]
    },
    {
     "name": "stderr",
     "output_type": "stream",
     "text": [
      "DEBUG:root:curr_query = {'$or': [{'metadata.key': 'background/location'}], 'metadata.write_ts': {'$gte': 1459530328.89, '$lt': 1459534773.655}, 'user_id': UUID('079e0f1a-c440-3d7c-b0e7-de160f748e35')}, sort_key = metadata.write_ts\n",
      "DEBUG:root:Found 114 results\n",
      "DEBUG:root:curr_query = {'$or': [{'metadata.key': 'background/location'}], 'metadata.write_ts': {'$gte': 1459530328.89, '$lt': 1459534773.655}, 'user_id': UUID('e471711e-bd14-3dbe-80b6-9c7d92ecc296')}, sort_key = metadata.write_ts\n",
      "DEBUG:root:Found 4439 results\n"
     ]
    },
    {
     "name": "stdout",
     "output_type": "stream",
     "text": [
      "\n",
      "Unable to calculate ground truth for row %s, skipping...\n",
      "Comparing accuracy for range {'ios_regime': 'best-v-10m+1m-v-30m', 'end_ts': 1459486837.643, 'start_ts': 1459483237.643, 'start_fmt_time': '2016-03-31T21:00:37.643000-07:00', 'android_regime': 'high-v-balanced+1sec-v-30sec', 'state': 'invalid', 'end_fmt_time': '2016-03-31T22:00:37.643000-07:00'}\n",
      "Comparing accuracy for range {'ios_regime': 'best-v-10m+1m-v-30m', 'end_ts': 1459530328.89, 'start_ts': 1459486837.643, 'start_fmt_time': '2016-03-31T22:00:37.643000-07:00', 'android_regime': 'high-v-balanced+1sec-v-30sec', 'state': 'charging-or-full', 'end_fmt_time': '2016-04-01T10:05:28.890454-07:00'}\n",
      "Comparing accuracy for range {'ios_regime': 'best-v-100m+1m-v-30m', 'end_ts': 1459534773.655, 'start_ts': 1459530328.89, 'start_fmt_time': '2016-04-01T10:05:28.890454-07:00', 'android_regime': 'high-v-balanced+1sec-v-15sec', 'state': 'stationary', 'end_fmt_time': '2016-04-01T11:19:33.655000-07:00'}\n",
      "Retained 99.9325084364 percent"
     ]
    },
    {
     "name": "stderr",
     "output_type": "stream",
     "text": [
      "DEBUG:root:curr_query = {'$or': [{'metadata.key': 'background/location'}], 'metadata.write_ts': {'$gte': 1459530328.89, '$lt': 1459534773.655}, 'user_id': UUID('c76a0487-7e5a-3b17-a449-47be666b36f6')}, sort_key = metadata.write_ts\n",
      "DEBUG:root:Found 51 results\n"
     ]
    },
    {
     "name": "stdout",
     "output_type": "stream",
     "text": [
      "\n",
      "Checking ios phone-1\n",
      "Checking android phone-1"
     ]
    },
    {
     "name": "stderr",
     "output_type": "stream",
     "text": [
      "DEBUG:root:curr_query = {'$or': [{'metadata.key': 'background/location'}], 'metadata.write_ts': {'$gte': 1459530328.89, '$lt': 1459534773.655}, 'user_id': UUID('fd7b4c2e-2c8b-3bfa-94f0-d1e3ecbd5fb7')}, sort_key = metadata.write_ts\n",
      "DEBUG:root:Found 4271 results\n"
     ]
    },
    {
     "name": "stdout",
     "output_type": "stream",
     "text": [
      "\n",
      "Checking ios phone-2"
     ]
    },
    {
     "name": "stderr",
     "output_type": "stream",
     "text": [
      "DEBUG:root:curr_query = {'$or': [{'metadata.key': 'background/location'}], 'metadata.write_ts': {'$gte': 1459530328.89, '$lt': 1459534773.655}, 'user_id': UUID('c528bcd2-a88b-3e82-be62-ef4f2396967a')}, sort_key = metadata.write_ts\n",
      "DEBUG:root:Found 11 results\n"
     ]
    },
    {
     "name": "stdout",
     "output_type": "stream",
     "text": [
      "\n",
      "Checking android phone-2"
     ]
    },
    {
     "name": "stderr",
     "output_type": "stream",
     "text": [
      "DEBUG:root:curr_query = {'$or': [{'metadata.key': 'background/location'}], 'metadata.write_ts': {'$gte': 1459530328.89, '$lt': 1459534773.655}, 'user_id': UUID('86842c35-da28-32ed-a90e-2da6663c5c73')}, sort_key = metadata.write_ts\n",
      "DEBUG:root:Found 308 results\n"
     ]
    },
    {
     "name": "stdout",
     "output_type": "stream",
     "text": [
      "\n",
      "Checking ios phone-3"
     ]
    },
    {
     "name": "stderr",
     "output_type": "stream",
     "text": [
      "DEBUG:root:curr_query = {'$or': [{'metadata.key': 'background/location'}], 'metadata.write_ts': {'$gte': 1459530328.89, '$lt': 1459534773.655}, 'user_id': UUID('95e70727-a04e-3e33-b7fe-34ab19194f8b')}, sort_key = metadata.write_ts\n",
      "DEBUG:root:Found 27 results\n"
     ]
    },
    {
     "name": "stdout",
     "output_type": "stream",
     "text": [
      "\n",
      "Checking android phone-3"
     ]
    },
    {
     "name": "stderr",
     "output_type": "stream",
     "text": [
      "DEBUG:root:curr_query = {'$or': [{'metadata.key': 'background/location'}], 'metadata.write_ts': {'$gte': 1459530328.89, '$lt': 1459534773.655}, 'user_id': UUID('3bc0f91f-7660-34a2-b005-5c399598a369')}, sort_key = metadata.write_ts\n",
      "DEBUG:root:Found 296 results\n"
     ]
    },
    {
     "name": "stdout",
     "output_type": "stream",
     "text": [
      "\n",
      "Comparing accuracy for range {'ios_regime': 'best-v-100m+1m-v-30m', 'end_ts': 1459542662.998, 'start_ts': 1459534773.655, 'start_fmt_time': '2016-04-01T11:19:33.655000-07:00', 'android_regime': 'high-v-balanced+1sec-v-15sec', 'state': 'moving', 'end_fmt_time': '2016-04-01T13:31:02.998000-07:00'}"
     ]
    },
    {
     "name": "stderr",
     "output_type": "stream",
     "text": [
      "DEBUG:root:curr_query = {'$or': [{'metadata.key': 'background/location'}], 'metadata.write_ts': {'$gte': 1459534773.655, '$lt': 1459542662.998}, 'user_id': UUID('079e0f1a-c440-3d7c-b0e7-de160f748e35')}, sort_key = metadata.write_ts\n",
      "DEBUG:root:Found 4396 results\n",
      "DEBUG:root:curr_query = {'$or': [{'metadata.key': 'background/location'}], 'metadata.write_ts': {'$gte': 1459534773.655, '$lt': 1459542662.998}, 'user_id': UUID('e471711e-bd14-3dbe-80b6-9c7d92ecc296')}, sort_key = metadata.write_ts\n",
      "DEBUG:root:Found 6007 results\n"
     ]
    },
    {
     "name": "stdout",
     "output_type": "stream",
     "text": [
      "\n",
      "Retained 70.1736595259 percent"
     ]
    },
    {
     "name": "stderr",
     "output_type": "stream",
     "text": [
      "DEBUG:root:curr_query = {'$or': [{'metadata.key': 'background/location'}], 'metadata.write_ts': {'$gte': 1459534773.655, '$lt': 1459542662.998}, 'user_id': UUID('c76a0487-7e5a-3b17-a449-47be666b36f6')}, sort_key = metadata.write_ts\n",
      "DEBUG:root:Found 929 results\n"
     ]
    },
    {
     "name": "stdout",
     "output_type": "stream",
     "text": [
      "\n",
      "Checking ios phone-1\n",
      "Checking android phone-1"
     ]
    },
    {
     "name": "stderr",
     "output_type": "stream",
     "text": [
      "DEBUG:root:curr_query = {'$or': [{'metadata.key': 'background/location'}], 'metadata.write_ts': {'$gte': 1459534773.655, '$lt': 1459542662.998}, 'user_id': UUID('fd7b4c2e-2c8b-3bfa-94f0-d1e3ecbd5fb7')}, sort_key = metadata.write_ts\n",
      "DEBUG:root:Found 4374 results\n"
     ]
    },
    {
     "name": "stdout",
     "output_type": "stream",
     "text": [
      "\n",
      "Checking ios phone-2"
     ]
    },
    {
     "name": "stderr",
     "output_type": "stream",
     "text": [
      "DEBUG:root:curr_query = {'$or': [{'metadata.key': 'background/location'}], 'metadata.write_ts': {'$gte': 1459534773.655, '$lt': 1459542662.998}, 'user_id': UUID('c528bcd2-a88b-3e82-be62-ef4f2396967a')}, sort_key = metadata.write_ts\n",
      "DEBUG:root:Found 1409 results\n"
     ]
    },
    {
     "name": "stdout",
     "output_type": "stream",
     "text": [
      "\n",
      "Checking android phone-2"
     ]
    },
    {
     "name": "stderr",
     "output_type": "stream",
     "text": [
      "DEBUG:root:curr_query = {'$or': [{'metadata.key': 'background/location'}], 'metadata.write_ts': {'$gte': 1459534773.655, '$lt': 1459542662.998}, 'user_id': UUID('86842c35-da28-32ed-a90e-2da6663c5c73')}, sort_key = metadata.write_ts\n",
      "DEBUG:root:Found 622 results\n"
     ]
    },
    {
     "name": "stdout",
     "output_type": "stream",
     "text": [
      "\n",
      "Checking ios phone-3"
     ]
    },
    {
     "name": "stderr",
     "output_type": "stream",
     "text": [
      "DEBUG:root:curr_query = {'$or': [{'metadata.key': 'background/location'}], 'metadata.write_ts': {'$gte': 1459534773.655, '$lt': 1459542662.998}, 'user_id': UUID('95e70727-a04e-3e33-b7fe-34ab19194f8b')}, sort_key = metadata.write_ts\n",
      "DEBUG:root:Found 553 results\n"
     ]
    },
    {
     "name": "stdout",
     "output_type": "stream",
     "text": [
      "\n",
      "Checking android phone-3"
     ]
    },
    {
     "name": "stderr",
     "output_type": "stream",
     "text": [
      "DEBUG:root:curr_query = {'$or': [{'metadata.key': 'background/location'}], 'metadata.write_ts': {'$gte': 1459534773.655, '$lt': 1459542662.998}, 'user_id': UUID('3bc0f91f-7660-34a2-b005-5c399598a369')}, sort_key = metadata.write_ts\n",
      "DEBUG:root:Found 450 results\n"
     ]
    },
    {
     "name": "stdout",
     "output_type": "stream",
     "text": [
      "\n",
      "Comparing accuracy for range {'ios_regime': 'best-v-100m+1m-v-30m', 'end_ts': 1459558085.806, 'start_ts': 1459541675.6020002, 'start_fmt_time': '2016-04-01T13:14:35.602000-07:00', 'android_regime': 'high-v-balanced+1sec-v-15sec', 'state': 'loitering', 'end_fmt_time': '2016-04-01T17:48:05.806000-07:00'}"
     ]
    },
    {
     "name": "stderr",
     "output_type": "stream",
     "text": [
      "DEBUG:root:curr_query = {'$or': [{'metadata.key': 'background/location'}], 'metadata.write_ts': {'$gte': 1459541675.6020002, '$lt': 1459558085.806}, 'user_id': UUID('079e0f1a-c440-3d7c-b0e7-de160f748e35')}, sort_key = metadata.write_ts\n",
      "DEBUG:root:Found 1963 results\n",
      "DEBUG:root:curr_query = {'$or': [{'metadata.key': 'background/location'}], 'metadata.write_ts': {'$gte': 1459541675.6020002, '$lt': 1459558085.806}, 'user_id': UUID('e471711e-bd14-3dbe-80b6-9c7d92ecc296')}, sort_key = metadata.write_ts\n",
      "DEBUG:root:Found 7895 results\n"
     ]
    },
    {
     "name": "stdout",
     "output_type": "stream",
     "text": [
      "\n",
      "Retained 82.9494210847 percent"
     ]
    },
    {
     "name": "stderr",
     "output_type": "stream",
     "text": [
      "DEBUG:root:curr_query = {'$or': [{'metadata.key': 'background/location'}], 'metadata.write_ts': {'$gte': 1459541675.6020002, '$lt': 1459558085.806}, 'user_id': UUID('c76a0487-7e5a-3b17-a449-47be666b36f6')}, sort_key = metadata.write_ts\n",
      "DEBUG:root:Found 960 results\n"
     ]
    },
    {
     "name": "stdout",
     "output_type": "stream",
     "text": [
      "\n",
      "Checking ios phone-1\n",
      "Checking android phone-1"
     ]
    },
    {
     "name": "stderr",
     "output_type": "stream",
     "text": [
      "DEBUG:root:curr_query = {'$or': [{'metadata.key': 'background/location'}], 'metadata.write_ts': {'$gte': 1459541675.6020002, '$lt': 1459558085.806}, 'user_id': UUID('fd7b4c2e-2c8b-3bfa-94f0-d1e3ecbd5fb7')}, sort_key = metadata.write_ts\n",
      "DEBUG:root:Found 3178 results\n"
     ]
    },
    {
     "name": "stdout",
     "output_type": "stream",
     "text": [
      "\n",
      "Checking ios phone-2"
     ]
    },
    {
     "name": "stderr",
     "output_type": "stream",
     "text": [
      "DEBUG:root:curr_query = {'$or': [{'metadata.key': 'background/location'}], 'metadata.write_ts': {'$gte': 1459541675.6020002, '$lt': 1459558085.806}, 'user_id': UUID('c528bcd2-a88b-3e82-be62-ef4f2396967a')}, sort_key = metadata.write_ts\n",
      "DEBUG:root:Found 66 results\n"
     ]
    },
    {
     "name": "stdout",
     "output_type": "stream",
     "text": [
      "\n",
      "Checking android phone-2"
     ]
    },
    {
     "name": "stderr",
     "output_type": "stream",
     "text": [
      "DEBUG:root:curr_query = {'$or': [{'metadata.key': 'background/location'}], 'metadata.write_ts': {'$gte': 1459541675.6020002, '$lt': 1459558085.806}, 'user_id': UUID('86842c35-da28-32ed-a90e-2da6663c5c73')}, sort_key = metadata.write_ts\n",
      "DEBUG:root:Found 1183 results\n"
     ]
    },
    {
     "name": "stdout",
     "output_type": "stream",
     "text": [
      "\n",
      "Checking ios phone-3"
     ]
    },
    {
     "name": "stderr",
     "output_type": "stream",
     "text": [
      "DEBUG:root:curr_query = {'$or': [{'metadata.key': 'background/location'}], 'metadata.write_ts': {'$gte': 1459541675.6020002, '$lt': 1459558085.806}, 'user_id': UUID('95e70727-a04e-3e33-b7fe-34ab19194f8b')}, sort_key = metadata.write_ts\n",
      "DEBUG:root:Found 74 results\n"
     ]
    },
    {
     "name": "stdout",
     "output_type": "stream",
     "text": [
      "\n",
      "Checking android phone-3"
     ]
    },
    {
     "name": "stderr",
     "output_type": "stream",
     "text": [
      "DEBUG:root:curr_query = {'$or': [{'metadata.key': 'background/location'}], 'metadata.write_ts': {'$gte': 1459541675.6020002, '$lt': 1459558085.806}, 'user_id': UUID('3bc0f91f-7660-34a2-b005-5c399598a369')}, sort_key = metadata.write_ts\n",
      "DEBUG:root:Found 990 results\n"
     ]
    },
    {
     "name": "stdout",
     "output_type": "stream",
     "text": [
      "\n",
      "Comparing accuracy for range {'ios_regime': 'best-v-100m+1m-v-30m', 'end_ts': 1459565397.554, 'start_ts': 1459558085.806, 'start_fmt_time': '2016-04-01T17:48:05.806000-07:00', 'android_regime': 'high-v-balanced+1sec-v-15sec', 'state': 'moving', 'end_fmt_time': '2016-04-01T19:49:57.554000-07:00'}"
     ]
    },
    {
     "name": "stderr",
     "output_type": "stream",
     "text": [
      "DEBUG:root:curr_query = {'$or': [{'metadata.key': 'background/location'}], 'metadata.write_ts': {'$gte': 1459558085.806, '$lt': 1459565397.554}, 'user_id': UUID('079e0f1a-c440-3d7c-b0e7-de160f748e35')}, sort_key = metadata.write_ts\n",
      "DEBUG:root:Found 2859 results\n",
      "DEBUG:root:curr_query = {'$or': [{'metadata.key': 'background/location'}], 'metadata.write_ts': {'$gte': 1459558085.806, '$lt': 1459565397.554}, 'user_id': UUID('e471711e-bd14-3dbe-80b6-9c7d92ecc296')}, sort_key = metadata.write_ts\n",
      "DEBUG:root:Found 5092 results\n"
     ]
    },
    {
     "name": "stdout",
     "output_type": "stream",
     "text": [
      "\n",
      "Retained 40.8233041575 percent"
     ]
    },
    {
     "name": "stderr",
     "output_type": "stream",
     "text": [
      "DEBUG:root:curr_query = {'$or': [{'metadata.key': 'background/location'}], 'metadata.write_ts': {'$gte': 1459558085.806, '$lt': 1459565397.554}, 'user_id': UUID('c76a0487-7e5a-3b17-a449-47be666b36f6')}, sort_key = metadata.write_ts\n",
      "DEBUG:root:Found 757 results\n"
     ]
    },
    {
     "name": "stdout",
     "output_type": "stream",
     "text": [
      "\n",
      "Checking ios phone-1\n",
      "Checking android phone-1"
     ]
    },
    {
     "name": "stderr",
     "output_type": "stream",
     "text": [
      "DEBUG:root:curr_query = {'$or': [{'metadata.key': 'background/location'}], 'metadata.write_ts': {'$gte': 1459558085.806, '$lt': 1459565397.554}, 'user_id': UUID('fd7b4c2e-2c8b-3bfa-94f0-d1e3ecbd5fb7')}, sort_key = metadata.write_ts\n",
      "DEBUG:root:Found 4189 results\n"
     ]
    },
    {
     "name": "stdout",
     "output_type": "stream",
     "text": [
      "\n",
      "Checking ios phone-2"
     ]
    },
    {
     "name": "stderr",
     "output_type": "stream",
     "text": [
      "DEBUG:root:curr_query = {'$or': [{'metadata.key': 'background/location'}], 'metadata.write_ts': {'$gte': 1459558085.806, '$lt': 1459565397.554}, 'user_id': UUID('c528bcd2-a88b-3e82-be62-ef4f2396967a')}, sort_key = metadata.write_ts\n",
      "DEBUG:root:Found 1351 results\n"
     ]
    },
    {
     "name": "stdout",
     "output_type": "stream",
     "text": [
      "\n",
      "Checking android phone-2"
     ]
    },
    {
     "name": "stderr",
     "output_type": "stream",
     "text": [
      "DEBUG:root:curr_query = {'$or': [{'metadata.key': 'background/location'}], 'metadata.write_ts': {'$gte': 1459558085.806, '$lt': 1459565397.554}, 'user_id': UUID('86842c35-da28-32ed-a90e-2da6663c5c73')}, sort_key = metadata.write_ts\n",
      "DEBUG:root:Found 582 results\n"
     ]
    },
    {
     "name": "stdout",
     "output_type": "stream",
     "text": [
      "\n",
      "Checking ios phone-3"
     ]
    },
    {
     "name": "stderr",
     "output_type": "stream",
     "text": [
      "DEBUG:root:curr_query = {'$or': [{'metadata.key': 'background/location'}], 'metadata.write_ts': {'$gte': 1459558085.806, '$lt': 1459565397.554}, 'user_id': UUID('95e70727-a04e-3e33-b7fe-34ab19194f8b')}, sort_key = metadata.write_ts\n",
      "DEBUG:root:Found 480 results\n"
     ]
    },
    {
     "name": "stdout",
     "output_type": "stream",
     "text": [
      "\n",
      "Checking android phone-3"
     ]
    },
    {
     "name": "stderr",
     "output_type": "stream",
     "text": [
      "DEBUG:root:curr_query = {'$or': [{'metadata.key': 'background/location'}], 'metadata.write_ts': {'$gte': 1459558085.806, '$lt': 1459565397.554}, 'user_id': UUID('3bc0f91f-7660-34a2-b005-5c399598a369')}, sort_key = metadata.write_ts\n",
      "DEBUG:root:Found 433 results\n"
     ]
    },
    {
     "name": "stdout",
     "output_type": "stream",
     "text": [
      "\n",
      "Comparing accuracy for range {'ios_regime': 'best-v-100m+1m-v-30m', 'end_ts': 1459591057.7529998, 'start_ts': 1459565397.554, 'start_fmt_time': '2016-04-01T19:49:57.554000-07:00', 'android_regime': 'high-v-balanced+1sec-v-15sec', 'state': 'stationary', 'end_fmt_time': '2016-04-02T02:57:37.753000-07:00'}"
     ]
    },
    {
     "name": "stderr",
     "output_type": "stream",
     "text": [
      "DEBUG:root:curr_query = {'$or': [{'metadata.key': 'background/location'}], 'metadata.write_ts': {'$gte': 1459565397.554, '$lt': 1459591057.7529998}, 'user_id': UUID('079e0f1a-c440-3d7c-b0e7-de160f748e35')}, sort_key = metadata.write_ts\n",
      "DEBUG:root:Found 18 results\n",
      "DEBUG:root:curr_query = {'$or': [{'metadata.key': 'background/location'}], 'metadata.write_ts': {'$gte': 1459565397.554, '$lt': 1459591057.7529998}, 'user_id': UUID('e471711e-bd14-3dbe-80b6-9c7d92ecc296')}, sort_key = metadata.write_ts\n",
      "DEBUG:root:Found 25642 results\n"
     ]
    },
    {
     "name": "stdout",
     "output_type": "stream",
     "text": [
      "\n",
      "Retained 16.9446609509 percent"
     ]
    },
    {
     "name": "stderr",
     "output_type": "stream",
     "text": [
      "DEBUG:root:curr_query = {'$or': [{'metadata.key': 'background/location'}], 'metadata.write_ts': {'$gte': 1459565397.554, '$lt': 1459591057.7529998}, 'user_id': UUID('c76a0487-7e5a-3b17-a449-47be666b36f6')}, sort_key = metadata.write_ts\n",
      "DEBUG:root:Found 221 results\n"
     ]
    },
    {
     "name": "stdout",
     "output_type": "stream",
     "text": [
      "\n",
      "Checking ios phone-1\n",
      "Checking android phone-1"
     ]
    },
    {
     "name": "stderr",
     "output_type": "stream",
     "text": [
      "DEBUG:root:curr_query = {'$or': [{'metadata.key': 'background/location'}], 'metadata.write_ts': {'$gte': 1459565397.554, '$lt': 1459591057.7529998}, 'user_id': UUID('fd7b4c2e-2c8b-3bfa-94f0-d1e3ecbd5fb7')}, sort_key = metadata.write_ts\n",
      "DEBUG:root:Found 534 results\n"
     ]
    },
    {
     "name": "stdout",
     "output_type": "stream",
     "text": [
      "\n",
      "Checking ios phone-2"
     ]
    },
    {
     "name": "stderr",
     "output_type": "stream",
     "text": [
      "DEBUG:root:curr_query = {'$or': [{'metadata.key': 'background/location'}], 'metadata.write_ts': {'$gte': 1459565397.554, '$lt': 1459591057.7529998}, 'user_id': UUID('c528bcd2-a88b-3e82-be62-ef4f2396967a')}, sort_key = metadata.write_ts\n",
      "DEBUG:root:Found 0 results\n"
     ]
    },
    {
     "name": "stdout",
     "output_type": "stream",
     "text": [
      "\n",
      "Checking android phone-2"
     ]
    },
    {
     "name": "stderr",
     "output_type": "stream",
     "text": [
      "DEBUG:root:curr_query = {'$or': [{'metadata.key': 'background/location'}], 'metadata.write_ts': {'$gte': 1459565397.554, '$lt': 1459591057.7529998}, 'user_id': UUID('86842c35-da28-32ed-a90e-2da6663c5c73')}, sort_key = metadata.write_ts\n",
      "DEBUG:root:Found 1715 results\n"
     ]
    },
    {
     "name": "stdout",
     "output_type": "stream",
     "text": [
      "\n",
      "Skipping entry for phone-2 because len(ios_raw_df) = 0 and len(android_raw_df) = 1715"
     ]
    },
    {
     "name": "stderr",
     "output_type": "stream",
     "text": [
      "DEBUG:root:curr_query = {'$or': [{'metadata.key': 'background/location'}], 'metadata.write_ts': {'$gte': 1459565397.554, '$lt': 1459591057.7529998}, 'user_id': UUID('95e70727-a04e-3e33-b7fe-34ab19194f8b')}, sort_key = metadata.write_ts\n",
      "DEBUG:root:Found 208 results\n"
     ]
    },
    {
     "name": "stdout",
     "output_type": "stream",
     "text": [
      "\n",
      "Checking ios phone-3\n",
      "Checking android phone-3"
     ]
    },
    {
     "name": "stderr",
     "output_type": "stream",
     "text": [
      "DEBUG:root:curr_query = {'$or': [{'metadata.key': 'background/location'}], 'metadata.write_ts': {'$gte': 1459565397.554, '$lt': 1459591057.7529998}, 'user_id': UUID('3bc0f91f-7660-34a2-b005-5c399598a369')}, sort_key = metadata.write_ts\n",
      "DEBUG:root:Found 265 results\n"
     ]
    },
    {
     "name": "stdout",
     "output_type": "stream",
     "text": [
      "\n",
      "Comparing accuracy for range {'ios_regime': 'best-v-100m+1m-v-30m', 'end_ts': 1459609057.7529998, 'start_ts': 1459591057.7529998, 'start_fmt_time': '2016-04-02T02:57:37.753000-07:00', 'android_regime': 'high-v-balanced+1sec-v-15sec', 'state': 'invalid', 'end_fmt_time': '2016-04-02T07:57:37.753000-07:00'}"
     ]
    },
    {
     "name": "stderr",
     "output_type": "stream",
     "text": [
      "DEBUG:root:curr_query = {'$or': [{'metadata.key': 'background/location'}], 'metadata.write_ts': {'$gte': 1459644463.7910001, '$lt': 1459720835.359}, 'user_id': UUID('079e0f1a-c440-3d7c-b0e7-de160f748e35')}, sort_key = metadata.write_ts\n",
      "DEBUG:root:Found 0 results\n",
      "DEBUG:root:curr_query = {'$or': [{'metadata.key': 'background/location'}], 'metadata.write_ts': {'$gte': 1459644463.7910001, '$lt': 1459720835.359}, 'user_id': UUID('e471711e-bd14-3dbe-80b6-9c7d92ecc296')}, sort_key = metadata.write_ts\n",
      "DEBUG:root:Found 0 results\n",
      "DEBUG:root:curr_query = {'$or': [{'metadata.key': 'background/location'}], 'metadata.write_ts': {'$gte': 1459729109.9320002, '$lt': 1459789230.0}, 'user_id': UUID('079e0f1a-c440-3d7c-b0e7-de160f748e35')}, sort_key = metadata.write_ts\n",
      "DEBUG:root:Found 11 results\n",
      "DEBUG:root:curr_query = {'$or': [{'metadata.key': 'background/location'}], 'metadata.write_ts': {'$gte': 1459729109.9320002, '$lt': 1459789230.0}, 'user_id': UUID('e471711e-bd14-3dbe-80b6-9c7d92ecc296')}, sort_key = metadata.write_ts\n",
      "DEBUG:root:Found 60072 results\n"
     ]
    },
    {
     "name": "stdout",
     "output_type": "stream",
     "text": [
      "\n",
      "Comparing accuracy for range {'ios_regime': 'tracking-off', 'end_ts': 1459644463.7910001, 'start_ts': 1459609057.7529998, 'start_fmt_time': '2016-04-02T07:57:37.753000-07:00', 'android_regime': 'tracking-off', 'state': 'charging', 'end_fmt_time': '2016-04-02T17:47:43.791000-07:00'}\n",
      "Comparing accuracy for range {'ios_regime': 'tracking-off', 'end_ts': 1459720835.359, 'start_ts': 1459644463.7910001, 'start_fmt_time': '2016-04-02T17:47:43.791000-07:00', 'android_regime': 'tracking-off', 'state': 'stationary', 'end_fmt_time': '2016-04-03T15:00:35.358757-07:00'}\n",
      "Retained 0 percent\n",
      "Unable to calculate ground truth for row %s, skipping...\n",
      "Comparing accuracy for range {'ios_regime': 'tracking-off', 'end_ts': 1459729109.9320002, 'start_ts': 1459720835.359, 'start_fmt_time': '2016-04-03T15:00:35.358757-07:00', 'android_regime': 'tracking-off', 'state': 'charging', 'end_fmt_time': '2016-04-03T17:18:29.931541-07:00'}\n",
      "Comparing accuracy for range {'ios_regime': 'best-v-100m+1m-v-30m', 'end_ts': 1459789230.0, 'start_ts': 1459729109.9320002, 'start_fmt_time': '2016-04-03T17:18:29.931541-07:00', 'android_regime': 'high-v-balanced+1sec-v-15sec', 'state': 'stationary', 'end_fmt_time': '2016-04-04T10:02:13.321972-07:00'}\n",
      "Retained 44.6948653549 percent"
     ]
    },
    {
     "name": "stderr",
     "output_type": "stream",
     "text": [
      "DEBUG:root:curr_query = {'$or': [{'metadata.key': 'background/location'}], 'metadata.write_ts': {'$gte': 1459729109.9320002, '$lt': 1459789230.0}, 'user_id': UUID('c76a0487-7e5a-3b17-a449-47be666b36f6')}, sort_key = metadata.write_ts\n",
      "DEBUG:root:Found 391 results\n"
     ]
    },
    {
     "name": "stdout",
     "output_type": "stream",
     "text": [
      "\n",
      "Checking ios phone-1\n",
      "Checking android phone-1"
     ]
    },
    {
     "name": "stderr",
     "output_type": "stream",
     "text": [
      "DEBUG:root:curr_query = {'$or': [{'metadata.key': 'background/location'}], 'metadata.write_ts': {'$gte': 1459729109.9320002, '$lt': 1459789230.0}, 'user_id': UUID('fd7b4c2e-2c8b-3bfa-94f0-d1e3ecbd5fb7')}, sort_key = metadata.write_ts\n",
      "DEBUG:root:Found 1011 results\n"
     ]
    },
    {
     "name": "stdout",
     "output_type": "stream",
     "text": [
      "\n",
      "Checking ios phone-2"
     ]
    },
    {
     "name": "stderr",
     "output_type": "stream",
     "text": [
      "DEBUG:root:curr_query = {'$or': [{'metadata.key': 'background/location'}], 'metadata.write_ts': {'$gte': 1459729109.9320002, '$lt': 1459789230.0}, 'user_id': UUID('c528bcd2-a88b-3e82-be62-ef4f2396967a')}, sort_key = metadata.write_ts\n",
      "DEBUG:root:Found 6 results\n"
     ]
    },
    {
     "name": "stdout",
     "output_type": "stream",
     "text": [
      "\n",
      "Checking android phone-2"
     ]
    },
    {
     "name": "stderr",
     "output_type": "stream",
     "text": [
      "DEBUG:root:curr_query = {'$or': [{'metadata.key': 'background/location'}], 'metadata.write_ts': {'$gte': 1459729109.9320002, '$lt': 1459789230.0}, 'user_id': UUID('86842c35-da28-32ed-a90e-2da6663c5c73')}, sort_key = metadata.write_ts\n",
      "DEBUG:root:Found 4023 results\n"
     ]
    },
    {
     "name": "stdout",
     "output_type": "stream",
     "text": [
      "\n",
      "Checking ios phone-3"
     ]
    },
    {
     "name": "stderr",
     "output_type": "stream",
     "text": [
      "DEBUG:root:curr_query = {'$or': [{'metadata.key': 'background/location'}], 'metadata.write_ts': {'$gte': 1459729109.9320002, '$lt': 1459789230.0}, 'user_id': UUID('95e70727-a04e-3e33-b7fe-34ab19194f8b')}, sort_key = metadata.write_ts\n",
      "DEBUG:root:Found 420 results\n"
     ]
    },
    {
     "name": "stdout",
     "output_type": "stream",
     "text": [
      "\n",
      "Checking android phone-3"
     ]
    },
    {
     "name": "stderr",
     "output_type": "stream",
     "text": [
      "DEBUG:root:curr_query = {'$or': [{'metadata.key': 'background/location'}], 'metadata.write_ts': {'$gte': 1459729109.9320002, '$lt': 1459789230.0}, 'user_id': UUID('3bc0f91f-7660-34a2-b005-5c399598a369')}, sort_key = metadata.write_ts\n",
      "DEBUG:root:Found 383 results\n"
     ]
    },
    {
     "name": "stdout",
     "output_type": "stream",
     "text": [
      "\n",
      "Comparing accuracy for range {'ios_regime': 'tracking-off', 'end_ts': 1459799901.0, 'start_ts': 1459789230.0, 'start_fmt_time': '2016-04-04T10:02:13.321972-07:00', 'android_regime': 'tracking-off', 'state': 'charging', 'end_fmt_time': '2016-04-04T12:59:12.753874-07:00'}"
     ]
    },
    {
     "name": "stderr",
     "output_type": "stream",
     "text": [
      "DEBUG:root:curr_query = {'$or': [{'metadata.key': 'background/location'}], 'metadata.write_ts': {'$gte': 1459799901.0, '$lt': 1459832671.0}, 'user_id': UUID('079e0f1a-c440-3d7c-b0e7-de160f748e35')}, sort_key = metadata.write_ts\n",
      "DEBUG:root:Found 1335 results\n",
      "DEBUG:root:curr_query = {'$or': [{'metadata.key': 'background/location'}], 'metadata.write_ts': {'$gte': 1459799901.0, '$lt': 1459832671.0}, 'user_id': UUID('e471711e-bd14-3dbe-80b6-9c7d92ecc296')}, sort_key = metadata.write_ts\n",
      "DEBUG:root:Found 32359 results\n"
     ]
    },
    {
     "name": "stdout",
     "output_type": "stream",
     "text": [
      "\n",
      "Comparing accuracy for range {'ios_regime': 'best+1m', 'end_ts': 1459832671.0, 'start_ts': 1459799901.0, 'start_fmt_time': '2016-04-04T12:59:12.753874-07:00', 'android_regime': 'high+1sec', 'state': 'loitering', 'end_fmt_time': '2016-04-04T22:05:02.444129'}\n",
      "Retained 97.8181263351 percent"
     ]
    },
    {
     "name": "stderr",
     "output_type": "stream",
     "text": [
      "DEBUG:root:curr_query = {'$or': [{'metadata.key': 'background/location'}], 'metadata.write_ts': {'$gte': 1459799901.0, '$lt': 1459832671.0}, 'user_id': UUID('c76a0487-7e5a-3b17-a449-47be666b36f6')}, sort_key = metadata.write_ts\n",
      "DEBUG:root:Found 1259 results\n"
     ]
    },
    {
     "name": "stdout",
     "output_type": "stream",
     "text": [
      "\n",
      "Checking ios phone-1\n",
      "Checking android phone-1"
     ]
    },
    {
     "name": "stderr",
     "output_type": "stream",
     "text": [
      "DEBUG:root:curr_query = {'$or': [{'metadata.key': 'background/location'}], 'metadata.write_ts': {'$gte': 1459799901.0, '$lt': 1459832671.0}, 'user_id': UUID('fd7b4c2e-2c8b-3bfa-94f0-d1e3ecbd5fb7')}, sort_key = metadata.write_ts\n",
      "DEBUG:root:Found 32250 results\n"
     ]
    },
    {
     "name": "stdout",
     "output_type": "stream",
     "text": [
      "\n",
      "Checking ios phone-2"
     ]
    },
    {
     "name": "stderr",
     "output_type": "stream",
     "text": [
      "DEBUG:root:curr_query = {'$or': [{'metadata.key': 'background/location'}], 'metadata.write_ts': {'$gte': 1459799901.0, '$lt': 1459832671.0}, 'user_id': UUID('c528bcd2-a88b-3e82-be62-ef4f2396967a')}, sort_key = metadata.write_ts\n",
      "DEBUG:root:Found 910 results\n"
     ]
    },
    {
     "name": "stdout",
     "output_type": "stream",
     "text": [
      "\n",
      "Checking android phone-2"
     ]
    },
    {
     "name": "stderr",
     "output_type": "stream",
     "text": [
      "DEBUG:root:curr_query = {'$or': [{'metadata.key': 'background/location'}], 'metadata.write_ts': {'$gte': 1459799901.0, '$lt': 1459832671.0}, 'user_id': UUID('86842c35-da28-32ed-a90e-2da6663c5c73')}, sort_key = metadata.write_ts\n",
      "DEBUG:root:Found 31849 results\n"
     ]
    },
    {
     "name": "stdout",
     "output_type": "stream",
     "text": [
      "\n",
      "Checking ios phone-3"
     ]
    },
    {
     "name": "stderr",
     "output_type": "stream",
     "text": [
      "DEBUG:root:curr_query = {'$or': [{'metadata.key': 'background/location'}], 'metadata.write_ts': {'$gte': 1459799901.0, '$lt': 1459832671.0}, 'user_id': UUID('95e70727-a04e-3e33-b7fe-34ab19194f8b')}, sort_key = metadata.write_ts\n",
      "DEBUG:root:Found 828 results\n"
     ]
    },
    {
     "name": "stdout",
     "output_type": "stream",
     "text": [
      "\n",
      "Checking android phone-3"
     ]
    },
    {
     "name": "stderr",
     "output_type": "stream",
     "text": [
      "DEBUG:root:curr_query = {'$or': [{'metadata.key': 'background/location'}], 'metadata.write_ts': {'$gte': 1459799901.0, '$lt': 1459832671.0}, 'user_id': UUID('3bc0f91f-7660-34a2-b005-5c399598a369')}, sort_key = metadata.write_ts\n",
      "DEBUG:root:Found 32198 results\n"
     ]
    },
    {
     "name": "stdout",
     "output_type": "stream",
     "text": [
      "\n",
      "Comparing accuracy for range {'ios_regime': 'tracking-off', 'end_ts': 1459866015.0, 'start_ts': 1459832671.0, 'start_fmt_time': '2016-04-04T22:05:02.444129', 'android_regime': 'tracking-off', 'state': 'charging', 'end_fmt_time': '2016-04-05T07:20:38.395970-07:00'}"
     ]
    },
    {
     "name": "stderr",
     "output_type": "stream",
     "text": [
      "DEBUG:root:curr_query = {'$or': [{'metadata.key': 'background/location'}], 'metadata.write_ts': {'$gte': 1459866015.0, '$lt': 1459867837.141}, 'user_id': UUID('079e0f1a-c440-3d7c-b0e7-de160f748e35')}, sort_key = metadata.write_ts\n",
      "DEBUG:root:Found 103 results\n",
      "DEBUG:root:curr_query = {'$or': [{'metadata.key': 'background/location'}], 'metadata.write_ts': {'$gte': 1459866015.0, '$lt': 1459867837.141}, 'user_id': UUID('e471711e-bd14-3dbe-80b6-9c7d92ecc296')}, sort_key = metadata.write_ts\n",
      "DEBUG:root:Found 1440 results\n"
     ]
    },
    {
     "name": "stdout",
     "output_type": "stream",
     "text": [
      "\n",
      "Comparing accuracy for range {'ios_regime': 'best-v-10m+1m-v-30m', 'end_ts': 1459867837.141, 'start_ts': 1459866015.0, 'start_fmt_time': '2016-04-05T07:20:38.395970-07:00', 'android_regime': 'high-v-balanced+1sec-v-30sec', 'state': 'stationary', 'end_fmt_time': '2016-04-05T07:50:37.141000-07:00'}\n",
      "Retained 80.3512623491 percent"
     ]
    },
    {
     "name": "stderr",
     "output_type": "stream",
     "text": [
      "DEBUG:root:curr_query = {'$or': [{'metadata.key': 'background/location'}], 'metadata.write_ts': {'$gte': 1459866015.0, '$lt': 1459867837.141}, 'user_id': UUID('c76a0487-7e5a-3b17-a449-47be666b36f6')}, sort_key = metadata.write_ts\n",
      "DEBUG:root:Found 145 results\n",
      "DEBUG:root:curr_query = {'$or': [{'metadata.key': 'background/location'}], 'metadata.write_ts': {'$gte': 1459866015.0, '$lt': 1459867837.141}, 'user_id': UUID('fd7b4c2e-2c8b-3bfa-94f0-d1e3ecbd5fb7')}, sort_key = metadata.write_ts\n",
      "DEBUG:root:Found 322 results\n"
     ]
    },
    {
     "name": "stdout",
     "output_type": "stream",
     "text": [
      "\n",
      "Checking ios phone-1\n",
      "Checking android phone-1\n",
      "Checking ios phone-2"
     ]
    },
    {
     "name": "stderr",
     "output_type": "stream",
     "text": [
      "DEBUG:root:curr_query = {'$or': [{'metadata.key': 'background/location'}], 'metadata.write_ts': {'$gte': 1459866015.0, '$lt': 1459867837.141}, 'user_id': UUID('c528bcd2-a88b-3e82-be62-ef4f2396967a')}, sort_key = metadata.write_ts\n",
      "DEBUG:root:Found 12 results\n",
      "DEBUG:root:curr_query = {'$or': [{'metadata.key': 'background/location'}], 'metadata.write_ts': {'$gte': 1459866015.0, '$lt': 1459867837.141}, 'user_id': UUID('86842c35-da28-32ed-a90e-2da6663c5c73')}, sort_key = metadata.write_ts\n",
      "DEBUG:root:Found 78 results\n"
     ]
    },
    {
     "name": "stdout",
     "output_type": "stream",
     "text": [
      "\n",
      "Checking android phone-2\n",
      "Checking ios phone-3"
     ]
    },
    {
     "name": "stderr",
     "output_type": "stream",
     "text": [
      "DEBUG:root:curr_query = {'$or': [{'metadata.key': 'background/location'}], 'metadata.write_ts': {'$gte': 1459866015.0, '$lt': 1459867837.141}, 'user_id': UUID('95e70727-a04e-3e33-b7fe-34ab19194f8b')}, sort_key = metadata.write_ts\n",
      "DEBUG:root:Found 9 results\n",
      "DEBUG:root:curr_query = {'$or': [{'metadata.key': 'background/location'}], 'metadata.write_ts': {'$gte': 1459866015.0, '$lt': 1459867837.141}, 'user_id': UUID('3bc0f91f-7660-34a2-b005-5c399598a369')}, sort_key = metadata.write_ts\n",
      "DEBUG:root:Found 55 results\n"
     ]
    },
    {
     "name": "stdout",
     "output_type": "stream",
     "text": [
      "\n",
      "Checking android phone-3\n",
      "Comparing accuracy for range {'ios_regime': 'best-v-10m+1m-v-30m', 'end_ts': 1459874919.276, 'start_ts': 1459867837.141, 'start_fmt_time': '2016-04-05T07:50:37.141000-07:00', 'android_regime': 'high-v-balanced+1sec-v-30sec', 'state': 'moving', 'end_fmt_time': '2016-04-05T09:48:39.276000-07:00'}"
     ]
    },
    {
     "name": "stderr",
     "output_type": "stream",
     "text": [
      "DEBUG:root:curr_query = {'$or': [{'metadata.key': 'background/location'}], 'metadata.write_ts': {'$gte': 1459867837.141, '$lt': 1459874919.276}, 'user_id': UUID('079e0f1a-c440-3d7c-b0e7-de160f748e35')}, sort_key = metadata.write_ts\n",
      "DEBUG:root:Found 2970 results\n",
      "DEBUG:root:curr_query = {'$or': [{'metadata.key': 'background/location'}], 'metadata.write_ts': {'$gte': 1459867837.141, '$lt': 1459874919.276}, 'user_id': UUID('e471711e-bd14-3dbe-80b6-9c7d92ecc296')}, sort_key = metadata.write_ts\n",
      "DEBUG:root:Found 3724 results\n"
     ]
    },
    {
     "name": "stdout",
     "output_type": "stream",
     "text": [
      "\n",
      "Retained 36.1621011014 percent"
     ]
    },
    {
     "name": "stderr",
     "output_type": "stream",
     "text": [
      "DEBUG:root:curr_query = {'$or': [{'metadata.key': 'background/location'}], 'metadata.write_ts': {'$gte': 1459867837.141, '$lt': 1459874919.276}, 'user_id': UUID('c76a0487-7e5a-3b17-a449-47be666b36f6')}, sort_key = metadata.write_ts\n",
      "DEBUG:root:Found 3106 results\n"
     ]
    },
    {
     "name": "stdout",
     "output_type": "stream",
     "text": [
      "\n",
      "Checking ios phone-1\n",
      "Checking android phone-1"
     ]
    },
    {
     "name": "stderr",
     "output_type": "stream",
     "text": [
      "DEBUG:root:curr_query = {'$or': [{'metadata.key': 'background/location'}], 'metadata.write_ts': {'$gte': 1459867837.141, '$lt': 1459874919.276}, 'user_id': UUID('fd7b4c2e-2c8b-3bfa-94f0-d1e3ecbd5fb7')}, sort_key = metadata.write_ts\n",
      "DEBUG:root:Found 1794 results\n"
     ]
    },
    {
     "name": "stdout",
     "output_type": "stream",
     "text": [
      "\n",
      "Checking ios phone-2"
     ]
    },
    {
     "name": "stderr",
     "output_type": "stream",
     "text": [
      "DEBUG:root:curr_query = {'$or': [{'metadata.key': 'background/location'}], 'metadata.write_ts': {'$gte': 1459867837.141, '$lt': 1459874919.276}, 'user_id': UUID('c528bcd2-a88b-3e82-be62-ef4f2396967a')}, sort_key = metadata.write_ts\n",
      "DEBUG:root:Found 972 results\n"
     ]
    },
    {
     "name": "stdout",
     "output_type": "stream",
     "text": [
      "\n",
      "Checking android phone-2"
     ]
    },
    {
     "name": "stderr",
     "output_type": "stream",
     "text": [
      "DEBUG:root:curr_query = {'$or': [{'metadata.key': 'background/location'}], 'metadata.write_ts': {'$gte': 1459867837.141, '$lt': 1459874919.276}, 'user_id': UUID('86842c35-da28-32ed-a90e-2da6663c5c73')}, sort_key = metadata.write_ts\n",
      "DEBUG:root:Found 249 results\n"
     ]
    },
    {
     "name": "stdout",
     "output_type": "stream",
     "text": [
      "\n",
      "Checking ios phone-3"
     ]
    },
    {
     "name": "stderr",
     "output_type": "stream",
     "text": [
      "DEBUG:root:curr_query = {'$or': [{'metadata.key': 'background/location'}], 'metadata.write_ts': {'$gte': 1459867837.141, '$lt': 1459874919.276}, 'user_id': UUID('95e70727-a04e-3e33-b7fe-34ab19194f8b')}, sort_key = metadata.write_ts\n",
      "DEBUG:root:Found 949 results\n"
     ]
    },
    {
     "name": "stdout",
     "output_type": "stream",
     "text": [
      "\n",
      "Checking android phone-3"
     ]
    },
    {
     "name": "stderr",
     "output_type": "stream",
     "text": [
      "DEBUG:root:curr_query = {'$or': [{'metadata.key': 'background/location'}], 'metadata.write_ts': {'$gte': 1459867837.141, '$lt': 1459874919.276}, 'user_id': UUID('3bc0f91f-7660-34a2-b005-5c399598a369')}, sort_key = metadata.write_ts\n",
      "DEBUG:root:Found 241 results\n"
     ]
    },
    {
     "name": "stdout",
     "output_type": "stream",
     "text": [
      "\n",
      "Comparing accuracy for range {'ios_regime': 'best-v-10m+1m-v-30m', 'end_ts': 1459900215.0, 'start_ts': 1459874919.276, 'start_fmt_time': '2016-04-05T09:48:39.276000-07:00', 'android_regime': 'high-v-balanced+1sec-v-30sec', 'state': 'loitering', 'end_fmt_time': '2016-04-05T16:50:31.349801-07:00'}"
     ]
    },
    {
     "name": "stderr",
     "output_type": "stream",
     "text": [
      "DEBUG:root:curr_query = {'$or': [{'metadata.key': 'background/location'}], 'metadata.write_ts': {'$gte': 1459874919.276, '$lt': 1459900215.0}, 'user_id': UUID('079e0f1a-c440-3d7c-b0e7-de160f748e35')}, sort_key = metadata.write_ts\n",
      "DEBUG:root:Found 1272 results\n",
      "DEBUG:root:curr_query = {'$or': [{'metadata.key': 'background/location'}], 'metadata.write_ts': {'$gte': 1459874919.276, '$lt': 1459900215.0}, 'user_id': UUID('e471711e-bd14-3dbe-80b6-9c7d92ecc296')}, sort_key = metadata.write_ts\n",
      "DEBUG:root:Found 12165 results\n"
     ]
    },
    {
     "name": "stdout",
     "output_type": "stream",
     "text": [
      "\n",
      "Retained 64.2987033523 percent"
     ]
    },
    {
     "name": "stderr",
     "output_type": "stream",
     "text": [
      "DEBUG:root:curr_query = {'$or': [{'metadata.key': 'background/location'}], 'metadata.write_ts': {'$gte': 1459874919.276, '$lt': 1459900215.0}, 'user_id': UUID('c76a0487-7e5a-3b17-a449-47be666b36f6')}, sort_key = metadata.write_ts\n",
      "DEBUG:root:Found 853 results\n"
     ]
    },
    {
     "name": "stdout",
     "output_type": "stream",
     "text": [
      "\n",
      "Checking ios phone-1\n",
      "Checking android phone-1"
     ]
    },
    {
     "name": "stderr",
     "output_type": "stream",
     "text": [
      "DEBUG:root:curr_query = {'$or': [{'metadata.key': 'background/location'}], 'metadata.write_ts': {'$gte': 1459874919.276, '$lt': 1459900215.0}, 'user_id': UUID('fd7b4c2e-2c8b-3bfa-94f0-d1e3ecbd5fb7')}, sort_key = metadata.write_ts\n",
      "DEBUG:root:Found 2994 results\n"
     ]
    },
    {
     "name": "stdout",
     "output_type": "stream",
     "text": [
      "\n",
      "Checking ios phone-2"
     ]
    },
    {
     "name": "stderr",
     "output_type": "stream",
     "text": [
      "DEBUG:root:curr_query = {'$or': [{'metadata.key': 'background/location'}], 'metadata.write_ts': {'$gte': 1459874919.276, '$lt': 1459900215.0}, 'user_id': UUID('c528bcd2-a88b-3e82-be62-ef4f2396967a')}, sort_key = metadata.write_ts\n",
      "DEBUG:root:Found 37 results\n"
     ]
    },
    {
     "name": "stdout",
     "output_type": "stream",
     "text": [
      "\n",
      "Checking android phone-2"
     ]
    },
    {
     "name": "stderr",
     "output_type": "stream",
     "text": [
      "DEBUG:root:curr_query = {'$or': [{'metadata.key': 'background/location'}], 'metadata.write_ts': {'$gte': 1459874919.276, '$lt': 1459900215.0}, 'user_id': UUID('86842c35-da28-32ed-a90e-2da6663c5c73')}, sort_key = metadata.write_ts\n",
      "DEBUG:root:Found 783 results\n"
     ]
    },
    {
     "name": "stdout",
     "output_type": "stream",
     "text": [
      "\n",
      "Checking ios phone-3"
     ]
    },
    {
     "name": "stderr",
     "output_type": "stream",
     "text": [
      "DEBUG:root:curr_query = {'$or': [{'metadata.key': 'background/location'}], 'metadata.write_ts': {'$gte': 1459874919.276, '$lt': 1459900215.0}, 'user_id': UUID('95e70727-a04e-3e33-b7fe-34ab19194f8b')}, sort_key = metadata.write_ts\n",
      "DEBUG:root:Found 27 results\n"
     ]
    },
    {
     "name": "stdout",
     "output_type": "stream",
     "text": [
      "\n",
      "Checking android phone-3"
     ]
    },
    {
     "name": "stderr",
     "output_type": "stream",
     "text": [
      "DEBUG:root:curr_query = {'$or': [{'metadata.key': 'background/location'}], 'metadata.write_ts': {'$gte': 1459874919.276, '$lt': 1459900215.0}, 'user_id': UUID('3bc0f91f-7660-34a2-b005-5c399598a369')}, sort_key = metadata.write_ts\n",
      "DEBUG:root:Found 575 results\n"
     ]
    },
    {
     "name": "stdout",
     "output_type": "stream",
     "text": [
      "\n",
      "Comparing accuracy for range {'ios_regime': 'best-v-100m+1m-v-30m', 'end_ts': 1459901131.349, 'start_ts': 1459900215.0, 'start_fmt_time': '2016-04-05T16:50:31.349801-07:00', 'android_regime': 'high-v-balanced+1sec-v-15sec', 'state': 'invalid', 'end_fmt_time': '2016-04-05T17:05:31.349801-07:00'}\n"
     ]
    }
   ],
   "source": [
    "for row in ranges_df.iloc[1:].to_dict('records'):\n",
    "    print \"Comparing accuracy for range %s\" % row\n",
    "    if is_valid_row(row):\n",
    "        (ret, res) = compare_accuracy(row)\n",
    "        if ret is not None:\n",
    "            retained_list.append(ret)\n",
    "        if res is not None:\n",
    "            result_list.extend(res)"
   ]
  },
  {
   "cell_type": "code",
   "execution_count": 379,
   "metadata": {
    "collapsed": false
   },
   "outputs": [
    {
     "name": "stdout",
     "output_type": "stream",
     "text": [
      "loitering\n",
      "moving\n",
      "stationary\n"
     ]
    },
    {
     "data": {
      "image/png": "[encoded data removed]",
      "text/plain": [
       "<matplotlib.figure.Figure at 0x13c461790>"
      ]
     },
     "metadata": {},
     "output_type": "display_data"
    }
   ],
   "source": [
    "(ret_fig, ret_axes) = plt.subplots(nrows=1, ncols=3, figsize=(16,3), sharex=True, sharey=True)\n",
    "for i, (key, df) in enumerate(pd.DataFrame(retained_list).groupby('state')):\n",
    "    print key\n",
    "    df.plot(kind='hist', title=key, bins=10, ax=ret_axes[i], cumulative=True, normed=True)"
   ]
  },
  {
   "cell_type": "code",
   "execution_count": 380,
   "metadata": {
    "collapsed": false
   },
   "outputs": [],
   "source": [
    "all_compare_dists = pd.concat(map(lambda row: pd.concat([row['ios_compare'].compare_distance, row['android_compare'].compare_distance]), result_list))"
   ]
  },
  {
   "cell_type": "code",
   "execution_count": 381,
   "metadata": {
    "collapsed": false
   },
   "outputs": [
    {
     "data": {
      "text/plain": [
       "1459288016   1.811\n",
       "1459288017   1.579\n",
       "1459288018   1.443\n",
       "1459288019   1.156\n",
       "1459288020   1.623\n",
       "Name: compare_distance, dtype: float64"
      ]
     },
     "execution_count": 381,
     "metadata": {},
     "output_type": "execute_result"
    }
   ],
   "source": [
    "all_compare_dists.head()"
   ]
  },
  {
   "cell_type": "code",
   "execution_count": 382,
   "metadata": {
    "collapsed": false
   },
   "outputs": [
    {
     "data": {
      "text/plain": [
       "967334"
      ]
     },
     "execution_count": 382,
     "metadata": {},
     "output_type": "execute_result"
    }
   ],
   "source": [
    "len(all_compare_dists)"
   ]
  },
  {
   "cell_type": "code",
   "execution_count": 383,
   "metadata": {
    "collapsed": false
   },
   "outputs": [
    {
     "data": {
      "text/plain": [
       "count   967334.000\n",
       "mean        96.464\n",
       "std        782.561\n",
       "min          0.004\n",
       "25%          4.453\n",
       "50%          9.552\n",
       "75%         24.574\n",
       "max     101158.846\n",
       "Name: compare_distance, dtype: float64"
      ]
     },
     "execution_count": 383,
     "metadata": {},
     "output_type": "execute_result"
    }
   ],
   "source": [
    "all_compare_dists.describe()"
   ]
  },
  {
   "cell_type": "code",
   "execution_count": 384,
   "metadata": {
    "collapsed": false
   },
   "outputs": [
    {
     "data": {
      "text/plain": [
       "<matplotlib.axes.AxesSubplot at 0x13e069d10>"
      ]
     },
     "execution_count": 384,
     "metadata": {},
     "output_type": "execute_result"
    },
    {
     "data": {
      "image/png": "[encoded data removed]",
      "text/plain": [
       "<matplotlib.figure.Figure at 0x1218f8490>"
      ]
     },
     "metadata": {},
     "output_type": "display_data"
    }
   ],
   "source": [
    "all_compare_dists.plot(kind='hist', figsize=(16,4), bins=1000)"
   ]
  },
  {
   "cell_type": "code",
   "execution_count": 385,
   "metadata": {
    "collapsed": false
   },
   "outputs": [
    {
     "data": {
      "text/plain": [
       "<matplotlib.axes.AxesSubplot at 0x1560bdcd0>"
      ]
     },
     "execution_count": 385,
     "metadata": {},
     "output_type": "execute_result"
    },
    {
     "data": {
      "image/png": "[encoded data removed]",
      "text/plain": [
       "<matplotlib.figure.Figure at 0x15650a5d0>"
      ]
     },
     "metadata": {},
     "output_type": "display_data"
    }
   ],
   "source": [
    "all_compare_dists.plot.box(vert=False, figsize=(16,4))"
   ]
  },
  {
   "cell_type": "code",
   "execution_count": 386,
   "metadata": {
    "collapsed": false
   },
   "outputs": [],
   "source": [
    "valid_compare_dists = all_compare_dists[all_compare_dists < 5000]"
   ]
  },
  {
   "cell_type": "code",
   "execution_count": 387,
   "metadata": {
    "collapsed": false
   },
   "outputs": [
    {
     "data": {
      "text/plain": [
       "<matplotlib.axes.AxesSubplot at 0x1327d2e90>"
      ]
     },
     "execution_count": 387,
     "metadata": {},
     "output_type": "execute_result"
    },
    {
     "data": {
      "image/png": "[encoded data removed]",
      "text/plain": [
       "<matplotlib.figure.Figure at 0x15650a910>"
      ]
     },
     "metadata": {},
     "output_type": "display_data"
    }
   ],
   "source": [
    "valid_compare_dists.plot(kind='hist', figsize=(16,4), bins=1000)"
   ]
  },
  {
   "cell_type": "code",
   "execution_count": 388,
   "metadata": {
    "collapsed": false
   },
   "outputs": [
    {
     "data": {
      "text/plain": [
       "<matplotlib.axes.AxesSubplot at 0x1560e0690>"
      ]
     },
     "execution_count": 388,
     "metadata": {},
     "output_type": "execute_result"
    },
    {
     "data": {
      "image/png": "[encoded data removed]",
      "text/plain": [
       "<matplotlib.figure.Figure at 0x1452d34d0>"
      ]
     },
     "metadata": {},
     "output_type": "display_data"
    }
   ],
   "source": [
    "valid_compare_dists.plot.box(vert=False, figsize=(16,4))"
   ]
  },
  {
   "cell_type": "code",
   "execution_count": 389,
   "metadata": {
    "collapsed": false
   },
   "outputs": [],
   "source": [
    "valid_compare_dists = all_compare_dists[all_compare_dists < 1000]"
   ]
  },
  {
   "cell_type": "code",
   "execution_count": 390,
   "metadata": {
    "collapsed": false
   },
   "outputs": [
    {
     "data": {
      "text/plain": [
       "<matplotlib.axes.AxesSubplot at 0x15adcab90>"
      ]
     },
     "execution_count": 390,
     "metadata": {},
     "output_type": "execute_result"
    },
    {
     "data": {
      "image/png": "[encoded data removed]",
      "text/plain": [
       "<matplotlib.figure.Figure at 0x15a4af590>"
      ]
     },
     "metadata": {},
     "output_type": "display_data"
    }
   ],
   "source": [
    "valid_compare_dists.plot(kind='hist', figsize=(16,4), bins=1000)"
   ]
  },
  {
   "cell_type": "code",
   "execution_count": 391,
   "metadata": {
    "collapsed": false
   },
   "outputs": [
    {
     "data": {
      "text/plain": [
       "<matplotlib.axes.AxesSubplot at 0x15119c510>"
      ]
     },
     "execution_count": 391,
     "metadata": {},
     "output_type": "execute_result"
    },
    {
     "data": {
      "image/png": "[encoded data removed]",
      "text/plain": [
       "<matplotlib.figure.Figure at 0x1597c59d0>"
      ]
     },
     "metadata": {},
     "output_type": "display_data"
    }
   ],
   "source": [
    "valid_compare_dists.plot.box(vert=False, figsize=(16,4))"
   ]
  },
  {
   "cell_type": "code",
   "execution_count": 392,
   "metadata": {
    "collapsed": false
   },
   "outputs": [],
   "source": [
    "valid_compare_dists = all_compare_dists[all_compare_dists < 200]"
   ]
  },
  {
   "cell_type": "code",
   "execution_count": 393,
   "metadata": {
    "collapsed": false
   },
   "outputs": [
    {
     "data": {
      "text/plain": [
       "<matplotlib.axes.AxesSubplot at 0x154def790>"
      ]
     },
     "execution_count": 393,
     "metadata": {},
     "output_type": "execute_result"
    },
    {
     "data": {
      "image/png": "[encoded data removed]",
      "text/plain": [
       "<matplotlib.figure.Figure at 0x145b4e0d0>"
      ]
     },
     "metadata": {},
     "output_type": "display_data"
    }
   ],
   "source": [
    "valid_compare_dists.plot(kind='hist', figsize=(16,4), bins=1000)"
   ]
  },
  {
   "cell_type": "code",
   "execution_count": 394,
   "metadata": {
    "collapsed": false
   },
   "outputs": [
    {
     "data": {
      "image/png": "[encoded data removed]",
      "text/plain": [
       "<matplotlib.figure.Figure at 0x15694b950>"
      ]
     },
     "metadata": {},
     "output_type": "display_data"
    }
   ],
   "source": [
    "ax = valid_compare_dists.plot.box(vert=False, figsize=(16,4))\n",
    "tick_list = ax.set_xticks(np.arange(0,valid_compare_dists.max(),10))"
   ]
  },
  {
   "cell_type": "code",
   "execution_count": 395,
   "metadata": {
    "collapsed": false
   },
   "outputs": [],
   "source": [
    "def exp_smaller_plots(df, title):\n",
    "    plt.figure()\n",
    "    df.plot(kind='hist', figsize=(16,4), bins=1000, title=title)\n",
    "    plt.figure()\n",
    "    df.plot.box(vert=False, figsize=(16,4), title=title)\n",
    "    plt.figure()\n",
    "    df[df < 5000].plot(kind='hist', figsize=(16,4), bins=1000, title=title)\n",
    "    plt.figure()\n",
    "    df[df < 5000].plot.box(vert=False, figsize=(16,4), title=title)\n",
    "    plt.figure()\n",
    "    df[df < 1000].plot(kind='hist', figsize=(16,4), bins=1000, title=title)\n",
    "    plt.figure()\n",
    "    df[df < 1000].plot.box(vert=False, figsize=(16,4), title=title)\n",
    "    plt.figure()\n",
    "    df[df < 200].plot(kind='hist', figsize=(16,4), bins=1000, title=title)    \n",
    "    plt.figure()\n",
    "    ax = df[df < 200].plot.box(vert=False, figsize=(16,4), title=title)    \n",
    "    tick_list = ax.set_xticks(np.arange(0,df[df < 200].max(),10))"
   ]
  },
  {
   "cell_type": "code",
   "execution_count": 396,
   "metadata": {
    "collapsed": false
   },
   "outputs": [
    {
     "data": {
      "image/png": "[encoded data removed]",
      "text/plain": [
       "<matplotlib.figure.Figure at 0x15b81b450>"
      ]
     },
     "metadata": {},
     "output_type": "display_data"
    },
    {
     "data": {
      "image/png": "[encoded data removed]",
      "text/plain": [
       "<matplotlib.figure.Figure at 0x1521b0d90>"
      ]
     },
     "metadata": {},
     "output_type": "display_data"
    },
    {
     "data": {
      "image/png": "[encoded data removed]",
      "text/plain": [
       "<matplotlib.figure.Figure at 0x169453110>"
      ]
     },
     "metadata": {},
     "output_type": "display_data"
    },
    {
     "data": {
      "image/png": "[encoded data removed]",
      "text/plain": [
       "<matplotlib.figure.Figure at 0x156f302d0>"
      ]
     },
     "metadata": {},
     "output_type": "display_data"
    },
    {
     "data": {
      "image/png": "[encoded data removed]",
      "text/plain": [
       "<matplotlib.figure.Figure at 0x1691b2c90>"
      ]
     },
     "metadata": {},
     "output_type": "display_data"
    },
    {
     "data": {
      "image/png": "[encoded data removed]",
      "text/plain": [
       "<matplotlib.figure.Figure at 0x16b15eed0>"
      ]
     },
     "metadata": {},
     "output_type": "display_data"
    },
    {
     "data": {
      "image/png": "[encoded data removed]",
      "text/plain": [
       "<matplotlib.figure.Figure at 0x1677310d0>"
      ]
     },
     "metadata": {},
     "output_type": "display_data"
    },
    {
     "data": {
      "image/png": "[encoded data removed]",
      "text/plain": [
       "<matplotlib.figure.Figure at 0x16c019410>"
      ]
     },
     "metadata": {},
     "output_type": "display_data"
    }
   ],
   "source": [
    "exp_smaller_plots(all_compare_dists, \"all data\")"
   ]
  },
  {
   "cell_type": "code",
   "execution_count": 397,
   "metadata": {
    "collapsed": false
   },
   "outputs": [],
   "source": [
    "moving_compare_dists = pd.concat(map(lambda row: pd.concat([row['ios_compare'].compare_distance, row['android_compare'].compare_distance]),\n",
    "                                  filter(lambda row: row['state'] == 'moving', result_list)))"
   ]
  },
  {
   "cell_type": "code",
   "execution_count": 398,
   "metadata": {
    "collapsed": false
   },
   "outputs": [
    {
     "data": {
      "image/png": "[encoded data removed]",
      "text/plain": [
       "<matplotlib.figure.Figure at 0x13093ff90>"
      ]
     },
     "metadata": {},
     "output_type": "display_data"
    },
    {
     "data": {
      "image/png": "[encoded data removed]",
      "text/plain": [
       "<matplotlib.figure.Figure at 0x12e1aedd0>"
      ]
     },
     "metadata": {},
     "output_type": "display_data"
    },
    {
     "data": {
      "image/png": "[encoded data removed]",
      "text/plain": [
       "<matplotlib.figure.Figure at 0x15cf70210>"
      ]
     },
     "metadata": {},
     "output_type": "display_data"
    },
    {
     "data": {
      "image/png": "[encoded data removed]",
      "text/plain": [
       "<matplotlib.figure.Figure at 0x15c8b5650>"
      ]
     },
     "metadata": {},
     "output_type": "display_data"
    },
    {
     "data": {
      "image/png": "[encoded data removed]",
      "text/plain": [
       "<matplotlib.figure.Figure at 0x16c006810>"
      ]
     },
     "metadata": {},
     "output_type": "display_data"
    },
    {
     "data": {
      "image/png": "[encoded data removed]",
      "text/plain": [
       "<matplotlib.figure.Figure at 0x1579066d0>"
      ]
     },
     "metadata": {},
     "output_type": "display_data"
    },
    {
     "data": {
      "image/png": "[encoded data removed]",
      "text/plain": [
       "<matplotlib.figure.Figure at 0x155561dd0>"
      ]
     },
     "metadata": {},
     "output_type": "display_data"
    },
    {
     "data": {
      "image/png": "[encoded data removed]",
      "text/plain": [
       "<matplotlib.figure.Figure at 0x161881dd0>"
      ]
     },
     "metadata": {},
     "output_type": "display_data"
    }
   ],
   "source": [
    "exp_smaller_plots(moving_compare_dists, \"moving only\")"
   ]
  },
  {
   "cell_type": "code",
   "execution_count": 399,
   "metadata": {
    "collapsed": false
   },
   "outputs": [],
   "source": [
    "stationary_compare_dists = pd.concat(map(lambda row: pd.concat([row['ios_compare'].compare_distance, row['android_compare'].compare_distance]),\n",
    "                                  filter(lambda row: row['state'] == 'stationary', result_list)))"
   ]
  },
  {
   "cell_type": "code",
   "execution_count": 400,
   "metadata": {
    "collapsed": false
   },
   "outputs": [
    {
     "data": {
      "image/png": "[encoded data removed]",
      "text/plain": [
       "<matplotlib.figure.Figure at 0x156902450>"
      ]
     },
     "metadata": {},
     "output_type": "display_data"
    },
    {
     "data": {
      "image/png": "[encoded data removed]",
      "text/plain": [
       "<matplotlib.figure.Figure at 0x154141950>"
      ]
     },
     "metadata": {},
     "output_type": "display_data"
    },
    {
     "data": {
      "image/png": "[encoded data removed]",
      "text/plain": [
       "<matplotlib.figure.Figure at 0x149bb9f10>"
      ]
     },
     "metadata": {},
     "output_type": "display_data"
    },
    {
     "data": {
      "image/png": "[encoded data removed]",
      "text/plain": [
       "<matplotlib.figure.Figure at 0x1632ebe90>"
      ]
     },
     "metadata": {},
     "output_type": "display_data"
    },
    {
     "data": {
      "image/png": "[encoded data removed]",
      "text/plain": [
       "<matplotlib.figure.Figure at 0x163043f50>"
      ]
     },
     "metadata": {},
     "output_type": "display_data"
    },
    {
     "data": {
      "image/png": "[encoded data removed]",
      "text/plain": [
       "<matplotlib.figure.Figure at 0x1563f8990>"
      ]
     },
     "metadata": {},
     "output_type": "display_data"
    },
    {
     "data": {
      "image/png": "[encoded data removed]",
      "text/plain": [
       "<matplotlib.figure.Figure at 0x156bcb0d0>"
      ]
     },
     "metadata": {},
     "output_type": "display_data"
    },
    {
     "data": {
      "image/png": "[encoded data removed]",
      "text/plain": [
       "<matplotlib.figure.Figure at 0x16135d510>"
      ]
     },
     "metadata": {},
     "output_type": "display_data"
    }
   ],
   "source": [
    "exp_smaller_plots(stationary_compare_dists, \"stationary only\")"
   ]
  },
  {
   "cell_type": "code",
   "execution_count": 401,
   "metadata": {
    "collapsed": false
   },
   "outputs": [],
   "source": [
    "loitering_compare_dists = pd.concat(map(lambda row: pd.concat([row['ios_compare'].compare_distance, row['android_compare'].compare_distance]),\n",
    "                                  filter(lambda row: row['state'] == 'loitering', result_list)))"
   ]
  },
  {
   "cell_type": "code",
   "execution_count": 402,
   "metadata": {
    "collapsed": false
   },
   "outputs": [
    {
     "data": {
      "image/png": "[encoded data removed]",
      "text/plain": [
       "<matplotlib.figure.Figure at 0x14525eed0>"
      ]
     },
     "metadata": {},
     "output_type": "display_data"
    },
    {
     "data": {
      "image/png": "[encoded data removed]",
      "text/plain": [
       "<matplotlib.figure.Figure at 0x1645b2310>"
      ]
     },
     "metadata": {},
     "output_type": "display_data"
    },
    {
     "data": {
      "image/png": "[encoded data removed]",
      "text/plain": [
       "<matplotlib.figure.Figure at 0x14bb705d0>"
      ]
     },
     "metadata": {},
     "output_type": "display_data"
    },
    {
     "data": {
      "image/png": "[encoded data removed]",
      "text/plain": [
       "<matplotlib.figure.Figure at 0x1585f5990>"
      ]
     },
     "metadata": {},
     "output_type": "display_data"
    },
    {
     "data": {
      "image/png": "[encoded data removed]",
      "text/plain": [
       "<matplotlib.figure.Figure at 0x15833b4d0>"
      ]
     },
     "metadata": {},
     "output_type": "display_data"
    },
    {
     "data": {
      "image/png": "[encoded data removed]",
      "text/plain": [
       "<matplotlib.figure.Figure at 0x1552bac10>"
      ]
     },
     "metadata": {},
     "output_type": "display_data"
    },
    {
     "data": {
      "image/png": "[encoded data removed]",
      "text/plain": [
       "<matplotlib.figure.Figure at 0x157d4a050>"
      ]
     },
     "metadata": {},
     "output_type": "display_data"
    },
    {
     "data": {
      "image/png": "[encoded data removed]",
      "text/plain": [
       "<matplotlib.figure.Figure at 0x163474310>"
      ]
     },
     "metadata": {},
     "output_type": "display_data"
    }
   ],
   "source": [
    "exp_smaller_plots(loitering_compare_dists, \"loitering only\")"
   ]
  },
  {
   "cell_type": "code",
   "execution_count": 403,
   "metadata": {
    "collapsed": false
   },
   "outputs": [],
   "source": [
    "import emission.analysis.intake.cleaning.cleaning_methods.speed_outlier_detection as eaics"
   ]
  },
  {
   "cell_type": "code",
   "execution_count": 404,
   "metadata": {
    "collapsed": false
   },
   "outputs": [],
   "source": [
    "def get_major_threshold(value_series):\n",
    "    quartile_vals = value_series.quantile([0.25, 0.75])\n",
    "    logging.debug(\"quartile values are %s\" % quartile_vals)\n",
    "    iqr = quartile_vals.iloc[1] - quartile_vals.iloc[0]\n",
    "    logging.debug(\"iqr %s\" % iqr)\n",
    "    return quartile_vals.iloc[1] + 3 * iqr"
   ]
  },
  {
   "cell_type": "code",
   "execution_count": 405,
   "metadata": {
    "collapsed": false
   },
   "outputs": [
    {
     "name": "stderr",
     "output_type": "stream",
     "text": [
      "DEBUG:root:quartile values are 0.250    5.554\n",
      "0.750   29.411\n",
      "Name: compare_distance, dtype: float64\n",
      "DEBUG:root:iqr 23.8567034617\n",
      "DEBUG:root:quartile values are 0.250     7.900\n",
      "0.750   308.887\n",
      "Name: compare_distance, dtype: float64\n",
      "DEBUG:root:iqr 300.987416817\n",
      "DEBUG:root:quartile values are 0.250    3.795\n",
      "0.750   15.644\n",
      "Name: compare_distance, dtype: float64\n",
      "DEBUG:root:iqr 11.8488826879\n"
     ]
    }
   ],
   "source": [
    "outliers = {}\n",
    "outliers[\"moving\"] = get_major_threshold(moving_compare_dists)\n",
    "outliers[\"stationary\"] = get_major_threshold(stationary_compare_dists)\n",
    "outliers[\"loitering\"] = get_major_threshold(loitering_compare_dists)"
   ]
  },
  {
   "cell_type": "code",
   "execution_count": 406,
   "metadata": {
    "collapsed": false
   },
   "outputs": [],
   "source": [
    "def get_accuracy(regime, phone):\n",
    "    if regime == \"high+1sec\":\n",
    "        return \"high\"\n",
    "    elif regime == \"best+1m\":\n",
    "        return \"best\"\n",
    "    elif regime == \"high-v-balanced+1sec-v-30sec\":\n",
    "        if phone == 1:\n",
    "            return \"balanced\"\n",
    "        elif phone == 2:\n",
    "            return \"high\"\n",
    "        elif phone == 3:\n",
    "            return \"balanced\"\n",
    "    elif regime == \"best-v-10m+1m-v-30m\":\n",
    "        if phone == 1:\n",
    "            return \"10m\"\n",
    "        elif phone == 2:\n",
    "            return \"best\"\n",
    "        elif phone == 3:\n",
    "            return \"10m\"\n",
    "    elif regime == \"high-v-balanced+1sec-v-15sec\":\n",
    "        if phone == 1:\n",
    "            return \"balanced\"\n",
    "        elif phone == 2:\n",
    "            return \"high\"\n",
    "        elif phone == 3:\n",
    "            return \"balanced\"\n",
    "    elif regime == \"best-v-100m+1m-v-30m\":\n",
    "        if phone == 1:\n",
    "            return \"100m\"\n",
    "        elif phone == 2:\n",
    "            return \"best\"\n",
    "        elif phone == 3:\n",
    "            return \"100m\"    \n",
    "    return \"unknown\""
   ]
  },
  {
   "cell_type": "code",
   "execution_count": 407,
   "metadata": {
    "collapsed": false
   },
   "outputs": [
    {
     "data": {
      "text/plain": [
       "{'loitering': 51.190513857958045,\n",
       " 'moving': 100.98122567098531,\n",
       " 'stationary': 1211.8492969932943}"
      ]
     },
     "execution_count": 407,
     "metadata": {},
     "output_type": "execute_result"
    }
   ],
   "source": [
    "outliers"
   ]
  },
  {
   "cell_type": "code",
   "execution_count": 408,
   "metadata": {
    "collapsed": false
   },
   "outputs": [],
   "source": [
    "moving_accuracy_distance_series = {}\n",
    "for acc in [\"high\", \"balanced\", \"best\", \"10m\", \"100m\"]:\n",
    "    moving_accuracy_distance_series[acc] =[]\n",
    "    \n",
    "stationary_accuracy_distance_series = {}\n",
    "for acc in [\"high\", \"balanced\", \"best\", \"10m\", \"100m\"]:\n",
    "    stationary_accuracy_distance_series[acc] =[]\n",
    "\n",
    "loitering_accuracy_distance_series = {}\n",
    "for acc in [\"high\", \"balanced\", \"best\", \"10m\", \"100m\"]:\n",
    "    loitering_accuracy_distance_series[acc] =[]"
   ]
  },
  {
   "cell_type": "code",
   "execution_count": 409,
   "metadata": {
    "collapsed": false
   },
   "outputs": [],
   "source": [
    "for entry in result_list:\n",
    "    if entry['state'] == 'moving':\n",
    "        moving_accuracy_distance_series[get_accuracy(entry['ios_regime'], entry['phone'])].append(entry['ios_compare'].compare_distance)\n",
    "        moving_accuracy_distance_series[get_accuracy(entry['android_regime'], entry['phone'])].append(entry['android_compare'].compare_distance)\n",
    "    elif entry['state'] == 'stationary':\n",
    "        stationary_accuracy_distance_series[get_accuracy(entry['ios_regime'], entry['phone'])].append(entry['ios_compare'].compare_distance)\n",
    "        stationary_accuracy_distance_series[get_accuracy(entry['android_regime'], entry['phone'])].append(entry['android_compare'].compare_distance)\n",
    "    elif entry['state'] == 'loitering':\n",
    "        loitering_accuracy_distance_series[get_accuracy(entry['ios_regime'], entry['phone'])].append(entry['ios_compare'].compare_distance)\n",
    "        loitering_accuracy_distance_series[get_accuracy(entry['android_regime'], entry['phone'])].append(entry['android_compare'].compare_distance)        "
   ]
  },
  {
   "cell_type": "code",
   "execution_count": 410,
   "metadata": {
    "collapsed": false
   },
   "outputs": [],
   "source": [
    "def compareState(accuracy_distance_series):\n",
    "    nOutliers = {}\n",
    "    outlierPct = {}\n",
    "    nonOutlierMean = {}\n",
    "    nonOutlierMedian = {}\n",
    "    for accuracy in moving_accuracy_distance_series:\n",
    "        curr_accuracy_list = accuracy_distance_series[accuracy]\n",
    "        curr_accuracy_merged = pd.concat(curr_accuracy_list)\n",
    "        curr_non_outliers_merged = curr_accuracy_merged[curr_accuracy_merged < outliers['moving']]\n",
    "        nOutliers[accuracy] = np.count_nonzero(curr_accuracy_merged > outliers['moving'])\n",
    "        outlierPct[accuracy] = float(nOutliers[accuracy] * 100) / len(curr_accuracy_merged)\n",
    "        nonOutlierMean[accuracy] = curr_non_outliers_merged.mean()\n",
    "        nonOutlierMedian[accuracy] = curr_non_outliers_merged.median()\n",
    "    return pd.DataFrame(data={\"outlierPct\": outlierPct, \"nonOutlierMean\": nonOutlierMean, \"nonOutlierMedian\": nonOutlierMedian})"
   ]
  },
  {
   "cell_type": "code",
   "execution_count": 411,
   "metadata": {
    "collapsed": false
   },
   "outputs": [],
   "source": [
    "moving_accuracy_results = compareState(moving_accuracy_distance_series)\n",
    "stationary_accuracy_results = compareState(stationary_accuracy_distance_series)\n",
    "loitering_accuracy_results = compareState(loitering_accuracy_distance_series)"
   ]
  },
  {
   "cell_type": "code",
   "execution_count": 412,
   "metadata": {
    "collapsed": false
   },
   "outputs": [
    {
     "data": {
      "text/plain": [
       "<matplotlib.axes.AxesSubplot at 0x14409bf90>"
      ]
     },
     "execution_count": 412,
     "metadata": {},
     "output_type": "execute_result"
    },
    {
     "data": {
      "image/png": "[encoded data removed]",
      "text/plain": [
       "<matplotlib.figure.Figure at 0x140dd62d0>"
      ]
     },
     "metadata": {},
     "output_type": "display_data"
    }
   ],
   "source": [
    "(fig, axes) = plt.subplots(nrows=1, ncols=3, figsize=(16,5), sharey=True)\n",
    "moving_accuracy_results.plot(kind='bar', ax=axes[0], title=\"moving\")\n",
    "stationary_accuracy_results.plot(kind='bar', ax=axes[1], title=\"stationary\")\n",
    "loitering_accuracy_results.plot(kind='bar', ax=axes[2], title=\"loitering\")"
   ]
  },
  {
   "cell_type": "code",
   "execution_count": 413,
   "metadata": {
    "collapsed": false
   },
   "outputs": [
    {
     "name": "stderr",
     "output_type": "stream",
     "text": [
      "DEBUG:root:quartile values are 0.250    4.453\n",
      "0.750   24.574\n",
      "Name: compare_distance, dtype: float64\n",
      "DEBUG:root:iqr 20.1205768219\n"
     ]
    }
   ],
   "source": [
    "all_threshold = get_major_threshold(all_compare_dists)"
   ]
  },
  {
   "cell_type": "code",
   "execution_count": 414,
   "metadata": {
    "collapsed": false
   },
   "outputs": [
    {
     "data": {
      "text/plain": [
       "84.935621677197446"
      ]
     },
     "execution_count": 414,
     "metadata": {},
     "output_type": "execute_result"
    }
   ],
   "source": [
    "all_threshold"
   ]
  },
  {
   "cell_type": "code",
   "execution_count": 415,
   "metadata": {
    "collapsed": false
   },
   "outputs": [],
   "source": [
    "all_accuracy_distance_series = {}\n",
    "for acc in [\"high\", \"balanced\", \"best\", \"10m\", \"100m\"]:\n",
    "    all_accuracy_distance_series[acc] =[]"
   ]
  },
  {
   "cell_type": "code",
   "execution_count": 416,
   "metadata": {
    "collapsed": false
   },
   "outputs": [],
   "source": [
    "for entry in result_list:\n",
    "    all_accuracy_distance_series[get_accuracy(entry['ios_regime'], entry['phone'])].append(entry['ios_compare'].compare_distance)\n",
    "    all_accuracy_distance_series[get_accuracy(entry['android_regime'], entry['phone'])].append(entry['android_compare'].compare_distance)"
   ]
  },
  {
   "cell_type": "code",
   "execution_count": 417,
   "metadata": {
    "collapsed": false
   },
   "outputs": [],
   "source": [
    "all_accuracy_results = compareState(all_accuracy_distance_series)"
   ]
  },
  {
   "cell_type": "code",
   "execution_count": 418,
   "metadata": {
    "collapsed": false
   },
   "outputs": [
    {
     "data": {
      "text/plain": [
       "<matplotlib.axes.AxesSubplot at 0x144cbe8d0>"
      ]
     },
     "execution_count": 418,
     "metadata": {},
     "output_type": "execute_result"
    },
    {
     "data": {
      "image/png": "[encoded data removed]",
      "text/plain": [
       "<matplotlib.figure.Figure at 0x145111090>"
      ]
     },
     "metadata": {},
     "output_type": "display_data"
    }
   ],
   "source": [
    "all_accuracy_results.plot(kind='bar', title=\"all data\")"
   ]
  },
  {
   "cell_type": "code",
   "execution_count": 419,
   "metadata": {
    "collapsed": false
   },
   "outputs": [],
   "source": [
    "def get_accuracy(regime, phone):\n",
    "    if regime == \"high+1sec\":\n",
    "        return \"high-1\"\n",
    "    elif regime == \"best+1m\":\n",
    "        return \"best\"\n",
    "    elif regime == \"high-v-balanced+1sec-v-30sec\":\n",
    "        if phone == 1:\n",
    "            return \"balanced-1\"\n",
    "        elif phone == 2:\n",
    "            return \"high-30\"\n",
    "        elif phone == 3:\n",
    "            return \"balanced-30\"\n",
    "    elif regime == \"best-v-10m+1m-v-30m\":\n",
    "        if phone == 1:\n",
    "            return \"10m\"\n",
    "        elif phone == 2:\n",
    "            return \"best\"\n",
    "        elif phone == 3:\n",
    "            return \"10m\"\n",
    "    elif regime == \"high-v-balanced+1sec-v-15sec\":\n",
    "        if phone == 1:\n",
    "            return \"balanced-1\"\n",
    "        elif phone == 2:\n",
    "            return \"high-15\"\n",
    "        elif phone == 3:\n",
    "            return \"balanced-15\"\n",
    "    elif regime == \"best-v-100m+1m-v-30m\":\n",
    "        if phone == 1:\n",
    "            return \"100m\"\n",
    "        elif phone == 2:\n",
    "            return \"best\"\n",
    "        elif phone == 3:\n",
    "            return \"100m\"    \n",
    "    return \"unknown\""
   ]
  },
  {
   "cell_type": "code",
   "execution_count": 420,
   "metadata": {
    "collapsed": false
   },
   "outputs": [],
   "source": [
    "moving_accuracy_distance_series = {}\n",
    "for acc in [\"high-1\", \"balanced-1\", \"high-15\", \"balanced-15\", \"high-30\", \"balanced-30\", \"best\", \"10m\", \"100m\"]:\n",
    "    moving_accuracy_distance_series[acc] =[]\n",
    "    \n",
    "stationary_accuracy_distance_series = {}\n",
    "for acc in [\"high-1\", \"balanced-1\", \"high-15\", \"balanced-15\", \"high-30\", \"balanced-30\",  \"best\", \"10m\", \"100m\"]:\n",
    "    stationary_accuracy_distance_series[acc] =[]\n",
    "\n",
    "loitering_accuracy_distance_series = {}\n",
    "for acc in [\"high-1\", \"balanced-1\", \"high-15\", \"balanced-15\", \"high-30\", \"balanced-30\", \"best\", \"10m\", \"100m\"]:\n",
    "    loitering_accuracy_distance_series[acc] =[]\n",
    "    \n",
    "all_accuracy_distance_series = {}\n",
    "for acc in [\"high-1\", \"balanced-1\", \"high-15\", \"balanced-15\", \"high-30\", \"balanced-30\",  \"best\", \"10m\", \"100m\"]:\n",
    "    all_accuracy_distance_series[acc] =[]"
   ]
  },
  {
   "cell_type": "code",
   "execution_count": 422,
   "metadata": {
    "collapsed": false
   },
   "outputs": [],
   "source": [
    "for entry in result_list:\n",
    "    # print \"For entry %s %s %s accuracies are %s and %s\" % (entry['ios_regime'], entry['android_regime'], entry['phone'],\n",
    "    #                                                  get_accuracy(entry['ios_regime'], entry['phone']), get_accuracy(entry['android_regime'], entry['phone']))\n",
    "    all_accuracy_distance_series[get_accuracy(entry['ios_regime'], entry['phone'])].append(entry['ios_compare'].compare_distance)\n",
    "    all_accuracy_distance_series[get_accuracy(entry['android_regime'], entry['phone'])].append(entry['android_compare'].compare_distance)"
   ]
  },
  {
   "cell_type": "code",
   "execution_count": 423,
   "metadata": {
    "collapsed": false
   },
   "outputs": [
    {
     "name": "stdout",
     "output_type": "stream",
     "text": [
      "['100m', 'high-1', '10m', 'balanced-1', 'high-30', 'balanced-15', 'high-15', 'balanced-30', 'best']\n",
      "[24, 30, 62, 48, 28, 12, 10, 26, 68]\n"
     ]
    }
   ],
   "source": [
    "print all_accuracy_distance_series.keys()\n",
    "print map(lambda key: len(all_accuracy_distance_series[key]), all_accuracy_distance_series.keys())"
   ]
  },
  {
   "cell_type": "code",
   "execution_count": 424,
   "metadata": {
    "collapsed": false
   },
   "outputs": [],
   "source": [
    "all_accuracy_results = compareState(all_accuracy_distance_series)"
   ]
  },
  {
   "cell_type": "code",
   "execution_count": 426,
   "metadata": {
    "collapsed": false
   },
   "outputs": [
    {
     "data": {
      "text/plain": [
       "10"
      ]
     },
     "execution_count": 426,
     "metadata": {},
     "output_type": "execute_result"
    }
   ],
   "source": [
    "len(all_accuracy_distance_series['high-15'])"
   ]
  },
  {
   "cell_type": "code",
   "execution_count": 425,
   "metadata": {
    "collapsed": false
   },
   "outputs": [
    {
     "data": {
      "text/plain": [
       "<matplotlib.axes.AxesSubplot at 0x151b2bf10>"
      ]
     },
     "execution_count": 425,
     "metadata": {},
     "output_type": "execute_result"
    },
    {
     "data": {
      "image/png": "[encoded data removed]",
      "text/plain": [
       "<matplotlib.figure.Figure at 0x11f84cb50>"
      ]
     },
     "metadata": {},
     "output_type": "display_data"
    }
   ],
   "source": [
    "all_accuracy_results.plot(kind='bar', title=\"all data\")"
   ]
  },
  {
   "cell_type": "code",
   "execution_count": 427,
   "metadata": {
    "collapsed": false
   },
   "outputs": [],
   "source": [
    "all_accuracy_results.to_csv(open(\"/tmp/accuracy_results.csv\", \"w\"))"
   ]
  },
  {
   "cell_type": "code",
   "execution_count": null,
   "metadata": {
    "collapsed": false
   },
   "outputs": [],
   "source": []
  }
 ],
 "metadata": {
  "kernelspec": {
   "display_name": "Python 2",
   "language": "python",
   "name": "python2"
  },
  "language_info": {
   "codemirror_mode": {
    "name": "ipython",
    "version": 2
   },
   "file_extension": ".py",
   "mimetype": "text/x-python",
   "name": "python",
   "nbconvert_exporter": "python",
   "pygments_lexer": "ipython2",
   "version": "2.7.11"
  }
 },
 "nbformat": 4,
 "nbformat_minor": 0
}
