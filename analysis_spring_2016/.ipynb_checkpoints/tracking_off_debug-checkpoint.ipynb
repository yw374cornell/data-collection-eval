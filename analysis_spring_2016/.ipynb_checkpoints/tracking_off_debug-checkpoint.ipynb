{
 "cells": [
  {
   "cell_type": "code",
   "execution_count": null,
   "metadata": {
    "collapsed": true
   },
   "outputs": [],
   "source": [
    "import sys\n",
    "import logging\n",
    "from uuid import UUID\n",
    "\n",
    "import emission.core.get_database as edb\n",
    "import pandas as pd\n",
    "import matplotlib.pyplot as plt\n",
    "%matplotlib inline\n",
    "import datetime as pydt\n",
    "import emission.storage.timeseries.abstract_timeseries as esta\n",
    "import emission.storage.timeseries.timequery as estt\n",
    "\n",
    "logging.getLogger().setLevel(logging.DEBUG)\n",
    "logging.debug(sys.path)\n",
    "\n",
    "iphone_ids = [UUID(\"079e0f1a-c440-3d7c-b0e7-de160f748e35\"), UUID(\"c76a0487-7e5a-3b17-a449-47be666b36f6\"), \n",
    "              UUID(\"c528bcd2-a88b-3e82-be62-ef4f2396967a\"), UUID(\"95e70727-a04e-3e33-b7fe-34ab19194f8b\")]\n",
    "android_ids = [UUID(\"e471711e-bd14-3dbe-80b6-9c7d92ecc296\"), UUID(\"fd7b4c2e-2c8b-3bfa-94f0-d1e3ecbd5fb7\"),\n",
    "               UUID(\"86842c35-da28-32ed-a90e-2da6663c5c73\"), UUID(\"3bc0f91f-7660-34a2-b005-5c399598a369\")]"
   ]
  },
  {
   "cell_type": "code",
   "execution_count": null,
   "metadata": {
    "collapsed": false
   },
   "outputs": [],
   "source": [
    "#type(db): pymongo.cursor.Cursor\n",
    "db = edb.get_timeseries_db().find({\"metadata.key\": \"config/sensor_config\", \"data.battery_status\": {\"$exists\": True}}).sort(\"metadata.write_ts\").limit(10)\n",
    "\n",
    "db_ls = list(db)\n",
    "type(db_ls)"
   ]
  },
  {
   "cell_type": "code",
   "execution_count": null,
   "metadata": {
    "collapsed": false
   },
   "outputs": [],
   "source": [
    "#type: list of emission.storage.timeseries.builtin_timeseries.BuiltinTimeSeries\n",
    "iphone_ts = map(lambda u: esta.TimeSeries.get_time_series(u), iphone_ids)\n",
    "android_ts = map(lambda u: esta.TimeSeries.get_time_series(u), android_ids)\n",
    "\n",
    "#time query specification\n",
    "dt1 = pydt.datetime(2016, 8, 5, 0, 0) #datetime.datetime(2016, 6, 24, 22, 0)\n",
    "dt2 = pydt.datetime(2016, 8, 5, 17, 0)\n",
    "ts1 = int(dt1.strftime(\"%s\"))\n",
    "ts2 = int(dt2.strftime(\"%s\"))\n",
    "\n",
    "time_range = estt.TimeQuery(\"metadata.write_ts\", ts1, ts2)\n",
    "\n",
    "#BuiltinTimeSeries.get_data_df(key, time_query = None, geo_query = None, extra_query_list=None) \n",
    "#return type: list of DataFrame objects (regarding state info)\n",
    "iphone_state_df_list = map(lambda t:t.get_data_df(\"statemachine/transition\", time_range), iphone_ts)\n",
    "android_state_df_list = map(lambda t:t.get_data_df(\"statemachine/transition\", time_range), android_ts)\n",
    "\n",
    "iphone_battery_df_list = map(lambda t:t.get_data_df(\"background/battery\", time_range), iphone_ts)\n",
    "android_battery_df_list = map(lambda t:t.get_data_df(\"background/battery\", time_range), android_ts)\n",
    "\n",
    "iphone_location_df_list = map(lambda t:t.get_data_df(\"background/location\", time_range), iphone_ts)\n",
    "android_location_df_list = map(lambda t:t.get_data_df(\"background/location\", time_range), android_ts)\n",
    "android_filtered_location_df_list = map(lambda t:t.get_data_df(\"background/filtered_location\", time_range), android_ts)"
   ]
  },
  {
   "cell_type": "code",
   "execution_count": null,
   "metadata": {
    "collapsed": false
   },
   "outputs": [],
   "source": [
    "test_a = android_battery_df_list[2]\n",
    "test_a"
   ]
  },
  {
   "cell_type": "code",
   "execution_count": null,
   "metadata": {
    "collapsed": false
   },
   "outputs": [],
   "source": [
    "# testing whether location tracking is enabled \n",
    "#test_a = iphone_location_df_list[1]\n",
    "#test_a['fmt_time']\n",
    "#test_a"
   ]
  },
  {
   "cell_type": "code",
   "execution_count": null,
   "metadata": {
    "collapsed": false
   },
   "outputs": [],
   "source": [
    "_iphone_config_df_list = map(lambda t:t.get_data_df(\"config/sensor_config\", time_range), iphone_ts)\n",
    "_android_config_df_list = map(lambda t:t.get_data_df(\"config/sensor_config\", time_range), android_ts)\n",
    "\n",
    "ts_to_dt = lambda t: pydt.datetime.fromtimestamp(t)\n",
    "\n",
    "iphone_config_df_list=[]\n",
    "for i, df in enumerate(_iphone_config_df_list):\n",
    "    if len(df) != 0:\n",
    "        df['config_time'] = df['metadata_write_ts'].apply(ts_to_dt)\n",
    "        #df['ts'] = df['metadata_write_ts']\n",
    "        iphone_config_df_list.append(df)\n",
    "    else:\n",
    "        iphone_config_df_list.append(None)\n",
    "        print \"no config log for ios\" + str(i+1)\n",
    "\n",
    "android_config_df_list=[]\n",
    "for i, df in enumerate(_android_config_df_list):\n",
    "    if len(df) != 0:\n",
    "        df['config_time'] = df['metadata_write_ts'].apply(ts_to_dt)\n",
    "        #df['ts'] = df['metadata_write_ts'] # <class 'pandas.core.series.Series'>\n",
    "        android_config_df_list.append(df)\n",
    "    else:\n",
    "        android_config_df_list.append(None)\n",
    "        print \"no config log for android\" + str(i+1)"
   ]
  },
  {
   "cell_type": "code",
   "execution_count": null,
   "metadata": {
    "collapsed": true
   },
   "outputs": [],
   "source": [
    "def config_changed(df):\n",
    "    changed_lst = ['Null']\n",
    "    temp = df.copy()\n",
    "    temp = temp.drop(['_id', 'metadata_write_ts', 'config_time'], 1)\n",
    "    #print temp\n",
    "    #temp.reset_index(inplace=True)\n",
    "    for i in range(1, len(temp)):\n",
    "        #print(temp.iloc[i]==temp.iloc[i-1])\n",
    "        if temp.iloc[i].equals(temp.iloc[i-1]):\n",
    "            changed_lst.append('0')\n",
    "        else:\n",
    "            changed_lst.append('1')\n",
    "    return changed_lst"
   ]
  },
  {
   "cell_type": "code",
   "execution_count": null,
   "metadata": {
    "collapsed": false
   },
   "outputs": [],
   "source": [
    "iphone_config_change_df_list=[]\n",
    "for index, df in enumerate(iphone_config_df_list):\n",
    "    if df is None:\n",
    "        #no config log found \n",
    "        iphone_config_change_df_list.append(None)\n",
    "    else:\n",
    "        config_series = config_changed(df)\n",
    "        df.loc[:, 'config_changed'] = pd.Series(config_series, index=df.index)\n",
    "        iphone_config_change_df_list.append(df)\n",
    "    \n",
    "android_config_change_df_list=[]\n",
    "for index, df in enumerate(android_config_df_list):\n",
    "    if df is None:\n",
    "        #no config log found \n",
    "        android_config_change_df_list.append(None)\n",
    "    else:\n",
    "        config_series = config_changed(df)\n",
    "        df.loc[:, 'config_changed'] = pd.Series(config_series, index=df.index)\n",
    "        android_config_change_df_list.append(df)"
   ]
  },
  {
   "cell_type": "code",
   "execution_count": null,
   "metadata": {
    "collapsed": false
   },
   "outputs": [],
   "source": [
    "# testing if configuration is changed through config data\n",
    "ios1 = iphone_config_change_df_list[0]\n",
    "ios1\n",
    "android1 = android_config_change_df_list[0]\n",
    "android1"
   ]
  },
  {
   "cell_type": "code",
   "execution_count": null,
   "metadata": {
    "collapsed": false
   },
   "outputs": [],
   "source": [
    "#checking Android data...\n",
    "android = 0\n",
    "n = android-1\n",
    "\n",
    "a_s = android_state_df_list[n][['metadata_write_ts', 'fmt_time', 'curr_state', 'transition']]\n",
    "a_s.rename(columns = {'fmt_time':'state_time'}, inplace = True)\n",
    "\n",
    "a_b = android_battery_df_list[n][['metadata_write_ts', 'fmt_time', 'battery_level_pct', 'battery_status']]\n",
    "a_b.rename(columns = {'fmt_time':'battery_time'}, inplace = True)\n",
    "\n",
    "a_c = android_config_change_df_list[n]\n",
    "\n",
    "if False:\n",
    "#if a_c is not None: \n",
    "    a_sc = pd.merge(a_s, a_c, on='metadata_write_ts', how='outer')\n",
    "    a_sc.sort_values('metadata_write_ts', ascending=True, inplace=True)\n",
    "    #ts_to_dt = lambda t: pydt.datetime.fromtimestamp(t)\n",
    "    #a_sc['dt']=a_sc['metadata_write_ts'].apply(ts_to_dt)\n",
    "\n",
    "    #print len(a_combined)\n",
    "    a_sc.fillna('-')[['state_time','config_time', 'curr_state', 'transition', 'config_changed']]\n",
    "\n",
    "    a_all = pd.merge(a_sc, a_b, on='metadata_write_ts', how='outer')\n",
    "    a_all.sort_values('metadata_write_ts', ascending=True, inplace=True)\n",
    "    a_all.fillna('-')[['state_time','config_time', 'battery_time','curr_state', 'transition', 'config_changed', 'battery_level_pct', 'battery_status']]\n",
    "\n",
    "a_sb = pd.merge(a_s, a_b, on='metadata_write_ts', how='outer')\n",
    "a_sb.sort_values('metadata_write_ts', ascending=True, inplace=True)\n",
    "a_sb.fillna('-')[['state_time', 'battery_time','curr_state', 'transition', 'battery_level_pct', 'battery_status']]\n",
    "\n",
    "#states\n",
    "#a_s[a_s.curr_state!=3]\n",
    "a_s\n",
    "\n",
    "#a_c\n",
    "\n",
    "#a_sb"
   ]
  },
  {
   "cell_type": "code",
   "execution_count": null,
   "metadata": {
    "collapsed": false
   },
   "outputs": [],
   "source": [
    "#checking iOS data...\n",
    "iphone = 4\n",
    "n = iphone-1\n",
    "ios_s = iphone_state_df_list[n][['metadata_write_ts', 'fmt_time', 'curr_state', 'transition']]\n",
    "ios_s.rename(columns = {'fmt_time':'state_time'}, inplace = True)\n",
    "\n",
    "ios_b = iphone_battery_df_list[n][['metadata_write_ts', 'fmt_time', 'battery_level_pct', 'battery_status']]\n",
    "ios_b.rename(columns = {'fmt_time':'battery_time'}, inplace = True)\n",
    "\n",
    "ios_c = iphone_config_change_df_list[n]\n",
    "\n",
    "if ios_c is not None:\n",
    "    ios_sc = pd.merge(ios_s, ios_c, on='metadata_write_ts', how='outer')\n",
    "    ios_sc.sort_values('metadata_write_ts', ascending=True, inplace=True)\n",
    "    #ts_to_dt = lambda t: pydt.datetime.fromtimestamp(t)\n",
    "    #ios_sc['dt']=ios_sc['metadata_write_ts'].apply(ts_to_dt)\n",
    "\n",
    "    #print len(ios_sc)\n",
    "    #ios_sc.fillna('-')[['state_time','config_time','curr_state', 'transition', 'config_changed', 'ios_use_visit_notifications_for_detection']]\n",
    "\n",
    "# transition 7&16 are for RECEIVED_SILENT_PUSH and DATA_PUSHED\n",
    "ios_s_new = ios_s[(ios_s.transition!=7) & (ios_s.transition!=16)]\n",
    "ios_sb = pd.merge(ios_s_new, ios_b, on='metadata_write_ts', how='outer')\n",
    "ios_sb.sort_values('metadata_write_ts', ascending=True, inplace=True)\n",
    "ios_sb.fillna('-')[['state_time', 'battery_time','curr_state', 'transition', 'battery_level_pct', 'battery_status']]\n",
    "#ios_s_new\n",
    "\n",
    "#states+configs combined\n",
    "#ios_sc.fillna('-')[['state_time', 'config_time','curr_state', 'transition', 'config_changed']][(ios_sc.transition!=7) & (ios_sc.transition!=16)]\n",
    "\n",
    "#configs \n",
    "#ios_c[['config_time', 'simulate_user_interaction']]\n",
    "#ios_c\n",
    "#battery\n",
    "ios_b\n",
    "\n",
    "#states\n",
    "#ios_s"
   ]
  },
  {
   "cell_type": "code",
   "execution_count": 174,
   "metadata": {
    "collapsed": false
   },
   "outputs": [
    {
     "name": "stdout",
     "output_type": "stream",
     "text": [
      "2000\n",
      "10\n",
      "12\n"
     ]
    }
   ],
   "source": [
    "str = \"2000/10/12\"\n",
    "a= str.split('/')\n",
    "print a[0]\n",
    "print a[1]\n",
    "print a[2]"
   ]
  },
  {
   "cell_type": "code",
   "execution_count": null,
   "metadata": {
    "collapsed": true
   },
   "outputs": [],
   "source": []
  }
 ],
 "metadata": {
  "kernelspec": {
   "display_name": "Python 2",
   "language": "python",
   "name": "python2"
  },
  "language_info": {
   "codemirror_mode": {
    "name": "ipython",
    "version": 2
   },
   "file_extension": ".py",
   "mimetype": "text/x-python",
   "name": "python",
   "nbconvert_exporter": "python",
   "pygments_lexer": "ipython2",
   "version": "2.7.11"
  }
 },
 "nbformat": 4,
 "nbformat_minor": 0
}
