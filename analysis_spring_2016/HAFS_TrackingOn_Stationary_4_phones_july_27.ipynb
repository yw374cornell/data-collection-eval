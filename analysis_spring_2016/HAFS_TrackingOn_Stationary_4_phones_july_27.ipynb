{
 "cells": [
  {
   "cell_type": "code",
   "execution_count": 1,
   "metadata": {
    "collapsed": false
   },
   "outputs": [],
   "source": [
    "import sys\n",
    "import logging\n",
    "from uuid import UUID\n",
    "\n",
    "import emission.core.get_database as edb\n",
    "import pandas as pd\n",
    "import matplotlib.pyplot as plt\n",
    "%matplotlib inline\n",
    "import datetime as pydt\n",
    "import emission.storage.timeseries.abstract_timeseries as esta\n",
    "import emission.storage.timeseries.timequery as estt\n",
    "\n",
    "logging.getLogger().setLevel(logging.DEBUG)\n",
    "logging.debug(sys.path)\n",
    "#\n",
    "iphone_ids = [UUID(\"079e0f1a-c440-3d7c-b0e7-de160f748e35\"), UUID(\"c76a0487-7e5a-3b17-a449-47be666b36f6\"),\n",
    "              UUID(\"c528bcd2-a88b-3e82-be62-ef4f2396967a\"), UUID(\"95e70727-a04e-3e33-b7fe-34ab19194f8b\")]\n",
    "android_ids = [UUID(\"e471711e-bd14-3dbe-80b6-9c7d92ecc296\"), UUID(\"fd7b4c2e-2c8b-3bfa-94f0-d1e3ecbd5fb7\"),\n",
    "               UUID(\"86842c35-da28-32ed-a90e-2da6663c5c73\"), UUID(\"3bc0f91f-7660-34a2-b005-5c399598a369\")]"
   ]
  },
  {
   "cell_type": "code",
   "execution_count": 2,
   "metadata": {
    "collapsed": false
   },
   "outputs": [
    {
     "data": {
      "text/plain": [
       "[{u'_id': ObjectId('56fadecd88f66341cb3618c9'),\n",
       "  u'data': {u'android_health': u'GOOD',\n",
       "   u'android_plugged': u'USB',\n",
       "   u'android_technology': u'Li-ion',\n",
       "   u'android_temperature': 226,\n",
       "   u'android_voltage': 226,\n",
       "   u'battery_level_pct': 100,\n",
       "   u'battery_status': 5},\n",
       "  u'metadata': {u'key': u'config/sensor_config',\n",
       "   u'platform': u'android',\n",
       "   u'read_ts': 1459281599.629,\n",
       "   u'time_zone': u'America/Los_Angeles',\n",
       "   u'type': u'sensor-data',\n",
       "   u'write_fmt_time': u'2016-03-29T11:56:24.694000-07:00',\n",
       "   u'write_local_dt': datetime.datetime(2016, 3, 29, 11, 56, 24, 694000),\n",
       "   u'write_ts': 1459277784.694},\n",
       "  u'user_id': UUID('e471711e-bd14-3dbe-80b6-9c7d92ecc296')},\n",
       " {u'_id': ObjectId('56faecf288f66323bcc68ee9'),\n",
       "  u'data': {u'android_health': u'GOOD',\n",
       "   u'android_plugged': u'USB',\n",
       "   u'android_technology': u'Li-ion',\n",
       "   u'android_temperature': 197,\n",
       "   u'android_voltage': 197,\n",
       "   u'battery_level_pct': 100,\n",
       "   u'battery_status': 2},\n",
       "  u'metadata': {u'key': u'config/sensor_config',\n",
       "   u'platform': u'android',\n",
       "   u'read_ts': 1459282820.251,\n",
       "   u'time_zone': u'America/Los_Angeles',\n",
       "   u'type': u'sensor-data',\n",
       "   u'write_fmt_time': u'2016-03-29T12:04:25.743000-07:00',\n",
       "   u'write_local_dt': datetime.datetime(2016, 3, 29, 12, 4, 25, 743000),\n",
       "   u'write_ts': 1459278265.743},\n",
       "  u'user_id': UUID('fd7b4c2e-2c8b-3bfa-94f0-d1e3ecbd5fb7')},\n",
       " {u'_id': ObjectId('56faecdd88f66323bcc668cd'),\n",
       "  u'data': {u'android_health': u'GOOD',\n",
       "   u'android_plugged': u'USB',\n",
       "   u'android_technology': u'Li-ion',\n",
       "   u'android_temperature': 190,\n",
       "   u'android_voltage': 190,\n",
       "   u'battery_level_pct': 100,\n",
       "   u'battery_status': 2},\n",
       "  u'metadata': {u'key': u'config/sensor_config',\n",
       "   u'platform': u'android',\n",
       "   u'read_ts': 1459282145.521,\n",
       "   u'time_zone': u'America/Los_Angeles',\n",
       "   u'type': u'sensor-data',\n",
       "   u'write_fmt_time': u'2016-03-29T12:07:17.613000-07:00',\n",
       "   u'write_local_dt': datetime.datetime(2016, 3, 29, 12, 7, 17, 613000),\n",
       "   u'write_ts': 1459278437.613},\n",
       "  u'user_id': UUID('86842c35-da28-32ed-a90e-2da6663c5c73')},\n",
       " {u'_id': ObjectId('56faecd388f66323bcc6574f'),\n",
       "  u'data': {u'android_health': u'GOOD',\n",
       "   u'android_plugged': u'USB',\n",
       "   u'android_technology': u'Li-ion',\n",
       "   u'android_temperature': 190,\n",
       "   u'android_voltage': 190,\n",
       "   u'battery_level_pct': 100,\n",
       "   u'battery_status': 5},\n",
       "  u'metadata': {u'key': u'config/sensor_config',\n",
       "   u'platform': u'android',\n",
       "   u'read_ts': 1459282692.584,\n",
       "   u'time_zone': u'America/Los_Angeles',\n",
       "   u'type': u'sensor-data',\n",
       "   u'write_fmt_time': u'2016-03-29T12:13:22.162000-07:00',\n",
       "   u'write_local_dt': datetime.datetime(2016, 3, 29, 12, 13, 22, 162000),\n",
       "   u'write_ts': 1459278802.162},\n",
       "  u'user_id': UUID('3bc0f91f-7660-34a2-b005-5c399598a369')},\n",
       " {u'_id': ObjectId('56faeced88f66323bcc684f6'),\n",
       "  u'data': {u'android_health': u'GOOD',\n",
       "   u'android_plugged': u'UNKNOWN',\n",
       "   u'android_technology': u'Li-ion',\n",
       "   u'android_temperature': 322,\n",
       "   u'android_voltage': 322,\n",
       "   u'battery_level_pct': 96,\n",
       "   u'battery_status': 3},\n",
       "  u'metadata': {u'key': u'config/sensor_config',\n",
       "   u'platform': u'android',\n",
       "   u'read_ts': 1459285199.991,\n",
       "   u'time_zone': u'America/Los_Angeles',\n",
       "   u'type': u'sensor-data',\n",
       "   u'write_fmt_time': u'2016-03-29T13:00:28.078000-07:00',\n",
       "   u'write_local_dt': datetime.datetime(2016, 3, 29, 13, 0, 28, 78000),\n",
       "   u'write_ts': 1459281628.078},\n",
       "  u'user_id': UUID('e471711e-bd14-3dbe-80b6-9c7d92ecc296')},\n",
       " {u'_id': ObjectId('56fafaeb88f66366fd9ed82a'),\n",
       "  u'data': {u'android_health': u'GOOD',\n",
       "   u'android_plugged': u'UNKNOWN',\n",
       "   u'android_technology': u'Li-ion',\n",
       "   u'android_temperature': 321,\n",
       "   u'android_voltage': 321,\n",
       "   u'battery_level_pct': 98,\n",
       "   u'battery_status': 3},\n",
       "  u'metadata': {u'key': u'config/sensor_config',\n",
       "   u'platform': u'android',\n",
       "   u'read_ts': 1459286817.69,\n",
       "   u'time_zone': u'America/Los_Angeles',\n",
       "   u'type': u'sensor-data',\n",
       "   u'write_fmt_time': u'2016-03-29T13:09:35.170000-07:00',\n",
       "   u'write_local_dt': datetime.datetime(2016, 3, 29, 13, 9, 35, 170000),\n",
       "   u'write_ts': 1459282175.17},\n",
       "  u'user_id': UUID('86842c35-da28-32ed-a90e-2da6663c5c73')},\n",
       " {u'_id': ObjectId('56fafae388f66366fd9ecea6'),\n",
       "  u'data': {u'android_health': u'GOOD',\n",
       "   u'android_plugged': u'UNKNOWN',\n",
       "   u'android_technology': u'Li-ion',\n",
       "   u'android_temperature': 310,\n",
       "   u'android_voltage': 310,\n",
       "   u'battery_level_pct': 96,\n",
       "   u'battery_status': 3},\n",
       "  u'metadata': {u'key': u'config/sensor_config',\n",
       "   u'platform': u'android',\n",
       "   u'read_ts': 1459286821.157,\n",
       "   u'time_zone': u'America/Los_Angeles',\n",
       "   u'type': u'sensor-data',\n",
       "   u'write_fmt_time': u'2016-03-29T13:19:03.454000-07:00',\n",
       "   u'write_local_dt': datetime.datetime(2016, 3, 29, 13, 19, 3, 454000),\n",
       "   u'write_ts': 1459282743.454},\n",
       "  u'user_id': UUID('3bc0f91f-7660-34a2-b005-5c399598a369')},\n",
       " {u'_id': ObjectId('56fafaf388f66366fd9ee2c3'),\n",
       "  u'data': {u'android_health': u'GOOD',\n",
       "   u'android_plugged': u'UNKNOWN',\n",
       "   u'android_technology': u'Li-ion',\n",
       "   u'android_temperature': 353,\n",
       "   u'android_voltage': 353,\n",
       "   u'battery_level_pct': 96,\n",
       "   u'battery_status': 3},\n",
       "  u'metadata': {u'key': u'config/sensor_config',\n",
       "   u'platform': u'android',\n",
       "   u'read_ts': 1459286820.554,\n",
       "   u'time_zone': u'America/Los_Angeles',\n",
       "   u'type': u'sensor-data',\n",
       "   u'write_fmt_time': u'2016-03-29T13:20:45.541000-07:00',\n",
       "   u'write_local_dt': datetime.datetime(2016, 3, 29, 13, 20, 45, 541000),\n",
       "   u'write_ts': 1459282845.541},\n",
       "  u'user_id': UUID('fd7b4c2e-2c8b-3bfa-94f0-d1e3ecbd5fb7')},\n",
       " {u'_id': ObjectId('56fb6b9588f663182df8af24'),\n",
       "  u'data': {u'android_health': u'GOOD',\n",
       "   u'android_plugged': u'UNKNOWN',\n",
       "   u'android_technology': u'Li-ion',\n",
       "   u'android_temperature': 396,\n",
       "   u'android_voltage': 396,\n",
       "   u'battery_level_pct': 92,\n",
       "   u'battery_status': 3},\n",
       "  u'metadata': {u'key': u'config/sensor_config',\n",
       "   u'platform': u'android',\n",
       "   u'read_ts': 1459314419.602,\n",
       "   u'time_zone': u'America/Los_Angeles',\n",
       "   u'type': u'sensor-data',\n",
       "   u'write_fmt_time': u'2016-03-29T14:00:19.014000-07:00',\n",
       "   u'write_local_dt': datetime.datetime(2016, 3, 29, 14, 0, 19, 14000),\n",
       "   u'write_ts': 1459285219.014},\n",
       "  u'user_id': UUID('e471711e-bd14-3dbe-80b6-9c7d92ecc296')},\n",
       " {u'_id': ObjectId('56fb4f5a88f663293aca2daa'),\n",
       "  u'data': {u'android_health': u'GOOD',\n",
       "   u'android_plugged': u'UNKNOWN',\n",
       "   u'android_technology': u'Li-ion',\n",
       "   u'android_temperature': 387,\n",
       "   u'android_voltage': 387,\n",
       "   u'battery_level_pct': 93,\n",
       "   u'battery_status': 3},\n",
       "  u'metadata': {u'key': u'config/sensor_config',\n",
       "   u'platform': u'android',\n",
       "   u'read_ts': 1459310422.186005,\n",
       "   u'time_zone': u'America/Los_Angeles',\n",
       "   u'type': u'sensor-data',\n",
       "   u'write_fmt_time': u'2016-03-29T14:27:11.975000-07:00',\n",
       "   u'write_local_dt': datetime.datetime(2016, 3, 29, 14, 27, 11, 975000),\n",
       "   u'write_ts': 1459286831.975},\n",
       "  u'user_id': UUID('fd7b4c2e-2c8b-3bfa-94f0-d1e3ecbd5fb7')}]"
      ]
     },
     "execution_count": 2,
     "metadata": {},
     "output_type": "execute_result"
    }
   ],
   "source": [
    "list(edb.get_timeseries_db().find({\"metadata.key\": \"config/sensor_config\", \"data.battery_status\": {\"$exists\": True}}).sort(\"metadata.write_ts\").limit(10))"
   ]
  },
  {
   "cell_type": "code",
   "execution_count": 3,
   "metadata": {
    "collapsed": false
   },
   "outputs": [],
   "source": [
    "#type: list of emission.storage.timeseries.builtin_timeseries.BuiltinTimeSeries\n",
    "iphone_ts = map(lambda u: esta.TimeSeries.get_time_series(u), iphone_ids)\n",
    "android_ts = map(lambda u: esta.TimeSeries.get_time_series(u), android_ids)\n",
    "\n",
    "#time query specification\n",
    "dt1 = pydt.datetime(2016, 7, 27, 17, 0)\n",
    "dt2 = pydt.datetime(2016, 7, 28, 17, 30)\n",
    "\n",
    "ts1 = int(dt1.strftime(\"%s\"))\n",
    "ts2 = int(dt2.strftime(\"%s\"))\n",
    "\n",
    "time_range = estt.TimeQuery(\"metadata.write_ts\", ts1, ts2)\n",
    "\n",
    "dt3 = pydt.datetime(2016, 7, 28, 15, 57)\n",
    "ts3 = int(dt3.strftime(\"%s\"))\n",
    "time_range_a = estt.TimeQuery(\"metadata.write_ts\", ts1, ts3)\n",
    "\n",
    "#BuiltinTimeSeries.get_data_df(key, time_query = None, geo_query = None, extra_query_list=None) \n",
    "#type: list of DataFrame objects (regarding state info)\n",
    "iphone_state_df_list = map(lambda t:t.get_data_df(\"statemachine/transition\", time_range), iphone_ts)\n",
    "android_state_df_list = map(lambda t:t.get_data_df(\"statemachine/transition\", time_range_a), android_ts)\n",
    "\n",
    "iphone_battery_df_list = map(lambda t:t.get_data_df(\"background/battery\", time_range), iphone_ts)\n",
    "android_battery_df_list = map(lambda t:t.get_data_df(\"background/battery\", time_range_a), android_ts)"
   ]
  },
  {
   "cell_type": "code",
   "execution_count": 4,
   "metadata": {
    "collapsed": false
   },
   "outputs": [
    {
     "data": {
      "text/html": [
       "<div>\n",
       "<table border=\"1\" class=\"dataframe\">\n",
       "  <thead>\n",
       "    <tr style=\"text-align: right;\">\n",
       "      <th></th>\n",
       "      <th>fmt_time</th>\n",
       "      <th>battery_level_pct</th>\n",
       "      <th>battery_status</th>\n",
       "    </tr>\n",
       "  </thead>\n",
       "  <tbody>\n",
       "    <tr>\n",
       "      <th>0</th>\n",
       "      <td>2016-07-27T17:46:23.459000-07:00</td>\n",
       "      <td>100</td>\n",
       "      <td>3</td>\n",
       "    </tr>\n",
       "    <tr>\n",
       "      <th>1</th>\n",
       "      <td>2016-07-27T19:51:50.841000-07:00</td>\n",
       "      <td>92</td>\n",
       "      <td>1</td>\n",
       "    </tr>\n",
       "    <tr>\n",
       "      <th>2</th>\n",
       "      <td>2016-07-27T21:45:35.185000-07:00</td>\n",
       "      <td>84</td>\n",
       "      <td>1</td>\n",
       "    </tr>\n",
       "    <tr>\n",
       "      <th>3</th>\n",
       "      <td>2016-07-28T01:46:32.565000-07:00</td>\n",
       "      <td>65</td>\n",
       "      <td>1</td>\n",
       "    </tr>\n",
       "    <tr>\n",
       "      <th>4</th>\n",
       "      <td>2016-07-28T07:48:28.569000-07:00</td>\n",
       "      <td>36</td>\n",
       "      <td>1</td>\n",
       "    </tr>\n",
       "    <tr>\n",
       "      <th>5</th>\n",
       "      <td>2016-07-28T15:55:05.418000-07:00</td>\n",
       "      <td>12</td>\n",
       "      <td>2</td>\n",
       "    </tr>\n",
       "  </tbody>\n",
       "</table>\n",
       "</div>"
      ],
      "text/plain": [
       "                           fmt_time  battery_level_pct  battery_status\n",
       "0  2016-07-27T17:46:23.459000-07:00                100               3\n",
       "1  2016-07-27T19:51:50.841000-07:00                 92               1\n",
       "2  2016-07-27T21:45:35.185000-07:00                 84               1\n",
       "3  2016-07-28T01:46:32.565000-07:00                 65               1\n",
       "4  2016-07-28T07:48:28.569000-07:00                 36               1\n",
       "5  2016-07-28T15:55:05.418000-07:00                 12               2"
      ]
     },
     "execution_count": 4,
     "metadata": {},
     "output_type": "execute_result"
    }
   ],
   "source": [
    "android_test = android_battery_df_list[3]\n",
    "android_test[['fmt_time', 'battery_level_pct', 'battery_status']]"
   ]
  },
  {
   "cell_type": "code",
   "execution_count": 5,
   "metadata": {
    "collapsed": false
   },
   "outputs": [
    {
     "data": {
      "text/html": [
       "<div>\n",
       "<table border=\"1\" class=\"dataframe\">\n",
       "  <thead>\n",
       "    <tr style=\"text-align: right;\">\n",
       "      <th></th>\n",
       "      <th>fmt_time</th>\n",
       "      <th>battery_level_pct</th>\n",
       "      <th>battery_status</th>\n",
       "    </tr>\n",
       "  </thead>\n",
       "  <tbody>\n",
       "    <tr>\n",
       "      <th>0</th>\n",
       "      <td>2016-07-27T17:10:01.862705-07:00</td>\n",
       "      <td>100.0</td>\n",
       "      <td>3</td>\n",
       "    </tr>\n",
       "    <tr>\n",
       "      <th>1</th>\n",
       "      <td>2016-07-27T17:10:03.244523-07:00</td>\n",
       "      <td>100.0</td>\n",
       "      <td>3</td>\n",
       "    </tr>\n",
       "    <tr>\n",
       "      <th>2</th>\n",
       "      <td>2016-07-27T17:15:31.220024-07:00</td>\n",
       "      <td>100.0</td>\n",
       "      <td>3</td>\n",
       "    </tr>\n",
       "    <tr>\n",
       "      <th>3</th>\n",
       "      <td>2016-07-27T17:15:32.208943-07:00</td>\n",
       "      <td>100.0</td>\n",
       "      <td>3</td>\n",
       "    </tr>\n",
       "    <tr>\n",
       "      <th>4</th>\n",
       "      <td>2016-07-27T17:42:03.770242-07:00</td>\n",
       "      <td>100.0</td>\n",
       "      <td>3</td>\n",
       "    </tr>\n",
       "    <tr>\n",
       "      <th>5</th>\n",
       "      <td>2016-07-27T17:42:03.868324-07:00</td>\n",
       "      <td>100.0</td>\n",
       "      <td>3</td>\n",
       "    </tr>\n",
       "    <tr>\n",
       "      <th>6</th>\n",
       "      <td>2016-07-27T17:42:13.092449-07:00</td>\n",
       "      <td>100.0</td>\n",
       "      <td>3</td>\n",
       "    </tr>\n",
       "    <tr>\n",
       "      <th>7</th>\n",
       "      <td>2016-07-27T17:42:13.153971-07:00</td>\n",
       "      <td>100.0</td>\n",
       "      <td>3</td>\n",
       "    </tr>\n",
       "    <tr>\n",
       "      <th>8</th>\n",
       "      <td>2016-07-27T17:42:13.239209-07:00</td>\n",
       "      <td>100.0</td>\n",
       "      <td>3</td>\n",
       "    </tr>\n",
       "    <tr>\n",
       "      <th>9</th>\n",
       "      <td>2016-07-27T17:42:13.691589-07:00</td>\n",
       "      <td>100.0</td>\n",
       "      <td>3</td>\n",
       "    </tr>\n",
       "    <tr>\n",
       "      <th>10</th>\n",
       "      <td>2016-07-27T17:42:13.775513-07:00</td>\n",
       "      <td>100.0</td>\n",
       "      <td>3</td>\n",
       "    </tr>\n",
       "    <tr>\n",
       "      <th>11</th>\n",
       "      <td>2016-07-27T17:42:18.233064-07:00</td>\n",
       "      <td>100.0</td>\n",
       "      <td>3</td>\n",
       "    </tr>\n",
       "    <tr>\n",
       "      <th>12</th>\n",
       "      <td>2016-07-27T17:42:18.291993-07:00</td>\n",
       "      <td>100.0</td>\n",
       "      <td>3</td>\n",
       "    </tr>\n",
       "    <tr>\n",
       "      <th>13</th>\n",
       "      <td>2016-07-27T17:42:18.390754-07:00</td>\n",
       "      <td>100.0</td>\n",
       "      <td>3</td>\n",
       "    </tr>\n",
       "    <tr>\n",
       "      <th>14</th>\n",
       "      <td>2016-07-27T17:44:26.152599-07:00</td>\n",
       "      <td>100.0</td>\n",
       "      <td>3</td>\n",
       "    </tr>\n",
       "    <tr>\n",
       "      <th>15</th>\n",
       "      <td>2016-07-27T17:44:26.229750-07:00</td>\n",
       "      <td>100.0</td>\n",
       "      <td>3</td>\n",
       "    </tr>\n",
       "    <tr>\n",
       "      <th>16</th>\n",
       "      <td>2016-07-27T17:44:26.341592-07:00</td>\n",
       "      <td>100.0</td>\n",
       "      <td>3</td>\n",
       "    </tr>\n",
       "    <tr>\n",
       "      <th>17</th>\n",
       "      <td>2016-07-27T17:44:26.402264-07:00</td>\n",
       "      <td>100.0</td>\n",
       "      <td>3</td>\n",
       "    </tr>\n",
       "    <tr>\n",
       "      <th>18</th>\n",
       "      <td>2016-07-27T17:44:26.479293-07:00</td>\n",
       "      <td>100.0</td>\n",
       "      <td>3</td>\n",
       "    </tr>\n",
       "    <tr>\n",
       "      <th>19</th>\n",
       "      <td>2016-07-27T18:00:04.040060-07:00</td>\n",
       "      <td>100.0</td>\n",
       "      <td>1</td>\n",
       "    </tr>\n",
       "    <tr>\n",
       "      <th>20</th>\n",
       "      <td>2016-07-27T18:00:04.935148-07:00</td>\n",
       "      <td>100.0</td>\n",
       "      <td>1</td>\n",
       "    </tr>\n",
       "    <tr>\n",
       "      <th>21</th>\n",
       "      <td>2016-07-27T18:00:18.826685-07:00</td>\n",
       "      <td>100.0</td>\n",
       "      <td>1</td>\n",
       "    </tr>\n",
       "    <tr>\n",
       "      <th>22</th>\n",
       "      <td>2016-07-27T18:00:19.676819-07:00</td>\n",
       "      <td>100.0</td>\n",
       "      <td>1</td>\n",
       "    </tr>\n",
       "    <tr>\n",
       "      <th>23</th>\n",
       "      <td>2016-07-27T19:00:02.600918-07:00</td>\n",
       "      <td>100.0</td>\n",
       "      <td>1</td>\n",
       "    </tr>\n",
       "    <tr>\n",
       "      <th>24</th>\n",
       "      <td>2016-07-27T19:00:03.520241-07:00</td>\n",
       "      <td>100.0</td>\n",
       "      <td>1</td>\n",
       "    </tr>\n",
       "    <tr>\n",
       "      <th>25</th>\n",
       "      <td>2016-07-27T19:00:10.327490-07:00</td>\n",
       "      <td>100.0</td>\n",
       "      <td>1</td>\n",
       "    </tr>\n",
       "    <tr>\n",
       "      <th>26</th>\n",
       "      <td>2016-07-27T19:00:11.210679-07:00</td>\n",
       "      <td>100.0</td>\n",
       "      <td>1</td>\n",
       "    </tr>\n",
       "    <tr>\n",
       "      <th>27</th>\n",
       "      <td>2016-07-27T20:00:06.488509-07:00</td>\n",
       "      <td>96.0</td>\n",
       "      <td>1</td>\n",
       "    </tr>\n",
       "    <tr>\n",
       "      <th>28</th>\n",
       "      <td>2016-07-27T20:00:07.353193-07:00</td>\n",
       "      <td>96.0</td>\n",
       "      <td>1</td>\n",
       "    </tr>\n",
       "    <tr>\n",
       "      <th>29</th>\n",
       "      <td>2016-07-27T20:00:14.957868-07:00</td>\n",
       "      <td>96.0</td>\n",
       "      <td>1</td>\n",
       "    </tr>\n",
       "    <tr>\n",
       "      <th>...</th>\n",
       "      <td>...</td>\n",
       "      <td>...</td>\n",
       "      <td>...</td>\n",
       "    </tr>\n",
       "    <tr>\n",
       "      <th>79</th>\n",
       "      <td>2016-07-28T10:00:16.621038-07:00</td>\n",
       "      <td>37.0</td>\n",
       "      <td>1</td>\n",
       "    </tr>\n",
       "    <tr>\n",
       "      <th>80</th>\n",
       "      <td>2016-07-28T10:00:17.637211-07:00</td>\n",
       "      <td>37.0</td>\n",
       "      <td>1</td>\n",
       "    </tr>\n",
       "    <tr>\n",
       "      <th>81</th>\n",
       "      <td>2016-07-28T11:00:04.489567-07:00</td>\n",
       "      <td>32.0</td>\n",
       "      <td>1</td>\n",
       "    </tr>\n",
       "    <tr>\n",
       "      <th>82</th>\n",
       "      <td>2016-07-28T11:00:05.419927-07:00</td>\n",
       "      <td>32.0</td>\n",
       "      <td>1</td>\n",
       "    </tr>\n",
       "    <tr>\n",
       "      <th>83</th>\n",
       "      <td>2016-07-28T11:00:11.764010-07:00</td>\n",
       "      <td>32.0</td>\n",
       "      <td>1</td>\n",
       "    </tr>\n",
       "    <tr>\n",
       "      <th>84</th>\n",
       "      <td>2016-07-28T11:00:12.735267-07:00</td>\n",
       "      <td>32.0</td>\n",
       "      <td>1</td>\n",
       "    </tr>\n",
       "    <tr>\n",
       "      <th>85</th>\n",
       "      <td>2016-07-28T12:00:05.127390-07:00</td>\n",
       "      <td>28.0</td>\n",
       "      <td>1</td>\n",
       "    </tr>\n",
       "    <tr>\n",
       "      <th>86</th>\n",
       "      <td>2016-07-28T12:00:06.147808-07:00</td>\n",
       "      <td>28.0</td>\n",
       "      <td>1</td>\n",
       "    </tr>\n",
       "    <tr>\n",
       "      <th>87</th>\n",
       "      <td>2016-07-28T12:00:19.219467-07:00</td>\n",
       "      <td>28.0</td>\n",
       "      <td>1</td>\n",
       "    </tr>\n",
       "    <tr>\n",
       "      <th>88</th>\n",
       "      <td>2016-07-28T12:00:20.184620-07:00</td>\n",
       "      <td>28.0</td>\n",
       "      <td>1</td>\n",
       "    </tr>\n",
       "    <tr>\n",
       "      <th>89</th>\n",
       "      <td>2016-07-28T13:00:04.719431-07:00</td>\n",
       "      <td>23.0</td>\n",
       "      <td>1</td>\n",
       "    </tr>\n",
       "    <tr>\n",
       "      <th>90</th>\n",
       "      <td>2016-07-28T13:00:05.734812-07:00</td>\n",
       "      <td>23.0</td>\n",
       "      <td>1</td>\n",
       "    </tr>\n",
       "    <tr>\n",
       "      <th>91</th>\n",
       "      <td>2016-07-28T13:00:10.435152-07:00</td>\n",
       "      <td>23.0</td>\n",
       "      <td>1</td>\n",
       "    </tr>\n",
       "    <tr>\n",
       "      <th>92</th>\n",
       "      <td>2016-07-28T13:00:11.442929-07:00</td>\n",
       "      <td>23.0</td>\n",
       "      <td>1</td>\n",
       "    </tr>\n",
       "    <tr>\n",
       "      <th>93</th>\n",
       "      <td>2016-07-28T14:00:03.850668-07:00</td>\n",
       "      <td>19.0</td>\n",
       "      <td>1</td>\n",
       "    </tr>\n",
       "    <tr>\n",
       "      <th>94</th>\n",
       "      <td>2016-07-28T14:00:04.910500-07:00</td>\n",
       "      <td>19.0</td>\n",
       "      <td>1</td>\n",
       "    </tr>\n",
       "    <tr>\n",
       "      <th>95</th>\n",
       "      <td>2016-07-28T14:00:09.653945-07:00</td>\n",
       "      <td>19.0</td>\n",
       "      <td>1</td>\n",
       "    </tr>\n",
       "    <tr>\n",
       "      <th>96</th>\n",
       "      <td>2016-07-28T14:00:10.623462-07:00</td>\n",
       "      <td>19.0</td>\n",
       "      <td>1</td>\n",
       "    </tr>\n",
       "    <tr>\n",
       "      <th>97</th>\n",
       "      <td>2016-07-28T15:00:03.208064-07:00</td>\n",
       "      <td>15.0</td>\n",
       "      <td>1</td>\n",
       "    </tr>\n",
       "    <tr>\n",
       "      <th>98</th>\n",
       "      <td>2016-07-28T15:00:04.276080-07:00</td>\n",
       "      <td>15.0</td>\n",
       "      <td>1</td>\n",
       "    </tr>\n",
       "    <tr>\n",
       "      <th>99</th>\n",
       "      <td>2016-07-28T15:00:21.116579-07:00</td>\n",
       "      <td>15.0</td>\n",
       "      <td>1</td>\n",
       "    </tr>\n",
       "    <tr>\n",
       "      <th>100</th>\n",
       "      <td>2016-07-28T15:00:22.155446-07:00</td>\n",
       "      <td>15.0</td>\n",
       "      <td>1</td>\n",
       "    </tr>\n",
       "    <tr>\n",
       "      <th>101</th>\n",
       "      <td>2016-07-28T16:00:03.810666-07:00</td>\n",
       "      <td>10.0</td>\n",
       "      <td>1</td>\n",
       "    </tr>\n",
       "    <tr>\n",
       "      <th>102</th>\n",
       "      <td>2016-07-28T16:00:04.917439-07:00</td>\n",
       "      <td>10.0</td>\n",
       "      <td>1</td>\n",
       "    </tr>\n",
       "    <tr>\n",
       "      <th>103</th>\n",
       "      <td>2016-07-28T16:00:18.306904-07:00</td>\n",
       "      <td>10.0</td>\n",
       "      <td>1</td>\n",
       "    </tr>\n",
       "    <tr>\n",
       "      <th>104</th>\n",
       "      <td>2016-07-28T16:00:19.343409-07:00</td>\n",
       "      <td>10.0</td>\n",
       "      <td>1</td>\n",
       "    </tr>\n",
       "    <tr>\n",
       "      <th>105</th>\n",
       "      <td>2016-07-28T17:00:03.957864-07:00</td>\n",
       "      <td>6.0</td>\n",
       "      <td>1</td>\n",
       "    </tr>\n",
       "    <tr>\n",
       "      <th>106</th>\n",
       "      <td>2016-07-28T17:00:05.068250-07:00</td>\n",
       "      <td>6.0</td>\n",
       "      <td>1</td>\n",
       "    </tr>\n",
       "    <tr>\n",
       "      <th>107</th>\n",
       "      <td>2016-07-28T17:00:19.769952-07:00</td>\n",
       "      <td>6.0</td>\n",
       "      <td>1</td>\n",
       "    </tr>\n",
       "    <tr>\n",
       "      <th>108</th>\n",
       "      <td>2016-07-28T17:00:20.911289-07:00</td>\n",
       "      <td>6.0</td>\n",
       "      <td>1</td>\n",
       "    </tr>\n",
       "  </tbody>\n",
       "</table>\n",
       "<p>109 rows × 3 columns</p>\n",
       "</div>"
      ],
      "text/plain": [
       "                             fmt_time  battery_level_pct  battery_status\n",
       "0    2016-07-27T17:10:01.862705-07:00              100.0               3\n",
       "1    2016-07-27T17:10:03.244523-07:00              100.0               3\n",
       "2    2016-07-27T17:15:31.220024-07:00              100.0               3\n",
       "3    2016-07-27T17:15:32.208943-07:00              100.0               3\n",
       "4    2016-07-27T17:42:03.770242-07:00              100.0               3\n",
       "5    2016-07-27T17:42:03.868324-07:00              100.0               3\n",
       "6    2016-07-27T17:42:13.092449-07:00              100.0               3\n",
       "7    2016-07-27T17:42:13.153971-07:00              100.0               3\n",
       "8    2016-07-27T17:42:13.239209-07:00              100.0               3\n",
       "9    2016-07-27T17:42:13.691589-07:00              100.0               3\n",
       "10   2016-07-27T17:42:13.775513-07:00              100.0               3\n",
       "11   2016-07-27T17:42:18.233064-07:00              100.0               3\n",
       "12   2016-07-27T17:42:18.291993-07:00              100.0               3\n",
       "13   2016-07-27T17:42:18.390754-07:00              100.0               3\n",
       "14   2016-07-27T17:44:26.152599-07:00              100.0               3\n",
       "15   2016-07-27T17:44:26.229750-07:00              100.0               3\n",
       "16   2016-07-27T17:44:26.341592-07:00              100.0               3\n",
       "17   2016-07-27T17:44:26.402264-07:00              100.0               3\n",
       "18   2016-07-27T17:44:26.479293-07:00              100.0               3\n",
       "19   2016-07-27T18:00:04.040060-07:00              100.0               1\n",
       "20   2016-07-27T18:00:04.935148-07:00              100.0               1\n",
       "21   2016-07-27T18:00:18.826685-07:00              100.0               1\n",
       "22   2016-07-27T18:00:19.676819-07:00              100.0               1\n",
       "23   2016-07-27T19:00:02.600918-07:00              100.0               1\n",
       "24   2016-07-27T19:00:03.520241-07:00              100.0               1\n",
       "25   2016-07-27T19:00:10.327490-07:00              100.0               1\n",
       "26   2016-07-27T19:00:11.210679-07:00              100.0               1\n",
       "27   2016-07-27T20:00:06.488509-07:00               96.0               1\n",
       "28   2016-07-27T20:00:07.353193-07:00               96.0               1\n",
       "29   2016-07-27T20:00:14.957868-07:00               96.0               1\n",
       "..                                ...                ...             ...\n",
       "79   2016-07-28T10:00:16.621038-07:00               37.0               1\n",
       "80   2016-07-28T10:00:17.637211-07:00               37.0               1\n",
       "81   2016-07-28T11:00:04.489567-07:00               32.0               1\n",
       "82   2016-07-28T11:00:05.419927-07:00               32.0               1\n",
       "83   2016-07-28T11:00:11.764010-07:00               32.0               1\n",
       "84   2016-07-28T11:00:12.735267-07:00               32.0               1\n",
       "85   2016-07-28T12:00:05.127390-07:00               28.0               1\n",
       "86   2016-07-28T12:00:06.147808-07:00               28.0               1\n",
       "87   2016-07-28T12:00:19.219467-07:00               28.0               1\n",
       "88   2016-07-28T12:00:20.184620-07:00               28.0               1\n",
       "89   2016-07-28T13:00:04.719431-07:00               23.0               1\n",
       "90   2016-07-28T13:00:05.734812-07:00               23.0               1\n",
       "91   2016-07-28T13:00:10.435152-07:00               23.0               1\n",
       "92   2016-07-28T13:00:11.442929-07:00               23.0               1\n",
       "93   2016-07-28T14:00:03.850668-07:00               19.0               1\n",
       "94   2016-07-28T14:00:04.910500-07:00               19.0               1\n",
       "95   2016-07-28T14:00:09.653945-07:00               19.0               1\n",
       "96   2016-07-28T14:00:10.623462-07:00               19.0               1\n",
       "97   2016-07-28T15:00:03.208064-07:00               15.0               1\n",
       "98   2016-07-28T15:00:04.276080-07:00               15.0               1\n",
       "99   2016-07-28T15:00:21.116579-07:00               15.0               1\n",
       "100  2016-07-28T15:00:22.155446-07:00               15.0               1\n",
       "101  2016-07-28T16:00:03.810666-07:00               10.0               1\n",
       "102  2016-07-28T16:00:04.917439-07:00               10.0               1\n",
       "103  2016-07-28T16:00:18.306904-07:00               10.0               1\n",
       "104  2016-07-28T16:00:19.343409-07:00               10.0               1\n",
       "105  2016-07-28T17:00:03.957864-07:00                6.0               1\n",
       "106  2016-07-28T17:00:05.068250-07:00                6.0               1\n",
       "107  2016-07-28T17:00:19.769952-07:00                6.0               1\n",
       "108  2016-07-28T17:00:20.911289-07:00                6.0               1\n",
       "\n",
       "[109 rows x 3 columns]"
      ]
     },
     "execution_count": 5,
     "metadata": {},
     "output_type": "execute_result"
    }
   ],
   "source": [
    "iphone_test = iphone_battery_df_list[0]\n",
    "iphone_test[['fmt_time', 'battery_level_pct', 'battery_status']]\n",
    "#iphone_test\n",
    "#len(iphone_test)"
   ]
  },
  {
   "cell_type": "code",
   "execution_count": 6,
   "metadata": {
    "collapsed": true
   },
   "outputs": [],
   "source": [
    "def get_ranges_df(battery_df, state_df):\n",
    "    #the experiment runs until the battery drains completely\n",
    "    #so start_ts should be the last time it was reported 100% battery level\n",
    "    full_df = battery_df[battery_df.battery_level_pct == 100]\n",
    "    last_full_ts = full_df.iloc[-1].ts \n",
    "    \n",
    "    start_ts = last_full_ts\n",
    "    \n",
    "    charging_df = battery_df[battery_df.battery_status == 2]\n",
    "    if len(charging_df) != 0:\n",
    "        first_charging_ts = charging_df.iloc[0].ts\n",
    "        end_ts = first_charging_ts\n",
    "    else:\n",
    "        end_ts = battery_df.iloc[-1].ts\n",
    "    \n",
    "    #find start_ts & end_ts for the period when battery_status=1=discharging\n",
    "    #discharging_df = battery_df[battery_df.battery_status == 1]\n",
    "    #discharging_df.reset_index(inplace=True)\n",
    "    #start_ts = discharging_df.iloc[0].ts\n",
    "    #end_ts = discharging_df.iloc[-1].ts\n",
    "    \n",
    "    ranges_df = pd.DataFrame({'start_ts': [start_ts], 'end_ts': [end_ts]})\n",
    "    return ranges_df"
   ]
  },
  {
   "cell_type": "code",
   "execution_count": 7,
   "metadata": {
    "collapsed": true
   },
   "outputs": [],
   "source": [
    "def get_ranges_df_list(battery_df_list, state_df_list):\n",
    "    ranges_df_list = []\n",
    "    length = len(battery_df_list)\n",
    "    for i in range(0, length):\n",
    "        ranges_df_list.append(get_ranges_df(battery_df_list[i], state_df_list[i]))\n",
    "    return ranges_df_list"
   ]
  },
  {
   "cell_type": "code",
   "execution_count": 8,
   "metadata": {
    "collapsed": false
   },
   "outputs": [
    {
     "data": {
      "text/html": [
       "<div>\n",
       "<table border=\"1\" class=\"dataframe\">\n",
       "  <thead>\n",
       "    <tr style=\"text-align: right;\">\n",
       "      <th></th>\n",
       "      <th>end_ts</th>\n",
       "      <th>start_ts</th>\n",
       "      <th>start_dt</th>\n",
       "      <th>end_dt</th>\n",
       "    </tr>\n",
       "  </thead>\n",
       "  <tbody>\n",
       "    <tr>\n",
       "      <th>0</th>\n",
       "      <td>1.469750e+09</td>\n",
       "      <td>1.469671e+09</td>\n",
       "      <td>2016-07-27 19:00:11.210679</td>\n",
       "      <td>2016-07-28 17:00:20.911289</td>\n",
       "    </tr>\n",
       "    <tr>\n",
       "      <th>0</th>\n",
       "      <td>1.469750e+09</td>\n",
       "      <td>1.469668e+09</td>\n",
       "      <td>2016-07-27 18:00:18.670603</td>\n",
       "      <td>2016-07-28 17:00:23.909602</td>\n",
       "    </tr>\n",
       "    <tr>\n",
       "      <th>0</th>\n",
       "      <td>1.469750e+09</td>\n",
       "      <td>1.469668e+09</td>\n",
       "      <td>2016-07-27 18:00:21.323733</td>\n",
       "      <td>2016-07-28 17:00:21.667424</td>\n",
       "    </tr>\n",
       "    <tr>\n",
       "      <th>0</th>\n",
       "      <td>1.469747e+09</td>\n",
       "      <td>1.469668e+09</td>\n",
       "      <td>2016-07-27 18:00:20.767368</td>\n",
       "      <td>2016-07-28 16:00:20.195474</td>\n",
       "    </tr>\n",
       "  </tbody>\n",
       "</table>\n",
       "</div>"
      ],
      "text/plain": [
       "         end_ts      start_ts                   start_dt  \\\n",
       "0  1.469750e+09  1.469671e+09 2016-07-27 19:00:11.210679   \n",
       "0  1.469750e+09  1.469668e+09 2016-07-27 18:00:18.670603   \n",
       "0  1.469750e+09  1.469668e+09 2016-07-27 18:00:21.323733   \n",
       "0  1.469747e+09  1.469668e+09 2016-07-27 18:00:20.767368   \n",
       "\n",
       "                      end_dt  \n",
       "0 2016-07-28 17:00:20.911289  \n",
       "0 2016-07-28 17:00:23.909602  \n",
       "0 2016-07-28 17:00:21.667424  \n",
       "0 2016-07-28 16:00:20.195474  "
      ]
     },
     "execution_count": 8,
     "metadata": {},
     "output_type": "execute_result"
    }
   ],
   "source": [
    "iphone_ranges_df_list = get_ranges_df_list(iphone_battery_df_list, iphone_state_df_list)\n",
    "\n",
    "#iphone_concat_ranges_df = pd.concat([iphone_ranges_df_list[0], iphone_ranges_df_list[1], iphone_ranges_df_list[2], iphone_ranges_df_list[3]])\n",
    "#print iphone_concat_ranges_df\n",
    "\n",
    "iphone_ranges_df = pd.DataFrame()\n",
    "for df in iphone_ranges_df_list:\n",
    "    iphone_ranges_df = iphone_ranges_df.append(df)\n",
    "\n",
    "ts_to_dt = lambda t: pydt.datetime.fromtimestamp(t)\n",
    "iphone_ranges_df['start_dt'] = iphone_ranges_df.start_ts.apply(ts_to_dt)\n",
    "iphone_ranges_df['end_dt'] = iphone_ranges_df.end_ts.apply(ts_to_dt)\n",
    "\n",
    "iphone_ranges_df"
   ]
  },
  {
   "cell_type": "code",
   "execution_count": 9,
   "metadata": {
    "collapsed": false
   },
   "outputs": [
    {
     "data": {
      "text/html": [
       "<div>\n",
       "<table border=\"1\" class=\"dataframe\">\n",
       "  <thead>\n",
       "    <tr style=\"text-align: right;\">\n",
       "      <th></th>\n",
       "      <th>end_ts</th>\n",
       "      <th>start_ts</th>\n",
       "      <th>start_dt</th>\n",
       "      <th>end_dt</th>\n",
       "    </tr>\n",
       "  </thead>\n",
       "  <tbody>\n",
       "    <tr>\n",
       "      <th>0</th>\n",
       "      <td>1.469747e+09</td>\n",
       "      <td>1.469667e+09</td>\n",
       "      <td>2016-07-27 17:48:12.748</td>\n",
       "      <td>2016-07-28 15:55:29.701</td>\n",
       "    </tr>\n",
       "    <tr>\n",
       "      <th>0</th>\n",
       "      <td>1.469746e+09</td>\n",
       "      <td>1.469667e+09</td>\n",
       "      <td>2016-07-27 17:48:26.295</td>\n",
       "      <td>2016-07-28 15:54:54.016</td>\n",
       "    </tr>\n",
       "    <tr>\n",
       "      <th>0</th>\n",
       "      <td>1.469747e+09</td>\n",
       "      <td>1.469667e+09</td>\n",
       "      <td>2016-07-27 17:48:42.487</td>\n",
       "      <td>2016-07-28 15:56:03.059</td>\n",
       "    </tr>\n",
       "    <tr>\n",
       "      <th>0</th>\n",
       "      <td>1.469747e+09</td>\n",
       "      <td>1.469667e+09</td>\n",
       "      <td>2016-07-27 17:46:23.459</td>\n",
       "      <td>2016-07-28 15:55:05.418</td>\n",
       "    </tr>\n",
       "  </tbody>\n",
       "</table>\n",
       "</div>"
      ],
      "text/plain": [
       "         end_ts      start_ts                start_dt                  end_dt\n",
       "0  1.469747e+09  1.469667e+09 2016-07-27 17:48:12.748 2016-07-28 15:55:29.701\n",
       "0  1.469746e+09  1.469667e+09 2016-07-27 17:48:26.295 2016-07-28 15:54:54.016\n",
       "0  1.469747e+09  1.469667e+09 2016-07-27 17:48:42.487 2016-07-28 15:56:03.059\n",
       "0  1.469747e+09  1.469667e+09 2016-07-27 17:46:23.459 2016-07-28 15:55:05.418"
      ]
     },
     "execution_count": 9,
     "metadata": {},
     "output_type": "execute_result"
    }
   ],
   "source": [
    "android_ranges_df_list = get_ranges_df_list(android_battery_df_list, android_state_df_list)\n",
    "\n",
    "#android_concat_ranges_df = pd.concat([ranges_df_list[0], ranges_df_list[1], ranges_df_list[2], ranges_df_list[3]])\n",
    "#android_concat_ranges_df\n",
    "\n",
    "android_ranges_df = pd.DataFrame()\n",
    "for df in android_ranges_df_list:\n",
    "    android_ranges_df = android_ranges_df.append(df)\n",
    "    \n",
    "ts_to_dt = lambda t: pydt.datetime.fromtimestamp(t)\n",
    "android_ranges_df['start_dt'] = android_ranges_df.start_ts.apply(ts_to_dt)\n",
    "android_ranges_df['end_dt'] = android_ranges_df.end_ts.apply(ts_to_dt)\n",
    "    \n",
    "android_ranges_df"
   ]
  },
  {
   "cell_type": "code",
   "execution_count": 10,
   "metadata": {
    "collapsed": false
   },
   "outputs": [
    {
     "name": "stdout",
     "output_type": "stream",
     "text": [
      "iphone_start_ts=2016-07-27 19:00:11.210679\n",
      "iphone_end_ts=2016-07-28 17:00:20.195474\n",
      "22.0024957763\n"
     ]
    }
   ],
   "source": [
    "iphone_start_ts = iphone_ranges_df.start_ts.max() \n",
    "iphone_end_ts = iphone_ranges_df.end_ts.min() + 60*60\n",
    "i_t1 = pydt.datetime.fromtimestamp(iphone_start_ts)\n",
    "i_t2 = pydt.datetime.fromtimestamp(iphone_end_ts)\n",
    "print 'iphone_start_ts=' + str(i_t1) + '\\n' + 'iphone_end_ts=' + str(i_t2)\n",
    "print  (iphone_end_ts-iphone_start_ts)/3600.0"
   ]
  },
  {
   "cell_type": "code",
   "execution_count": 11,
   "metadata": {
    "collapsed": false
   },
   "outputs": [
    {
     "name": "stdout",
     "output_type": "stream",
     "text": [
      "android_start_ts=2016-07-27 17:46:23.459000\n",
      "android_end_ts=2016-07-28 15:54:54.016000\n",
      "22.1418213889\n"
     ]
    }
   ],
   "source": [
    "android_start_ts = android_ranges_df.start_ts.min() \n",
    "android_end_ts = android_ranges_df.end_ts.min() \n",
    "a_t1 = pydt.datetime.fromtimestamp(android_start_ts)\n",
    "a_t2 = pydt.datetime.fromtimestamp(android_end_ts)\n",
    "print 'android_start_ts=' + str(a_t1) + '\\n' + 'android_end_ts=' + str(a_t2)\n",
    "print  (android_end_ts-android_start_ts)/3600.0"
   ]
  },
  {
   "cell_type": "code",
   "execution_count": 12,
   "metadata": {
    "collapsed": false
   },
   "outputs": [
    {
     "name": "stdout",
     "output_type": "stream",
     "text": [
      "89\n"
     ]
    }
   ],
   "source": [
    "import numpy as np\n",
    "\n",
    "iphone_xnew = np.arange(iphone_start_ts, iphone_end_ts, 15 * 60) # 15 minutes\n",
    "print len(iphone_xnew)"
   ]
  },
  {
   "cell_type": "code",
   "execution_count": 13,
   "metadata": {
    "collapsed": false
   },
   "outputs": [
    {
     "name": "stdout",
     "output_type": "stream",
     "text": [
      "<type 'numpy.ndarray'>\n"
     ]
    }
   ],
   "source": [
    "android_xnew = np.arange(android_start_ts, android_end_ts, 15 * 60) # 15 minutes\n",
    "print type(android_xnew)"
   ]
  },
  {
   "cell_type": "code",
   "execution_count": 14,
   "metadata": {
    "collapsed": true
   },
   "outputs": [],
   "source": [
    "import scipy.interpolate as spi\n",
    "import numpy as np\n",
    "\n",
    "def get_interpolated(x, y, xnew):\n",
    "    # fn = spi.interp1d(x=x, y=y, bounds_error=False, fill_value=y.iloc[-1])\n",
    "    fn = spi.interp1d(x=x, y=y, bounds_error=False)\n",
    "    #This class returns a function whose call method uses interpolation to find the value of new points.\n",
    "    return fn(xnew)"
   ]
  },
  {
   "cell_type": "code",
   "execution_count": 15,
   "metadata": {
    "collapsed": true
   },
   "outputs": [],
   "source": [
    "def get_interpolated_df(sensor_df, xnew):\n",
    "    local_dt_new = map(pydt.datetime.fromtimestamp, xnew)\n",
    "    fmt_time_new = map(lambda dt: dt.isoformat(), local_dt_new)\n",
    "    #date.isoformat() Return a string representing the date in ISO 8601 format, ‘YYYY-MM-DD’. \n",
    "    # -For example, date(2002, 12, 4).isoformat() == '2002-12-04'.\n",
    "    interpolated_series = get_interpolated(sensor_df.ts, sensor_df.battery_level_pct, xnew)\n",
    "    # print \"interpolated_series = %s\" % interpolated_series\n",
    "    interpolated_df = pd.DataFrame(data={'ts': xnew, 'metadata_write_ts': xnew, 'local_dt': local_dt_new, 'fmt_time': fmt_time_new, 'battery_level_pct': interpolated_series})\n",
    "    return interpolated_df"
   ]
  },
  {
   "cell_type": "code",
   "execution_count": 16,
   "metadata": {
    "collapsed": false
   },
   "outputs": [],
   "source": [
    "iphone_battery_interp_df_list = map(lambda df: get_interpolated_df(df, iphone_xnew), iphone_battery_df_list)\n"
   ]
  },
  {
   "cell_type": "code",
   "execution_count": 17,
   "metadata": {
    "collapsed": false
   },
   "outputs": [],
   "source": [
    "android_battery_interp_df_list = map(lambda df: get_interpolated_df(df, android_xnew), android_battery_df_list)"
   ]
  },
  {
   "cell_type": "code",
   "execution_count": 18,
   "metadata": {
    "collapsed": true
   },
   "outputs": [],
   "source": [
    "label = ['1hr', '1hr', '1hr', '1hr']\n",
    "style = ['ob', 'og', 'or', 'oc']\n",
    "title = \"TrackingOn_Stationary_HAFS \"\n",
    "\n",
    "ts_to_dt = lambda t: pydt.datetime.fromtimestamp(t)"
   ]
  },
  {
   "cell_type": "code",
   "execution_count": 19,
   "metadata": {
    "collapsed": false
   },
   "outputs": [
    {
     "name": "stdout",
     "output_type": "stream",
     "text": [
      "About to plot 0\n",
      "About to plot 1\n",
      "About to plot 2\n",
      "About to plot 3\n"
     ]
    },
    {
     "data": {
      "image/png": "[encoded data removed]",
      "text/plain": [
       "<matplotlib.figure.Figure at 0x116677410>"
      ]
     },
     "metadata": {},
     "output_type": "display_data"
    }
   ],
   "source": [
    "#iOS: No interplation on battery data\n",
    "(afig, aaxes2d) = plt.subplots(ncols=1, nrows=4, sharex=True, sharey=True, figsize=(16,6))\n",
    "aaxes = aaxes2d.flatten()\n",
    "\n",
    "afig.suptitle(title + '(raw iOS data)', fontsize=14, fontweight='bold')\n",
    "\n",
    "for i, df in enumerate(iphone_battery_df_list):\n",
    "    print \"About to plot %d\" % i\n",
    "    df['hr'] = (df.ts-iphone_start_ts)/3600.0\n",
    "    df.plot(x='hr', y='battery_level_pct', style=style[i], ax=aaxes[i], label=\"iphone-%s (1hr)\" % (i+1))\n",
    "    aaxes[i].set_xlabel('Hours')\n",
    "    aaxes[i].set_ylabel('Batery Level')\n",
    "    aaxes[i].set_xlim(left=0)\n",
    "    #plt.xticks(np.arange(0, max(df['hr'])+2, 2.0))\n",
    "    \n",
    "#afig.savefig('scatter_Apr_2-3_iOS.png')"
   ]
  },
  {
   "cell_type": "code",
   "execution_count": 29,
   "metadata": {
    "collapsed": false
   },
   "outputs": [
    {
     "name": "stdout",
     "output_type": "stream",
     "text": [
      "About to plot 0\n",
      "About to plot 1\n",
      "About to plot 2\n",
      "About to plot 3\n",
      "ios 0: slope=-0.00119510182328 r_value=-0.999899142519\n",
      "ios 1: slope=-0.00117931638385 r_value=-0.999863948044\n",
      "ios 2: slope=-0.00121647028103 r_value=-0.999900691456\n",
      "ios 3: slope=-0.00128355368796 r_value=-0.999932270738\n"
     ]
    },
    {
     "data": {
      "image/png": "[encoded data removed]",
      "text/plain": [
       "<matplotlib.figure.Figure at 0x1198b2d10>"
      ]
     },
     "metadata": {},
     "output_type": "display_data"
    }
   ],
   "source": [
    "#iOS: With interplation on battery data \n",
    "(ifig, iaxes2d) = plt.subplots(ncols=1, nrows=1, figsize=(16,6))\n",
    "iaxes = iaxes2d\n",
    "ifig.suptitle(title + '(iOS_interpolated)', fontsize=14, fontweight='bold')\n",
    "\n",
    "for i, df in enumerate(iphone_battery_interp_df_list):\n",
    "    print \"About to plot %d\" % i\n",
    "    df['hr'] = (df.ts-iphone_start_ts)/3600.0\n",
    "    df.plot(x='hr', y='battery_level_pct', ax=iaxes, xlim=(0, 7), label=\"iphone-%s (1hr)\" % (i+1))\n",
    "    iaxes.set_xlabel('Hours')\n",
    "    iaxes.set_ylabel('Batery Level')\n",
    "    plt.xticks(np.arange(0, max(df['hr']), 2.0))\n",
    "\n",
    "#ifig.savefig('interp_Apr_2-3_iOS.png') \n",
    "\n",
    "from scipy import stats\n",
    "for i, df in enumerate(iphone_battery_interp_df_list):\n",
    "    notnull = df.battery_level_pct.notnull()\n",
    "    slope, intercept, r_value, p_value, std_err = stats.linregress(df.ts[notnull], df.battery_level_pct[notnull])\n",
    "    print \"ios %d: \" % i  + \"slope=\"+str(slope) + \" r_value=\"+str(r_value)"
   ]
  },
  {
   "cell_type": "code",
   "execution_count": 24,
   "metadata": {
    "collapsed": false
   },
   "outputs": [
    {
     "name": "stdout",
     "output_type": "stream",
     "text": [
      "About to plot 0\n",
      "About to plot 1\n",
      "About to plot 2\n",
      "About to plot 3\n",
      "About to plot 0\n",
      "About to plot 1\n",
      "About to plot 2\n",
      "About to plot 3\n"
     ]
    },
    {
     "data": {
      "image/png": "[encoded data removed]",
      "text/plain": [
       "<matplotlib.figure.Figure at 0x11a573b50>"
      ]
     },
     "metadata": {},
     "output_type": "display_data"
    }
   ],
   "source": [
    "(ifig, iaxes2d) = plt.subplots(ncols=1, nrows=1, figsize=(16,6))\n",
    "iaxes = iaxes2d\n",
    "ifig.suptitle(title + '(iOS_overlaid)', fontsize=14, fontweight='bold')\n",
    "\n",
    "for i, df in enumerate(iphone_battery_interp_df_list):\n",
    "    print \"About to plot %d\" % i\n",
    "    df.plot(x='hr', y='battery_level_pct', ax=iaxes, xlim=(0, 22), label=\"iphone-%s (1hr)\" % (i+1), legend=True)\n",
    "\n",
    "for i, df in enumerate(iphone_battery_df_list):\n",
    "    print \"About to plot %d\" % i\n",
    "    df.plot(x='hr', y='battery_level_pct', style=style[i], ax=iaxes, xlim=(0, 22), legend=False)\n",
    "    iaxes.set_xlabel('Hours')\n",
    "    iaxes.set_ylabel('Batery Level')\n",
    "    plt.xticks(np.arange(0, 22, 2.0))\n",
    "\n",
    "    \n",
    "#ifig.savefig('overlaid_Apr_2-3_iOS.png')  "
   ]
  },
  {
   "cell_type": "code",
   "execution_count": 25,
   "metadata": {
    "collapsed": false
   },
   "outputs": [
    {
     "name": "stdout",
     "output_type": "stream",
     "text": [
      "[[ 1.          0.99993974  0.99990014         nan]\n",
      " [ 0.99993974  1.          0.99985224         nan]\n",
      " [ 0.99990014  0.99985224  1.                 nan]\n",
      " [        nan         nan         nan         nan]]\n"
     ]
    },
    {
     "data": {
      "text/plain": [
       "<matplotlib.colorbar.Colorbar at 0x114dd2690>"
      ]
     },
     "execution_count": 25,
     "metadata": {},
     "output_type": "execute_result"
    },
    {
     "data": {
      "image/png": "[encoded data removed]",
      "text/plain": [
       "<matplotlib.figure.Figure at 0x11a537fd0>"
      ]
     },
     "metadata": {},
     "output_type": "display_data"
    }
   ],
   "source": [
    "#iOS\n",
    "#correlation analysis \n",
    "#generate list of iphone battery series \n",
    "iphone_battery_series_list = map(lambda b: b.battery_level_pct, iphone_battery_interp_df_list)\n",
    "print np.corrcoef(iphone_battery_series_list)\n",
    "plt.matshow(np.corrcoef(iphone_battery_series_list), cmap=plt.cm.gray)\n",
    "plt.colorbar()"
   ]
  },
  {
   "cell_type": "code",
   "execution_count": 26,
   "metadata": {
    "collapsed": false
   },
   "outputs": [
    {
     "name": "stdout",
     "output_type": "stream",
     "text": [
      "4\n",
      "About to plot 0\n",
      "About to plot 1\n",
      "About to plot 2\n",
      "About to plot 3\n"
     ]
    },
    {
     "data": {
      "image/png": "[encoded data removed]",
      "text/plain": [
       "<matplotlib.figure.Figure at 0x11b6bbd50>"
      ]
     },
     "metadata": {},
     "output_type": "display_data"
    }
   ],
   "source": [
    "#Android: No interplation on battery data \n",
    "print len(android_battery_df_list)\n",
    "(afig, aaxes2d) = plt.subplots(ncols=1, nrows=4, sharex=True, sharey=True, figsize=(16,6))\n",
    "aaxes = aaxes2d.flatten()\n",
    "\n",
    "afig.suptitle(title + '(raw Android data)', fontsize=14, fontweight='bold')\n",
    "\n",
    "for i, df in enumerate(android_battery_df_list):\n",
    "    print \"About to plot %d\" % i\n",
    "    df['dt'] = df.ts.apply(ts_to_dt)\n",
    "    df['hr'] = (df.ts-android_start_ts)/3600.0\n",
    "    df.plot(x='hr', y='battery_level_pct', style=style[i], ax=aaxes[i], label=\"android.%s (1hr)\" % (i+1))\n",
    "    aaxes[i].set_xlabel('Hours')\n",
    "    aaxes[i].set_ylabel('Batery Level')\n",
    "    aaxes[i].set_xlim(left=0)\n",
    "    #plt.xticks(np.arange(0, max(df['hr'])+2, 1))\n",
    "    \n",
    "#afig.savefig('scatter_Apr_2-3_Android.png')"
   ]
  },
  {
   "cell_type": "code",
   "execution_count": 35,
   "metadata": {
    "collapsed": false
   },
   "outputs": [
    {
     "name": "stdout",
     "output_type": "stream",
     "text": [
      "About to plot 0\n",
      "About to plot 1\n",
      "About to plot 2\n",
      "About to plot 3\n",
      "android 0: slope=-4.47408799847 r_value=-0.938110956657\n",
      "android 1: slope=-4.67797128044 r_value=-0.965353495585\n",
      "android 2: slope=-4.62004305746 r_value=-0.996355085289\n",
      "android 3: slope=-4.17223875981 r_value=-0.996133966372\n"
     ]
    },
    {
     "data": {
      "image/png": "[encoded data removed]",
      "text/plain": [
       "<matplotlib.figure.Figure at 0x118f5c610>"
      ]
     },
     "metadata": {},
     "output_type": "display_data"
    }
   ],
   "source": [
    "#Android: With interplation on battery data \n",
    "(ifig, iaxes2d) = plt.subplots(ncols=1, nrows=1, figsize=(16,6))\n",
    "iaxes = iaxes2d\n",
    "\n",
    "ifig.suptitle(title + '(Android_interpolated)', fontsize=14, fontweight='bold')\n",
    "\n",
    "for i, df in enumerate(android_battery_interp_df_list):\n",
    "    print \"About to plot %d\" % i\n",
    "    df['hr'] = (df.ts-android_start_ts)/3600.0\n",
    "    df.plot(x='hr', y='battery_level_pct', ax=iaxes, xlim=(0, 14), label=\"android-%s (1hr)\" % (i+1))\n",
    "    iaxes.set_xlabel('Hours')\n",
    "    iaxes.set_ylabel('Batery Level')\n",
    "    #plt.xticks(np.arange(0, 14, 2))\n",
    "    \n",
    "#ifig.savefig('interp_Apr_2-3_Android.png')    \n",
    "from scipy import stats\n",
    "for i, df in enumerate(android_battery_interp_df_list):\n",
    "    notnull = df.battery_level_pct.notnull()\n",
    "    slope, intercept, r_value, p_value, std_err = stats.linregress(df.ts[notnull], df.battery_level_pct[notnull])\n",
    "    print \"android %d: \" % i  + \"slope=\"+str(slope*60*60) + \" r_value=\"+str(r_value)"
   ]
  },
  {
   "cell_type": "code",
   "execution_count": null,
   "metadata": {
    "collapsed": false
   },
   "outputs": [],
   "source": [
    "#Android: With interplation on battery data \n",
    "(ifig, iaxes2d) = plt.subplots(ncols=1, nrows=1, figsize=(16,6))\n",
    "iaxes = iaxes2d\n",
    "\n",
    "ifig.suptitle(title + '(Android_overlaid)', fontsize=14, fontweight='bold')\n",
    "\n",
    "for i, df in enumerate(android_battery_interp_df_list):\n",
    "    print \"About to plot %d\" % i\n",
    "    df.plot(x='hr', y='battery_level_pct', ax=iaxes, xlim=(0, 1), label=\"Android-%s (1hr)\" % (i+1), legend=True)\n",
    "\n",
    "\n",
    "for i, df in enumerate(android_battery_df_list):\n",
    "    print \"About to plot %d\" % i\n",
    "    df.plot(x='hr', y='battery_level_pct', style=style[i], ax=iaxes, xlim=(0, 14), legend=False)\n",
    "    iaxes.set_xlabel('Hours')\n",
    "    iaxes.set_ylabel('Batery Level')\n",
    "    #plt.xticks(np.arange(0, max(df['hr'])+1, 2))\n",
    "    #plt.xticks(np.arange(min(df.dt), max(df.dt), 1))\n",
    "    \n",
    "#ifig.savefig('overlaid_Apr_2-3_Android.png') "
   ]
  },
  {
   "cell_type": "code",
   "execution_count": null,
   "metadata": {
    "collapsed": false
   },
   "outputs": [],
   "source": [
    "#Android \n",
    "#correlation analysis(tracking_off+stationary)\n",
    "#generate list of android battery series \n",
    "android_battery_series_list = map(lambda b: b.battery_level_pct, android_battery_interp_df_list)\n",
    "print np.corrcoef(android_battery_series_list)\n",
    "plt.matshow(np.corrcoef(android_battery_series_list), cmap=plt.cm.gray)\n",
    "plt.colorbar()"
   ]
  },
  {
   "cell_type": "code",
   "execution_count": null,
   "metadata": {
    "collapsed": false
   },
   "outputs": [],
   "source": [
    "l = [1,2]\n",
    "len(l)"
   ]
  },
  {
   "cell_type": "code",
   "execution_count": null,
   "metadata": {
    "collapsed": false
   },
   "outputs": [],
   "source": [
    "l.append(3)\n",
    "l\n",
    "len(l)"
   ]
  },
  {
   "cell_type": "code",
   "execution_count": null,
   "metadata": {
    "collapsed": true
   },
   "outputs": [],
   "source": [
    "iphone_ts = map(lambda u: esta.TimeSeries.get_time_series(u), iphone_ids)\n",
    "android_ts = map(lambda u: esta.TimeSeries.get_time_series(u), android_ids)\n",
    "\n",
    "iphone_time_range = estt.TimeQuery(\"metadata.write_ts\", iphone_start_ts, iphone_end_ts)\n",
    "android_time_range = estt.TimeQuery(\"metadata.write_ts\", android_start_ts, android_end_ts)\n",
    "\n",
    "iphone_battery_df_discharge_list = map(lambda t:t.get_data_df(\"background/battery\", iphone_time_range), iphone_ts)\n",
    "android_battery_df_discharge_list = map(lambda t:t.get_data_df(\"background/battery\", android_time_range), android_ts)"
   ]
  },
  {
   "cell_type": "code",
   "execution_count": null,
   "metadata": {
    "collapsed": false
   },
   "outputs": [],
   "source": [
    "import numpy as np\n",
    "itest = android_battery_df_discharge_list[3]\n",
    "#print itest.battery_level_pct\n",
    "print type(itest.battery_level_pct) #<class 'pandas.core.series.Series'>\n",
    "b = itest.battery_level_pct\n",
    "delta_b = np.diff(itest.battery_level_pct)\n",
    "delta_b = np.insert(delta_b, 0, 1)\n",
    "#print delta_b\n",
    "ts = itest.metadata_write_ts\n",
    "\n",
    "rate_df = pd.DataFrame({'delta_b':delta_b, 'ts':ts, 'b':b})\n",
    "rate_df = rate_df[rate_df.delta_b!=0]\n",
    "print delta_b\n",
    "delta_b = rate_df.delta_b[1:]\n",
    "delta_t = np.diff(rate_df.ts)/3600 #convert from seconds to hrs \n",
    "print len(delta_b)\n",
    "print len(delta_t)\n",
    "slope_df = pd.DataFrame({'delta_b':delta_b, 'delta_t':delta_t})\n",
    "slope_df['slope'] = delta_b/delta_t\n",
    "slope_df['ts'] = rate_df.ts[1:]\n",
    "slope_df['fmt_time'] = slope_df.ts.apply(ts_to_dt)\n",
    "slope_df['b'] = rate_df.b[1:]\n",
    "\n",
    "#remove outliners \n",
    "slope_df = slope_df[slope_df.slope>-10 ]\n",
    "slope_df = slope_df[slope_df.slope<-2 ]\n",
    "\n",
    "print slope_df\n",
    "\n",
    "#_, breaks=np.histogram(df.MAT,bins=1)\n",
    "#(ifig, iaxes2d) = plt.subplots(ncols=1, nrows=1, figsize=(16,6))\n",
    "#iaxes = iaxes2d\n",
    "ax = slope_df.boxplot(column='slope')\n",
    "slope_df.slope.describe()"
   ]
  },
  {
   "cell_type": "code",
   "execution_count": null,
   "metadata": {
    "collapsed": true
   },
   "outputs": [],
   "source": []
  }
 ],
 "metadata": {
  "kernelspec": {
   "display_name": "Python 2",
   "language": "python",
   "name": "python2"
  },
  "language_info": {
   "codemirror_mode": {
    "name": "ipython",
    "version": 2
   },
   "file_extension": ".py",
   "mimetype": "text/x-python",
   "name": "python",
   "nbconvert_exporter": "python",
   "pygments_lexer": "ipython2",
   "version": "2.7.11"
  }
 },
 "nbformat": 4,
 "nbformat_minor": 0
}
